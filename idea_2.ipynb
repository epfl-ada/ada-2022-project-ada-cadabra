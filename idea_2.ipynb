{
 "cells": [
  {
   "attachments": {},
   "cell_type": "markdown",
   "metadata": {},
   "source": [
    "In this part we wanted to explore whether a good beer is a good beer everywhere? In other words is a beer that is well rated preceived as good everywhere or rather does where you live and culture affect how you rate a beer. Do your country, entourage, habits make you like a beer more or less?\n",
    "\n",
    "Culture can play a role in how an individual perceives and rates a beer, as cultural influences can shape an individual's taste preferences and expectations for different types of beer. For example, a person from a culture with a strong tradition of brewing and consuming hoppy beers may have different preferences and expectations for a hoppy beer compared to someone from a culture with a different tradition.\n",
    "\n",
    "It's important to note that these cultural influences are just one factor among many that can affect an individual's rating of a beer but we thought this was one of the most interesting factors affecting how you could rate a beer given the data we have."
   ]
  },
  {
   "cell_type": "code",
   "execution_count": 227,
   "metadata": {},
   "outputs": [],
   "source": [
    "#reading data\n",
    "import gzip \n",
    "\n",
    "#manipulating data \n",
    "import pandas as pd\n",
    "import numpy as np\n",
    "import datetime\n",
    "\n",
    "#plotting\n",
    "import matplotlib.pyplot as plt\n",
    "import seaborn as sns\n",
    "import matplotlib.cm as cm\n",
    "import matplotlib.colors as colors\n",
    "from math import pi\n",
    "\n",
    "import plotly.express as px\n",
    "import plotly.graph_objects as go\n",
    "\n",
    "import random\n",
    "\n",
    "\n",
    "#clustering\n",
    "from sklearn.cluster import KMeans\n",
    "from sklearn.preprocessing import normalize\n",
    "\n",
    "#creating a map \n",
    "import folium \n",
    "\n",
    "#pca\n",
    "from pca import pca\n",
    "\n",
    "#numpy normalize\n",
    "from numpy.linalg import norm"
   ]
  },
  {
   "cell_type": "code",
   "execution_count": 3,
   "metadata": {},
   "outputs": [],
   "source": [
    "PATH= '../'"
   ]
  },
  {
   "attachments": {},
   "cell_type": "markdown",
   "metadata": {},
   "source": [
    "We start by loading both dataframes from BeerAdvocate and RateBeer:"
   ]
  },
  {
   "cell_type": "code",
   "execution_count": 12,
   "metadata": {},
   "outputs": [],
   "source": [
    "df_BA_reviews = pd.read_csv('../DataframeStorage/df_BA_reviews.csv')\n",
    "df_BA_reviews['date'] = pd.to_datetime(df_BA_reviews['date'], format=\"%Y-%m-%d %H:%M:%S\")"
   ]
  },
  {
   "cell_type": "code",
   "execution_count": 11,
   "metadata": {},
   "outputs": [],
   "source": [
    "df_RB_reviews = pd.read_csv('../DataframeStorage/df_RB_reviews.csv')\n",
    "df_RB_reviews['date'] = pd.to_datetime(df_RB_reviews['date'], format=\"%Y-%m-%d %H:%M:%S\")"
   ]
  },
  {
   "attachments": {},
   "cell_type": "markdown",
   "metadata": {},
   "source": [
    "Since here we work on locations, we define two new dataframes where we remove all the unknown locations:"
   ]
  },
  {
   "cell_type": "code",
   "execution_count": 13,
   "metadata": {},
   "outputs": [],
   "source": [
    "df_BA_reviews_location = df_BA_reviews[(df_BA_reviews.user_location!='Unknown') & (df_BA_reviews.brewery_location!='Unknown')]\n",
    "df_RB_reviews_location = df_RB_reviews[(df_RB_reviews.user_location!='Unknown') & (df_RB_reviews.brewery_location!='Unknown')]"
   ]
  },
  {
   "attachments": {},
   "cell_type": "markdown",
   "metadata": {},
   "source": [
    "We'll concatenate both dataframes from BeerAdvocate and RateBeer to put all the data together since they contain the same features:"
   ]
  },
  {
   "cell_type": "code",
   "execution_count": 14,
   "metadata": {},
   "outputs": [],
   "source": [
    "df_reviews_locations = pd.concat([df_BA_reviews_location, df_RB_reviews_location], axis=0)"
   ]
  },
  {
   "cell_type": "code",
   "execution_count": 8,
   "metadata": {},
   "outputs": [
    {
     "data": {
      "text/html": [
       "<div>\n",
       "<style scoped>\n",
       "    .dataframe tbody tr th:only-of-type {\n",
       "        vertical-align: middle;\n",
       "    }\n",
       "\n",
       "    .dataframe tbody tr th {\n",
       "        vertical-align: top;\n",
       "    }\n",
       "\n",
       "    .dataframe thead th {\n",
       "        text-align: right;\n",
       "    }\n",
       "</style>\n",
       "<table border=\"1\" class=\"dataframe\">\n",
       "  <thead>\n",
       "    <tr style=\"text-align: right;\">\n",
       "      <th></th>\n",
       "      <th>beer_name</th>\n",
       "      <th>beer_id</th>\n",
       "      <th>brewery_name</th>\n",
       "      <th>brewery_id</th>\n",
       "      <th>style</th>\n",
       "      <th>abv</th>\n",
       "      <th>date</th>\n",
       "      <th>user_name</th>\n",
       "      <th>user_id</th>\n",
       "      <th>appearance</th>\n",
       "      <th>aroma</th>\n",
       "      <th>palate</th>\n",
       "      <th>taste</th>\n",
       "      <th>overall</th>\n",
       "      <th>rating</th>\n",
       "      <th>text</th>\n",
       "      <th>brewery_location</th>\n",
       "      <th>brewery_merged_location</th>\n",
       "      <th>user_location</th>\n",
       "      <th>user_merged_location</th>\n",
       "    </tr>\n",
       "  </thead>\n",
       "  <tbody>\n",
       "    <tr>\n",
       "      <th>0</th>\n",
       "      <td>Régab</td>\n",
       "      <td>142544</td>\n",
       "      <td>Societe des Brasseries du Gabon (SOBRAGA)</td>\n",
       "      <td>37262</td>\n",
       "      <td>Euro Pale Lager</td>\n",
       "      <td>4.5</td>\n",
       "      <td>2015-08-20 10:00:00</td>\n",
       "      <td>nmann08</td>\n",
       "      <td>nmann08.184925</td>\n",
       "      <td>3.25</td>\n",
       "      <td>2.75</td>\n",
       "      <td>3.25</td>\n",
       "      <td>2.75</td>\n",
       "      <td>3.0</td>\n",
       "      <td>2.88</td>\n",
       "      <td>From a bottle, pours a piss yellow color with ...</td>\n",
       "      <td>Gabon</td>\n",
       "      <td>Gabon</td>\n",
       "      <td>United States, Washington</td>\n",
       "      <td>United States</td>\n",
       "    </tr>\n",
       "    <tr>\n",
       "      <th>1</th>\n",
       "      <td>Barelegs Brew</td>\n",
       "      <td>19590</td>\n",
       "      <td>Strangford Lough Brewing Company Ltd</td>\n",
       "      <td>10093</td>\n",
       "      <td>English Pale Ale</td>\n",
       "      <td>4.5</td>\n",
       "      <td>2009-02-20 11:00:00</td>\n",
       "      <td>StJamesGate</td>\n",
       "      <td>stjamesgate.163714</td>\n",
       "      <td>3.00</td>\n",
       "      <td>3.50</td>\n",
       "      <td>3.50</td>\n",
       "      <td>4.00</td>\n",
       "      <td>3.5</td>\n",
       "      <td>3.67</td>\n",
       "      <td>Pours pale copper with a thin head that quickl...</td>\n",
       "      <td>Northern Ireland</td>\n",
       "      <td>Northern Ireland</td>\n",
       "      <td>United States, New York</td>\n",
       "      <td>United States</td>\n",
       "    </tr>\n",
       "  </tbody>\n",
       "</table>\n",
       "</div>"
      ],
      "text/plain": [
       "       beer_name  beer_id                               brewery_name  \\\n",
       "0          Régab   142544  Societe des Brasseries du Gabon (SOBRAGA)   \n",
       "1  Barelegs Brew    19590       Strangford Lough Brewing Company Ltd   \n",
       "\n",
       "   brewery_id             style  abv                date    user_name  \\\n",
       "0       37262   Euro Pale Lager  4.5 2015-08-20 10:00:00      nmann08   \n",
       "1       10093  English Pale Ale  4.5 2009-02-20 11:00:00  StJamesGate   \n",
       "\n",
       "              user_id  appearance  aroma  palate  taste  overall  rating  \\\n",
       "0      nmann08.184925        3.25   2.75    3.25   2.75      3.0    2.88   \n",
       "1  stjamesgate.163714        3.00   3.50    3.50   4.00      3.5    3.67   \n",
       "\n",
       "                                                text  brewery_location  \\\n",
       "0  From a bottle, pours a piss yellow color with ...             Gabon   \n",
       "1  Pours pale copper with a thin head that quickl...  Northern Ireland   \n",
       "\n",
       "  brewery_merged_location              user_location user_merged_location  \n",
       "0                   Gabon  United States, Washington        United States  \n",
       "1        Northern Ireland    United States, New York        United States  "
      ]
     },
     "execution_count": 8,
     "metadata": {},
     "output_type": "execute_result"
    }
   ],
   "source": [
    "df_reviews_locations.head(2)"
   ]
  },
  {
   "attachments": {},
   "cell_type": "markdown",
   "metadata": {},
   "source": [
    "## Map visualization "
   ]
  },
  {
   "attachments": {},
   "cell_type": "markdown",
   "metadata": {},
   "source": [
    "we start by plotting a map where we can visualize the different countries with the number of reviews per country:"
   ]
  },
  {
   "attachments": {},
   "cell_type": "markdown",
   "metadata": {},
   "source": [
    "We first define a df_country dataframe with the longitudes and latitudes of the world countries and US states in order to be able to plot maps. The data for the coordinates is taken from [here](https://www.mapsofworld.com/world-maps/world-map-with-latitude-and-longitude.html) and [here](https://www.mapsofworld.com/lat_long/usa-lat-long.html). There were some areas missing from the data we got so we added the missing locations manually using google maps coordinates."
   ]
  },
  {
   "cell_type": "code",
   "execution_count": 89,
   "metadata": {},
   "outputs": [],
   "source": [
    "df_country_coordinates = pd.read_csv('../country2.csv')\n",
    "df_country_coordinates = df_country_coordinates[['name','Latitude', 'Longitude']]\n",
    "\n",
    "df_US_states_coordinates= pd.read_csv('../US_states.csv', index_col= 'name')\n",
    "df_US_states_coordinates = df_US_states_coordinates.reset_index(level=0)\n",
    "df_US_states_coordinates['name'] = df_US_states_coordinates['name'].apply(lambda x: 'United States, ' + x)\n",
    "\n",
    "frames = [df_country_coordinates, df_US_states_coordinates]\n",
    "df_coordinates = pd.concat(frames)\n",
    "df_coordinates = df_coordinates.set_index('name')"
   ]
  },
  {
   "attachments": {},
   "cell_type": "markdown",
   "metadata": {},
   "source": [
    "Next we define a dataframe that contains the count of users from each country to plot the map:"
   ]
  },
  {
   "cell_type": "code",
   "execution_count": 120,
   "metadata": {},
   "outputs": [],
   "source": [
    "df_map = pd.DataFrame(df_reviews_locations['user_location'].value_counts())\n",
    "df_map.index.name='name'"
   ]
  },
  {
   "attachments": {},
   "cell_type": "markdown",
   "metadata": {},
   "source": [
    "There are few locations where the name in df_reviews_locations differs from the one in the country coordinates we have. Also there are a two countries reffered to in two different ways. So we change them accordingly:"
   ]
  },
  {
   "cell_type": "code",
   "execution_count": 121,
   "metadata": {},
   "outputs": [],
   "source": [
    "df_map = df_map.rename(index={'Virgin Islands (British)': 'British Virgin Islands', 'Virgin Islands (U.S.)':'U.S. Virgin Islands'})\n",
    "df_map.loc['New Zealand']=df_map.loc['Aotearoa']['user_location']+df_map.loc['New Zealand']['user_location']\n",
    "df_map.loc['Slovakia']=df_map.loc['Slovakia']['user_location']+df_map.loc['Slovak Republic']['user_location']"
   ]
  },
  {
   "attachments": {},
   "cell_type": "markdown",
   "metadata": {},
   "source": [
    "We join the coordinate data with the user location count data:"
   ]
  },
  {
   "cell_type": "code",
   "execution_count": 122,
   "metadata": {},
   "outputs": [],
   "source": [
    "df_map = df_map.join(df_coordinates)\n",
    "df_map = df_map.dropna(axis=0)"
   ]
  },
  {
   "cell_type": "code",
   "execution_count": 124,
   "metadata": {},
   "outputs": [
    {
     "data": {
      "text/html": [
       "<div>\n",
       "<style scoped>\n",
       "    .dataframe tbody tr th:only-of-type {\n",
       "        vertical-align: middle;\n",
       "    }\n",
       "\n",
       "    .dataframe tbody tr th {\n",
       "        vertical-align: top;\n",
       "    }\n",
       "\n",
       "    .dataframe thead th {\n",
       "        text-align: right;\n",
       "    }\n",
       "</style>\n",
       "<table border=\"1\" class=\"dataframe\">\n",
       "  <thead>\n",
       "    <tr style=\"text-align: right;\">\n",
       "      <th></th>\n",
       "      <th>user_location</th>\n",
       "      <th>Latitude</th>\n",
       "      <th>Longitude</th>\n",
       "    </tr>\n",
       "    <tr>\n",
       "      <th>name</th>\n",
       "      <th></th>\n",
       "      <th></th>\n",
       "      <th></th>\n",
       "    </tr>\n",
       "  </thead>\n",
       "  <tbody>\n",
       "    <tr>\n",
       "      <th>Canada</th>\n",
       "      <td>663769</td>\n",
       "      <td>56.130366</td>\n",
       "      <td>-106.346771</td>\n",
       "    </tr>\n",
       "    <tr>\n",
       "      <th>Denmark</th>\n",
       "      <td>582636</td>\n",
       "      <td>56.26392</td>\n",
       "      <td>9.501785</td>\n",
       "    </tr>\n",
       "    <tr>\n",
       "      <th>United States, California</th>\n",
       "      <td>536188</td>\n",
       "      <td>36.778261</td>\n",
       "      <td>-119.417932</td>\n",
       "    </tr>\n",
       "    <tr>\n",
       "      <th>United States, Pennsylvania</th>\n",
       "      <td>472818</td>\n",
       "      <td>41.203322</td>\n",
       "      <td>-77.194525</td>\n",
       "    </tr>\n",
       "    <tr>\n",
       "      <th>England</th>\n",
       "      <td>462653</td>\n",
       "      <td>52.3555177</td>\n",
       "      <td>-1.174320</td>\n",
       "    </tr>\n",
       "  </tbody>\n",
       "</table>\n",
       "</div>"
      ],
      "text/plain": [
       "                             user_location     Latitude   Longitude\n",
       "name                                                               \n",
       "Canada                              663769    56.130366 -106.346771\n",
       "Denmark                             582636     56.26392    9.501785\n",
       "United States, California           536188    36.778261 -119.417932\n",
       "United States, Pennsylvania         472818    41.203322  -77.194525\n",
       "England                             462653  52.3555177    -1.174320"
      ]
     },
     "execution_count": 124,
     "metadata": {},
     "output_type": "execute_result"
    }
   ],
   "source": [
    "df_map.head()"
   ]
  },
  {
   "attachments": {},
   "cell_type": "markdown",
   "metadata": {},
   "source": [
    "Next we plot the data on a map using plotly:"
   ]
  },
  {
   "cell_type": "code",
   "execution_count": 258,
   "metadata": {},
   "outputs": [
    {
     "data": {
      "application/vnd.plotly.v1+json": {
       "config": {
        "plotlyServerURL": "https://plot.ly"
       },
       "data": [
        {
         "hoverinfo": "text",
         "hovertemplate": "Country: %{text}<br>Number of reviewers: %{marker.size:.0f}<extra></extra>",
         "hovertext": [
          "Canada",
          "Denmark",
          "United States, California",
          "United States, Pennsylvania",
          "England",
          "United States, Illinois",
          "United States, New York",
          "Sweden",
          "United States, Ohio",
          "United States, Texas",
          "Netherlands",
          "United States, Washington",
          "Germany",
          "United States, Florida",
          "Norway",
          "United States, New Jersey",
          "United States, Minnesota",
          "United States, Massachusetts",
          "United States, Virginia",
          "Finland",
          "United States, Colorado",
          "United States, Michigan",
          "United States, North Carolina",
          "Poland",
          "United States, Wisconsin",
          "United States, Georgia",
          "United States, Maryland",
          "Belgium",
          "Australia",
          "United States, Indiana",
          "United States, Oregon",
          "Scotland",
          "United States, Missouri",
          "United States, Arizona",
          "United States, Connecticut",
          "United States, Tennessee",
          "United States, New Hampshire",
          "United States, Kentucky",
          "United States, Iowa",
          "Spain",
          "Italy",
          "Estonia",
          "United States, Idaho",
          "United States, South Carolina",
          "France",
          "United States, Alabama",
          "Japan",
          "United States, Nevada",
          "United States, Maine",
          "United States, Vermont",
          "United States, Kansas",
          "Switzerland",
          "Croatia",
          "Israel",
          "United States, Louisiana",
          "United States, Nebraska",
          "Czech Republic",
          "New Zealand",
          "United States, Rhode Island",
          "Hungary",
          "United States, Oklahoma",
          "United States, Delaware",
          "United States, West Virginia",
          "United States, Arkansas",
          "United States, Alaska",
          "Brazil",
          "Ireland",
          "Austria",
          "United States, Utah",
          "United States, New Mexico",
          "Mexico",
          "Thailand",
          "United States, Mississippi",
          "Slovenia",
          "Greece",
          "Faroe Islands",
          "Russia",
          "Portugal",
          "Malaysia",
          "United States, Montana",
          "Romania",
          "Belarus",
          "Northern Ireland",
          "United States, Wyoming",
          "Latvia",
          "United States, Hawaii",
          "South Africa",
          "Moldova",
          "Hong Kong",
          "Serbia",
          "Turkey",
          "United States, North Dakota",
          "Ukraine",
          "Chile",
          "Luxembourg",
          "Iceland",
          "El Salvador",
          "Cyprus",
          "China",
          "United States, South Dakota",
          "Venezuela",
          "Lithuania",
          "Taiwan",
          "Cambodia",
          "Mozambique",
          "Dominican Republic",
          "Wales",
          "Singapore",
          "Bermuda",
          "India",
          "Marshall Islands",
          "Bolivia",
          "Lesotho",
          "Indonesia",
          "South Korea",
          "Argentina",
          "Philippines",
          "Panama",
          "North Korea",
          "Jersey",
          "Guam",
          "Puerto Rico",
          "Saint Helena",
          "Ecuador",
          "Bulgaria",
          "Ascension Island",
          "Colombia",
          "Peru",
          "Greenland",
          "United Arab Emirates",
          "Jordan",
          "Bosnia and Herzegovina",
          "Andorra",
          "Uruguay",
          "Costa Rica",
          "Antarctica",
          "Bahamas",
          "Svalbard and Jan Mayen Islands",
          "Slovakia",
          "Fiji Islands",
          "Isle of Man",
          "Tajikistan",
          "Guatemala",
          "Lebanon",
          "Paraguay",
          "Vietnam",
          "Saudi Arabia",
          "Macedonia",
          "Burkina Faso",
          "Norfolk Island",
          "Tanzania",
          "U.S. Virgin Islands",
          "Kazakhstan",
          "Algeria",
          "Cayman Islands",
          "Pakistan",
          "Trinidad and Tobago",
          "Afghanistan",
          "American Samoa",
          "Montenegro",
          "Honduras",
          "Laos",
          "Bouvet Island",
          "Mauritius",
          "Malta",
          "Namibia",
          "South Georgia and South Sandwich Islands",
          "Bangladesh",
          "Barbados",
          "Montserrat",
          "Kenya",
          "Nepal",
          "Azerbaijan",
          "Uganda",
          "Morocco",
          "Oman",
          "Bhutan",
          "French Guiana",
          "Botswana",
          "San Marino",
          "Nicaragua",
          "Palestine",
          "Belize",
          "Monaco",
          "Zimbabwe",
          "Albania",
          "Tunisia",
          "Nigeria",
          "Egypt",
          "Armenia",
          "Liechtenstein",
          "Guernsey",
          "Tokelau",
          "Uzbekistan",
          "Vanuatu",
          "Angola",
          "Antigua and Barbuda",
          "Ghana",
          "Iraq",
          "Northern Mariana Islands",
          "Syria",
          "Aruba",
          "Papua New Guinea",
          "Vatican City",
          "Solomon Islands",
          "Sudan",
          "Dem Rep of Congo",
          "Togo",
          "Yemen",
          "Mongolia",
          "Macau",
          "Kosovo",
          "Zambia",
          "Burundi",
          "Saint Lucia",
          "Tuvalu",
          "Kyrgyzstan",
          "Iran",
          "Ivory Coast",
          "Gibraltar",
          "Cuba",
          "Anguilla",
          "Haiti",
          "Micronesia",
          "British Indian Ocean Territory",
          "New Caledonia",
          "British Virgin Islands",
          "Jamaica",
          "Mauritania"
         ],
         "lat": [
          "56.130366",
          "56.26392",
          36.778261,
          41.203322,
          "52.3555177 ",
          40.633125,
          43.299428,
          "60.128161",
          40.417287,
          31.968599,
          "52.132633",
          47.751074,
          "51.165691",
          27.664827,
          "60.472024",
          40.058324,
          46.729553,
          42.407211,
          37.431573,
          "61.92411",
          39.550051,
          44.314844,
          35.759573,
          "51.919438",
          43.78444,
          32.157435,
          39.045755,
          "50.503887",
          "-25.274398",
          40.551217,
          43.804133,
          "56.4907",
          37.964253,
          34.048928,
          41.603221,
          35.517491,
          43.193852,
          37.839333,
          41.878003,
          "40.463667",
          "41.87194",
          "58.595272",
          44.068202,
          33.836081,
          "46.227638",
          32.318231,
          "36.204824",
          38.80261,
          45.253783,
          44.558803,
          39.011902,
          "46.818188",
          "45.1",
          "31.046051",
          31.244823,
          41.492537,
          "49.817492",
          "-40.900557",
          41.580095,
          "47.162494",
          35.007752,
          38.910832,
          38.597626,
          35.20105,
          63.588753,
          "-14.235004",
          "53.41291",
          "47.516231",
          39.32098,
          34.97273,
          "23.634501",
          "15.870032",
          32.354668,
          "46.151241",
          "39.074208",
          "61.892635",
          "61.52401",
          "39.399872",
          "4.210484",
          46.879682,
          "45.943161",
          "53.709807",
          "54.7877",
          43.075968,
          "56.879635",
          19.898682,
          "-30.559482",
          "47.411631",
          "22.396428",
          "44.016521",
          "38.963745",
          47.551493,
          "48.379433",
          "-35.675147",
          "49.815273",
          "64.963051",
          "13.794185",
          "35.126413",
          "35.86166",
          43.969515,
          "6.42375",
          "55.169438",
          "23.69781",
          "12.565679",
          "-18.665695",
          "18.735693",
          "52.1307",
          "1.352083",
          "32.321384",
          "20.593684",
          "7.131474",
          "-16.290154",
          "-29.609988",
          "-0.789275",
          "35.907757",
          "-38.416097",
          "12.879721",
          "8.537981",
          "40.339852",
          "49.214439",
          "13.444304",
          "18.220833",
          "-24.143474",
          "-1.831239",
          "42.733883",
          "7.9467",
          "4.570868",
          "-9.189967",
          "71.706936",
          "23.424076",
          "30.585164",
          "43.915886",
          "42.546245",
          "-32.522779",
          "9.748917",
          "-75.250973",
          "25.03428",
          "71.0318",
          "48.669026",
          "17.7134",
          "54.236107",
          "38.861034",
          "15.783471",
          "33.854721",
          "-23.442503",
          "14.058324",
          "23.885942",
          "41.608635",
          "12.238333",
          "-29.040835",
          "-6.369028",
          "18.335765",
          "48.019573",
          "28.033886",
          "19.513469",
          "30.375321",
          "10.691803",
          "33.93911",
          "-14.270972",
          "42.708678",
          "15.199999",
          "19.85627",
          "-54.423199",
          "-20.348404",
          "35.937496",
          "-22.95764",
          "54.4296",
          "23.684994",
          "13.193887",
          "16.742498",
          "-0.023559",
          "28.394857",
          "40.143105",
          "1.373333",
          "31.791702",
          "21.512583",
          "27.514162",
          "3.933889",
          "-22.328474",
          "43.94236",
          "12.865416",
          "31.9522",
          "17.189877",
          "43.750298",
          "-19.015438",
          "41.153332",
          "33.886917",
          "9.081999",
          "26.820553",
          "40.069099",
          "47.166",
          "49.465691",
          "-8.967363",
          "41.377491",
          "-15.376706",
          "-11.202692",
          "17.060816",
          "7.946527",
          "33.223191",
          "17.33083",
          "34.802075",
          "12.52111",
          "-6.314993",
          "41.902916",
          "-9.64571",
          "12.862807",
          "-4.038333",
          "8.619543",
          "15.552727",
          "46.862496",
          "22.198745",
          "42.602636",
          "-13.133897",
          "-3.373056",
          "13.909444",
          "-7.109535",
          "41.20438",
          "32.427908",
          "7.539989",
          "36.137741",
          "21.521757",
          "18.220554",
          "18.971187",
          "7.425554",
          "-6.343194",
          "-20.904305",
          "18.420695",
          "18.109581",
          "21.00789"
         ],
         "lon": [
          -106.346771,
          9.501785,
          -119.417932,
          -77.194525,
          -1.1743197,
          -89.398528,
          -74.217933,
          18.643501,
          -82.907123,
          -99.901813,
          5.291266,
          -120.740139,
          10.451526,
          -81.515754,
          8.468946,
          -74.405661,
          -94.6859,
          -71.382437,
          -78.656894,
          25.748151,
          -105.782067,
          -85.602364,
          -79.0193,
          19.145136,
          -88.787868,
          -82.907123,
          -76.641271,
          4.469936,
          133.775136,
          -85.602364,
          -120.554201,
          4.2026,
          -91.831833,
          -111.093731,
          -73.087749,
          -86.580447,
          -71.572395,
          -84.270018,
          -93.097702,
          -3.74922,
          12.56738,
          25.013607,
          -114.742041,
          -81.163725,
          2.213749,
          -86.902298,
          138.252924,
          -116.419389,
          -69.445469,
          -72.577841,
          -98.484246,
          8.227512,
          15.2,
          34.851612,
          -92.145024,
          -99.901813,
          15.472962,
          174.885971,
          -71.477429,
          19.503304,
          -97.092877,
          -75.52767,
          -80.454903,
          -91.831833,
          -154.493062,
          -51.92528,
          -8.24389,
          14.550072,
          -111.093731,
          -105.032363,
          -102.552784,
          100.992541,
          -89.398528,
          14.995463,
          21.824312,
          -6.911806,
          105.318756,
          -8.224454,
          101.975766,
          -110.362566,
          24.96676,
          27.953389,
          6.4923,
          -107.290284,
          24.603189,
          -155.665857,
          22.937506,
          28.369885,
          114.109497,
          21.005859,
          35.243322,
          -101.002012,
          31.16558,
          -71.542969,
          6.129583,
          -19.020835,
          -88.89653,
          33.429859,
          104.195397,
          -99.901813,
          -66.58973,
          23.881275,
          120.960515,
          104.990963,
          35.529562,
          -70.162651,
          3.7837,
          103.819836,
          -64.75737,
          78.96288,
          171.184478,
          -63.588653,
          28.233608,
          113.921327,
          127.766922,
          -63.616672,
          121.774017,
          -80.782127,
          127.510093,
          -2.13125,
          144.793731,
          -66.590149,
          -10.030696,
          -78.183406,
          25.48583,
          14.3559,
          -74.297333,
          -75.015152,
          -42.604303,
          53.847818,
          36.238414,
          17.679076,
          1.601554,
          -55.765835,
          -83.753428,
          -0.071389,
          -77.39628,
          8.292,
          19.699024,
          178.065,
          -4.548056,
          71.276093,
          -90.230759,
          35.862285,
          -58.443832,
          108.277199,
          45.079162,
          21.745275,
          -1.561593,
          167.954712,
          34.888822,
          -64.896335,
          66.923684,
          1.659626,
          -80.566956,
          69.345116,
          -61.222503,
          67.709953,
          -170.132217,
          19.37439,
          -86.241905,
          102.495496,
          3.413194,
          57.552152,
          14.375416,
          18.49041,
          36.5879,
          90.356331,
          -59.543198,
          -62.187366,
          37.906193,
          84.124008,
          47.576927,
          32.290275,
          -7.09262,
          55.923255,
          90.433601,
          -53.125782,
          24.684866,
          12.457777,
          -85.207229,
          35.2332,
          -88.49765,
          7.412841,
          29.154857,
          20.168331,
          9.537499,
          8.675277,
          30.802498,
          45.038189,
          9.555373,
          -2.585278,
          -171.855881,
          64.585262,
          166.959158,
          17.873887,
          -61.796428,
          -1.023194,
          43.679291,
          145.38469,
          38.996815,
          -69.968338,
          143.95555,
          12.453389,
          160.156194,
          30.217636,
          21.758664,
          0.824782,
          48.516388,
          103.846656,
          113.543873,
          20.902977,
          27.849332,
          29.918886,
          -60.978893,
          177.64933,
          74.766098,
          53.688046,
          -5.54708,
          -5.345374,
          -77.781167,
          -63.068615,
          -72.285215,
          150.550812,
          71.876519,
          165.618042,
          -64.639968,
          -77.297508,
          -10.940835
         ],
         "marker": {
          "size": [
           663769,
           582636,
           536188,
           472818,
           462653,
           334134,
           314469,
           293008,
           273903,
           260183,
           243711,
           235128,
           227558,
           220632,
           218029,
           217533,
           205721,
           201408,
           196953,
           192316,
           190519,
           161496,
           160903,
           155659,
           147512,
           139100,
           137958,
           128331,
           126818,
           119506,
           111740,
           103559,
           97346,
           95843,
           79499,
           73869,
           69312,
           66372,
           63172,
           60438,
           60241,
           52682,
           49280,
           45786,
           39662,
           37259,
           36057,
           36002,
           33007,
           32749,
           32691,
           32451,
           32438,
           31282,
           28381,
           26651,
           25942,
           25189,
           24542,
           24423,
           22914,
           21306,
           19338,
           15662,
           15511,
           15475,
           15241,
           15108,
           14618,
           13186,
           13087,
           12999,
           11077,
           10227,
           9821,
           9673,
           9327,
           9248,
           8337,
           8199,
           7939,
           7162,
           6972,
           6532,
           6355,
           6016,
           5539,
           5242,
           4987,
           4246,
           3969,
           3935,
           3822,
           3754,
           3343,
           3191,
           3143,
           2771,
           2741,
           2692,
           2623,
           2474,
           2208,
           2056,
           2017,
           1804,
           1557,
           1515,
           1478,
           1085,
           1031,
           936,
           877,
           860,
           748,
           744,
           641,
           617,
           590,
           473,
           473,
           466,
           447,
           437,
           425,
           395,
           354,
           342,
           309,
           204,
           184,
           174,
           171,
           168,
           147,
           144,
           143,
           121,
           29516,
           110,
           100,
           97,
           89,
           79,
           71,
           71,
           57,
           55,
           50,
           50,
           46,
           39,
           37,
           37,
           34,
           28,
           26,
           26,
           21,
           19,
           18,
           18,
           18,
           18,
           18,
           17,
           16,
           15,
           14,
           14,
           13,
           13,
           12,
           12,
           12,
           11,
           11,
           11,
           9,
           9,
           8,
           8,
           7,
           6,
           6,
           6,
           6,
           6,
           5,
           5,
           5,
           4,
           4,
           4,
           4,
           4,
           4,
           4,
           4,
           3,
           3,
           3,
           3,
           3,
           3,
           3,
           2,
           2,
           2,
           2,
           2,
           2,
           2,
           1,
           1,
           1,
           1,
           1,
           1,
           1,
           1,
           1,
           1,
           1,
           1,
           1,
           1,
           1,
           1
          ],
          "sizemin": 1,
          "sizemode": "area",
          "sizeref": 132.7538
         },
         "mode": "markers",
         "text": [
          "Canada",
          "Denmark",
          "United States, California",
          "United States, Pennsylvania",
          "England",
          "United States, Illinois",
          "United States, New York",
          "Sweden",
          "United States, Ohio",
          "United States, Texas",
          "Netherlands",
          "United States, Washington",
          "Germany",
          "United States, Florida",
          "Norway",
          "United States, New Jersey",
          "United States, Minnesota",
          "United States, Massachusetts",
          "United States, Virginia",
          "Finland",
          "United States, Colorado",
          "United States, Michigan",
          "United States, North Carolina",
          "Poland",
          "United States, Wisconsin",
          "United States, Georgia",
          "United States, Maryland",
          "Belgium",
          "Australia",
          "United States, Indiana",
          "United States, Oregon",
          "Scotland",
          "United States, Missouri",
          "United States, Arizona",
          "United States, Connecticut",
          "United States, Tennessee",
          "United States, New Hampshire",
          "United States, Kentucky",
          "United States, Iowa",
          "Spain",
          "Italy",
          "Estonia",
          "United States, Idaho",
          "United States, South Carolina",
          "France",
          "United States, Alabama",
          "Japan",
          "United States, Nevada",
          "United States, Maine",
          "United States, Vermont",
          "United States, Kansas",
          "Switzerland",
          "Croatia",
          "Israel",
          "United States, Louisiana",
          "United States, Nebraska",
          "Czech Republic",
          "New Zealand",
          "United States, Rhode Island",
          "Hungary",
          "United States, Oklahoma",
          "United States, Delaware",
          "United States, West Virginia",
          "United States, Arkansas",
          "United States, Alaska",
          "Brazil",
          "Ireland",
          "Austria",
          "United States, Utah",
          "United States, New Mexico",
          "Mexico",
          "Thailand",
          "United States, Mississippi",
          "Slovenia",
          "Greece",
          "Faroe Islands",
          "Russia",
          "Portugal",
          "Malaysia",
          "United States, Montana",
          "Romania",
          "Belarus",
          "Northern Ireland",
          "United States, Wyoming",
          "Latvia",
          "United States, Hawaii",
          "South Africa",
          "Moldova",
          "Hong Kong",
          "Serbia",
          "Turkey",
          "United States, North Dakota",
          "Ukraine",
          "Chile",
          "Luxembourg",
          "Iceland",
          "El Salvador",
          "Cyprus",
          "China",
          "United States, South Dakota",
          "Venezuela",
          "Lithuania",
          "Taiwan",
          "Cambodia",
          "Mozambique",
          "Dominican Republic",
          "Wales",
          "Singapore",
          "Bermuda",
          "India",
          "Marshall Islands",
          "Bolivia",
          "Lesotho",
          "Indonesia",
          "South Korea",
          "Argentina",
          "Philippines",
          "Panama",
          "North Korea",
          "Jersey",
          "Guam",
          "Puerto Rico",
          "Saint Helena",
          "Ecuador",
          "Bulgaria",
          "Ascension Island",
          "Colombia",
          "Peru",
          "Greenland",
          "United Arab Emirates",
          "Jordan",
          "Bosnia and Herzegovina",
          "Andorra",
          "Uruguay",
          "Costa Rica",
          "Antarctica",
          "Bahamas",
          "Svalbard and Jan Mayen Islands",
          "Slovakia",
          "Fiji Islands",
          "Isle of Man",
          "Tajikistan",
          "Guatemala",
          "Lebanon",
          "Paraguay",
          "Vietnam",
          "Saudi Arabia",
          "Macedonia",
          "Burkina Faso",
          "Norfolk Island",
          "Tanzania",
          "U.S. Virgin Islands",
          "Kazakhstan",
          "Algeria",
          "Cayman Islands",
          "Pakistan",
          "Trinidad and Tobago",
          "Afghanistan",
          "American Samoa",
          "Montenegro",
          "Honduras",
          "Laos",
          "Bouvet Island",
          "Mauritius",
          "Malta",
          "Namibia",
          "South Georgia and South Sandwich Islands",
          "Bangladesh",
          "Barbados",
          "Montserrat",
          "Kenya",
          "Nepal",
          "Azerbaijan",
          "Uganda",
          "Morocco",
          "Oman",
          "Bhutan",
          "French Guiana",
          "Botswana",
          "San Marino",
          "Nicaragua",
          "Palestine",
          "Belize",
          "Monaco",
          "Zimbabwe",
          "Albania",
          "Tunisia",
          "Nigeria",
          "Egypt",
          "Armenia",
          "Liechtenstein",
          "Guernsey",
          "Tokelau",
          "Uzbekistan",
          "Vanuatu",
          "Angola",
          "Antigua and Barbuda",
          "Ghana",
          "Iraq",
          "Northern Mariana Islands",
          "Syria",
          "Aruba",
          "Papua New Guinea",
          "Vatican City",
          "Solomon Islands",
          "Sudan",
          "Dem Rep of Congo",
          "Togo",
          "Yemen",
          "Mongolia",
          "Macau",
          "Kosovo",
          "Zambia",
          "Burundi",
          "Saint Lucia",
          "Tuvalu",
          "Kyrgyzstan",
          "Iran",
          "Ivory Coast",
          "Gibraltar",
          "Cuba",
          "Anguilla",
          "Haiti",
          "Micronesia",
          "British Indian Ocean Territory",
          "New Caledonia",
          "British Virgin Islands",
          "Jamaica",
          "Mauritania"
         ],
         "type": "scattergeo"
        }
       ],
       "layout": {
        "geo": {
         "projection": {
          "type": "natural earth2"
         },
         "showcoastlines": true,
         "showcountries": true,
         "showframe": true
        },
        "height": 900,
        "hovermode": "closest",
        "paper_bgcolor": "rgba(0,0,0,0)",
        "template": {
         "data": {
          "bar": [
           {
            "error_x": {
             "color": "#2a3f5f"
            },
            "error_y": {
             "color": "#2a3f5f"
            },
            "marker": {
             "line": {
              "color": "#E5ECF6",
              "width": 0.5
             },
             "pattern": {
              "fillmode": "overlay",
              "size": 10,
              "solidity": 0.2
             }
            },
            "type": "bar"
           }
          ],
          "barpolar": [
           {
            "marker": {
             "line": {
              "color": "#E5ECF6",
              "width": 0.5
             },
             "pattern": {
              "fillmode": "overlay",
              "size": 10,
              "solidity": 0.2
             }
            },
            "type": "barpolar"
           }
          ],
          "carpet": [
           {
            "aaxis": {
             "endlinecolor": "#2a3f5f",
             "gridcolor": "white",
             "linecolor": "white",
             "minorgridcolor": "white",
             "startlinecolor": "#2a3f5f"
            },
            "baxis": {
             "endlinecolor": "#2a3f5f",
             "gridcolor": "white",
             "linecolor": "white",
             "minorgridcolor": "white",
             "startlinecolor": "#2a3f5f"
            },
            "type": "carpet"
           }
          ],
          "choropleth": [
           {
            "colorbar": {
             "outlinewidth": 0,
             "ticks": ""
            },
            "type": "choropleth"
           }
          ],
          "contour": [
           {
            "colorbar": {
             "outlinewidth": 0,
             "ticks": ""
            },
            "colorscale": [
             [
              0,
              "#0d0887"
             ],
             [
              0.1111111111111111,
              "#46039f"
             ],
             [
              0.2222222222222222,
              "#7201a8"
             ],
             [
              0.3333333333333333,
              "#9c179e"
             ],
             [
              0.4444444444444444,
              "#bd3786"
             ],
             [
              0.5555555555555556,
              "#d8576b"
             ],
             [
              0.6666666666666666,
              "#ed7953"
             ],
             [
              0.7777777777777778,
              "#fb9f3a"
             ],
             [
              0.8888888888888888,
              "#fdca26"
             ],
             [
              1,
              "#f0f921"
             ]
            ],
            "type": "contour"
           }
          ],
          "contourcarpet": [
           {
            "colorbar": {
             "outlinewidth": 0,
             "ticks": ""
            },
            "type": "contourcarpet"
           }
          ],
          "heatmap": [
           {
            "colorbar": {
             "outlinewidth": 0,
             "ticks": ""
            },
            "colorscale": [
             [
              0,
              "#0d0887"
             ],
             [
              0.1111111111111111,
              "#46039f"
             ],
             [
              0.2222222222222222,
              "#7201a8"
             ],
             [
              0.3333333333333333,
              "#9c179e"
             ],
             [
              0.4444444444444444,
              "#bd3786"
             ],
             [
              0.5555555555555556,
              "#d8576b"
             ],
             [
              0.6666666666666666,
              "#ed7953"
             ],
             [
              0.7777777777777778,
              "#fb9f3a"
             ],
             [
              0.8888888888888888,
              "#fdca26"
             ],
             [
              1,
              "#f0f921"
             ]
            ],
            "type": "heatmap"
           }
          ],
          "heatmapgl": [
           {
            "colorbar": {
             "outlinewidth": 0,
             "ticks": ""
            },
            "colorscale": [
             [
              0,
              "#0d0887"
             ],
             [
              0.1111111111111111,
              "#46039f"
             ],
             [
              0.2222222222222222,
              "#7201a8"
             ],
             [
              0.3333333333333333,
              "#9c179e"
             ],
             [
              0.4444444444444444,
              "#bd3786"
             ],
             [
              0.5555555555555556,
              "#d8576b"
             ],
             [
              0.6666666666666666,
              "#ed7953"
             ],
             [
              0.7777777777777778,
              "#fb9f3a"
             ],
             [
              0.8888888888888888,
              "#fdca26"
             ],
             [
              1,
              "#f0f921"
             ]
            ],
            "type": "heatmapgl"
           }
          ],
          "histogram": [
           {
            "marker": {
             "pattern": {
              "fillmode": "overlay",
              "size": 10,
              "solidity": 0.2
             }
            },
            "type": "histogram"
           }
          ],
          "histogram2d": [
           {
            "colorbar": {
             "outlinewidth": 0,
             "ticks": ""
            },
            "colorscale": [
             [
              0,
              "#0d0887"
             ],
             [
              0.1111111111111111,
              "#46039f"
             ],
             [
              0.2222222222222222,
              "#7201a8"
             ],
             [
              0.3333333333333333,
              "#9c179e"
             ],
             [
              0.4444444444444444,
              "#bd3786"
             ],
             [
              0.5555555555555556,
              "#d8576b"
             ],
             [
              0.6666666666666666,
              "#ed7953"
             ],
             [
              0.7777777777777778,
              "#fb9f3a"
             ],
             [
              0.8888888888888888,
              "#fdca26"
             ],
             [
              1,
              "#f0f921"
             ]
            ],
            "type": "histogram2d"
           }
          ],
          "histogram2dcontour": [
           {
            "colorbar": {
             "outlinewidth": 0,
             "ticks": ""
            },
            "colorscale": [
             [
              0,
              "#0d0887"
             ],
             [
              0.1111111111111111,
              "#46039f"
             ],
             [
              0.2222222222222222,
              "#7201a8"
             ],
             [
              0.3333333333333333,
              "#9c179e"
             ],
             [
              0.4444444444444444,
              "#bd3786"
             ],
             [
              0.5555555555555556,
              "#d8576b"
             ],
             [
              0.6666666666666666,
              "#ed7953"
             ],
             [
              0.7777777777777778,
              "#fb9f3a"
             ],
             [
              0.8888888888888888,
              "#fdca26"
             ],
             [
              1,
              "#f0f921"
             ]
            ],
            "type": "histogram2dcontour"
           }
          ],
          "mesh3d": [
           {
            "colorbar": {
             "outlinewidth": 0,
             "ticks": ""
            },
            "type": "mesh3d"
           }
          ],
          "parcoords": [
           {
            "line": {
             "colorbar": {
              "outlinewidth": 0,
              "ticks": ""
             }
            },
            "type": "parcoords"
           }
          ],
          "pie": [
           {
            "automargin": true,
            "type": "pie"
           }
          ],
          "scatter": [
           {
            "fillpattern": {
             "fillmode": "overlay",
             "size": 10,
             "solidity": 0.2
            },
            "type": "scatter"
           }
          ],
          "scatter3d": [
           {
            "line": {
             "colorbar": {
              "outlinewidth": 0,
              "ticks": ""
             }
            },
            "marker": {
             "colorbar": {
              "outlinewidth": 0,
              "ticks": ""
             }
            },
            "type": "scatter3d"
           }
          ],
          "scattercarpet": [
           {
            "marker": {
             "colorbar": {
              "outlinewidth": 0,
              "ticks": ""
             }
            },
            "type": "scattercarpet"
           }
          ],
          "scattergeo": [
           {
            "marker": {
             "colorbar": {
              "outlinewidth": 0,
              "ticks": ""
             }
            },
            "type": "scattergeo"
           }
          ],
          "scattergl": [
           {
            "marker": {
             "colorbar": {
              "outlinewidth": 0,
              "ticks": ""
             }
            },
            "type": "scattergl"
           }
          ],
          "scattermapbox": [
           {
            "marker": {
             "colorbar": {
              "outlinewidth": 0,
              "ticks": ""
             }
            },
            "type": "scattermapbox"
           }
          ],
          "scatterpolar": [
           {
            "marker": {
             "colorbar": {
              "outlinewidth": 0,
              "ticks": ""
             }
            },
            "type": "scatterpolar"
           }
          ],
          "scatterpolargl": [
           {
            "marker": {
             "colorbar": {
              "outlinewidth": 0,
              "ticks": ""
             }
            },
            "type": "scatterpolargl"
           }
          ],
          "scatterternary": [
           {
            "marker": {
             "colorbar": {
              "outlinewidth": 0,
              "ticks": ""
             }
            },
            "type": "scatterternary"
           }
          ],
          "surface": [
           {
            "colorbar": {
             "outlinewidth": 0,
             "ticks": ""
            },
            "colorscale": [
             [
              0,
              "#0d0887"
             ],
             [
              0.1111111111111111,
              "#46039f"
             ],
             [
              0.2222222222222222,
              "#7201a8"
             ],
             [
              0.3333333333333333,
              "#9c179e"
             ],
             [
              0.4444444444444444,
              "#bd3786"
             ],
             [
              0.5555555555555556,
              "#d8576b"
             ],
             [
              0.6666666666666666,
              "#ed7953"
             ],
             [
              0.7777777777777778,
              "#fb9f3a"
             ],
             [
              0.8888888888888888,
              "#fdca26"
             ],
             [
              1,
              "#f0f921"
             ]
            ],
            "type": "surface"
           }
          ],
          "table": [
           {
            "cells": {
             "fill": {
              "color": "#EBF0F8"
             },
             "line": {
              "color": "white"
             }
            },
            "header": {
             "fill": {
              "color": "#C8D4E3"
             },
             "line": {
              "color": "white"
             }
            },
            "type": "table"
           }
          ]
         },
         "layout": {
          "annotationdefaults": {
           "arrowcolor": "#2a3f5f",
           "arrowhead": 0,
           "arrowwidth": 1
          },
          "autotypenumbers": "strict",
          "coloraxis": {
           "colorbar": {
            "outlinewidth": 0,
            "ticks": ""
           }
          },
          "colorscale": {
           "diverging": [
            [
             0,
             "#8e0152"
            ],
            [
             0.1,
             "#c51b7d"
            ],
            [
             0.2,
             "#de77ae"
            ],
            [
             0.3,
             "#f1b6da"
            ],
            [
             0.4,
             "#fde0ef"
            ],
            [
             0.5,
             "#f7f7f7"
            ],
            [
             0.6,
             "#e6f5d0"
            ],
            [
             0.7,
             "#b8e186"
            ],
            [
             0.8,
             "#7fbc41"
            ],
            [
             0.9,
             "#4d9221"
            ],
            [
             1,
             "#276419"
            ]
           ],
           "sequential": [
            [
             0,
             "#0d0887"
            ],
            [
             0.1111111111111111,
             "#46039f"
            ],
            [
             0.2222222222222222,
             "#7201a8"
            ],
            [
             0.3333333333333333,
             "#9c179e"
            ],
            [
             0.4444444444444444,
             "#bd3786"
            ],
            [
             0.5555555555555556,
             "#d8576b"
            ],
            [
             0.6666666666666666,
             "#ed7953"
            ],
            [
             0.7777777777777778,
             "#fb9f3a"
            ],
            [
             0.8888888888888888,
             "#fdca26"
            ],
            [
             1,
             "#f0f921"
            ]
           ],
           "sequentialminus": [
            [
             0,
             "#0d0887"
            ],
            [
             0.1111111111111111,
             "#46039f"
            ],
            [
             0.2222222222222222,
             "#7201a8"
            ],
            [
             0.3333333333333333,
             "#9c179e"
            ],
            [
             0.4444444444444444,
             "#bd3786"
            ],
            [
             0.5555555555555556,
             "#d8576b"
            ],
            [
             0.6666666666666666,
             "#ed7953"
            ],
            [
             0.7777777777777778,
             "#fb9f3a"
            ],
            [
             0.8888888888888888,
             "#fdca26"
            ],
            [
             1,
             "#f0f921"
            ]
           ]
          },
          "colorway": [
           "#636efa",
           "#EF553B",
           "#00cc96",
           "#ab63fa",
           "#FFA15A",
           "#19d3f3",
           "#FF6692",
           "#B6E880",
           "#FF97FF",
           "#FECB52"
          ],
          "font": {
           "color": "#2a3f5f"
          },
          "geo": {
           "bgcolor": "white",
           "lakecolor": "white",
           "landcolor": "#E5ECF6",
           "showlakes": true,
           "showland": true,
           "subunitcolor": "white"
          },
          "hoverlabel": {
           "align": "left"
          },
          "hovermode": "closest",
          "mapbox": {
           "style": "light"
          },
          "paper_bgcolor": "white",
          "plot_bgcolor": "#E5ECF6",
          "polar": {
           "angularaxis": {
            "gridcolor": "white",
            "linecolor": "white",
            "ticks": ""
           },
           "bgcolor": "#E5ECF6",
           "radialaxis": {
            "gridcolor": "white",
            "linecolor": "white",
            "ticks": ""
           }
          },
          "scene": {
           "xaxis": {
            "backgroundcolor": "#E5ECF6",
            "gridcolor": "white",
            "gridwidth": 2,
            "linecolor": "white",
            "showbackground": true,
            "ticks": "",
            "zerolinecolor": "white"
           },
           "yaxis": {
            "backgroundcolor": "#E5ECF6",
            "gridcolor": "white",
            "gridwidth": 2,
            "linecolor": "white",
            "showbackground": true,
            "ticks": "",
            "zerolinecolor": "white"
           },
           "zaxis": {
            "backgroundcolor": "#E5ECF6",
            "gridcolor": "white",
            "gridwidth": 2,
            "linecolor": "white",
            "showbackground": true,
            "ticks": "",
            "zerolinecolor": "white"
           }
          },
          "shapedefaults": {
           "line": {
            "color": "#2a3f5f"
           }
          },
          "ternary": {
           "aaxis": {
            "gridcolor": "white",
            "linecolor": "white",
            "ticks": ""
           },
           "baxis": {
            "gridcolor": "white",
            "linecolor": "white",
            "ticks": ""
           },
           "bgcolor": "#E5ECF6",
           "caxis": {
            "gridcolor": "white",
            "linecolor": "white",
            "ticks": ""
           }
          },
          "title": {
           "x": 0.05
          },
          "xaxis": {
           "automargin": true,
           "gridcolor": "white",
           "linecolor": "white",
           "ticks": "",
           "title": {
            "standoff": 15
           },
           "zerolinecolor": "white",
           "zerolinewidth": 2
          },
          "yaxis": {
           "automargin": true,
           "gridcolor": "white",
           "linecolor": "white",
           "ticks": "",
           "title": {
            "standoff": 15
           },
           "zerolinecolor": "white",
           "zerolinewidth": 2
          }
         }
        },
        "title": {
         "text": "World Map with number of users per country"
        },
        "width": 1200
       }
      }
     },
     "metadata": {},
     "output_type": "display_data"
    }
   ],
   "source": [
    "# Create the figure and plot\n",
    "fig = go.Figure()\n",
    "\n",
    "fig.add_trace(go.Scattergeo(\n",
    "    lon=df_map['Longitude'],\n",
    "    lat=df_map['Latitude'],\n",
    "    text=df_map.index,\n",
    "    marker=go.scattergeo.Marker(\n",
    "        size=df_map['user_location'],\n",
    "        sizemode='area',\n",
    "        sizeref=2*max(df_map['user_location'])/(100**2),\n",
    "        sizemin=1,\n",
    "    ),\n",
    "\n",
    "    hovertext=df_map.index,\n",
    "    hoverinfo='text',\n",
    "    hovertemplate='Country: %{text}<br>Number of reviewers: %{marker.size:.0f}<extra></extra>',\n",
    "    mode='markers'\n",
    "))\n",
    "\n",
    "\n",
    "# Customize the layout and show the plot\n",
    "fig.update_layout(\n",
    "    geo=go.layout.Geo(\n",
    "        showframe=True,\n",
    "        showcoastlines=True,\n",
    "        projection_type='natural earth2',\n",
    "        showcountries= True\n",
    "    ),\n",
    "    hovermode='closest',\n",
    "    width=1200,\n",
    "    height=900,\n",
    "    title='World Map with number of users per country',\n",
    "    paper_bgcolor= 'rgba(0,0,0,0)',\n",
    ")\n",
    "\n",
    "fig.show()\n",
    "fig.write_html('../plots_html/map.html')"
   ]
  },
  {
   "attachments": {},
   "cell_type": "markdown",
   "metadata": {},
   "source": [
    "We observe that most of the data comes form Canada, followed by Denmark, the state of California, the state of Pennsylvania and England."
   ]
  },
  {
   "attachments": {},
   "cell_type": "markdown",
   "metadata": {},
   "source": [
    "## Do people tend to rate better their local beers?"
   ]
  },
  {
   "attachments": {},
   "cell_type": "markdown",
   "metadata": {},
   "source": [
    "Let's next take a look at the proportions of the location of the reviewers for very well rated beers (defined here as a rating>4), do they tend to be local to the country/area or not necessarily?"
   ]
  },
  {
   "attachments": {},
   "cell_type": "markdown",
   "metadata": {},
   "source": [
    "As a reminder the 'merged' location columns are the same as their unmerged counterparts but with the states of the United States grouped into one 'United States' category. This was done for when comparison at the country scale is necessary."
   ]
  },
  {
   "attachments": {},
   "cell_type": "markdown",
   "metadata": {},
   "source": [
    "We start by checking where most of the users who rate beers more than 4 out of 5 come from:"
   ]
  },
  {
   "cell_type": "code",
   "execution_count": 261,
   "metadata": {},
   "outputs": [],
   "source": [
    "good_beers_user_location_counts = pd.DataFrame(df_reviews_locations.loc[df_reviews_locations['rating']>4]['user_merged_location'].value_counts())\n",
    "good_beers_user_location_counts = good_beers_user_location_counts.rename(columns={\"user_merged_location\": \"Number of users\"})"
   ]
  },
  {
   "cell_type": "code",
   "execution_count": 262,
   "metadata": {},
   "outputs": [
    {
     "data": {
      "text/html": [
       "<div>\n",
       "<style scoped>\n",
       "    .dataframe tbody tr th:only-of-type {\n",
       "        vertical-align: middle;\n",
       "    }\n",
       "\n",
       "    .dataframe tbody tr th {\n",
       "        vertical-align: top;\n",
       "    }\n",
       "\n",
       "    .dataframe thead th {\n",
       "        text-align: right;\n",
       "    }\n",
       "</style>\n",
       "<table border=\"1\" class=\"dataframe\">\n",
       "  <thead>\n",
       "    <tr style=\"text-align: right;\">\n",
       "      <th></th>\n",
       "      <th>Number of users</th>\n",
       "    </tr>\n",
       "  </thead>\n",
       "  <tbody>\n",
       "    <tr>\n",
       "      <th>United States</th>\n",
       "      <td>1411060</td>\n",
       "    </tr>\n",
       "    <tr>\n",
       "      <th>Canada</th>\n",
       "      <td>86009</td>\n",
       "    </tr>\n",
       "    <tr>\n",
       "      <th>England</th>\n",
       "      <td>29255</td>\n",
       "    </tr>\n",
       "    <tr>\n",
       "      <th>Denmark</th>\n",
       "      <td>23638</td>\n",
       "    </tr>\n",
       "    <tr>\n",
       "      <th>Sweden</th>\n",
       "      <td>23443</td>\n",
       "    </tr>\n",
       "    <tr>\n",
       "      <th>Netherlands</th>\n",
       "      <td>20539</td>\n",
       "    </tr>\n",
       "    <tr>\n",
       "      <th>Poland</th>\n",
       "      <td>18450</td>\n",
       "    </tr>\n",
       "    <tr>\n",
       "      <th>Belgium</th>\n",
       "      <td>16630</td>\n",
       "    </tr>\n",
       "    <tr>\n",
       "      <th>Australia</th>\n",
       "      <td>15316</td>\n",
       "    </tr>\n",
       "    <tr>\n",
       "      <th>Germany</th>\n",
       "      <td>11852</td>\n",
       "    </tr>\n",
       "  </tbody>\n",
       "</table>\n",
       "</div>"
      ],
      "text/plain": [
       "               Number of users\n",
       "United States          1411060\n",
       "Canada                   86009\n",
       "England                  29255\n",
       "Denmark                  23638\n",
       "Sweden                   23443\n",
       "Netherlands              20539\n",
       "Poland                   18450\n",
       "Belgium                  16630\n",
       "Australia                15316\n",
       "Germany                  11852"
      ]
     },
     "execution_count": 262,
     "metadata": {},
     "output_type": "execute_result"
    }
   ],
   "source": [
    "good_beers_user_location_counts.head(10)"
   ]
  },
  {
   "attachments": {},
   "cell_type": "markdown",
   "metadata": {},
   "source": [
    "We take the user location countries which have at least 1000 reviews as a count, and we plot the relative proportions of well reviewed (rating>4) beers which are brewed in the same country as the user location ('Local brewery') and the ones that aren't : "
   ]
  },
  {
   "cell_type": "code",
   "execution_count": 263,
   "metadata": {},
   "outputs": [],
   "source": [
    "good_beers_user_location_counts_1000 = good_beers_user_location_counts.loc[good_beers_user_location_counts['Number of users']>1000]"
   ]
  },
  {
   "cell_type": "code",
   "execution_count": 264,
   "metadata": {},
   "outputs": [],
   "source": [
    "df_country_barplot = pd.DataFrame (columns = ['Local brewery','Out of country/state brewery'],\n",
    "                                  index = good_beers_user_location_counts_1000.index)"
   ]
  },
  {
   "cell_type": "code",
   "execution_count": 265,
   "metadata": {},
   "outputs": [],
   "source": [
    "for country in good_beers_user_location_counts_1000.index:\n",
    "    location_users_data = df_reviews_locations[df_reviews_locations['user_merged_location'] == country]\n",
    "    dummy_location = (location_users_data['brewery_merged_location']== country).astype(int)\n",
    "    proportions = dummy_location.value_counts(normalize= True)\n",
    "    df_country_barplot.loc[country]['Local brewery']=proportions[0]\n",
    "    df_country_barplot.loc[country]['Out of country/state brewery']=proportions[0]"
   ]
  },
  {
   "cell_type": "code",
   "execution_count": 266,
   "metadata": {},
   "outputs": [],
   "source": [
    "df_country_barplot.reset_index(inplace=True)\n",
    "df_country_barplot = df_country_barplot.rename(columns = {'index':'Countries'})"
   ]
  },
  {
   "cell_type": "code",
   "execution_count": 269,
   "metadata": {},
   "outputs": [
    {
     "data": {
      "application/vnd.plotly.v1+json": {
       "config": {
        "plotlyServerURL": "https://plot.ly"
       },
       "data": [
        {
         "base": 0,
         "name": "Local brewery",
         "type": "bar",
         "x": [
          "United States",
          "Canada",
          "England",
          "Denmark",
          "Sweden",
          "Netherlands",
          "Poland",
          "Belgium",
          "Australia",
          "Germany",
          "Norway",
          "Italy",
          "Spain",
          "Finland",
          "Scotland",
          "France",
          "Japan",
          "Hungary",
          "Switzerland",
          "Brazil",
          "Mexico",
          "New Zealand",
          "Romania",
          "Slovak Republic",
          "Ireland",
          "Greece",
          "Czech Republic",
          "Russia",
          "Croatia",
          "Estonia",
          "Northern Ireland",
          "Slovenia",
          "Austria"
         ],
         "y": [
          0.19804602401419477,
          0.5661065822597922,
          0.44901902721910375,
          0.7504788581550059,
          0.7285807896030142,
          0.6981178527025863,
          0.3783205596849524,
          0.4988662131519274,
          0.6098976485987794,
          0.4899761818964835,
          0.7315265400474249,
          0.6901113859331685,
          0.7086932062609617,
          0.8152935793173735,
          0.7838913083363107,
          0.736876607331955,
          0.6415675180963475,
          0.7807394668959587,
          0.7375427567717482,
          0.6403231017770598,
          0.7418812562084511,
          0.5315362365418609,
          0.903766217407734,
          0.8229630889607076,
          0.7591365395971393,
          0.8482842887689644,
          0.5929380926682599,
          0.6456524069904578,
          0.8768728035020655,
          0.8190463535932576,
          0.9569707401032702,
          0.8452136501417815,
          0.6426396611066985
         ]
        },
        {
         "base": [
          0.19804602401419477,
          0.5661065822597922,
          0.44901902721910375,
          0.7504788581550059,
          0.7285807896030142,
          0.6981178527025863,
          0.3783205596849524,
          0.4988662131519274,
          0.6098976485987794,
          0.4899761818964835,
          0.7315265400474249,
          0.6901113859331685,
          0.7086932062609617,
          0.8152935793173735,
          0.7838913083363107,
          0.736876607331955,
          0.6415675180963475,
          0.7807394668959587,
          0.7375427567717482,
          0.6403231017770598,
          0.7418812562084511,
          0.5315362365418609,
          0.903766217407734,
          0.8229630889607076,
          0.7591365395971393,
          0.8482842887689644,
          0.5929380926682599,
          0.6456524069904578,
          0.8768728035020655,
          0.8190463535932576,
          0.9569707401032702,
          0.8452136501417815,
          0.6426396611066985
         ],
         "name": "Out of country brewery",
         "type": "bar",
         "x": [
          "United States",
          "Canada",
          "England",
          "Denmark",
          "Sweden",
          "Netherlands",
          "Poland",
          "Belgium",
          "Australia",
          "Germany",
          "Norway",
          "Italy",
          "Spain",
          "Finland",
          "Scotland",
          "France",
          "Japan",
          "Hungary",
          "Switzerland",
          "Brazil",
          "Mexico",
          "New Zealand",
          "Romania",
          "Slovak Republic",
          "Ireland",
          "Greece",
          "Czech Republic",
          "Russia",
          "Croatia",
          "Estonia",
          "Northern Ireland",
          "Slovenia",
          "Austria"
         ],
         "y": [
          0.19804602401419477,
          0.5661065822597922,
          0.44901902721910375,
          0.7504788581550059,
          0.7285807896030142,
          0.6981178527025863,
          0.3783205596849524,
          0.4988662131519274,
          0.6098976485987794,
          0.4899761818964835,
          0.7315265400474249,
          0.6901113859331685,
          0.7086932062609617,
          0.8152935793173735,
          0.7838913083363107,
          0.736876607331955,
          0.6415675180963475,
          0.7807394668959587,
          0.7375427567717482,
          0.6403231017770598,
          0.7418812562084511,
          0.5315362365418609,
          0.903766217407734,
          0.8229630889607076,
          0.7591365395971393,
          0.8482842887689644,
          0.5929380926682599,
          0.6456524069904578,
          0.8768728035020655,
          0.8190463535932576,
          0.9569707401032702,
          0.8452136501417815,
          0.6426396611066985
         ]
        }
       ],
       "layout": {
        "barmode": "stack",
        "paper_bgcolor": "rgba(0,0,0,0)",
        "template": {
         "data": {
          "bar": [
           {
            "error_x": {
             "color": "#2a3f5f"
            },
            "error_y": {
             "color": "#2a3f5f"
            },
            "marker": {
             "line": {
              "color": "#E5ECF6",
              "width": 0.5
             },
             "pattern": {
              "fillmode": "overlay",
              "size": 10,
              "solidity": 0.2
             }
            },
            "type": "bar"
           }
          ],
          "barpolar": [
           {
            "marker": {
             "line": {
              "color": "#E5ECF6",
              "width": 0.5
             },
             "pattern": {
              "fillmode": "overlay",
              "size": 10,
              "solidity": 0.2
             }
            },
            "type": "barpolar"
           }
          ],
          "carpet": [
           {
            "aaxis": {
             "endlinecolor": "#2a3f5f",
             "gridcolor": "white",
             "linecolor": "white",
             "minorgridcolor": "white",
             "startlinecolor": "#2a3f5f"
            },
            "baxis": {
             "endlinecolor": "#2a3f5f",
             "gridcolor": "white",
             "linecolor": "white",
             "minorgridcolor": "white",
             "startlinecolor": "#2a3f5f"
            },
            "type": "carpet"
           }
          ],
          "choropleth": [
           {
            "colorbar": {
             "outlinewidth": 0,
             "ticks": ""
            },
            "type": "choropleth"
           }
          ],
          "contour": [
           {
            "colorbar": {
             "outlinewidth": 0,
             "ticks": ""
            },
            "colorscale": [
             [
              0,
              "#0d0887"
             ],
             [
              0.1111111111111111,
              "#46039f"
             ],
             [
              0.2222222222222222,
              "#7201a8"
             ],
             [
              0.3333333333333333,
              "#9c179e"
             ],
             [
              0.4444444444444444,
              "#bd3786"
             ],
             [
              0.5555555555555556,
              "#d8576b"
             ],
             [
              0.6666666666666666,
              "#ed7953"
             ],
             [
              0.7777777777777778,
              "#fb9f3a"
             ],
             [
              0.8888888888888888,
              "#fdca26"
             ],
             [
              1,
              "#f0f921"
             ]
            ],
            "type": "contour"
           }
          ],
          "contourcarpet": [
           {
            "colorbar": {
             "outlinewidth": 0,
             "ticks": ""
            },
            "type": "contourcarpet"
           }
          ],
          "heatmap": [
           {
            "colorbar": {
             "outlinewidth": 0,
             "ticks": ""
            },
            "colorscale": [
             [
              0,
              "#0d0887"
             ],
             [
              0.1111111111111111,
              "#46039f"
             ],
             [
              0.2222222222222222,
              "#7201a8"
             ],
             [
              0.3333333333333333,
              "#9c179e"
             ],
             [
              0.4444444444444444,
              "#bd3786"
             ],
             [
              0.5555555555555556,
              "#d8576b"
             ],
             [
              0.6666666666666666,
              "#ed7953"
             ],
             [
              0.7777777777777778,
              "#fb9f3a"
             ],
             [
              0.8888888888888888,
              "#fdca26"
             ],
             [
              1,
              "#f0f921"
             ]
            ],
            "type": "heatmap"
           }
          ],
          "heatmapgl": [
           {
            "colorbar": {
             "outlinewidth": 0,
             "ticks": ""
            },
            "colorscale": [
             [
              0,
              "#0d0887"
             ],
             [
              0.1111111111111111,
              "#46039f"
             ],
             [
              0.2222222222222222,
              "#7201a8"
             ],
             [
              0.3333333333333333,
              "#9c179e"
             ],
             [
              0.4444444444444444,
              "#bd3786"
             ],
             [
              0.5555555555555556,
              "#d8576b"
             ],
             [
              0.6666666666666666,
              "#ed7953"
             ],
             [
              0.7777777777777778,
              "#fb9f3a"
             ],
             [
              0.8888888888888888,
              "#fdca26"
             ],
             [
              1,
              "#f0f921"
             ]
            ],
            "type": "heatmapgl"
           }
          ],
          "histogram": [
           {
            "marker": {
             "pattern": {
              "fillmode": "overlay",
              "size": 10,
              "solidity": 0.2
             }
            },
            "type": "histogram"
           }
          ],
          "histogram2d": [
           {
            "colorbar": {
             "outlinewidth": 0,
             "ticks": ""
            },
            "colorscale": [
             [
              0,
              "#0d0887"
             ],
             [
              0.1111111111111111,
              "#46039f"
             ],
             [
              0.2222222222222222,
              "#7201a8"
             ],
             [
              0.3333333333333333,
              "#9c179e"
             ],
             [
              0.4444444444444444,
              "#bd3786"
             ],
             [
              0.5555555555555556,
              "#d8576b"
             ],
             [
              0.6666666666666666,
              "#ed7953"
             ],
             [
              0.7777777777777778,
              "#fb9f3a"
             ],
             [
              0.8888888888888888,
              "#fdca26"
             ],
             [
              1,
              "#f0f921"
             ]
            ],
            "type": "histogram2d"
           }
          ],
          "histogram2dcontour": [
           {
            "colorbar": {
             "outlinewidth": 0,
             "ticks": ""
            },
            "colorscale": [
             [
              0,
              "#0d0887"
             ],
             [
              0.1111111111111111,
              "#46039f"
             ],
             [
              0.2222222222222222,
              "#7201a8"
             ],
             [
              0.3333333333333333,
              "#9c179e"
             ],
             [
              0.4444444444444444,
              "#bd3786"
             ],
             [
              0.5555555555555556,
              "#d8576b"
             ],
             [
              0.6666666666666666,
              "#ed7953"
             ],
             [
              0.7777777777777778,
              "#fb9f3a"
             ],
             [
              0.8888888888888888,
              "#fdca26"
             ],
             [
              1,
              "#f0f921"
             ]
            ],
            "type": "histogram2dcontour"
           }
          ],
          "mesh3d": [
           {
            "colorbar": {
             "outlinewidth": 0,
             "ticks": ""
            },
            "type": "mesh3d"
           }
          ],
          "parcoords": [
           {
            "line": {
             "colorbar": {
              "outlinewidth": 0,
              "ticks": ""
             }
            },
            "type": "parcoords"
           }
          ],
          "pie": [
           {
            "automargin": true,
            "type": "pie"
           }
          ],
          "scatter": [
           {
            "fillpattern": {
             "fillmode": "overlay",
             "size": 10,
             "solidity": 0.2
            },
            "type": "scatter"
           }
          ],
          "scatter3d": [
           {
            "line": {
             "colorbar": {
              "outlinewidth": 0,
              "ticks": ""
             }
            },
            "marker": {
             "colorbar": {
              "outlinewidth": 0,
              "ticks": ""
             }
            },
            "type": "scatter3d"
           }
          ],
          "scattercarpet": [
           {
            "marker": {
             "colorbar": {
              "outlinewidth": 0,
              "ticks": ""
             }
            },
            "type": "scattercarpet"
           }
          ],
          "scattergeo": [
           {
            "marker": {
             "colorbar": {
              "outlinewidth": 0,
              "ticks": ""
             }
            },
            "type": "scattergeo"
           }
          ],
          "scattergl": [
           {
            "marker": {
             "colorbar": {
              "outlinewidth": 0,
              "ticks": ""
             }
            },
            "type": "scattergl"
           }
          ],
          "scattermapbox": [
           {
            "marker": {
             "colorbar": {
              "outlinewidth": 0,
              "ticks": ""
             }
            },
            "type": "scattermapbox"
           }
          ],
          "scatterpolar": [
           {
            "marker": {
             "colorbar": {
              "outlinewidth": 0,
              "ticks": ""
             }
            },
            "type": "scatterpolar"
           }
          ],
          "scatterpolargl": [
           {
            "marker": {
             "colorbar": {
              "outlinewidth": 0,
              "ticks": ""
             }
            },
            "type": "scatterpolargl"
           }
          ],
          "scatterternary": [
           {
            "marker": {
             "colorbar": {
              "outlinewidth": 0,
              "ticks": ""
             }
            },
            "type": "scatterternary"
           }
          ],
          "surface": [
           {
            "colorbar": {
             "outlinewidth": 0,
             "ticks": ""
            },
            "colorscale": [
             [
              0,
              "#0d0887"
             ],
             [
              0.1111111111111111,
              "#46039f"
             ],
             [
              0.2222222222222222,
              "#7201a8"
             ],
             [
              0.3333333333333333,
              "#9c179e"
             ],
             [
              0.4444444444444444,
              "#bd3786"
             ],
             [
              0.5555555555555556,
              "#d8576b"
             ],
             [
              0.6666666666666666,
              "#ed7953"
             ],
             [
              0.7777777777777778,
              "#fb9f3a"
             ],
             [
              0.8888888888888888,
              "#fdca26"
             ],
             [
              1,
              "#f0f921"
             ]
            ],
            "type": "surface"
           }
          ],
          "table": [
           {
            "cells": {
             "fill": {
              "color": "#EBF0F8"
             },
             "line": {
              "color": "white"
             }
            },
            "header": {
             "fill": {
              "color": "#C8D4E3"
             },
             "line": {
              "color": "white"
             }
            },
            "type": "table"
           }
          ]
         },
         "layout": {
          "annotationdefaults": {
           "arrowcolor": "#2a3f5f",
           "arrowhead": 0,
           "arrowwidth": 1
          },
          "autotypenumbers": "strict",
          "coloraxis": {
           "colorbar": {
            "outlinewidth": 0,
            "ticks": ""
           }
          },
          "colorscale": {
           "diverging": [
            [
             0,
             "#8e0152"
            ],
            [
             0.1,
             "#c51b7d"
            ],
            [
             0.2,
             "#de77ae"
            ],
            [
             0.3,
             "#f1b6da"
            ],
            [
             0.4,
             "#fde0ef"
            ],
            [
             0.5,
             "#f7f7f7"
            ],
            [
             0.6,
             "#e6f5d0"
            ],
            [
             0.7,
             "#b8e186"
            ],
            [
             0.8,
             "#7fbc41"
            ],
            [
             0.9,
             "#4d9221"
            ],
            [
             1,
             "#276419"
            ]
           ],
           "sequential": [
            [
             0,
             "#0d0887"
            ],
            [
             0.1111111111111111,
             "#46039f"
            ],
            [
             0.2222222222222222,
             "#7201a8"
            ],
            [
             0.3333333333333333,
             "#9c179e"
            ],
            [
             0.4444444444444444,
             "#bd3786"
            ],
            [
             0.5555555555555556,
             "#d8576b"
            ],
            [
             0.6666666666666666,
             "#ed7953"
            ],
            [
             0.7777777777777778,
             "#fb9f3a"
            ],
            [
             0.8888888888888888,
             "#fdca26"
            ],
            [
             1,
             "#f0f921"
            ]
           ],
           "sequentialminus": [
            [
             0,
             "#0d0887"
            ],
            [
             0.1111111111111111,
             "#46039f"
            ],
            [
             0.2222222222222222,
             "#7201a8"
            ],
            [
             0.3333333333333333,
             "#9c179e"
            ],
            [
             0.4444444444444444,
             "#bd3786"
            ],
            [
             0.5555555555555556,
             "#d8576b"
            ],
            [
             0.6666666666666666,
             "#ed7953"
            ],
            [
             0.7777777777777778,
             "#fb9f3a"
            ],
            [
             0.8888888888888888,
             "#fdca26"
            ],
            [
             1,
             "#f0f921"
            ]
           ]
          },
          "colorway": [
           "#636efa",
           "#EF553B",
           "#00cc96",
           "#ab63fa",
           "#FFA15A",
           "#19d3f3",
           "#FF6692",
           "#B6E880",
           "#FF97FF",
           "#FECB52"
          ],
          "font": {
           "color": "#2a3f5f"
          },
          "geo": {
           "bgcolor": "white",
           "lakecolor": "white",
           "landcolor": "#E5ECF6",
           "showlakes": true,
           "showland": true,
           "subunitcolor": "white"
          },
          "hoverlabel": {
           "align": "left"
          },
          "hovermode": "closest",
          "mapbox": {
           "style": "light"
          },
          "paper_bgcolor": "white",
          "plot_bgcolor": "#E5ECF6",
          "polar": {
           "angularaxis": {
            "gridcolor": "white",
            "linecolor": "white",
            "ticks": ""
           },
           "bgcolor": "#E5ECF6",
           "radialaxis": {
            "gridcolor": "white",
            "linecolor": "white",
            "ticks": ""
           }
          },
          "scene": {
           "xaxis": {
            "backgroundcolor": "#E5ECF6",
            "gridcolor": "white",
            "gridwidth": 2,
            "linecolor": "white",
            "showbackground": true,
            "ticks": "",
            "zerolinecolor": "white"
           },
           "yaxis": {
            "backgroundcolor": "#E5ECF6",
            "gridcolor": "white",
            "gridwidth": 2,
            "linecolor": "white",
            "showbackground": true,
            "ticks": "",
            "zerolinecolor": "white"
           },
           "zaxis": {
            "backgroundcolor": "#E5ECF6",
            "gridcolor": "white",
            "gridwidth": 2,
            "linecolor": "white",
            "showbackground": true,
            "ticks": "",
            "zerolinecolor": "white"
           }
          },
          "shapedefaults": {
           "line": {
            "color": "#2a3f5f"
           }
          },
          "ternary": {
           "aaxis": {
            "gridcolor": "white",
            "linecolor": "white",
            "ticks": ""
           },
           "baxis": {
            "gridcolor": "white",
            "linecolor": "white",
            "ticks": ""
           },
           "bgcolor": "#E5ECF6",
           "caxis": {
            "gridcolor": "white",
            "linecolor": "white",
            "ticks": ""
           }
          },
          "title": {
           "x": 0.05
          },
          "xaxis": {
           "automargin": true,
           "gridcolor": "white",
           "linecolor": "white",
           "ticks": "",
           "title": {
            "standoff": 15
           },
           "zerolinecolor": "white",
           "zerolinewidth": 2
          },
          "yaxis": {
           "automargin": true,
           "gridcolor": "white",
           "linecolor": "white",
           "ticks": "",
           "title": {
            "standoff": 15
           },
           "zerolinecolor": "white",
           "zerolinewidth": 2
          }
         }
        },
        "title": {
         "text": "Proportions of users for very well rated beers (rating>4)",
         "x": 0.5
        },
        "yaxis": {
         "title": {
          "text": "Frequency"
         }
        }
       }
      }
     },
     "metadata": {},
     "output_type": "display_data"
    }
   ],
   "source": [
    "# Set the data for the plot\n",
    "x = df_country_barplot['Countries']\n",
    "y1 = df_country_barplot['Out of country/state brewery']\n",
    "y2 = df_country_barplot['Local brewery']\n",
    "\n",
    "# Create the figure and plot\n",
    "fig = go.Figure()\n",
    "fig.add_trace(go.Bar(x=x, y=y2, name='Local brewery', base=0))\n",
    "fig.add_trace(go.Bar(x=x, y=y1, name='Out of country brewery', base=y2))\n",
    "\n",
    "\n",
    "# Customize the layout and show the plot\n",
    "fig.update_layout(barmode='stack', yaxis=dict(title='Frequency'), title='Proportions of users for very well rated beers (rating>4)', title_x= 0.5, paper_bgcolor= 'rgba(0,0,0,0)')\n",
    "fig.show()\n",
    "\n",
    "fig.write_html('../plots_html/barplot_countries.html')"
   ]
  },
  {
   "attachments": {},
   "cell_type": "markdown",
   "metadata": {},
   "source": [
    "So at first glance, we observe that for most of these countries the beers rated higher than 4 are brewed out of their own country except for the United States, Belgium, Germany and England."
   ]
  },
  {
   "attachments": {},
   "cell_type": "markdown",
   "metadata": {},
   "source": [
    "For the United States, the above plot shows all the states combined as we grouped them in the 'user_merged_location' column, the data is the grouped States data, so it is thus interesting to do the same analysis on the individual US states. Also since more than 50% of the users have as a location the United States:"
   ]
  },
  {
   "cell_type": "code",
   "execution_count": 214,
   "metadata": {},
   "outputs": [
    {
     "data": {
      "text/plain": [
       "0.5821138938257506"
      ]
     },
     "execution_count": 214,
     "metadata": {},
     "output_type": "execute_result"
    }
   ],
   "source": [
    "len(df_reviews_locations.loc[df_reviews_locations['user_merged_location']=='United States'])/len(df_reviews_locations)"
   ]
  },
  {
   "attachments": {},
   "cell_type": "markdown",
   "metadata": {},
   "source": [
    "58% of the data lies in the United States. So we do what we did above but for individual States rather than countries:"
   ]
  },
  {
   "attachments": {},
   "cell_type": "markdown",
   "metadata": {},
   "source": [
    "We proceed similarly for the following plot:"
   ]
  },
  {
   "cell_type": "code",
   "execution_count": 271,
   "metadata": {},
   "outputs": [],
   "source": [
    "#We start by observing where the users who rate beers more than 4 out of 5 come from:\n",
    "good_beers_user_location_US = df_reviews_locations.loc[df_reviews_locations['user_location'].str.startswith('United States')]\n",
    "good_beers_user_location_US_counts = pd.DataFrame(good_beers_user_location_US.loc[good_beers_user_location_US['rating']>4]['user_location'].value_counts())\n",
    "good_beers_user_location_US_counts = good_beers_user_location_US_counts.rename(columns={\"user_merged_location\": \"Number of users\"})"
   ]
  },
  {
   "cell_type": "code",
   "execution_count": 272,
   "metadata": {},
   "outputs": [],
   "source": [
    "df_states_barplot = pd.DataFrame (columns = ['Local brewery','Out of country/state brewery'],\n",
    "                                  index = good_beers_user_location_US_counts.index)"
   ]
  },
  {
   "cell_type": "code",
   "execution_count": 273,
   "metadata": {},
   "outputs": [],
   "source": [
    "for state in good_beers_user_location_US_counts.index:\n",
    "    location_users_data = df_reviews_locations[df_reviews_locations['user_location'] == state]\n",
    "    dummy_location = (location_users_data['brewery_location']== state).astype(int)\n",
    "    proportions = dummy_location.value_counts(normalize= True)\n",
    "    df_states_barplot.loc[state]['Local brewery']=proportions[1]\n",
    "    df_states_barplot.loc[state]['Out of country/state brewery']=proportions[0]\n",
    "\n",
    "df_states_barplot.reset_index(inplace=True)"
   ]
  },
  {
   "cell_type": "code",
   "execution_count": 274,
   "metadata": {},
   "outputs": [],
   "source": [
    "df_states_barplot = df_states_barplot.rename(columns = {'index':'States'})"
   ]
  },
  {
   "cell_type": "code",
   "execution_count": 275,
   "metadata": {},
   "outputs": [
    {
     "data": {
      "application/vnd.plotly.v1+json": {
       "config": {
        "plotlyServerURL": "https://plot.ly"
       },
       "data": [
        {
         "base": 0,
         "name": "Local brewery",
         "type": "bar",
         "x": [
          "United States, California",
          "United States, Pennsylvania",
          "United States, New York",
          "United States, Illinois",
          "United States, Massachusetts",
          "United States, Ohio",
          "United States, Texas",
          "United States, Minnesota",
          "United States, New Jersey",
          "United States, Washington",
          "United States, Florida",
          "United States, Virginia",
          "United States, Michigan",
          "United States, Colorado",
          "United States, North Carolina",
          "United States, Georgia",
          "United States, Wisconsin",
          "United States, Maryland",
          "United States, Oregon",
          "United States, Indiana",
          "United States, Connecticut",
          "United States, Arizona",
          "United States, Missouri",
          "United States, New Hampshire",
          "United States, Kentucky",
          "United States, Iowa",
          "United States, South Carolina",
          "United States, Tennessee",
          "United States, Maine",
          "United States, Vermont",
          "United States, Rhode Island",
          "United States, Alabama",
          "United States, Louisiana",
          "United States, Nevada",
          "United States, Nebraska",
          "United States, Idaho",
          "United States, Oklahoma",
          "United States, Kansas",
          "United States, Delaware",
          "United States, West Virginia",
          "United States, Arkansas",
          "United States, New Mexico",
          "United States, Alaska",
          "United States, Mississippi",
          "United States, Utah",
          "United States, Wyoming",
          "United States, Montana",
          "United States, Hawaii",
          "United States, South Dakota",
          "United States, North Dakota"
         ],
         "y": [
          0.3845703372697636,
          0.20630982746003748,
          0.19092501963627576,
          0.16352720764723136,
          0.18790216873212584,
          0.17555850063708686,
          0.17755964071442024,
          0.18372455899008852,
          0.07394280408030046,
          0.1525084209451873,
          0.10707422314079554,
          0.12701507466248294,
          0.28136300589488283,
          0.2972931833570405,
          0.14234041627564434,
          0.12281811646297627,
          0.26325993817452137,
          0.10090752257933575,
          0.2648648648648649,
          0.16083711278094823,
          0.08518346142718776,
          0.1010715440877268,
          0.18389045261233128,
          0.12957352262234534,
          0.07210872054480805,
          0.07265877287405813,
          0.06183112741886166,
          0.07996588555415668,
          0.20722876965492168,
          0.20345659409447617,
          0.05170727732051177,
          0.05126278214659545,
          0.07818611042598922,
          0.06346869618354536,
          0.09245431691118532,
          0.1385551948051948,
          0.09876058304966397,
          0.06628735737664801,
          0.0689477142588942,
          0.038938876822835866,
          0.03799003958625974,
          0.10344304565448202,
          0.1759396557281929,
          0.048027444253859346,
          0.17813654398686551,
          0.07639314145744029,
          0.13184534699353578,
          0.051695478723404256,
          0.03231797919762259,
          0.014485387547649302
         ]
        },
        {
         "base": [
          0.3845703372697636,
          0.20630982746003748,
          0.19092501963627576,
          0.16352720764723136,
          0.18790216873212584,
          0.17555850063708686,
          0.17755964071442024,
          0.18372455899008852,
          0.07394280408030046,
          0.1525084209451873,
          0.10707422314079554,
          0.12701507466248294,
          0.28136300589488283,
          0.2972931833570405,
          0.14234041627564434,
          0.12281811646297627,
          0.26325993817452137,
          0.10090752257933575,
          0.2648648648648649,
          0.16083711278094823,
          0.08518346142718776,
          0.1010715440877268,
          0.18389045261233128,
          0.12957352262234534,
          0.07210872054480805,
          0.07265877287405813,
          0.06183112741886166,
          0.07996588555415668,
          0.20722876965492168,
          0.20345659409447617,
          0.05170727732051177,
          0.05126278214659545,
          0.07818611042598922,
          0.06346869618354536,
          0.09245431691118532,
          0.1385551948051948,
          0.09876058304966397,
          0.06628735737664801,
          0.0689477142588942,
          0.038938876822835866,
          0.03799003958625974,
          0.10344304565448202,
          0.1759396557281929,
          0.048027444253859346,
          0.17813654398686551,
          0.07639314145744029,
          0.13184534699353578,
          0.051695478723404256,
          0.03231797919762259,
          0.014485387547649302
         ],
         "name": "Out of country brewery",
         "type": "bar",
         "x": [
          "United States, California",
          "United States, Pennsylvania",
          "United States, New York",
          "United States, Illinois",
          "United States, Massachusetts",
          "United States, Ohio",
          "United States, Texas",
          "United States, Minnesota",
          "United States, New Jersey",
          "United States, Washington",
          "United States, Florida",
          "United States, Virginia",
          "United States, Michigan",
          "United States, Colorado",
          "United States, North Carolina",
          "United States, Georgia",
          "United States, Wisconsin",
          "United States, Maryland",
          "United States, Oregon",
          "United States, Indiana",
          "United States, Connecticut",
          "United States, Arizona",
          "United States, Missouri",
          "United States, New Hampshire",
          "United States, Kentucky",
          "United States, Iowa",
          "United States, South Carolina",
          "United States, Tennessee",
          "United States, Maine",
          "United States, Vermont",
          "United States, Rhode Island",
          "United States, Alabama",
          "United States, Louisiana",
          "United States, Nevada",
          "United States, Nebraska",
          "United States, Idaho",
          "United States, Oklahoma",
          "United States, Kansas",
          "United States, Delaware",
          "United States, West Virginia",
          "United States, Arkansas",
          "United States, New Mexico",
          "United States, Alaska",
          "United States, Mississippi",
          "United States, Utah",
          "United States, Wyoming",
          "United States, Montana",
          "United States, Hawaii",
          "United States, South Dakota",
          "United States, North Dakota"
         ],
         "y": [
          0.6154296627302364,
          0.7936901725399625,
          0.8090749803637243,
          0.8364727923527686,
          0.8120978312678742,
          0.8244414993629131,
          0.8224403592855798,
          0.8162754410099115,
          0.9260571959196996,
          0.8474915790548126,
          0.8929257768592045,
          0.872984925337517,
          0.7186369941051172,
          0.7027068166429595,
          0.8576595837243557,
          0.8771818835370238,
          0.7367400618254786,
          0.8990924774206642,
          0.7351351351351352,
          0.8391628872190517,
          0.9148165385728122,
          0.8989284559122732,
          0.8161095473876687,
          0.8704264773776547,
          0.9278912794551919,
          0.9273412271259419,
          0.9381688725811383,
          0.9200341144458433,
          0.7927712303450783,
          0.7965434059055239,
          0.9482927226794883,
          0.9487372178534046,
          0.9218138895740108,
          0.9365313038164547,
          0.9075456830888147,
          0.8614448051948052,
          0.901239416950336,
          0.933712642623352,
          0.9310522857411058,
          0.9610611231771641,
          0.9620099604137403,
          0.896556954345518,
          0.8240603442718071,
          0.9519725557461407,
          0.8218634560131345,
          0.9236068585425597,
          0.8681546530064642,
          0.9483045212765957,
          0.9676820208023774,
          0.9855146124523507
         ]
        }
       ],
       "layout": {
        "barmode": "stack",
        "paper_bgcolor": "rgba(0,0,0,0)",
        "template": {
         "data": {
          "bar": [
           {
            "error_x": {
             "color": "#2a3f5f"
            },
            "error_y": {
             "color": "#2a3f5f"
            },
            "marker": {
             "line": {
              "color": "#E5ECF6",
              "width": 0.5
             },
             "pattern": {
              "fillmode": "overlay",
              "size": 10,
              "solidity": 0.2
             }
            },
            "type": "bar"
           }
          ],
          "barpolar": [
           {
            "marker": {
             "line": {
              "color": "#E5ECF6",
              "width": 0.5
             },
             "pattern": {
              "fillmode": "overlay",
              "size": 10,
              "solidity": 0.2
             }
            },
            "type": "barpolar"
           }
          ],
          "carpet": [
           {
            "aaxis": {
             "endlinecolor": "#2a3f5f",
             "gridcolor": "white",
             "linecolor": "white",
             "minorgridcolor": "white",
             "startlinecolor": "#2a3f5f"
            },
            "baxis": {
             "endlinecolor": "#2a3f5f",
             "gridcolor": "white",
             "linecolor": "white",
             "minorgridcolor": "white",
             "startlinecolor": "#2a3f5f"
            },
            "type": "carpet"
           }
          ],
          "choropleth": [
           {
            "colorbar": {
             "outlinewidth": 0,
             "ticks": ""
            },
            "type": "choropleth"
           }
          ],
          "contour": [
           {
            "colorbar": {
             "outlinewidth": 0,
             "ticks": ""
            },
            "colorscale": [
             [
              0,
              "#0d0887"
             ],
             [
              0.1111111111111111,
              "#46039f"
             ],
             [
              0.2222222222222222,
              "#7201a8"
             ],
             [
              0.3333333333333333,
              "#9c179e"
             ],
             [
              0.4444444444444444,
              "#bd3786"
             ],
             [
              0.5555555555555556,
              "#d8576b"
             ],
             [
              0.6666666666666666,
              "#ed7953"
             ],
             [
              0.7777777777777778,
              "#fb9f3a"
             ],
             [
              0.8888888888888888,
              "#fdca26"
             ],
             [
              1,
              "#f0f921"
             ]
            ],
            "type": "contour"
           }
          ],
          "contourcarpet": [
           {
            "colorbar": {
             "outlinewidth": 0,
             "ticks": ""
            },
            "type": "contourcarpet"
           }
          ],
          "heatmap": [
           {
            "colorbar": {
             "outlinewidth": 0,
             "ticks": ""
            },
            "colorscale": [
             [
              0,
              "#0d0887"
             ],
             [
              0.1111111111111111,
              "#46039f"
             ],
             [
              0.2222222222222222,
              "#7201a8"
             ],
             [
              0.3333333333333333,
              "#9c179e"
             ],
             [
              0.4444444444444444,
              "#bd3786"
             ],
             [
              0.5555555555555556,
              "#d8576b"
             ],
             [
              0.6666666666666666,
              "#ed7953"
             ],
             [
              0.7777777777777778,
              "#fb9f3a"
             ],
             [
              0.8888888888888888,
              "#fdca26"
             ],
             [
              1,
              "#f0f921"
             ]
            ],
            "type": "heatmap"
           }
          ],
          "heatmapgl": [
           {
            "colorbar": {
             "outlinewidth": 0,
             "ticks": ""
            },
            "colorscale": [
             [
              0,
              "#0d0887"
             ],
             [
              0.1111111111111111,
              "#46039f"
             ],
             [
              0.2222222222222222,
              "#7201a8"
             ],
             [
              0.3333333333333333,
              "#9c179e"
             ],
             [
              0.4444444444444444,
              "#bd3786"
             ],
             [
              0.5555555555555556,
              "#d8576b"
             ],
             [
              0.6666666666666666,
              "#ed7953"
             ],
             [
              0.7777777777777778,
              "#fb9f3a"
             ],
             [
              0.8888888888888888,
              "#fdca26"
             ],
             [
              1,
              "#f0f921"
             ]
            ],
            "type": "heatmapgl"
           }
          ],
          "histogram": [
           {
            "marker": {
             "pattern": {
              "fillmode": "overlay",
              "size": 10,
              "solidity": 0.2
             }
            },
            "type": "histogram"
           }
          ],
          "histogram2d": [
           {
            "colorbar": {
             "outlinewidth": 0,
             "ticks": ""
            },
            "colorscale": [
             [
              0,
              "#0d0887"
             ],
             [
              0.1111111111111111,
              "#46039f"
             ],
             [
              0.2222222222222222,
              "#7201a8"
             ],
             [
              0.3333333333333333,
              "#9c179e"
             ],
             [
              0.4444444444444444,
              "#bd3786"
             ],
             [
              0.5555555555555556,
              "#d8576b"
             ],
             [
              0.6666666666666666,
              "#ed7953"
             ],
             [
              0.7777777777777778,
              "#fb9f3a"
             ],
             [
              0.8888888888888888,
              "#fdca26"
             ],
             [
              1,
              "#f0f921"
             ]
            ],
            "type": "histogram2d"
           }
          ],
          "histogram2dcontour": [
           {
            "colorbar": {
             "outlinewidth": 0,
             "ticks": ""
            },
            "colorscale": [
             [
              0,
              "#0d0887"
             ],
             [
              0.1111111111111111,
              "#46039f"
             ],
             [
              0.2222222222222222,
              "#7201a8"
             ],
             [
              0.3333333333333333,
              "#9c179e"
             ],
             [
              0.4444444444444444,
              "#bd3786"
             ],
             [
              0.5555555555555556,
              "#d8576b"
             ],
             [
              0.6666666666666666,
              "#ed7953"
             ],
             [
              0.7777777777777778,
              "#fb9f3a"
             ],
             [
              0.8888888888888888,
              "#fdca26"
             ],
             [
              1,
              "#f0f921"
             ]
            ],
            "type": "histogram2dcontour"
           }
          ],
          "mesh3d": [
           {
            "colorbar": {
             "outlinewidth": 0,
             "ticks": ""
            },
            "type": "mesh3d"
           }
          ],
          "parcoords": [
           {
            "line": {
             "colorbar": {
              "outlinewidth": 0,
              "ticks": ""
             }
            },
            "type": "parcoords"
           }
          ],
          "pie": [
           {
            "automargin": true,
            "type": "pie"
           }
          ],
          "scatter": [
           {
            "fillpattern": {
             "fillmode": "overlay",
             "size": 10,
             "solidity": 0.2
            },
            "type": "scatter"
           }
          ],
          "scatter3d": [
           {
            "line": {
             "colorbar": {
              "outlinewidth": 0,
              "ticks": ""
             }
            },
            "marker": {
             "colorbar": {
              "outlinewidth": 0,
              "ticks": ""
             }
            },
            "type": "scatter3d"
           }
          ],
          "scattercarpet": [
           {
            "marker": {
             "colorbar": {
              "outlinewidth": 0,
              "ticks": ""
             }
            },
            "type": "scattercarpet"
           }
          ],
          "scattergeo": [
           {
            "marker": {
             "colorbar": {
              "outlinewidth": 0,
              "ticks": ""
             }
            },
            "type": "scattergeo"
           }
          ],
          "scattergl": [
           {
            "marker": {
             "colorbar": {
              "outlinewidth": 0,
              "ticks": ""
             }
            },
            "type": "scattergl"
           }
          ],
          "scattermapbox": [
           {
            "marker": {
             "colorbar": {
              "outlinewidth": 0,
              "ticks": ""
             }
            },
            "type": "scattermapbox"
           }
          ],
          "scatterpolar": [
           {
            "marker": {
             "colorbar": {
              "outlinewidth": 0,
              "ticks": ""
             }
            },
            "type": "scatterpolar"
           }
          ],
          "scatterpolargl": [
           {
            "marker": {
             "colorbar": {
              "outlinewidth": 0,
              "ticks": ""
             }
            },
            "type": "scatterpolargl"
           }
          ],
          "scatterternary": [
           {
            "marker": {
             "colorbar": {
              "outlinewidth": 0,
              "ticks": ""
             }
            },
            "type": "scatterternary"
           }
          ],
          "surface": [
           {
            "colorbar": {
             "outlinewidth": 0,
             "ticks": ""
            },
            "colorscale": [
             [
              0,
              "#0d0887"
             ],
             [
              0.1111111111111111,
              "#46039f"
             ],
             [
              0.2222222222222222,
              "#7201a8"
             ],
             [
              0.3333333333333333,
              "#9c179e"
             ],
             [
              0.4444444444444444,
              "#bd3786"
             ],
             [
              0.5555555555555556,
              "#d8576b"
             ],
             [
              0.6666666666666666,
              "#ed7953"
             ],
             [
              0.7777777777777778,
              "#fb9f3a"
             ],
             [
              0.8888888888888888,
              "#fdca26"
             ],
             [
              1,
              "#f0f921"
             ]
            ],
            "type": "surface"
           }
          ],
          "table": [
           {
            "cells": {
             "fill": {
              "color": "#EBF0F8"
             },
             "line": {
              "color": "white"
             }
            },
            "header": {
             "fill": {
              "color": "#C8D4E3"
             },
             "line": {
              "color": "white"
             }
            },
            "type": "table"
           }
          ]
         },
         "layout": {
          "annotationdefaults": {
           "arrowcolor": "#2a3f5f",
           "arrowhead": 0,
           "arrowwidth": 1
          },
          "autotypenumbers": "strict",
          "coloraxis": {
           "colorbar": {
            "outlinewidth": 0,
            "ticks": ""
           }
          },
          "colorscale": {
           "diverging": [
            [
             0,
             "#8e0152"
            ],
            [
             0.1,
             "#c51b7d"
            ],
            [
             0.2,
             "#de77ae"
            ],
            [
             0.3,
             "#f1b6da"
            ],
            [
             0.4,
             "#fde0ef"
            ],
            [
             0.5,
             "#f7f7f7"
            ],
            [
             0.6,
             "#e6f5d0"
            ],
            [
             0.7,
             "#b8e186"
            ],
            [
             0.8,
             "#7fbc41"
            ],
            [
             0.9,
             "#4d9221"
            ],
            [
             1,
             "#276419"
            ]
           ],
           "sequential": [
            [
             0,
             "#0d0887"
            ],
            [
             0.1111111111111111,
             "#46039f"
            ],
            [
             0.2222222222222222,
             "#7201a8"
            ],
            [
             0.3333333333333333,
             "#9c179e"
            ],
            [
             0.4444444444444444,
             "#bd3786"
            ],
            [
             0.5555555555555556,
             "#d8576b"
            ],
            [
             0.6666666666666666,
             "#ed7953"
            ],
            [
             0.7777777777777778,
             "#fb9f3a"
            ],
            [
             0.8888888888888888,
             "#fdca26"
            ],
            [
             1,
             "#f0f921"
            ]
           ],
           "sequentialminus": [
            [
             0,
             "#0d0887"
            ],
            [
             0.1111111111111111,
             "#46039f"
            ],
            [
             0.2222222222222222,
             "#7201a8"
            ],
            [
             0.3333333333333333,
             "#9c179e"
            ],
            [
             0.4444444444444444,
             "#bd3786"
            ],
            [
             0.5555555555555556,
             "#d8576b"
            ],
            [
             0.6666666666666666,
             "#ed7953"
            ],
            [
             0.7777777777777778,
             "#fb9f3a"
            ],
            [
             0.8888888888888888,
             "#fdca26"
            ],
            [
             1,
             "#f0f921"
            ]
           ]
          },
          "colorway": [
           "#636efa",
           "#EF553B",
           "#00cc96",
           "#ab63fa",
           "#FFA15A",
           "#19d3f3",
           "#FF6692",
           "#B6E880",
           "#FF97FF",
           "#FECB52"
          ],
          "font": {
           "color": "#2a3f5f"
          },
          "geo": {
           "bgcolor": "white",
           "lakecolor": "white",
           "landcolor": "#E5ECF6",
           "showlakes": true,
           "showland": true,
           "subunitcolor": "white"
          },
          "hoverlabel": {
           "align": "left"
          },
          "hovermode": "closest",
          "mapbox": {
           "style": "light"
          },
          "paper_bgcolor": "white",
          "plot_bgcolor": "#E5ECF6",
          "polar": {
           "angularaxis": {
            "gridcolor": "white",
            "linecolor": "white",
            "ticks": ""
           },
           "bgcolor": "#E5ECF6",
           "radialaxis": {
            "gridcolor": "white",
            "linecolor": "white",
            "ticks": ""
           }
          },
          "scene": {
           "xaxis": {
            "backgroundcolor": "#E5ECF6",
            "gridcolor": "white",
            "gridwidth": 2,
            "linecolor": "white",
            "showbackground": true,
            "ticks": "",
            "zerolinecolor": "white"
           },
           "yaxis": {
            "backgroundcolor": "#E5ECF6",
            "gridcolor": "white",
            "gridwidth": 2,
            "linecolor": "white",
            "showbackground": true,
            "ticks": "",
            "zerolinecolor": "white"
           },
           "zaxis": {
            "backgroundcolor": "#E5ECF6",
            "gridcolor": "white",
            "gridwidth": 2,
            "linecolor": "white",
            "showbackground": true,
            "ticks": "",
            "zerolinecolor": "white"
           }
          },
          "shapedefaults": {
           "line": {
            "color": "#2a3f5f"
           }
          },
          "ternary": {
           "aaxis": {
            "gridcolor": "white",
            "linecolor": "white",
            "ticks": ""
           },
           "baxis": {
            "gridcolor": "white",
            "linecolor": "white",
            "ticks": ""
           },
           "bgcolor": "#E5ECF6",
           "caxis": {
            "gridcolor": "white",
            "linecolor": "white",
            "ticks": ""
           }
          },
          "title": {
           "x": 0.05
          },
          "xaxis": {
           "automargin": true,
           "gridcolor": "white",
           "linecolor": "white",
           "ticks": "",
           "title": {
            "standoff": 15
           },
           "zerolinecolor": "white",
           "zerolinewidth": 2
          },
          "yaxis": {
           "automargin": true,
           "gridcolor": "white",
           "linecolor": "white",
           "ticks": "",
           "title": {
            "standoff": 15
           },
           "zerolinecolor": "white",
           "zerolinewidth": 2
          }
         }
        },
        "title": {
         "text": "Proportions of users for very well rated beers (rating>4) in the United States",
         "x": 0.5
        },
        "yaxis": {
         "title": {
          "text": "Frequency"
         }
        }
       }
      }
     },
     "metadata": {},
     "output_type": "display_data"
    }
   ],
   "source": [
    "# Set the data for the plot\n",
    "x = df_states_barplot['States']\n",
    "y1 = df_states_barplot['Out of country/state brewery']\n",
    "y2 = df_states_barplot['Local brewery']\n",
    "\n",
    "# Create the figure and plot\n",
    "fig = go.Figure()\n",
    "fig.add_trace(go.Bar(x=x, y=y2, name='Local brewery', base=0))\n",
    "fig.add_trace(go.Bar(x=x, y=y1, name='Out of country brewery', base=y2))\n",
    "\n",
    "# Customize the layout and show the plot\n",
    "fig.update_layout(barmode='stack', yaxis=dict(title='Frequency'), title='Proportions of users for very well rated beers (rating>4) in the United States', title_x= 0.5, paper_bgcolor= 'rgba(0,0,0,0)')\n",
    "fig.show()\n",
    "\n",
    "fig.write_html('../plots_html/barplot_states.html')"
   ]
  },
  {
   "attachments": {},
   "cell_type": "markdown",
   "metadata": {},
   "source": [
    "At first glance it seems that even state by state, most people's top rated beers don't come from their own states."
   ]
  },
  {
   "attachments": {},
   "cell_type": "markdown",
   "metadata": {},
   "source": [
    "But thinking further, maybe the physical location of the user and the brewery isn't enough to define this cultural/location bias. In fact, maybe beers brewed in California and Oregon have similar styles of brewing, making both populations consume beers brewed in either location regardless of whether it's local or not. Thus we need to define a more precise way to measure this cultural bias."
   ]
  },
  {
   "attachments": {},
   "cell_type": "markdown",
   "metadata": {},
   "source": [
    "For every beer, we have access to its style with the feature 'style'. The beer's style is quite revealing of beer cultures.\n",
    "Different beer styles can provide insight into the cultural and historical context in which they were developed. Each beer style has its own unique characteristics and flavor profile that is influenced by the ingredients, techniques, and traditions of the region in which it is produced. Different beer styles can offer a unique window into the traditions and practices of a particular region. This in turn can influence one's beer preferences more than the physical location of the brewery."
   ]
  },
  {
   "attachments": {},
   "cell_type": "markdown",
   "metadata": {},
   "source": [
    "So we decide to create a vector for each country that contains a 'style stamp'. Essentially, each beer style will have a weight associated to it depending how well that particular style is rated in a country/region. Then the idea is to see whether some countries/states cluster together based on how close their preferences are."
   ]
  },
  {
   "attachments": {},
   "cell_type": "markdown",
   "metadata": {},
   "source": [
    "In the following section we create a dataframe which will contain a vector per country accounting for how much users from a certain country rate (higher than 4) each style of beer. This defines a sort of 'cultural stamp' vector per country which is probably much better at describing what each user likes compared to just investigating the location of the breweries compared of the location of the users."
   ]
  },
  {
   "attachments": {},
   "cell_type": "markdown",
   "metadata": {},
   "source": [
    "## Defining style vectors for each country"
   ]
  },
  {
   "attachments": {},
   "cell_type": "markdown",
   "metadata": {},
   "source": [
    "### Reviews with rating higher than 4"
   ]
  },
  {
   "attachments": {},
   "cell_type": "markdown",
   "metadata": {},
   "source": [
    "We start by filtering all the reviews by the ones that have received a rating higher than 4:"
   ]
  },
  {
   "cell_type": "code",
   "execution_count": 15,
   "metadata": {},
   "outputs": [],
   "source": [
    "df_reviews_all_good_beers = df_reviews_locations.loc[df_reviews_locations['rating']>4]"
   ]
  },
  {
   "attachments": {},
   "cell_type": "markdown",
   "metadata": {},
   "source": [
    "Next we define df_beer_style_score which contains a vector per country containing the normalized percentages of the number of reviews that review a certain style of beer (for ratings higher than 4):"
   ]
  },
  {
   "cell_type": "code",
   "execution_count": 20,
   "metadata": {},
   "outputs": [],
   "source": [
    "countries = df_reviews_all_good_beers['user_location'].unique() #a vector containing the list of unique countries\n",
    "df_beer_style_score_good = pd.DataFrame(index=df_reviews_all_good_beers['style'].unique()) #define a DataFrame where the indices are all the beer styles\n",
    "\n",
    "for country in countries:\n",
    "    df_country = pd.DataFrame(df_reviews_all_good_beers.loc[df_reviews_all_good_beers['user_location']==country]['style'].value_counts(normalize= True).reindex(df_reviews_all_good_beers['style'].unique(), fill_value=0)) #puts 0's for the values where the count was 0\n",
    "    df_country = df_country.rename(columns={ \"style\": country})\n",
    "    df_beer_style_score_good = df_beer_style_score_good.join(df_country)\n",
    "\n",
    "df_beer_style_score_good = df_beer_style_score_good.T"
   ]
  },
  {
   "cell_type": "code",
   "execution_count": 278,
   "metadata": {},
   "outputs": [
    {
     "data": {
      "text/html": [
       "<div>\n",
       "<style scoped>\n",
       "    .dataframe tbody tr th:only-of-type {\n",
       "        vertical-align: middle;\n",
       "    }\n",
       "\n",
       "    .dataframe tbody tr th {\n",
       "        vertical-align: top;\n",
       "    }\n",
       "\n",
       "    .dataframe thead th {\n",
       "        text-align: right;\n",
       "    }\n",
       "</style>\n",
       "<table border=\"1\" class=\"dataframe\">\n",
       "  <thead>\n",
       "    <tr style=\"text-align: right;\">\n",
       "      <th></th>\n",
       "      <th>Pale Lager</th>\n",
       "      <th>Imperial Stout</th>\n",
       "      <th>Malt Liquor</th>\n",
       "      <th>Brown Ale</th>\n",
       "      <th>Belgian Strong Ale</th>\n",
       "      <th>Russian Imperial Stout</th>\n",
       "      <th>Abt/Quadrupel</th>\n",
       "      <th>India Pale Ale (IPA)</th>\n",
       "      <th>Amber Lager/Vienna</th>\n",
       "      <th>Amber Lager/Vienna</th>\n",
       "      <th>...</th>\n",
       "      <th>American Pale Ale</th>\n",
       "      <th>American Porter</th>\n",
       "      <th>Amber Ale</th>\n",
       "      <th>German Pilsener</th>\n",
       "      <th>German Pilsener</th>\n",
       "      <th>Dry Stout</th>\n",
       "      <th>American Double / Imperial Stout</th>\n",
       "      <th>Czech Pilsner (Světlý)</th>\n",
       "      <th>Fruit Beer</th>\n",
       "      <th>Fruit Beer</th>\n",
       "    </tr>\n",
       "  </thead>\n",
       "  <tbody>\n",
       "    <tr>\n",
       "      <th>United States, Georgia</th>\n",
       "      <td>0.001617</td>\n",
       "      <td>0.047864</td>\n",
       "      <td>0.000511</td>\n",
       "      <td>0.004540</td>\n",
       "      <td>0.017193</td>\n",
       "      <td>0.038501</td>\n",
       "      <td>0.009902</td>\n",
       "      <td>0.023520</td>\n",
       "      <td>0.001135</td>\n",
       "      <td>0.001135</td>\n",
       "      <td>...</td>\n",
       "      <td>0.005362</td>\n",
       "      <td>0.022896</td>\n",
       "      <td>0.002582</td>\n",
       "      <td>0.003887</td>\n",
       "      <td>0.003887</td>\n",
       "      <td>0.002128</td>\n",
       "      <td>0.056659</td>\n",
       "      <td>0.000397</td>\n",
       "      <td>0.003376</td>\n",
       "      <td>0.003376</td>\n",
       "    </tr>\n",
       "    <tr>\n",
       "      <th>United States, New Jersey</th>\n",
       "      <td>0.000970</td>\n",
       "      <td>0.047072</td>\n",
       "      <td>0.000119</td>\n",
       "      <td>0.002138</td>\n",
       "      <td>0.017578</td>\n",
       "      <td>0.031989</td>\n",
       "      <td>0.008017</td>\n",
       "      <td>0.016351</td>\n",
       "      <td>0.000713</td>\n",
       "      <td>0.000713</td>\n",
       "      <td>...</td>\n",
       "      <td>0.004612</td>\n",
       "      <td>0.023041</td>\n",
       "      <td>0.001782</td>\n",
       "      <td>0.006097</td>\n",
       "      <td>0.006097</td>\n",
       "      <td>0.001663</td>\n",
       "      <td>0.050398</td>\n",
       "      <td>0.000396</td>\n",
       "      <td>0.002672</td>\n",
       "      <td>0.002672</td>\n",
       "    </tr>\n",
       "    <tr>\n",
       "      <th>United States, Alaska</th>\n",
       "      <td>0.001294</td>\n",
       "      <td>0.056404</td>\n",
       "      <td>0.000000</td>\n",
       "      <td>0.001552</td>\n",
       "      <td>0.015783</td>\n",
       "      <td>0.053299</td>\n",
       "      <td>0.010349</td>\n",
       "      <td>0.009573</td>\n",
       "      <td>0.000000</td>\n",
       "      <td>0.000000</td>\n",
       "      <td>...</td>\n",
       "      <td>0.001811</td>\n",
       "      <td>0.031307</td>\n",
       "      <td>0.000259</td>\n",
       "      <td>0.006468</td>\n",
       "      <td>0.006468</td>\n",
       "      <td>0.000517</td>\n",
       "      <td>0.045537</td>\n",
       "      <td>0.000517</td>\n",
       "      <td>0.003364</td>\n",
       "      <td>0.003364</td>\n",
       "    </tr>\n",
       "    <tr>\n",
       "      <th>Northern Ireland</th>\n",
       "      <td>0.001619</td>\n",
       "      <td>0.056680</td>\n",
       "      <td>0.000000</td>\n",
       "      <td>0.004049</td>\n",
       "      <td>0.004858</td>\n",
       "      <td>0.027530</td>\n",
       "      <td>0.004049</td>\n",
       "      <td>0.035628</td>\n",
       "      <td>0.000810</td>\n",
       "      <td>0.000810</td>\n",
       "      <td>...</td>\n",
       "      <td>0.012955</td>\n",
       "      <td>0.012146</td>\n",
       "      <td>0.001619</td>\n",
       "      <td>0.006478</td>\n",
       "      <td>0.006478</td>\n",
       "      <td>0.004858</td>\n",
       "      <td>0.033198</td>\n",
       "      <td>0.000810</td>\n",
       "      <td>0.002429</td>\n",
       "      <td>0.002429</td>\n",
       "    </tr>\n",
       "    <tr>\n",
       "      <th>United States, North Carolina</th>\n",
       "      <td>0.000716</td>\n",
       "      <td>0.034410</td>\n",
       "      <td>0.000099</td>\n",
       "      <td>0.002223</td>\n",
       "      <td>0.013216</td>\n",
       "      <td>0.040388</td>\n",
       "      <td>0.007485</td>\n",
       "      <td>0.013018</td>\n",
       "      <td>0.000469</td>\n",
       "      <td>0.000469</td>\n",
       "      <td>...</td>\n",
       "      <td>0.003508</td>\n",
       "      <td>0.027593</td>\n",
       "      <td>0.001729</td>\n",
       "      <td>0.005039</td>\n",
       "      <td>0.005039</td>\n",
       "      <td>0.000865</td>\n",
       "      <td>0.060051</td>\n",
       "      <td>0.000568</td>\n",
       "      <td>0.002816</td>\n",
       "      <td>0.002816</td>\n",
       "    </tr>\n",
       "  </tbody>\n",
       "</table>\n",
       "<p>5 rows × 42 columns</p>\n",
       "</div>"
      ],
      "text/plain": [
       "                               Pale Lager  Imperial Stout  Malt Liquor  \\\n",
       "United States, Georgia           0.001617        0.047864     0.000511   \n",
       "United States, New Jersey        0.000970        0.047072     0.000119   \n",
       "United States, Alaska            0.001294        0.056404     0.000000   \n",
       "Northern Ireland                 0.001619        0.056680     0.000000   \n",
       "United States, North Carolina    0.000716        0.034410     0.000099   \n",
       "\n",
       "                               Brown Ale  Belgian Strong Ale  \\\n",
       "United States, Georgia          0.004540            0.017193   \n",
       "United States, New Jersey       0.002138            0.017578   \n",
       "United States, Alaska           0.001552            0.015783   \n",
       "Northern Ireland                0.004049            0.004858   \n",
       "United States, North Carolina   0.002223            0.013216   \n",
       "\n",
       "                               Russian Imperial Stout  Abt/Quadrupel  \\\n",
       "United States, Georgia                       0.038501       0.009902   \n",
       "United States, New Jersey                    0.031989       0.008017   \n",
       "United States, Alaska                        0.053299       0.010349   \n",
       "Northern Ireland                             0.027530       0.004049   \n",
       "United States, North Carolina                0.040388       0.007485   \n",
       "\n",
       "                               India Pale Ale (IPA)  Amber Lager/Vienna  \\\n",
       "United States, Georgia                     0.023520            0.001135   \n",
       "United States, New Jersey                  0.016351            0.000713   \n",
       "United States, Alaska                      0.009573            0.000000   \n",
       "Northern Ireland                           0.035628            0.000810   \n",
       "United States, North Carolina              0.013018            0.000469   \n",
       "\n",
       "                               Amber Lager/Vienna  ...  American Pale Ale  \\\n",
       "United States, Georgia                   0.001135  ...           0.005362   \n",
       "United States, New Jersey                0.000713  ...           0.004612   \n",
       "United States, Alaska                    0.000000  ...           0.001811   \n",
       "Northern Ireland                         0.000810  ...           0.012955   \n",
       "United States, North Carolina            0.000469  ...           0.003508   \n",
       "\n",
       "                               American Porter  Amber Ale  German Pilsener  \\\n",
       "United States, Georgia                0.022896   0.002582         0.003887   \n",
       "United States, New Jersey             0.023041   0.001782         0.006097   \n",
       "United States, Alaska                 0.031307   0.000259         0.006468   \n",
       "Northern Ireland                      0.012146   0.001619         0.006478   \n",
       "United States, North Carolina         0.027593   0.001729         0.005039   \n",
       "\n",
       "                               German Pilsener  Dry Stout  \\\n",
       "United States, Georgia                0.003887   0.002128   \n",
       "United States, New Jersey             0.006097   0.001663   \n",
       "United States, Alaska                 0.006468   0.000517   \n",
       "Northern Ireland                      0.006478   0.004858   \n",
       "United States, North Carolina         0.005039   0.000865   \n",
       "\n",
       "                               American Double / Imperial Stout  \\\n",
       "United States, Georgia                                 0.056659   \n",
       "United States, New Jersey                              0.050398   \n",
       "United States, Alaska                                  0.045537   \n",
       "Northern Ireland                                       0.033198   \n",
       "United States, North Carolina                          0.060051   \n",
       "\n",
       "                               Czech Pilsner (Světlý)  Fruit Beer  Fruit Beer  \n",
       "United States, Georgia                       0.000397    0.003376    0.003376  \n",
       "United States, New Jersey                    0.000396    0.002672    0.002672  \n",
       "United States, Alaska                        0.000517    0.003364    0.003364  \n",
       "Northern Ireland                             0.000810    0.002429    0.002429  \n",
       "United States, North Carolina                0.000568    0.002816    0.002816  \n",
       "\n",
       "[5 rows x 42 columns]"
      ]
     },
     "execution_count": 278,
     "metadata": {},
     "output_type": "execute_result"
    }
   ],
   "source": [
    "df_beer_style_score_good.head()"
   ]
  },
  {
   "attachments": {},
   "cell_type": "markdown",
   "metadata": {},
   "source": [
    "Next we want to perform clustering over these 'style' vectors to see if some regions cluster together, indicating a preference for a certain brewing style regionally."
   ]
  },
  {
   "attachments": {},
   "cell_type": "markdown",
   "metadata": {},
   "source": [
    "There are 178 different beer styles, so 178 different features. The data is extremely high dimensionsal so we do feature selection using PCA to identify which features capture 95% of the explained variance of the data:"
   ]
  },
  {
   "cell_type": "code",
   "execution_count": 279,
   "metadata": {},
   "outputs": [
    {
     "name": "stdout",
     "output_type": "stream",
     "text": [
      "[pca] >Processing dataframe..\n",
      "[pca] >The PCA reduction is performed to capture [95.0%] explained variance using the [42] columns of the input data.\n",
      "[pca] >Fit using PCA.\n",
      "[pca] >Compute loadings and PCs.\n",
      "[pca] >Compute explained variance.\n",
      "[pca] >Number of components is [29] that covers the [95.00%] explained variance.\n",
      "[pca] >The PCA reduction is performed on the [42] columns of the input dataframe.\n",
      "[pca] >Fit using PCA.\n",
      "[pca] >Compute loadings and PCs.\n",
      "[pca] >Outlier detection using Hotelling T2 test with alpha=[0.05] and n_components=[29]\n",
      "[pca] >Outlier detection using SPE/DmodX with n_std=[2]\n",
      "      PC                           feature   loading  type\n",
      "0    PC1                        Pale Lager  0.983762  best\n",
      "1    PC2                    Imperial Stout -0.617921  best\n",
      "2    PC3                       Malt Liquor -0.721625  best\n",
      "3    PC4                Amber Lager/Vienna  0.579434  best\n",
      "4    PC5                         Brown Ale  0.834893  best\n",
      "5    PC6                Belgian Strong Ale  0.699102  best\n",
      "6    PC7            Russian Imperial Stout  0.751209  best\n",
      "7    PC8                     Abt/Quadrupel  0.842215  best\n",
      "8    PC9                 German Hefeweizen  0.698905  best\n",
      "9   PC10           Belgian Strong Pale Ale  0.793082  best\n",
      "10  PC11                      Dunkel/Tmavý  0.803575  best\n",
      "11  PC12                    English Bitter  0.702688  best\n",
      "12  PC13                    English Bitter  0.575272  best\n",
      "13  PC14                Premium Bitter/ESB  0.930666  best\n",
      "14  PC15                        Weizenbock  0.499635  best\n",
      "15  PC16                        Weizenbock  0.774602  best\n",
      "16  PC17           American Pale Wheat Ale  0.728781  best\n",
      "17  PC18                         Cream Ale  0.626925  best\n",
      "18  PC19             Maibock / Helles Bock  0.697808  best\n",
      "19  PC20                            Kölsch  0.726245  best\n",
      "20  PC21                Belgian Strong Ale  0.480441  best\n",
      "21  PC22              India Pale Ale (IPA)  0.363142  best\n",
      "22  PC23                          Pilsener  0.677220  best\n",
      "23  PC24                            Porter  0.799694  best\n",
      "24  PC25                     Premium Lager  0.746889  best\n",
      "25  PC26                Milk / Sweet Stout  0.778141  best\n",
      "26  PC27                   German Pilsener  0.583938  best\n",
      "27  PC28                English Barleywine  0.608110  best\n",
      "28  PC29                     Baltic Porter  0.726428  best\n",
      "29   PC4                Amber Lager/Vienna  0.579434  weak\n",
      "30  PC12                         Irish Ale -0.700923  weak\n",
      "31  PC20                Flanders Oud Bruin -0.686298  weak\n",
      "32  PC21                     Foreign Stout -0.442462  weak\n",
      "33  PC21                     Foreign Stout -0.442462  weak\n",
      "34  PC28                       Weizen Bock -0.165962  weak\n",
      "35  PC28              Golden Ale/Blond Ale -0.249926  weak\n",
      "36  PC29                 American Pale Ale -0.549598  weak\n",
      "37  PC29                   American Porter -0.178090  weak\n",
      "38  PC24                         Amber Ale  0.204112  weak\n",
      "39  PC27                   German Pilsener  0.583938  weak\n",
      "40  PC23                         Dry Stout  0.548506  weak\n",
      "41  PC22  American Double / Imperial Stout -0.273494  weak\n",
      "42  PC15            Czech Pilsner (Světlý) -0.044439  weak\n",
      "43  PC24                        Fruit Beer  0.218938  weak\n",
      "44  PC24                        Fruit Beer  0.218938  weak\n"
     ]
    }
   ],
   "source": [
    "# Initialize\n",
    "model = pca()\n",
    "# Fit transform\n",
    "out = model.fit_transform(df_beer_style_score_good)\n",
    "\n",
    "# Print the top features. The results show that f1 is best, followed by f2 etc\n",
    "print(out['topfeat'])\n",
    "\n",
    "#     PC      feature\n",
    "# 0  PC1      f1\n",
    "# 1  PC2      f2\n",
    "# 2  PC3      f3\n",
    "# 3  PC4      f4\n",
    "# 4  PC5      f5\n",
    "# 5  PC6      f6\n",
    "# 6  PC7      f7\n",
    "# 7  PC8      f8\n",
    "# 8  PC9      f9"
   ]
  },
  {
   "attachments": {},
   "cell_type": "markdown",
   "metadata": {},
   "source": [
    "So we select the 42 features corresponding to the those top features:"
   ]
  },
  {
   "cell_type": "code",
   "execution_count": 280,
   "metadata": {},
   "outputs": [],
   "source": [
    "top_features = out['topfeat'].head(42).feature\n",
    "df_beer_style_score_good = df_beer_style_score_good[top_features]"
   ]
  },
  {
   "attachments": {},
   "cell_type": "markdown",
   "metadata": {},
   "source": [
    "Next we perform K-means clutering. In order to select the optimal number of clusters, we run k-means over a range of values of K (number of clusters) and for each value we calculate the average distances to the centroid across all data points, we plot the result to find the point where the average distance from the centroid falls suddenly (the elbow of the curve):"
   ]
  },
  {
   "cell_type": "code",
   "execution_count": 27,
   "metadata": {},
   "outputs": [
    {
     "data": {
      "image/png": "[encoded data removed]",
      "text/plain": [
       "<Figure size 640x480 with 1 Axes>"
      ]
     },
     "metadata": {},
     "output_type": "display_data"
    }
   ],
   "source": [
    "Sum_of_squared_distances = []\n",
    "K = range(1,150)\n",
    "\n",
    "for num_clusters in K :\n",
    " kmeans = KMeans(n_clusters=num_clusters)\n",
    " kmeans.fit(df_beer_style_score_good)\n",
    " Sum_of_squared_distances.append(kmeans.inertia_)\n",
    "\n",
    "plt.plot(K,Sum_of_squared_distances,'bx-')\n",
    "plt.xlabel('Values of K') \n",
    "plt.ylabel('Sum of squared distances/Inertia') \n",
    "plt.title('Elbow Method For Optimal k')\n",
    "plt.show()"
   ]
  },
  {
   "attachments": {},
   "cell_type": "markdown",
   "metadata": {},
   "source": [
    "It looks like the elbow is around the value of K=35"
   ]
  },
  {
   "cell_type": "code",
   "execution_count": 281,
   "metadata": {},
   "outputs": [],
   "source": [
    "#running k-means with the found optimal k\n",
    "kmeans = KMeans(35)\n",
    "kmeans.fit(df_beer_style_score_good)\n",
    "clusters=kmeans.fit_predict(df_beer_style_score_good)"
   ]
  },
  {
   "cell_type": "code",
   "execution_count": 282,
   "metadata": {},
   "outputs": [],
   "source": [
    "clusters_data=df_beer_style_score_good.copy()\n",
    "#assigning the clusters to the data \n",
    "clusters_data['Cluster']=clusters"
   ]
  },
  {
   "attachments": {},
   "cell_type": "markdown",
   "metadata": {},
   "source": [
    "Next we want to plot the clusters on a map, so we use data with the longitutde and latitudes of each country and each state in the United States: "
   ]
  },
  {
   "cell_type": "code",
   "execution_count": 283,
   "metadata": {},
   "outputs": [],
   "source": [
    "plotting_data = clusters_data.join(df_coordinates)\n",
    "plotting_data = plotting_data.dropna(axis=0)"
   ]
  },
  {
   "cell_type": "code",
   "execution_count": 284,
   "metadata": {},
   "outputs": [
    {
     "data": {
      "text/html": [
       "<div>\n",
       "<style scoped>\n",
       "    .dataframe tbody tr th:only-of-type {\n",
       "        vertical-align: middle;\n",
       "    }\n",
       "\n",
       "    .dataframe tbody tr th {\n",
       "        vertical-align: top;\n",
       "    }\n",
       "\n",
       "    .dataframe thead th {\n",
       "        text-align: right;\n",
       "    }\n",
       "</style>\n",
       "<table border=\"1\" class=\"dataframe\">\n",
       "  <thead>\n",
       "    <tr style=\"text-align: right;\">\n",
       "      <th></th>\n",
       "      <th>Cluster</th>\n",
       "      <th>Longitude</th>\n",
       "      <th>Latitude</th>\n",
       "    </tr>\n",
       "  </thead>\n",
       "  <tbody>\n",
       "    <tr>\n",
       "      <th>United States, Georgia</th>\n",
       "      <td>1</td>\n",
       "      <td>-82.907123</td>\n",
       "      <td>32.157435</td>\n",
       "    </tr>\n",
       "    <tr>\n",
       "      <th>United States, New Jersey</th>\n",
       "      <td>1</td>\n",
       "      <td>-74.405661</td>\n",
       "      <td>40.058324</td>\n",
       "    </tr>\n",
       "    <tr>\n",
       "      <th>United States, Alaska</th>\n",
       "      <td>1</td>\n",
       "      <td>-154.493062</td>\n",
       "      <td>63.588753</td>\n",
       "    </tr>\n",
       "    <tr>\n",
       "      <th>Northern Ireland</th>\n",
       "      <td>1</td>\n",
       "      <td>6.492300</td>\n",
       "      <td>54.7877</td>\n",
       "    </tr>\n",
       "    <tr>\n",
       "      <th>United States, North Carolina</th>\n",
       "      <td>1</td>\n",
       "      <td>-79.019300</td>\n",
       "      <td>35.759573</td>\n",
       "    </tr>\n",
       "  </tbody>\n",
       "</table>\n",
       "</div>"
      ],
      "text/plain": [
       "                               Cluster   Longitude   Latitude\n",
       "United States, Georgia               1  -82.907123  32.157435\n",
       "United States, New Jersey            1  -74.405661  40.058324\n",
       "United States, Alaska                1 -154.493062  63.588753\n",
       "Northern Ireland                     1    6.492300    54.7877\n",
       "United States, North Carolina        1  -79.019300  35.759573"
      ]
     },
     "execution_count": 284,
     "metadata": {},
     "output_type": "execute_result"
    }
   ],
   "source": [
    "#So we have the assigned Cluster, Longitude and Latitude to each data point:\n",
    "plotting_data[['Cluster', 'Longitude', 'Latitude']].head()"
   ]
  },
  {
   "cell_type": "code",
   "execution_count": 285,
   "metadata": {},
   "outputs": [
    {
     "data": {
      "image/png": "[encoded data removed]",
      "text/plain": [
       "<Figure size 800x800 with 1 Axes>"
      ]
     },
     "metadata": {},
     "output_type": "display_data"
    }
   ],
   "source": [
    "#Visualizing the clusters on the longitude and latitude\n",
    "plt.figure(figsize=(8,8))\n",
    "plt.scatter(plotting_data['Longitude'], plotting_data['Latitude'], c=plotting_data['Cluster'],cmap='rainbow')\n",
    "plt.xlabel('Longitude')\n",
    "plt.ylabel('Latitude')\n",
    "plt.title(\"Data with 35 clusters\") \n",
    "plt.xlim(-180,180)\n",
    "plt.ylim(-90, 90)\n",
    "plt.show()"
   ]
  },
  {
   "attachments": {},
   "cell_type": "markdown",
   "metadata": {},
   "source": [
    "Finally, let's visualize the map with  Plotly:"
   ]
  },
  {
   "cell_type": "code",
   "execution_count": 292,
   "metadata": {},
   "outputs": [
    {
     "data": {
      "application/vnd.plotly.v1+json": {
       "config": {
        "plotlyServerURL": "https://plot.ly"
       },
       "data": [
        {
         "hoverinfo": "text",
         "hovertemplate": "%{text}<br>Cluster: %{marker.color}<extra></extra>",
         "hovertext": [
          "United States, Georgia",
          "United States, New Jersey",
          "United States, Alaska",
          "Northern Ireland",
          "United States, North Carolina",
          "United States, Illinois",
          "United States, Massachusetts",
          "Canada",
          "United States, Montana",
          "United States, Hawaii",
          "United States, Michigan",
          "England",
          "Cyprus",
          "United States, Connecticut",
          "Denmark",
          "United States, New York",
          "Scotland",
          "Ireland",
          "Thailand",
          "Russia",
          "Sweden",
          "United States, Washington",
          "United States, New Hampshire",
          "Australia",
          "United States, Pennsylvania",
          "United States, Wisconsin",
          "United States, Oregon",
          "United States, California",
          "United States, Indiana",
          "Jersey",
          "Romania",
          "Spain",
          "Greece",
          "France",
          "Germany",
          "United States, Virginia",
          "United States, Florida",
          "Netherlands",
          "United States, Missouri",
          "United States, Kentucky",
          "United States, Ohio",
          "United States, Texas",
          "United States, Arizona",
          "United States, Alabama",
          "United States, Maryland",
          "United States, South Carolina",
          "United States, Minnesota",
          "United States, Idaho",
          "United States, Vermont",
          "United States, Louisiana",
          "Norway",
          "United States, Rhode Island",
          "Japan",
          "United States, Colorado",
          "Brazil",
          "United States, Maine",
          "United States, Iowa",
          "United States, North Dakota",
          "United States, Arkansas",
          "United States, West Virginia",
          "United States, Wyoming",
          "United States, Tennessee",
          "United States, New Mexico",
          "United States, Mississippi",
          "South Africa",
          "United States, Oklahoma",
          "Taiwan",
          "Poland",
          "United States, Kansas",
          "Switzerland",
          "Ukraine",
          "United States, Nevada",
          "United States, Delaware",
          "United States, Nebraska",
          "Mexico",
          "Luxembourg",
          "Wales",
          "Finland",
          "Hong Kong",
          "Svalbard and Jan Mayen Islands",
          "United States, Utah",
          "United States, South Dakota",
          "Croatia",
          "Portugal",
          "Italy",
          "Lesotho",
          "China",
          "Malta",
          "Austria",
          "Slovenia",
          "Turkey",
          "Serbia",
          "Belgium",
          "Singapore",
          "Panama",
          "Puerto Rico",
          "India",
          "Barbados",
          "Bahamas",
          "Bermuda",
          "Bulgaria",
          "Jordan",
          "United Arab Emirates",
          "Antarctica",
          "Hungary",
          "Uganda",
          "Costa Rica",
          "Israel",
          "Lithuania",
          "Fiji Islands",
          "Argentina",
          "Chile",
          "Belarus",
          "Iceland",
          "Isle of Man",
          "Peru",
          "Cambodia",
          "Trinidad and Tobago",
          "American Samoa",
          "Gibraltar",
          "Kenya",
          "Cayman Islands",
          "Nicaragua",
          "Tajikistan",
          "Czech Republic",
          "Burkina Faso",
          "Guernsey",
          "Lebanon",
          "Malaysia",
          "Tanzania",
          "Vietnam",
          "Moldova",
          "Macedonia",
          "Philippines",
          "South Georgia and South Sandwich Islands",
          "Estonia",
          "Bolivia",
          "Uruguay",
          "Ecuador",
          "Bosnia and Herzegovina",
          "Paraguay",
          "Colombia",
          "Latvia",
          "Angola",
          "Bhutan",
          "Afghanistan",
          "Bouvet Island",
          "Guam",
          "Solomon Islands",
          "Vanuatu",
          "Dominican Republic",
          "El Salvador",
          "Honduras",
          "Andorra",
          "Tokelau",
          "Northern Mariana Islands",
          "Indonesia",
          "Mauritania",
          "Antigua and Barbuda",
          "Uzbekistan",
          "Marshall Islands",
          "Aruba",
          "British Indian Ocean Territory",
          "New Zealand",
          "Nigeria",
          "South Korea",
          "Montenegro",
          "Guatemala",
          "Laos",
          "Monaco",
          "Venezuela",
          "Faroe Islands",
          "Ascension Island",
          "Mozambique",
          "Pakistan",
          "Saudi Arabia",
          "Slovakia",
          "Burundi",
          "Ivory Coast",
          "San Marino",
          "North Korea",
          "Norfolk Island",
          "French Guiana",
          "Botswana",
          "Papua New Guinea",
          "Montserrat",
          "Saint Helena",
          "Algeria",
          "Kosovo",
          "Palestine",
          "Sudan",
          "Egypt",
          "Zimbabwe",
          "Syria",
          "Namibia",
          "Bangladesh",
          "Azerbaijan",
          "Tunisia",
          "Armenia",
          "Morocco",
          "Zambia",
          "Iraq",
          "Mauritius",
          "Ghana",
          "Greenland",
          "Liechtenstein",
          "Vatican City",
          "Haiti",
          "Albania",
          "Belize"
         ],
         "lat": [
          32.157435,
          40.058324,
          63.588753,
          "54.7877",
          35.759573,
          40.633125,
          42.407211,
          "56.130366",
          46.879682,
          19.898682,
          44.314844,
          "52.3555177 ",
          "35.126413",
          41.603221,
          "56.26392",
          43.299428,
          "56.4907",
          "53.41291",
          "15.870032",
          "61.52401",
          "60.128161",
          47.751074,
          43.193852,
          "-25.274398",
          41.203322,
          43.78444,
          43.804133,
          36.778261,
          40.551217,
          "49.214439",
          "45.943161",
          "40.463667",
          "39.074208",
          "46.227638",
          "51.165691",
          37.431573,
          27.664827,
          "52.132633",
          37.964253,
          37.839333,
          40.417287,
          31.968599,
          34.048928,
          32.318231,
          39.045755,
          33.836081,
          46.729553,
          44.068202,
          44.558803,
          31.244823,
          "60.472024",
          41.580095,
          "36.204824",
          39.550051,
          "-14.235004",
          45.253783,
          41.878003,
          47.551493,
          35.20105,
          38.597626,
          43.075968,
          35.517491,
          34.97273,
          32.354668,
          "-30.559482",
          35.007752,
          "23.69781",
          "51.919438",
          39.011902,
          "46.818188",
          "48.379433",
          38.80261,
          38.910832,
          41.492537,
          "23.634501",
          "49.815273",
          "52.1307",
          "61.92411",
          "22.396428",
          "71.0318",
          39.32098,
          43.969515,
          "45.1",
          "39.399872",
          "41.87194",
          "-29.609988",
          "35.86166",
          "35.937496",
          "47.516231",
          "46.151241",
          "38.963745",
          "44.016521",
          "50.503887",
          "1.352083",
          "8.537981",
          "18.220833",
          "20.593684",
          "13.193887",
          "25.03428",
          "32.321384",
          "42.733883",
          "30.585164",
          "23.424076",
          "-75.250973",
          "47.162494",
          "1.373333",
          "9.748917",
          "31.046051",
          "55.169438",
          "17.7134",
          "-38.416097",
          "-35.675147",
          "53.709807",
          "64.963051",
          "54.236107",
          "-9.189967",
          "12.565679",
          "10.691803",
          "-14.270972",
          "36.137741",
          "-0.023559",
          "19.513469",
          "12.865416",
          "38.861034",
          "49.817492",
          "12.238333",
          "49.465691",
          "33.854721",
          "4.210484",
          "-6.369028",
          "14.058324",
          "47.411631",
          "41.608635",
          "12.879721",
          "54.4296",
          "58.595272",
          "-16.290154",
          "-32.522779",
          "-1.831239",
          "43.915886",
          "-23.442503",
          "4.570868",
          "56.879635",
          "-11.202692",
          "27.514162",
          "33.93911",
          "-54.423199",
          "13.444304",
          "-9.64571",
          "-15.376706",
          "18.735693",
          "13.794185",
          "15.199999",
          "42.546245",
          "-8.967363",
          "17.33083",
          "-0.789275",
          "21.00789",
          "17.060816",
          "41.377491",
          "7.131474",
          "12.52111",
          "-6.343194",
          "-40.900557",
          "9.081999",
          "35.907757",
          "42.708678",
          "15.783471",
          "19.85627",
          "43.750298",
          "6.42375",
          "61.892635",
          "7.9467",
          "-18.665695",
          "30.375321",
          "23.885942",
          "48.669026",
          "-3.373056",
          "7.539989",
          "43.94236",
          "40.339852",
          "-29.040835",
          "3.933889",
          "-22.328474",
          "-6.314993",
          "16.742498",
          "-24.143474",
          "28.033886",
          "42.602636",
          "31.9522",
          "12.862807",
          "26.820553",
          "-19.015438",
          "34.802075",
          "-22.95764",
          "23.684994",
          "40.143105",
          "33.886917",
          "40.069099",
          "31.791702",
          "-13.133897",
          "33.223191",
          "-20.348404",
          "7.946527",
          "71.706936",
          "47.166",
          "41.902916",
          "18.971187",
          "41.153332",
          "17.189877"
         ],
         "lon": [
          -82.907123,
          -74.405661,
          -154.493062,
          6.4923,
          -79.0193,
          -89.398528,
          -71.382437,
          -106.346771,
          -110.362566,
          -155.665857,
          -85.602364,
          -1.1743197,
          33.429859,
          -73.087749,
          9.501785,
          -74.217933,
          4.2026,
          -8.24389,
          100.992541,
          105.318756,
          18.643501,
          -120.740139,
          -71.572395,
          133.775136,
          -77.194525,
          -88.787868,
          -120.554201,
          -119.417932,
          -85.602364,
          -2.13125,
          24.96676,
          -3.74922,
          21.824312,
          2.213749,
          10.451526,
          -78.656894,
          -81.515754,
          5.291266,
          -91.831833,
          -84.270018,
          -82.907123,
          -99.901813,
          -111.093731,
          -86.902298,
          -76.641271,
          -81.163725,
          -94.6859,
          -114.742041,
          -72.577841,
          -92.145024,
          8.468946,
          -71.477429,
          138.252924,
          -105.782067,
          -51.92528,
          -69.445469,
          -93.097702,
          -101.002012,
          -91.831833,
          -80.454903,
          -107.290284,
          -86.580447,
          -105.032363,
          -89.398528,
          22.937506,
          -97.092877,
          120.960515,
          19.145136,
          -98.484246,
          8.227512,
          31.16558,
          -116.419389,
          -75.52767,
          -99.901813,
          -102.552784,
          6.129583,
          3.7837,
          25.748151,
          114.109497,
          8.292,
          -111.093731,
          -99.901813,
          15.2,
          -8.224454,
          12.56738,
          28.233608,
          104.195397,
          14.375416,
          14.550072,
          14.995463,
          35.243322,
          21.005859,
          4.469936,
          103.819836,
          -80.782127,
          -66.590149,
          78.96288,
          -59.543198,
          -77.39628,
          -64.75737,
          25.48583,
          36.238414,
          53.847818,
          -0.071389,
          19.503304,
          32.290275,
          -83.753428,
          34.851612,
          23.881275,
          178.065,
          -63.616672,
          -71.542969,
          27.953389,
          -19.020835,
          -4.548056,
          -75.015152,
          104.990963,
          -61.222503,
          -170.132217,
          -5.345374,
          37.906193,
          -80.566956,
          -85.207229,
          71.276093,
          15.472962,
          -1.561593,
          -2.585278,
          35.862285,
          101.975766,
          34.888822,
          108.277199,
          28.369885,
          21.745275,
          121.774017,
          36.5879,
          25.013607,
          -63.588653,
          -55.765835,
          -78.183406,
          17.679076,
          -58.443832,
          -74.297333,
          24.603189,
          17.873887,
          90.433601,
          67.709953,
          3.413194,
          144.793731,
          160.156194,
          166.959158,
          -70.162651,
          -88.89653,
          -86.241905,
          1.601554,
          -171.855881,
          145.38469,
          113.921327,
          -10.940835,
          -61.796428,
          64.585262,
          171.184478,
          -69.968338,
          71.876519,
          174.885971,
          8.675277,
          127.766922,
          19.37439,
          -90.230759,
          102.495496,
          7.412841,
          -66.58973,
          -6.911806,
          14.3559,
          35.529562,
          69.345116,
          45.079162,
          19.699024,
          29.918886,
          -5.54708,
          12.457777,
          127.510093,
          167.954712,
          -53.125782,
          24.684866,
          143.95555,
          -62.187366,
          -10.030696,
          1.659626,
          20.902977,
          35.2332,
          30.217636,
          30.802498,
          29.154857,
          38.996815,
          18.49041,
          90.356331,
          47.576927,
          9.537499,
          45.038189,
          -7.09262,
          27.849332,
          43.679291,
          57.552152,
          -1.023194,
          -42.604303,
          9.555373,
          12.453389,
          -72.285215,
          20.168331,
          -88.49765
         ],
         "marker": {
          "color": [
           1,
           1,
           1,
           1,
           1,
           1,
           1,
           1,
           1,
           1,
           1,
           8,
           8,
           1,
           24,
           1,
           8,
           8,
           1,
           1,
           8,
           1,
           1,
           1,
           1,
           1,
           1,
           1,
           1,
           1,
           1,
           8,
           8,
           8,
           8,
           1,
           1,
           8,
           1,
           1,
           1,
           1,
           1,
           1,
           1,
           1,
           1,
           1,
           1,
           1,
           8,
           1,
           8,
           1,
           8,
           1,
           1,
           1,
           1,
           1,
           1,
           1,
           1,
           1,
           1,
           1,
           1,
           8,
           1,
           8,
           1,
           1,
           1,
           1,
           1,
           8,
           1,
           8,
           8,
           1,
           1,
           1,
           8,
           8,
           8,
           1,
           1,
           12,
           8,
           8,
           8,
           8,
           8,
           1,
           1,
           1,
           1,
           34,
           1,
           24,
           8,
           1,
           1,
           1,
           8,
           34,
           1,
           8,
           8,
           1,
           1,
           8,
           8,
           8,
           8,
           8,
           8,
           1,
           1,
           5,
           17,
           27,
           27,
           1,
           8,
           1,
           1,
           1,
           24,
           34,
           34,
           8,
           34,
           8,
           1,
           8,
           1,
           1,
           8,
           34,
           8,
           34,
           8,
           15,
           10,
           26,
           1,
           1,
           6,
           27,
           8,
           8,
           19,
           1,
           18,
           33,
           8,
           10,
           27,
           30,
           1,
           21,
           14,
           8,
           0,
           8,
           27,
           34,
           12,
           28,
           8,
           24,
           8,
           24,
           24,
           30,
           1,
           4,
           1,
           8,
           8,
           26,
           8,
           27,
           2,
           8,
           26,
           31,
           22,
           34,
           29,
           0,
           7,
           20,
           2,
           26,
           27,
           2,
           9,
           30,
           2,
           29,
           2,
           24,
           32,
           16,
           27,
           25,
           13,
           3
          ]
         },
         "mode": "markers",
         "text": [
          "United States, Georgia",
          "United States, New Jersey",
          "United States, Alaska",
          "Northern Ireland",
          "United States, North Carolina",
          "United States, Illinois",
          "United States, Massachusetts",
          "Canada",
          "United States, Montana",
          "United States, Hawaii",
          "United States, Michigan",
          "England",
          "Cyprus",
          "United States, Connecticut",
          "Denmark",
          "United States, New York",
          "Scotland",
          "Ireland",
          "Thailand",
          "Russia",
          "Sweden",
          "United States, Washington",
          "United States, New Hampshire",
          "Australia",
          "United States, Pennsylvania",
          "United States, Wisconsin",
          "United States, Oregon",
          "United States, California",
          "United States, Indiana",
          "Jersey",
          "Romania",
          "Spain",
          "Greece",
          "France",
          "Germany",
          "United States, Virginia",
          "United States, Florida",
          "Netherlands",
          "United States, Missouri",
          "United States, Kentucky",
          "United States, Ohio",
          "United States, Texas",
          "United States, Arizona",
          "United States, Alabama",
          "United States, Maryland",
          "United States, South Carolina",
          "United States, Minnesota",
          "United States, Idaho",
          "United States, Vermont",
          "United States, Louisiana",
          "Norway",
          "United States, Rhode Island",
          "Japan",
          "United States, Colorado",
          "Brazil",
          "United States, Maine",
          "United States, Iowa",
          "United States, North Dakota",
          "United States, Arkansas",
          "United States, West Virginia",
          "United States, Wyoming",
          "United States, Tennessee",
          "United States, New Mexico",
          "United States, Mississippi",
          "South Africa",
          "United States, Oklahoma",
          "Taiwan",
          "Poland",
          "United States, Kansas",
          "Switzerland",
          "Ukraine",
          "United States, Nevada",
          "United States, Delaware",
          "United States, Nebraska",
          "Mexico",
          "Luxembourg",
          "Wales",
          "Finland",
          "Hong Kong",
          "Svalbard and Jan Mayen Islands",
          "United States, Utah",
          "United States, South Dakota",
          "Croatia",
          "Portugal",
          "Italy",
          "Lesotho",
          "China",
          "Malta",
          "Austria",
          "Slovenia",
          "Turkey",
          "Serbia",
          "Belgium",
          "Singapore",
          "Panama",
          "Puerto Rico",
          "India",
          "Barbados",
          "Bahamas",
          "Bermuda",
          "Bulgaria",
          "Jordan",
          "United Arab Emirates",
          "Antarctica",
          "Hungary",
          "Uganda",
          "Costa Rica",
          "Israel",
          "Lithuania",
          "Fiji Islands",
          "Argentina",
          "Chile",
          "Belarus",
          "Iceland",
          "Isle of Man",
          "Peru",
          "Cambodia",
          "Trinidad and Tobago",
          "American Samoa",
          "Gibraltar",
          "Kenya",
          "Cayman Islands",
          "Nicaragua",
          "Tajikistan",
          "Czech Republic",
          "Burkina Faso",
          "Guernsey",
          "Lebanon",
          "Malaysia",
          "Tanzania",
          "Vietnam",
          "Moldova",
          "Macedonia",
          "Philippines",
          "South Georgia and South Sandwich Islands",
          "Estonia",
          "Bolivia",
          "Uruguay",
          "Ecuador",
          "Bosnia and Herzegovina",
          "Paraguay",
          "Colombia",
          "Latvia",
          "Angola",
          "Bhutan",
          "Afghanistan",
          "Bouvet Island",
          "Guam",
          "Solomon Islands",
          "Vanuatu",
          "Dominican Republic",
          "El Salvador",
          "Honduras",
          "Andorra",
          "Tokelau",
          "Northern Mariana Islands",
          "Indonesia",
          "Mauritania",
          "Antigua and Barbuda",
          "Uzbekistan",
          "Marshall Islands",
          "Aruba",
          "British Indian Ocean Territory",
          "New Zealand",
          "Nigeria",
          "South Korea",
          "Montenegro",
          "Guatemala",
          "Laos",
          "Monaco",
          "Venezuela",
          "Faroe Islands",
          "Ascension Island",
          "Mozambique",
          "Pakistan",
          "Saudi Arabia",
          "Slovakia",
          "Burundi",
          "Ivory Coast",
          "San Marino",
          "North Korea",
          "Norfolk Island",
          "French Guiana",
          "Botswana",
          "Papua New Guinea",
          "Montserrat",
          "Saint Helena",
          "Algeria",
          "Kosovo",
          "Palestine",
          "Sudan",
          "Egypt",
          "Zimbabwe",
          "Syria",
          "Namibia",
          "Bangladesh",
          "Azerbaijan",
          "Tunisia",
          "Armenia",
          "Morocco",
          "Zambia",
          "Iraq",
          "Mauritius",
          "Ghana",
          "Greenland",
          "Liechtenstein",
          "Vatican City",
          "Haiti",
          "Albania",
          "Belize"
         ],
         "type": "scattergeo"
        }
       ],
       "layout": {
        "geo": {
         "projection": {
          "type": "natural earth2"
         },
         "showcoastlines": true,
         "showcountries": true,
         "showframe": true
        },
        "height": 900,
        "hovermode": "closest",
        "paper_bgcolor": "rgba(0,0,0,0)",
        "template": {
         "data": {
          "bar": [
           {
            "error_x": {
             "color": "#2a3f5f"
            },
            "error_y": {
             "color": "#2a3f5f"
            },
            "marker": {
             "line": {
              "color": "#E5ECF6",
              "width": 0.5
             },
             "pattern": {
              "fillmode": "overlay",
              "size": 10,
              "solidity": 0.2
             }
            },
            "type": "bar"
           }
          ],
          "barpolar": [
           {
            "marker": {
             "line": {
              "color": "#E5ECF6",
              "width": 0.5
             },
             "pattern": {
              "fillmode": "overlay",
              "size": 10,
              "solidity": 0.2
             }
            },
            "type": "barpolar"
           }
          ],
          "carpet": [
           {
            "aaxis": {
             "endlinecolor": "#2a3f5f",
             "gridcolor": "white",
             "linecolor": "white",
             "minorgridcolor": "white",
             "startlinecolor": "#2a3f5f"
            },
            "baxis": {
             "endlinecolor": "#2a3f5f",
             "gridcolor": "white",
             "linecolor": "white",
             "minorgridcolor": "white",
             "startlinecolor": "#2a3f5f"
            },
            "type": "carpet"
           }
          ],
          "choropleth": [
           {
            "colorbar": {
             "outlinewidth": 0,
             "ticks": ""
            },
            "type": "choropleth"
           }
          ],
          "contour": [
           {
            "colorbar": {
             "outlinewidth": 0,
             "ticks": ""
            },
            "colorscale": [
             [
              0,
              "#0d0887"
             ],
             [
              0.1111111111111111,
              "#46039f"
             ],
             [
              0.2222222222222222,
              "#7201a8"
             ],
             [
              0.3333333333333333,
              "#9c179e"
             ],
             [
              0.4444444444444444,
              "#bd3786"
             ],
             [
              0.5555555555555556,
              "#d8576b"
             ],
             [
              0.6666666666666666,
              "#ed7953"
             ],
             [
              0.7777777777777778,
              "#fb9f3a"
             ],
             [
              0.8888888888888888,
              "#fdca26"
             ],
             [
              1,
              "#f0f921"
             ]
            ],
            "type": "contour"
           }
          ],
          "contourcarpet": [
           {
            "colorbar": {
             "outlinewidth": 0,
             "ticks": ""
            },
            "type": "contourcarpet"
           }
          ],
          "heatmap": [
           {
            "colorbar": {
             "outlinewidth": 0,
             "ticks": ""
            },
            "colorscale": [
             [
              0,
              "#0d0887"
             ],
             [
              0.1111111111111111,
              "#46039f"
             ],
             [
              0.2222222222222222,
              "#7201a8"
             ],
             [
              0.3333333333333333,
              "#9c179e"
             ],
             [
              0.4444444444444444,
              "#bd3786"
             ],
             [
              0.5555555555555556,
              "#d8576b"
             ],
             [
              0.6666666666666666,
              "#ed7953"
             ],
             [
              0.7777777777777778,
              "#fb9f3a"
             ],
             [
              0.8888888888888888,
              "#fdca26"
             ],
             [
              1,
              "#f0f921"
             ]
            ],
            "type": "heatmap"
           }
          ],
          "heatmapgl": [
           {
            "colorbar": {
             "outlinewidth": 0,
             "ticks": ""
            },
            "colorscale": [
             [
              0,
              "#0d0887"
             ],
             [
              0.1111111111111111,
              "#46039f"
             ],
             [
              0.2222222222222222,
              "#7201a8"
             ],
             [
              0.3333333333333333,
              "#9c179e"
             ],
             [
              0.4444444444444444,
              "#bd3786"
             ],
             [
              0.5555555555555556,
              "#d8576b"
             ],
             [
              0.6666666666666666,
              "#ed7953"
             ],
             [
              0.7777777777777778,
              "#fb9f3a"
             ],
             [
              0.8888888888888888,
              "#fdca26"
             ],
             [
              1,
              "#f0f921"
             ]
            ],
            "type": "heatmapgl"
           }
          ],
          "histogram": [
           {
            "marker": {
             "pattern": {
              "fillmode": "overlay",
              "size": 10,
              "solidity": 0.2
             }
            },
            "type": "histogram"
           }
          ],
          "histogram2d": [
           {
            "colorbar": {
             "outlinewidth": 0,
             "ticks": ""
            },
            "colorscale": [
             [
              0,
              "#0d0887"
             ],
             [
              0.1111111111111111,
              "#46039f"
             ],
             [
              0.2222222222222222,
              "#7201a8"
             ],
             [
              0.3333333333333333,
              "#9c179e"
             ],
             [
              0.4444444444444444,
              "#bd3786"
             ],
             [
              0.5555555555555556,
              "#d8576b"
             ],
             [
              0.6666666666666666,
              "#ed7953"
             ],
             [
              0.7777777777777778,
              "#fb9f3a"
             ],
             [
              0.8888888888888888,
              "#fdca26"
             ],
             [
              1,
              "#f0f921"
             ]
            ],
            "type": "histogram2d"
           }
          ],
          "histogram2dcontour": [
           {
            "colorbar": {
             "outlinewidth": 0,
             "ticks": ""
            },
            "colorscale": [
             [
              0,
              "#0d0887"
             ],
             [
              0.1111111111111111,
              "#46039f"
             ],
             [
              0.2222222222222222,
              "#7201a8"
             ],
             [
              0.3333333333333333,
              "#9c179e"
             ],
             [
              0.4444444444444444,
              "#bd3786"
             ],
             [
              0.5555555555555556,
              "#d8576b"
             ],
             [
              0.6666666666666666,
              "#ed7953"
             ],
             [
              0.7777777777777778,
              "#fb9f3a"
             ],
             [
              0.8888888888888888,
              "#fdca26"
             ],
             [
              1,
              "#f0f921"
             ]
            ],
            "type": "histogram2dcontour"
           }
          ],
          "mesh3d": [
           {
            "colorbar": {
             "outlinewidth": 0,
             "ticks": ""
            },
            "type": "mesh3d"
           }
          ],
          "parcoords": [
           {
            "line": {
             "colorbar": {
              "outlinewidth": 0,
              "ticks": ""
             }
            },
            "type": "parcoords"
           }
          ],
          "pie": [
           {
            "automargin": true,
            "type": "pie"
           }
          ],
          "scatter": [
           {
            "fillpattern": {
             "fillmode": "overlay",
             "size": 10,
             "solidity": 0.2
            },
            "type": "scatter"
           }
          ],
          "scatter3d": [
           {
            "line": {
             "colorbar": {
              "outlinewidth": 0,
              "ticks": ""
             }
            },
            "marker": {
             "colorbar": {
              "outlinewidth": 0,
              "ticks": ""
             }
            },
            "type": "scatter3d"
           }
          ],
          "scattercarpet": [
           {
            "marker": {
             "colorbar": {
              "outlinewidth": 0,
              "ticks": ""
             }
            },
            "type": "scattercarpet"
           }
          ],
          "scattergeo": [
           {
            "marker": {
             "colorbar": {
              "outlinewidth": 0,
              "ticks": ""
             }
            },
            "type": "scattergeo"
           }
          ],
          "scattergl": [
           {
            "marker": {
             "colorbar": {
              "outlinewidth": 0,
              "ticks": ""
             }
            },
            "type": "scattergl"
           }
          ],
          "scattermapbox": [
           {
            "marker": {
             "colorbar": {
              "outlinewidth": 0,
              "ticks": ""
             }
            },
            "type": "scattermapbox"
           }
          ],
          "scatterpolar": [
           {
            "marker": {
             "colorbar": {
              "outlinewidth": 0,
              "ticks": ""
             }
            },
            "type": "scatterpolar"
           }
          ],
          "scatterpolargl": [
           {
            "marker": {
             "colorbar": {
              "outlinewidth": 0,
              "ticks": ""
             }
            },
            "type": "scatterpolargl"
           }
          ],
          "scatterternary": [
           {
            "marker": {
             "colorbar": {
              "outlinewidth": 0,
              "ticks": ""
             }
            },
            "type": "scatterternary"
           }
          ],
          "surface": [
           {
            "colorbar": {
             "outlinewidth": 0,
             "ticks": ""
            },
            "colorscale": [
             [
              0,
              "#0d0887"
             ],
             [
              0.1111111111111111,
              "#46039f"
             ],
             [
              0.2222222222222222,
              "#7201a8"
             ],
             [
              0.3333333333333333,
              "#9c179e"
             ],
             [
              0.4444444444444444,
              "#bd3786"
             ],
             [
              0.5555555555555556,
              "#d8576b"
             ],
             [
              0.6666666666666666,
              "#ed7953"
             ],
             [
              0.7777777777777778,
              "#fb9f3a"
             ],
             [
              0.8888888888888888,
              "#fdca26"
             ],
             [
              1,
              "#f0f921"
             ]
            ],
            "type": "surface"
           }
          ],
          "table": [
           {
            "cells": {
             "fill": {
              "color": "#EBF0F8"
             },
             "line": {
              "color": "white"
             }
            },
            "header": {
             "fill": {
              "color": "#C8D4E3"
             },
             "line": {
              "color": "white"
             }
            },
            "type": "table"
           }
          ]
         },
         "layout": {
          "annotationdefaults": {
           "arrowcolor": "#2a3f5f",
           "arrowhead": 0,
           "arrowwidth": 1
          },
          "autotypenumbers": "strict",
          "coloraxis": {
           "colorbar": {
            "outlinewidth": 0,
            "ticks": ""
           }
          },
          "colorscale": {
           "diverging": [
            [
             0,
             "#8e0152"
            ],
            [
             0.1,
             "#c51b7d"
            ],
            [
             0.2,
             "#de77ae"
            ],
            [
             0.3,
             "#f1b6da"
            ],
            [
             0.4,
             "#fde0ef"
            ],
            [
             0.5,
             "#f7f7f7"
            ],
            [
             0.6,
             "#e6f5d0"
            ],
            [
             0.7,
             "#b8e186"
            ],
            [
             0.8,
             "#7fbc41"
            ],
            [
             0.9,
             "#4d9221"
            ],
            [
             1,
             "#276419"
            ]
           ],
           "sequential": [
            [
             0,
             "#0d0887"
            ],
            [
             0.1111111111111111,
             "#46039f"
            ],
            [
             0.2222222222222222,
             "#7201a8"
            ],
            [
             0.3333333333333333,
             "#9c179e"
            ],
            [
             0.4444444444444444,
             "#bd3786"
            ],
            [
             0.5555555555555556,
             "#d8576b"
            ],
            [
             0.6666666666666666,
             "#ed7953"
            ],
            [
             0.7777777777777778,
             "#fb9f3a"
            ],
            [
             0.8888888888888888,
             "#fdca26"
            ],
            [
             1,
             "#f0f921"
            ]
           ],
           "sequentialminus": [
            [
             0,
             "#0d0887"
            ],
            [
             0.1111111111111111,
             "#46039f"
            ],
            [
             0.2222222222222222,
             "#7201a8"
            ],
            [
             0.3333333333333333,
             "#9c179e"
            ],
            [
             0.4444444444444444,
             "#bd3786"
            ],
            [
             0.5555555555555556,
             "#d8576b"
            ],
            [
             0.6666666666666666,
             "#ed7953"
            ],
            [
             0.7777777777777778,
             "#fb9f3a"
            ],
            [
             0.8888888888888888,
             "#fdca26"
            ],
            [
             1,
             "#f0f921"
            ]
           ]
          },
          "colorway": [
           "#636efa",
           "#EF553B",
           "#00cc96",
           "#ab63fa",
           "#FFA15A",
           "#19d3f3",
           "#FF6692",
           "#B6E880",
           "#FF97FF",
           "#FECB52"
          ],
          "font": {
           "color": "#2a3f5f"
          },
          "geo": {
           "bgcolor": "white",
           "lakecolor": "white",
           "landcolor": "#E5ECF6",
           "showlakes": true,
           "showland": true,
           "subunitcolor": "white"
          },
          "hoverlabel": {
           "align": "left"
          },
          "hovermode": "closest",
          "mapbox": {
           "style": "light"
          },
          "paper_bgcolor": "white",
          "plot_bgcolor": "#E5ECF6",
          "polar": {
           "angularaxis": {
            "gridcolor": "white",
            "linecolor": "white",
            "ticks": ""
           },
           "bgcolor": "#E5ECF6",
           "radialaxis": {
            "gridcolor": "white",
            "linecolor": "white",
            "ticks": ""
           }
          },
          "scene": {
           "xaxis": {
            "backgroundcolor": "#E5ECF6",
            "gridcolor": "white",
            "gridwidth": 2,
            "linecolor": "white",
            "showbackground": true,
            "ticks": "",
            "zerolinecolor": "white"
           },
           "yaxis": {
            "backgroundcolor": "#E5ECF6",
            "gridcolor": "white",
            "gridwidth": 2,
            "linecolor": "white",
            "showbackground": true,
            "ticks": "",
            "zerolinecolor": "white"
           },
           "zaxis": {
            "backgroundcolor": "#E5ECF6",
            "gridcolor": "white",
            "gridwidth": 2,
            "linecolor": "white",
            "showbackground": true,
            "ticks": "",
            "zerolinecolor": "white"
           }
          },
          "shapedefaults": {
           "line": {
            "color": "#2a3f5f"
           }
          },
          "ternary": {
           "aaxis": {
            "gridcolor": "white",
            "linecolor": "white",
            "ticks": ""
           },
           "baxis": {
            "gridcolor": "white",
            "linecolor": "white",
            "ticks": ""
           },
           "bgcolor": "#E5ECF6",
           "caxis": {
            "gridcolor": "white",
            "linecolor": "white",
            "ticks": ""
           }
          },
          "title": {
           "x": 0.05
          },
          "xaxis": {
           "automargin": true,
           "gridcolor": "white",
           "linecolor": "white",
           "ticks": "",
           "title": {
            "standoff": 15
           },
           "zerolinecolor": "white",
           "zerolinewidth": 2
          },
          "yaxis": {
           "automargin": true,
           "gridcolor": "white",
           "linecolor": "white",
           "ticks": "",
           "title": {
            "standoff": 15
           },
           "zerolinecolor": "white",
           "zerolinewidth": 2
          }
         }
        },
        "title": {
         "text": "World Map with style clusters"
        },
        "width": 1200
       }
      }
     },
     "metadata": {},
     "output_type": "display_data"
    }
   ],
   "source": [
    "fig = go.Figure(data=go.Scattergeo(\n",
    "        lon = plotting_data['Longitude'],\n",
    "        lat = plotting_data['Latitude'],\n",
    "        text = plotting_data.index,\n",
    "        hovertext=plotting_data.index,\n",
    "        hoverinfo='text',\n",
    "        mode = 'markers',\n",
    "        marker_color = plotting_data['Cluster'],\n",
    "        hovertemplate='%{text}<br>Cluster: %{marker.color}<extra></extra>'\n",
    "        ))\n",
    "\n",
    "# Customize the layout and show the plot\n",
    "fig.update_layout(\n",
    "    geo=go.layout.Geo(\n",
    "        showframe=True,\n",
    "        showcoastlines=True,\n",
    "        projection_type='natural earth2',\n",
    "        showcountries= True\n",
    "    ),\n",
    "    hovermode='closest',\n",
    "    paper_bgcolor = 'rgba(0,0,0,0)',\n",
    "    width=1200,\n",
    "    height=900,\n",
    "    title='World Map with style clusters'\n",
    ")\n",
    "fig.show()\n",
    "\n",
    "fig.write_html('../plots_html/map1.html')\n"
   ]
  },
  {
   "attachments": {},
   "cell_type": "markdown",
   "metadata": {},
   "source": [
    "### Assigning different weights according to the rating"
   ]
  },
  {
   "attachments": {},
   "cell_type": "markdown",
   "metadata": {},
   "source": [
    "Next we try out a different way to create the vectors of 'style'. Below, we use all ratings but we assign different weights to the count of reviews depending on the rating: <br>\n",
    "- Reviews that have a rating lower than 2 get a weight of 1\n",
    "- Reviews that have a rating higher than 2 and lower than 3 get a weight of 2\n",
    "- Reviews that have a rating higher than 3 and lower than 4 get a weight of 3\n",
    "- Reviews that have a rating higher than 4 get a weight of 4"
   ]
  },
  {
   "cell_type": "code",
   "execution_count": 84,
   "metadata": {},
   "outputs": [],
   "source": [
    "#define dataframes for each category of rating\n",
    "value_counts_1 = df_reviews_locations.loc[df_reviews_locations['rating']<2]\n",
    "value_counts_2 = df_reviews_locations.loc[(df_reviews_locations['rating']<3) & (df_reviews_locations['rating']>2)]\n",
    "value_counts_3 = df_reviews_locations.loc[(df_reviews_locations['rating']<4) & (df_reviews_locations['rating']>3)]\n",
    "value_counts_4 = df_reviews_locations.loc[df_reviews_locations['rating']>4]"
   ]
  },
  {
   "cell_type": "code",
   "execution_count": 85,
   "metadata": {},
   "outputs": [],
   "source": [
    "beer_style_score = pd.DataFrame(index=df_reviews_locations['style'].unique()) "
   ]
  },
  {
   "cell_type": "code",
   "execution_count": 73,
   "metadata": {},
   "outputs": [],
   "source": [
    "#create a list of the countries contained in the dataframe\n",
    "countries = df_reviews_locations['user_location'].unique() \n",
    "#define a DataFrame where the indices are all the beer styles\n",
    "beer_style_score = pd.DataFrame(index=df_reviews_locations['style'].unique()) \n",
    "\n",
    "#below we create the beer_style_score dataframe which contains \n",
    "for country in countries:\n",
    "    count_1 = value_counts_1.loc[value_counts_1['user_location']==country]['style'].value_counts().reindex(df_reviews_locations['style'].unique(), fill_value=0) #puts 0's for the values where the count was 0\n",
    "    count_2 = value_counts_2.loc[value_counts_2['user_location']==country]['style'].value_counts().reindex(df_reviews_locations['style'].unique(), fill_value=0)\n",
    "    count_3 = value_counts_3.loc[value_counts_3['user_location']==country]['style'].value_counts().reindex(df_reviews_locations['style'].unique(), fill_value=0)\n",
    "    count_4 = value_counts_4.loc[value_counts_4['user_location']==country]['style'].value_counts().reindex(df_reviews_locations['style'].unique(), fill_value=0)\n",
    "    df_country_weighted_count = pd.DataFrame(normalize([count_1*1 + count_2*2 + count_3*3 + count_4*4])).T\n",
    "    df_country_weighted_count = df_country_weighted_count.set_index(count_1.index) \n",
    "    df_country_weighted_count = df_country_weighted_count.rename(columns={ 0: country})\n",
    "    beer_style_score = beer_style_score.join(df_country_weighted_count)\n",
    "\n",
    "df_beer_style_score = beer_style_score.T"
   ]
  },
  {
   "attachments": {},
   "cell_type": "markdown",
   "metadata": {},
   "source": [
    "We save it into a dataframe because we will use it in the following sections:"
   ]
  },
  {
   "cell_type": "code",
   "execution_count": 86,
   "metadata": {},
   "outputs": [],
   "source": [
    "df_beer_style_score.to_csv(PATH+'/DataframeStorage/style_scores.csv')"
   ]
  },
  {
   "cell_type": "code",
   "execution_count": 372,
   "metadata": {},
   "outputs": [],
   "source": [
    "#loading that dataframe\n",
    "df_beer_style_score = pd.read_csv(PATH+'/DataframeStorage/style_scores.csv' , index_col='Unnamed: 0')"
   ]
  },
  {
   "cell_type": "code",
   "execution_count": 88,
   "metadata": {},
   "outputs": [
    {
     "data": {
      "text/html": [
       "<div>\n",
       "<style scoped>\n",
       "    .dataframe tbody tr th:only-of-type {\n",
       "        vertical-align: middle;\n",
       "    }\n",
       "\n",
       "    .dataframe tbody tr th {\n",
       "        vertical-align: top;\n",
       "    }\n",
       "\n",
       "    .dataframe thead th {\n",
       "        text-align: right;\n",
       "    }\n",
       "</style>\n",
       "<table border=\"1\" class=\"dataframe\">\n",
       "  <thead>\n",
       "    <tr style=\"text-align: right;\">\n",
       "      <th></th>\n",
       "      <th>Euro Pale Lager</th>\n",
       "      <th>English Pale Ale</th>\n",
       "      <th>English Bitter</th>\n",
       "      <th>American Pale Wheat Ale</th>\n",
       "      <th>Irish Red Ale</th>\n",
       "      <th>American Stout</th>\n",
       "      <th>Milk / Sweet Stout</th>\n",
       "      <th>Irish Dry Stout</th>\n",
       "      <th>Munich Helles Lager</th>\n",
       "      <th>English Brown Ale</th>\n",
       "      <th>...</th>\n",
       "      <th>Saké - Ginjo</th>\n",
       "      <th>Saké - Infused</th>\n",
       "      <th>Saké - Tokubetsu</th>\n",
       "      <th>Saké - Junmai</th>\n",
       "      <th>Saké - Nigori</th>\n",
       "      <th>Saké - Koshu</th>\n",
       "      <th>Saké - Taru</th>\n",
       "      <th>Saké - Honjozo</th>\n",
       "      <th>Saké - Genshu</th>\n",
       "      <th>Saké - Futsu-shu</th>\n",
       "    </tr>\n",
       "  </thead>\n",
       "  <tbody>\n",
       "    <tr>\n",
       "      <th>United States, Washington</th>\n",
       "      <td>0.012461</td>\n",
       "      <td>0.042757</td>\n",
       "      <td>0.007066</td>\n",
       "      <td>0.032431</td>\n",
       "      <td>0.009360</td>\n",
       "      <td>0.044291</td>\n",
       "      <td>0.033522</td>\n",
       "      <td>0.012711</td>\n",
       "      <td>0.010076</td>\n",
       "      <td>0.022889</td>\n",
       "      <td>...</td>\n",
       "      <td>0.000000</td>\n",
       "      <td>0.0</td>\n",
       "      <td>0.0</td>\n",
       "      <td>0.000000</td>\n",
       "      <td>0.000000</td>\n",
       "      <td>0.000000</td>\n",
       "      <td>0.000034</td>\n",
       "      <td>0.0</td>\n",
       "      <td>0.0</td>\n",
       "      <td>0.0</td>\n",
       "    </tr>\n",
       "    <tr>\n",
       "      <th>United States, New York</th>\n",
       "      <td>0.027526</td>\n",
       "      <td>0.070530</td>\n",
       "      <td>0.017409</td>\n",
       "      <td>0.062462</td>\n",
       "      <td>0.020781</td>\n",
       "      <td>0.063137</td>\n",
       "      <td>0.059082</td>\n",
       "      <td>0.030932</td>\n",
       "      <td>0.019011</td>\n",
       "      <td>0.040703</td>\n",
       "      <td>...</td>\n",
       "      <td>0.000051</td>\n",
       "      <td>0.0</td>\n",
       "      <td>0.0</td>\n",
       "      <td>0.000135</td>\n",
       "      <td>0.000025</td>\n",
       "      <td>0.000000</td>\n",
       "      <td>0.000051</td>\n",
       "      <td>0.0</td>\n",
       "      <td>0.0</td>\n",
       "      <td>0.0</td>\n",
       "    </tr>\n",
       "    <tr>\n",
       "      <th>Northern Ireland</th>\n",
       "      <td>0.051984</td>\n",
       "      <td>0.218411</td>\n",
       "      <td>0.122589</td>\n",
       "      <td>0.019397</td>\n",
       "      <td>0.033751</td>\n",
       "      <td>0.010086</td>\n",
       "      <td>0.030647</td>\n",
       "      <td>0.028708</td>\n",
       "      <td>0.022501</td>\n",
       "      <td>0.027156</td>\n",
       "      <td>...</td>\n",
       "      <td>0.000000</td>\n",
       "      <td>0.0</td>\n",
       "      <td>0.0</td>\n",
       "      <td>0.000000</td>\n",
       "      <td>0.000000</td>\n",
       "      <td>0.000000</td>\n",
       "      <td>0.000000</td>\n",
       "      <td>0.0</td>\n",
       "      <td>0.0</td>\n",
       "      <td>0.0</td>\n",
       "    </tr>\n",
       "    <tr>\n",
       "      <th>United States, North Carolina</th>\n",
       "      <td>0.016175</td>\n",
       "      <td>0.063209</td>\n",
       "      <td>0.011494</td>\n",
       "      <td>0.053570</td>\n",
       "      <td>0.018429</td>\n",
       "      <td>0.077269</td>\n",
       "      <td>0.052634</td>\n",
       "      <td>0.025953</td>\n",
       "      <td>0.018030</td>\n",
       "      <td>0.043030</td>\n",
       "      <td>...</td>\n",
       "      <td>0.000052</td>\n",
       "      <td>0.0</td>\n",
       "      <td>0.0</td>\n",
       "      <td>0.000052</td>\n",
       "      <td>0.000000</td>\n",
       "      <td>0.000052</td>\n",
       "      <td>0.000000</td>\n",
       "      <td>0.0</td>\n",
       "      <td>0.0</td>\n",
       "      <td>0.0</td>\n",
       "    </tr>\n",
       "    <tr>\n",
       "      <th>United States, Illinois</th>\n",
       "      <td>0.022433</td>\n",
       "      <td>0.045016</td>\n",
       "      <td>0.011705</td>\n",
       "      <td>0.063094</td>\n",
       "      <td>0.026713</td>\n",
       "      <td>0.067408</td>\n",
       "      <td>0.059924</td>\n",
       "      <td>0.022391</td>\n",
       "      <td>0.017503</td>\n",
       "      <td>0.029658</td>\n",
       "      <td>...</td>\n",
       "      <td>0.000000</td>\n",
       "      <td>0.0</td>\n",
       "      <td>0.0</td>\n",
       "      <td>0.000000</td>\n",
       "      <td>0.000000</td>\n",
       "      <td>0.000000</td>\n",
       "      <td>0.000025</td>\n",
       "      <td>0.0</td>\n",
       "      <td>0.0</td>\n",
       "      <td>0.0</td>\n",
       "    </tr>\n",
       "    <tr>\n",
       "      <th>...</th>\n",
       "      <td>...</td>\n",
       "      <td>...</td>\n",
       "      <td>...</td>\n",
       "      <td>...</td>\n",
       "      <td>...</td>\n",
       "      <td>...</td>\n",
       "      <td>...</td>\n",
       "      <td>...</td>\n",
       "      <td>...</td>\n",
       "      <td>...</td>\n",
       "      <td>...</td>\n",
       "      <td>...</td>\n",
       "      <td>...</td>\n",
       "      <td>...</td>\n",
       "      <td>...</td>\n",
       "      <td>...</td>\n",
       "      <td>...</td>\n",
       "      <td>...</td>\n",
       "      <td>...</td>\n",
       "      <td>...</td>\n",
       "      <td>...</td>\n",
       "    </tr>\n",
       "    <tr>\n",
       "      <th>Saint Lucia</th>\n",
       "      <td>0.000000</td>\n",
       "      <td>0.000000</td>\n",
       "      <td>0.000000</td>\n",
       "      <td>0.000000</td>\n",
       "      <td>0.000000</td>\n",
       "      <td>0.000000</td>\n",
       "      <td>0.000000</td>\n",
       "      <td>0.000000</td>\n",
       "      <td>0.000000</td>\n",
       "      <td>0.000000</td>\n",
       "      <td>...</td>\n",
       "      <td>0.000000</td>\n",
       "      <td>0.0</td>\n",
       "      <td>0.0</td>\n",
       "      <td>0.000000</td>\n",
       "      <td>0.000000</td>\n",
       "      <td>0.000000</td>\n",
       "      <td>0.000000</td>\n",
       "      <td>0.0</td>\n",
       "      <td>0.0</td>\n",
       "      <td>0.0</td>\n",
       "    </tr>\n",
       "    <tr>\n",
       "      <th>Micronesia</th>\n",
       "      <td>0.000000</td>\n",
       "      <td>0.000000</td>\n",
       "      <td>0.000000</td>\n",
       "      <td>0.000000</td>\n",
       "      <td>0.000000</td>\n",
       "      <td>0.000000</td>\n",
       "      <td>0.000000</td>\n",
       "      <td>0.000000</td>\n",
       "      <td>0.000000</td>\n",
       "      <td>0.000000</td>\n",
       "      <td>...</td>\n",
       "      <td>0.000000</td>\n",
       "      <td>0.0</td>\n",
       "      <td>0.0</td>\n",
       "      <td>0.000000</td>\n",
       "      <td>0.000000</td>\n",
       "      <td>0.000000</td>\n",
       "      <td>0.000000</td>\n",
       "      <td>0.0</td>\n",
       "      <td>0.0</td>\n",
       "      <td>0.0</td>\n",
       "    </tr>\n",
       "    <tr>\n",
       "      <th>Virgin Islands (British)</th>\n",
       "      <td>0.000000</td>\n",
       "      <td>0.000000</td>\n",
       "      <td>0.000000</td>\n",
       "      <td>0.000000</td>\n",
       "      <td>0.000000</td>\n",
       "      <td>0.000000</td>\n",
       "      <td>0.000000</td>\n",
       "      <td>0.000000</td>\n",
       "      <td>0.000000</td>\n",
       "      <td>0.000000</td>\n",
       "      <td>...</td>\n",
       "      <td>0.000000</td>\n",
       "      <td>0.0</td>\n",
       "      <td>0.0</td>\n",
       "      <td>0.000000</td>\n",
       "      <td>0.000000</td>\n",
       "      <td>0.000000</td>\n",
       "      <td>0.000000</td>\n",
       "      <td>0.0</td>\n",
       "      <td>0.0</td>\n",
       "      <td>0.0</td>\n",
       "    </tr>\n",
       "    <tr>\n",
       "      <th>Yemen</th>\n",
       "      <td>0.000000</td>\n",
       "      <td>0.000000</td>\n",
       "      <td>0.000000</td>\n",
       "      <td>0.000000</td>\n",
       "      <td>0.000000</td>\n",
       "      <td>0.000000</td>\n",
       "      <td>0.000000</td>\n",
       "      <td>0.000000</td>\n",
       "      <td>0.000000</td>\n",
       "      <td>0.000000</td>\n",
       "      <td>...</td>\n",
       "      <td>0.000000</td>\n",
       "      <td>0.0</td>\n",
       "      <td>0.0</td>\n",
       "      <td>0.000000</td>\n",
       "      <td>0.000000</td>\n",
       "      <td>0.000000</td>\n",
       "      <td>0.000000</td>\n",
       "      <td>0.0</td>\n",
       "      <td>0.0</td>\n",
       "      <td>0.0</td>\n",
       "    </tr>\n",
       "    <tr>\n",
       "      <th>Tibet</th>\n",
       "      <td>0.000000</td>\n",
       "      <td>0.000000</td>\n",
       "      <td>0.000000</td>\n",
       "      <td>0.000000</td>\n",
       "      <td>0.000000</td>\n",
       "      <td>0.000000</td>\n",
       "      <td>0.000000</td>\n",
       "      <td>0.000000</td>\n",
       "      <td>0.000000</td>\n",
       "      <td>0.000000</td>\n",
       "      <td>...</td>\n",
       "      <td>0.000000</td>\n",
       "      <td>0.0</td>\n",
       "      <td>0.0</td>\n",
       "      <td>0.000000</td>\n",
       "      <td>0.000000</td>\n",
       "      <td>0.000000</td>\n",
       "      <td>0.000000</td>\n",
       "      <td>0.0</td>\n",
       "      <td>0.0</td>\n",
       "      <td>0.0</td>\n",
       "    </tr>\n",
       "  </tbody>\n",
       "</table>\n",
       "<p>239 rows × 183 columns</p>\n",
       "</div>"
      ],
      "text/plain": [
       "                               Euro Pale Lager  English Pale Ale  \\\n",
       "United States, Washington             0.012461          0.042757   \n",
       "United States, New York               0.027526          0.070530   \n",
       "Northern Ireland                      0.051984          0.218411   \n",
       "United States, North Carolina         0.016175          0.063209   \n",
       "United States, Illinois               0.022433          0.045016   \n",
       "...                                        ...               ...   \n",
       "Saint Lucia                           0.000000          0.000000   \n",
       "Micronesia                            0.000000          0.000000   \n",
       "Virgin Islands (British)              0.000000          0.000000   \n",
       "Yemen                                 0.000000          0.000000   \n",
       "Tibet                                 0.000000          0.000000   \n",
       "\n",
       "                               English Bitter  American Pale Wheat Ale  \\\n",
       "United States, Washington            0.007066                 0.032431   \n",
       "United States, New York              0.017409                 0.062462   \n",
       "Northern Ireland                     0.122589                 0.019397   \n",
       "United States, North Carolina        0.011494                 0.053570   \n",
       "United States, Illinois              0.011705                 0.063094   \n",
       "...                                       ...                      ...   \n",
       "Saint Lucia                          0.000000                 0.000000   \n",
       "Micronesia                           0.000000                 0.000000   \n",
       "Virgin Islands (British)             0.000000                 0.000000   \n",
       "Yemen                                0.000000                 0.000000   \n",
       "Tibet                                0.000000                 0.000000   \n",
       "\n",
       "                               Irish Red Ale  American Stout  \\\n",
       "United States, Washington           0.009360        0.044291   \n",
       "United States, New York             0.020781        0.063137   \n",
       "Northern Ireland                    0.033751        0.010086   \n",
       "United States, North Carolina       0.018429        0.077269   \n",
       "United States, Illinois             0.026713        0.067408   \n",
       "...                                      ...             ...   \n",
       "Saint Lucia                         0.000000        0.000000   \n",
       "Micronesia                          0.000000        0.000000   \n",
       "Virgin Islands (British)            0.000000        0.000000   \n",
       "Yemen                               0.000000        0.000000   \n",
       "Tibet                               0.000000        0.000000   \n",
       "\n",
       "                               Milk / Sweet Stout  Irish Dry Stout  \\\n",
       "United States, Washington                0.033522         0.012711   \n",
       "United States, New York                  0.059082         0.030932   \n",
       "Northern Ireland                         0.030647         0.028708   \n",
       "United States, North Carolina            0.052634         0.025953   \n",
       "United States, Illinois                  0.059924         0.022391   \n",
       "...                                           ...              ...   \n",
       "Saint Lucia                              0.000000         0.000000   \n",
       "Micronesia                               0.000000         0.000000   \n",
       "Virgin Islands (British)                 0.000000         0.000000   \n",
       "Yemen                                    0.000000         0.000000   \n",
       "Tibet                                    0.000000         0.000000   \n",
       "\n",
       "                               Munich Helles Lager  English Brown Ale  ...  \\\n",
       "United States, Washington                 0.010076           0.022889  ...   \n",
       "United States, New York                   0.019011           0.040703  ...   \n",
       "Northern Ireland                          0.022501           0.027156  ...   \n",
       "United States, North Carolina             0.018030           0.043030  ...   \n",
       "United States, Illinois                   0.017503           0.029658  ...   \n",
       "...                                            ...                ...  ...   \n",
       "Saint Lucia                               0.000000           0.000000  ...   \n",
       "Micronesia                                0.000000           0.000000  ...   \n",
       "Virgin Islands (British)                  0.000000           0.000000  ...   \n",
       "Yemen                                     0.000000           0.000000  ...   \n",
       "Tibet                                     0.000000           0.000000  ...   \n",
       "\n",
       "                               Saké - Ginjo  Saké - Infused  Saké - Tokubetsu  \\\n",
       "United States, Washington          0.000000             0.0               0.0   \n",
       "United States, New York            0.000051             0.0               0.0   \n",
       "Northern Ireland                   0.000000             0.0               0.0   \n",
       "United States, North Carolina      0.000052             0.0               0.0   \n",
       "United States, Illinois            0.000000             0.0               0.0   \n",
       "...                                     ...             ...               ...   \n",
       "Saint Lucia                        0.000000             0.0               0.0   \n",
       "Micronesia                         0.000000             0.0               0.0   \n",
       "Virgin Islands (British)           0.000000             0.0               0.0   \n",
       "Yemen                              0.000000             0.0               0.0   \n",
       "Tibet                              0.000000             0.0               0.0   \n",
       "\n",
       "                               Saké - Junmai  Saké - Nigori  Saké - Koshu  \\\n",
       "United States, Washington           0.000000       0.000000      0.000000   \n",
       "United States, New York             0.000135       0.000025      0.000000   \n",
       "Northern Ireland                    0.000000       0.000000      0.000000   \n",
       "United States, North Carolina       0.000052       0.000000      0.000052   \n",
       "United States, Illinois             0.000000       0.000000      0.000000   \n",
       "...                                      ...            ...           ...   \n",
       "Saint Lucia                         0.000000       0.000000      0.000000   \n",
       "Micronesia                          0.000000       0.000000      0.000000   \n",
       "Virgin Islands (British)            0.000000       0.000000      0.000000   \n",
       "Yemen                               0.000000       0.000000      0.000000   \n",
       "Tibet                               0.000000       0.000000      0.000000   \n",
       "\n",
       "                               Saké - Taru  Saké - Honjozo  Saké - Genshu  \\\n",
       "United States, Washington         0.000034             0.0            0.0   \n",
       "United States, New York           0.000051             0.0            0.0   \n",
       "Northern Ireland                  0.000000             0.0            0.0   \n",
       "United States, North Carolina     0.000000             0.0            0.0   \n",
       "United States, Illinois           0.000025             0.0            0.0   \n",
       "...                                    ...             ...            ...   \n",
       "Saint Lucia                       0.000000             0.0            0.0   \n",
       "Micronesia                        0.000000             0.0            0.0   \n",
       "Virgin Islands (British)          0.000000             0.0            0.0   \n",
       "Yemen                             0.000000             0.0            0.0   \n",
       "Tibet                             0.000000             0.0            0.0   \n",
       "\n",
       "                               Saké - Futsu-shu  \n",
       "United States, Washington                   0.0  \n",
       "United States, New York                     0.0  \n",
       "Northern Ireland                            0.0  \n",
       "United States, North Carolina               0.0  \n",
       "United States, Illinois                     0.0  \n",
       "...                                         ...  \n",
       "Saint Lucia                                 0.0  \n",
       "Micronesia                                  0.0  \n",
       "Virgin Islands (British)                    0.0  \n",
       "Yemen                                       0.0  \n",
       "Tibet                                       0.0  \n",
       "\n",
       "[239 rows x 183 columns]"
      ]
     },
     "execution_count": 88,
     "metadata": {},
     "output_type": "execute_result"
    }
   ],
   "source": [
    "df_beer_style_score"
   ]
  },
  {
   "cell_type": "code",
   "execution_count": 294,
   "metadata": {},
   "outputs": [
    {
     "name": "stdout",
     "output_type": "stream",
     "text": [
      "[pca] >Processing dataframe..\n",
      "[pca] >The PCA reduction is performed to capture [95.0%] explained variance using the [183] columns of the input data.\n",
      "[pca] >Fit using PCA.\n",
      "[pca] >Compute loadings and PCs.\n",
      "[pca] >Compute explained variance.\n",
      "[pca] >Number of components is [55] that covers the [95.00%] explained variance.\n",
      "[pca] >The PCA reduction is performed on the [183] columns of the input dataframe.\n",
      "[pca] >Fit using PCA.\n",
      "[pca] >Compute loadings and PCs.\n",
      "[pca] >Outlier detection using Hotelling T2 test with alpha=[0.05] and n_components=[55]\n",
      "[pca] >Outlier detection using SPE/DmodX with n_std=[2]\n",
      "       PC               feature   loading  type\n",
      "0     PC1            Pale Lager  0.462539  best\n",
      "1     PC2          American IPA  0.385069  best\n",
      "2     PC3            Pale Lager  0.792607  best\n",
      "3     PC4  India Pale Ale (IPA)  0.592434  best\n",
      "4     PC5        Imperial Stout  0.507495  best\n",
      "..    ...                   ...       ...   ...\n",
      "192  PC49          Saké - Koshu -0.000032  weak\n",
      "193  PC50           Saké - Taru -0.000053  weak\n",
      "194  PC54        Saké - Honjozo  0.000030  weak\n",
      "195  PC24         Saké - Genshu -0.000085  weak\n",
      "196  PC47      Saké - Futsu-shu -0.000120  weak\n",
      "\n",
      "[197 rows x 4 columns]\n"
     ]
    }
   ],
   "source": [
    "# Initialize\n",
    "model = pca()\n",
    "# Fit transform\n",
    "out = model.fit_transform(df_beer_style_score)\n",
    "\n",
    "# Print the top features. The results show that f1 is best, followed by f2 etc\n",
    "print(out['topfeat'])\n",
    "\n",
    "#     PC      feature\n",
    "# 0  PC1      f1\n",
    "# 1  PC2      f2\n",
    "# 2  PC3      f3\n",
    "# 3  PC4      f4\n",
    "# 4  PC5      f5\n",
    "# 5  PC6      f6\n",
    "# 6  PC7      f7\n",
    "# 7  PC8      f8\n",
    "# 8  PC9      f9"
   ]
  },
  {
   "cell_type": "code",
   "execution_count": 295,
   "metadata": {},
   "outputs": [],
   "source": [
    "#we select unique features because one feature might be associated to several PC's \n",
    "top_features = out['topfeat'].head(55).feature.unique()"
   ]
  },
  {
   "cell_type": "code",
   "execution_count": 296,
   "metadata": {},
   "outputs": [],
   "source": [
    "df_beer_style_score = df_beer_style_score[top_features]"
   ]
  },
  {
   "cell_type": "code",
   "execution_count": 137,
   "metadata": {},
   "outputs": [
    {
     "data": {
      "image/png": "[encoded data removed]",
      "text/plain": [
       "<Figure size 640x480 with 1 Axes>"
      ]
     },
     "metadata": {},
     "output_type": "display_data"
    }
   ],
   "source": [
    "Sum_of_squared_distances = []\n",
    "\n",
    "K = range(1,150)\n",
    "\n",
    "for num_clusters in K :\n",
    " kmeans = KMeans(n_clusters=num_clusters)\n",
    " kmeans.fit(df_beer_style_score)\n",
    " Sum_of_squared_distances.append(kmeans.inertia_)\n",
    "\n",
    "plt.plot(K,Sum_of_squared_distances,'bx-')\n",
    "plt.xlabel('Values of K') \n",
    "plt.ylabel('Sum of squared distances/Inertia') \n",
    "plt.title('Elbow Method For Optimal k')\n",
    "plt.show()"
   ]
  },
  {
   "cell_type": "code",
   "execution_count": 297,
   "metadata": {},
   "outputs": [],
   "source": [
    "kmeans = KMeans(25)\n",
    "kmeans.fit(df_beer_style_score)\n",
    "clusters=kmeans.fit_predict(df_beer_style_score)"
   ]
  },
  {
   "cell_type": "code",
   "execution_count": 298,
   "metadata": {},
   "outputs": [],
   "source": [
    "clusters_data = df_beer_style_score.copy()\n",
    "clusters_data['Cluster']=clusters\n",
    "plotting_data = clusters_data.join(df_coordinates)\n",
    "plotting_data = plotting_data.dropna(axis=0)"
   ]
  },
  {
   "cell_type": "code",
   "execution_count": 299,
   "metadata": {},
   "outputs": [
    {
     "data": {
      "image/png": "[encoded data removed]",
      "text/plain": [
       "<Figure size 800x800 with 1 Axes>"
      ]
     },
     "metadata": {},
     "output_type": "display_data"
    }
   ],
   "source": [
    "plt.figure(figsize=(8,8))\n",
    "plt.scatter(plotting_data['Longitude'],plotting_data[\"Latitude\"],c=plotting_data['Cluster'],cmap='rainbow')\n",
    "plt.xlabel('Longitude')\n",
    "plt.ylabel('Latitude')\n",
    "plt.title(\"Data with 25 clusters\") \n",
    "plt.xlim(-180,180)\n",
    "plt.ylim(-90, 90)\n",
    "plt.show()"
   ]
  },
  {
   "cell_type": "code",
   "execution_count": 300,
   "metadata": {},
   "outputs": [
    {
     "data": {
      "application/vnd.plotly.v1+json": {
       "config": {
        "plotlyServerURL": "https://plot.ly"
       },
       "data": [
        {
         "hoverinfo": "text",
         "hovertemplate": "%{text}<br>Cluster: %{marker.color}<extra></extra>",
         "hovertext": [
          "United States, Washington",
          "United States, New York",
          "Northern Ireland",
          "United States, North Carolina",
          "United States, Illinois",
          "United States, Massachusetts",
          "United States, Virginia",
          "United States, South Carolina",
          "United States, Georgia",
          "United States, West Virginia",
          "United States, Pennsylvania",
          "United States, Alabama",
          "United States, New Hampshire",
          "United States, Louisiana",
          "United States, Indiana",
          "United States, Rhode Island",
          "United States, Missouri",
          "United States, Arkansas",
          "United States, Ohio",
          "United States, Connecticut",
          "United States, Florida",
          "United States, Minnesota",
          "United States, New Jersey",
          "United States, Maryland",
          "United States, Alaska",
          "United States, Mississippi",
          "United States, Oregon",
          "United States, Kentucky",
          "United States, Oklahoma",
          "England",
          "United States, California",
          "Ireland",
          "Australia",
          "United States, Arizona",
          "United States, Texas",
          "Canada",
          "United States, Montana",
          "United States, Hawaii",
          "Austria",
          "Cyprus",
          "United States, Michigan",
          "United States, Delaware",
          "Switzerland",
          "Slovenia",
          "Sweden",
          "United States, Tennessee",
          "Germany",
          "France",
          "South Africa",
          "Scotland",
          "Denmark",
          "Romania",
          "Hong Kong",
          "Italy",
          "Russia",
          "Spain",
          "Thailand",
          "United States, Colorado",
          "United States, Idaho",
          "Jersey",
          "Portugal",
          "Wales",
          "United States, Wisconsin",
          "Netherlands",
          "United States, Iowa",
          "Greece",
          "United States, Vermont",
          "United States, New Mexico",
          "Belgium",
          "United States, Maine",
          "United States, Nevada",
          "United States, Nebraska",
          "United States, Kansas",
          "Brazil",
          "United States, Wyoming",
          "China",
          "Norway",
          "Japan",
          "United States, North Dakota",
          "Malaysia",
          "Taiwan",
          "Poland",
          "Ukraine",
          "Mexico",
          "Luxembourg",
          "United Arab Emirates",
          "Bahamas",
          "Panama",
          "Finland",
          "United States, Utah",
          "Croatia",
          "Antarctica",
          "Hungary",
          "Serbia",
          "Malta",
          "Trinidad and Tobago",
          "Guernsey",
          "Svalbard and Jan Mayen Islands",
          "United States, South Dakota",
          "Lesotho",
          "Jordan",
          "Singapore",
          "Turkey",
          "Puerto Rico",
          "Czech Republic",
          "American Samoa",
          "Philippines",
          "Costa Rica",
          "India",
          "Barbados",
          "Bermuda",
          "Tokelau",
          "Fiji Islands",
          "Bulgaria",
          "Anguilla",
          "Cambodia",
          "Uganda",
          "Argentina",
          "Israel",
          "Lithuania",
          "Lebanon",
          "Belarus",
          "Chile",
          "Iceland",
          "Papua New Guinea",
          "Bhutan",
          "Isle of Man",
          "Tajikistan",
          "Peru",
          "Gibraltar",
          "Tanzania",
          "Uruguay",
          "Vietnam",
          "Honduras",
          "Nigeria",
          "Bolivia",
          "Bosnia and Herzegovina",
          "Kenya",
          "Cayman Islands",
          "Nicaragua",
          "Guam",
          "Indonesia",
          "Burkina Faso",
          "Bouvet Island",
          "South Georgia and South Sandwich Islands",
          "Moldova",
          "Macedonia",
          "El Salvador",
          "Estonia",
          "Guatemala",
          "Dominican Republic",
          "Solomon Islands",
          "Ecuador",
          "Colombia",
          "Venezuela",
          "Paraguay",
          "Latvia",
          "Angola",
          "Afghanistan",
          "Vanuatu",
          "New Caledonia",
          "Andorra",
          "Faroe Islands",
          "Northern Mariana Islands",
          "Mauritania",
          "Antigua and Barbuda",
          "Aruba",
          "Uzbekistan",
          "Belize",
          "Marshall Islands",
          "British Indian Ocean Territory",
          "New Zealand",
          "Mozambique",
          "Ascension Island",
          "Nepal",
          "North Korea",
          "South Korea",
          "Greenland",
          "Algeria",
          "Namibia",
          "Laos",
          "Armenia",
          "Kazakhstan",
          "Montenegro",
          "Bangladesh",
          "Azerbaijan",
          "Togo",
          "Monaco",
          "Saudi Arabia",
          "Pakistan",
          "Mauritius",
          "Slovakia",
          "Saint Helena",
          "Burundi",
          "Dem Rep of Congo",
          "Ivory Coast",
          "San Marino",
          "Cuba",
          "Norfolk Island",
          "French Guiana",
          "Botswana",
          "Mongolia",
          "Montserrat",
          "Syria",
          "Morocco",
          "Albania",
          "Sudan",
          "Kosovo",
          "Palestine",
          "Oman",
          "Liechtenstein",
          "Zimbabwe",
          "Egypt",
          "Tunisia",
          "Kyrgyzstan",
          "Iraq",
          "Zambia",
          "Ghana",
          "Tuvalu",
          "Vatican City",
          "Macau",
          "Iran",
          "Jamaica",
          "Haiti",
          "Saint Lucia",
          "Micronesia",
          "Yemen"
         ],
         "lat": [
          47.751074,
          43.299428,
          "54.7877",
          35.759573,
          40.633125,
          42.407211,
          37.431573,
          33.836081,
          32.157435,
          38.597626,
          41.203322,
          32.318231,
          43.193852,
          31.244823,
          40.551217,
          41.580095,
          37.964253,
          35.20105,
          40.417287,
          41.603221,
          27.664827,
          46.729553,
          40.058324,
          39.045755,
          63.588753,
          32.354668,
          43.804133,
          37.839333,
          35.007752,
          "52.3555177 ",
          36.778261,
          "53.41291",
          "-25.274398",
          34.048928,
          31.968599,
          "56.130366",
          46.879682,
          19.898682,
          "47.516231",
          "35.126413",
          44.314844,
          38.910832,
          "46.818188",
          "46.151241",
          "60.128161",
          35.517491,
          "51.165691",
          "46.227638",
          "-30.559482",
          "56.4907",
          "56.26392",
          "45.943161",
          "22.396428",
          "41.87194",
          "61.52401",
          "40.463667",
          "15.870032",
          39.550051,
          44.068202,
          "49.214439",
          "39.399872",
          "52.1307",
          43.78444,
          "52.132633",
          41.878003,
          "39.074208",
          44.558803,
          34.97273,
          "50.503887",
          45.253783,
          38.80261,
          41.492537,
          39.011902,
          "-14.235004",
          43.075968,
          "35.86166",
          "60.472024",
          "36.204824",
          47.551493,
          "4.210484",
          "23.69781",
          "51.919438",
          "48.379433",
          "23.634501",
          "49.815273",
          "23.424076",
          "25.03428",
          "8.537981",
          "61.92411",
          39.32098,
          "45.1",
          "-75.250973",
          "47.162494",
          "44.016521",
          "35.937496",
          "10.691803",
          "49.465691",
          "71.0318",
          43.969515,
          "-29.609988",
          "30.585164",
          "1.352083",
          "38.963745",
          "18.220833",
          "49.817492",
          "-14.270972",
          "12.879721",
          "9.748917",
          "20.593684",
          "13.193887",
          "32.321384",
          "-8.967363",
          "17.7134",
          "42.733883",
          "18.220554",
          "12.565679",
          "1.373333",
          "-38.416097",
          "31.046051",
          "55.169438",
          "33.854721",
          "53.709807",
          "-35.675147",
          "64.963051",
          "-6.314993",
          "27.514162",
          "54.236107",
          "38.861034",
          "-9.189967",
          "36.137741",
          "-6.369028",
          "-32.522779",
          "14.058324",
          "15.199999",
          "9.081999",
          "-16.290154",
          "43.915886",
          "-0.023559",
          "19.513469",
          "12.865416",
          "13.444304",
          "-0.789275",
          "12.238333",
          "-54.423199",
          "54.4296",
          "47.411631",
          "41.608635",
          "13.794185",
          "58.595272",
          "15.783471",
          "18.735693",
          "-9.64571",
          "-1.831239",
          "4.570868",
          "6.42375",
          "-23.442503",
          "56.879635",
          "-11.202692",
          "33.93911",
          "-15.376706",
          "-20.904305",
          "42.546245",
          "61.892635",
          "17.33083",
          "21.00789",
          "17.060816",
          "12.52111",
          "41.377491",
          "17.189877",
          "7.131474",
          "-6.343194",
          "-40.900557",
          "-18.665695",
          "7.9467",
          "28.394857",
          "40.339852",
          "35.907757",
          "71.706936",
          "28.033886",
          "-22.95764",
          "19.85627",
          "40.069099",
          "48.019573",
          "42.708678",
          "23.684994",
          "40.143105",
          "8.619543",
          "43.750298",
          "23.885942",
          "30.375321",
          "-20.348404",
          "48.669026",
          "-24.143474",
          "-3.373056",
          "-4.038333",
          "7.539989",
          "43.94236",
          "21.521757",
          "-29.040835",
          "3.933889",
          "-22.328474",
          "46.862496",
          "16.742498",
          "34.802075",
          "31.791702",
          "41.153332",
          "12.862807",
          "42.602636",
          "31.9522",
          "21.512583",
          "47.166",
          "-19.015438",
          "26.820553",
          "33.886917",
          "41.20438",
          "33.223191",
          "-13.133897",
          "7.946527",
          "-7.109535",
          "41.902916",
          "22.198745",
          "32.427908",
          "18.109581",
          "18.971187",
          "13.909444",
          "7.425554",
          "15.552727"
         ],
         "lon": [
          -120.740139,
          -74.217933,
          6.4923,
          -79.0193,
          -89.398528,
          -71.382437,
          -78.656894,
          -81.163725,
          -82.907123,
          -80.454903,
          -77.194525,
          -86.902298,
          -71.572395,
          -92.145024,
          -85.602364,
          -71.477429,
          -91.831833,
          -91.831833,
          -82.907123,
          -73.087749,
          -81.515754,
          -94.6859,
          -74.405661,
          -76.641271,
          -154.493062,
          -89.398528,
          -120.554201,
          -84.270018,
          -97.092877,
          -1.1743197,
          -119.417932,
          -8.24389,
          133.775136,
          -111.093731,
          -99.901813,
          -106.346771,
          -110.362566,
          -155.665857,
          14.550072,
          33.429859,
          -85.602364,
          -75.52767,
          8.227512,
          14.995463,
          18.643501,
          -86.580447,
          10.451526,
          2.213749,
          22.937506,
          4.2026,
          9.501785,
          24.96676,
          114.109497,
          12.56738,
          105.318756,
          -3.74922,
          100.992541,
          -105.782067,
          -114.742041,
          -2.13125,
          -8.224454,
          3.7837,
          -88.787868,
          5.291266,
          -93.097702,
          21.824312,
          -72.577841,
          -105.032363,
          4.469936,
          -69.445469,
          -116.419389,
          -99.901813,
          -98.484246,
          -51.92528,
          -107.290284,
          104.195397,
          8.468946,
          138.252924,
          -101.002012,
          101.975766,
          120.960515,
          19.145136,
          31.16558,
          -102.552784,
          6.129583,
          53.847818,
          -77.39628,
          -80.782127,
          25.748151,
          -111.093731,
          15.2,
          -0.071389,
          19.503304,
          21.005859,
          14.375416,
          -61.222503,
          -2.585278,
          8.292,
          -99.901813,
          28.233608,
          36.238414,
          103.819836,
          35.243322,
          -66.590149,
          15.472962,
          -170.132217,
          121.774017,
          -83.753428,
          78.96288,
          -59.543198,
          -64.75737,
          -171.855881,
          178.065,
          25.48583,
          -63.068615,
          104.990963,
          32.290275,
          -63.616672,
          34.851612,
          23.881275,
          35.862285,
          27.953389,
          -71.542969,
          -19.020835,
          143.95555,
          90.433601,
          -4.548056,
          71.276093,
          -75.015152,
          -5.345374,
          34.888822,
          -55.765835,
          108.277199,
          -86.241905,
          8.675277,
          -63.588653,
          17.679076,
          37.906193,
          -80.566956,
          -85.207229,
          144.793731,
          113.921327,
          -1.561593,
          3.413194,
          36.5879,
          28.369885,
          21.745275,
          -88.89653,
          25.013607,
          -90.230759,
          -70.162651,
          160.156194,
          -78.183406,
          -74.297333,
          -66.58973,
          -58.443832,
          24.603189,
          17.873887,
          67.709953,
          166.959158,
          165.618042,
          1.601554,
          -6.911806,
          145.38469,
          -10.940835,
          -61.796428,
          -69.968338,
          64.585262,
          -88.49765,
          171.184478,
          71.876519,
          174.885971,
          35.529562,
          14.3559,
          84.124008,
          127.510093,
          127.766922,
          -42.604303,
          1.659626,
          18.49041,
          102.495496,
          45.038189,
          66.923684,
          19.37439,
          90.356331,
          47.576927,
          0.824782,
          7.412841,
          45.079162,
          69.345116,
          57.552152,
          19.699024,
          -10.030696,
          29.918886,
          21.758664,
          -5.54708,
          12.457777,
          -77.781167,
          167.954712,
          -53.125782,
          24.684866,
          103.846656,
          -62.187366,
          38.996815,
          -7.09262,
          20.168331,
          30.217636,
          20.902977,
          35.2332,
          55.923255,
          9.555373,
          29.154857,
          30.802498,
          9.537499,
          74.766098,
          43.679291,
          27.849332,
          -1.023194,
          177.64933,
          12.453389,
          113.543873,
          53.688046,
          -77.297508,
          -72.285215,
          -60.978893,
          150.550812,
          48.516388
         ],
         "marker": {
          "color": [
           4,
           6,
           21,
           4,
           4,
           6,
           4,
           6,
           4,
           6,
           4,
           4,
           4,
           6,
           4,
           6,
           4,
           6,
           4,
           6,
           4,
           4,
           4,
           4,
           4,
           6,
           4,
           4,
           4,
           18,
           4,
           21,
           21,
           4,
           4,
           7,
           4,
           6,
           7,
           7,
           4,
           4,
           7,
           10,
           7,
           4,
           7,
           7,
           10,
           21,
           7,
           4,
           7,
           7,
           10,
           7,
           7,
           4,
           4,
           15,
           7,
           18,
           4,
           2,
           4,
           2,
           6,
           6,
           2,
           6,
           4,
           4,
           4,
           10,
           6,
           21,
           7,
           7,
           7,
           21,
           10,
           7,
           10,
           10,
           21,
           15,
           6,
           8,
           7,
           7,
           10,
           9,
           7,
           7,
           1,
           15,
           9,
           15,
           10,
           6,
           9,
           7,
           7,
           10,
           7,
           9,
           7,
           6,
           10,
           6,
           2,
           9,
           6,
           10,
           9,
           7,
           9,
           10,
           7,
           10,
           9,
           7,
           10,
           7,
           1,
           5,
           8,
           6,
           10,
           24,
           1,
           1,
           1,
           1,
           1,
           10,
           10,
           12,
           1,
           1,
           7,
           7,
           9,
           9,
           3,
           10,
           10,
           10,
           7,
           1,
           9,
           9,
           10,
           1,
           7,
           1,
           7,
           6,
           2,
           1,
           9,
           8,
           10,
           9,
           5,
           1,
           3,
           9,
           1,
           10,
           14,
           7,
           2,
           7,
           1,
           2,
           7,
           10,
           2,
           1,
           1,
           11,
           1,
           1,
           2,
           1,
           1,
           16,
           8,
           2,
           1,
           20,
           7,
           11,
           1,
           9,
           2,
           1,
           23,
           2,
           1,
           1,
           2,
           20,
           2,
           1,
           9,
           9,
           8,
           9,
           1,
           12,
           1,
           1,
           9,
           23,
           1,
           1,
           23,
           1,
           2,
           22,
           9,
           17,
           19,
           9,
           0
          ]
         },
         "mode": "markers",
         "text": [
          "United States, Washington",
          "United States, New York",
          "Northern Ireland",
          "United States, North Carolina",
          "United States, Illinois",
          "United States, Massachusetts",
          "United States, Virginia",
          "United States, South Carolina",
          "United States, Georgia",
          "United States, West Virginia",
          "United States, Pennsylvania",
          "United States, Alabama",
          "United States, New Hampshire",
          "United States, Louisiana",
          "United States, Indiana",
          "United States, Rhode Island",
          "United States, Missouri",
          "United States, Arkansas",
          "United States, Ohio",
          "United States, Connecticut",
          "United States, Florida",
          "United States, Minnesota",
          "United States, New Jersey",
          "United States, Maryland",
          "United States, Alaska",
          "United States, Mississippi",
          "United States, Oregon",
          "United States, Kentucky",
          "United States, Oklahoma",
          "England",
          "United States, California",
          "Ireland",
          "Australia",
          "United States, Arizona",
          "United States, Texas",
          "Canada",
          "United States, Montana",
          "United States, Hawaii",
          "Austria",
          "Cyprus",
          "United States, Michigan",
          "United States, Delaware",
          "Switzerland",
          "Slovenia",
          "Sweden",
          "United States, Tennessee",
          "Germany",
          "France",
          "South Africa",
          "Scotland",
          "Denmark",
          "Romania",
          "Hong Kong",
          "Italy",
          "Russia",
          "Spain",
          "Thailand",
          "United States, Colorado",
          "United States, Idaho",
          "Jersey",
          "Portugal",
          "Wales",
          "United States, Wisconsin",
          "Netherlands",
          "United States, Iowa",
          "Greece",
          "United States, Vermont",
          "United States, New Mexico",
          "Belgium",
          "United States, Maine",
          "United States, Nevada",
          "United States, Nebraska",
          "United States, Kansas",
          "Brazil",
          "United States, Wyoming",
          "China",
          "Norway",
          "Japan",
          "United States, North Dakota",
          "Malaysia",
          "Taiwan",
          "Poland",
          "Ukraine",
          "Mexico",
          "Luxembourg",
          "United Arab Emirates",
          "Bahamas",
          "Panama",
          "Finland",
          "United States, Utah",
          "Croatia",
          "Antarctica",
          "Hungary",
          "Serbia",
          "Malta",
          "Trinidad and Tobago",
          "Guernsey",
          "Svalbard and Jan Mayen Islands",
          "United States, South Dakota",
          "Lesotho",
          "Jordan",
          "Singapore",
          "Turkey",
          "Puerto Rico",
          "Czech Republic",
          "American Samoa",
          "Philippines",
          "Costa Rica",
          "India",
          "Barbados",
          "Bermuda",
          "Tokelau",
          "Fiji Islands",
          "Bulgaria",
          "Anguilla",
          "Cambodia",
          "Uganda",
          "Argentina",
          "Israel",
          "Lithuania",
          "Lebanon",
          "Belarus",
          "Chile",
          "Iceland",
          "Papua New Guinea",
          "Bhutan",
          "Isle of Man",
          "Tajikistan",
          "Peru",
          "Gibraltar",
          "Tanzania",
          "Uruguay",
          "Vietnam",
          "Honduras",
          "Nigeria",
          "Bolivia",
          "Bosnia and Herzegovina",
          "Kenya",
          "Cayman Islands",
          "Nicaragua",
          "Guam",
          "Indonesia",
          "Burkina Faso",
          "Bouvet Island",
          "South Georgia and South Sandwich Islands",
          "Moldova",
          "Macedonia",
          "El Salvador",
          "Estonia",
          "Guatemala",
          "Dominican Republic",
          "Solomon Islands",
          "Ecuador",
          "Colombia",
          "Venezuela",
          "Paraguay",
          "Latvia",
          "Angola",
          "Afghanistan",
          "Vanuatu",
          "New Caledonia",
          "Andorra",
          "Faroe Islands",
          "Northern Mariana Islands",
          "Mauritania",
          "Antigua and Barbuda",
          "Aruba",
          "Uzbekistan",
          "Belize",
          "Marshall Islands",
          "British Indian Ocean Territory",
          "New Zealand",
          "Mozambique",
          "Ascension Island",
          "Nepal",
          "North Korea",
          "South Korea",
          "Greenland",
          "Algeria",
          "Namibia",
          "Laos",
          "Armenia",
          "Kazakhstan",
          "Montenegro",
          "Bangladesh",
          "Azerbaijan",
          "Togo",
          "Monaco",
          "Saudi Arabia",
          "Pakistan",
          "Mauritius",
          "Slovakia",
          "Saint Helena",
          "Burundi",
          "Dem Rep of Congo",
          "Ivory Coast",
          "San Marino",
          "Cuba",
          "Norfolk Island",
          "French Guiana",
          "Botswana",
          "Mongolia",
          "Montserrat",
          "Syria",
          "Morocco",
          "Albania",
          "Sudan",
          "Kosovo",
          "Palestine",
          "Oman",
          "Liechtenstein",
          "Zimbabwe",
          "Egypt",
          "Tunisia",
          "Kyrgyzstan",
          "Iraq",
          "Zambia",
          "Ghana",
          "Tuvalu",
          "Vatican City",
          "Macau",
          "Iran",
          "Jamaica",
          "Haiti",
          "Saint Lucia",
          "Micronesia",
          "Yemen"
         ],
         "type": "scattergeo"
        }
       ],
       "layout": {
        "geo": {
         "projection": {
          "type": "natural earth2"
         },
         "showcoastlines": true,
         "showcountries": true,
         "showframe": true
        },
        "height": 900,
        "hovermode": "closest",
        "paper_bgcolor": "rgba(0,0,0,0)",
        "template": {
         "data": {
          "bar": [
           {
            "error_x": {
             "color": "#2a3f5f"
            },
            "error_y": {
             "color": "#2a3f5f"
            },
            "marker": {
             "line": {
              "color": "#E5ECF6",
              "width": 0.5
             },
             "pattern": {
              "fillmode": "overlay",
              "size": 10,
              "solidity": 0.2
             }
            },
            "type": "bar"
           }
          ],
          "barpolar": [
           {
            "marker": {
             "line": {
              "color": "#E5ECF6",
              "width": 0.5
             },
             "pattern": {
              "fillmode": "overlay",
              "size": 10,
              "solidity": 0.2
             }
            },
            "type": "barpolar"
           }
          ],
          "carpet": [
           {
            "aaxis": {
             "endlinecolor": "#2a3f5f",
             "gridcolor": "white",
             "linecolor": "white",
             "minorgridcolor": "white",
             "startlinecolor": "#2a3f5f"
            },
            "baxis": {
             "endlinecolor": "#2a3f5f",
             "gridcolor": "white",
             "linecolor": "white",
             "minorgridcolor": "white",
             "startlinecolor": "#2a3f5f"
            },
            "type": "carpet"
           }
          ],
          "choropleth": [
           {
            "colorbar": {
             "outlinewidth": 0,
             "ticks": ""
            },
            "type": "choropleth"
           }
          ],
          "contour": [
           {
            "colorbar": {
             "outlinewidth": 0,
             "ticks": ""
            },
            "colorscale": [
             [
              0,
              "#0d0887"
             ],
             [
              0.1111111111111111,
              "#46039f"
             ],
             [
              0.2222222222222222,
              "#7201a8"
             ],
             [
              0.3333333333333333,
              "#9c179e"
             ],
             [
              0.4444444444444444,
              "#bd3786"
             ],
             [
              0.5555555555555556,
              "#d8576b"
             ],
             [
              0.6666666666666666,
              "#ed7953"
             ],
             [
              0.7777777777777778,
              "#fb9f3a"
             ],
             [
              0.8888888888888888,
              "#fdca26"
             ],
             [
              1,
              "#f0f921"
             ]
            ],
            "type": "contour"
           }
          ],
          "contourcarpet": [
           {
            "colorbar": {
             "outlinewidth": 0,
             "ticks": ""
            },
            "type": "contourcarpet"
           }
          ],
          "heatmap": [
           {
            "colorbar": {
             "outlinewidth": 0,
             "ticks": ""
            },
            "colorscale": [
             [
              0,
              "#0d0887"
             ],
             [
              0.1111111111111111,
              "#46039f"
             ],
             [
              0.2222222222222222,
              "#7201a8"
             ],
             [
              0.3333333333333333,
              "#9c179e"
             ],
             [
              0.4444444444444444,
              "#bd3786"
             ],
             [
              0.5555555555555556,
              "#d8576b"
             ],
             [
              0.6666666666666666,
              "#ed7953"
             ],
             [
              0.7777777777777778,
              "#fb9f3a"
             ],
             [
              0.8888888888888888,
              "#fdca26"
             ],
             [
              1,
              "#f0f921"
             ]
            ],
            "type": "heatmap"
           }
          ],
          "heatmapgl": [
           {
            "colorbar": {
             "outlinewidth": 0,
             "ticks": ""
            },
            "colorscale": [
             [
              0,
              "#0d0887"
             ],
             [
              0.1111111111111111,
              "#46039f"
             ],
             [
              0.2222222222222222,
              "#7201a8"
             ],
             [
              0.3333333333333333,
              "#9c179e"
             ],
             [
              0.4444444444444444,
              "#bd3786"
             ],
             [
              0.5555555555555556,
              "#d8576b"
             ],
             [
              0.6666666666666666,
              "#ed7953"
             ],
             [
              0.7777777777777778,
              "#fb9f3a"
             ],
             [
              0.8888888888888888,
              "#fdca26"
             ],
             [
              1,
              "#f0f921"
             ]
            ],
            "type": "heatmapgl"
           }
          ],
          "histogram": [
           {
            "marker": {
             "pattern": {
              "fillmode": "overlay",
              "size": 10,
              "solidity": 0.2
             }
            },
            "type": "histogram"
           }
          ],
          "histogram2d": [
           {
            "colorbar": {
             "outlinewidth": 0,
             "ticks": ""
            },
            "colorscale": [
             [
              0,
              "#0d0887"
             ],
             [
              0.1111111111111111,
              "#46039f"
             ],
             [
              0.2222222222222222,
              "#7201a8"
             ],
             [
              0.3333333333333333,
              "#9c179e"
             ],
             [
              0.4444444444444444,
              "#bd3786"
             ],
             [
              0.5555555555555556,
              "#d8576b"
             ],
             [
              0.6666666666666666,
              "#ed7953"
             ],
             [
              0.7777777777777778,
              "#fb9f3a"
             ],
             [
              0.8888888888888888,
              "#fdca26"
             ],
             [
              1,
              "#f0f921"
             ]
            ],
            "type": "histogram2d"
           }
          ],
          "histogram2dcontour": [
           {
            "colorbar": {
             "outlinewidth": 0,
             "ticks": ""
            },
            "colorscale": [
             [
              0,
              "#0d0887"
             ],
             [
              0.1111111111111111,
              "#46039f"
             ],
             [
              0.2222222222222222,
              "#7201a8"
             ],
             [
              0.3333333333333333,
              "#9c179e"
             ],
             [
              0.4444444444444444,
              "#bd3786"
             ],
             [
              0.5555555555555556,
              "#d8576b"
             ],
             [
              0.6666666666666666,
              "#ed7953"
             ],
             [
              0.7777777777777778,
              "#fb9f3a"
             ],
             [
              0.8888888888888888,
              "#fdca26"
             ],
             [
              1,
              "#f0f921"
             ]
            ],
            "type": "histogram2dcontour"
           }
          ],
          "mesh3d": [
           {
            "colorbar": {
             "outlinewidth": 0,
             "ticks": ""
            },
            "type": "mesh3d"
           }
          ],
          "parcoords": [
           {
            "line": {
             "colorbar": {
              "outlinewidth": 0,
              "ticks": ""
             }
            },
            "type": "parcoords"
           }
          ],
          "pie": [
           {
            "automargin": true,
            "type": "pie"
           }
          ],
          "scatter": [
           {
            "fillpattern": {
             "fillmode": "overlay",
             "size": 10,
             "solidity": 0.2
            },
            "type": "scatter"
           }
          ],
          "scatter3d": [
           {
            "line": {
             "colorbar": {
              "outlinewidth": 0,
              "ticks": ""
             }
            },
            "marker": {
             "colorbar": {
              "outlinewidth": 0,
              "ticks": ""
             }
            },
            "type": "scatter3d"
           }
          ],
          "scattercarpet": [
           {
            "marker": {
             "colorbar": {
              "outlinewidth": 0,
              "ticks": ""
             }
            },
            "type": "scattercarpet"
           }
          ],
          "scattergeo": [
           {
            "marker": {
             "colorbar": {
              "outlinewidth": 0,
              "ticks": ""
             }
            },
            "type": "scattergeo"
           }
          ],
          "scattergl": [
           {
            "marker": {
             "colorbar": {
              "outlinewidth": 0,
              "ticks": ""
             }
            },
            "type": "scattergl"
           }
          ],
          "scattermapbox": [
           {
            "marker": {
             "colorbar": {
              "outlinewidth": 0,
              "ticks": ""
             }
            },
            "type": "scattermapbox"
           }
          ],
          "scatterpolar": [
           {
            "marker": {
             "colorbar": {
              "outlinewidth": 0,
              "ticks": ""
             }
            },
            "type": "scatterpolar"
           }
          ],
          "scatterpolargl": [
           {
            "marker": {
             "colorbar": {
              "outlinewidth": 0,
              "ticks": ""
             }
            },
            "type": "scatterpolargl"
           }
          ],
          "scatterternary": [
           {
            "marker": {
             "colorbar": {
              "outlinewidth": 0,
              "ticks": ""
             }
            },
            "type": "scatterternary"
           }
          ],
          "surface": [
           {
            "colorbar": {
             "outlinewidth": 0,
             "ticks": ""
            },
            "colorscale": [
             [
              0,
              "#0d0887"
             ],
             [
              0.1111111111111111,
              "#46039f"
             ],
             [
              0.2222222222222222,
              "#7201a8"
             ],
             [
              0.3333333333333333,
              "#9c179e"
             ],
             [
              0.4444444444444444,
              "#bd3786"
             ],
             [
              0.5555555555555556,
              "#d8576b"
             ],
             [
              0.6666666666666666,
              "#ed7953"
             ],
             [
              0.7777777777777778,
              "#fb9f3a"
             ],
             [
              0.8888888888888888,
              "#fdca26"
             ],
             [
              1,
              "#f0f921"
             ]
            ],
            "type": "surface"
           }
          ],
          "table": [
           {
            "cells": {
             "fill": {
              "color": "#EBF0F8"
             },
             "line": {
              "color": "white"
             }
            },
            "header": {
             "fill": {
              "color": "#C8D4E3"
             },
             "line": {
              "color": "white"
             }
            },
            "type": "table"
           }
          ]
         },
         "layout": {
          "annotationdefaults": {
           "arrowcolor": "#2a3f5f",
           "arrowhead": 0,
           "arrowwidth": 1
          },
          "autotypenumbers": "strict",
          "coloraxis": {
           "colorbar": {
            "outlinewidth": 0,
            "ticks": ""
           }
          },
          "colorscale": {
           "diverging": [
            [
             0,
             "#8e0152"
            ],
            [
             0.1,
             "#c51b7d"
            ],
            [
             0.2,
             "#de77ae"
            ],
            [
             0.3,
             "#f1b6da"
            ],
            [
             0.4,
             "#fde0ef"
            ],
            [
             0.5,
             "#f7f7f7"
            ],
            [
             0.6,
             "#e6f5d0"
            ],
            [
             0.7,
             "#b8e186"
            ],
            [
             0.8,
             "#7fbc41"
            ],
            [
             0.9,
             "#4d9221"
            ],
            [
             1,
             "#276419"
            ]
           ],
           "sequential": [
            [
             0,
             "#0d0887"
            ],
            [
             0.1111111111111111,
             "#46039f"
            ],
            [
             0.2222222222222222,
             "#7201a8"
            ],
            [
             0.3333333333333333,
             "#9c179e"
            ],
            [
             0.4444444444444444,
             "#bd3786"
            ],
            [
             0.5555555555555556,
             "#d8576b"
            ],
            [
             0.6666666666666666,
             "#ed7953"
            ],
            [
             0.7777777777777778,
             "#fb9f3a"
            ],
            [
             0.8888888888888888,
             "#fdca26"
            ],
            [
             1,
             "#f0f921"
            ]
           ],
           "sequentialminus": [
            [
             0,
             "#0d0887"
            ],
            [
             0.1111111111111111,
             "#46039f"
            ],
            [
             0.2222222222222222,
             "#7201a8"
            ],
            [
             0.3333333333333333,
             "#9c179e"
            ],
            [
             0.4444444444444444,
             "#bd3786"
            ],
            [
             0.5555555555555556,
             "#d8576b"
            ],
            [
             0.6666666666666666,
             "#ed7953"
            ],
            [
             0.7777777777777778,
             "#fb9f3a"
            ],
            [
             0.8888888888888888,
             "#fdca26"
            ],
            [
             1,
             "#f0f921"
            ]
           ]
          },
          "colorway": [
           "#636efa",
           "#EF553B",
           "#00cc96",
           "#ab63fa",
           "#FFA15A",
           "#19d3f3",
           "#FF6692",
           "#B6E880",
           "#FF97FF",
           "#FECB52"
          ],
          "font": {
           "color": "#2a3f5f"
          },
          "geo": {
           "bgcolor": "white",
           "lakecolor": "white",
           "landcolor": "#E5ECF6",
           "showlakes": true,
           "showland": true,
           "subunitcolor": "white"
          },
          "hoverlabel": {
           "align": "left"
          },
          "hovermode": "closest",
          "mapbox": {
           "style": "light"
          },
          "paper_bgcolor": "white",
          "plot_bgcolor": "#E5ECF6",
          "polar": {
           "angularaxis": {
            "gridcolor": "white",
            "linecolor": "white",
            "ticks": ""
           },
           "bgcolor": "#E5ECF6",
           "radialaxis": {
            "gridcolor": "white",
            "linecolor": "white",
            "ticks": ""
           }
          },
          "scene": {
           "xaxis": {
            "backgroundcolor": "#E5ECF6",
            "gridcolor": "white",
            "gridwidth": 2,
            "linecolor": "white",
            "showbackground": true,
            "ticks": "",
            "zerolinecolor": "white"
           },
           "yaxis": {
            "backgroundcolor": "#E5ECF6",
            "gridcolor": "white",
            "gridwidth": 2,
            "linecolor": "white",
            "showbackground": true,
            "ticks": "",
            "zerolinecolor": "white"
           },
           "zaxis": {
            "backgroundcolor": "#E5ECF6",
            "gridcolor": "white",
            "gridwidth": 2,
            "linecolor": "white",
            "showbackground": true,
            "ticks": "",
            "zerolinecolor": "white"
           }
          },
          "shapedefaults": {
           "line": {
            "color": "#2a3f5f"
           }
          },
          "ternary": {
           "aaxis": {
            "gridcolor": "white",
            "linecolor": "white",
            "ticks": ""
           },
           "baxis": {
            "gridcolor": "white",
            "linecolor": "white",
            "ticks": ""
           },
           "bgcolor": "#E5ECF6",
           "caxis": {
            "gridcolor": "white",
            "linecolor": "white",
            "ticks": ""
           }
          },
          "title": {
           "x": 0.05
          },
          "xaxis": {
           "automargin": true,
           "gridcolor": "white",
           "linecolor": "white",
           "ticks": "",
           "title": {
            "standoff": 15
           },
           "zerolinecolor": "white",
           "zerolinewidth": 2
          },
          "yaxis": {
           "automargin": true,
           "gridcolor": "white",
           "linecolor": "white",
           "ticks": "",
           "title": {
            "standoff": 15
           },
           "zerolinecolor": "white",
           "zerolinewidth": 2
          }
         }
        },
        "title": {
         "text": "World Map with style preference clusters"
        },
        "width": 1200
       }
      }
     },
     "metadata": {},
     "output_type": "display_data"
    }
   ],
   "source": [
    "fig = go.Figure(data=go.Scattergeo(\n",
    "        lon = plotting_data['Longitude'],\n",
    "        lat = plotting_data['Latitude'],\n",
    "        text = plotting_data.index,\n",
    "        hovertext=plotting_data.index,\n",
    "        hoverinfo='text',\n",
    "        mode = 'markers',\n",
    "        marker_color = plotting_data['Cluster'],\n",
    "        hovertemplate='%{text}<br>Cluster: %{marker.color}<extra></extra>',\n",
    "        ))\n",
    "\n",
    "# Customize the layout and show the plot\n",
    "fig.update_layout(\n",
    "    geo=go.layout.Geo(\n",
    "        showframe=True,\n",
    "        showcoastlines=True,\n",
    "        projection_type='natural earth2',\n",
    "        showcountries= True\n",
    "    ),\n",
    "    hovermode='closest',\n",
    "    width=1200,\n",
    "    height=900,\n",
    "    title='World Map with style preference clusters',\n",
    "    paper_bgcolor = 'rgba(0,0,0,0)'\n",
    ")\n",
    "\n",
    "fig.show()\n",
    "\n",
    "fig.write_html('../plots_html/map2.html')"
   ]
  },
  {
   "attachments": {},
   "cell_type": "markdown",
   "metadata": {},
   "source": [
    "We definitely see major region clusters on this map, the largest 10 clusters are represented below:"
   ]
  },
  {
   "cell_type": "code",
   "execution_count": 304,
   "metadata": {},
   "outputs": [
    {
     "name": "stdout",
     "output_type": "stream",
     "text": [
      "The largest clusters of countries are:\n"
     ]
    },
    {
     "data": {
      "text/plain": [
       "7     39\n",
       "1     35\n",
       "4     34\n",
       "10    25\n",
       "9     23\n",
       "6     21\n",
       "2     15\n",
       "8      8\n",
       "21     7\n",
       "15     5\n",
       "Name: Cluster, dtype: int64"
      ]
     },
     "execution_count": 304,
     "metadata": {},
     "output_type": "execute_result"
    }
   ],
   "source": [
    "print('The largest clusters of countries are:')\n",
    "clusters_data['Cluster'].value_counts().head(10)"
   ]
  },
  {
   "attachments": {},
   "cell_type": "markdown",
   "metadata": {},
   "source": [
    "We consider some of the clusters and want to identify which styles they like and how they do so:\n",
    "\n",
    "- Cluster 7 contains 39 countries and corresponds to mostly European countries (including Germany, Denmark, France, Switzerland etc.) and other countries around the world that do not cluster in a specific way\n",
    "- Cluster 4 contains most states from the United States\n",
    "- Cluster 10 contains a lot of south american countries\n",
    "- Cluster 6 contains states from the east coast of the United States\n",
    "\n",
    "The other large clusters had countries spread out in the world without any particular geographical/regional clustering so we omit them for the following analysis:"
   ]
  },
  {
   "cell_type": "code",
   "execution_count": 363,
   "metadata": {},
   "outputs": [],
   "source": [
    "cluster_vectors = clusters_data.groupby('Cluster').mean()\n",
    "indices_clusters = [ 7,  4,  10, 6]\n",
    "radar_plot_data = cluster_vectors.iloc[indices_clusters]"
   ]
  },
  {
   "cell_type": "code",
   "execution_count": 364,
   "metadata": {},
   "outputs": [
    {
     "data": {
      "text/html": [
       "<div>\n",
       "<style scoped>\n",
       "    .dataframe tbody tr th:only-of-type {\n",
       "        vertical-align: middle;\n",
       "    }\n",
       "\n",
       "    .dataframe tbody tr th {\n",
       "        vertical-align: top;\n",
       "    }\n",
       "\n",
       "    .dataframe thead th {\n",
       "        text-align: right;\n",
       "    }\n",
       "</style>\n",
       "<table border=\"1\" class=\"dataframe\">\n",
       "  <thead>\n",
       "    <tr style=\"text-align: right;\">\n",
       "      <th></th>\n",
       "      <th>Pale Lager</th>\n",
       "      <th>American IPA</th>\n",
       "      <th>India Pale Ale (IPA)</th>\n",
       "      <th>Imperial Stout</th>\n",
       "      <th>Golden Ale/Blond Ale</th>\n",
       "      <th>Euro Pale Lager</th>\n",
       "      <th>Amber Lager/Vienna</th>\n",
       "      <th>Pilsener</th>\n",
       "      <th>Malt Liquor</th>\n",
       "      <th>Porter</th>\n",
       "      <th>...</th>\n",
       "      <th>Irish Ale</th>\n",
       "      <th>Dry Stout</th>\n",
       "      <th>English Pale Ale</th>\n",
       "      <th>Baltic Porter</th>\n",
       "      <th>Amber Ale</th>\n",
       "      <th>Fruit Beer</th>\n",
       "      <th>Spice/Herb/Vegetable</th>\n",
       "      <th>Barley Wine</th>\n",
       "      <th>English Porter</th>\n",
       "      <th>Zwickel/Keller/Landbier</th>\n",
       "    </tr>\n",
       "    <tr>\n",
       "      <th>Cluster</th>\n",
       "      <th></th>\n",
       "      <th></th>\n",
       "      <th></th>\n",
       "      <th></th>\n",
       "      <th></th>\n",
       "      <th></th>\n",
       "      <th></th>\n",
       "      <th></th>\n",
       "      <th></th>\n",
       "      <th></th>\n",
       "      <th></th>\n",
       "      <th></th>\n",
       "      <th></th>\n",
       "      <th></th>\n",
       "      <th></th>\n",
       "      <th></th>\n",
       "      <th></th>\n",
       "      <th></th>\n",
       "      <th></th>\n",
       "      <th></th>\n",
       "      <th></th>\n",
       "    </tr>\n",
       "  </thead>\n",
       "  <tbody>\n",
       "    <tr>\n",
       "      <th>7</th>\n",
       "      <td>0.201611</td>\n",
       "      <td>0.030376</td>\n",
       "      <td>0.528032</td>\n",
       "      <td>0.280231</td>\n",
       "      <td>0.104356</td>\n",
       "      <td>0.011498</td>\n",
       "      <td>0.053978</td>\n",
       "      <td>0.129763</td>\n",
       "      <td>0.008771</td>\n",
       "      <td>0.141302</td>\n",
       "      <td>...</td>\n",
       "      <td>0.021488</td>\n",
       "      <td>0.036194</td>\n",
       "      <td>0.040053</td>\n",
       "      <td>0.047332</td>\n",
       "      <td>0.106658</td>\n",
       "      <td>0.080131</td>\n",
       "      <td>0.117711</td>\n",
       "      <td>0.081031</td>\n",
       "      <td>0.003762</td>\n",
       "      <td>0.045654</td>\n",
       "    </tr>\n",
       "    <tr>\n",
       "      <th>4</th>\n",
       "      <td>0.104459</td>\n",
       "      <td>0.353194</td>\n",
       "      <td>0.388949</td>\n",
       "      <td>0.278268</td>\n",
       "      <td>0.052707</td>\n",
       "      <td>0.017886</td>\n",
       "      <td>0.045462</td>\n",
       "      <td>0.059668</td>\n",
       "      <td>0.009883</td>\n",
       "      <td>0.141269</td>\n",
       "      <td>...</td>\n",
       "      <td>0.020341</td>\n",
       "      <td>0.034156</td>\n",
       "      <td>0.054005</td>\n",
       "      <td>0.052022</td>\n",
       "      <td>0.093887</td>\n",
       "      <td>0.087616</td>\n",
       "      <td>0.107632</td>\n",
       "      <td>0.118438</td>\n",
       "      <td>0.022835</td>\n",
       "      <td>0.011157</td>\n",
       "    </tr>\n",
       "    <tr>\n",
       "      <th>10</th>\n",
       "      <td>0.456976</td>\n",
       "      <td>0.058188</td>\n",
       "      <td>0.351435</td>\n",
       "      <td>0.124042</td>\n",
       "      <td>0.114093</td>\n",
       "      <td>0.035207</td>\n",
       "      <td>0.089504</td>\n",
       "      <td>0.171805</td>\n",
       "      <td>0.015921</td>\n",
       "      <td>0.145096</td>\n",
       "      <td>...</td>\n",
       "      <td>0.026891</td>\n",
       "      <td>0.053364</td>\n",
       "      <td>0.045953</td>\n",
       "      <td>0.072113</td>\n",
       "      <td>0.095902</td>\n",
       "      <td>0.092194</td>\n",
       "      <td>0.107616</td>\n",
       "      <td>0.055693</td>\n",
       "      <td>0.008880</td>\n",
       "      <td>0.045651</td>\n",
       "    </tr>\n",
       "    <tr>\n",
       "      <th>6</th>\n",
       "      <td>0.088118</td>\n",
       "      <td>0.508266</td>\n",
       "      <td>0.131937</td>\n",
       "      <td>0.081293</td>\n",
       "      <td>0.039932</td>\n",
       "      <td>0.031557</td>\n",
       "      <td>0.021877</td>\n",
       "      <td>0.021136</td>\n",
       "      <td>0.004509</td>\n",
       "      <td>0.055664</td>\n",
       "      <td>...</td>\n",
       "      <td>0.016572</td>\n",
       "      <td>0.016663</td>\n",
       "      <td>0.058600</td>\n",
       "      <td>0.037942</td>\n",
       "      <td>0.039134</td>\n",
       "      <td>0.034810</td>\n",
       "      <td>0.035982</td>\n",
       "      <td>0.033700</td>\n",
       "      <td>0.037927</td>\n",
       "      <td>0.003000</td>\n",
       "    </tr>\n",
       "  </tbody>\n",
       "</table>\n",
       "<p>4 rows × 41 columns</p>\n",
       "</div>"
      ],
      "text/plain": [
       "         Pale Lager  American IPA  India Pale Ale (IPA)  Imperial Stout  \\\n",
       "Cluster                                                                   \n",
       "7          0.201611      0.030376              0.528032        0.280231   \n",
       "4          0.104459      0.353194              0.388949        0.278268   \n",
       "10         0.456976      0.058188              0.351435        0.124042   \n",
       "6          0.088118      0.508266              0.131937        0.081293   \n",
       "\n",
       "         Golden Ale/Blond Ale  Euro Pale Lager  Amber Lager/Vienna  Pilsener  \\\n",
       "Cluster                                                                        \n",
       "7                    0.104356         0.011498            0.053978  0.129763   \n",
       "4                    0.052707         0.017886            0.045462  0.059668   \n",
       "10                   0.114093         0.035207            0.089504  0.171805   \n",
       "6                    0.039932         0.031557            0.021877  0.021136   \n",
       "\n",
       "         Malt Liquor    Porter  ...  Irish Ale  Dry Stout  English Pale Ale  \\\n",
       "Cluster                         ...                                           \n",
       "7           0.008771  0.141302  ...   0.021488   0.036194          0.040053   \n",
       "4           0.009883  0.141269  ...   0.020341   0.034156          0.054005   \n",
       "10          0.015921  0.145096  ...   0.026891   0.053364          0.045953   \n",
       "6           0.004509  0.055664  ...   0.016572   0.016663          0.058600   \n",
       "\n",
       "         Baltic Porter  Amber Ale  Fruit Beer  Spice/Herb/Vegetable  \\\n",
       "Cluster                                                               \n",
       "7             0.047332   0.106658    0.080131              0.117711   \n",
       "4             0.052022   0.093887    0.087616              0.107632   \n",
       "10            0.072113   0.095902    0.092194              0.107616   \n",
       "6             0.037942   0.039134    0.034810              0.035982   \n",
       "\n",
       "         Barley Wine  English Porter  Zwickel/Keller/Landbier  \n",
       "Cluster                                                        \n",
       "7           0.081031        0.003762                 0.045654  \n",
       "4           0.118438        0.022835                 0.011157  \n",
       "10          0.055693        0.008880                 0.045651  \n",
       "6           0.033700        0.037927                 0.003000  \n",
       "\n",
       "[4 rows x 41 columns]"
      ]
     },
     "execution_count": 364,
     "metadata": {},
     "output_type": "execute_result"
    }
   ],
   "source": [
    "radar_plot_data"
   ]
  },
  {
   "attachments": {},
   "cell_type": "markdown",
   "metadata": {},
   "source": [
    "We want to plot a radar plot with the most interesting categories of beer according to the clusters, since there are 41 styles of beers we extract the ones with the highest absolute value for loadings on PC1 :"
   ]
  },
  {
   "cell_type": "code",
   "execution_count": 365,
   "metadata": {},
   "outputs": [],
   "source": [
    "most_present_styles = abs(out['loadings'].loc['PC1']).sort_values(ascending= False).head(30).index"
   ]
  },
  {
   "cell_type": "code",
   "execution_count": 366,
   "metadata": {},
   "outputs": [],
   "source": [
    "radar_plot_df =  radar_plot_data.loc[:, radar_plot_data.columns.isin(most_present_styles)]"
   ]
  },
  {
   "attachments": {},
   "cell_type": "markdown",
   "metadata": {},
   "source": [
    "We want the radar plot to have the categories spread out and not in a particular order so we generate a df_radar_shuffled which contains the same data as above but with the columns shuffled:"
   ]
  },
  {
   "cell_type": "code",
   "execution_count": 370,
   "metadata": {},
   "outputs": [
    {
     "data": {
      "text/html": [
       "<div>\n",
       "<style scoped>\n",
       "    .dataframe tbody tr th:only-of-type {\n",
       "        vertical-align: middle;\n",
       "    }\n",
       "\n",
       "    .dataframe tbody tr th {\n",
       "        vertical-align: top;\n",
       "    }\n",
       "\n",
       "    .dataframe thead th {\n",
       "        text-align: right;\n",
       "    }\n",
       "</style>\n",
       "<table border=\"1\" class=\"dataframe\">\n",
       "  <thead>\n",
       "    <tr style=\"text-align: right;\">\n",
       "      <th></th>\n",
       "      <th>Cluster</th>\n",
       "      <th>Brown Ale</th>\n",
       "      <th>Fruit Beer</th>\n",
       "      <th>Russian Imperial Stout</th>\n",
       "      <th>Stout</th>\n",
       "      <th>India Pale Ale (IPA)</th>\n",
       "      <th>Porter</th>\n",
       "      <th>Barley Wine</th>\n",
       "      <th>Spice/Herb/Vegetable</th>\n",
       "      <th>Amber Ale</th>\n",
       "      <th>Pale Lager</th>\n",
       "      <th>American Pale Ale</th>\n",
       "      <th>American Pale Ale (APA)</th>\n",
       "      <th>Imperial Stout</th>\n",
       "      <th>American IPA</th>\n",
       "    </tr>\n",
       "  </thead>\n",
       "  <tbody>\n",
       "    <tr>\n",
       "      <th>0</th>\n",
       "      <td>7</td>\n",
       "      <td>0.080793</td>\n",
       "      <td>0.080131</td>\n",
       "      <td>0.009986</td>\n",
       "      <td>0.127482</td>\n",
       "      <td>0.528032</td>\n",
       "      <td>0.141302</td>\n",
       "      <td>0.081031</td>\n",
       "      <td>0.117711</td>\n",
       "      <td>0.106658</td>\n",
       "      <td>0.201611</td>\n",
       "      <td>0.262254</td>\n",
       "      <td>0.015575</td>\n",
       "      <td>0.280231</td>\n",
       "      <td>0.030376</td>\n",
       "    </tr>\n",
       "    <tr>\n",
       "      <th>1</th>\n",
       "      <td>4</td>\n",
       "      <td>0.097665</td>\n",
       "      <td>0.087616</td>\n",
       "      <td>0.128991</td>\n",
       "      <td>0.094083</td>\n",
       "      <td>0.388949</td>\n",
       "      <td>0.141269</td>\n",
       "      <td>0.118438</td>\n",
       "      <td>0.107632</td>\n",
       "      <td>0.093887</td>\n",
       "      <td>0.104459</td>\n",
       "      <td>0.175508</td>\n",
       "      <td>0.147162</td>\n",
       "      <td>0.278268</td>\n",
       "      <td>0.353194</td>\n",
       "    </tr>\n",
       "    <tr>\n",
       "      <th>2</th>\n",
       "      <td>10</td>\n",
       "      <td>0.076210</td>\n",
       "      <td>0.092194</td>\n",
       "      <td>0.022872</td>\n",
       "      <td>0.138369</td>\n",
       "      <td>0.351435</td>\n",
       "      <td>0.145096</td>\n",
       "      <td>0.055693</td>\n",
       "      <td>0.107616</td>\n",
       "      <td>0.095902</td>\n",
       "      <td>0.456976</td>\n",
       "      <td>0.183695</td>\n",
       "      <td>0.025337</td>\n",
       "      <td>0.124042</td>\n",
       "      <td>0.058188</td>\n",
       "    </tr>\n",
       "    <tr>\n",
       "      <th>3</th>\n",
       "      <td>6</td>\n",
       "      <td>0.040146</td>\n",
       "      <td>0.034810</td>\n",
       "      <td>0.166716</td>\n",
       "      <td>0.035758</td>\n",
       "      <td>0.131937</td>\n",
       "      <td>0.055664</td>\n",
       "      <td>0.033700</td>\n",
       "      <td>0.035982</td>\n",
       "      <td>0.039134</td>\n",
       "      <td>0.088118</td>\n",
       "      <td>0.061972</td>\n",
       "      <td>0.185223</td>\n",
       "      <td>0.081293</td>\n",
       "      <td>0.508266</td>\n",
       "    </tr>\n",
       "  </tbody>\n",
       "</table>\n",
       "</div>"
      ],
      "text/plain": [
       "   Cluster  Brown Ale  Fruit Beer  Russian Imperial Stout     Stout  \\\n",
       "0        7   0.080793    0.080131                0.009986  0.127482   \n",
       "1        4   0.097665    0.087616                0.128991  0.094083   \n",
       "2       10   0.076210    0.092194                0.022872  0.138369   \n",
       "3        6   0.040146    0.034810                0.166716  0.035758   \n",
       "\n",
       "   India Pale Ale (IPA)    Porter  Barley Wine  Spice/Herb/Vegetable  \\\n",
       "0              0.528032  0.141302     0.081031              0.117711   \n",
       "1              0.388949  0.141269     0.118438              0.107632   \n",
       "2              0.351435  0.145096     0.055693              0.107616   \n",
       "3              0.131937  0.055664     0.033700              0.035982   \n",
       "\n",
       "   Amber Ale  Pale Lager  American Pale Ale  American Pale Ale (APA)  \\\n",
       "0   0.106658    0.201611           0.262254                 0.015575   \n",
       "1   0.093887    0.104459           0.175508                 0.147162   \n",
       "2   0.095902    0.456976           0.183695                 0.025337   \n",
       "3   0.039134    0.088118           0.061972                 0.185223   \n",
       "\n",
       "   Imperial Stout  American IPA  \n",
       "0        0.280231      0.030376  \n",
       "1        0.278268      0.353194  \n",
       "2        0.124042      0.058188  \n",
       "3        0.081293      0.508266  "
      ]
     },
     "execution_count": 370,
     "metadata": {},
     "output_type": "execute_result"
    }
   ],
   "source": [
    "# Generate a random permutation of the column indices\n",
    "perm = np.random.permutation(radar_plot_df.shape[1])\n",
    "\n",
    "# Shuffle the column order of the dataframe\n",
    "df_radar_shuffled = radar_plot_df.iloc[:, perm]\n",
    "df_radar_shuffled.reset_index(inplace=True)\n",
    "df_radar_shuffled = df_radar_shuffled.rename(columns = {'index':'Cluster'})\n",
    "\n",
    "df_radar_shuffled"
   ]
  },
  {
   "cell_type": "code",
   "execution_count": 371,
   "metadata": {},
   "outputs": [
    {
     "data": {
      "application/vnd.plotly.v1+json": {
       "config": {
        "plotlyServerURL": "https://plot.ly"
       },
       "data": [
        {
         "fill": "toself",
         "name": "Cluster 7",
         "r": [
          0.08079257646050711,
          0.08013091415906813,
          0.009986068259127344,
          0.12748195632800022,
          0.528032470952228,
          0.14130213030257915,
          0.08103122277827092,
          0.11771148490356254,
          0.10665806295123673,
          0.2016110450164983,
          0.26225410023292406,
          0.015574874870016249,
          0.280230555744688,
          0.030375621987512907
         ],
         "theta": [
          "Brown Ale",
          "Fruit Beer",
          "Russian Imperial Stout",
          "Stout",
          "India Pale Ale (IPA)",
          "Porter",
          "Barley Wine",
          "Spice/Herb/Vegetable",
          "Amber Ale",
          "Pale Lager",
          "American Pale Ale",
          "American Pale Ale (APA)",
          "Imperial Stout",
          "American IPA"
         ],
         "type": "scatterpolar"
        },
        {
         "fill": "toself",
         "name": "Cluster 4",
         "r": [
          0.09766505894119831,
          0.08761615892812426,
          0.12899121784032772,
          0.0940834930273038,
          0.3889485104612046,
          0.14126924505372218,
          0.11843771635952809,
          0.10763180446088116,
          0.09388672315458063,
          0.10445936577746441,
          0.17550791945741262,
          0.1471623465298824,
          0.2782680768538425,
          0.3531944297190987
         ],
         "theta": [
          "Brown Ale",
          "Fruit Beer",
          "Russian Imperial Stout",
          "Stout",
          "India Pale Ale (IPA)",
          "Porter",
          "Barley Wine",
          "Spice/Herb/Vegetable",
          "Amber Ale",
          "Pale Lager",
          "American Pale Ale",
          "American Pale Ale (APA)",
          "Imperial Stout",
          "American IPA"
         ],
         "type": "scatterpolar"
        },
        {
         "fill": "toself",
         "name": "Cluster 10",
         "r": [
          0.07620982278242608,
          0.09219437808351894,
          0.022872253684405534,
          0.13836877822154736,
          0.3514351926327404,
          0.14509610209842547,
          0.05569263270583193,
          0.10761629979622972,
          0.09590243691659969,
          0.45697599095508956,
          0.18369500129734317,
          0.025336947195523804,
          0.12404170042018894,
          0.058188406609073186
         ],
         "theta": [
          "Brown Ale",
          "Fruit Beer",
          "Russian Imperial Stout",
          "Stout",
          "India Pale Ale (IPA)",
          "Porter",
          "Barley Wine",
          "Spice/Herb/Vegetable",
          "Amber Ale",
          "Pale Lager",
          "American Pale Ale",
          "American Pale Ale (APA)",
          "Imperial Stout",
          "American IPA"
         ],
         "type": "scatterpolar"
        },
        {
         "fill": "toself",
         "name": "Cluster 6",
         "r": [
          0.04014563220864641,
          0.034810213482005234,
          0.16671568389326707,
          0.03575814859726291,
          0.1319368405908707,
          0.05566372344242677,
          0.03370022734001991,
          0.03598156220330827,
          0.039133948502532254,
          0.08811822345208958,
          0.06197220341472389,
          0.1852230213208284,
          0.08129250882896255,
          0.5082660348847113
         ],
         "theta": [
          "Brown Ale",
          "Fruit Beer",
          "Russian Imperial Stout",
          "Stout",
          "India Pale Ale (IPA)",
          "Porter",
          "Barley Wine",
          "Spice/Herb/Vegetable",
          "Amber Ale",
          "Pale Lager",
          "American Pale Ale",
          "American Pale Ale (APA)",
          "Imperial Stout",
          "American IPA"
         ],
         "type": "scatterpolar"
        }
       ],
       "layout": {
        "height": 600,
        "paper_bgcolor": "rgba(0,0,0,0)",
        "polar": {
         "radialaxis": {
          "range": [
           0,
           0.6
          ],
          "visible": true
         }
        },
        "showlegend": true,
        "template": {
         "data": {
          "bar": [
           {
            "error_x": {
             "color": "#2a3f5f"
            },
            "error_y": {
             "color": "#2a3f5f"
            },
            "marker": {
             "line": {
              "color": "#E5ECF6",
              "width": 0.5
             },
             "pattern": {
              "fillmode": "overlay",
              "size": 10,
              "solidity": 0.2
             }
            },
            "type": "bar"
           }
          ],
          "barpolar": [
           {
            "marker": {
             "line": {
              "color": "#E5ECF6",
              "width": 0.5
             },
             "pattern": {
              "fillmode": "overlay",
              "size": 10,
              "solidity": 0.2
             }
            },
            "type": "barpolar"
           }
          ],
          "carpet": [
           {
            "aaxis": {
             "endlinecolor": "#2a3f5f",
             "gridcolor": "white",
             "linecolor": "white",
             "minorgridcolor": "white",
             "startlinecolor": "#2a3f5f"
            },
            "baxis": {
             "endlinecolor": "#2a3f5f",
             "gridcolor": "white",
             "linecolor": "white",
             "minorgridcolor": "white",
             "startlinecolor": "#2a3f5f"
            },
            "type": "carpet"
           }
          ],
          "choropleth": [
           {
            "colorbar": {
             "outlinewidth": 0,
             "ticks": ""
            },
            "type": "choropleth"
           }
          ],
          "contour": [
           {
            "colorbar": {
             "outlinewidth": 0,
             "ticks": ""
            },
            "colorscale": [
             [
              0,
              "#0d0887"
             ],
             [
              0.1111111111111111,
              "#46039f"
             ],
             [
              0.2222222222222222,
              "#7201a8"
             ],
             [
              0.3333333333333333,
              "#9c179e"
             ],
             [
              0.4444444444444444,
              "#bd3786"
             ],
             [
              0.5555555555555556,
              "#d8576b"
             ],
             [
              0.6666666666666666,
              "#ed7953"
             ],
             [
              0.7777777777777778,
              "#fb9f3a"
             ],
             [
              0.8888888888888888,
              "#fdca26"
             ],
             [
              1,
              "#f0f921"
             ]
            ],
            "type": "contour"
           }
          ],
          "contourcarpet": [
           {
            "colorbar": {
             "outlinewidth": 0,
             "ticks": ""
            },
            "type": "contourcarpet"
           }
          ],
          "heatmap": [
           {
            "colorbar": {
             "outlinewidth": 0,
             "ticks": ""
            },
            "colorscale": [
             [
              0,
              "#0d0887"
             ],
             [
              0.1111111111111111,
              "#46039f"
             ],
             [
              0.2222222222222222,
              "#7201a8"
             ],
             [
              0.3333333333333333,
              "#9c179e"
             ],
             [
              0.4444444444444444,
              "#bd3786"
             ],
             [
              0.5555555555555556,
              "#d8576b"
             ],
             [
              0.6666666666666666,
              "#ed7953"
             ],
             [
              0.7777777777777778,
              "#fb9f3a"
             ],
             [
              0.8888888888888888,
              "#fdca26"
             ],
             [
              1,
              "#f0f921"
             ]
            ],
            "type": "heatmap"
           }
          ],
          "heatmapgl": [
           {
            "colorbar": {
             "outlinewidth": 0,
             "ticks": ""
            },
            "colorscale": [
             [
              0,
              "#0d0887"
             ],
             [
              0.1111111111111111,
              "#46039f"
             ],
             [
              0.2222222222222222,
              "#7201a8"
             ],
             [
              0.3333333333333333,
              "#9c179e"
             ],
             [
              0.4444444444444444,
              "#bd3786"
             ],
             [
              0.5555555555555556,
              "#d8576b"
             ],
             [
              0.6666666666666666,
              "#ed7953"
             ],
             [
              0.7777777777777778,
              "#fb9f3a"
             ],
             [
              0.8888888888888888,
              "#fdca26"
             ],
             [
              1,
              "#f0f921"
             ]
            ],
            "type": "heatmapgl"
           }
          ],
          "histogram": [
           {
            "marker": {
             "pattern": {
              "fillmode": "overlay",
              "size": 10,
              "solidity": 0.2
             }
            },
            "type": "histogram"
           }
          ],
          "histogram2d": [
           {
            "colorbar": {
             "outlinewidth": 0,
             "ticks": ""
            },
            "colorscale": [
             [
              0,
              "#0d0887"
             ],
             [
              0.1111111111111111,
              "#46039f"
             ],
             [
              0.2222222222222222,
              "#7201a8"
             ],
             [
              0.3333333333333333,
              "#9c179e"
             ],
             [
              0.4444444444444444,
              "#bd3786"
             ],
             [
              0.5555555555555556,
              "#d8576b"
             ],
             [
              0.6666666666666666,
              "#ed7953"
             ],
             [
              0.7777777777777778,
              "#fb9f3a"
             ],
             [
              0.8888888888888888,
              "#fdca26"
             ],
             [
              1,
              "#f0f921"
             ]
            ],
            "type": "histogram2d"
           }
          ],
          "histogram2dcontour": [
           {
            "colorbar": {
             "outlinewidth": 0,
             "ticks": ""
            },
            "colorscale": [
             [
              0,
              "#0d0887"
             ],
             [
              0.1111111111111111,
              "#46039f"
             ],
             [
              0.2222222222222222,
              "#7201a8"
             ],
             [
              0.3333333333333333,
              "#9c179e"
             ],
             [
              0.4444444444444444,
              "#bd3786"
             ],
             [
              0.5555555555555556,
              "#d8576b"
             ],
             [
              0.6666666666666666,
              "#ed7953"
             ],
             [
              0.7777777777777778,
              "#fb9f3a"
             ],
             [
              0.8888888888888888,
              "#fdca26"
             ],
             [
              1,
              "#f0f921"
             ]
            ],
            "type": "histogram2dcontour"
           }
          ],
          "mesh3d": [
           {
            "colorbar": {
             "outlinewidth": 0,
             "ticks": ""
            },
            "type": "mesh3d"
           }
          ],
          "parcoords": [
           {
            "line": {
             "colorbar": {
              "outlinewidth": 0,
              "ticks": ""
             }
            },
            "type": "parcoords"
           }
          ],
          "pie": [
           {
            "automargin": true,
            "type": "pie"
           }
          ],
          "scatter": [
           {
            "fillpattern": {
             "fillmode": "overlay",
             "size": 10,
             "solidity": 0.2
            },
            "type": "scatter"
           }
          ],
          "scatter3d": [
           {
            "line": {
             "colorbar": {
              "outlinewidth": 0,
              "ticks": ""
             }
            },
            "marker": {
             "colorbar": {
              "outlinewidth": 0,
              "ticks": ""
             }
            },
            "type": "scatter3d"
           }
          ],
          "scattercarpet": [
           {
            "marker": {
             "colorbar": {
              "outlinewidth": 0,
              "ticks": ""
             }
            },
            "type": "scattercarpet"
           }
          ],
          "scattergeo": [
           {
            "marker": {
             "colorbar": {
              "outlinewidth": 0,
              "ticks": ""
             }
            },
            "type": "scattergeo"
           }
          ],
          "scattergl": [
           {
            "marker": {
             "colorbar": {
              "outlinewidth": 0,
              "ticks": ""
             }
            },
            "type": "scattergl"
           }
          ],
          "scattermapbox": [
           {
            "marker": {
             "colorbar": {
              "outlinewidth": 0,
              "ticks": ""
             }
            },
            "type": "scattermapbox"
           }
          ],
          "scatterpolar": [
           {
            "marker": {
             "colorbar": {
              "outlinewidth": 0,
              "ticks": ""
             }
            },
            "type": "scatterpolar"
           }
          ],
          "scatterpolargl": [
           {
            "marker": {
             "colorbar": {
              "outlinewidth": 0,
              "ticks": ""
             }
            },
            "type": "scatterpolargl"
           }
          ],
          "scatterternary": [
           {
            "marker": {
             "colorbar": {
              "outlinewidth": 0,
              "ticks": ""
             }
            },
            "type": "scatterternary"
           }
          ],
          "surface": [
           {
            "colorbar": {
             "outlinewidth": 0,
             "ticks": ""
            },
            "colorscale": [
             [
              0,
              "#0d0887"
             ],
             [
              0.1111111111111111,
              "#46039f"
             ],
             [
              0.2222222222222222,
              "#7201a8"
             ],
             [
              0.3333333333333333,
              "#9c179e"
             ],
             [
              0.4444444444444444,
              "#bd3786"
             ],
             [
              0.5555555555555556,
              "#d8576b"
             ],
             [
              0.6666666666666666,
              "#ed7953"
             ],
             [
              0.7777777777777778,
              "#fb9f3a"
             ],
             [
              0.8888888888888888,
              "#fdca26"
             ],
             [
              1,
              "#f0f921"
             ]
            ],
            "type": "surface"
           }
          ],
          "table": [
           {
            "cells": {
             "fill": {
              "color": "#EBF0F8"
             },
             "line": {
              "color": "white"
             }
            },
            "header": {
             "fill": {
              "color": "#C8D4E3"
             },
             "line": {
              "color": "white"
             }
            },
            "type": "table"
           }
          ]
         },
         "layout": {
          "annotationdefaults": {
           "arrowcolor": "#2a3f5f",
           "arrowhead": 0,
           "arrowwidth": 1
          },
          "autotypenumbers": "strict",
          "coloraxis": {
           "colorbar": {
            "outlinewidth": 0,
            "ticks": ""
           }
          },
          "colorscale": {
           "diverging": [
            [
             0,
             "#8e0152"
            ],
            [
             0.1,
             "#c51b7d"
            ],
            [
             0.2,
             "#de77ae"
            ],
            [
             0.3,
             "#f1b6da"
            ],
            [
             0.4,
             "#fde0ef"
            ],
            [
             0.5,
             "#f7f7f7"
            ],
            [
             0.6,
             "#e6f5d0"
            ],
            [
             0.7,
             "#b8e186"
            ],
            [
             0.8,
             "#7fbc41"
            ],
            [
             0.9,
             "#4d9221"
            ],
            [
             1,
             "#276419"
            ]
           ],
           "sequential": [
            [
             0,
             "#0d0887"
            ],
            [
             0.1111111111111111,
             "#46039f"
            ],
            [
             0.2222222222222222,
             "#7201a8"
            ],
            [
             0.3333333333333333,
             "#9c179e"
            ],
            [
             0.4444444444444444,
             "#bd3786"
            ],
            [
             0.5555555555555556,
             "#d8576b"
            ],
            [
             0.6666666666666666,
             "#ed7953"
            ],
            [
             0.7777777777777778,
             "#fb9f3a"
            ],
            [
             0.8888888888888888,
             "#fdca26"
            ],
            [
             1,
             "#f0f921"
            ]
           ],
           "sequentialminus": [
            [
             0,
             "#0d0887"
            ],
            [
             0.1111111111111111,
             "#46039f"
            ],
            [
             0.2222222222222222,
             "#7201a8"
            ],
            [
             0.3333333333333333,
             "#9c179e"
            ],
            [
             0.4444444444444444,
             "#bd3786"
            ],
            [
             0.5555555555555556,
             "#d8576b"
            ],
            [
             0.6666666666666666,
             "#ed7953"
            ],
            [
             0.7777777777777778,
             "#fb9f3a"
            ],
            [
             0.8888888888888888,
             "#fdca26"
            ],
            [
             1,
             "#f0f921"
            ]
           ]
          },
          "colorway": [
           "#636efa",
           "#EF553B",
           "#00cc96",
           "#ab63fa",
           "#FFA15A",
           "#19d3f3",
           "#FF6692",
           "#B6E880",
           "#FF97FF",
           "#FECB52"
          ],
          "font": {
           "color": "#2a3f5f"
          },
          "geo": {
           "bgcolor": "white",
           "lakecolor": "white",
           "landcolor": "#E5ECF6",
           "showlakes": true,
           "showland": true,
           "subunitcolor": "white"
          },
          "hoverlabel": {
           "align": "left"
          },
          "hovermode": "closest",
          "mapbox": {
           "style": "light"
          },
          "paper_bgcolor": "white",
          "plot_bgcolor": "#E5ECF6",
          "polar": {
           "angularaxis": {
            "gridcolor": "white",
            "linecolor": "white",
            "ticks": ""
           },
           "bgcolor": "#E5ECF6",
           "radialaxis": {
            "gridcolor": "white",
            "linecolor": "white",
            "ticks": ""
           }
          },
          "scene": {
           "xaxis": {
            "backgroundcolor": "#E5ECF6",
            "gridcolor": "white",
            "gridwidth": 2,
            "linecolor": "white",
            "showbackground": true,
            "ticks": "",
            "zerolinecolor": "white"
           },
           "yaxis": {
            "backgroundcolor": "#E5ECF6",
            "gridcolor": "white",
            "gridwidth": 2,
            "linecolor": "white",
            "showbackground": true,
            "ticks": "",
            "zerolinecolor": "white"
           },
           "zaxis": {
            "backgroundcolor": "#E5ECF6",
            "gridcolor": "white",
            "gridwidth": 2,
            "linecolor": "white",
            "showbackground": true,
            "ticks": "",
            "zerolinecolor": "white"
           }
          },
          "shapedefaults": {
           "line": {
            "color": "#2a3f5f"
           }
          },
          "ternary": {
           "aaxis": {
            "gridcolor": "white",
            "linecolor": "white",
            "ticks": ""
           },
           "baxis": {
            "gridcolor": "white",
            "linecolor": "white",
            "ticks": ""
           },
           "bgcolor": "#E5ECF6",
           "caxis": {
            "gridcolor": "white",
            "linecolor": "white",
            "ticks": ""
           }
          },
          "title": {
           "x": 0.05
          },
          "xaxis": {
           "automargin": true,
           "gridcolor": "white",
           "linecolor": "white",
           "ticks": "",
           "title": {
            "standoff": 15
           },
           "zerolinecolor": "white",
           "zerolinewidth": 2
          },
          "yaxis": {
           "automargin": true,
           "gridcolor": "white",
           "linecolor": "white",
           "ticks": "",
           "title": {
            "standoff": 15
           },
           "zerolinecolor": "white",
           "zerolinewidth": 2
          }
         }
        },
        "title": {
         "text": "Radar Plot for the different styles of beer per cluster"
        },
        "width": 800
       }
      }
     },
     "metadata": {},
     "output_type": "display_data"
    }
   ],
   "source": [
    "#radar plot\n",
    "# number of variable\n",
    "categories=(list(df_radar_shuffled)[1:])\n",
    "categories\n",
    "#random.shuffle(categories)\n",
    "\n",
    "data1 = df_radar_shuffled.loc[0].drop('Cluster').values.flatten().tolist()\n",
    "data2 = df_radar_shuffled.loc[1].drop('Cluster').values.flatten().tolist()\n",
    "data3 = df_radar_shuffled.loc[2].drop('Cluster').values.flatten().tolist()\n",
    "data4 = df_radar_shuffled.loc[3].drop('Cluster').values.flatten().tolist()\n",
    "\n",
    "\n",
    "# Create the figure and plot\n",
    "fig = go.Figure()\n",
    "fig.add_trace(go.Scatterpolar(r=data1, theta=categories, fill='toself', name='Cluster 7'))\n",
    "fig.add_trace(go.Scatterpolar(r=data2, theta=categories, fill='toself', name='Cluster 4'))\n",
    "fig.add_trace(go.Scatterpolar(r=data3, theta=categories, fill='toself', name='Cluster 10'))\n",
    "fig.add_trace(go.Scatterpolar(r=data4, theta=categories, fill='toself', name='Cluster 6'))\n",
    "\n",
    "# Customize the layout and show the plot\n",
    "fig.update_layout(\n",
    "    polar=go.layout.Polar(\n",
    "        radialaxis=go.layout.polar.RadialAxis(\n",
    "            visible=True,\n",
    "            range=[0, 0.6]\n",
    "        )\n",
    "    ),\n",
    "    showlegend=True,\n",
    "    width=800,\n",
    "    height=600,\n",
    "    title='Radar Plot for the different styles of beer per cluster',\n",
    "    paper_bgcolor = 'rgba(0,0,0,0)'\n",
    ")\n",
    "\n",
    "fig.write_html('../plots_html/radar_plot.html')\n",
    "fig.show()"
   ]
  }
 ],
 "metadata": {
  "kernelspec": {
   "display_name": "Python 3.9.13 ('ada')",
   "language": "python",
   "name": "python3"
  },
  "language_info": {
   "codemirror_mode": {
    "name": "ipython",
    "version": 3
   },
   "file_extension": ".py",
   "mimetype": "text/x-python",
   "name": "python",
   "nbconvert_exporter": "python",
   "pygments_lexer": "ipython3",
   "version": "3.9.13"
  },
  "orig_nbformat": 4,
  "vscode": {
   "interpreter": {
    "hash": "2ddbd0b842a978e03471eb3a4ae18fdd24eb8ad76bdab23b363108c4c8f6a59c"
   }
  }
 },
 "nbformat": 4,
 "nbformat_minor": 2
}
