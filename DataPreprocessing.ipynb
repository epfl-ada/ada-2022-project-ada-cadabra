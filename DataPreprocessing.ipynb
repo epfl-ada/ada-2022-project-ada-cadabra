{
 "cells": [
  {
   "cell_type": "code",
   "execution_count": 1,
   "metadata": {},
   "outputs": [],
   "source": [
    "#reading data\n",
    "import gzip #to read gzip files\n",
    "\n",
    "#manipulating data \n",
    "import pandas as pd\n",
    "import numpy as np\n",
    "import datetime\n",
    "\n",
    "#data path\n",
    "PATH = '../'"
   ]
  },
  {
   "cell_type": "markdown",
   "metadata": {},
   "source": [
    "## Data extraction "
   ]
  },
  {
   "cell_type": "markdown",
   "metadata": {},
   "source": [
    "We start by extracting the data for beers, breweries and users from the two rating websites BeerAdvocate and RateBeer as well as the matched data. <br>\n",
    "We view the dataframe first few rows to get a firt glance at what the data contains before pre-processing it:"
   ]
  },
  {
   "cell_type": "markdown",
   "metadata": {},
   "source": [
    "### BeerAdvocate data "
   ]
  },
  {
   "cell_type": "code",
   "execution_count": 5,
   "metadata": {},
   "outputs": [],
   "source": [
    "BA_beers = pd.read_csv(PATH+'BeerAdvocate/beers.csv', index_col='beer_id')\n",
    "BA_breweries = pd.read_csv(PATH+'BeerAdvocate/breweries.csv', index_col='id')\n",
    "BA_users = pd.read_csv(PATH+'BeerAdvocate/users.csv', index_col= 'user_id')"
   ]
  },
  {
   "cell_type": "markdown",
   "metadata": {},
   "source": [
    "As for the BeerAdvocate text reviews, the text files were in a quite special format, we extracted them in the notebook 'TransformTextfileToCsv.ipynb' ([here](TransformTextfileToCsv.ipynb)) and saved them into csv files which we load below to take a look at: "
   ]
  },
  {
   "cell_type": "code",
   "execution_count": 4,
   "metadata": {},
   "outputs": [],
   "source": [
    "#open the csv file\n",
    "df_BA_reviews = pd.read_csv('../DataframeStorage/df_BA_reviews.csv')"
   ]
  },
  {
   "cell_type": "markdown",
   "metadata": {},
   "source": [
    "### RateBeer data "
   ]
  },
  {
   "cell_type": "code",
   "execution_count": 6,
   "metadata": {},
   "outputs": [],
   "source": [
    "RB_beers = pd.read_csv(PATH+'RateBeer/beers.csv', index_col='beer_id')\n",
    "RB_breweries = pd.read_csv(PATH+'RateBeer/breweries.csv', index_col= 'id')\n",
    "RB_users = pd.read_csv(PATH+'RateBeer/users.csv', index_col= 'user_id')"
   ]
  },
  {
   "cell_type": "markdown",
   "metadata": {},
   "source": [
    "For the RateBeer text reviews, the text files were in a quite special format, we extracted them in the notebook 'TransformTextfileToCsv.ipynb' ([here](TransformTextfileToCsv.ipynb)) and saved them into csv files:"
   ]
  },
  {
   "cell_type": "code",
   "execution_count": 7,
   "metadata": {},
   "outputs": [],
   "source": [
    "#open the csv file\n",
    "df_RB_reviews = pd.read_csv('../DataframeStorage/df_RB_reviews.csv')"
   ]
  },
  {
   "cell_type": "markdown",
   "metadata": {},
   "source": [
    "### Matched data "
   ]
  },
  {
   "cell_type": "code",
   "execution_count": 8,
   "metadata": {},
   "outputs": [],
   "source": [
    "matched_beers = pd.read_csv(PATH+'matched_beer_data/beers.csv', header=1)\n",
    "matched_breweries = pd.read_csv(PATH+'matched_beer_data/breweries.csv', header=1)\n",
    "matched_users = pd.read_csv(PATH+'matched_beer_data/users.csv', header=1)"
   ]
  },
  {
   "cell_type": "code",
   "execution_count": 9,
   "metadata": {},
   "outputs": [],
   "source": [
    "matched_ratings = pd.read_csv(PATH+'matched_beer_data/ratings.csv', encoding = \"ISO-8859-1\", header=1)"
   ]
  },
  {
   "cell_type": "markdown",
   "metadata": {},
   "source": [
    "## Pre-processing"
   ]
  },
  {
   "cell_type": "markdown",
   "metadata": {},
   "source": [
    "In this part we were interested in modifying the reviews dataframe in such a way that it contains columns containing the user and brewery locations. But this required different preprocessing steps on users and breweries first in order to match them afterwards in the review data."
   ]
  },
  {
   "cell_type": "markdown",
   "metadata": {},
   "source": [
    "### Users"
   ]
  },
  {
   "cell_type": "markdown",
   "metadata": {},
   "source": [
    "For both websites :\n",
    "- We convert the *joined* column from seconds into a datetime object \n",
    "- We add a column called *merged_location* where all the states of the United States are just defined as United States (this will be useful for analyses where we only care about comparing countries)"
   ]
  },
  {
   "cell_type": "code",
   "execution_count": null,
   "metadata": {},
   "outputs": [],
   "source": [
    "BA_users['joined'] = pd.to_datetime(BA_users['joined'],unit = 's')\n",
    "\n",
    "# Add a column where all Users from the united states get 'United States' as location\n",
    "BA_users['location'] = BA_users['location'].fillna('Unknown')\n",
    "BA_users['merged_location'] = BA_users['location'].copy()\n",
    "BA_users.loc[(BA_users['merged_location'].str.startswith('United States')), 'merged_location'] = 'United States'"
   ]
  },
  {
   "cell_type": "code",
   "execution_count": null,
   "metadata": {},
   "outputs": [],
   "source": [
    "RB_users['joined'] = pd.to_datetime(RB_users['joined'] ,unit = 's')\n",
    "\n",
    "# Add a column where all Users from the united states get 'United States' as location\n",
    "RB_users['location'] = RB_users['location'].fillna('Unknown')\n",
    "RB_users['merged_location'] = RB_users['location'].copy()\n",
    "RB_users.loc[(RB_users['merged_location'].str.startswith('United States')), 'merged_location'] = 'United States'"
   ]
  },
  {
   "cell_type": "markdown",
   "metadata": {},
   "source": [
    "For the matched data we just convert the *joined* to a datatime object as we will use primarly the two other dataframes when it comes to analyzing locations:"
   ]
  },
  {
   "cell_type": "code",
   "execution_count": null,
   "metadata": {},
   "outputs": [],
   "source": [
    "matched_users['joined'] = pd.to_datetime(matched_users['joined'],unit = 's')\n",
    "matched_users['joined.1'] = pd.to_datetime(matched_users['joined.1'],unit = 's')"
   ]
  },
  {
   "cell_type": "markdown",
   "metadata": {},
   "source": [
    "### Breweries "
   ]
  },
  {
   "cell_type": "markdown",
   "metadata": {},
   "source": [
    "We proceed similarly with the two website breweries:"
   ]
  },
  {
   "cell_type": "code",
   "execution_count": null,
   "metadata": {},
   "outputs": [],
   "source": [
    "# Add a column where all Users from the united states get 'United States' as location\n",
    "RB_breweries['merged_location'] = RB_breweries['location'].copy()\n",
    "RB_breweries.loc[(RB_breweries['merged_location'].str.startswith('United States')), 'merged_location'] = 'United States'"
   ]
  },
  {
   "cell_type": "code",
   "execution_count": null,
   "metadata": {},
   "outputs": [],
   "source": [
    "BA_breweries['merged_location'] = BA_breweries['location'].copy()\n",
    "BA_breweries.loc[(BA_breweries['merged_location'].str.startswith('United States')), 'merged_location'] = 'United States'"
   ]
  },
  {
   "cell_type": "markdown",
   "metadata": {},
   "source": [
    "### Reviews "
   ]
  },
  {
   "cell_type": "markdown",
   "metadata": {},
   "source": [
    "To facilitate consequent analyses, we wanted to have both the user location and the brewery location as columns in the review data, we proceed to do the following:\n",
    "To allow the merge of the brewery location with the brewery name on df_reviews, we first need to align the column names. <br>\n",
    "To do so we rename the column \"name\" of breweries to \"brewery_name\" (the name of the column in df_reviews). <br>\n",
    "\n",
    "We use the function df.merge to add the element \"location\" to the corresponding brewery in df_reviews. <br>\n",
    "By default the new columns name would be the same as in df_breweries ('location'), we rename it by \"brewery_location\" to prevent confusion. <br>\n",
    "\n",
    "After the merging we rename the column of the brewery dataframe again, to have the same name that we had initially."
   ]
  },
  {
   "cell_type": "code",
   "execution_count": null,
   "metadata": {},
   "outputs": [],
   "source": [
    "#Rename the column name to brewery_name to allow merging with the \n",
    "BA_breweries.rename(columns = {'name':'brewery_name'}, inplace = True)\n",
    "RB_breweries.rename(columns = {'name':'brewery_name'}, inplace = True)\n",
    "\n",
    "\n",
    "#Add the location to the beer dataframe\n",
    "df_BA_reviews = (df_BA_reviews.merge(BA_breweries[['location', 'brewery_name']], on=['brewery_name'], how='left')).rename(columns = {'location':'brewery_location'})\n",
    "df_RB_reviews = (df_RB_reviews.merge(RB_breweries[['location', 'brewery_name']], on=['brewery_name'], how='left')).rename(columns = {'location':'brewery_location'})\n",
    "\n",
    "\n",
    "#Name the columns back: \n",
    "BA_breweries.rename(columns = {'brewery_name':'name'}, inplace = True)\n",
    "RB_breweries.rename(columns = {'brewery_name':'name'}, inplace = True)"
   ]
  },
  {
   "cell_type": "markdown",
   "metadata": {},
   "source": [
    "As the different states of the US are described as different locations, but sometimes we want to group the beers by nations and not by states. <br>\n",
    "To make this possible we add a new column. <br>\n",
    "This column is called \"brewery_merged_location\" and is exactly the same as the column \"brewery_location\" except for the fact, that the different states of the US all take the value \"United States\"."
   ]
  },
  {
   "cell_type": "code",
   "execution_count": null,
   "metadata": {},
   "outputs": [],
   "source": [
    "# Add a column where all breweries from the united states get 'United States' as location\n",
    "df_RB_reviews['brewery_merged_location'] = df_RB_reviews['brewery_location'].copy()\n",
    "df_RB_reviews.loc[(df_RB_reviews['brewery_merged_location'].str.startswith('United States')), 'brewery_merged_location'] = 'United States'\n",
    "\n",
    "\n",
    "df_BA_reviews['brewery_merged_location'] = df_BA_reviews['brewery_location'].copy()\n",
    "df_BA_reviews.loc[(df_BA_reviews['brewery_merged_location'].str.startswith('United States')), 'brewery_merged_location'] = 'United States'"
   ]
  },
  {
   "cell_type": "markdown",
   "metadata": {},
   "source": [
    "The same approach as for the brewery locations is used to add the country of origin of the users. <br>\n",
    "To group them by nations we add here a column that sums up the states of the US under the value \"United States\"."
   ]
  },
  {
   "cell_type": "code",
   "execution_count": null,
   "metadata": {},
   "outputs": [],
   "source": [
    "#Add the country of origin of the reviewer to the review\n",
    "df_RB_reviews = (df_RB_reviews.merge(RB_users[['location', 'user_name']], on=['user_name'], how='left')).rename(columns={'location':'user_location'})\n",
    "df_BA_reviews = (df_BA_reviews.merge(BA_users[['location', 'user_name']], on=['user_name'], how='left')).rename(columns={'location':'user_location'})\n",
    "\n",
    "# Add a column where all users from the united states get 'United States' as location\n",
    "df_RB_reviews['user_location'] = df_RB_reviews['user_location'].fillna('Unknown')\n",
    "df_RB_reviews['user_merged_location'] = df_RB_reviews['user_location'].copy()\n",
    "df_RB_reviews.loc[(df_RB_reviews['user_merged_location'].str.startswith('United States')), 'user_merged_location'] = 'United States'\n",
    "\n",
    "#For BA we have to replace the NaN values\n",
    "df_BA_reviews['user_location'] = df_BA_reviews['user_location'].fillna('Unknown')\n",
    "df_BA_reviews['user_merged_location'] = df_BA_reviews['user_location'].copy()\n",
    "df_BA_reviews.loc[(df_BA_reviews['user_merged_location'].str.startswith('United States')), 'user_merged_location'] = 'United States'"
   ]
  },
  {
   "cell_type": "code",
   "execution_count": null,
   "metadata": {},
   "outputs": [],
   "source": [
    "# Add a column where all users from the united states get 'United States' as location\n",
    "df_RB_reviews['user_location'] = df_RB_reviews['user_location'].fillna('Unknown')\n",
    "\n",
    "df_RB_reviews['user_merged_location'] = df_RB_reviews['user_location'].copy()\n",
    "df_RB_reviews.loc[(df_RB_reviews['user_merged_location'].str.startswith('United States')), 'user_merged_location'] = 'United States'"
   ]
  },
  {
   "cell_type": "code",
   "execution_count": null,
   "metadata": {},
   "outputs": [],
   "source": [
    "#Transform the dates of the reviews from string to datetime\n",
    "df_BA_reviews['date'] = pd.to_datetime(df_BA_reviews['date'], format=\"%Y-%m-%d %H:%M:%S\")\n",
    "df_RB_reviews['date'] = pd.to_datetime(df_RB_reviews['date'], format=\"%Y-%m-%d %H:%M:%S\")"
   ]
  },
  {
   "cell_type": "markdown",
   "metadata": {},
   "source": [
    "Changing weird HTML format US states "
   ]
  },
  {
   "cell_type": "markdown",
   "metadata": {},
   "source": [
    "We've noticed that a big part of the US states reviews have as a locaiton which are links, those are the following : "
   ]
  },
  {
   "cell_type": "code",
   "execution_count": 4,
   "metadata": {},
   "outputs": [
    {
     "data": {
      "text/plain": [
       "United States</a> | <a href=\"http://maps.google.com/maps?oi=map&q=%2C+US\" target=\"_blank\">map</a><br><a href=\"http://rockbottom.com\" target=\"_blank\">rockbottom.com                    37590\n",
       "United States</a> | <a href=\"http://maps.google.com/maps?oi=map&q=%2C+US\" target=\"_blank\">map</a><br><a href=\"http://ironhillbrewery.com\" target=\"_blank\">ironhillbrewery.com          26856\n",
       "United States</a> | <a href=\"http://maps.google.com/maps?oi=map&q=%2C+US\" target=\"_blank\">map</a><br><a href=\"http://thirstydog.com\" target=\"_blank\">thirstydog.com                    16065\n",
       "United States</a> | <a href=\"http://maps.google.com/maps?oi=map&q=%2C+US\" target=\"_blank\">map</a><br><a href=\"http://gcfb.net\" target=\"_blank\">gcfb.net                                13124\n",
       "United States</a> | <a href=\"http://maps.google.com/maps?oi=map&q=%2C+US\" target=\"_blank\">map</a><br><a href=\"http://mendobrew.com\" target=\"_blank\">mendobrew.com                      12180\n",
       "United States</a> | <a href=\"http://maps.google.com/maps?oi=map&q=%2C+US\" target=\"_blank\">map</a><br><a href=\"http://shipyard.com\" target=\"_blank\">shipyard.com                        11768\n",
       "United States</a> | <a href=\"http://maps.google.com/maps?oi=map&q=%2C+US\" target=\"_blank\">map</a><br><a href=\"http://sebagobrewing.com\" target=\"_blank\">sebagobrewing.com               7707\n",
       "United States</a> | <a href=\"http://maps.google.com/maps?oi=map&q=%2C+US\" target=\"_blank\">map</a><br><a href=\"http://seadogbrewing.com\" target=\"_blank\">seadogbrewing.com               3546\n",
       "United States</a> | <a href=\"http://maps.google.com/maps?oi=map&q=%2C+US\" target=\"_blank\">map</a><br><a href=\"http://hopsonline.com\" target=\"_blank\">hopsonline.com                     3173\n",
       "United States</a> | <a href=\"http://maps.google.com/maps?oi=map&q=%2C+US\" target=\"_blank\">map</a><br><a href=\"http://herefordandhops.com\" target=\"_blank\">herefordandhops.com            585\n",
       "United States</a> | <a href=\"http://maps.google.com/maps?oi=map&q=%2C+US\" target=\"_blank\">map</a><br><a href=\"http://tiedhouse.com\" target=\"_blank\">tiedhouse.com                        240\n",
       "United States</a> | <a href=\"http://maps.google.com/maps?oi=map&q=%2C+US\" target=\"_blank\">map</a><br><a href=\"http://steelheadbrewingco.com\" target=\"_blank\">steelheadbrewingco.com      237\n",
       "United States</a> | <a href=\"http://maps.google.com/maps?oi=map&q=%2C+US\" target=\"_blank\">map                                                                                            208\n",
       "United States</a> | <a href=\"http://maps.google.com/maps?oi=map&q=%2C+US\" target=\"_blank\">map</a><br><a href=\"http://bigbuck.com\" target=\"_blank\">bigbuck.com                             98\n",
       "United States</a> | <a href=\"http://maps.google.com/maps?oi=map&q=%2C+US\" target=\"_blank\">map</a><br><a href=\"http://buckheadbrewery.com\" target=\"_blank\">buckheadbrewery.com             96\n",
       "United States</a> | <a href=\"http://maps.google.com/maps?oi=map&q=%2C+US\" target=\"_blank\">map</a><br><a href=\"http://capcitybrew.com\" target=\"_blank\">capcitybrew.com                     76\n",
       "United States</a> | <a href=\"http://maps.google.com/maps?oi=map&q=%2C+US\" target=\"_blank\">map</a><br><a href=\"http://theram.com\" target=\"_blank\">theram.com                               68\n",
       "United States</a> | <a href=\"http://maps.google.com/maps?oi=map&q=%2C+US\" target=\"_blank\">map</a><br><a href=\"http://eotrading.com\" target=\"_blank\">eotrading.com                         39\n",
       "United States</a> | <a href=\"http://maps.google.com/maps?oi=map&q=%2C+US\" target=\"_blank\">map</a><br><a href=\"http://ilvicino.com\" target=\"_blank\">ilvicino.com                           13\n",
       "United States</a> | <a href=\"http://maps.google.com/maps?oi=map&q=%2C+US\" target=\"_blank\">map</a><br><a href=\"http://bluecorncafe.com\" target=\"_blank\">bluecorncafe.com                    4\n",
       "Name: brewery_location, dtype: int64"
      ]
     },
     "execution_count": 4,
     "metadata": {},
     "output_type": "execute_result"
    }
   ],
   "source": [
    "df_BA_reviews.loc[df_BA_reviews['brewery_location'].str.startswith('United States</a>')]['brewery_location'].value_counts()"
   ]
  },
  {
   "cell_type": "code",
   "execution_count": 28,
   "metadata": {},
   "outputs": [
    {
     "data": {
      "text/html": [
       "<div>\n",
       "<style scoped>\n",
       "    .dataframe tbody tr th:only-of-type {\n",
       "        vertical-align: middle;\n",
       "    }\n",
       "\n",
       "    .dataframe tbody tr th {\n",
       "        vertical-align: top;\n",
       "    }\n",
       "\n",
       "    .dataframe thead th {\n",
       "        text-align: right;\n",
       "    }\n",
       "</style>\n",
       "<table border=\"1\" class=\"dataframe\">\n",
       "  <thead>\n",
       "    <tr style=\"text-align: right;\">\n",
       "      <th></th>\n",
       "      <th>brewery_location</th>\n",
       "    </tr>\n",
       "  </thead>\n",
       "  <tbody>\n",
       "    <tr>\n",
       "      <th>United States&lt;/a&gt; | &lt;a href=\"http://maps.google.com/maps?oi=map&amp;q=%2C+US\" target=\"_blank\"&gt;map&lt;/a&gt;&lt;br&gt;&lt;a href=\"http://rockbottom.com\" target=\"_blank\"&gt;rockbottom.com</th>\n",
       "      <td>37590</td>\n",
       "    </tr>\n",
       "    <tr>\n",
       "      <th>United States&lt;/a&gt; | &lt;a href=\"http://maps.google.com/maps?oi=map&amp;q=%2C+US\" target=\"_blank\"&gt;map&lt;/a&gt;&lt;br&gt;&lt;a href=\"http://ironhillbrewery.com\" target=\"_blank\"&gt;ironhillbrewery.com</th>\n",
       "      <td>26856</td>\n",
       "    </tr>\n",
       "    <tr>\n",
       "      <th>United States&lt;/a&gt; | &lt;a href=\"http://maps.google.com/maps?oi=map&amp;q=%2C+US\" target=\"_blank\"&gt;map&lt;/a&gt;&lt;br&gt;&lt;a href=\"http://thirstydog.com\" target=\"_blank\"&gt;thirstydog.com</th>\n",
       "      <td>16065</td>\n",
       "    </tr>\n",
       "    <tr>\n",
       "      <th>United States&lt;/a&gt; | &lt;a href=\"http://maps.google.com/maps?oi=map&amp;q=%2C+US\" target=\"_blank\"&gt;map&lt;/a&gt;&lt;br&gt;&lt;a href=\"http://gcfb.net\" target=\"_blank\"&gt;gcfb.net</th>\n",
       "      <td>13124</td>\n",
       "    </tr>\n",
       "    <tr>\n",
       "      <th>United States&lt;/a&gt; | &lt;a href=\"http://maps.google.com/maps?oi=map&amp;q=%2C+US\" target=\"_blank\"&gt;map&lt;/a&gt;&lt;br&gt;&lt;a href=\"http://mendobrew.com\" target=\"_blank\"&gt;mendobrew.com</th>\n",
       "      <td>12180</td>\n",
       "    </tr>\n",
       "    <tr>\n",
       "      <th>United States&lt;/a&gt; | &lt;a href=\"http://maps.google.com/maps?oi=map&amp;q=%2C+US\" target=\"_blank\"&gt;map&lt;/a&gt;&lt;br&gt;&lt;a href=\"http://shipyard.com\" target=\"_blank\"&gt;shipyard.com</th>\n",
       "      <td>11768</td>\n",
       "    </tr>\n",
       "    <tr>\n",
       "      <th>United States&lt;/a&gt; | &lt;a href=\"http://maps.google.com/maps?oi=map&amp;q=%2C+US\" target=\"_blank\"&gt;map&lt;/a&gt;&lt;br&gt;&lt;a href=\"http://sebagobrewing.com\" target=\"_blank\"&gt;sebagobrewing.com</th>\n",
       "      <td>7707</td>\n",
       "    </tr>\n",
       "    <tr>\n",
       "      <th>Utah&lt;/a&gt;&lt;br&gt;&lt;a href=\"http://utahbeers.com\" target=\"_blank\"&gt;utahbeers.com</th>\n",
       "      <td>5006</td>\n",
       "    </tr>\n",
       "    <tr>\n",
       "      <th>United States&lt;/a&gt; | &lt;a href=\"http://maps.google.com/maps?oi=map&amp;q=%2C+US\" target=\"_blank\"&gt;map&lt;/a&gt;&lt;br&gt;&lt;a href=\"http://seadogbrewing.com\" target=\"_blank\"&gt;seadogbrewing.com</th>\n",
       "      <td>3546</td>\n",
       "    </tr>\n",
       "    <tr>\n",
       "      <th>United States&lt;/a&gt; | &lt;a href=\"http://maps.google.com/maps?oi=map&amp;q=%2C+US\" target=\"_blank\"&gt;map&lt;/a&gt;&lt;br&gt;&lt;a href=\"http://hopsonline.com\" target=\"_blank\"&gt;hopsonline.com</th>\n",
       "      <td>3173</td>\n",
       "    </tr>\n",
       "    <tr>\n",
       "      <th>United States&lt;/a&gt; | &lt;a href=\"http://maps.google.com/maps?oi=map&amp;q=%2C+US\" target=\"_blank\"&gt;map&lt;/a&gt;&lt;br&gt;&lt;a href=\"http://herefordandhops.com\" target=\"_blank\"&gt;herefordandhops.com</th>\n",
       "      <td>585</td>\n",
       "    </tr>\n",
       "    <tr>\n",
       "      <th>United States&lt;/a&gt; | &lt;a href=\"http://maps.google.com/maps?oi=map&amp;q=%2C+US\" target=\"_blank\"&gt;map&lt;/a&gt;&lt;br&gt;&lt;a href=\"http://tiedhouse.com\" target=\"_blank\"&gt;tiedhouse.com</th>\n",
       "      <td>240</td>\n",
       "    </tr>\n",
       "    <tr>\n",
       "      <th>United States&lt;/a&gt; | &lt;a href=\"http://maps.google.com/maps?oi=map&amp;q=%2C+US\" target=\"_blank\"&gt;map&lt;/a&gt;&lt;br&gt;&lt;a href=\"http://steelheadbrewingco.com\" target=\"_blank\"&gt;steelheadbrewingco.com</th>\n",
       "      <td>237</td>\n",
       "    </tr>\n",
       "    <tr>\n",
       "      <th>United States&lt;/a&gt; | &lt;a href=\"http://maps.google.com/maps?oi=map&amp;q=%2C+US\" target=\"_blank\"&gt;map</th>\n",
       "      <td>208</td>\n",
       "    </tr>\n",
       "    <tr>\n",
       "      <th>Illinois&lt;/a&gt;, 60614-4939, &lt;a href=\"/place/directory/9/US/\"&gt;United States</th>\n",
       "      <td>100</td>\n",
       "    </tr>\n",
       "    <tr>\n",
       "      <th>United States&lt;/a&gt; | &lt;a href=\"http://maps.google.com/maps?oi=map&amp;q=%2C+US\" target=\"_blank\"&gt;map&lt;/a&gt;&lt;br&gt;&lt;a href=\"http://bigbuck.com\" target=\"_blank\"&gt;bigbuck.com</th>\n",
       "      <td>98</td>\n",
       "    </tr>\n",
       "    <tr>\n",
       "      <th>United States&lt;/a&gt; | &lt;a href=\"http://maps.google.com/maps?oi=map&amp;q=%2C+US\" target=\"_blank\"&gt;map&lt;/a&gt;&lt;br&gt;&lt;a href=\"http://buckheadbrewery.com\" target=\"_blank\"&gt;buckheadbrewery.com</th>\n",
       "      <td>96</td>\n",
       "    </tr>\n",
       "    <tr>\n",
       "      <th>United States&lt;/a&gt; | &lt;a href=\"http://maps.google.com/maps?oi=map&amp;q=%2C+US\" target=\"_blank\"&gt;map&lt;/a&gt;&lt;br&gt;&lt;a href=\"http://capcitybrew.com\" target=\"_blank\"&gt;capcitybrew.com</th>\n",
       "      <td>76</td>\n",
       "    </tr>\n",
       "    <tr>\n",
       "      <th>United States&lt;/a&gt; | &lt;a href=\"http://maps.google.com/maps?oi=map&amp;q=%2C+US\" target=\"_blank\"&gt;map&lt;/a&gt;&lt;br&gt;&lt;a href=\"http://theram.com\" target=\"_blank\"&gt;theram.com</th>\n",
       "      <td>68</td>\n",
       "    </tr>\n",
       "    <tr>\n",
       "      <th>United States&lt;/a&gt; | &lt;a href=\"http://maps.google.com/maps?oi=map&amp;q=%2C+US\" target=\"_blank\"&gt;map&lt;/a&gt;&lt;br&gt;&lt;a href=\"http://eotrading.com\" target=\"_blank\"&gt;eotrading.com</th>\n",
       "      <td>39</td>\n",
       "    </tr>\n",
       "    <tr>\n",
       "      <th>New York&lt;/a&gt;, 13057, &lt;a href=\"/place/directory/9/US/\"&gt;United States</th>\n",
       "      <td>32</td>\n",
       "    </tr>\n",
       "    <tr>\n",
       "      <th>United States&lt;/a&gt; | &lt;a href=\"http://maps.google.com/maps?oi=map&amp;q=%2C+US\" target=\"_blank\"&gt;map&lt;/a&gt;&lt;br&gt;&lt;a href=\"http://ilvicino.com\" target=\"_blank\"&gt;ilvicino.com</th>\n",
       "      <td>13</td>\n",
       "    </tr>\n",
       "    <tr>\n",
       "      <th>Saint Vincent and The Grenadines</th>\n",
       "      <td>5</td>\n",
       "    </tr>\n",
       "    <tr>\n",
       "      <th>United States&lt;/a&gt; | &lt;a href=\"http://maps.google.com/maps?oi=map&amp;q=%2C+US\" target=\"_blank\"&gt;map&lt;/a&gt;&lt;br&gt;&lt;a href=\"http://bluecorncafe.com\" target=\"_blank\"&gt;bluecorncafe.com</th>\n",
       "      <td>4</td>\n",
       "    </tr>\n",
       "    <tr>\n",
       "      <th>Canada, Newfoundland and Labrador</th>\n",
       "      <td>1</td>\n",
       "    </tr>\n",
       "  </tbody>\n",
       "</table>\n",
       "</div>"
      ],
      "text/plain": [
       "                                                    brewery_location\n",
       "United States</a> | <a href=\"http://maps.google...             37590\n",
       "United States</a> | <a href=\"http://maps.google...             26856\n",
       "United States</a> | <a href=\"http://maps.google...             16065\n",
       "United States</a> | <a href=\"http://maps.google...             13124\n",
       "United States</a> | <a href=\"http://maps.google...             12180\n",
       "United States</a> | <a href=\"http://maps.google...             11768\n",
       "United States</a> | <a href=\"http://maps.google...              7707\n",
       "Utah</a><br><a href=\"http://utahbeers.com\" targ...              5006\n",
       "United States</a> | <a href=\"http://maps.google...              3546\n",
       "United States</a> | <a href=\"http://maps.google...              3173\n",
       "United States</a> | <a href=\"http://maps.google...               585\n",
       "United States</a> | <a href=\"http://maps.google...               240\n",
       "United States</a> | <a href=\"http://maps.google...               237\n",
       "United States</a> | <a href=\"http://maps.google...               208\n",
       "Illinois</a>, 60614-4939, <a href=\"/place/direc...               100\n",
       "United States</a> | <a href=\"http://maps.google...                98\n",
       "United States</a> | <a href=\"http://maps.google...                96\n",
       "United States</a> | <a href=\"http://maps.google...                76\n",
       "United States</a> | <a href=\"http://maps.google...                68\n",
       "United States</a> | <a href=\"http://maps.google...                39\n",
       "New York</a>, 13057, <a href=\"/place/directory/...                32\n",
       "United States</a> | <a href=\"http://maps.google...                13\n",
       "Saint Vincent and The Grenadines                                   5\n",
       "United States</a> | <a href=\"http://maps.google...                 4\n",
       "Canada, Newfoundland and Labrador                                  1"
      ]
     },
     "execution_count": 28,
     "metadata": {},
     "output_type": "execute_result"
    }
   ],
   "source": [
    "BA_brewery_locations = pd.DataFrame(df_BA_reviews['brewery_location'].value_counts())\n",
    "BA_brewery_locations.loc[BA_brewery_locations.index.str.len()>30]"
   ]
  },
  {
   "cell_type": "code",
   "execution_count": 31,
   "metadata": {},
   "outputs": [
    {
     "data": {
      "text/html": [
       "<div>\n",
       "<style scoped>\n",
       "    .dataframe tbody tr th:only-of-type {\n",
       "        vertical-align: middle;\n",
       "    }\n",
       "\n",
       "    .dataframe tbody tr th {\n",
       "        vertical-align: top;\n",
       "    }\n",
       "\n",
       "    .dataframe thead th {\n",
       "        text-align: right;\n",
       "    }\n",
       "</style>\n",
       "<table border=\"1\" class=\"dataframe\">\n",
       "  <thead>\n",
       "    <tr style=\"text-align: right;\">\n",
       "      <th></th>\n",
       "      <th>brewery_location</th>\n",
       "    </tr>\n",
       "  </thead>\n",
       "  <tbody>\n",
       "    <tr>\n",
       "      <th>United States&lt;/a&gt; | &lt;a href=\"http://maps.google.com/maps?oi=map&amp;q=%2C+US\" target=\"_blank\"&gt;map&lt;/a&gt;&lt;br&gt;&lt;a href=\"http://rockbottom.com\" target=\"_blank\"&gt;rockbottom.com</th>\n",
       "      <td>37590</td>\n",
       "    </tr>\n",
       "    <tr>\n",
       "      <th>United States&lt;/a&gt; | &lt;a href=\"http://maps.google.com/maps?oi=map&amp;q=%2C+US\" target=\"_blank\"&gt;map&lt;/a&gt;&lt;br&gt;&lt;a href=\"http://ironhillbrewery.com\" target=\"_blank\"&gt;ironhillbrewery.com</th>\n",
       "      <td>26856</td>\n",
       "    </tr>\n",
       "    <tr>\n",
       "      <th>United States&lt;/a&gt; | &lt;a href=\"http://maps.google.com/maps?oi=map&amp;q=%2C+US\" target=\"_blank\"&gt;map&lt;/a&gt;&lt;br&gt;&lt;a href=\"http://gcfb.net\" target=\"_blank\"&gt;gcfb.net</th>\n",
       "      <td>13124</td>\n",
       "    </tr>\n",
       "    <tr>\n",
       "      <th>United States&lt;/a&gt; | &lt;a href=\"http://maps.google.com/maps?oi=map&amp;q=%2C+US\" target=\"_blank\"&gt;map&lt;/a&gt;&lt;br&gt;&lt;a href=\"http://seadogbrewing.com\" target=\"_blank\"&gt;seadogbrewing.com</th>\n",
       "      <td>3546</td>\n",
       "    </tr>\n",
       "    <tr>\n",
       "      <th>United States&lt;/a&gt; | &lt;a href=\"http://maps.google.com/maps?oi=map&amp;q=%2C+US\" target=\"_blank\"&gt;map&lt;/a&gt;&lt;br&gt;&lt;a href=\"http://hopsonline.com\" target=\"_blank\"&gt;hopsonline.com</th>\n",
       "      <td>3173</td>\n",
       "    </tr>\n",
       "    <tr>\n",
       "      <th>United States&lt;/a&gt; | &lt;a href=\"http://maps.google.com/maps?oi=map&amp;q=%2C+US\" target=\"_blank\"&gt;map&lt;/a&gt;&lt;br&gt;&lt;a href=\"http://tiedhouse.com\" target=\"_blank\"&gt;tiedhouse.com</th>\n",
       "      <td>240</td>\n",
       "    </tr>\n",
       "    <tr>\n",
       "      <th>United States&lt;/a&gt; | &lt;a href=\"http://maps.google.com/maps?oi=map&amp;q=%2C+US\" target=\"_blank\"&gt;map</th>\n",
       "      <td>208</td>\n",
       "    </tr>\n",
       "    <tr>\n",
       "      <th>United States&lt;/a&gt; | &lt;a href=\"http://maps.google.com/maps?oi=map&amp;q=%2C+US\" target=\"_blank\"&gt;map&lt;/a&gt;&lt;br&gt;&lt;a href=\"http://buckheadbrewery.com\" target=\"_blank\"&gt;buckheadbrewery.com</th>\n",
       "      <td>96</td>\n",
       "    </tr>\n",
       "    <tr>\n",
       "      <th>United States&lt;/a&gt; | &lt;a href=\"http://maps.google.com/maps?oi=map&amp;q=%2C+US\" target=\"_blank\"&gt;map&lt;/a&gt;&lt;br&gt;&lt;a href=\"http://capcitybrew.com\" target=\"_blank\"&gt;capcitybrew.com</th>\n",
       "      <td>76</td>\n",
       "    </tr>\n",
       "    <tr>\n",
       "      <th>United States&lt;/a&gt; | &lt;a href=\"http://maps.google.com/maps?oi=map&amp;q=%2C+US\" target=\"_blank\"&gt;map&lt;/a&gt;&lt;br&gt;&lt;a href=\"http://theram.com\" target=\"_blank\"&gt;theram.com</th>\n",
       "      <td>68</td>\n",
       "    </tr>\n",
       "    <tr>\n",
       "      <th>United States&lt;/a&gt; | &lt;a href=\"http://maps.google.com/maps?oi=map&amp;q=%2C+US\" target=\"_blank\"&gt;map&lt;/a&gt;&lt;br&gt;&lt;a href=\"http://eotrading.com\" target=\"_blank\"&gt;eotrading.com</th>\n",
       "      <td>39</td>\n",
       "    </tr>\n",
       "    <tr>\n",
       "      <th>United States&lt;/a&gt; | &lt;a href=\"http://maps.google.com/maps?oi=map&amp;q=%2C+US\" target=\"_blank\"&gt;map&lt;/a&gt;&lt;br&gt;&lt;a href=\"http://ilvicino.com\" target=\"_blank\"&gt;ilvicino.com</th>\n",
       "      <td>13</td>\n",
       "    </tr>\n",
       "    <tr>\n",
       "      <th>Saint Vincent and The Grenadines</th>\n",
       "      <td>5</td>\n",
       "    </tr>\n",
       "    <tr>\n",
       "      <th>Canada, Newfoundland and Labrador</th>\n",
       "      <td>1</td>\n",
       "    </tr>\n",
       "  </tbody>\n",
       "</table>\n",
       "</div>"
      ],
      "text/plain": [
       "                                                    brewery_location\n",
       "United States</a> | <a href=\"http://maps.google...             37590\n",
       "United States</a> | <a href=\"http://maps.google...             26856\n",
       "United States</a> | <a href=\"http://maps.google...             13124\n",
       "United States</a> | <a href=\"http://maps.google...              3546\n",
       "United States</a> | <a href=\"http://maps.google...              3173\n",
       "United States</a> | <a href=\"http://maps.google...               240\n",
       "United States</a> | <a href=\"http://maps.google...               208\n",
       "United States</a> | <a href=\"http://maps.google...                96\n",
       "United States</a> | <a href=\"http://maps.google...                76\n",
       "United States</a> | <a href=\"http://maps.google...                68\n",
       "United States</a> | <a href=\"http://maps.google...                39\n",
       "United States</a> | <a href=\"http://maps.google...                13\n",
       "Saint Vincent and The Grenadines                                   5\n",
       "Canada, Newfoundland and Labrador                                  1"
      ]
     },
     "execution_count": 31,
     "metadata": {},
     "output_type": "execute_result"
    }
   ],
   "source": [
    "BA_brewery_locations = pd.DataFrame(df_BA_reviews['brewery_location'].value_counts())\n",
    "BA_brewery_locations.loc[BA_brewery_locations.index.str.len()>30]"
   ]
  },
  {
   "cell_type": "code",
   "execution_count": 29,
   "metadata": {},
   "outputs": [],
   "source": [
    "df_BA_reviews.loc[df_BA_reviews['brewery_location']=='United States</a> | <a href=\"http://maps.google.com/maps?oi=map&q=%2C+US\" target=\"_blank\">map</a><br><a href=\"http://thirstydog.com\" target=\"_blank\">thirstydog.com'] = 'United States, Ohio'\n",
    "df_BA_reviews.loc[df_BA_reviews['brewery_location']=='United States</a> | <a href=\"http://maps.google.com/maps?oi=map&q=%2C+US\" target=\"_blank\">map</a><br><a href=\"http://mendobrew.com\" target=\"_blank\">mendobrew.com'] = 'United States, California'\n",
    "df_BA_reviews.loc[df_BA_reviews['brewery_location']=='United States</a> | <a href=\"http://maps.google.com/maps?oi=map&q=%2C+US\" target=\"_blank\">map</a><br><a href=\"http://shipyard.com\" target=\"_blank\">shipyard.com'] = 'United States, Maine'\n",
    "df_BA_reviews.loc[df_BA_reviews['brewery_location']=='United States</a> | <a href=\"http://maps.google.com/maps?oi=map&q=%2C+US\" target=\"_blank\">map</a><br><a href=\"http://sebagobrewing.com\" target=\"_blank\">sebagobrewing.com'] = 'United States, Maine'\n",
    "df_BA_reviews.loc[df_BA_reviews['brewery_location']=='United States</a> | <a href=\"http://maps.google.com/maps?oi=map&q=%2C+US\" target=\"_blank\">map</a><br><a href=\"http://herefordandhops.com\" target=\"_blank\">herefordandhops.com'] = 'United States, Michigan'\n",
    "df_BA_reviews.loc[df_BA_reviews['brewery_location']=='United States</a> | <a href=\"http://maps.google.com/maps?oi=map&q=%2C+US\" target=\"_blank\">map</a><br><a href=\"http://steelheadbrewingco.com\" target=\"_blank\">steelheadbrewingco.com'] = 'United States, Oregon'\n",
    "df_BA_reviews.loc[df_BA_reviews['brewery_location']=='United States</a> | <a href=\"http://maps.google.com/maps?oi=map&q=%2C+US\" target=\"_blank\">map</a><br><a href=\"http://bigbuck.com\" target=\"_blank\">bigbuck.com'] = 'United States, Michigan'\n",
    "df_BA_reviews.loc[df_BA_reviews['brewery_location']=='United States</a> | <a href=\"http://maps.google.com/maps?oi=map&q=%2C+US\" target=\"_blank\">map</a><br><a href=\"http://bluecorncafe.com\" target=\"_blank\">bluecorncafe.com'] = 'United States, New Mexico'\n",
    "df_BA_reviews.loc[df_BA_reviews['brewery_location']=='United States</a> | <a href=\"http://maps.google.com/maps?oi=map&q=%2C+US\" target=\"_blank\">map</a><br><a href=\"http://capcitybrew.com\" target=\"_blank\">capcitybrew.com'] = 'United States, Washington'\n",
    "United States</a> | <a href=\"http://maps.google.com/maps?oi=map&q=%2C+US\" target=\"_blank\">map</a><br><a href=\"http://capcitybrew.com\" target=\"_blank\">capcitybrew.com\n",
    "\n",
    "df_BA_reviews.loc[df_BA_reviews['brewery_location']=='Utah</a><br><a href=\"http://utahbeers.com\" target=\"_blank\">utahbeers.com'] = 'United States, Utah'\n",
    "df_BA_reviews.loc[df_BA_reviews['brewery_location']=='Illinois</a>, 60614-4939, <a href=\"/place/directory/9/US/\">United States'] = 'United States, Illinois'\n",
    "df_BA_reviews.loc[df_BA_reviews['brewery_location']=='New York</a>, 13057, <a href=\"/place/directory/9/US/\">United States'] = 'United States, New York'"
   ]
  },
  {
   "cell_type": "code",
   "execution_count": 33,
   "metadata": {},
   "outputs": [
    {
     "name": "stderr",
     "output_type": "stream",
     "text": [
      "/var/folders/vs/4l5nyqs52cj8k63yp80d5cfh0000gn/T/ipykernel_6468/715002294.py:1: SettingWithCopyWarning: \n",
      "A value is trying to be set on a copy of a slice from a DataFrame.\n",
      "Try using .loc[row_indexer,col_indexer] = value instead\n",
      "\n",
      "See the caveats in the documentation: https://pandas.pydata.org/pandas-docs/stable/user_guide/indexing.html#returning-a-view-versus-a-copy\n",
      "  df_BA_reviews.loc[df_BA_reviews['brewery_location'].str.startswith('United States</a>')]['Brewery_location']='United States, Different states'\n"
     ]
    }
   ],
   "source": [
    "df_BA_reviews.loc[df_BA_reviews['brewery_location'].str.startswith('United States</a>')]['Brewery_location']='United States, Different states'"
   ]
  },
  {
   "cell_type": "code",
   "execution_count": null,
   "metadata": {},
   "outputs": [],
   "source": [
    "df_BA_reviews"
   ]
  },
  {
   "cell_type": "markdown",
   "metadata": {},
   "source": [
    "Thus we need to convert these to their respective states. We did so manually by following each reference and identifying where the respective linked brewery is located."
   ]
  },
  {
   "cell_type": "markdown",
   "metadata": {},
   "source": [
    "United States</a> | <a href=\"http://maps.google.com/maps?oi=map&q=%2C+US\" target=\"_blank\">map</a><br><a href=\"http://rockbottom.com\" target=\"_blank\">rockbottom.com                  > many states brew diff beers\n",
    "United States</a> | <a href=\"http://maps.google.com/maps?oi=map&q=%2C+US\" target=\"_blank\">map</a><br><a href=\"http://ironhillbrewery.com\" target=\"_blank\">ironhillbrewery.com         > many diff states\n",
    "\n",
    "United States</a> | <a href=\"http://maps.google.com/maps?oi=map&q=%2C+US\" target=\"_blank\">map</a><br><a href=\"http://gcfb.net\" target=\"_blank\">gcfb.net                               => ?????\n",
    "United States</a> | <a href=\"http://maps.google.com/maps?oi=map&q=%2C+US\" target=\"_blank\">map</a><br><a href=\"http://mendobrew.com\" target=\"_blank\">mendobrew.com \n",
    "\n",
    "United States</a> | <a href=\"http://maps.google.com/maps?oi=map&q=%2C+US\" target=\"_blank\">map</a><br><a href=\"http://thirstydog.com\" target=\"_blank\">thirstydog.com => 'United States, Ohio' DONE\n",
    "United States</a> | <a href=\"http://maps.google.com/maps?oi=map&q=%2C+US\" target=\"_blank\">map</a><br><a href=\"http://mendobrew.com\" target=\"_blank\">mendobrew.com    => 'United States, California'DONE\n",
    "United States</a> | <a href=\"http://maps.google.com/maps?oi=map&q=%2C+US\" target=\"_blank\">map</a><br><a href=\"http://shipyard.com\" target=\"_blank\">shipyard.com    => 'United States, Maine' DONE\n",
    "United States</a> | <a href=\"http://maps.google.com/maps?oi=map&q=%2C+US\" target=\"_blank\">map</a><br><a href=\"http://sebagobrewing.com\" target=\"_blank\">sebagobrewing.com => 'United States, Maine'  DONE\n",
    "United States</a> | <a href=\"http://maps.google.com/maps?oi=map&q=%2C+US\" target=\"_blank\">map</a><br><a href=\"http://seadogbrewing.com\" target=\"_blank\">seadogbrewing.com  => Maine, Hampshire and Florida\n",
    "United States</a> | <a href=\"http://maps.google.com/maps?oi=map&q=%2C+US\" target=\"_blank\">map</a><br><a href=\"http://hopsonline.com\" target=\"_blank\">hopsonline.com => ???\n",
    "United States</a> | <a href=\"http://maps.google.com/maps?oi=map&q=%2C+US\" target=\"_blank\">map</a><br><a href=\"http://herefordandhops.com\" target=\"_blank\">herefordandhops.com =>Michigan DONE\n",
    "\n",
    "United States</a> | <a href=\"http://maps.google.com/maps?oi=map&q=%2C+US\" target=\"_blank\">map</a><br><a href=\"http://steelheadbrewingco.com\" target=\"_blank\">steelheadbrewingco.com =>  Oregon DONE\n",
    "\n",
    "United States</a> | <a href=\"http://maps.google.com/maps?oi=map&q=%2C+US\" target=\"_blank\">map</a><br><a href=\"http://tiedhouse.com\" target=\"_blank\">tiedhouse.com => ???\n",
    "\n",
    "     \n",
    "United States</a> | <a href=\"http://maps.google.com/maps?oi=map&q=%2C+US\" target=\"_blank\">map       => ???\n",
    "\n",
    "United States</a> | <a href=\"http://maps.google.com/maps?oi=map&q=%2C+US\" target=\"_blank\">map</a><br><a href=\"http://bigbuck.com\" target=\"_blank\">bigbuck.com                          => Michigan \n",
    "United States</a> | <a href=\"http://maps.google.com/maps?oi=map&q=%2C+US\" target=\"_blank\">map</a><br><a href=\"http://buckheadbrewery.com\" target=\"_blank\">buckheadbrewery.com          =>  Kentucky Georgia\n",
    "United States</a> | <a href=\"http://maps.google.com/maps?oi=map&q=%2C+US\" target=\"_blank\">map</a><br><a href=\"http://capcitybrew.com\" target=\"_blank\">capcitybrew.com           => ??       \n",
    "United States</a> | <a href=\"http://maps.google.com/maps?oi=map&q=%2C+US\" target=\"_blank\">map</a><br><a href=\"http://theram.com\" target=\"_blank\">theram.com                  => Idaho, washington, oregon             \n",
    "United States</a> | <a href=\"http://maps.google.com/maps?oi=map&q=%2C+US\" target=\"_blank\">map</a><br><a href=\"http://eotrading.com\" target=\"_blank\">eotrading.com                        =>????\n",
    "United States</a> | <a href=\"http://maps.google.com/maps?oi=map&q=%2C+US\" target=\"_blank\">map</a><br><a href=\"http://ilvicino.com\" target=\"_blank\">ilvicino.com                           > new mexico, colorado, \n",
    "United States</a> | <a href=\"http://maps.google.com/maps?oi=map&q=%2C+US\" target=\"_blank\">map</a><br><a href=\"http://bluecorncafe.com\" target=\"_blank\">bluecorncafe.com    => New Mexico  \n",
    "\n",
    "\n",
    "Utah</a><br><a href=\"http://utahbeers.com\" target=\"_blank\">utahbeers.com\n",
    "Illinois</a>, 60614-4939, <a href=\"/place/directory/9/US/\">United States\t\n",
    "New York</a>, 13057, <a href=\"/place/directory/9/US/\">United States\t"
   ]
  },
  {
   "cell_type": "code",
   "execution_count": 10,
   "metadata": {},
   "outputs": [
    {
     "data": {
      "text/html": [
       "<div>\n",
       "<style scoped>\n",
       "    .dataframe tbody tr th:only-of-type {\n",
       "        vertical-align: middle;\n",
       "    }\n",
       "\n",
       "    .dataframe tbody tr th {\n",
       "        vertical-align: top;\n",
       "    }\n",
       "\n",
       "    .dataframe thead th {\n",
       "        text-align: right;\n",
       "    }\n",
       "</style>\n",
       "<table border=\"1\" class=\"dataframe\">\n",
       "  <thead>\n",
       "    <tr style=\"text-align: right;\">\n",
       "      <th></th>\n",
       "      <th>beer_name</th>\n",
       "      <th>user_location</th>\n",
       "    </tr>\n",
       "  </thead>\n",
       "  <tbody>\n",
       "    <tr>\n",
       "      <th>744007</th>\n",
       "      <td>\"Naughty Scot\" Scotch Ale</td>\n",
       "      <td>United States, Missouri</td>\n",
       "    </tr>\n",
       "    <tr>\n",
       "      <th>744021</th>\n",
       "      <td>\"Naughty Scot\" Scotch Ale</td>\n",
       "      <td>United States, Missouri</td>\n",
       "    </tr>\n",
       "    <tr>\n",
       "      <th>744035</th>\n",
       "      <td>\"Naughty Scot\" Scotch Ale</td>\n",
       "      <td>United States, Missouri</td>\n",
       "    </tr>\n",
       "    <tr>\n",
       "      <th>744049</th>\n",
       "      <td>\"Naughty Scot\" Scotch Ale</td>\n",
       "      <td>United States, Missouri</td>\n",
       "    </tr>\n",
       "    <tr>\n",
       "      <th>744063</th>\n",
       "      <td>\"Naughty Scot\" Scotch Ale</td>\n",
       "      <td>United States, Missouri</td>\n",
       "    </tr>\n",
       "    <tr>\n",
       "      <th>744077</th>\n",
       "      <td>\"Naughty Scot\" Scotch Ale</td>\n",
       "      <td>United States, Missouri</td>\n",
       "    </tr>\n",
       "    <tr>\n",
       "      <th>744091</th>\n",
       "      <td>\"Naughty Scot\" Scotch Ale</td>\n",
       "      <td>United States, Missouri</td>\n",
       "    </tr>\n",
       "    <tr>\n",
       "      <th>744105</th>\n",
       "      <td>\"Naughty Scot\" Scotch Ale</td>\n",
       "      <td>United States, Missouri</td>\n",
       "    </tr>\n",
       "    <tr>\n",
       "      <th>744119</th>\n",
       "      <td>\"Naughty Scot\" Scotch Ale</td>\n",
       "      <td>United States, Missouri</td>\n",
       "    </tr>\n",
       "    <tr>\n",
       "      <th>744133</th>\n",
       "      <td>\"Naughty Scot\" Scotch Ale</td>\n",
       "      <td>United States, Missouri</td>\n",
       "    </tr>\n",
       "    <tr>\n",
       "      <th>744147</th>\n",
       "      <td>\"Naughty Scot\" Scotch Ale</td>\n",
       "      <td>United States, Missouri</td>\n",
       "    </tr>\n",
       "    <tr>\n",
       "      <th>744161</th>\n",
       "      <td>\"Naughty Scot\" Scotch Ale</td>\n",
       "      <td>United States, Missouri</td>\n",
       "    </tr>\n",
       "    <tr>\n",
       "      <th>744175</th>\n",
       "      <td>\"Naughty Scot\" Scotch Ale</td>\n",
       "      <td>United States, Missouri</td>\n",
       "    </tr>\n",
       "    <tr>\n",
       "      <th>744189</th>\n",
       "      <td>\"Naughty Scot\" Scotch Ale</td>\n",
       "      <td>United States, Missouri</td>\n",
       "    </tr>\n",
       "    <tr>\n",
       "      <th>744203</th>\n",
       "      <td>\"Naughty Scot\" Scotch Ale</td>\n",
       "      <td>United States, Colorado</td>\n",
       "    </tr>\n",
       "    <tr>\n",
       "      <th>744217</th>\n",
       "      <td>\"Naughty Scot\" Scotch Ale</td>\n",
       "      <td>United States, Colorado</td>\n",
       "    </tr>\n",
       "    <tr>\n",
       "      <th>744231</th>\n",
       "      <td>\"Naughty Scot\" Scotch Ale</td>\n",
       "      <td>United States, Colorado</td>\n",
       "    </tr>\n",
       "    <tr>\n",
       "      <th>744245</th>\n",
       "      <td>\"Naughty Scot\" Scotch Ale</td>\n",
       "      <td>United States, Colorado</td>\n",
       "    </tr>\n",
       "    <tr>\n",
       "      <th>744259</th>\n",
       "      <td>\"Naughty Scot\" Scotch Ale</td>\n",
       "      <td>United States, Colorado</td>\n",
       "    </tr>\n",
       "    <tr>\n",
       "      <th>744273</th>\n",
       "      <td>\"Naughty Scot\" Scotch Ale</td>\n",
       "      <td>United States, Colorado</td>\n",
       "    </tr>\n",
       "    <tr>\n",
       "      <th>744287</th>\n",
       "      <td>\"Naughty Scot\" Scotch Ale</td>\n",
       "      <td>United States, Colorado</td>\n",
       "    </tr>\n",
       "    <tr>\n",
       "      <th>744301</th>\n",
       "      <td>\"Naughty Scot\" Scotch Ale</td>\n",
       "      <td>United States, Colorado</td>\n",
       "    </tr>\n",
       "    <tr>\n",
       "      <th>744315</th>\n",
       "      <td>\"Naughty Scot\" Scotch Ale</td>\n",
       "      <td>United States, Colorado</td>\n",
       "    </tr>\n",
       "    <tr>\n",
       "      <th>744329</th>\n",
       "      <td>\"Naughty Scot\" Scotch Ale</td>\n",
       "      <td>United States, Colorado</td>\n",
       "    </tr>\n",
       "    <tr>\n",
       "      <th>744343</th>\n",
       "      <td>\"Naughty Scot\" Scotch Ale</td>\n",
       "      <td>United States, Colorado</td>\n",
       "    </tr>\n",
       "    <tr>\n",
       "      <th>744357</th>\n",
       "      <td>\"Naughty Scot\" Scotch Ale</td>\n",
       "      <td>United States, Colorado</td>\n",
       "    </tr>\n",
       "    <tr>\n",
       "      <th>744371</th>\n",
       "      <td>\"Naughty Scot\" Scotch Ale</td>\n",
       "      <td>United States, Colorado</td>\n",
       "    </tr>\n",
       "    <tr>\n",
       "      <th>744385</th>\n",
       "      <td>\"Naughty Scot\" Scotch Ale</td>\n",
       "      <td>United States, Colorado</td>\n",
       "    </tr>\n",
       "    <tr>\n",
       "      <th>744399</th>\n",
       "      <td>\"Naughty Scot\" Scotch Ale</td>\n",
       "      <td>United States, Pennsylvania</td>\n",
       "    </tr>\n",
       "    <tr>\n",
       "      <th>744413</th>\n",
       "      <td>\"Naughty Scot\" Scotch Ale</td>\n",
       "      <td>United States, Pennsylvania</td>\n",
       "    </tr>\n",
       "    <tr>\n",
       "      <th>744427</th>\n",
       "      <td>\"Naughty Scot\" Scotch Ale</td>\n",
       "      <td>United States, Pennsylvania</td>\n",
       "    </tr>\n",
       "    <tr>\n",
       "      <th>744441</th>\n",
       "      <td>\"Naughty Scot\" Scotch Ale</td>\n",
       "      <td>United States, Pennsylvania</td>\n",
       "    </tr>\n",
       "    <tr>\n",
       "      <th>744455</th>\n",
       "      <td>\"Naughty Scot\" Scotch Ale</td>\n",
       "      <td>United States, Pennsylvania</td>\n",
       "    </tr>\n",
       "    <tr>\n",
       "      <th>744469</th>\n",
       "      <td>\"Naughty Scot\" Scotch Ale</td>\n",
       "      <td>United States, Pennsylvania</td>\n",
       "    </tr>\n",
       "    <tr>\n",
       "      <th>744483</th>\n",
       "      <td>\"Naughty Scot\" Scotch Ale</td>\n",
       "      <td>United States, Pennsylvania</td>\n",
       "    </tr>\n",
       "    <tr>\n",
       "      <th>744497</th>\n",
       "      <td>\"Naughty Scot\" Scotch Ale</td>\n",
       "      <td>United States, Pennsylvania</td>\n",
       "    </tr>\n",
       "    <tr>\n",
       "      <th>744511</th>\n",
       "      <td>\"Naughty Scot\" Scotch Ale</td>\n",
       "      <td>United States, Pennsylvania</td>\n",
       "    </tr>\n",
       "    <tr>\n",
       "      <th>744525</th>\n",
       "      <td>\"Naughty Scot\" Scotch Ale</td>\n",
       "      <td>United States, Pennsylvania</td>\n",
       "    </tr>\n",
       "    <tr>\n",
       "      <th>744539</th>\n",
       "      <td>\"Naughty Scot\" Scotch Ale</td>\n",
       "      <td>United States, Pennsylvania</td>\n",
       "    </tr>\n",
       "    <tr>\n",
       "      <th>744553</th>\n",
       "      <td>\"Naughty Scot\" Scotch Ale</td>\n",
       "      <td>United States, Pennsylvania</td>\n",
       "    </tr>\n",
       "    <tr>\n",
       "      <th>744567</th>\n",
       "      <td>\"Naughty Scot\" Scotch Ale</td>\n",
       "      <td>United States, Pennsylvania</td>\n",
       "    </tr>\n",
       "    <tr>\n",
       "      <th>744581</th>\n",
       "      <td>\"Naughty Scot\" Scotch Ale</td>\n",
       "      <td>United States, Pennsylvania</td>\n",
       "    </tr>\n",
       "    <tr>\n",
       "      <th>744595</th>\n",
       "      <td>\"Naughty Scot\" Scotch Ale</td>\n",
       "      <td>United States, Iowa</td>\n",
       "    </tr>\n",
       "    <tr>\n",
       "      <th>744609</th>\n",
       "      <td>\"Naughty Scot\" Scotch Ale</td>\n",
       "      <td>United States, Iowa</td>\n",
       "    </tr>\n",
       "    <tr>\n",
       "      <th>744623</th>\n",
       "      <td>\"Naughty Scot\" Scotch Ale</td>\n",
       "      <td>United States, Iowa</td>\n",
       "    </tr>\n",
       "    <tr>\n",
       "      <th>744637</th>\n",
       "      <td>\"Naughty Scot\" Scotch Ale</td>\n",
       "      <td>United States, Iowa</td>\n",
       "    </tr>\n",
       "    <tr>\n",
       "      <th>744651</th>\n",
       "      <td>\"Naughty Scot\" Scotch Ale</td>\n",
       "      <td>United States, Iowa</td>\n",
       "    </tr>\n",
       "    <tr>\n",
       "      <th>744665</th>\n",
       "      <td>\"Naughty Scot\" Scotch Ale</td>\n",
       "      <td>United States, Iowa</td>\n",
       "    </tr>\n",
       "    <tr>\n",
       "      <th>744679</th>\n",
       "      <td>\"Naughty Scot\" Scotch Ale</td>\n",
       "      <td>United States, Iowa</td>\n",
       "    </tr>\n",
       "    <tr>\n",
       "      <th>744693</th>\n",
       "      <td>\"Naughty Scot\" Scotch Ale</td>\n",
       "      <td>United States, Iowa</td>\n",
       "    </tr>\n",
       "    <tr>\n",
       "      <th>744707</th>\n",
       "      <td>\"Naughty Scot\" Scotch Ale</td>\n",
       "      <td>United States, Iowa</td>\n",
       "    </tr>\n",
       "    <tr>\n",
       "      <th>744721</th>\n",
       "      <td>\"Naughty Scot\" Scotch Ale</td>\n",
       "      <td>United States, Iowa</td>\n",
       "    </tr>\n",
       "    <tr>\n",
       "      <th>744735</th>\n",
       "      <td>\"Naughty Scot\" Scotch Ale</td>\n",
       "      <td>United States, Iowa</td>\n",
       "    </tr>\n",
       "    <tr>\n",
       "      <th>744749</th>\n",
       "      <td>\"Naughty Scot\" Scotch Ale</td>\n",
       "      <td>United States, Iowa</td>\n",
       "    </tr>\n",
       "    <tr>\n",
       "      <th>744763</th>\n",
       "      <td>\"Naughty Scot\" Scotch Ale</td>\n",
       "      <td>United States, Iowa</td>\n",
       "    </tr>\n",
       "    <tr>\n",
       "      <th>744777</th>\n",
       "      <td>\"Naughty Scot\" Scotch Ale</td>\n",
       "      <td>United States, Iowa</td>\n",
       "    </tr>\n",
       "    <tr>\n",
       "      <th>744791</th>\n",
       "      <td>\"Naughty Scot\" Scotch Ale</td>\n",
       "      <td>United States, California</td>\n",
       "    </tr>\n",
       "    <tr>\n",
       "      <th>744805</th>\n",
       "      <td>\"Naughty Scot\" Scotch Ale</td>\n",
       "      <td>United States, California</td>\n",
       "    </tr>\n",
       "    <tr>\n",
       "      <th>744819</th>\n",
       "      <td>\"Naughty Scot\" Scotch Ale</td>\n",
       "      <td>United States, California</td>\n",
       "    </tr>\n",
       "    <tr>\n",
       "      <th>744833</th>\n",
       "      <td>\"Naughty Scot\" Scotch Ale</td>\n",
       "      <td>United States, California</td>\n",
       "    </tr>\n",
       "  </tbody>\n",
       "</table>\n",
       "</div>"
      ],
      "text/plain": [
       "                        beer_name                user_location\n",
       "744007  \"Naughty Scot\" Scotch Ale      United States, Missouri\n",
       "744021  \"Naughty Scot\" Scotch Ale      United States, Missouri\n",
       "744035  \"Naughty Scot\" Scotch Ale      United States, Missouri\n",
       "744049  \"Naughty Scot\" Scotch Ale      United States, Missouri\n",
       "744063  \"Naughty Scot\" Scotch Ale      United States, Missouri\n",
       "744077  \"Naughty Scot\" Scotch Ale      United States, Missouri\n",
       "744091  \"Naughty Scot\" Scotch Ale      United States, Missouri\n",
       "744105  \"Naughty Scot\" Scotch Ale      United States, Missouri\n",
       "744119  \"Naughty Scot\" Scotch Ale      United States, Missouri\n",
       "744133  \"Naughty Scot\" Scotch Ale      United States, Missouri\n",
       "744147  \"Naughty Scot\" Scotch Ale      United States, Missouri\n",
       "744161  \"Naughty Scot\" Scotch Ale      United States, Missouri\n",
       "744175  \"Naughty Scot\" Scotch Ale      United States, Missouri\n",
       "744189  \"Naughty Scot\" Scotch Ale      United States, Missouri\n",
       "744203  \"Naughty Scot\" Scotch Ale      United States, Colorado\n",
       "744217  \"Naughty Scot\" Scotch Ale      United States, Colorado\n",
       "744231  \"Naughty Scot\" Scotch Ale      United States, Colorado\n",
       "744245  \"Naughty Scot\" Scotch Ale      United States, Colorado\n",
       "744259  \"Naughty Scot\" Scotch Ale      United States, Colorado\n",
       "744273  \"Naughty Scot\" Scotch Ale      United States, Colorado\n",
       "744287  \"Naughty Scot\" Scotch Ale      United States, Colorado\n",
       "744301  \"Naughty Scot\" Scotch Ale      United States, Colorado\n",
       "744315  \"Naughty Scot\" Scotch Ale      United States, Colorado\n",
       "744329  \"Naughty Scot\" Scotch Ale      United States, Colorado\n",
       "744343  \"Naughty Scot\" Scotch Ale      United States, Colorado\n",
       "744357  \"Naughty Scot\" Scotch Ale      United States, Colorado\n",
       "744371  \"Naughty Scot\" Scotch Ale      United States, Colorado\n",
       "744385  \"Naughty Scot\" Scotch Ale      United States, Colorado\n",
       "744399  \"Naughty Scot\" Scotch Ale  United States, Pennsylvania\n",
       "744413  \"Naughty Scot\" Scotch Ale  United States, Pennsylvania\n",
       "744427  \"Naughty Scot\" Scotch Ale  United States, Pennsylvania\n",
       "744441  \"Naughty Scot\" Scotch Ale  United States, Pennsylvania\n",
       "744455  \"Naughty Scot\" Scotch Ale  United States, Pennsylvania\n",
       "744469  \"Naughty Scot\" Scotch Ale  United States, Pennsylvania\n",
       "744483  \"Naughty Scot\" Scotch Ale  United States, Pennsylvania\n",
       "744497  \"Naughty Scot\" Scotch Ale  United States, Pennsylvania\n",
       "744511  \"Naughty Scot\" Scotch Ale  United States, Pennsylvania\n",
       "744525  \"Naughty Scot\" Scotch Ale  United States, Pennsylvania\n",
       "744539  \"Naughty Scot\" Scotch Ale  United States, Pennsylvania\n",
       "744553  \"Naughty Scot\" Scotch Ale  United States, Pennsylvania\n",
       "744567  \"Naughty Scot\" Scotch Ale  United States, Pennsylvania\n",
       "744581  \"Naughty Scot\" Scotch Ale  United States, Pennsylvania\n",
       "744595  \"Naughty Scot\" Scotch Ale          United States, Iowa\n",
       "744609  \"Naughty Scot\" Scotch Ale          United States, Iowa\n",
       "744623  \"Naughty Scot\" Scotch Ale          United States, Iowa\n",
       "744637  \"Naughty Scot\" Scotch Ale          United States, Iowa\n",
       "744651  \"Naughty Scot\" Scotch Ale          United States, Iowa\n",
       "744665  \"Naughty Scot\" Scotch Ale          United States, Iowa\n",
       "744679  \"Naughty Scot\" Scotch Ale          United States, Iowa\n",
       "744693  \"Naughty Scot\" Scotch Ale          United States, Iowa\n",
       "744707  \"Naughty Scot\" Scotch Ale          United States, Iowa\n",
       "744721  \"Naughty Scot\" Scotch Ale          United States, Iowa\n",
       "744735  \"Naughty Scot\" Scotch Ale          United States, Iowa\n",
       "744749  \"Naughty Scot\" Scotch Ale          United States, Iowa\n",
       "744763  \"Naughty Scot\" Scotch Ale          United States, Iowa\n",
       "744777  \"Naughty Scot\" Scotch Ale          United States, Iowa\n",
       "744791  \"Naughty Scot\" Scotch Ale    United States, California\n",
       "744805  \"Naughty Scot\" Scotch Ale    United States, California\n",
       "744819  \"Naughty Scot\" Scotch Ale    United States, California\n",
       "744833  \"Naughty Scot\" Scotch Ale    United States, California"
      ]
     },
     "execution_count": 10,
     "metadata": {},
     "output_type": "execute_result"
    }
   ],
   "source": [
    "df_BA_reviews.loc[df_BA_reviews['brewery_location']=='United States</a> | <a href=\"http://maps.google.com/maps?oi=map&q=%2C+US\" target=\"_blank\">map</a><br><a href=\"http://rockbottom.com\" target=\"_blank\">rockbottom.com'][['beer_name','user_location']].head(60)"
   ]
  },
  {
   "cell_type": "code",
   "execution_count": 14,
   "metadata": {},
   "outputs": [
    {
     "data": {
      "text/plain": [
       "0.7847497589801552"
      ]
     },
     "execution_count": 14,
     "metadata": {},
     "output_type": "execute_result"
    }
   ],
   "source": [
    "37590/len(df_BA_reviews.loc[df_BA_reviews['brewery_merged_location']=='United States'])*100 #78% of the US data = rockbottom brewery"
   ]
  },
  {
   "cell_type": "code",
   "execution_count": null,
   "metadata": {},
   "outputs": [],
   "source": []
  },
  {
   "cell_type": "markdown",
   "metadata": {},
   "source": [
    "## Saving the now pre-processed data:"
   ]
  },
  {
   "cell_type": "markdown",
   "metadata": {},
   "source": [
    "To avoid doing these heavy computations (each take a long time) several times, we saved those dataframes as mentionned earlier; <br>"
   ]
  },
  {
   "cell_type": "code",
   "execution_count": null,
   "metadata": {},
   "outputs": [],
   "source": [
    "#Do that only once. Stores the dataframes so that we can access them more easily next time and have to do the data preprocessing only once\n",
    "df_BA_reviews.to_csv(PATH+'/DataframeStorage/df_BA_reviews.csv', columns=['beer_name', 'beer_id', 'brewery_name', 'brewery_id', 'style', 'abv', 'date', 'user_name', 'user_id', 'appearance', 'aroma', 'palate', 'taste', 'overall', 'rating', 'text', 'brewery_location', 'brewery_merged_location', 'user_location', 'user_merged_location'], index=False)"
   ]
  },
  {
   "cell_type": "code",
   "execution_count": null,
   "metadata": {},
   "outputs": [],
   "source": [
    "df_RB_reviews.to_csv(PATH+'/DataframeStorage/df_RB_reviews.csv', columns=['beer_name', 'beer_id', 'brewery_name', 'brewery_id', 'style', 'abv', 'date', 'user_name', 'user_id', 'appearance', 'aroma', 'palate', 'taste', 'overall', 'rating', 'text', 'brewery_location', 'brewery_merged_location', 'user_location', 'user_merged_location'], index=False)"
   ]
  },
  {
   "cell_type": "code",
   "execution_count": null,
   "metadata": {},
   "outputs": [],
   "source": [
    "df_reviews_all = pd.concat([df_BA_reviews, df_RB_reviews], axis=0)\n",
    "\n",
    "df_reviews_all.to_csv(PATH+'/DataframeStorage/df_reviews_all.csv', columns=['beer_name', 'beer_id', 'brewery_name', 'brewery_id', 'style', 'abv', 'date', 'user_name', 'user_id', 'appearance', 'aroma', 'palate', 'taste', 'overall', 'rating', 'text', 'brewery_location', 'brewery_merged_location', 'user_location', 'user_merged_location'], index=False)"
   ]
  },
  {
   "cell_type": "markdown",
   "metadata": {},
   "source": [
    "RE-reading data (for me)"
   ]
  },
  {
   "cell_type": "code",
   "execution_count": null,
   "metadata": {},
   "outputs": [],
   "source": [
    "df_BA_reviews_location.loc[df_BA_reviews_location['brewery_location'].str.startswith('United States</a>')]['brewery_location'].value_counts()"
   ]
  },
  {
   "cell_type": "code",
   "execution_count": 2,
   "metadata": {},
   "outputs": [],
   "source": [
    "df_BA_reviews = pd.read_csv('../DataframeStorage/df_BA_reviews.csv')\n",
    "df_BA_reviews['date'] = pd.to_datetime(df_BA_reviews['date'], format=\"%Y-%m-%d %H:%M:%S\")"
   ]
  },
  {
   "cell_type": "code",
   "execution_count": 3,
   "metadata": {},
   "outputs": [],
   "source": [
    "df_RB_reviews = pd.read_csv('../DataframeStorage/df_RB_reviews.csv')\n",
    "df_RB_reviews['date'] = pd.to_datetime(df_RB_reviews['date'], format=\"%Y-%m-%d %H:%M:%S\")"
   ]
  },
  {
   "cell_type": "code",
   "execution_count": null,
   "metadata": {},
   "outputs": [],
   "source": [
    "df_BA_reviews"
   ]
  }
 ],
 "metadata": {
  "kernelspec": {
   "display_name": "Python 3.9.13 ('ada')",
   "language": "python",
   "name": "python3"
  },
  "language_info": {
   "codemirror_mode": {
    "name": "ipython",
    "version": 3
   },
   "file_extension": ".py",
   "mimetype": "text/x-python",
   "name": "python",
   "nbconvert_exporter": "python",
   "pygments_lexer": "ipython3",
   "version": "3.9.13"
  },
  "orig_nbformat": 4,
  "vscode": {
   "interpreter": {
    "hash": "2ddbd0b842a978e03471eb3a4ae18fdd24eb8ad76bdab23b363108c4c8f6a59c"
   }
  }
 },
 "nbformat": 4,
 "nbformat_minor": 2
}
