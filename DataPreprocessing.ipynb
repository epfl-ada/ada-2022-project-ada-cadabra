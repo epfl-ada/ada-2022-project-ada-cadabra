{
 "cells": [
  {
   "cell_type": "code",
   "execution_count": 1,
   "metadata": {},
   "outputs": [],
   "source": [
    "#reading data\n",
    "import gzip #to read gzip files\n",
    "\n",
    "#manipulating data \n",
    "import pandas as pd\n",
    "import numpy as np\n",
    "import datetime\n",
    "\n",
    "#data path\n",
    "PATH = '../'"
   ]
  },
  {
   "cell_type": "markdown",
   "metadata": {},
   "source": [
    "## Data extraction "
   ]
  },
  {
   "cell_type": "markdown",
   "metadata": {},
   "source": [
    "We start by extracting the data for beers, breweries and users from the two rating websites BeerAdvocate and RateBeer as well as the matched data. <br>\n",
    "We view the dataframe first few rows to get a firt glance at what the data contains before pre-processing it:"
   ]
  },
  {
   "cell_type": "markdown",
   "metadata": {},
   "source": [
    "### BeerAdvocate data "
   ]
  },
  {
   "cell_type": "code",
   "execution_count": 5,
   "metadata": {},
   "outputs": [],
   "source": [
    "BA_beers = pd.read_csv(PATH+'BeerAdvocate/beers.csv', index_col='beer_id')\n",
    "BA_breweries = pd.read_csv(PATH+'BeerAdvocate/breweries.csv', index_col='id')\n",
    "BA_users = pd.read_csv(PATH+'BeerAdvocate/users.csv', index_col= 'user_id')"
   ]
  },
  {
   "cell_type": "markdown",
   "metadata": {},
   "source": [
    "As for the BeerAdvocate text reviews, the text files were in a quite special format, we extracted them in the notebook 'TransformTextfileToCsv.ipynb' ([here](TransformTextfileToCsv.ipynb)) and saved them into csv files which we load below to take a look at: "
   ]
  },
  {
   "cell_type": "code",
   "execution_count": 4,
   "metadata": {},
   "outputs": [],
   "source": [
    "#open the csv file\n",
    "df_BA_reviews = pd.read_csv('../DataframeStorage/df_BA_reviews_unprocessed.csv')"
   ]
  },
  {
   "cell_type": "markdown",
   "metadata": {},
   "source": [
    "### RateBeer data "
   ]
  },
  {
   "cell_type": "code",
   "execution_count": 6,
   "metadata": {},
   "outputs": [],
   "source": [
    "RB_beers = pd.read_csv(PATH+'RateBeer/beers.csv', index_col='beer_id')\n",
    "RB_breweries = pd.read_csv(PATH+'RateBeer/breweries.csv', index_col= 'id')\n",
    "RB_users = pd.read_csv(PATH+'RateBeer/users.csv', index_col= 'user_id')"
   ]
  },
  {
   "cell_type": "markdown",
   "metadata": {},
   "source": [
    "For the RateBeer text reviews, the text files were in a quite special format, we extracted them in the notebook 'TransformTextfileToCsv.ipynb' ([here](TransformTextfileToCsv.ipynb)) and saved them into csv files:"
   ]
  },
  {
   "cell_type": "code",
   "execution_count": 7,
   "metadata": {},
   "outputs": [],
   "source": [
    "#open the csv file\n",
    "df_RB_reviews = pd.read_csv('../DataframeStorage/df_RB_reviews_unprocessed.csv')"
   ]
  },
  {
   "cell_type": "markdown",
   "metadata": {},
   "source": [
    "### Matched data "
   ]
  },
  {
   "cell_type": "code",
   "execution_count": 8,
   "metadata": {},
   "outputs": [],
   "source": [
    "matched_beers = pd.read_csv(PATH+'matched_beer_data/beers.csv', header=1)\n",
    "matched_breweries = pd.read_csv(PATH+'matched_beer_data/breweries.csv', header=1)\n",
    "matched_users = pd.read_csv(PATH+'matched_beer_data/users.csv', header=1)"
   ]
  },
  {
   "cell_type": "code",
   "execution_count": 9,
   "metadata": {},
   "outputs": [],
   "source": [
    "matched_ratings = pd.read_csv(PATH+'matched_beer_data/ratings.csv', encoding = \"ISO-8859-1\", header=1)"
   ]
  },
  {
   "cell_type": "markdown",
   "metadata": {},
   "source": [
    "## Pre-processing"
   ]
  },
  {
   "cell_type": "markdown",
   "metadata": {},
   "source": [
    "In this part we were interested in modifying the reviews dataframe in such a way that it contains columns containing the user and brewery locations. But this required different preprocessing steps on users and breweries first in order to match them afterwards in the review data."
   ]
  },
  {
   "cell_type": "markdown",
   "metadata": {},
   "source": [
    "### Users"
   ]
  },
  {
   "cell_type": "markdown",
   "metadata": {},
   "source": [
    "For both websites :\n",
    "- We convert the *joined* column from seconds into a datetime object \n",
    "- We add a column called *merged_location* where all the states of the United States are just defined as United States (this will be useful for analyses where we only care about comparing countries)"
   ]
  },
  {
   "cell_type": "code",
   "execution_count": null,
   "metadata": {},
   "outputs": [],
   "source": [
    "BA_users['joined'] = pd.to_datetime(BA_users['joined'],unit = 's')\n",
    "\n",
    "# Add a column where all Users from the united states get 'United States' as location\n",
    "BA_users['location'] = BA_users['location'].fillna('Unknown')\n",
    "BA_users['merged_location'] = BA_users['location'].copy()\n",
    "BA_users.loc[(BA_users['merged_location'].str.startswith('United States')), 'merged_location'] = 'United States'"
   ]
  },
  {
   "cell_type": "code",
   "execution_count": null,
   "metadata": {},
   "outputs": [],
   "source": [
    "RB_users['joined'] = pd.to_datetime(RB_users['joined'] ,unit = 's')\n",
    "\n",
    "# Add a column where all Users from the united states get 'United States' as location\n",
    "RB_users['location'] = RB_users['location'].fillna('Unknown')\n",
    "RB_users['merged_location'] = RB_users['location'].copy()\n",
    "RB_users.loc[(RB_users['merged_location'].str.startswith('United States')), 'merged_location'] = 'United States'"
   ]
  },
  {
   "cell_type": "markdown",
   "metadata": {},
   "source": [
    "For the matched data we just convert the *joined* to a datatime object as we will use primarly the two other dataframes when it comes to analyzing locations:"
   ]
  },
  {
   "cell_type": "code",
   "execution_count": null,
   "metadata": {},
   "outputs": [],
   "source": [
    "matched_users['joined'] = pd.to_datetime(matched_users['joined'],unit = 's')\n",
    "matched_users['joined.1'] = pd.to_datetime(matched_users['joined.1'],unit = 's')"
   ]
  },
  {
   "cell_type": "markdown",
   "metadata": {},
   "source": [
    "### Breweries "
   ]
  },
  {
   "cell_type": "markdown",
   "metadata": {},
   "source": [
    "We proceed similarly with the two website breweries:"
   ]
  },
  {
   "cell_type": "code",
   "execution_count": null,
   "metadata": {},
   "outputs": [],
   "source": [
    "# Add a column where all Users from the united states get 'United States' as location\n",
    "RB_breweries['merged_location'] = RB_breweries['location'].copy()\n",
    "RB_breweries.loc[(RB_breweries['merged_location'].str.startswith('United States')), 'merged_location'] = 'United States'"
   ]
  },
  {
   "cell_type": "code",
   "execution_count": null,
   "metadata": {},
   "outputs": [],
   "source": [
    "BA_breweries['merged_location'] = BA_breweries['location'].copy()\n",
    "BA_breweries.loc[(BA_breweries['merged_location'].str.startswith('United States')), 'merged_location'] = 'United States'"
   ]
  },
  {
   "cell_type": "markdown",
   "metadata": {},
   "source": [
    "### Reviews "
   ]
  },
  {
   "cell_type": "markdown",
   "metadata": {},
   "source": [
    "To facilitate consequent analyses, we wanted to have both the user location and the brewery location as columns in the review data, we proceed to do the following:\n",
    "To allow the merge of the brewery location with the brewery name on df_reviews, we first need to align the column names. <br>\n",
    "To do so we rename the column \"name\" of breweries to \"brewery_name\" (the name of the column in df_reviews). <br>\n",
    "\n",
    "We use the function df.merge to add the element \"location\" to the corresponding brewery in df_reviews. <br>\n",
    "By default the new columns name would be the same as in df_breweries ('location'), we rename it by \"brewery_location\" to prevent confusion. <br>\n",
    "\n",
    "After the merging we rename the column of the brewery dataframe again, to have the same name that we had initially."
   ]
  },
  {
   "cell_type": "code",
   "execution_count": null,
   "metadata": {},
   "outputs": [],
   "source": [
    "#Rename the column name to brewery_name to allow merging with the \n",
    "BA_breweries.rename(columns = {'name':'brewery_name'}, inplace = True)\n",
    "RB_breweries.rename(columns = {'name':'brewery_name'}, inplace = True)\n",
    "\n",
    "\n",
    "#Add the location to the beer dataframe\n",
    "df_BA_reviews = (df_BA_reviews.merge(BA_breweries[['location', 'brewery_name']], on=['brewery_name'], how='left')).rename(columns = {'location':'brewery_location'})\n",
    "df_RB_reviews = (df_RB_reviews.merge(RB_breweries[['location', 'brewery_name']], on=['brewery_name'], how='left')).rename(columns = {'location':'brewery_location'})\n",
    "\n",
    "\n",
    "#Name the columns back: \n",
    "BA_breweries.rename(columns = {'brewery_name':'name'}, inplace = True)\n",
    "RB_breweries.rename(columns = {'brewery_name':'name'}, inplace = True)"
   ]
  },
  {
   "cell_type": "markdown",
   "metadata": {},
   "source": [
    "As the different states of the US are described as different locations, but sometimes we want to group the beers by nations and not by states. <br>\n",
    "To make this possible we add a new column. <br>\n",
    "This column is called \"brewery_merged_location\" and is exactly the same as the column \"brewery_location\" except for the fact, that the different states of the US all take the value \"United States\"."
   ]
  },
  {
   "cell_type": "code",
   "execution_count": null,
   "metadata": {},
   "outputs": [],
   "source": [
    "# Add a column where all breweries from the united states get 'United States' as location\n",
    "df_RB_reviews['brewery_merged_location'] = df_RB_reviews['brewery_location'].copy()\n",
    "df_RB_reviews.loc[(df_RB_reviews['brewery_merged_location'].str.startswith('United States')), 'brewery_merged_location'] = 'United States'\n",
    "\n",
    "\n",
    "df_BA_reviews['brewery_merged_location'] = df_BA_reviews['brewery_location'].copy()\n",
    "df_BA_reviews.loc[(df_BA_reviews['brewery_merged_location'].str.startswith('United States')), 'brewery_merged_location'] = 'United States'"
   ]
  },
  {
   "cell_type": "markdown",
   "metadata": {},
   "source": [
    "The same approach as for the brewery locations is used to add the country of origin of the users. <br>\n",
    "To group them by nations we add here a column that sums up the states of the US under the value \"United States\"."
   ]
  },
  {
   "cell_type": "code",
   "execution_count": null,
   "metadata": {},
   "outputs": [],
   "source": [
    "#Add the country of origin of the reviewer to the review\n",
    "df_RB_reviews = (df_RB_reviews.merge(RB_users[['location', 'user_name']], on=['user_name'], how='left')).rename(columns={'location':'user_location'})\n",
    "df_BA_reviews = (df_BA_reviews.merge(BA_users[['location', 'user_name']], on=['user_name'], how='left')).rename(columns={'location':'user_location'})\n",
    "\n",
    "# Add a column where all users from the united states get 'United States' as location\n",
    "df_RB_reviews['user_location'] = df_RB_reviews['user_location'].fillna('Unknown')\n",
    "df_RB_reviews['user_merged_location'] = df_RB_reviews['user_location'].copy()\n",
    "df_RB_reviews.loc[(df_RB_reviews['user_merged_location'].str.startswith('United States')), 'user_merged_location'] = 'United States'\n",
    "\n",
    "#For BA we have to replace the NaN values\n",
    "df_BA_reviews['user_location'] = df_BA_reviews['user_location'].fillna('Unknown')\n",
    "df_BA_reviews['user_merged_location'] = df_BA_reviews['user_location'].copy()\n",
    "df_BA_reviews.loc[(df_BA_reviews['user_merged_location'].str.startswith('United States')), 'user_merged_location'] = 'United States'"
   ]
  },
  {
   "cell_type": "code",
   "execution_count": null,
   "metadata": {},
   "outputs": [],
   "source": [
    "#Transform the dates of the reviews from string to datetime\n",
    "df_BA_reviews['date'] = pd.to_datetime(df_BA_reviews['date'], format=\"%Y-%m-%d %H:%M:%S\")\n",
    "df_RB_reviews['date'] = pd.to_datetime(df_RB_reviews['date'], format=\"%Y-%m-%d %H:%M:%S\")"
   ]
  },
  {
   "cell_type": "markdown",
   "metadata": {},
   "source": [
    "### Changing format of some of the locations :"
   ]
  },
  {
   "cell_type": "markdown",
   "metadata": {},
   "source": [
    "We've noticed that a big part of the US states reviews in the BeerAdvocate data have links to the brewery as a brewery_location, we count how many datapoints are in each of these long strings (that's how we identify they are links):"
   ]
  },
  {
   "cell_type": "code",
   "execution_count": null,
   "metadata": {},
   "outputs": [
    {
     "data": {
      "text/html": [
       "<div>\n",
       "<style scoped>\n",
       "    .dataframe tbody tr th:only-of-type {\n",
       "        vertical-align: middle;\n",
       "    }\n",
       "\n",
       "    .dataframe tbody tr th {\n",
       "        vertical-align: top;\n",
       "    }\n",
       "\n",
       "    .dataframe thead th {\n",
       "        text-align: right;\n",
       "    }\n",
       "</style>\n",
       "<table border=\"1\" class=\"dataframe\">\n",
       "  <thead>\n",
       "    <tr style=\"text-align: right;\">\n",
       "      <th></th>\n",
       "      <th>brewery_location</th>\n",
       "    </tr>\n",
       "  </thead>\n",
       "  <tbody>\n",
       "    <tr>\n",
       "      <th>United States&lt;/a&gt; | &lt;a href=\"http://maps.google.com/maps?oi=map&amp;q=%2C+US\" target=\"_blank\"&gt;map&lt;/a&gt;&lt;br&gt;&lt;a href=\"http://shipyard.com\" target=\"_blank\"&gt;shipyard.com</th>\n",
       "      <td>5884</td>\n",
       "    </tr>\n",
       "    <tr>\n",
       "      <th>United States&lt;/a&gt; | &lt;a href=\"http://maps.google.com/maps?oi=map&amp;q=%2C+US\" target=\"_blank\"&gt;map&lt;/a&gt;&lt;br&gt;&lt;a href=\"http://mendobrew.com\" target=\"_blank\"&gt;mendobrew.com</th>\n",
       "      <td>4060</td>\n",
       "    </tr>\n",
       "    <tr>\n",
       "      <th>United States&lt;/a&gt; | &lt;a href=\"http://maps.google.com/maps?oi=map&amp;q=%2C+US\" target=\"_blank\"&gt;map&lt;/a&gt;&lt;br&gt;&lt;a href=\"http://thirstydog.com\" target=\"_blank\"&gt;thirstydog.com</th>\n",
       "      <td>3213</td>\n",
       "    </tr>\n",
       "    <tr>\n",
       "      <th>United States&lt;/a&gt; | &lt;a href=\"http://maps.google.com/maps?oi=map&amp;q=%2C+US\" target=\"_blank\"&gt;map&lt;/a&gt;&lt;br&gt;&lt;a href=\"http://rockbottom.com\" target=\"_blank\"&gt;rockbottom.com</th>\n",
       "      <td>2685</td>\n",
       "    </tr>\n",
       "    <tr>\n",
       "      <th>Utah&lt;/a&gt;&lt;br&gt;&lt;a href=\"http://utahbeers.com\" target=\"_blank\"&gt;utahbeers.com</th>\n",
       "      <td>2503</td>\n",
       "    </tr>\n",
       "    <tr>\n",
       "      <th>United States&lt;/a&gt; | &lt;a href=\"http://maps.google.com/maps?oi=map&amp;q=%2C+US\" target=\"_blank\"&gt;map&lt;/a&gt;&lt;br&gt;&lt;a href=\"http://ironhillbrewery.com\" target=\"_blank\"&gt;ironhillbrewery.com</th>\n",
       "      <td>2238</td>\n",
       "    </tr>\n",
       "    <tr>\n",
       "      <th>United States&lt;/a&gt; | &lt;a href=\"http://maps.google.com/maps?oi=map&amp;q=%2C+US\" target=\"_blank\"&gt;map&lt;/a&gt;&lt;br&gt;&lt;a href=\"http://seadogbrewing.com\" target=\"_blank\"&gt;seadogbrewing.com</th>\n",
       "      <td>1182</td>\n",
       "    </tr>\n",
       "    <tr>\n",
       "      <th>United States&lt;/a&gt; | &lt;a href=\"http://maps.google.com/maps?oi=map&amp;q=%2C+US\" target=\"_blank\"&gt;map&lt;/a&gt;&lt;br&gt;&lt;a href=\"http://sebagobrewing.com\" target=\"_blank\"&gt;sebagobrewing.com</th>\n",
       "      <td>1101</td>\n",
       "    </tr>\n",
       "    <tr>\n",
       "      <th>United States&lt;/a&gt; | &lt;a href=\"http://maps.google.com/maps?oi=map&amp;q=%2C+US\" target=\"_blank\"&gt;map&lt;/a&gt;&lt;br&gt;&lt;a href=\"http://gcfb.net\" target=\"_blank\"&gt;gcfb.net</th>\n",
       "      <td>386</td>\n",
       "    </tr>\n",
       "    <tr>\n",
       "      <th>United States&lt;/a&gt; | &lt;a href=\"http://maps.google.com/maps?oi=map&amp;q=%2C+US\" target=\"_blank\"&gt;map&lt;/a&gt;&lt;br&gt;&lt;a href=\"http://hopsonline.com\" target=\"_blank\"&gt;hopsonline.com</th>\n",
       "      <td>167</td>\n",
       "    </tr>\n",
       "    <tr>\n",
       "      <th>United States&lt;/a&gt; | &lt;a href=\"http://maps.google.com/maps?oi=map&amp;q=%2C+US\" target=\"_blank\"&gt;map&lt;/a&gt;&lt;br&gt;&lt;a href=\"http://herefordandhops.com\" target=\"_blank\"&gt;herefordandhops.com</th>\n",
       "      <td>117</td>\n",
       "    </tr>\n",
       "    <tr>\n",
       "      <th>United States&lt;/a&gt; | &lt;a href=\"http://maps.google.com/maps?oi=map&amp;q=%2C+US\" target=\"_blank\"&gt;map</th>\n",
       "      <td>104</td>\n",
       "    </tr>\n",
       "    <tr>\n",
       "      <th>United States&lt;/a&gt; | &lt;a href=\"http://maps.google.com/maps?oi=map&amp;q=%2C+US\" target=\"_blank\"&gt;map&lt;/a&gt;&lt;br&gt;&lt;a href=\"http://tiedhouse.com\" target=\"_blank\"&gt;tiedhouse.com</th>\n",
       "      <td>80</td>\n",
       "    </tr>\n",
       "    <tr>\n",
       "      <th>United States&lt;/a&gt; | &lt;a href=\"http://maps.google.com/maps?oi=map&amp;q=%2C+US\" target=\"_blank\"&gt;map&lt;/a&gt;&lt;br&gt;&lt;a href=\"http://steelheadbrewingco.com\" target=\"_blank\"&gt;steelheadbrewingco.com</th>\n",
       "      <td>79</td>\n",
       "    </tr>\n",
       "    <tr>\n",
       "      <th>United States&lt;/a&gt; | &lt;a href=\"http://maps.google.com/maps?oi=map&amp;q=%2C+US\" target=\"_blank\"&gt;map&lt;/a&gt;&lt;br&gt;&lt;a href=\"http://capcitybrew.com\" target=\"_blank\"&gt;capcitybrew.com</th>\n",
       "      <td>76</td>\n",
       "    </tr>\n",
       "    <tr>\n",
       "      <th>United States&lt;/a&gt; | &lt;a href=\"http://maps.google.com/maps?oi=map&amp;q=%2C+US\" target=\"_blank\"&gt;map&lt;/a&gt;&lt;br&gt;&lt;a href=\"http://theram.com\" target=\"_blank\"&gt;theram.com</th>\n",
       "      <td>68</td>\n",
       "    </tr>\n",
       "    <tr>\n",
       "      <th>Illinois&lt;/a&gt;, 60614-4939, &lt;a href=\"/place/directory/9/US/\"&gt;United States</th>\n",
       "      <td>50</td>\n",
       "    </tr>\n",
       "    <tr>\n",
       "      <th>United States&lt;/a&gt; | &lt;a href=\"http://maps.google.com/maps?oi=map&amp;q=%2C+US\" target=\"_blank\"&gt;map&lt;/a&gt;&lt;br&gt;&lt;a href=\"http://bigbuck.com\" target=\"_blank\"&gt;bigbuck.com</th>\n",
       "      <td>49</td>\n",
       "    </tr>\n",
       "    <tr>\n",
       "      <th>New York&lt;/a&gt;, 13057, &lt;a href=\"/place/directory/9/US/\"&gt;United States</th>\n",
       "      <td>32</td>\n",
       "    </tr>\n",
       "    <tr>\n",
       "      <th>United States&lt;/a&gt; | &lt;a href=\"http://maps.google.com/maps?oi=map&amp;q=%2C+US\" target=\"_blank\"&gt;map&lt;/a&gt;&lt;br&gt;&lt;a href=\"http://buckheadbrewery.com\" target=\"_blank\"&gt;buckheadbrewery.com</th>\n",
       "      <td>24</td>\n",
       "    </tr>\n",
       "    <tr>\n",
       "      <th>United States&lt;/a&gt; | &lt;a href=\"http://maps.google.com/maps?oi=map&amp;q=%2C+US\" target=\"_blank\"&gt;map&lt;/a&gt;&lt;br&gt;&lt;a href=\"http://eotrading.com\" target=\"_blank\"&gt;eotrading.com</th>\n",
       "      <td>13</td>\n",
       "    </tr>\n",
       "    <tr>\n",
       "      <th>United States&lt;/a&gt; | &lt;a href=\"http://maps.google.com/maps?oi=map&amp;q=%2C+US\" target=\"_blank\"&gt;map&lt;/a&gt;&lt;br&gt;&lt;a href=\"http://ilvicino.com\" target=\"_blank\"&gt;ilvicino.com</th>\n",
       "      <td>13</td>\n",
       "    </tr>\n",
       "    <tr>\n",
       "      <th>United States&lt;/a&gt; | &lt;a href=\"http://maps.google.com/maps?oi=map&amp;q=%2C+US\" target=\"_blank\"&gt;map&lt;/a&gt;&lt;br&gt;&lt;a href=\"http://bluecorncafe.com\" target=\"_blank\"&gt;bluecorncafe.com</th>\n",
       "      <td>4</td>\n",
       "    </tr>\n",
       "  </tbody>\n",
       "</table>\n",
       "</div>"
      ],
      "text/plain": [
       "                                                    brewery_location\n",
       "United States</a> | <a href=\"http://maps.google...              5884\n",
       "United States</a> | <a href=\"http://maps.google...              4060\n",
       "United States</a> | <a href=\"http://maps.google...              3213\n",
       "United States</a> | <a href=\"http://maps.google...              2685\n",
       "Utah</a><br><a href=\"http://utahbeers.com\" targ...              2503\n",
       "United States</a> | <a href=\"http://maps.google...              2238\n",
       "United States</a> | <a href=\"http://maps.google...              1182\n",
       "United States</a> | <a href=\"http://maps.google...              1101\n",
       "United States</a> | <a href=\"http://maps.google...               386\n",
       "United States</a> | <a href=\"http://maps.google...               167\n",
       "United States</a> | <a href=\"http://maps.google...               117\n",
       "United States</a> | <a href=\"http://maps.google...               104\n",
       "United States</a> | <a href=\"http://maps.google...                80\n",
       "United States</a> | <a href=\"http://maps.google...                79\n",
       "United States</a> | <a href=\"http://maps.google...                76\n",
       "United States</a> | <a href=\"http://maps.google...                68\n",
       "Illinois</a>, 60614-4939, <a href=\"/place/direc...                50\n",
       "United States</a> | <a href=\"http://maps.google...                49\n",
       "New York</a>, 13057, <a href=\"/place/directory/...                32\n",
       "United States</a> | <a href=\"http://maps.google...                24\n",
       "United States</a> | <a href=\"http://maps.google...                13\n",
       "United States</a> | <a href=\"http://maps.google...                13\n",
       "United States</a> | <a href=\"http://maps.google...                 4"
      ]
     },
     "metadata": {},
     "output_type": "display_data"
    }
   ],
   "source": [
    "BA_brewery_locations = pd.DataFrame(df_BA_reviews['brewery_location'].value_counts())\n",
    "BA_brewery_locations.loc[BA_brewery_locations.index.str.len()>40]"
   ]
  },
  {
   "cell_type": "markdown",
   "metadata": {},
   "source": [
    "So we convert these to their respective States in a manual way (by going to the referred links):"
   ]
  },
  {
   "cell_type": "code",
   "execution_count": null,
   "metadata": {},
   "outputs": [],
   "source": [
    "df_BA_reviews.loc[df_BA_reviews['brewery_location']=='United States</a> | <a href=\"http://maps.google.com/maps?oi=map&q=%2C+US\" target=\"_blank\">map</a><br><a href=\"http://thirstydog.com\" target=\"_blank\">thirstydog.com', 'brewery_location'] = 'United States, Ohio'\n",
    "df_BA_reviews.loc[df_BA_reviews['brewery_location']=='United States</a> | <a href=\"http://maps.google.com/maps?oi=map&q=%2C+US\" target=\"_blank\">map</a><br><a href=\"http://mendobrew.com\" target=\"_blank\">mendobrew.com', 'brewery_location'] = 'United States, California'\n",
    "df_BA_reviews.loc[df_BA_reviews['brewery_location']=='United States</a> | <a href=\"http://maps.google.com/maps?oi=map&q=%2C+US\" target=\"_blank\">map</a><br><a href=\"http://shipyard.com\" target=\"_blank\">shipyard.com', 'brewery_location'] = 'United States, Maine'\n",
    "df_BA_reviews.loc[df_BA_reviews['brewery_location']=='United States</a> | <a href=\"http://maps.google.com/maps?oi=map&q=%2C+US\" target=\"_blank\">map</a><br><a href=\"http://sebagobrewing.com\" target=\"_blank\">sebagobrewing.com', 'brewery_location'] = 'United States, Maine'\n",
    "df_BA_reviews.loc[df_BA_reviews['brewery_location']=='United States</a> | <a href=\"http://maps.google.com/maps?oi=map&q=%2C+US\" target=\"_blank\">map</a><br><a href=\"http://herefordandhops.com\" target=\"_blank\">herefordandhops.com', 'brewery_location'] = 'United States, Michigan'\n",
    "df_BA_reviews.loc[df_BA_reviews['brewery_location']=='United States</a> | <a href=\"http://maps.google.com/maps?oi=map&q=%2C+US\" target=\"_blank\">map</a><br><a href=\"http://steelheadbrewingco.com\" target=\"_blank\">steelheadbrewingco.com', 'brewery_location'] = 'United States, Oregon'\n",
    "df_BA_reviews.loc[df_BA_reviews['brewery_location']=='United States</a> | <a href=\"http://maps.google.com/maps?oi=map&q=%2C+US\" target=\"_blank\">map</a><br><a href=\"http://bigbuck.com\" target=\"_blank\">bigbuck.com', 'brewery_location'] = 'United States, Michigan'\n",
    "df_BA_reviews.loc[df_BA_reviews['brewery_location']=='United States</a> | <a href=\"http://maps.google.com/maps?oi=map&q=%2C+US\" target=\"_blank\">map</a><br><a href=\"http://bluecorncafe.com\" target=\"_blank\">bluecorncafe.com', 'brewery_location'] = 'United States, New Mexico'\n",
    "df_BA_reviews.loc[df_BA_reviews['brewery_location']=='United States</a> | <a href=\"http://maps.google.com/maps?oi=map&q=%2C+US\" target=\"_blank\">map</a><br><a href=\"http://capcitybrew.com\" target=\"_blank\">capcitybrew.com', 'brewery_location'] = 'United States, Washington'\n",
    "\n",
    "\n",
    "df_BA_reviews.loc[df_BA_reviews['brewery_location']=='Utah</a><br><a href=\"http://utahbeers.com\" target=\"_blank\">utahbeers.com', 'brewery_location'] = 'United States, Utah'\n",
    "df_BA_reviews.loc[df_BA_reviews['brewery_location']=='Illinois</a>, 60614-4939, <a href=\"/place/directory/9/US/\">United States', 'brewery_location'] = 'United States, Illinois'\n",
    "df_BA_reviews.loc[df_BA_reviews['brewery_location']=='New York</a>, 13057, <a href=\"/place/directory/9/US/\">United States', 'brewery_location'] = 'United States, New York'"
   ]
  },
  {
   "cell_type": "markdown",
   "metadata": {},
   "source": [
    "We re-run the following command because some of the links that were converted above didn't start wiht 'United States', but with the State name:"
   ]
  },
  {
   "cell_type": "code",
   "execution_count": null,
   "metadata": {},
   "outputs": [],
   "source": [
    "df_BA_reviews.loc[(df_BA_reviews['brewery_location'].str.startswith('United States')), 'brewery_merged_location'] = 'United States'"
   ]
  },
  {
   "cell_type": "markdown",
   "metadata": {},
   "source": [
    "However there are some links (which have not been converted into their respective locations above) which refer to breweries that have many locations across many states in the US so we decided to change their location to 'United States, Different States'. Those are the following links:"
   ]
  },
  {
   "cell_type": "code",
   "execution_count": null,
   "metadata": {},
   "outputs": [
    {
     "data": {
      "text/html": [
       "<div>\n",
       "<style scoped>\n",
       "    .dataframe tbody tr th:only-of-type {\n",
       "        vertical-align: middle;\n",
       "    }\n",
       "\n",
       "    .dataframe tbody tr th {\n",
       "        vertical-align: top;\n",
       "    }\n",
       "\n",
       "    .dataframe thead th {\n",
       "        text-align: right;\n",
       "    }\n",
       "</style>\n",
       "<table border=\"1\" class=\"dataframe\">\n",
       "  <thead>\n",
       "    <tr style=\"text-align: right;\">\n",
       "      <th></th>\n",
       "      <th>brewery_location</th>\n",
       "    </tr>\n",
       "  </thead>\n",
       "  <tbody>\n",
       "    <tr>\n",
       "      <th>United States&lt;/a&gt; | &lt;a href=\"http://maps.google.com/maps?oi=map&amp;q=%2C+US\" target=\"_blank\"&gt;map&lt;/a&gt;&lt;br&gt;&lt;a href=\"http://rockbottom.com\" target=\"_blank\"&gt;rockbottom.com</th>\n",
       "      <td>2685</td>\n",
       "    </tr>\n",
       "    <tr>\n",
       "      <th>United States&lt;/a&gt; | &lt;a href=\"http://maps.google.com/maps?oi=map&amp;q=%2C+US\" target=\"_blank\"&gt;map&lt;/a&gt;&lt;br&gt;&lt;a href=\"http://ironhillbrewery.com\" target=\"_blank\"&gt;ironhillbrewery.com</th>\n",
       "      <td>2238</td>\n",
       "    </tr>\n",
       "    <tr>\n",
       "      <th>United States&lt;/a&gt; | &lt;a href=\"http://maps.google.com/maps?oi=map&amp;q=%2C+US\" target=\"_blank\"&gt;map&lt;/a&gt;&lt;br&gt;&lt;a href=\"http://seadogbrewing.com\" target=\"_blank\"&gt;seadogbrewing.com</th>\n",
       "      <td>1182</td>\n",
       "    </tr>\n",
       "    <tr>\n",
       "      <th>United States&lt;/a&gt; | &lt;a href=\"http://maps.google.com/maps?oi=map&amp;q=%2C+US\" target=\"_blank\"&gt;map&lt;/a&gt;&lt;br&gt;&lt;a href=\"http://gcfb.net\" target=\"_blank\"&gt;gcfb.net</th>\n",
       "      <td>386</td>\n",
       "    </tr>\n",
       "    <tr>\n",
       "      <th>United States&lt;/a&gt; | &lt;a href=\"http://maps.google.com/maps?oi=map&amp;q=%2C+US\" target=\"_blank\"&gt;map&lt;/a&gt;&lt;br&gt;&lt;a href=\"http://hopsonline.com\" target=\"_blank\"&gt;hopsonline.com</th>\n",
       "      <td>167</td>\n",
       "    </tr>\n",
       "    <tr>\n",
       "      <th>United States&lt;/a&gt; | &lt;a href=\"http://maps.google.com/maps?oi=map&amp;q=%2C+US\" target=\"_blank\"&gt;map</th>\n",
       "      <td>104</td>\n",
       "    </tr>\n",
       "    <tr>\n",
       "      <th>United States&lt;/a&gt; | &lt;a href=\"http://maps.google.com/maps?oi=map&amp;q=%2C+US\" target=\"_blank\"&gt;map&lt;/a&gt;&lt;br&gt;&lt;a href=\"http://tiedhouse.com\" target=\"_blank\"&gt;tiedhouse.com</th>\n",
       "      <td>80</td>\n",
       "    </tr>\n",
       "    <tr>\n",
       "      <th>United States&lt;/a&gt; | &lt;a href=\"http://maps.google.com/maps?oi=map&amp;q=%2C+US\" target=\"_blank\"&gt;map&lt;/a&gt;&lt;br&gt;&lt;a href=\"http://theram.com\" target=\"_blank\"&gt;theram.com</th>\n",
       "      <td>68</td>\n",
       "    </tr>\n",
       "    <tr>\n",
       "      <th>United States&lt;/a&gt; | &lt;a href=\"http://maps.google.com/maps?oi=map&amp;q=%2C+US\" target=\"_blank\"&gt;map&lt;/a&gt;&lt;br&gt;&lt;a href=\"http://buckheadbrewery.com\" target=\"_blank\"&gt;buckheadbrewery.com</th>\n",
       "      <td>24</td>\n",
       "    </tr>\n",
       "    <tr>\n",
       "      <th>United States&lt;/a&gt; | &lt;a href=\"http://maps.google.com/maps?oi=map&amp;q=%2C+US\" target=\"_blank\"&gt;map&lt;/a&gt;&lt;br&gt;&lt;a href=\"http://eotrading.com\" target=\"_blank\"&gt;eotrading.com</th>\n",
       "      <td>13</td>\n",
       "    </tr>\n",
       "    <tr>\n",
       "      <th>United States&lt;/a&gt; | &lt;a href=\"http://maps.google.com/maps?oi=map&amp;q=%2C+US\" target=\"_blank\"&gt;map&lt;/a&gt;&lt;br&gt;&lt;a href=\"http://ilvicino.com\" target=\"_blank\"&gt;ilvicino.com</th>\n",
       "      <td>13</td>\n",
       "    </tr>\n",
       "  </tbody>\n",
       "</table>\n",
       "</div>"
      ],
      "text/plain": [
       "                                                    brewery_location\n",
       "United States</a> | <a href=\"http://maps.google...              2685\n",
       "United States</a> | <a href=\"http://maps.google...              2238\n",
       "United States</a> | <a href=\"http://maps.google...              1182\n",
       "United States</a> | <a href=\"http://maps.google...               386\n",
       "United States</a> | <a href=\"http://maps.google...               167\n",
       "United States</a> | <a href=\"http://maps.google...               104\n",
       "United States</a> | <a href=\"http://maps.google...                80\n",
       "United States</a> | <a href=\"http://maps.google...                68\n",
       "United States</a> | <a href=\"http://maps.google...                24\n",
       "United States</a> | <a href=\"http://maps.google...                13\n",
       "United States</a> | <a href=\"http://maps.google...                13"
      ]
     },
     "metadata": {},
     "output_type": "display_data"
    }
   ],
   "source": [
    "BA_brewery_locations = pd.DataFrame(df_BA_reviews['brewery_location'].value_counts())\n",
    "BA_brewery_locations.loc[BA_brewery_locations.index.str.len()>40]"
   ]
  },
  {
   "cell_type": "code",
   "execution_count": null,
   "metadata": {},
   "outputs": [],
   "source": [
    "df_BA_reviews.loc[df_BA_reviews['brewery_location'].str.startswith('United States</a>'), 'brewery_location']='United States, Different States'"
   ]
  },
  {
   "attachments": {},
   "cell_type": "markdown",
   "metadata": {},
   "source": [
    "### Normalizing all ratings in a scale of 5"
   ]
  },
  {
   "cell_type": "code",
   "execution_count": null,
   "metadata": {},
   "outputs": [],
   "source": [
    "df_BA_scaled = df_BA_reviews\n",
    "\n",
    "df_RB_reviews['aroma'] = df_RB_reviews['aroma'].transform(lambda x: x/2)\n",
    "df_RB_reviews['taste'] = df_RB_reviews['taste'].transform(lambda x: x/2)\n",
    "df_RB_reviews['overall'] = df_RB_reviews['overall'].transform(lambda x: x/4)\n",
    "# appearance is already with the correct scale\n",
    "\n",
    "\n",
    "df_RB_scaled = df_RB_reviews"
   ]
  },
  {
   "cell_type": "markdown",
   "metadata": {},
   "source": [
    "## Saving the now pre-processed data:"
   ]
  },
  {
   "cell_type": "markdown",
   "metadata": {},
   "source": [
    "To avoid doing these heavy computations (each take a long time) several times, we saved those dataframes as mentionned earlier; <br>"
   ]
  },
  {
   "cell_type": "code",
   "execution_count": null,
   "metadata": {},
   "outputs": [
    {
     "ename": "",
     "evalue": "",
     "output_type": "error",
     "traceback": [
      "\u001b[1;31mThe Kernel crashed while executing code in the the current cell or a previous cell. Please review the code in the cell(s) to identify a possible cause of the failure. Click <a href='https://aka.ms/vscodeJupyterKernelCrash'>here</a> for more info. View Jupyter <a href='command:jupyter.viewOutput'>log</a> for further details."
     ]
    }
   ],
   "source": [
    "#Do that only once. Stores the dataframes so that we can access them more easily next time and have to do the data preprocessing only once\n",
    "df_BA_reviews.to_csv(PATH+'/DataframeStorage/df_BA_reviews.csv', columns=['beer_name', 'beer_id', 'brewery_name', 'brewery_id', 'style', 'abv', 'date', 'user_name', 'user_id', 'appearance', 'aroma', 'palate', 'taste', 'overall', 'rating', 'text', 'brewery_location', 'brewery_merged_location', 'user_location', 'user_merged_location'], index=False)"
   ]
  },
  {
   "cell_type": "code",
   "execution_count": null,
   "metadata": {},
   "outputs": [],
   "source": [
    "df_RB_reviews.to_csv(PATH+'/DataframeStorage/df_RB_reviews.csv', columns=['beer_name', 'beer_id', 'brewery_name', 'brewery_id', 'style', 'abv', 'date', 'user_name', 'user_id', 'appearance', 'aroma', 'palate', 'taste', 'overall', 'rating', 'text', 'brewery_location', 'brewery_merged_location', 'user_location', 'user_merged_location'], index=False)"
   ]
  },
  {
   "cell_type": "code",
   "execution_count": null,
   "metadata": {},
   "outputs": [],
   "source": [
    "df_reviews_all = pd.concat([df_BA_reviews, df_RB_reviews], axis=0)\n",
    "\n",
    "df_reviews_all.to_csv(PATH+'/DataframeStorage/df_reviews_all.csv', columns=['beer_name', 'beer_id', 'brewery_name', 'brewery_id', 'style', 'abv', 'date', 'user_name', 'user_id', 'appearance', 'aroma', 'palate', 'taste', 'overall', 'rating', 'text', 'brewery_location', 'brewery_merged_location', 'user_location', 'user_merged_location'], index=False)"
   ]
  },
  {
   "cell_type": "code",
   "execution_count": null,
   "metadata": {},
   "outputs": [],
   "source": [
    "df_all_scaled = pd.concat([df_BA_scaled, df_RB_scaled], axis=0)\n",
    "\n",
    "df_all_scaled.to_csv('DataframeStorage/df_all_scaled.csv', columns=['beer_name', 'beer_id', 'brewery_name', 'brewery_id', 'style', 'abv', 'date', 'user_name', 'user_id', 'appearance', 'aroma', 'palate', 'taste', 'overall', 'rating', 'text', 'brewery_location', 'brewery_merged_location', 'user_location', 'user_merged_location'], index=False)"
   ]
  }
 ],
 "metadata": {
  "kernelspec": {
   "display_name": "Python 3",
   "language": "python",
   "name": "python3"
  },
  "language_info": {
   "codemirror_mode": {
    "name": "ipython",
    "version": 3
   },
   "file_extension": ".py",
   "mimetype": "text/x-python",
   "name": "python",
   "nbconvert_exporter": "python",
   "pygments_lexer": "ipython3",
   "version": "3.9.6 (default, Oct 18 2022, 12:41:40) \n[Clang 14.0.0 (clang-1400.0.29.202)]"
  },
  "orig_nbformat": 4,
  "vscode": {
   "interpreter": {
    "hash": "31f2aee4e71d21fbe5cf8b01ff0e069b9275f58929596ceb00d14d90e3e16cd6"
   }
  }
 },
 "nbformat": 4,
 "nbformat_minor": 2
}
