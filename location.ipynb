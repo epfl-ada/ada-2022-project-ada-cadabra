{
 "cells": [
  {
   "cell_type": "markdown",
   "metadata": {},
   "source": [
    "## Is a good beer a good beer everywhere?"
   ]
  },
  {
   "cell_type": "markdown",
   "metadata": {},
   "source": [
    "How do liked beers differ locally and globally (maybe choose the most “important” beers and show on the map in different colors/shadings how popular they are in the different states)?"
   ]
  },
  {
   "cell_type": "code",
   "execution_count": 1,
   "metadata": {},
   "outputs": [],
   "source": [
    "import pandas as pd\n",
    "import numpy as np\n",
    "import gzip #to read gzip files\n",
    "import matplotlib.pyplot as plt\n",
    "import datetime"
   ]
  },
  {
   "cell_type": "markdown",
   "metadata": {},
   "source": [
    "### Data extraction from the different rating websites (beers, breweries and users)"
   ]
  },
  {
   "cell_type": "code",
   "execution_count": 2,
   "metadata": {},
   "outputs": [],
   "source": [
    "PATH = '../'"
   ]
  },
  {
   "cell_type": "code",
   "execution_count": 3,
   "metadata": {},
   "outputs": [
    {
     "data": {
      "text/html": [
       "<div>\n",
       "<style scoped>\n",
       "    .dataframe tbody tr th:only-of-type {\n",
       "        vertical-align: middle;\n",
       "    }\n",
       "\n",
       "    .dataframe tbody tr th {\n",
       "        vertical-align: top;\n",
       "    }\n",
       "\n",
       "    .dataframe thead th {\n",
       "        text-align: right;\n",
       "    }\n",
       "</style>\n",
       "<table border=\"1\" class=\"dataframe\">\n",
       "  <thead>\n",
       "    <tr style=\"text-align: right;\">\n",
       "      <th></th>\n",
       "      <th>beer_name</th>\n",
       "      <th>brewery_id</th>\n",
       "      <th>brewery_name</th>\n",
       "      <th>style</th>\n",
       "      <th>nbr_ratings</th>\n",
       "      <th>nbr_reviews</th>\n",
       "      <th>avg</th>\n",
       "      <th>ba_score</th>\n",
       "      <th>bros_score</th>\n",
       "      <th>abv</th>\n",
       "      <th>avg_computed</th>\n",
       "      <th>zscore</th>\n",
       "      <th>nbr_matched_valid_ratings</th>\n",
       "      <th>avg_matched_valid_ratings</th>\n",
       "    </tr>\n",
       "    <tr>\n",
       "      <th>beer_id</th>\n",
       "      <th></th>\n",
       "      <th></th>\n",
       "      <th></th>\n",
       "      <th></th>\n",
       "      <th></th>\n",
       "      <th></th>\n",
       "      <th></th>\n",
       "      <th></th>\n",
       "      <th></th>\n",
       "      <th></th>\n",
       "      <th></th>\n",
       "      <th></th>\n",
       "      <th></th>\n",
       "      <th></th>\n",
       "    </tr>\n",
       "  </thead>\n",
       "  <tbody>\n",
       "    <tr>\n",
       "      <th>166064</th>\n",
       "      <td>Nashe Moskovskoe</td>\n",
       "      <td>39912</td>\n",
       "      <td>Abdysh-Ata (Абдыш Ата)</td>\n",
       "      <td>Euro Pale Lager</td>\n",
       "      <td>0</td>\n",
       "      <td>0</td>\n",
       "      <td>NaN</td>\n",
       "      <td>NaN</td>\n",
       "      <td>NaN</td>\n",
       "      <td>4.7</td>\n",
       "      <td>NaN</td>\n",
       "      <td>NaN</td>\n",
       "      <td>0</td>\n",
       "      <td>NaN</td>\n",
       "    </tr>\n",
       "    <tr>\n",
       "      <th>166065</th>\n",
       "      <td>Nashe Pivovskoe</td>\n",
       "      <td>39912</td>\n",
       "      <td>Abdysh-Ata (Абдыш Ата)</td>\n",
       "      <td>Euro Pale Lager</td>\n",
       "      <td>0</td>\n",
       "      <td>0</td>\n",
       "      <td>NaN</td>\n",
       "      <td>NaN</td>\n",
       "      <td>NaN</td>\n",
       "      <td>3.8</td>\n",
       "      <td>NaN</td>\n",
       "      <td>NaN</td>\n",
       "      <td>0</td>\n",
       "      <td>NaN</td>\n",
       "    </tr>\n",
       "  </tbody>\n",
       "</table>\n",
       "</div>"
      ],
      "text/plain": [
       "                beer_name  brewery_id            brewery_name  \\\n",
       "beer_id                                                         \n",
       "166064   Nashe Moskovskoe       39912  Abdysh-Ata (Абдыш Ата)   \n",
       "166065    Nashe Pivovskoe       39912  Abdysh-Ata (Абдыш Ата)   \n",
       "\n",
       "                   style  nbr_ratings  nbr_reviews  avg  ba_score  bros_score  \\\n",
       "beer_id                                                                         \n",
       "166064   Euro Pale Lager            0            0  NaN       NaN         NaN   \n",
       "166065   Euro Pale Lager            0            0  NaN       NaN         NaN   \n",
       "\n",
       "         abv  avg_computed  zscore  nbr_matched_valid_ratings  \\\n",
       "beer_id                                                         \n",
       "166064   4.7           NaN     NaN                          0   \n",
       "166065   3.8           NaN     NaN                          0   \n",
       "\n",
       "         avg_matched_valid_ratings  \n",
       "beer_id                             \n",
       "166064                         NaN  \n",
       "166065                         NaN  "
      ]
     },
     "execution_count": 3,
     "metadata": {},
     "output_type": "execute_result"
    }
   ],
   "source": [
    "BA_beers = pd.read_csv(PATH+'BeerAdvocate/beers.csv', index_col='beer_id')\n",
    "BA_beers.head(2)"
   ]
  },
  {
   "cell_type": "code",
   "execution_count": 4,
   "metadata": {},
   "outputs": [
    {
     "data": {
      "text/html": [
       "<div>\n",
       "<style scoped>\n",
       "    .dataframe tbody tr th:only-of-type {\n",
       "        vertical-align: middle;\n",
       "    }\n",
       "\n",
       "    .dataframe tbody tr th {\n",
       "        vertical-align: top;\n",
       "    }\n",
       "\n",
       "    .dataframe thead th {\n",
       "        text-align: right;\n",
       "    }\n",
       "</style>\n",
       "<table border=\"1\" class=\"dataframe\">\n",
       "  <thead>\n",
       "    <tr style=\"text-align: right;\">\n",
       "      <th></th>\n",
       "      <th>abv</th>\n",
       "      <th>avg</th>\n",
       "      <th>avg_computed</th>\n",
       "      <th>avg_matched_valid_ratings</th>\n",
       "      <th>ba_score</th>\n",
       "      <th>beer_id</th>\n",
       "      <th>beer_name</th>\n",
       "      <th>beer_wout_brewery_name</th>\n",
       "      <th>brewery_id</th>\n",
       "      <th>brewery_name</th>\n",
       "      <th>...</th>\n",
       "      <th>brewery_id.1</th>\n",
       "      <th>brewery_name.1</th>\n",
       "      <th>nbr_matched_valid_ratings.1</th>\n",
       "      <th>nbr_ratings.1</th>\n",
       "      <th>overall_score</th>\n",
       "      <th>style.1</th>\n",
       "      <th>style_score</th>\n",
       "      <th>zscore.1</th>\n",
       "      <th>diff</th>\n",
       "      <th>sim</th>\n",
       "    </tr>\n",
       "  </thead>\n",
       "  <tbody>\n",
       "    <tr>\n",
       "      <th>0</th>\n",
       "      <td>4.8</td>\n",
       "      <td>3.45</td>\n",
       "      <td>3.439867</td>\n",
       "      <td>3.504068</td>\n",
       "      <td>80.0</td>\n",
       "      <td>19827</td>\n",
       "      <td>Legbiter</td>\n",
       "      <td>Legbiter</td>\n",
       "      <td>10093</td>\n",
       "      <td>Strangford Lough Brewing Company Ltd</td>\n",
       "      <td>...</td>\n",
       "      <td>4959</td>\n",
       "      <td>Strangford Lough</td>\n",
       "      <td>89</td>\n",
       "      <td>89</td>\n",
       "      <td>23.0</td>\n",
       "      <td>Golden Ale/Blond Ale</td>\n",
       "      <td>27.0</td>\n",
       "      <td>-0.698304</td>\n",
       "      <td>1.000000</td>\n",
       "      <td>1.0</td>\n",
       "    </tr>\n",
       "    <tr>\n",
       "      <th>1</th>\n",
       "      <td>6.0</td>\n",
       "      <td>3.86</td>\n",
       "      <td>3.888750</td>\n",
       "      <td>3.768333</td>\n",
       "      <td>NaN</td>\n",
       "      <td>20841</td>\n",
       "      <td>St. Patrick's Ale</td>\n",
       "      <td>Patricks Ale St</td>\n",
       "      <td>10093</td>\n",
       "      <td>Strangford Lough Brewing Company Ltd</td>\n",
       "      <td>...</td>\n",
       "      <td>4959</td>\n",
       "      <td>Strangford Lough</td>\n",
       "      <td>11</td>\n",
       "      <td>11</td>\n",
       "      <td>52.0</td>\n",
       "      <td>Irish Ale</td>\n",
       "      <td>79.0</td>\n",
       "      <td>0.005754</td>\n",
       "      <td>0.527141</td>\n",
       "      <td>1.0</td>\n",
       "    </tr>\n",
       "  </tbody>\n",
       "</table>\n",
       "<p>2 rows × 33 columns</p>\n",
       "</div>"
      ],
      "text/plain": [
       "   abv   avg  avg_computed  avg_matched_valid_ratings  ba_score  beer_id  \\\n",
       "0  4.8  3.45      3.439867                   3.504068      80.0    19827   \n",
       "1  6.0  3.86      3.888750                   3.768333       NaN    20841   \n",
       "\n",
       "           beer_name beer_wout_brewery_name  brewery_id  \\\n",
       "0           Legbiter               Legbiter       10093   \n",
       "1  St. Patrick's Ale        Patricks Ale St       10093   \n",
       "\n",
       "                           brewery_name  ...  brewery_id.1    brewery_name.1  \\\n",
       "0  Strangford Lough Brewing Company Ltd  ...          4959  Strangford Lough   \n",
       "1  Strangford Lough Brewing Company Ltd  ...          4959  Strangford Lough   \n",
       "\n",
       "   nbr_matched_valid_ratings.1  nbr_ratings.1 overall_score  \\\n",
       "0                           89             89          23.0   \n",
       "1                           11             11          52.0   \n",
       "\n",
       "                style.1  style_score  zscore.1      diff  sim  \n",
       "0  Golden Ale/Blond Ale         27.0 -0.698304  1.000000  1.0  \n",
       "1             Irish Ale         79.0  0.005754  0.527141  1.0  \n",
       "\n",
       "[2 rows x 33 columns]"
      ]
     },
     "execution_count": 4,
     "metadata": {},
     "output_type": "execute_result"
    }
   ],
   "source": [
    "matched_beers = pd.read_csv(PATH+'matched_beer_data/beers.csv', header=1)\n",
    "matched_beers.head(2)"
   ]
  },
  {
   "cell_type": "code",
   "execution_count": 5,
   "metadata": {},
   "outputs": [
    {
     "data": {
      "text/html": [
       "<div>\n",
       "<style scoped>\n",
       "    .dataframe tbody tr th:only-of-type {\n",
       "        vertical-align: middle;\n",
       "    }\n",
       "\n",
       "    .dataframe tbody tr th {\n",
       "        vertical-align: top;\n",
       "    }\n",
       "\n",
       "    .dataframe thead th {\n",
       "        text-align: right;\n",
       "    }\n",
       "</style>\n",
       "<table border=\"1\" class=\"dataframe\">\n",
       "  <thead>\n",
       "    <tr style=\"text-align: right;\">\n",
       "      <th></th>\n",
       "      <th>location</th>\n",
       "      <th>name</th>\n",
       "      <th>nbr_beers</th>\n",
       "    </tr>\n",
       "    <tr>\n",
       "      <th>id</th>\n",
       "      <th></th>\n",
       "      <th></th>\n",
       "      <th></th>\n",
       "    </tr>\n",
       "  </thead>\n",
       "  <tbody>\n",
       "    <tr>\n",
       "      <th>39912</th>\n",
       "      <td>Kyrgyzstan</td>\n",
       "      <td>Abdysh-Ata (Абдыш Ата)</td>\n",
       "      <td>5</td>\n",
       "    </tr>\n",
       "    <tr>\n",
       "      <th>39913</th>\n",
       "      <td>Kyrgyzstan</td>\n",
       "      <td>Arpa (АРПА)</td>\n",
       "      <td>1</td>\n",
       "    </tr>\n",
       "  </tbody>\n",
       "</table>\n",
       "</div>"
      ],
      "text/plain": [
       "         location                    name  nbr_beers\n",
       "id                                                  \n",
       "39912  Kyrgyzstan  Abdysh-Ata (Абдыш Ата)          5\n",
       "39913  Kyrgyzstan             Arpa (АРПА)          1"
      ]
     },
     "execution_count": 5,
     "metadata": {},
     "output_type": "execute_result"
    }
   ],
   "source": [
    "BA_breweries = pd.read_csv(PATH+'BeerAdvocate/breweries.csv', index_col='id')\n",
    "BA_breweries.head(2)"
   ]
  },
  {
   "cell_type": "code",
   "execution_count": 6,
   "metadata": {},
   "outputs": [
    {
     "data": {
      "text/html": [
       "<div>\n",
       "<style scoped>\n",
       "    .dataframe tbody tr th:only-of-type {\n",
       "        vertical-align: middle;\n",
       "    }\n",
       "\n",
       "    .dataframe tbody tr th {\n",
       "        vertical-align: top;\n",
       "    }\n",
       "\n",
       "    .dataframe thead th {\n",
       "        text-align: right;\n",
       "    }\n",
       "</style>\n",
       "<table border=\"1\" class=\"dataframe\">\n",
       "  <thead>\n",
       "    <tr style=\"text-align: right;\">\n",
       "      <th></th>\n",
       "      <th>location</th>\n",
       "      <th>name</th>\n",
       "      <th>nbr_beers</th>\n",
       "    </tr>\n",
       "    <tr>\n",
       "      <th>id</th>\n",
       "      <th></th>\n",
       "      <th></th>\n",
       "      <th></th>\n",
       "    </tr>\n",
       "  </thead>\n",
       "  <tbody>\n",
       "    <tr>\n",
       "      <th>3198</th>\n",
       "      <td>Gabon</td>\n",
       "      <td>Sobraga</td>\n",
       "      <td>3</td>\n",
       "    </tr>\n",
       "    <tr>\n",
       "      <th>13538</th>\n",
       "      <td>Northern Ireland</td>\n",
       "      <td>Ards Brewing Co.</td>\n",
       "      <td>13</td>\n",
       "    </tr>\n",
       "  </tbody>\n",
       "</table>\n",
       "</div>"
      ],
      "text/plain": [
       "               location              name  nbr_beers\n",
       "id                                                  \n",
       "3198              Gabon           Sobraga          3\n",
       "13538  Northern Ireland  Ards Brewing Co.         13"
      ]
     },
     "execution_count": 6,
     "metadata": {},
     "output_type": "execute_result"
    }
   ],
   "source": [
    "RB_breweries = pd.read_csv(PATH+'RateBeer/breweries.csv', index_col= 'id')\n",
    "RB_breweries.head(2)"
   ]
  },
  {
   "cell_type": "code",
   "execution_count": 7,
   "metadata": {},
   "outputs": [
    {
     "data": {
      "text/html": [
       "<div>\n",
       "<style scoped>\n",
       "    .dataframe tbody tr th:only-of-type {\n",
       "        vertical-align: middle;\n",
       "    }\n",
       "\n",
       "    .dataframe tbody tr th {\n",
       "        vertical-align: top;\n",
       "    }\n",
       "\n",
       "    .dataframe thead th {\n",
       "        text-align: right;\n",
       "    }\n",
       "</style>\n",
       "<table border=\"1\" class=\"dataframe\">\n",
       "  <thead>\n",
       "    <tr style=\"text-align: right;\">\n",
       "      <th></th>\n",
       "      <th>id</th>\n",
       "      <th>location</th>\n",
       "      <th>name</th>\n",
       "      <th>nbr_beers</th>\n",
       "      <th>id.1</th>\n",
       "      <th>location.1</th>\n",
       "      <th>name.1</th>\n",
       "      <th>nbr_beers.1</th>\n",
       "      <th>diff</th>\n",
       "      <th>sim</th>\n",
       "    </tr>\n",
       "  </thead>\n",
       "  <tbody>\n",
       "    <tr>\n",
       "      <th>0</th>\n",
       "      <td>10093</td>\n",
       "      <td>Northern Ireland</td>\n",
       "      <td>Strangford Lough Brewing Company Ltd</td>\n",
       "      <td>5</td>\n",
       "      <td>4959</td>\n",
       "      <td>Northern Ireland</td>\n",
       "      <td>Strangford Lough</td>\n",
       "      <td>5</td>\n",
       "      <td>0.431275</td>\n",
       "      <td>0.889062</td>\n",
       "    </tr>\n",
       "    <tr>\n",
       "      <th>1</th>\n",
       "      <td>32848</td>\n",
       "      <td>Northern Ireland</td>\n",
       "      <td>The Sheelin Brewery</td>\n",
       "      <td>4</td>\n",
       "      <td>17616</td>\n",
       "      <td>Northern Ireland</td>\n",
       "      <td>Sheelin</td>\n",
       "      <td>2</td>\n",
       "      <td>0.526388</td>\n",
       "      <td>0.863596</td>\n",
       "    </tr>\n",
       "  </tbody>\n",
       "</table>\n",
       "</div>"
      ],
      "text/plain": [
       "      id          location                                  name  nbr_beers  \\\n",
       "0  10093  Northern Ireland  Strangford Lough Brewing Company Ltd          5   \n",
       "1  32848  Northern Ireland                   The Sheelin Brewery          4   \n",
       "\n",
       "    id.1        location.1            name.1  nbr_beers.1      diff       sim  \n",
       "0   4959  Northern Ireland  Strangford Lough            5  0.431275  0.889062  \n",
       "1  17616  Northern Ireland           Sheelin            2  0.526388  0.863596  "
      ]
     },
     "execution_count": 7,
     "metadata": {},
     "output_type": "execute_result"
    }
   ],
   "source": [
    "matched_breweries = pd.read_csv(PATH+'matched_beer_data/breweries.csv', header=1)\n",
    "matched_breweries.head(2)"
   ]
  },
  {
   "cell_type": "code",
   "execution_count": 8,
   "metadata": {},
   "outputs": [
    {
     "data": {
      "text/html": [
       "<div>\n",
       "<style scoped>\n",
       "    .dataframe tbody tr th:only-of-type {\n",
       "        vertical-align: middle;\n",
       "    }\n",
       "\n",
       "    .dataframe tbody tr th {\n",
       "        vertical-align: top;\n",
       "    }\n",
       "\n",
       "    .dataframe thead th {\n",
       "        text-align: right;\n",
       "    }\n",
       "</style>\n",
       "<table border=\"1\" class=\"dataframe\">\n",
       "  <thead>\n",
       "    <tr style=\"text-align: right;\">\n",
       "      <th></th>\n",
       "      <th>nbr_ratings</th>\n",
       "      <th>nbr_reviews</th>\n",
       "      <th>user_name</th>\n",
       "      <th>joined</th>\n",
       "      <th>location</th>\n",
       "    </tr>\n",
       "    <tr>\n",
       "      <th>user_id</th>\n",
       "      <th></th>\n",
       "      <th></th>\n",
       "      <th></th>\n",
       "      <th></th>\n",
       "      <th></th>\n",
       "    </tr>\n",
       "  </thead>\n",
       "  <tbody>\n",
       "    <tr>\n",
       "      <th>nmann08.184925</th>\n",
       "      <td>7820</td>\n",
       "      <td>465</td>\n",
       "      <td>nmann08</td>\n",
       "      <td>2008-01-07 11:00:00</td>\n",
       "      <td>United States, Washington</td>\n",
       "    </tr>\n",
       "    <tr>\n",
       "      <th>stjamesgate.163714</th>\n",
       "      <td>2521</td>\n",
       "      <td>2504</td>\n",
       "      <td>StJamesGate</td>\n",
       "      <td>2007-10-08 10:00:00</td>\n",
       "      <td>United States, New York</td>\n",
       "    </tr>\n",
       "  </tbody>\n",
       "</table>\n",
       "</div>"
      ],
      "text/plain": [
       "                    nbr_ratings  nbr_reviews    user_name              joined  \\\n",
       "user_id                                                                         \n",
       "nmann08.184925             7820          465      nmann08 2008-01-07 11:00:00   \n",
       "stjamesgate.163714         2521         2504  StJamesGate 2007-10-08 10:00:00   \n",
       "\n",
       "                                     location  \n",
       "user_id                                        \n",
       "nmann08.184925      United States, Washington  \n",
       "stjamesgate.163714    United States, New York  "
      ]
     },
     "execution_count": 8,
     "metadata": {},
     "output_type": "execute_result"
    }
   ],
   "source": [
    "BA_users = pd.read_csv(PATH+'BeerAdvocate/users.csv', index_col= 'user_id')\n",
    "BA_users['joined'] = pd.to_datetime(BA_users['joined'],unit = 's')\n",
    "BA_users.head(2)"
   ]
  },
  {
   "cell_type": "code",
   "execution_count": 9,
   "metadata": {},
   "outputs": [
    {
     "data": {
      "text/html": [
       "<div>\n",
       "<style scoped>\n",
       "    .dataframe tbody tr th:only-of-type {\n",
       "        vertical-align: middle;\n",
       "    }\n",
       "\n",
       "    .dataframe tbody tr th {\n",
       "        vertical-align: top;\n",
       "    }\n",
       "\n",
       "    .dataframe thead th {\n",
       "        text-align: right;\n",
       "    }\n",
       "</style>\n",
       "<table border=\"1\" class=\"dataframe\">\n",
       "  <thead>\n",
       "    <tr style=\"text-align: right;\">\n",
       "      <th></th>\n",
       "      <th>nbr_ratings</th>\n",
       "      <th>user_name</th>\n",
       "      <th>joined</th>\n",
       "      <th>location</th>\n",
       "    </tr>\n",
       "    <tr>\n",
       "      <th>user_id</th>\n",
       "      <th></th>\n",
       "      <th></th>\n",
       "      <th></th>\n",
       "      <th></th>\n",
       "    </tr>\n",
       "  </thead>\n",
       "  <tbody>\n",
       "    <tr>\n",
       "      <th>175852</th>\n",
       "      <td>1890</td>\n",
       "      <td>Manslow</td>\n",
       "      <td>2012-05-20 10:00:00</td>\n",
       "      <td>Poland</td>\n",
       "    </tr>\n",
       "    <tr>\n",
       "      <th>442761</th>\n",
       "      <td>89</td>\n",
       "      <td>MAGICuenca91</td>\n",
       "      <td>2017-01-10 11:00:00</td>\n",
       "      <td>Spain</td>\n",
       "    </tr>\n",
       "  </tbody>\n",
       "</table>\n",
       "</div>"
      ],
      "text/plain": [
       "         nbr_ratings     user_name              joined location\n",
       "user_id                                                        \n",
       "175852          1890       Manslow 2012-05-20 10:00:00   Poland\n",
       "442761            89  MAGICuenca91 2017-01-10 11:00:00    Spain"
      ]
     },
     "execution_count": 9,
     "metadata": {},
     "output_type": "execute_result"
    }
   ],
   "source": [
    "RB_users = pd.read_csv(PATH+'RateBeer/users.csv', index_col= 'user_id')\n",
    "RB_users['joined'] = pd.to_datetime(RB_users['joined'] ,unit = 's')\n",
    "RB_users.head(2)"
   ]
  },
  {
   "cell_type": "code",
   "execution_count": 10,
   "metadata": {},
   "outputs": [
    {
     "data": {
      "text/html": [
       "<div>\n",
       "<style scoped>\n",
       "    .dataframe tbody tr th:only-of-type {\n",
       "        vertical-align: middle;\n",
       "    }\n",
       "\n",
       "    .dataframe tbody tr th {\n",
       "        vertical-align: top;\n",
       "    }\n",
       "\n",
       "    .dataframe thead th {\n",
       "        text-align: right;\n",
       "    }\n",
       "</style>\n",
       "<table border=\"1\" class=\"dataframe\">\n",
       "  <thead>\n",
       "    <tr style=\"text-align: right;\">\n",
       "      <th></th>\n",
       "      <th>joined</th>\n",
       "      <th>location</th>\n",
       "      <th>nbr_ratings</th>\n",
       "      <th>nbr_reviews</th>\n",
       "      <th>user_id</th>\n",
       "      <th>user_name</th>\n",
       "      <th>user_name_lower</th>\n",
       "      <th>joined.1</th>\n",
       "      <th>location.1</th>\n",
       "      <th>nbr_ratings.1</th>\n",
       "      <th>user_id.1</th>\n",
       "      <th>user_name.1</th>\n",
       "      <th>user_name_lower.1</th>\n",
       "    </tr>\n",
       "  </thead>\n",
       "  <tbody>\n",
       "    <tr>\n",
       "      <th>0</th>\n",
       "      <td>2008-09-08 10:00:00</td>\n",
       "      <td>Germany</td>\n",
       "      <td>6</td>\n",
       "      <td>6</td>\n",
       "      <td>erzengel.248045</td>\n",
       "      <td>Erzengel</td>\n",
       "      <td>erzengel</td>\n",
       "      <td>2008-10-18 10:00:00</td>\n",
       "      <td>Germany</td>\n",
       "      <td>8781</td>\n",
       "      <td>83106</td>\n",
       "      <td>Erzengel</td>\n",
       "      <td>erzengel</td>\n",
       "    </tr>\n",
       "    <tr>\n",
       "      <th>1</th>\n",
       "      <td>2012-09-23 10:00:00</td>\n",
       "      <td>United States, Virginia</td>\n",
       "      <td>1</td>\n",
       "      <td>1</td>\n",
       "      <td>gendv138.695700</td>\n",
       "      <td>GenDV138</td>\n",
       "      <td>gendv138</td>\n",
       "      <td>2013-11-29 11:00:00</td>\n",
       "      <td>United States, Virginia</td>\n",
       "      <td>6240</td>\n",
       "      <td>290599</td>\n",
       "      <td>GenDV138</td>\n",
       "      <td>gendv138</td>\n",
       "    </tr>\n",
       "  </tbody>\n",
       "</table>\n",
       "</div>"
      ],
      "text/plain": [
       "               joined                 location  nbr_ratings  nbr_reviews  \\\n",
       "0 2008-09-08 10:00:00                  Germany            6            6   \n",
       "1 2012-09-23 10:00:00  United States, Virginia            1            1   \n",
       "\n",
       "           user_id user_name user_name_lower            joined.1  \\\n",
       "0  erzengel.248045  Erzengel        erzengel 2008-10-18 10:00:00   \n",
       "1  gendv138.695700  GenDV138        gendv138 2013-11-29 11:00:00   \n",
       "\n",
       "                location.1  nbr_ratings.1  user_id.1 user_name.1  \\\n",
       "0                  Germany           8781      83106    Erzengel   \n",
       "1  United States, Virginia           6240     290599    GenDV138   \n",
       "\n",
       "  user_name_lower.1  \n",
       "0          erzengel  \n",
       "1          gendv138  "
      ]
     },
     "execution_count": 10,
     "metadata": {},
     "output_type": "execute_result"
    }
   ],
   "source": [
    "matched_users = pd.read_csv(PATH+'matched_beer_data/users.csv', header=1)\n",
    "matched_users['joined'] = pd.to_datetime(matched_users['joined'],unit = 's')\n",
    "matched_users['joined.1'] = pd.to_datetime(matched_users['joined.1'],unit = 's')\n",
    "matched_users.head(2)"
   ]
  },
  {
   "cell_type": "markdown",
   "metadata": {},
   "source": [
    "### Extracting BA reviews"
   ]
  },
  {
   "cell_type": "code",
   "execution_count": 100,
   "metadata": {},
   "outputs": [
    {
     "data": {
      "text/html": [
       "<div>\n",
       "<style scoped>\n",
       "    .dataframe tbody tr th:only-of-type {\n",
       "        vertical-align: middle;\n",
       "    }\n",
       "\n",
       "    .dataframe tbody tr th {\n",
       "        vertical-align: top;\n",
       "    }\n",
       "\n",
       "    .dataframe thead th {\n",
       "        text-align: right;\n",
       "    }\n",
       "</style>\n",
       "<table border=\"1\" class=\"dataframe\">\n",
       "  <thead>\n",
       "    <tr style=\"text-align: right;\">\n",
       "      <th></th>\n",
       "      <th>beer_name</th>\n",
       "      <th>beer_id</th>\n",
       "      <th>brewery_name</th>\n",
       "      <th>brewery_id</th>\n",
       "      <th>style</th>\n",
       "      <th>abv</th>\n",
       "      <th>date</th>\n",
       "      <th>user_name</th>\n",
       "      <th>user_id</th>\n",
       "      <th>appearance</th>\n",
       "      <th>aroma</th>\n",
       "      <th>palate</th>\n",
       "      <th>taste</th>\n",
       "      <th>overall</th>\n",
       "      <th>rating</th>\n",
       "      <th>text</th>\n",
       "    </tr>\n",
       "  </thead>\n",
       "  <tbody>\n",
       "    <tr>\n",
       "      <th>0</th>\n",
       "      <td>Régab</td>\n",
       "      <td>142544</td>\n",
       "      <td>Societe des Brasseries du Gabon (SOBRAGA)</td>\n",
       "      <td>37262</td>\n",
       "      <td>Euro Pale Lager</td>\n",
       "      <td>4.5</td>\n",
       "      <td>2015-08-20 10:00:00</td>\n",
       "      <td>nmann08</td>\n",
       "      <td>nmann08.184925</td>\n",
       "      <td>3.25</td>\n",
       "      <td>2.75</td>\n",
       "      <td>3.25</td>\n",
       "      <td>2.75</td>\n",
       "      <td>3.0</td>\n",
       "      <td>2.88</td>\n",
       "      <td>From a bottle, pours a piss yellow color with ...</td>\n",
       "    </tr>\n",
       "    <tr>\n",
       "      <th>1</th>\n",
       "      <td>Barelegs Brew</td>\n",
       "      <td>19590</td>\n",
       "      <td>Strangford Lough Brewing Company Ltd</td>\n",
       "      <td>10093</td>\n",
       "      <td>English Pale Ale</td>\n",
       "      <td>4.5</td>\n",
       "      <td>2009-02-20 11:00:00</td>\n",
       "      <td>StJamesGate</td>\n",
       "      <td>stjamesgate.163714</td>\n",
       "      <td>3.00</td>\n",
       "      <td>3.50</td>\n",
       "      <td>3.50</td>\n",
       "      <td>4.00</td>\n",
       "      <td>3.5</td>\n",
       "      <td>3.67</td>\n",
       "      <td>Pours pale copper with a thin head that quickl...</td>\n",
       "    </tr>\n",
       "  </tbody>\n",
       "</table>\n",
       "</div>"
      ],
      "text/plain": [
       "       beer_name  beer_id                               brewery_name  \\\n",
       "0          Régab   142544  Societe des Brasseries du Gabon (SOBRAGA)   \n",
       "1  Barelegs Brew    19590       Strangford Lough Brewing Company Ltd   \n",
       "\n",
       "   brewery_id             style  abv                 date    user_name  \\\n",
       "0       37262   Euro Pale Lager  4.5  2015-08-20 10:00:00      nmann08   \n",
       "1       10093  English Pale Ale  4.5  2009-02-20 11:00:00  StJamesGate   \n",
       "\n",
       "              user_id  appearance  aroma  palate  taste  overall  rating  \\\n",
       "0      nmann08.184925        3.25   2.75    3.25   2.75      3.0    2.88   \n",
       "1  stjamesgate.163714        3.00   3.50    3.50   4.00      3.5    3.67   \n",
       "\n",
       "                                                text  \n",
       "0  From a bottle, pours a piss yellow color with ...  \n",
       "1  Pours pale copper with a thin head that quickl...  "
      ]
     },
     "execution_count": 100,
     "metadata": {},
     "output_type": "execute_result"
    }
   ],
   "source": [
    "#open the csv file\n",
    "df_BA_reviews = pd.read_csv('../BeerAdvocate/df_BA_reviews.csv')\n",
    "df_BA_reviews.head(2)"
   ]
  },
  {
   "cell_type": "markdown",
   "metadata": {},
   "source": [
    "# Extracting RB ratings:"
   ]
  },
  {
   "cell_type": "code",
   "execution_count": 12,
   "metadata": {},
   "outputs": [
    {
     "data": {
      "text/html": [
       "<div>\n",
       "<style scoped>\n",
       "    .dataframe tbody tr th:only-of-type {\n",
       "        vertical-align: middle;\n",
       "    }\n",
       "\n",
       "    .dataframe tbody tr th {\n",
       "        vertical-align: top;\n",
       "    }\n",
       "\n",
       "    .dataframe thead th {\n",
       "        text-align: right;\n",
       "    }\n",
       "</style>\n",
       "<table border=\"1\" class=\"dataframe\">\n",
       "  <thead>\n",
       "    <tr style=\"text-align: right;\">\n",
       "      <th></th>\n",
       "      <th>beer_name</th>\n",
       "      <th>beer_id</th>\n",
       "      <th>brewery_name</th>\n",
       "      <th>brewery_id</th>\n",
       "      <th>style</th>\n",
       "      <th>abv</th>\n",
       "      <th>date</th>\n",
       "      <th>user_name</th>\n",
       "      <th>user_id</th>\n",
       "      <th>appearance</th>\n",
       "      <th>aroma</th>\n",
       "      <th>palate</th>\n",
       "      <th>taste</th>\n",
       "      <th>overall</th>\n",
       "      <th>rating</th>\n",
       "      <th>text</th>\n",
       "    </tr>\n",
       "  </thead>\n",
       "  <tbody>\n",
       "    <tr>\n",
       "      <th>0</th>\n",
       "      <td>33 Export (Gabon)</td>\n",
       "      <td>410549</td>\n",
       "      <td>Sobraga</td>\n",
       "      <td>3198</td>\n",
       "      <td>Pale Lager</td>\n",
       "      <td>5.0</td>\n",
       "      <td>2016-04-26 10:00:00</td>\n",
       "      <td>Manslow</td>\n",
       "      <td>175852</td>\n",
       "      <td>2</td>\n",
       "      <td>4</td>\n",
       "      <td>2</td>\n",
       "      <td>4</td>\n",
       "      <td>8</td>\n",
       "      <td>2.0</td>\n",
       "      <td>Puszka 0,33l dzięki Christoph . Kolor jasnozło...</td>\n",
       "    </tr>\n",
       "    <tr>\n",
       "      <th>1</th>\n",
       "      <td>Castel Beer (Gabon)</td>\n",
       "      <td>105273</td>\n",
       "      <td>Sobraga</td>\n",
       "      <td>3198</td>\n",
       "      <td>Pale Lager</td>\n",
       "      <td>5.2</td>\n",
       "      <td>2017-02-17 11:00:00</td>\n",
       "      <td>MAGICuenca91</td>\n",
       "      <td>442761</td>\n",
       "      <td>2</td>\n",
       "      <td>3</td>\n",
       "      <td>2</td>\n",
       "      <td>4</td>\n",
       "      <td>8</td>\n",
       "      <td>1.9</td>\n",
       "      <td>Cerveza pale lager gabonesa. MÃ¡s floja que la...</td>\n",
       "    </tr>\n",
       "  </tbody>\n",
       "</table>\n",
       "</div>"
      ],
      "text/plain": [
       "             beer_name  beer_id brewery_name  brewery_id       style  abv  \\\n",
       "0    33 Export (Gabon)   410549      Sobraga        3198  Pale Lager  5.0   \n",
       "1  Castel Beer (Gabon)   105273      Sobraga        3198  Pale Lager  5.2   \n",
       "\n",
       "                  date     user_name  user_id  appearance  aroma  palate  \\\n",
       "0  2016-04-26 10:00:00       Manslow   175852           2      4       2   \n",
       "1  2017-02-17 11:00:00  MAGICuenca91   442761           2      3       2   \n",
       "\n",
       "   taste  overall  rating                                               text  \n",
       "0      4        8     2.0  Puszka 0,33l dzięki Christoph . Kolor jasnozło...  \n",
       "1      4        8     1.9  Cerveza pale lager gabonesa. MÃ¡s floja que la...  "
      ]
     },
     "execution_count": 12,
     "metadata": {},
     "output_type": "execute_result"
    }
   ],
   "source": [
    "#open the csv file\n",
    "df_RB_reviews = pd.read_csv('../RateBeer/df_RB_reviews_final.csv')\n",
    "df_RB_reviews.head(2)"
   ]
  },
  {
   "cell_type": "markdown",
   "metadata": {},
   "source": [
    "## Extracting matched data ratings"
   ]
  },
  {
   "cell_type": "code",
   "execution_count": 13,
   "metadata": {},
   "outputs": [
    {
     "data": {
      "text/html": [
       "<div>\n",
       "<style scoped>\n",
       "    .dataframe tbody tr th:only-of-type {\n",
       "        vertical-align: middle;\n",
       "    }\n",
       "\n",
       "    .dataframe tbody tr th {\n",
       "        vertical-align: top;\n",
       "    }\n",
       "\n",
       "    .dataframe thead th {\n",
       "        text-align: right;\n",
       "    }\n",
       "</style>\n",
       "<table border=\"1\" class=\"dataframe\">\n",
       "  <thead>\n",
       "    <tr style=\"text-align: right;\">\n",
       "      <th></th>\n",
       "      <th>abv</th>\n",
       "      <th>appearance</th>\n",
       "      <th>aroma</th>\n",
       "      <th>beer_id</th>\n",
       "      <th>beer_name</th>\n",
       "      <th>brewery_id</th>\n",
       "      <th>brewery_name</th>\n",
       "      <th>date</th>\n",
       "      <th>overall</th>\n",
       "      <th>palate</th>\n",
       "      <th>...</th>\n",
       "      <th>brewery_name.1</th>\n",
       "      <th>date.1</th>\n",
       "      <th>overall.1</th>\n",
       "      <th>palate.1</th>\n",
       "      <th>rating.1</th>\n",
       "      <th>style.1</th>\n",
       "      <th>taste.1</th>\n",
       "      <th>text.1</th>\n",
       "      <th>user_id.1</th>\n",
       "      <th>user_name.1</th>\n",
       "    </tr>\n",
       "  </thead>\n",
       "  <tbody>\n",
       "    <tr>\n",
       "      <th>0</th>\n",
       "      <td>11.3</td>\n",
       "      <td>4.5</td>\n",
       "      <td>4.5</td>\n",
       "      <td>645</td>\n",
       "      <td>Trappistes Rochefort 10</td>\n",
       "      <td>207</td>\n",
       "      <td>Brasserie de Rochefort</td>\n",
       "      <td>1324810800</td>\n",
       "      <td>5.0</td>\n",
       "      <td>4.5</td>\n",
       "      <td>...</td>\n",
       "      <td>Brasserie Rochefort</td>\n",
       "      <td>1387710000</td>\n",
       "      <td>19.0</td>\n",
       "      <td>4.0</td>\n",
       "      <td>4.6</td>\n",
       "      <td>Abt/Quadrupel</td>\n",
       "      <td>9.0</td>\n",
       "      <td>a)  Geruch malzig-schwer-sÃ¼Ã. Riecht schon ...</td>\n",
       "      <td>83106</td>\n",
       "      <td>Erzengel</td>\n",
       "    </tr>\n",
       "    <tr>\n",
       "      <th>1</th>\n",
       "      <td>5.0</td>\n",
       "      <td>NaN</td>\n",
       "      <td>NaN</td>\n",
       "      <td>28191</td>\n",
       "      <td>Myanmar Lager Beer</td>\n",
       "      <td>9369</td>\n",
       "      <td>Myanmar Brewery and Distillery</td>\n",
       "      <td>1322650800</td>\n",
       "      <td>NaN</td>\n",
       "      <td>NaN</td>\n",
       "      <td>...</td>\n",
       "      <td>Myanmar Brewery and Distillery</td>\n",
       "      <td>1322564400</td>\n",
       "      <td>6.0</td>\n",
       "      <td>2.0</td>\n",
       "      <td>1.7</td>\n",
       "      <td>Pale Lager</td>\n",
       "      <td>4.0</td>\n",
       "      <td>Can. Weak and watery, not the best beer of the...</td>\n",
       "      <td>91324</td>\n",
       "      <td>visionthing</td>\n",
       "    </tr>\n",
       "  </tbody>\n",
       "</table>\n",
       "<p>2 rows × 33 columns</p>\n",
       "</div>"
      ],
      "text/plain": [
       "    abv  appearance  aroma  beer_id                beer_name  brewery_id  \\\n",
       "0  11.3         4.5    4.5      645  Trappistes Rochefort 10         207   \n",
       "1   5.0         NaN    NaN    28191       Myanmar Lager Beer        9369   \n",
       "\n",
       "                     brewery_name        date  overall  palate  ...  \\\n",
       "0          Brasserie de Rochefort  1324810800      5.0     4.5  ...   \n",
       "1  Myanmar Brewery and Distillery  1322650800      NaN     NaN  ...   \n",
       "\n",
       "                   brewery_name.1      date.1 overall.1  palate.1 rating.1  \\\n",
       "0             Brasserie Rochefort  1387710000      19.0       4.0      4.6   \n",
       "1  Myanmar Brewery and Distillery  1322564400       6.0       2.0      1.7   \n",
       "\n",
       "         style.1 taste.1                                             text.1  \\\n",
       "0  Abt/Quadrupel     9.0   a)  Geruch malzig-schwer-sÃ¼Ã. Riecht schon ...   \n",
       "1     Pale Lager     4.0  Can. Weak and watery, not the best beer of the...   \n",
       "\n",
       "   user_id.1  user_name.1  \n",
       "0      83106     Erzengel  \n",
       "1      91324  visionthing  \n",
       "\n",
       "[2 rows x 33 columns]"
      ]
     },
     "execution_count": 13,
     "metadata": {},
     "output_type": "execute_result"
    }
   ],
   "source": [
    "MD_ratings = pd.read_csv(PATH+'matched_beer_data/ratings.csv', header = 1)\n",
    "MD_ratings.head(2)"
   ]
  },
  {
   "cell_type": "markdown",
   "metadata": {},
   "source": [
    "## Choosing the 20 best beers in the world"
   ]
  },
  {
   "cell_type": "markdown",
   "metadata": {},
   "source": [
    "Different chosen criteria:\n",
    "1) Beers that have receieved at least x number of reviews \n",
    "2) Reviewers that have reviewed more than x amount of times (if someone rated a beer once only it's maybe not enough), also we haev to keep in mind that a lot of people midlessly put ratings but no reviews, hence here we focus on the number of reviews because it means the person put the effort to write a review, making the overall rating more legitimate\n",
    "3) Extract top 20 beers according to the avg rating over the two websites"
   ]
  },
  {
   "cell_type": "markdown",
   "metadata": {},
   "source": [
    "### 1) Beers that have recieved a significant number of reviews"
   ]
  },
  {
   "cell_type": "code",
   "execution_count": 26,
   "metadata": {},
   "outputs": [
    {
     "data": {
      "image/png": "[encoded data removed]",
      "text/plain": [
       "<Figure size 640x480 with 1 Axes>"
      ]
     },
     "metadata": {},
     "output_type": "display_data"
    }
   ],
   "source": [
    "array_100=plt.hist(matched_beers['nbr_reviews'], bins=100,log=True,histtype='step')\n",
    "plt.title('Distribution of number of reviews')\n",
    "plt.show()\n",
    "#heavy taield distribution for the number of reviews"
   ]
  },
  {
   "cell_type": "code",
   "execution_count": 27,
   "metadata": {},
   "outputs": [
    {
     "data": {
      "text/plain": [
       "890"
      ]
     },
     "execution_count": 27,
     "metadata": {},
     "output_type": "execute_result"
    }
   ],
   "source": [
    "# First, we decide to take beers which have recieved more than 50 reviews\n",
    "top_beers = matched_beers[matched_beers['nbr_reviews']>50]\n",
    "len(top_beers)"
   ]
  },
  {
   "cell_type": "code",
   "execution_count": 28,
   "metadata": {},
   "outputs": [],
   "source": [
    "#We extract the corresponding ratings/reviews from matched data \n",
    "top_beers_ratings = MD_ratings[MD_ratings['beer_id'].isin(top_beers['beer_id']) | MD_ratings['beer_id.1'].isin(top_beers['beer_id.1'])]"
   ]
  },
  {
   "cell_type": "code",
   "execution_count": 29,
   "metadata": {},
   "outputs": [
    {
     "data": {
      "text/plain": [
       "10091"
      ]
     },
     "execution_count": 29,
     "metadata": {},
     "output_type": "execute_result"
    }
   ],
   "source": [
    "len(top_beers_ratings) #there are the same beers several times "
   ]
  },
  {
   "cell_type": "code",
   "execution_count": 30,
   "metadata": {},
   "outputs": [
    {
     "data": {
      "text/plain": [
       "Index(['abv', 'appearance', 'aroma', 'beer_id', 'beer_name', 'brewery_id',\n",
       "       'brewery_name', 'date', 'overall', 'palate', 'rating', 'review',\n",
       "       'style', 'taste', 'text', 'user_id', 'user_name', 'abv.1',\n",
       "       'appearance.1', 'aroma.1', 'beer_id.1', 'beer_name.1', 'brewery_id.1',\n",
       "       'brewery_name.1', 'date.1', 'overall.1', 'palate.1', 'rating.1',\n",
       "       'style.1', 'taste.1', 'text.1', 'user_id.1', 'user_name.1'],\n",
       "      dtype='object')"
      ]
     },
     "execution_count": 30,
     "metadata": {},
     "output_type": "execute_result"
    }
   ],
   "source": [
    "top_beers_ratings.columns"
   ]
  },
  {
   "cell_type": "markdown",
   "metadata": {},
   "source": [
    "### 2) Reviewers that have reviewed more than x amount of times "
   ]
  },
  {
   "cell_type": "code",
   "execution_count": 31,
   "metadata": {},
   "outputs": [],
   "source": [
    "#we extract the users that reviewed the beers that have received more than 50 reviews.\n",
    "top_beers_reviewers = matched_users[matched_users['user_id'].isin(top_beers_ratings['user_id']) | matched_users['user_id.1'].isin(top_beers_ratings['user_id.1'])]"
   ]
  },
  {
   "cell_type": "code",
   "execution_count": 32,
   "metadata": {},
   "outputs": [
    {
     "data": {
      "text/plain": [
       "count      711.000000\n",
       "mean       589.303797\n",
       "std       1189.291214\n",
       "min          1.000000\n",
       "25%         35.000000\n",
       "50%        173.000000\n",
       "75%        544.500000\n",
       "max      12046.000000\n",
       "Name: nbr_ratings, dtype: float64"
      ]
     },
     "execution_count": 32,
     "metadata": {},
     "output_type": "execute_result"
    }
   ],
   "source": [
    "top_beers_reviewers['nbr_ratings'].describe()"
   ]
  },
  {
   "cell_type": "code",
   "execution_count": 33,
   "metadata": {},
   "outputs": [],
   "source": [
    "#We decide to filter by the reviewers that have put a number of reviews (not ratings) higher than the third percentile\n",
    "top_beers_reviewers = top_beers_reviewers.loc[top_beers_reviewers['nbr_reviews']>544]"
   ]
  },
  {
   "cell_type": "code",
   "execution_count": 34,
   "metadata": {},
   "outputs": [],
   "source": [
    "#filtering the beer ratings by the top beer reviewers\n",
    "top_beers_ratings = top_beers_ratings[top_beers_ratings['user_id'].isin(top_beers_reviewers['user_id']) & top_beers_ratings['user_id.1'].isin(top_beers_reviewers['user_id.1']) ]"
   ]
  },
  {
   "cell_type": "markdown",
   "metadata": {},
   "source": [
    "### 3) Extract top 20 beers according to the avg rating over the two websites"
   ]
  },
  {
   "cell_type": "code",
   "execution_count": 35,
   "metadata": {},
   "outputs": [
    {
     "data": {
      "text/plain": [
       "873"
      ]
     },
     "execution_count": 35,
     "metadata": {},
     "output_type": "execute_result"
    }
   ],
   "source": [
    "len(top_beers[top_beers['beer_id'].isin(top_beers_ratings['beer_id']) & top_beers['beer_id.1'].isin(top_beers_ratings['beer_id.1']) ])"
   ]
  },
  {
   "cell_type": "code",
   "execution_count": 36,
   "metadata": {},
   "outputs": [
    {
     "name": "stderr",
     "output_type": "stream",
     "text": [
      "C:\\Users\\flori\\AppData\\Local\\Temp\\ipykernel_13076\\1016610164.py:2: SettingWithCopyWarning: \n",
      "A value is trying to be set on a copy of a slice from a DataFrame.\n",
      "Try using .loc[row_indexer,col_indexer] = value instead\n",
      "\n",
      "See the caveats in the documentation: https://pandas.pydata.org/pandas-docs/stable/user_guide/indexing.html#returning-a-view-versus-a-copy\n",
      "  top_beers['average_avg'] = top_beers[['avg', 'avg.1']].mean(axis=1)\n"
     ]
    }
   ],
   "source": [
    "#adding an average of averages column to get the average rating across both websites\n",
    "top_beers['average_avg'] = top_beers[['avg', 'avg.1']].mean(axis=1)\n",
    "top_20_beers = top_beers.nlargest(20, 'average_avg', keep='all')"
   ]
  },
  {
   "cell_type": "code",
   "execution_count": 37,
   "metadata": {},
   "outputs": [
    {
     "data": {
      "text/plain": [
       "Index(['abv', 'avg', 'avg_computed', 'avg_matched_valid_ratings', 'ba_score',\n",
       "       'beer_id', 'beer_name', 'beer_wout_brewery_name', 'brewery_id',\n",
       "       'brewery_name', 'bros_score', 'nbr_matched_valid_ratings',\n",
       "       'nbr_ratings', 'nbr_reviews', 'style', 'zscore', 'abv.1', 'avg.1',\n",
       "       'avg_computed.1', 'avg_matched_valid_ratings.1', 'beer_id.1',\n",
       "       'beer_name.1', 'beer_wout_brewery_name.1', 'brewery_id.1',\n",
       "       'brewery_name.1', 'nbr_matched_valid_ratings.1', 'nbr_ratings.1',\n",
       "       'overall_score', 'style.1', 'style_score', 'zscore.1', 'diff', 'sim',\n",
       "       'average_avg'],\n",
       "      dtype='object')"
      ]
     },
     "execution_count": 37,
     "metadata": {},
     "output_type": "execute_result"
    }
   ],
   "source": [
    "top_20_beers.columns"
   ]
  },
  {
   "cell_type": "code",
   "execution_count": 38,
   "metadata": {},
   "outputs": [
    {
     "data": {
      "text/plain": [
       "Index(['abv', 'appearance', 'aroma', 'beer_id', 'beer_name', 'brewery_id',\n",
       "       'brewery_name', 'date', 'overall', 'palate', 'rating', 'review',\n",
       "       'style', 'taste', 'text', 'user_id', 'user_name', 'abv.1',\n",
       "       'appearance.1', 'aroma.1', 'beer_id.1', 'beer_name.1', 'brewery_id.1',\n",
       "       'brewery_name.1', 'date.1', 'overall.1', 'palate.1', 'rating.1',\n",
       "       'style.1', 'taste.1', 'text.1', 'user_id.1', 'user_name.1'],\n",
       "      dtype='object')"
      ]
     },
     "execution_count": 38,
     "metadata": {},
     "output_type": "execute_result"
    }
   ],
   "source": [
    "top_beers_ratings.columns"
   ]
  },
  {
   "cell_type": "code",
   "execution_count": 39,
   "metadata": {},
   "outputs": [],
   "source": [
    "#We extract the ratings for those top20 beers for the top reviewers\n",
    "top_20_beers_ratings = top_beers_ratings[top_beers_ratings['beer_id'].isin(top_20_beers['beer_id']) & top_beers_ratings['beer_id.1'].isin(top_20_beers['beer_id.1'])]"
   ]
  },
  {
   "cell_type": "code",
   "execution_count": 40,
   "metadata": {},
   "outputs": [
    {
     "data": {
      "text/plain": [
       "269"
      ]
     },
     "execution_count": 40,
     "metadata": {},
     "output_type": "execute_result"
    }
   ],
   "source": [
    "len(top_20_beers_ratings)"
   ]
  },
  {
   "cell_type": "code",
   "execution_count": 244,
   "metadata": {},
   "outputs": [
    {
     "data": {
      "text/plain": [
       "beer_id      20\n",
       "beer_id.1    20\n",
       "dtype: int64"
      ]
     },
     "execution_count": 244,
     "metadata": {},
     "output_type": "execute_result"
    }
   ],
   "source": [
    "#Checking that we do have the 20 beers\n",
    "top_20_beers_ratings[['beer_id','beer_id.1']].nunique()"
   ]
  },
  {
   "cell_type": "code",
   "execution_count": 246,
   "metadata": {},
   "outputs": [],
   "source": [
    "# Group by beer id's\n",
    "top_20_beers_ratings = top_20_beers_ratings.set_index(['beer_id','beer_id.1'])"
   ]
  },
  {
   "cell_type": "code",
   "execution_count": 247,
   "metadata": {},
   "outputs": [
    {
     "data": {
      "text/html": [
       "<div>\n",
       "<style scoped>\n",
       "    .dataframe tbody tr th:only-of-type {\n",
       "        vertical-align: middle;\n",
       "    }\n",
       "\n",
       "    .dataframe tbody tr th {\n",
       "        vertical-align: top;\n",
       "    }\n",
       "\n",
       "    .dataframe thead th {\n",
       "        text-align: right;\n",
       "    }\n",
       "</style>\n",
       "<table border=\"1\" class=\"dataframe\">\n",
       "  <thead>\n",
       "    <tr style=\"text-align: right;\">\n",
       "      <th></th>\n",
       "      <th></th>\n",
       "      <th>abv</th>\n",
       "      <th>appearance</th>\n",
       "      <th>aroma</th>\n",
       "      <th>beer_name</th>\n",
       "      <th>brewery_id</th>\n",
       "      <th>brewery_name</th>\n",
       "      <th>date</th>\n",
       "      <th>overall</th>\n",
       "      <th>palate</th>\n",
       "      <th>rating</th>\n",
       "      <th>...</th>\n",
       "      <th>brewery_name.1</th>\n",
       "      <th>date.1</th>\n",
       "      <th>overall.1</th>\n",
       "      <th>palate.1</th>\n",
       "      <th>rating.1</th>\n",
       "      <th>style.1</th>\n",
       "      <th>taste.1</th>\n",
       "      <th>text.1</th>\n",
       "      <th>user_id.1</th>\n",
       "      <th>user_name.1</th>\n",
       "    </tr>\n",
       "    <tr>\n",
       "      <th>beer_id</th>\n",
       "      <th>beer_id.1</th>\n",
       "      <th></th>\n",
       "      <th></th>\n",
       "      <th></th>\n",
       "      <th></th>\n",
       "      <th></th>\n",
       "      <th></th>\n",
       "      <th></th>\n",
       "      <th></th>\n",
       "      <th></th>\n",
       "      <th></th>\n",
       "      <th></th>\n",
       "      <th></th>\n",
       "      <th></th>\n",
       "      <th></th>\n",
       "      <th></th>\n",
       "      <th></th>\n",
       "      <th></th>\n",
       "      <th></th>\n",
       "      <th></th>\n",
       "      <th></th>\n",
       "      <th></th>\n",
       "    </tr>\n",
       "  </thead>\n",
       "  <tbody>\n",
       "    <tr>\n",
       "      <th rowspan=\"2\" valign=\"top\">645</th>\n",
       "      <th>2360</th>\n",
       "      <td>11.3</td>\n",
       "      <td>5.0</td>\n",
       "      <td>5.0</td>\n",
       "      <td>Trappistes Rochefort 10</td>\n",
       "      <td>207</td>\n",
       "      <td>Brasserie de Rochefort</td>\n",
       "      <td>1060855200</td>\n",
       "      <td>5.0</td>\n",
       "      <td>5.00</td>\n",
       "      <td>5.00</td>\n",
       "      <td>...</td>\n",
       "      <td>Brasserie Rochefort</td>\n",
       "      <td>1060855200</td>\n",
       "      <td>20.0</td>\n",
       "      <td>5.0</td>\n",
       "      <td>5.0</td>\n",
       "      <td>Abt/Quadrupel</td>\n",
       "      <td>10.0</td>\n",
       "      <td>(330 ml bottle). Pours with an enormous and th...</td>\n",
       "      <td>3343</td>\n",
       "      <td>Sigmund</td>\n",
       "    </tr>\n",
       "    <tr>\n",
       "      <th>2360</th>\n",
       "      <td>11.3</td>\n",
       "      <td>3.5</td>\n",
       "      <td>4.0</td>\n",
       "      <td>Trappistes Rochefort 10</td>\n",
       "      <td>207</td>\n",
       "      <td>Brasserie de Rochefort</td>\n",
       "      <td>1307181600</td>\n",
       "      <td>4.5</td>\n",
       "      <td>4.50</td>\n",
       "      <td>4.32</td>\n",
       "      <td>...</td>\n",
       "      <td>Brasserie Rochefort</td>\n",
       "      <td>1334138400</td>\n",
       "      <td>18.0</td>\n",
       "      <td>4.0</td>\n",
       "      <td>3.9</td>\n",
       "      <td>Abt/Quadrupel</td>\n",
       "      <td>8.0</td>\n",
       "      <td>33cl Bottle, been with me for a while, best be...</td>\n",
       "      <td>97853</td>\n",
       "      <td>BlackHaddock</td>\n",
       "    </tr>\n",
       "    <tr>\n",
       "      <th>3833</th>\n",
       "      <th>14232</th>\n",
       "      <td>12.0</td>\n",
       "      <td>4.0</td>\n",
       "      <td>4.0</td>\n",
       "      <td>AleSmith Speedway Stout</td>\n",
       "      <td>396</td>\n",
       "      <td>AleSmith Brewing Company</td>\n",
       "      <td>1388487600</td>\n",
       "      <td>4.5</td>\n",
       "      <td>4.25</td>\n",
       "      <td>4.33</td>\n",
       "      <td>...</td>\n",
       "      <td>AleSmith Brewing Company</td>\n",
       "      <td>1388487600</td>\n",
       "      <td>17.0</td>\n",
       "      <td>4.0</td>\n",
       "      <td>4.2</td>\n",
       "      <td>Imperial Stout</td>\n",
       "      <td>9.0</td>\n",
       "      <td>Early on 31st Dec 13, usual 0.75 litre bottle ...</td>\n",
       "      <td>97853</td>\n",
       "      <td>BlackHaddock</td>\n",
       "    </tr>\n",
       "    <tr>\n",
       "      <th>645</th>\n",
       "      <th>2360</th>\n",
       "      <td>11.3</td>\n",
       "      <td>4.0</td>\n",
       "      <td>4.0</td>\n",
       "      <td>Trappistes Rochefort 10</td>\n",
       "      <td>207</td>\n",
       "      <td>Brasserie de Rochefort</td>\n",
       "      <td>1070708400</td>\n",
       "      <td>4.0</td>\n",
       "      <td>4.00</td>\n",
       "      <td>4.20</td>\n",
       "      <td>...</td>\n",
       "      <td>Brasserie Rochefort</td>\n",
       "      <td>1123927200</td>\n",
       "      <td>16.0</td>\n",
       "      <td>4.0</td>\n",
       "      <td>3.9</td>\n",
       "      <td>Abt/Quadrupel</td>\n",
       "      <td>8.0</td>\n",
       "      <td>update March 1st, 2004  Massive beer. Nocturn...</td>\n",
       "      <td>8034</td>\n",
       "      <td>Rastacouere</td>\n",
       "    </tr>\n",
       "    <tr>\n",
       "      <th>3833</th>\n",
       "      <th>14232</th>\n",
       "      <td>12.0</td>\n",
       "      <td>3.5</td>\n",
       "      <td>4.0</td>\n",
       "      <td>AleSmith Speedway Stout</td>\n",
       "      <td>396</td>\n",
       "      <td>AleSmith Brewing Company</td>\n",
       "      <td>1079953200</td>\n",
       "      <td>4.0</td>\n",
       "      <td>4.00</td>\n",
       "      <td>3.77</td>\n",
       "      <td>...</td>\n",
       "      <td>AleSmith Brewing Company</td>\n",
       "      <td>1101639600</td>\n",
       "      <td>15.0</td>\n",
       "      <td>4.0</td>\n",
       "      <td>3.9</td>\n",
       "      <td>Imperial Stout</td>\n",
       "      <td>8.0</td>\n",
       "      <td>Blind Tasting, Thanks tiggmtl  Pitch black po...</td>\n",
       "      <td>8034</td>\n",
       "      <td>Rastacouere</td>\n",
       "    </tr>\n",
       "  </tbody>\n",
       "</table>\n",
       "<p>5 rows × 31 columns</p>\n",
       "</div>"
      ],
      "text/plain": [
       "                    abv  appearance  aroma                beer_name  \\\n",
       "beer_id beer_id.1                                                     \n",
       "645     2360       11.3         5.0    5.0  Trappistes Rochefort 10   \n",
       "        2360       11.3         3.5    4.0  Trappistes Rochefort 10   \n",
       "3833    14232      12.0         4.0    4.0  AleSmith Speedway Stout   \n",
       "645     2360       11.3         4.0    4.0  Trappistes Rochefort 10   \n",
       "3833    14232      12.0         3.5    4.0  AleSmith Speedway Stout   \n",
       "\n",
       "                   brewery_id              brewery_name        date  overall  \\\n",
       "beer_id beer_id.1                                                              \n",
       "645     2360              207    Brasserie de Rochefort  1060855200      5.0   \n",
       "        2360              207    Brasserie de Rochefort  1307181600      4.5   \n",
       "3833    14232             396  AleSmith Brewing Company  1388487600      4.5   \n",
       "645     2360              207    Brasserie de Rochefort  1070708400      4.0   \n",
       "3833    14232             396  AleSmith Brewing Company  1079953200      4.0   \n",
       "\n",
       "                   palate  rating  ...            brewery_name.1      date.1  \\\n",
       "beer_id beer_id.1                  ...                                         \n",
       "645     2360         5.00    5.00  ...       Brasserie Rochefort  1060855200   \n",
       "        2360         4.50    4.32  ...       Brasserie Rochefort  1334138400   \n",
       "3833    14232        4.25    4.33  ...  AleSmith Brewing Company  1388487600   \n",
       "645     2360         4.00    4.20  ...       Brasserie Rochefort  1123927200   \n",
       "3833    14232        4.00    3.77  ...  AleSmith Brewing Company  1101639600   \n",
       "\n",
       "                   overall.1 palate.1 rating.1         style.1  taste.1  \\\n",
       "beer_id beer_id.1                                                         \n",
       "645     2360            20.0      5.0      5.0   Abt/Quadrupel     10.0   \n",
       "        2360            18.0      4.0      3.9   Abt/Quadrupel      8.0   \n",
       "3833    14232           17.0      4.0      4.2  Imperial Stout      9.0   \n",
       "645     2360            16.0      4.0      3.9   Abt/Quadrupel      8.0   \n",
       "3833    14232           15.0      4.0      3.9  Imperial Stout      8.0   \n",
       "\n",
       "                                                              text.1  \\\n",
       "beer_id beer_id.1                                                      \n",
       "645     2360       (330 ml bottle). Pours with an enormous and th...   \n",
       "        2360       33cl Bottle, been with me for a while, best be...   \n",
       "3833    14232      Early on 31st Dec 13, usual 0.75 litre bottle ...   \n",
       "645     2360        update March 1st, 2004  Massive beer. Nocturn...   \n",
       "3833    14232       Blind Tasting, Thanks tiggmtl  Pitch black po...   \n",
       "\n",
       "                   user_id.1   user_name.1  \n",
       "beer_id beer_id.1                           \n",
       "645     2360            3343       Sigmund  \n",
       "        2360           97853  BlackHaddock  \n",
       "3833    14232          97853  BlackHaddock  \n",
       "645     2360            8034   Rastacouere  \n",
       "3833    14232           8034   Rastacouere  \n",
       "\n",
       "[5 rows x 31 columns]"
      ]
     },
     "execution_count": 247,
     "metadata": {},
     "output_type": "execute_result"
    }
   ],
   "source": [
    "top_20_beers_ratings.index"
   ]
  },
  {
   "cell_type": "code",
   "execution_count": 218,
   "metadata": {},
   "outputs": [],
   "source": [
    "beer_multiindex = top_20_beers_ratings.index"
   ]
  },
  {
   "cell_type": "code",
   "execution_count": 251,
   "metadata": {},
   "outputs": [],
   "source": [
    "unique_beer_ids = top_20_beers_ratings.index.drop_duplicates()"
   ]
  },
  {
   "cell_type": "code",
   "execution_count": 254,
   "metadata": {},
   "outputs": [],
   "source": [
    "beer_locations = pd.DataFrame(columns=['beer_id','beer_id.1','brewery_location','brewery_location.1'])\n",
    "user_locations = pd.DataFrame(columns=['beer_id', 'beer_id.1', 'user_id', 'user_id.1','user_location', 'user_location.1'])"
   ]
  },
  {
   "cell_type": "code",
   "execution_count": 265,
   "metadata": {},
   "outputs": [
    {
     "data": {
      "text/plain": [
       "Index(['abv', 'appearance', 'aroma', 'beer_name', 'brewery_id', 'brewery_name',\n",
       "       'date', 'overall', 'palate', 'rating', 'review', 'style', 'taste',\n",
       "       'text', 'user_id', 'user_name', 'abv.1', 'appearance.1', 'aroma.1',\n",
       "       'beer_name.1', 'brewery_id.1', 'brewery_name.1', 'date.1', 'overall.1',\n",
       "       'palate.1', 'rating.1', 'style.1', 'taste.1', 'text.1', 'user_id.1',\n",
       "       'user_name.1'],\n",
       "      dtype='object')"
      ]
     },
     "execution_count": 265,
     "metadata": {},
     "output_type": "execute_result"
    }
   ],
   "source": [
    "top_20_beers_ratings.columns"
   ]
  },
  {
   "cell_type": "code",
   "execution_count": 266,
   "metadata": {},
   "outputs": [],
   "source": [
    "beer_locations_test = top_20_beers_ratings[~top_20_beers_ratings.index.duplicated(keep='first')][['brewery_id','brewery_id.1','user_id','user_id.1']] "
   ]
  },
  {
   "cell_type": "code",
   "execution_count": 271,
   "metadata": {},
   "outputs": [
    {
     "data": {
      "text/html": [
       "<div>\n",
       "<style scoped>\n",
       "    .dataframe tbody tr th:only-of-type {\n",
       "        vertical-align: middle;\n",
       "    }\n",
       "\n",
       "    .dataframe tbody tr th {\n",
       "        vertical-align: top;\n",
       "    }\n",
       "\n",
       "    .dataframe thead th {\n",
       "        text-align: right;\n",
       "    }\n",
       "</style>\n",
       "<table border=\"1\" class=\"dataframe\">\n",
       "  <thead>\n",
       "    <tr style=\"text-align: right;\">\n",
       "      <th></th>\n",
       "      <th></th>\n",
       "      <th>brewery_id</th>\n",
       "      <th>brewery_id.1</th>\n",
       "      <th>user_id</th>\n",
       "      <th>user_id.1</th>\n",
       "    </tr>\n",
       "    <tr>\n",
       "      <th>beer_id</th>\n",
       "      <th>beer_id.1</th>\n",
       "      <th></th>\n",
       "      <th></th>\n",
       "      <th></th>\n",
       "      <th></th>\n",
       "    </tr>\n",
       "  </thead>\n",
       "  <tbody>\n",
       "    <tr>\n",
       "      <th>645</th>\n",
       "      <th>2360</th>\n",
       "      <td>207</td>\n",
       "      <td>406</td>\n",
       "      <td>sigmund.323</td>\n",
       "      <td>3343</td>\n",
       "    </tr>\n",
       "    <tr>\n",
       "      <th>3833</th>\n",
       "      <th>14232</th>\n",
       "      <td>396</td>\n",
       "      <td>432</td>\n",
       "      <td>blackhaddock.90923</td>\n",
       "      <td>97853</td>\n",
       "    </tr>\n",
       "    <tr>\n",
       "      <th>5281</th>\n",
       "      <th>7502</th>\n",
       "      <td>388</td>\n",
       "      <td>1069</td>\n",
       "      <td>rastacouere.3633</td>\n",
       "      <td>8034</td>\n",
       "    </tr>\n",
       "    <tr>\n",
       "      <th>69522</th>\n",
       "      <th>145903</th>\n",
       "      <td>22511</td>\n",
       "      <td>11233</td>\n",
       "      <td>boto.1987</td>\n",
       "      <td>154</td>\n",
       "    </tr>\n",
       "    <tr>\n",
       "      <th>117177</th>\n",
       "      <th>258973</th>\n",
       "      <td>17980</td>\n",
       "      <td>9863</td>\n",
       "      <td>boto.1987</td>\n",
       "      <td>154</td>\n",
       "    </tr>\n",
       "    <tr>\n",
       "      <th>8983</th>\n",
       "      <th>21457</th>\n",
       "      <td>2216</td>\n",
       "      <td>2058</td>\n",
       "      <td>callmemickey.152731</td>\n",
       "      <td>92897</td>\n",
       "    </tr>\n",
       "    <tr>\n",
       "      <th>64545</th>\n",
       "      <th>134550</th>\n",
       "      <td>17980</td>\n",
       "      <td>9863</td>\n",
       "      <td>callmemickey.152731</td>\n",
       "      <td>92897</td>\n",
       "    </tr>\n",
       "    <tr>\n",
       "      <th>47088</th>\n",
       "      <th>95636</th>\n",
       "      <td>388</td>\n",
       "      <td>1069</td>\n",
       "      <td>callmemickey.152731</td>\n",
       "      <td>92897</td>\n",
       "    </tr>\n",
       "    <tr>\n",
       "      <th>36316</th>\n",
       "      <th>66438</th>\n",
       "      <td>388</td>\n",
       "      <td>1069</td>\n",
       "      <td>callmemickey.152731</td>\n",
       "      <td>92897</td>\n",
       "    </tr>\n",
       "    <tr>\n",
       "      <th>87341</th>\n",
       "      <th>192014</th>\n",
       "      <td>22511</td>\n",
       "      <td>11233</td>\n",
       "      <td>callmemickey.152731</td>\n",
       "      <td>92897</td>\n",
       "    </tr>\n",
       "    <tr>\n",
       "      <th>129108</th>\n",
       "      <th>262454</th>\n",
       "      <td>26676</td>\n",
       "      <td>13267</td>\n",
       "      <td>huhzubendah.168653</td>\n",
       "      <td>96987</td>\n",
       "    </tr>\n",
       "    <tr>\n",
       "      <th>76421</th>\n",
       "      <th>151817</th>\n",
       "      <td>23222</td>\n",
       "      <td>11242</td>\n",
       "      <td>huhzubendah.168653</td>\n",
       "      <td>96987</td>\n",
       "    </tr>\n",
       "    <tr>\n",
       "      <th>115317</th>\n",
       "      <th>255240</th>\n",
       "      <td>20681</td>\n",
       "      <td>10659</td>\n",
       "      <td>huhzubendah.168653</td>\n",
       "      <td>96987</td>\n",
       "    </tr>\n",
       "    <tr>\n",
       "      <th>44910</th>\n",
       "      <th>84906</th>\n",
       "      <td>15237</td>\n",
       "      <td>9244</td>\n",
       "      <td>huhzubendah.168653</td>\n",
       "      <td>96987</td>\n",
       "    </tr>\n",
       "    <tr>\n",
       "      <th>81125</th>\n",
       "      <th>173481</th>\n",
       "      <td>2216</td>\n",
       "      <td>2058</td>\n",
       "      <td>huhzubendah.168653</td>\n",
       "      <td>96987</td>\n",
       "    </tr>\n",
       "    <tr>\n",
       "      <th>81697</th>\n",
       "      <th>175070</th>\n",
       "      <td>22511</td>\n",
       "      <td>11233</td>\n",
       "      <td>huhzubendah.168653</td>\n",
       "      <td>96987</td>\n",
       "    </tr>\n",
       "    <tr>\n",
       "      <th>67760</th>\n",
       "      <th>141983</th>\n",
       "      <td>22511</td>\n",
       "      <td>11233</td>\n",
       "      <td>huhzubendah.168653</td>\n",
       "      <td>96987</td>\n",
       "    </tr>\n",
       "    <tr>\n",
       "      <th>120372</th>\n",
       "      <th>267795</th>\n",
       "      <td>17980</td>\n",
       "      <td>9863</td>\n",
       "      <td>johnnnniee.125029</td>\n",
       "      <td>60182</td>\n",
       "    </tr>\n",
       "    <tr>\n",
       "      <th>116702</th>\n",
       "      <th>268621</th>\n",
       "      <td>20680</td>\n",
       "      <td>10514</td>\n",
       "      <td>stevoj.638668</td>\n",
       "      <td>162378</td>\n",
       "    </tr>\n",
       "    <tr>\n",
       "      <th>123062</th>\n",
       "      <th>298864</th>\n",
       "      <td>33519</td>\n",
       "      <td>18813</td>\n",
       "      <td>bmmillsy.659902</td>\n",
       "      <td>215163</td>\n",
       "    </tr>\n",
       "  </tbody>\n",
       "</table>\n",
       "</div>"
      ],
      "text/plain": [
       "                   brewery_id  brewery_id.1              user_id  user_id.1\n",
       "beer_id beer_id.1                                                          \n",
       "645     2360              207           406          sigmund.323       3343\n",
       "3833    14232             396           432   blackhaddock.90923      97853\n",
       "5281    7502              388          1069     rastacouere.3633       8034\n",
       "69522   145903          22511         11233            boto.1987        154\n",
       "117177  258973          17980          9863            boto.1987        154\n",
       "8983    21457            2216          2058  callmemickey.152731      92897\n",
       "64545   134550          17980          9863  callmemickey.152731      92897\n",
       "47088   95636             388          1069  callmemickey.152731      92897\n",
       "36316   66438             388          1069  callmemickey.152731      92897\n",
       "87341   192014          22511         11233  callmemickey.152731      92897\n",
       "129108  262454          26676         13267   huhzubendah.168653      96987\n",
       "76421   151817          23222         11242   huhzubendah.168653      96987\n",
       "115317  255240          20681         10659   huhzubendah.168653      96987\n",
       "44910   84906           15237          9244   huhzubendah.168653      96987\n",
       "81125   173481           2216          2058   huhzubendah.168653      96987\n",
       "81697   175070          22511         11233   huhzubendah.168653      96987\n",
       "67760   141983          22511         11233   huhzubendah.168653      96987\n",
       "120372  267795          17980          9863    johnnnniee.125029      60182\n",
       "116702  268621          20680         10514        stevoj.638668     162378\n",
       "123062  298864          33519         18813      bmmillsy.659902     215163"
      ]
     },
     "execution_count": 271,
     "metadata": {},
     "output_type": "execute_result"
    }
   ],
   "source": [
    "beer_locations_test"
   ]
  },
  {
   "cell_type": "code",
   "execution_count": 280,
   "metadata": {},
   "outputs": [],
   "source": [
    "brewery_locations = matched_breweries[matched_breweries['id'].isin(beer_locations_test['brewery_id']) & matched_breweries['id.1'].isin(beer_locations_test['brewery_id.1'])]\n",
    "brewery_locations = brewery_locations[['id','id.1','location', 'location.1']]"
   ]
  },
  {
   "cell_type": "code",
   "execution_count": 283,
   "metadata": {},
   "outputs": [
    {
     "data": {
      "text/html": [
       "<div>\n",
       "<style scoped>\n",
       "    .dataframe tbody tr th:only-of-type {\n",
       "        vertical-align: middle;\n",
       "    }\n",
       "\n",
       "    .dataframe tbody tr th {\n",
       "        vertical-align: top;\n",
       "    }\n",
       "\n",
       "    .dataframe thead th {\n",
       "        text-align: right;\n",
       "    }\n",
       "</style>\n",
       "<table border=\"1\" class=\"dataframe\">\n",
       "  <thead>\n",
       "    <tr style=\"text-align: right;\">\n",
       "      <th></th>\n",
       "      <th></th>\n",
       "      <th>location</th>\n",
       "      <th>location.1</th>\n",
       "    </tr>\n",
       "    <tr>\n",
       "      <th>id</th>\n",
       "      <th>id.1</th>\n",
       "      <th></th>\n",
       "      <th></th>\n",
       "    </tr>\n",
       "  </thead>\n",
       "  <tbody>\n",
       "    <tr>\n",
       "      <th>396</th>\n",
       "      <th>432</th>\n",
       "      <td>United States, California</td>\n",
       "      <td>United States, California</td>\n",
       "    </tr>\n",
       "    <tr>\n",
       "      <th>20680</th>\n",
       "      <th>10514</th>\n",
       "      <td>United States, Washington</td>\n",
       "      <td>United States, Washington</td>\n",
       "    </tr>\n",
       "    <tr>\n",
       "      <th>26676</th>\n",
       "      <th>13267</th>\n",
       "      <td>United States, New Jersey</td>\n",
       "      <td>United States, New Jersey</td>\n",
       "    </tr>\n",
       "    <tr>\n",
       "      <th>23222</th>\n",
       "      <th>11242</th>\n",
       "      <td>United States, Iowa</td>\n",
       "      <td>United States, Iowa</td>\n",
       "    </tr>\n",
       "    <tr>\n",
       "      <th>22511</th>\n",
       "      <th>11233</th>\n",
       "      <td>United States, Vermont</td>\n",
       "      <td>United States, Vermont</td>\n",
       "    </tr>\n",
       "    <tr>\n",
       "      <th>17980</th>\n",
       "      <th>9863</th>\n",
       "      <td>United States, Vermont</td>\n",
       "      <td>United States, Vermont</td>\n",
       "    </tr>\n",
       "    <tr>\n",
       "      <th>20681</th>\n",
       "      <th>10659</th>\n",
       "      <td>United States, Maine</td>\n",
       "      <td>United States, Maine</td>\n",
       "    </tr>\n",
       "    <tr>\n",
       "      <th>33519</th>\n",
       "      <th>18813</th>\n",
       "      <td>United States, Maine</td>\n",
       "      <td>United States, Maine</td>\n",
       "    </tr>\n",
       "    <tr>\n",
       "      <th>207</th>\n",
       "      <th>406</th>\n",
       "      <td>Belgium</td>\n",
       "      <td>Belgium</td>\n",
       "    </tr>\n",
       "    <tr>\n",
       "      <th>388</th>\n",
       "      <th>1069</th>\n",
       "      <td>Belgium</td>\n",
       "      <td>Belgium</td>\n",
       "    </tr>\n",
       "    <tr>\n",
       "      <th>2216</th>\n",
       "      <th>2058</th>\n",
       "      <td>Belgium</td>\n",
       "      <td>Belgium</td>\n",
       "    </tr>\n",
       "    <tr>\n",
       "      <th>15237</th>\n",
       "      <th>9244</th>\n",
       "      <td>Belgium</td>\n",
       "      <td>Belgium</td>\n",
       "    </tr>\n",
       "  </tbody>\n",
       "</table>\n",
       "</div>"
      ],
      "text/plain": [
       "                              location                 location.1\n",
       "id    id.1                                                       \n",
       "396   432    United States, California  United States, California\n",
       "20680 10514  United States, Washington  United States, Washington\n",
       "26676 13267  United States, New Jersey  United States, New Jersey\n",
       "23222 11242        United States, Iowa        United States, Iowa\n",
       "22511 11233     United States, Vermont     United States, Vermont\n",
       "17980 9863      United States, Vermont     United States, Vermont\n",
       "20681 10659       United States, Maine       United States, Maine\n",
       "33519 18813       United States, Maine       United States, Maine\n",
       "207   406                      Belgium                    Belgium\n",
       "388   1069                     Belgium                    Belgium\n",
       "2216  2058                     Belgium                    Belgium\n",
       "15237 9244                     Belgium                    Belgium"
      ]
     },
     "execution_count": 283,
     "metadata": {},
     "output_type": "execute_result"
    }
   ],
   "source": [
    "brewery_locations.set_index(['id','id.1'])"
   ]
  },
  {
   "cell_type": "code",
   "execution_count": 236,
   "metadata": {},
   "outputs": [
    {
     "data": {
      "text/html": [
       "<div>\n",
       "<style scoped>\n",
       "    .dataframe tbody tr th:only-of-type {\n",
       "        vertical-align: middle;\n",
       "    }\n",
       "\n",
       "    .dataframe tbody tr th {\n",
       "        vertical-align: top;\n",
       "    }\n",
       "\n",
       "    .dataframe thead th {\n",
       "        text-align: right;\n",
       "    }\n",
       "</style>\n",
       "<table border=\"1\" class=\"dataframe\">\n",
       "  <thead>\n",
       "    <tr style=\"text-align: right;\">\n",
       "      <th></th>\n",
       "      <th>brewery_id</th>\n",
       "      <th>brewery_id.1</th>\n",
       "    </tr>\n",
       "  </thead>\n",
       "  <tbody>\n",
       "    <tr>\n",
       "      <th>43246</th>\n",
       "      <td>207</td>\n",
       "      <td>406</td>\n",
       "    </tr>\n",
       "  </tbody>\n",
       "</table>\n",
       "</div>"
      ],
      "text/plain": [
       "       brewery_id  brewery_id.1\n",
       "43246         207           406"
      ]
     },
     "execution_count": 236,
     "metadata": {},
     "output_type": "execute_result"
    }
   ],
   "source": [
    "top_20_beers.loc[ (top_20_beers['beer_id'] == 645) & (top_20_beers['beer_id.1'] == 2360)][['brewery_id','brewery_id.1']]"
   ]
  },
  {
   "cell_type": "code",
   "execution_count": 235,
   "metadata": {},
   "outputs": [
    {
     "data": {
      "text/html": [
       "<div>\n",
       "<style scoped>\n",
       "    .dataframe tbody tr th:only-of-type {\n",
       "        vertical-align: middle;\n",
       "    }\n",
       "\n",
       "    .dataframe tbody tr th {\n",
       "        vertical-align: top;\n",
       "    }\n",
       "\n",
       "    .dataframe thead th {\n",
       "        text-align: right;\n",
       "    }\n",
       "</style>\n",
       "<table border=\"1\" class=\"dataframe\">\n",
       "  <thead>\n",
       "    <tr style=\"text-align: right;\">\n",
       "      <th></th>\n",
       "      <th>id</th>\n",
       "      <th>location</th>\n",
       "      <th>name</th>\n",
       "      <th>nbr_beers</th>\n",
       "      <th>id.1</th>\n",
       "      <th>location.1</th>\n",
       "      <th>name.1</th>\n",
       "      <th>nbr_beers.1</th>\n",
       "      <th>diff</th>\n",
       "      <th>sim</th>\n",
       "    </tr>\n",
       "  </thead>\n",
       "  <tbody>\n",
       "    <tr>\n",
       "      <th>4067</th>\n",
       "      <td>396</td>\n",
       "      <td>United States, California</td>\n",
       "      <td>AleSmith Brewing Company</td>\n",
       "      <td>288</td>\n",
       "      <td>432</td>\n",
       "      <td>United States, California</td>\n",
       "      <td>AleSmith Brewing Company</td>\n",
       "      <td>261</td>\n",
       "      <td>0.658297</td>\n",
       "      <td>1.000000</td>\n",
       "    </tr>\n",
       "    <tr>\n",
       "      <th>4469</th>\n",
       "      <td>20680</td>\n",
       "      <td>United States, Washington</td>\n",
       "      <td>Fremont Brewing Company</td>\n",
       "      <td>176</td>\n",
       "      <td>10514</td>\n",
       "      <td>United States, Washington</td>\n",
       "      <td>Fremont Brewing Company</td>\n",
       "      <td>191</td>\n",
       "      <td>0.360245</td>\n",
       "      <td>1.000000</td>\n",
       "    </tr>\n",
       "    <tr>\n",
       "      <th>4632</th>\n",
       "      <td>26676</td>\n",
       "      <td>United States, New Jersey</td>\n",
       "      <td>Kane Brewing Company</td>\n",
       "      <td>228</td>\n",
       "      <td>13267</td>\n",
       "      <td>United States, New Jersey</td>\n",
       "      <td>Kane Brewing Company</td>\n",
       "      <td>166</td>\n",
       "      <td>0.658297</td>\n",
       "      <td>1.000000</td>\n",
       "    </tr>\n",
       "    <tr>\n",
       "      <th>5818</th>\n",
       "      <td>23222</td>\n",
       "      <td>United States, Iowa</td>\n",
       "      <td>Toppling Goliath Brewing Company</td>\n",
       "      <td>93</td>\n",
       "      <td>11242</td>\n",
       "      <td>United States, Iowa</td>\n",
       "      <td>Toppling Goliath</td>\n",
       "      <td>84</td>\n",
       "      <td>0.719506</td>\n",
       "      <td>0.968504</td>\n",
       "    </tr>\n",
       "    <tr>\n",
       "      <th>6165</th>\n",
       "      <td>22511</td>\n",
       "      <td>United States, Vermont</td>\n",
       "      <td>Hill Farmstead Brewery</td>\n",
       "      <td>222</td>\n",
       "      <td>11233</td>\n",
       "      <td>United States, Vermont</td>\n",
       "      <td>Hill Farmstead Brewery</td>\n",
       "      <td>239</td>\n",
       "      <td>0.550189</td>\n",
       "      <td>1.000000</td>\n",
       "    </tr>\n",
       "    <tr>\n",
       "      <th>6171</th>\n",
       "      <td>17980</td>\n",
       "      <td>United States, Vermont</td>\n",
       "      <td>Lawson's Finest Liquids</td>\n",
       "      <td>103</td>\n",
       "      <td>9863</td>\n",
       "      <td>United States, Vermont</td>\n",
       "      <td>Lawsons Finest Liquids</td>\n",
       "      <td>89</td>\n",
       "      <td>1.000000</td>\n",
       "      <td>1.000000</td>\n",
       "    </tr>\n",
       "    <tr>\n",
       "      <th>6459</th>\n",
       "      <td>20681</td>\n",
       "      <td>United States, Maine</td>\n",
       "      <td>Maine Beer Company</td>\n",
       "      <td>48</td>\n",
       "      <td>10659</td>\n",
       "      <td>United States, Maine</td>\n",
       "      <td>Maine Beer Company</td>\n",
       "      <td>44</td>\n",
       "      <td>0.305457</td>\n",
       "      <td>1.000000</td>\n",
       "    </tr>\n",
       "    <tr>\n",
       "      <th>6488</th>\n",
       "      <td>33519</td>\n",
       "      <td>United States, Maine</td>\n",
       "      <td>Bissell Brothers Brewing Co.</td>\n",
       "      <td>37</td>\n",
       "      <td>18813</td>\n",
       "      <td>United States, Maine</td>\n",
       "      <td>Bissell Brothers Brewing Company</td>\n",
       "      <td>29</td>\n",
       "      <td>0.423924</td>\n",
       "      <td>0.923321</td>\n",
       "    </tr>\n",
       "    <tr>\n",
       "      <th>7395</th>\n",
       "      <td>207</td>\n",
       "      <td>Belgium</td>\n",
       "      <td>Brasserie de Rochefort</td>\n",
       "      <td>3</td>\n",
       "      <td>406</td>\n",
       "      <td>Belgium</td>\n",
       "      <td>Brasserie Rochefort</td>\n",
       "      <td>3</td>\n",
       "      <td>0.531187</td>\n",
       "      <td>0.923711</td>\n",
       "    </tr>\n",
       "    <tr>\n",
       "      <th>7443</th>\n",
       "      <td>388</td>\n",
       "      <td>Belgium</td>\n",
       "      <td>Brasserie Cantillon</td>\n",
       "      <td>82</td>\n",
       "      <td>1069</td>\n",
       "      <td>Belgium</td>\n",
       "      <td>Cantillon</td>\n",
       "      <td>77</td>\n",
       "      <td>0.480277</td>\n",
       "      <td>0.905220</td>\n",
       "    </tr>\n",
       "    <tr>\n",
       "      <th>7451</th>\n",
       "      <td>2216</td>\n",
       "      <td>Belgium</td>\n",
       "      <td>Brouwerij 3 Fonteinen</td>\n",
       "      <td>46</td>\n",
       "      <td>2058</td>\n",
       "      <td>Belgium</td>\n",
       "      <td>Brouwerij 3 Fonteinen</td>\n",
       "      <td>39</td>\n",
       "      <td>0.540373</td>\n",
       "      <td>1.000000</td>\n",
       "    </tr>\n",
       "    <tr>\n",
       "      <th>7513</th>\n",
       "      <td>15237</td>\n",
       "      <td>Belgium</td>\n",
       "      <td>De Struise Brouwers</td>\n",
       "      <td>145</td>\n",
       "      <td>9244</td>\n",
       "      <td>Belgium</td>\n",
       "      <td>De Struise Brouwers</td>\n",
       "      <td>234</td>\n",
       "      <td>0.523420</td>\n",
       "      <td>1.000000</td>\n",
       "    </tr>\n",
       "  </tbody>\n",
       "</table>\n",
       "</div>"
      ],
      "text/plain": [
       "         id                   location                              name  \\\n",
       "4067    396  United States, California          AleSmith Brewing Company   \n",
       "4469  20680  United States, Washington           Fremont Brewing Company   \n",
       "4632  26676  United States, New Jersey              Kane Brewing Company   \n",
       "5818  23222        United States, Iowa  Toppling Goliath Brewing Company   \n",
       "6165  22511     United States, Vermont            Hill Farmstead Brewery   \n",
       "6171  17980     United States, Vermont           Lawson's Finest Liquids   \n",
       "6459  20681       United States, Maine                Maine Beer Company   \n",
       "6488  33519       United States, Maine      Bissell Brothers Brewing Co.   \n",
       "7395    207                    Belgium            Brasserie de Rochefort   \n",
       "7443    388                    Belgium               Brasserie Cantillon   \n",
       "7451   2216                    Belgium             Brouwerij 3 Fonteinen   \n",
       "7513  15237                    Belgium               De Struise Brouwers   \n",
       "\n",
       "      nbr_beers   id.1                 location.1  \\\n",
       "4067        288    432  United States, California   \n",
       "4469        176  10514  United States, Washington   \n",
       "4632        228  13267  United States, New Jersey   \n",
       "5818         93  11242        United States, Iowa   \n",
       "6165        222  11233     United States, Vermont   \n",
       "6171        103   9863     United States, Vermont   \n",
       "6459         48  10659       United States, Maine   \n",
       "6488         37  18813       United States, Maine   \n",
       "7395          3    406                    Belgium   \n",
       "7443         82   1069                    Belgium   \n",
       "7451         46   2058                    Belgium   \n",
       "7513        145   9244                    Belgium   \n",
       "\n",
       "                                name.1  nbr_beers.1      diff       sim  \n",
       "4067          AleSmith Brewing Company          261  0.658297  1.000000  \n",
       "4469           Fremont Brewing Company          191  0.360245  1.000000  \n",
       "4632              Kane Brewing Company          166  0.658297  1.000000  \n",
       "5818                  Toppling Goliath           84  0.719506  0.968504  \n",
       "6165            Hill Farmstead Brewery          239  0.550189  1.000000  \n",
       "6171           Lawsons Finest Liquids           89  1.000000  1.000000  \n",
       "6459                Maine Beer Company           44  0.305457  1.000000  \n",
       "6488  Bissell Brothers Brewing Company           29  0.423924  0.923321  \n",
       "7395               Brasserie Rochefort            3  0.531187  0.923711  \n",
       "7443                         Cantillon           77  0.480277  0.905220  \n",
       "7451             Brouwerij 3 Fonteinen           39  0.540373  1.000000  \n",
       "7513               De Struise Brouwers          234  0.523420  1.000000  "
      ]
     },
     "execution_count": 235,
     "metadata": {},
     "output_type": "execute_result"
    }
   ],
   "source": [
    "top_20_breweries"
   ]
  },
  {
   "cell_type": "code",
   "execution_count": null,
   "metadata": {},
   "outputs": [],
   "source": [
    "beer_locations = []\n",
    "breweries_locations = []\n",
    "\n",
    "for i in beer_multiindex\n",
    "    beer_breweries= top_20_beers.loc[ (top_20_beers['beer_id'] == beer_multiindex[i][0]) & (top_20_beers['beer_id.1'] ==  beer_multiindex[i][1])][['brewery_id','brewery_id.1']]\n",
    "    "
   ]
  },
  {
   "cell_type": "markdown",
   "metadata": {},
   "source": [
    "### Comparing breweries locations and reviewers location"
   ]
  },
  {
   "cell_type": "code",
   "execution_count": 185,
   "metadata": {},
   "outputs": [],
   "source": [
    "#we extract the breweries that correspond to the top 20 beers\n",
    "top_20_beers_breweries= matched_breweries[matched_breweries['id'].isin(top_20_beers['brewery_id']) & matched_breweries['id.1'].isin(top_20_beers['brewery_id.1'])]"
   ]
  },
  {
   "cell_type": "code",
   "execution_count": 186,
   "metadata": {},
   "outputs": [
    {
     "data": {
      "text/plain": [
       "12"
      ]
     },
     "execution_count": 186,
     "metadata": {},
     "output_type": "execute_result"
    }
   ],
   "source": [
    "# We observe that there are only 12 corresponding breweries because there are several beers produced by the same breweries\n",
    "len(top_20_beers_breweries)"
   ]
  },
  {
   "cell_type": "code",
   "execution_count": 188,
   "metadata": {},
   "outputs": [
    {
     "data": {
      "text/html": [
       "<div>\n",
       "<style scoped>\n",
       "    .dataframe tbody tr th:only-of-type {\n",
       "        vertical-align: middle;\n",
       "    }\n",
       "\n",
       "    .dataframe tbody tr th {\n",
       "        vertical-align: top;\n",
       "    }\n",
       "\n",
       "    .dataframe thead th {\n",
       "        text-align: right;\n",
       "    }\n",
       "</style>\n",
       "<table border=\"1\" class=\"dataframe\">\n",
       "  <thead>\n",
       "    <tr style=\"text-align: right;\">\n",
       "      <th></th>\n",
       "      <th>id</th>\n",
       "      <th>location</th>\n",
       "      <th>name</th>\n",
       "      <th>nbr_beers</th>\n",
       "      <th>id.1</th>\n",
       "      <th>location.1</th>\n",
       "      <th>name.1</th>\n",
       "      <th>nbr_beers.1</th>\n",
       "      <th>diff</th>\n",
       "      <th>sim</th>\n",
       "    </tr>\n",
       "  </thead>\n",
       "  <tbody>\n",
       "    <tr>\n",
       "      <th>4067</th>\n",
       "      <td>396</td>\n",
       "      <td>United States, California</td>\n",
       "      <td>AleSmith Brewing Company</td>\n",
       "      <td>288</td>\n",
       "      <td>432</td>\n",
       "      <td>United States, California</td>\n",
       "      <td>AleSmith Brewing Company</td>\n",
       "      <td>261</td>\n",
       "      <td>0.658297</td>\n",
       "      <td>1.000000</td>\n",
       "    </tr>\n",
       "    <tr>\n",
       "      <th>4469</th>\n",
       "      <td>20680</td>\n",
       "      <td>United States, Washington</td>\n",
       "      <td>Fremont Brewing Company</td>\n",
       "      <td>176</td>\n",
       "      <td>10514</td>\n",
       "      <td>United States, Washington</td>\n",
       "      <td>Fremont Brewing Company</td>\n",
       "      <td>191</td>\n",
       "      <td>0.360245</td>\n",
       "      <td>1.000000</td>\n",
       "    </tr>\n",
       "    <tr>\n",
       "      <th>4632</th>\n",
       "      <td>26676</td>\n",
       "      <td>United States, New Jersey</td>\n",
       "      <td>Kane Brewing Company</td>\n",
       "      <td>228</td>\n",
       "      <td>13267</td>\n",
       "      <td>United States, New Jersey</td>\n",
       "      <td>Kane Brewing Company</td>\n",
       "      <td>166</td>\n",
       "      <td>0.658297</td>\n",
       "      <td>1.000000</td>\n",
       "    </tr>\n",
       "    <tr>\n",
       "      <th>5818</th>\n",
       "      <td>23222</td>\n",
       "      <td>United States, Iowa</td>\n",
       "      <td>Toppling Goliath Brewing Company</td>\n",
       "      <td>93</td>\n",
       "      <td>11242</td>\n",
       "      <td>United States, Iowa</td>\n",
       "      <td>Toppling Goliath</td>\n",
       "      <td>84</td>\n",
       "      <td>0.719506</td>\n",
       "      <td>0.968504</td>\n",
       "    </tr>\n",
       "    <tr>\n",
       "      <th>6165</th>\n",
       "      <td>22511</td>\n",
       "      <td>United States, Vermont</td>\n",
       "      <td>Hill Farmstead Brewery</td>\n",
       "      <td>222</td>\n",
       "      <td>11233</td>\n",
       "      <td>United States, Vermont</td>\n",
       "      <td>Hill Farmstead Brewery</td>\n",
       "      <td>239</td>\n",
       "      <td>0.550189</td>\n",
       "      <td>1.000000</td>\n",
       "    </tr>\n",
       "    <tr>\n",
       "      <th>6171</th>\n",
       "      <td>17980</td>\n",
       "      <td>United States, Vermont</td>\n",
       "      <td>Lawson's Finest Liquids</td>\n",
       "      <td>103</td>\n",
       "      <td>9863</td>\n",
       "      <td>United States, Vermont</td>\n",
       "      <td>Lawsons Finest Liquids</td>\n",
       "      <td>89</td>\n",
       "      <td>1.000000</td>\n",
       "      <td>1.000000</td>\n",
       "    </tr>\n",
       "    <tr>\n",
       "      <th>6459</th>\n",
       "      <td>20681</td>\n",
       "      <td>United States, Maine</td>\n",
       "      <td>Maine Beer Company</td>\n",
       "      <td>48</td>\n",
       "      <td>10659</td>\n",
       "      <td>United States, Maine</td>\n",
       "      <td>Maine Beer Company</td>\n",
       "      <td>44</td>\n",
       "      <td>0.305457</td>\n",
       "      <td>1.000000</td>\n",
       "    </tr>\n",
       "    <tr>\n",
       "      <th>6488</th>\n",
       "      <td>33519</td>\n",
       "      <td>United States, Maine</td>\n",
       "      <td>Bissell Brothers Brewing Co.</td>\n",
       "      <td>37</td>\n",
       "      <td>18813</td>\n",
       "      <td>United States, Maine</td>\n",
       "      <td>Bissell Brothers Brewing Company</td>\n",
       "      <td>29</td>\n",
       "      <td>0.423924</td>\n",
       "      <td>0.923321</td>\n",
       "    </tr>\n",
       "    <tr>\n",
       "      <th>7395</th>\n",
       "      <td>207</td>\n",
       "      <td>Belgium</td>\n",
       "      <td>Brasserie de Rochefort</td>\n",
       "      <td>3</td>\n",
       "      <td>406</td>\n",
       "      <td>Belgium</td>\n",
       "      <td>Brasserie Rochefort</td>\n",
       "      <td>3</td>\n",
       "      <td>0.531187</td>\n",
       "      <td>0.923711</td>\n",
       "    </tr>\n",
       "    <tr>\n",
       "      <th>7443</th>\n",
       "      <td>388</td>\n",
       "      <td>Belgium</td>\n",
       "      <td>Brasserie Cantillon</td>\n",
       "      <td>82</td>\n",
       "      <td>1069</td>\n",
       "      <td>Belgium</td>\n",
       "      <td>Cantillon</td>\n",
       "      <td>77</td>\n",
       "      <td>0.480277</td>\n",
       "      <td>0.905220</td>\n",
       "    </tr>\n",
       "    <tr>\n",
       "      <th>7451</th>\n",
       "      <td>2216</td>\n",
       "      <td>Belgium</td>\n",
       "      <td>Brouwerij 3 Fonteinen</td>\n",
       "      <td>46</td>\n",
       "      <td>2058</td>\n",
       "      <td>Belgium</td>\n",
       "      <td>Brouwerij 3 Fonteinen</td>\n",
       "      <td>39</td>\n",
       "      <td>0.540373</td>\n",
       "      <td>1.000000</td>\n",
       "    </tr>\n",
       "    <tr>\n",
       "      <th>7513</th>\n",
       "      <td>15237</td>\n",
       "      <td>Belgium</td>\n",
       "      <td>De Struise Brouwers</td>\n",
       "      <td>145</td>\n",
       "      <td>9244</td>\n",
       "      <td>Belgium</td>\n",
       "      <td>De Struise Brouwers</td>\n",
       "      <td>234</td>\n",
       "      <td>0.523420</td>\n",
       "      <td>1.000000</td>\n",
       "    </tr>\n",
       "  </tbody>\n",
       "</table>\n",
       "</div>"
      ],
      "text/plain": [
       "         id                   location                              name  \\\n",
       "4067    396  United States, California          AleSmith Brewing Company   \n",
       "4469  20680  United States, Washington           Fremont Brewing Company   \n",
       "4632  26676  United States, New Jersey              Kane Brewing Company   \n",
       "5818  23222        United States, Iowa  Toppling Goliath Brewing Company   \n",
       "6165  22511     United States, Vermont            Hill Farmstead Brewery   \n",
       "6171  17980     United States, Vermont           Lawson's Finest Liquids   \n",
       "6459  20681       United States, Maine                Maine Beer Company   \n",
       "6488  33519       United States, Maine      Bissell Brothers Brewing Co.   \n",
       "7395    207                    Belgium            Brasserie de Rochefort   \n",
       "7443    388                    Belgium               Brasserie Cantillon   \n",
       "7451   2216                    Belgium             Brouwerij 3 Fonteinen   \n",
       "7513  15237                    Belgium               De Struise Brouwers   \n",
       "\n",
       "      nbr_beers   id.1                 location.1  \\\n",
       "4067        288    432  United States, California   \n",
       "4469        176  10514  United States, Washington   \n",
       "4632        228  13267  United States, New Jersey   \n",
       "5818         93  11242        United States, Iowa   \n",
       "6165        222  11233     United States, Vermont   \n",
       "6171        103   9863     United States, Vermont   \n",
       "6459         48  10659       United States, Maine   \n",
       "6488         37  18813       United States, Maine   \n",
       "7395          3    406                    Belgium   \n",
       "7443         82   1069                    Belgium   \n",
       "7451         46   2058                    Belgium   \n",
       "7513        145   9244                    Belgium   \n",
       "\n",
       "                                name.1  nbr_beers.1      diff       sim  \n",
       "4067          AleSmith Brewing Company          261  0.658297  1.000000  \n",
       "4469           Fremont Brewing Company          191  0.360245  1.000000  \n",
       "4632              Kane Brewing Company          166  0.658297  1.000000  \n",
       "5818                  Toppling Goliath           84  0.719506  0.968504  \n",
       "6165            Hill Farmstead Brewery          239  0.550189  1.000000  \n",
       "6171           Lawsons Finest Liquids           89  1.000000  1.000000  \n",
       "6459                Maine Beer Company           44  0.305457  1.000000  \n",
       "6488  Bissell Brothers Brewing Company           29  0.423924  0.923321  \n",
       "7395               Brasserie Rochefort            3  0.531187  0.923711  \n",
       "7443                         Cantillon           77  0.480277  0.905220  \n",
       "7451             Brouwerij 3 Fonteinen           39  0.540373  1.000000  \n",
       "7513               De Struise Brouwers          234  0.523420  1.000000  "
      ]
     },
     "execution_count": 188,
     "metadata": {},
     "output_type": "execute_result"
    }
   ],
   "source": [
    "top_20_beers_breweries"
   ]
  },
  {
   "cell_type": "code",
   "execution_count": null,
   "metadata": {},
   "outputs": [],
   "source": [
    "top_20_beers.merge(top_20_beers_breweries)"
   ]
  },
  {
   "cell_type": "markdown",
   "metadata": {},
   "source": [
    "Aligned data = matched breweries and matched beers so not same reviewer potentially \n",
    "\n",
    "Extraire les noms des reviewer  (user_id et user_id.1 sont les memes dans matched_users) + pays d'origine + le nb de REVIEWS qu'ils ont mis (1 et 2): filter selon si l'un ou l'autre a mis plus que x review -> filter top_beers avec ces users en utilisant MD_users\n",
    "\n",
    "Extraire de top_beers les bieres top 22 avg (average des avg.1 et avg.2) + pays en utilisant brewery id \n",
    "\n",
    "trouver une raison pour le choix des treshold nbr of reviews"
   ]
  },
  {
   "cell_type": "markdown",
   "metadata": {},
   "source": [
    "Repeter ca par region?"
   ]
  },
  {
   "cell_type": "markdown",
   "metadata": {},
   "source": [
    "# Flos code:"
   ]
  },
  {
   "cell_type": "markdown",
   "metadata": {},
   "source": [
    "## Chinas beers correlate with how US citizens view China:"
   ]
  },
  {
   "cell_type": "code",
   "execution_count": 17,
   "metadata": {},
   "outputs": [
    {
     "name": "stdout",
     "output_type": "stream",
     "text": [
      "188\n",
      "66\n"
     ]
    }
   ],
   "source": [
    "print(len(RB_breweries[RB_breweries['location']=='China']))\n",
    "print(len(BA_breweries[BA_breweries['location']=='China']))"
   ]
  },
  {
   "cell_type": "code",
   "execution_count": 23,
   "metadata": {},
   "outputs": [],
   "source": [
    "chinese_breweries_RB = RB_breweries[RB_breweries['location']=='China']\n",
    "chinese_breweries_BA = BA_breweries[BA_breweries['location']=='China']"
   ]
  },
  {
   "cell_type": "code",
   "execution_count": 21,
   "metadata": {},
   "outputs": [
    {
     "data": {
      "text/plain": [
       "id\n",
       "29441    申爱 Shanghai Love Brewing Co.\n",
       "Name: name, dtype: object"
      ]
     },
     "execution_count": 21,
     "metadata": {},
     "output_type": "execute_result"
    }
   ],
   "source": [
    "#As the same breweries have not exactly the same wording, we concatenate the two dataframes.\n",
    "chinese_breweries = pd.concat([chinese_breweries_RB['name'], (chinese_breweries_BA['name'])], axis=0)\n",
    "chinese_breweries.head(1)"
   ]
  },
  {
   "cell_type": "code",
   "execution_count": 24,
   "metadata": {},
   "outputs": [
    {
     "data": {
      "text/html": [
       "<div>\n",
       "<style scoped>\n",
       "    .dataframe tbody tr th:only-of-type {\n",
       "        vertical-align: middle;\n",
       "    }\n",
       "\n",
       "    .dataframe tbody tr th {\n",
       "        vertical-align: top;\n",
       "    }\n",
       "\n",
       "    .dataframe thead th {\n",
       "        text-align: right;\n",
       "    }\n",
       "</style>\n",
       "<table border=\"1\" class=\"dataframe\">\n",
       "  <thead>\n",
       "    <tr style=\"text-align: right;\">\n",
       "      <th></th>\n",
       "      <th>beer_name</th>\n",
       "      <th>beer_id</th>\n",
       "      <th>brewery_name</th>\n",
       "      <th>brewery_id</th>\n",
       "      <th>style</th>\n",
       "      <th>abv</th>\n",
       "      <th>date</th>\n",
       "      <th>user_name</th>\n",
       "      <th>user_id</th>\n",
       "      <th>appearance</th>\n",
       "      <th>aroma</th>\n",
       "      <th>palate</th>\n",
       "      <th>taste</th>\n",
       "      <th>overall</th>\n",
       "      <th>rating</th>\n",
       "      <th>text</th>\n",
       "    </tr>\n",
       "  </thead>\n",
       "  <tbody>\n",
       "    <tr>\n",
       "      <th>0</th>\n",
       "      <td>Régab</td>\n",
       "      <td>142544</td>\n",
       "      <td>Societe des Brasseries du Gabon (SOBRAGA)</td>\n",
       "      <td>37262</td>\n",
       "      <td>Euro Pale Lager</td>\n",
       "      <td>4.5</td>\n",
       "      <td>2015-08-20 10:00:00</td>\n",
       "      <td>nmann08</td>\n",
       "      <td>nmann08.184925</td>\n",
       "      <td>3.25</td>\n",
       "      <td>2.75</td>\n",
       "      <td>3.25</td>\n",
       "      <td>2.75</td>\n",
       "      <td>3.0</td>\n",
       "      <td>2.88</td>\n",
       "      <td>From a bottle, pours a piss yellow color with ...</td>\n",
       "    </tr>\n",
       "  </tbody>\n",
       "</table>\n",
       "</div>"
      ],
      "text/plain": [
       "  beer_name  beer_id                               brewery_name  brewery_id  \\\n",
       "0     Régab   142544  Societe des Brasseries du Gabon (SOBRAGA)       37262   \n",
       "\n",
       "             style  abv                 date user_name         user_id  \\\n",
       "0  Euro Pale Lager  4.5  2015-08-20 10:00:00   nmann08  nmann08.184925   \n",
       "\n",
       "   appearance  aroma  palate  taste  overall  rating  \\\n",
       "0        3.25   2.75    3.25   2.75      3.0    2.88   \n",
       "\n",
       "                                                text  \n",
       "0  From a bottle, pours a piss yellow color with ...  "
      ]
     },
     "execution_count": 24,
     "metadata": {},
     "output_type": "execute_result"
    }
   ],
   "source": [
    "df_BA_reviews.head(1)"
   ]
  },
  {
   "cell_type": "code",
   "execution_count": 25,
   "metadata": {},
   "outputs": [
    {
     "data": {
      "text/plain": [
       "0"
      ]
     },
     "execution_count": 25,
     "metadata": {},
     "output_type": "execute_result"
    }
   ],
   "source": [
    "len(df_BA_reviews[df_BA_reviews['brewery_name'].isin([chinese_breweries])])"
   ]
  },
  {
   "cell_type": "code",
   "execution_count": 26,
   "metadata": {},
   "outputs": [
    {
     "data": {
      "text/plain": [
       "0"
      ]
     },
     "execution_count": 26,
     "metadata": {},
     "output_type": "execute_result"
    }
   ],
   "source": [
    "len(df_RB_reviews[df_RB_reviews['brewery_name'].isin([chinese_breweries])])"
   ]
  },
  {
   "cell_type": "markdown",
   "metadata": {},
   "source": [
    "There are no ratings about chinese beers neither in BA nor in RB."
   ]
  },
  {
   "cell_type": "markdown",
   "metadata": {},
   "source": [
    "## Influence of Brexit on british reviews in the US:"
   ]
  },
  {
   "cell_type": "code",
   "execution_count": 29,
   "metadata": {},
   "outputs": [
    {
     "name": "stdout",
     "output_type": "stream",
     "text": [
      "2017-08-01 10:00:00\n",
      "1996-08-22 10:00:00\n"
     ]
    }
   ],
   "source": [
    "print(df_BA_reviews.date.max())\n",
    "print(df_BA_reviews.date.min())"
   ]
  },
  {
   "cell_type": "code",
   "execution_count": 30,
   "metadata": {},
   "outputs": [
    {
     "name": "stdout",
     "output_type": "stream",
     "text": [
      "2017-07-31 10:00:00\n",
      "2000-04-12 10:00:00\n"
     ]
    }
   ],
   "source": [
    "print(df_RB_reviews.date.max())\n",
    "print(df_RB_reviews.date.min())"
   ]
  },
  {
   "cell_type": "markdown",
   "metadata": {},
   "source": [
    "## Preprocessing"
   ]
  },
  {
   "cell_type": "code",
   "execution_count": 101,
   "metadata": {},
   "outputs": [],
   "source": [
    "#Delete later\n",
    "df_BA_reviews['date'] = pd.to_datetime(df_BA_reviews['date'], format=\"%Y-%m-%d %H:%M:%S\")\n",
    "BA_breweries.rename(columns = {'name':'brewery_name'}, inplace = True)\n",
    "df_BA_reviews = (df_BA_reviews.merge(BA_breweries[['location', 'brewery_name']], on=['brewery_name'], how='left')).rename(columns = {'location':'brewery_location'})\n",
    "BA_breweries.rename(columns = {'brewery_name':'name'}, inplace = True)\n",
    "df_BA_reviews['brewery_merged_location'] = df_BA_reviews['brewery_location'].copy()\n",
    "df_BA_reviews.loc[(df_BA_reviews['brewery_merged_location'].str.startswith('United States')), 'brewery_merged_location'] = 'United States'\n",
    "\n",
    "df_ratings_BA = (df_BA_reviews.merge(BA_users[['location', 'user_name']], on=['user_name'], how='left')).rename(columns={'location':'user_location'})\n",
    "\n"
   ]
  },
  {
   "cell_type": "code",
   "execution_count": null,
   "metadata": {},
   "outputs": [],
   "source": [
    "#Transform the dates of the reviews from string to datetime\n",
    "df_BA_reviews['date'] = pd.to_datetime(df_BA_reviews['date'], format=\"%Y-%m-%d %H:%M:%S\")\n",
    "df_RB_reviews['date'] = pd.to_datetime(df_RB_reviews['date'], format=\"%Y-%m-%d %H:%M:%S\")"
   ]
  },
  {
   "cell_type": "code",
   "execution_count": 33,
   "metadata": {},
   "outputs": [],
   "source": [
    "#Rename the column name to brewery_name to allow merging with the \n",
    "BA_breweries.rename(columns = {'name':'brewery_name'}, inplace = True)\n",
    "RB_breweries.rename(columns = {'name':'brewery_name'}, inplace = True)\n",
    "\n",
    "\n",
    "#Add the location to the beer dataframe\n",
    "df_BA_reviews = (df_BA_reviews.merge(BA_breweries[['location', 'brewery_name']], on=['brewery_name'], how='left')).rename(columns = {'location':'brewery_location'})\n",
    "df_RB_reviews = (df_RB_reviews.merge(RB_breweries[['location', 'brewery_name']], on=['brewery_name'], how='left')).rename(columns = {'location':'brewery_location'})\n",
    "\n",
    "\n",
    "#Name the columns back: \n",
    "BA_breweries.rename(columns = {'brewery_name':'name'}, inplace = True)\n",
    "RB_breweries.rename(columns = {'brewery_name':'name'}, inplace = True)"
   ]
  },
  {
   "cell_type": "code",
   "execution_count": 74,
   "metadata": {},
   "outputs": [],
   "source": [
    "# Add a column where all breweries from the united states get 'United States' as location\n",
    "df_RB_reviews['brewery_merged_location'] = df_RB_reviews['brewery_location'].copy()\n",
    "df_RB_reviews.loc[(df_RB_reviews['brewery_merged_location'].str.startswith('United States')), 'brewery_merged_location'] = 'United States'\n",
    "\n",
    "\n",
    "df_BA_reviews['brewery_merged_location'] = df_BA_reviews['brewery_location'].copy()\n",
    "df_BA_reviews.loc[(df_BA_reviews['brewery_merged_location'].str.startswith('United States')), 'brewery_merged_location'] = 'United States'"
   ]
  },
  {
   "cell_type": "code",
   "execution_count": 76,
   "metadata": {},
   "outputs": [],
   "source": [
    "#Add the country of origin of the reviewer to the review\n",
    "df_ratings_RB = (df_RB_reviews.merge(RB_users[['location', 'user_name']], on=['user_name'], how='left')).rename(columns={'location':'user_location'})\n",
    "df_ratings_BA = (df_BA_reviews.merge(BA_users[['location', 'user_name']], on=['user_name'], how='left')).rename(columns={'location':'user_location'})\n",
    "\n",
    "# Add a column where all users from the united states get 'United States' as location\n",
    "df_ratings_RB['brewery_merged_location'] = df_ratings_RB['brewery_location'].copy()\n",
    "df_ratings_RB.loc[(df_ratings_RB['brewery_merged_location'].str.startswith('United States')), 'brewery_merged_location'] = 'United States'\n",
    "\n",
    "#For BA we have to replace the NaN values\n",
    "df_ratings_BA['user_location'] = df_ratings_BA['user_location'].fillna('Unknown')\n",
    "df_ratings_BA['user_merged_location'] = df_ratings_BA['user_location'].copy()\n",
    "df_ratings_BA.loc[(df_ratings_BA['user_merged_location'].str.startswith('United States')), 'user_merged_location'] = 'United States'"
   ]
  },
  {
   "cell_type": "code",
   "execution_count": 50,
   "metadata": {},
   "outputs": [],
   "source": [
    "'''df_BA_reviews = df_BA_reviews.loc[:, ~df_BA_reviews.columns.duplicated()]\n",
    "df_RB_reviews = df_RB_reviews.loc[:, ~df_RB_reviews.columns.duplicated()]'''\n"
   ]
  },
  {
   "cell_type": "markdown",
   "metadata": {},
   "source": [
    "### Get Reviews about british beer:"
   ]
  },
  {
   "cell_type": "code",
   "execution_count": 38,
   "metadata": {},
   "outputs": [],
   "source": [
    "df_british_beers_RB = df_RB_reviews[(df_RB_reviews['brewery_location']=='Northern Ireland') |\n",
    "                                (df_RB_reviews['brewery_location']=='Wales')  |\n",
    "                                (df_RB_reviews['brewery_location']=='Scotland') |\n",
    "                                (df_RB_reviews['brewery_location']=='England')]\n",
    "\n",
    "df_british_beers_BA = df_BA_reviews[(df_BA_reviews['brewery_location']=='Northern Ireland') |\n",
    "                                (df_BA_reviews['brewery_location']=='Wales')  |\n",
    "                                (df_BA_reviews['brewery_location']=='Scotland') |\n",
    "                                (df_BA_reviews['brewery_location']=='England')]"
   ]
  },
  {
   "cell_type": "code",
   "execution_count": 41,
   "metadata": {},
   "outputs": [
    {
     "name": "stdout",
     "output_type": "stream",
     "text": [
      "in RB we have: 774523 beers.\n",
      "in BA we have: 95800 beers.\n"
     ]
    }
   ],
   "source": [
    "#count the number of beers we can work with.\n",
    "print('in RB we have: ' + str(len(df_british_beers_RB)) + ' beers.')\n",
    "print('in BA we have: ' + str(len(df_british_beers_BA)) + ' beers.')"
   ]
  },
  {
   "cell_type": "code",
   "execution_count": 70,
   "metadata": {},
   "outputs": [
    {
     "name": "stdout",
     "output_type": "stream",
     "text": [
      "We have 4363 ratings of british beer in BA\n",
      "and 107213 ratings of british beer in RA after the brexit\n",
      "Meaning we can work with 111576 ratings.\n"
     ]
    }
   ],
   "source": [
    "brexit_date = datetime.datetime(2016, 6, 23, 0, 0, 0)\n",
    "\n",
    "\n",
    "print('We have '+ str(len(df_british_beers_BA[df_british_beers_BA['date'] > brexit_date])) +' ratings of british beer in BA')\n",
    "print('and '+ str(len(df_british_beers_RB[df_british_beers_RB['date'] > brexit_date])) +' ratings of british beer in RA after the brexit')\n",
    "print('Meaning we can work with ' + str(len(df_british_beers_RB[df_british_beers_RB['date'] > brexit_date]) + len(df_british_beers_BA[df_british_beers_BA['date'] > brexit_date])) +' ratings.')"
   ]
  },
  {
   "cell_type": "markdown",
   "metadata": {},
   "source": [
    "# Visualize where most ratings were from:"
   ]
  },
  {
   "cell_type": "code",
   "execution_count": 109,
   "metadata": {},
   "outputs": [],
   "source": [
    "#Do that only once. Stores the dataframes so that we can access them more easily next time and have to do the data preprocessing only once\n",
    "df_ratings_BA.to_csv(PATH+'/dataframes_Flo/df_BA_ratings.csv', columns=['beer_name', 'beer_id', 'brewery_name', 'brewery_id', 'style', 'abv', 'date', 'user_name', 'user_id', 'appearance', 'aroma', 'palate', 'taste', 'overall', 'rating', 'text'], index=False)"
   ]
  },
  {
   "cell_type": "code",
   "execution_count": 99,
   "metadata": {},
   "outputs": [],
   "source": [
    "df_RB_reviews.to_csv(PATH+'/dataframes_Flo/df_RB_reviews.csv', columns=['beer_name', 'beer_id', 'brewery_name', 'brewery_id', 'style', 'abv', 'date', 'user_name', 'user_id', 'appearance', 'aroma', 'palate', 'taste', 'overall', 'rating', 'text'], index=False)"
   ]
  },
  {
   "cell_type": "markdown",
   "metadata": {},
   "source": [
    "# Code for Zeina:"
   ]
  },
  {
   "cell_type": "code",
   "execution_count": null,
   "metadata": {},
   "outputs": [],
   "source": [
    "words_to_select_can = ['can', 'canned']\n",
    "words_to_select_bottle = ['bottle', 'bottled']"
   ]
  }
 ],
 "metadata": {
  "kernelspec": {
   "display_name": "ada",
   "language": "python",
   "name": "python3"
  },
  "language_info": {
   "codemirror_mode": {
    "name": "ipython",
    "version": 3
   },
   "file_extension": ".py",
   "mimetype": "text/x-python",
   "name": "python",
   "nbconvert_exporter": "python",
   "pygments_lexer": "ipython3",
   "version": "3.9.13"
  },
  "vscode": {
   "interpreter": {
    "hash": "faf7d6ed75ed7c5983c8b8c663c43d66c206a8e5fc8fdda408f4c308fc80edef"
   }
  }
 },
 "nbformat": 4,
 "nbformat_minor": 4
}
