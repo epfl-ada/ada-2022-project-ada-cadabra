{
 "cells": [
  {
   "cell_type": "markdown",
   "metadata": {},
   "source": [
    "# Is a good beer a good beer everywhere?"
   ]
  },
  {
   "cell_type": "markdown",
   "metadata": {},
   "source": [
    "In the following notebook, we explore the idea of how liked beers differ locally and globally. We start by extracting the data and preprocessing it in a way that makes it easier to compare locations of beers and breweries."
   ]
  },
  {
   "cell_type": "code",
   "execution_count": 1,
   "metadata": {},
   "outputs": [],
   "source": [
    "import pandas as pd\n",
    "import numpy as np\n",
    "import gzip #to read gzip files\n",
    "import matplotlib.pyplot as plt\n",
    "import datetime\n",
    "import pickle"
   ]
  },
  {
   "cell_type": "markdown",
   "metadata": {},
   "source": [
    "## Data extraction and viewing"
   ]
  },
  {
   "cell_type": "markdown",
   "metadata": {},
   "source": [
    "We start by extracting the data for beers, breweries and users from the two rating websites BeerAdvocate and RateBeer as well as the matched data. We view the dataframe first few rows to get a sense of what the data contains."
   ]
  },
  {
   "cell_type": "code",
   "execution_count": 2,
   "metadata": {},
   "outputs": [],
   "source": [
    "PATH = '../'"
   ]
  },
  {
   "cell_type": "markdown",
   "metadata": {},
   "source": [
    "### BeerAdvocate data"
   ]
  },
  {
   "cell_type": "code",
   "execution_count": 7,
   "metadata": {},
   "outputs": [
    {
     "data": {
      "text/html": [
       "<div>\n",
       "<style scoped>\n",
       "    .dataframe tbody tr th:only-of-type {\n",
       "        vertical-align: middle;\n",
       "    }\n",
       "\n",
       "    .dataframe tbody tr th {\n",
       "        vertical-align: top;\n",
       "    }\n",
       "\n",
       "    .dataframe thead th {\n",
       "        text-align: right;\n",
       "    }\n",
       "</style>\n",
       "<table border=\"1\" class=\"dataframe\">\n",
       "  <thead>\n",
       "    <tr style=\"text-align: right;\">\n",
       "      <th></th>\n",
       "      <th>beer_name</th>\n",
       "      <th>brewery_id</th>\n",
       "      <th>brewery_name</th>\n",
       "      <th>style</th>\n",
       "      <th>nbr_ratings</th>\n",
       "      <th>nbr_reviews</th>\n",
       "      <th>avg</th>\n",
       "      <th>ba_score</th>\n",
       "      <th>bros_score</th>\n",
       "      <th>abv</th>\n",
       "      <th>avg_computed</th>\n",
       "      <th>zscore</th>\n",
       "      <th>nbr_matched_valid_ratings</th>\n",
       "      <th>avg_matched_valid_ratings</th>\n",
       "    </tr>\n",
       "    <tr>\n",
       "      <th>beer_id</th>\n",
       "      <th></th>\n",
       "      <th></th>\n",
       "      <th></th>\n",
       "      <th></th>\n",
       "      <th></th>\n",
       "      <th></th>\n",
       "      <th></th>\n",
       "      <th></th>\n",
       "      <th></th>\n",
       "      <th></th>\n",
       "      <th></th>\n",
       "      <th></th>\n",
       "      <th></th>\n",
       "      <th></th>\n",
       "    </tr>\n",
       "  </thead>\n",
       "  <tbody>\n",
       "    <tr>\n",
       "      <th>166064</th>\n",
       "      <td>Nashe Moskovskoe</td>\n",
       "      <td>39912</td>\n",
       "      <td>Abdysh-Ata (Абдыш Ата)</td>\n",
       "      <td>Euro Pale Lager</td>\n",
       "      <td>0</td>\n",
       "      <td>0</td>\n",
       "      <td>NaN</td>\n",
       "      <td>NaN</td>\n",
       "      <td>NaN</td>\n",
       "      <td>4.7</td>\n",
       "      <td>NaN</td>\n",
       "      <td>NaN</td>\n",
       "      <td>0</td>\n",
       "      <td>NaN</td>\n",
       "    </tr>\n",
       "    <tr>\n",
       "      <th>166065</th>\n",
       "      <td>Nashe Pivovskoe</td>\n",
       "      <td>39912</td>\n",
       "      <td>Abdysh-Ata (Абдыш Ата)</td>\n",
       "      <td>Euro Pale Lager</td>\n",
       "      <td>0</td>\n",
       "      <td>0</td>\n",
       "      <td>NaN</td>\n",
       "      <td>NaN</td>\n",
       "      <td>NaN</td>\n",
       "      <td>3.8</td>\n",
       "      <td>NaN</td>\n",
       "      <td>NaN</td>\n",
       "      <td>0</td>\n",
       "      <td>NaN</td>\n",
       "    </tr>\n",
       "  </tbody>\n",
       "</table>\n",
       "</div>"
      ],
      "text/plain": [
       "                beer_name  brewery_id            brewery_name  \\\n",
       "beer_id                                                         \n",
       "166064   Nashe Moskovskoe       39912  Abdysh-Ata (Абдыш Ата)   \n",
       "166065    Nashe Pivovskoe       39912  Abdysh-Ata (Абдыш Ата)   \n",
       "\n",
       "                   style  nbr_ratings  nbr_reviews  avg  ba_score  bros_score  \\\n",
       "beer_id                                                                         \n",
       "166064   Euro Pale Lager            0            0  NaN       NaN         NaN   \n",
       "166065   Euro Pale Lager            0            0  NaN       NaN         NaN   \n",
       "\n",
       "         abv  avg_computed  zscore  nbr_matched_valid_ratings  \\\n",
       "beer_id                                                         \n",
       "166064   4.7           NaN     NaN                          0   \n",
       "166065   3.8           NaN     NaN                          0   \n",
       "\n",
       "         avg_matched_valid_ratings  \n",
       "beer_id                             \n",
       "166064                         NaN  \n",
       "166065                         NaN  "
      ]
     },
     "execution_count": 7,
     "metadata": {},
     "output_type": "execute_result"
    }
   ],
   "source": [
    "BA_beers = pd.read_csv(PATH+'BeerAdvocate/beers.csv', index_col='beer_id')\n",
    "BA_beers.head(2)"
   ]
  },
  {
   "cell_type": "code",
   "execution_count": 8,
   "metadata": {},
   "outputs": [
    {
     "data": {
      "text/html": [
       "<div>\n",
       "<style scoped>\n",
       "    .dataframe tbody tr th:only-of-type {\n",
       "        vertical-align: middle;\n",
       "    }\n",
       "\n",
       "    .dataframe tbody tr th {\n",
       "        vertical-align: top;\n",
       "    }\n",
       "\n",
       "    .dataframe thead th {\n",
       "        text-align: right;\n",
       "    }\n",
       "</style>\n",
       "<table border=\"1\" class=\"dataframe\">\n",
       "  <thead>\n",
       "    <tr style=\"text-align: right;\">\n",
       "      <th></th>\n",
       "      <th>abv</th>\n",
       "      <th>avg</th>\n",
       "      <th>avg_computed</th>\n",
       "      <th>avg_matched_valid_ratings</th>\n",
       "      <th>ba_score</th>\n",
       "      <th>beer_id</th>\n",
       "      <th>beer_name</th>\n",
       "      <th>beer_wout_brewery_name</th>\n",
       "      <th>brewery_id</th>\n",
       "      <th>brewery_name</th>\n",
       "      <th>...</th>\n",
       "      <th>brewery_id.1</th>\n",
       "      <th>brewery_name.1</th>\n",
       "      <th>nbr_matched_valid_ratings.1</th>\n",
       "      <th>nbr_ratings.1</th>\n",
       "      <th>overall_score</th>\n",
       "      <th>style.1</th>\n",
       "      <th>style_score</th>\n",
       "      <th>zscore.1</th>\n",
       "      <th>diff</th>\n",
       "      <th>sim</th>\n",
       "    </tr>\n",
       "  </thead>\n",
       "  <tbody>\n",
       "    <tr>\n",
       "      <th>0</th>\n",
       "      <td>4.8</td>\n",
       "      <td>3.45</td>\n",
       "      <td>3.439867</td>\n",
       "      <td>3.504068</td>\n",
       "      <td>80.0</td>\n",
       "      <td>19827</td>\n",
       "      <td>Legbiter</td>\n",
       "      <td>Legbiter</td>\n",
       "      <td>10093</td>\n",
       "      <td>Strangford Lough Brewing Company Ltd</td>\n",
       "      <td>...</td>\n",
       "      <td>4959</td>\n",
       "      <td>Strangford Lough</td>\n",
       "      <td>89</td>\n",
       "      <td>89</td>\n",
       "      <td>23.0</td>\n",
       "      <td>Golden Ale/Blond Ale</td>\n",
       "      <td>27.0</td>\n",
       "      <td>-0.698304</td>\n",
       "      <td>1.000000</td>\n",
       "      <td>1.0</td>\n",
       "    </tr>\n",
       "    <tr>\n",
       "      <th>1</th>\n",
       "      <td>6.0</td>\n",
       "      <td>3.86</td>\n",
       "      <td>3.888750</td>\n",
       "      <td>3.768333</td>\n",
       "      <td>NaN</td>\n",
       "      <td>20841</td>\n",
       "      <td>St. Patrick's Ale</td>\n",
       "      <td>Patricks Ale St</td>\n",
       "      <td>10093</td>\n",
       "      <td>Strangford Lough Brewing Company Ltd</td>\n",
       "      <td>...</td>\n",
       "      <td>4959</td>\n",
       "      <td>Strangford Lough</td>\n",
       "      <td>11</td>\n",
       "      <td>11</td>\n",
       "      <td>52.0</td>\n",
       "      <td>Irish Ale</td>\n",
       "      <td>79.0</td>\n",
       "      <td>0.005754</td>\n",
       "      <td>0.527141</td>\n",
       "      <td>1.0</td>\n",
       "    </tr>\n",
       "  </tbody>\n",
       "</table>\n",
       "<p>2 rows × 33 columns</p>\n",
       "</div>"
      ],
      "text/plain": [
       "   abv   avg  avg_computed  avg_matched_valid_ratings  ba_score  beer_id  \\\n",
       "0  4.8  3.45      3.439867                   3.504068      80.0    19827   \n",
       "1  6.0  3.86      3.888750                   3.768333       NaN    20841   \n",
       "\n",
       "           beer_name beer_wout_brewery_name  brewery_id  \\\n",
       "0           Legbiter               Legbiter       10093   \n",
       "1  St. Patrick's Ale        Patricks Ale St       10093   \n",
       "\n",
       "                           brewery_name  ...  brewery_id.1    brewery_name.1  \\\n",
       "0  Strangford Lough Brewing Company Ltd  ...          4959  Strangford Lough   \n",
       "1  Strangford Lough Brewing Company Ltd  ...          4959  Strangford Lough   \n",
       "\n",
       "   nbr_matched_valid_ratings.1  nbr_ratings.1 overall_score  \\\n",
       "0                           89             89          23.0   \n",
       "1                           11             11          52.0   \n",
       "\n",
       "                style.1  style_score  zscore.1      diff  sim  \n",
       "0  Golden Ale/Blond Ale         27.0 -0.698304  1.000000  1.0  \n",
       "1             Irish Ale         79.0  0.005754  0.527141  1.0  \n",
       "\n",
       "[2 rows x 33 columns]"
      ]
     },
     "execution_count": 8,
     "metadata": {},
     "output_type": "execute_result"
    }
   ],
   "source": [
    "matched_beers = pd.read_csv(PATH+'matched_beer_data/beers.csv', header=1)\n",
    "matched_beers.head(2)"
   ]
  },
  {
   "cell_type": "code",
   "execution_count": 29,
   "metadata": {},
   "outputs": [
    {
     "data": {
      "text/html": [
       "<div>\n",
       "<style scoped>\n",
       "    .dataframe tbody tr th:only-of-type {\n",
       "        vertical-align: middle;\n",
       "    }\n",
       "\n",
       "    .dataframe tbody tr th {\n",
       "        vertical-align: top;\n",
       "    }\n",
       "\n",
       "    .dataframe thead th {\n",
       "        text-align: right;\n",
       "    }\n",
       "</style>\n",
       "<table border=\"1\" class=\"dataframe\">\n",
       "  <thead>\n",
       "    <tr style=\"text-align: right;\">\n",
       "      <th></th>\n",
       "      <th>location</th>\n",
       "      <th>name</th>\n",
       "      <th>nbr_beers</th>\n",
       "      <th>merged_location</th>\n",
       "    </tr>\n",
       "    <tr>\n",
       "      <th>id</th>\n",
       "      <th></th>\n",
       "      <th></th>\n",
       "      <th></th>\n",
       "      <th></th>\n",
       "    </tr>\n",
       "  </thead>\n",
       "  <tbody>\n",
       "    <tr>\n",
       "      <th>39912</th>\n",
       "      <td>Kyrgyzstan</td>\n",
       "      <td>Abdysh-Ata (Абдыш Ата)</td>\n",
       "      <td>5</td>\n",
       "      <td>Kyrgyzstan</td>\n",
       "    </tr>\n",
       "    <tr>\n",
       "      <th>39913</th>\n",
       "      <td>Kyrgyzstan</td>\n",
       "      <td>Arpa (АРПА)</td>\n",
       "      <td>1</td>\n",
       "      <td>Kyrgyzstan</td>\n",
       "    </tr>\n",
       "  </tbody>\n",
       "</table>\n",
       "</div>"
      ],
      "text/plain": [
       "         location                    name  nbr_beers merged_location\n",
       "id                                                                  \n",
       "39912  Kyrgyzstan  Abdysh-Ata (Абдыш Ата)          5      Kyrgyzstan\n",
       "39913  Kyrgyzstan             Arpa (АРПА)          1      Kyrgyzstan"
      ]
     },
     "execution_count": 29,
     "metadata": {},
     "output_type": "execute_result"
    }
   ],
   "source": [
    "BA_breweries = pd.read_csv(PATH+'BeerAdvocate/breweries.csv', index_col='id')\n",
    "\n",
    "BA_breweries['merged_location'] = BA_breweries['location'].copy()\n",
    "BA_breweries.loc[(BA_breweries['merged_location'].str.startswith('United States')), 'merged_location'] = 'United States'\n",
    "\n",
    "BA_breweries.head(2)\n"
   ]
  },
  {
   "cell_type": "markdown",
   "metadata": {},
   "source": [
    "### RateBeer data"
   ]
  },
  {
   "cell_type": "code",
   "execution_count": 28,
   "metadata": {},
   "outputs": [],
   "source": [
    "RB_breweries = pd.read_csv(PATH+'RateBeer/breweries.csv', index_col= 'id')\n",
    "\n",
    "# Add a column where all Users from the united states get 'United States' as location\n",
    "RB_breweries['merged_location'] = RB_breweries['location'].copy()\n",
    "RB_breweries.loc[(RB_breweries['merged_location'].str.startswith('United States')), 'merged_location'] = 'United States'\n",
    "\n",
    "RB_breweries.head(2)"
   ]
  },
  {
   "cell_type": "code",
   "execution_count": 15,
   "metadata": {},
   "outputs": [
    {
     "data": {
      "text/html": [
       "<div>\n",
       "<style scoped>\n",
       "    .dataframe tbody tr th:only-of-type {\n",
       "        vertical-align: middle;\n",
       "    }\n",
       "\n",
       "    .dataframe tbody tr th {\n",
       "        vertical-align: top;\n",
       "    }\n",
       "\n",
       "    .dataframe thead th {\n",
       "        text-align: right;\n",
       "    }\n",
       "</style>\n",
       "<table border=\"1\" class=\"dataframe\">\n",
       "  <thead>\n",
       "    <tr style=\"text-align: right;\">\n",
       "      <th></th>\n",
       "      <th>id</th>\n",
       "      <th>location</th>\n",
       "      <th>name</th>\n",
       "      <th>nbr_beers</th>\n",
       "      <th>id.1</th>\n",
       "      <th>location.1</th>\n",
       "      <th>name.1</th>\n",
       "      <th>nbr_beers.1</th>\n",
       "      <th>diff</th>\n",
       "      <th>sim</th>\n",
       "    </tr>\n",
       "  </thead>\n",
       "  <tbody>\n",
       "    <tr>\n",
       "      <th>0</th>\n",
       "      <td>10093</td>\n",
       "      <td>Northern Ireland</td>\n",
       "      <td>Strangford Lough Brewing Company Ltd</td>\n",
       "      <td>5</td>\n",
       "      <td>4959</td>\n",
       "      <td>Northern Ireland</td>\n",
       "      <td>Strangford Lough</td>\n",
       "      <td>5</td>\n",
       "      <td>0.431275</td>\n",
       "      <td>0.889062</td>\n",
       "    </tr>\n",
       "    <tr>\n",
       "      <th>1</th>\n",
       "      <td>32848</td>\n",
       "      <td>Northern Ireland</td>\n",
       "      <td>The Sheelin Brewery</td>\n",
       "      <td>4</td>\n",
       "      <td>17616</td>\n",
       "      <td>Northern Ireland</td>\n",
       "      <td>Sheelin</td>\n",
       "      <td>2</td>\n",
       "      <td>0.526388</td>\n",
       "      <td>0.863596</td>\n",
       "    </tr>\n",
       "  </tbody>\n",
       "</table>\n",
       "</div>"
      ],
      "text/plain": [
       "      id          location                                  name  nbr_beers  \\\n",
       "0  10093  Northern Ireland  Strangford Lough Brewing Company Ltd          5   \n",
       "1  32848  Northern Ireland                   The Sheelin Brewery          4   \n",
       "\n",
       "    id.1        location.1            name.1  nbr_beers.1      diff       sim  \n",
       "0   4959  Northern Ireland  Strangford Lough            5  0.431275  0.889062  \n",
       "1  17616  Northern Ireland           Sheelin            2  0.526388  0.863596  "
      ]
     },
     "execution_count": 15,
     "metadata": {},
     "output_type": "execute_result"
    }
   ],
   "source": [
    "matched_breweries = pd.read_csv(PATH+'matched_beer_data/breweries.csv', header=1)\n",
    "matched_breweries.head(2)"
   ]
  },
  {
   "cell_type": "code",
   "execution_count": 27,
   "metadata": {},
   "outputs": [],
   "source": [
    "BA_users = pd.read_csv(PATH+'BeerAdvocate/users.csv', index_col= 'user_id')\n",
    "BA_users['joined'] = pd.to_datetime(BA_users['joined'],unit = 's')\n",
    "BA_users.head(2)\n",
    "\n",
    "# Add a column where all Users from the united states get 'United States' as location\n",
    "BA_users['location'] = BA_users['location'].fillna('Unknown')\n",
    "BA_users['merged_location'] = BA_users['location'].copy()\n",
    "BA_users.loc[(BA_users['merged_location'].str.startswith('United States')), 'merged_location'] = 'United States'"
   ]
  },
  {
   "cell_type": "code",
   "execution_count": 13,
   "metadata": {},
   "outputs": [
    {
     "data": {
      "text/html": [
       "<div>\n",
       "<style scoped>\n",
       "    .dataframe tbody tr th:only-of-type {\n",
       "        vertical-align: middle;\n",
       "    }\n",
       "\n",
       "    .dataframe tbody tr th {\n",
       "        vertical-align: top;\n",
       "    }\n",
       "\n",
       "    .dataframe thead th {\n",
       "        text-align: right;\n",
       "    }\n",
       "</style>\n",
       "<table border=\"1\" class=\"dataframe\">\n",
       "  <thead>\n",
       "    <tr style=\"text-align: right;\">\n",
       "      <th></th>\n",
       "      <th>nbr_ratings</th>\n",
       "      <th>user_name</th>\n",
       "      <th>joined</th>\n",
       "      <th>location</th>\n",
       "    </tr>\n",
       "    <tr>\n",
       "      <th>user_id</th>\n",
       "      <th></th>\n",
       "      <th></th>\n",
       "      <th></th>\n",
       "      <th></th>\n",
       "    </tr>\n",
       "  </thead>\n",
       "  <tbody>\n",
       "    <tr>\n",
       "      <th>175852</th>\n",
       "      <td>1890</td>\n",
       "      <td>Manslow</td>\n",
       "      <td>2012-05-20 10:00:00</td>\n",
       "      <td>Poland</td>\n",
       "    </tr>\n",
       "    <tr>\n",
       "      <th>442761</th>\n",
       "      <td>89</td>\n",
       "      <td>MAGICuenca91</td>\n",
       "      <td>2017-01-10 11:00:00</td>\n",
       "      <td>Spain</td>\n",
       "    </tr>\n",
       "  </tbody>\n",
       "</table>\n",
       "</div>"
      ],
      "text/plain": [
       "         nbr_ratings     user_name              joined location\n",
       "user_id                                                        \n",
       "175852          1890       Manslow 2012-05-20 10:00:00   Poland\n",
       "442761            89  MAGICuenca91 2017-01-10 11:00:00    Spain"
      ]
     },
     "execution_count": 13,
     "metadata": {},
     "output_type": "execute_result"
    }
   ],
   "source": [
    "RB_users = pd.read_csv(PATH+'RateBeer/users.csv', index_col= 'user_id')\n",
    "RB_users['joined'] = pd.to_datetime(RB_users['joined'] ,unit = 's')\n",
    "RB_users.head(2)\n",
    "\n",
    "# Add a column where all Users from the united states get 'United States' as location\n",
    "RB_users['location'] = RB_users['location'].fillna('Unknown')\n",
    "RB_users['merged_location'] = RB_users['location'].copy()\n",
    "RB_users.loc[(RB_users['merged_location'].str.startswith('United States')), 'merged_location'] = 'United States'"
   ]
  },
  {
   "cell_type": "markdown",
   "metadata": {},
   "source": [
    "### Matched data"
   ]
  },
  {
   "cell_type": "code",
   "execution_count": 14,
   "metadata": {},
   "outputs": [
    {
     "data": {
      "text/html": [
       "<div>\n",
       "<style scoped>\n",
       "    .dataframe tbody tr th:only-of-type {\n",
       "        vertical-align: middle;\n",
       "    }\n",
       "\n",
       "    .dataframe tbody tr th {\n",
       "        vertical-align: top;\n",
       "    }\n",
       "\n",
       "    .dataframe thead th {\n",
       "        text-align: right;\n",
       "    }\n",
       "</style>\n",
       "<table border=\"1\" class=\"dataframe\">\n",
       "  <thead>\n",
       "    <tr style=\"text-align: right;\">\n",
       "      <th></th>\n",
       "      <th>joined</th>\n",
       "      <th>location</th>\n",
       "      <th>nbr_ratings</th>\n",
       "      <th>nbr_reviews</th>\n",
       "      <th>user_id</th>\n",
       "      <th>user_name</th>\n",
       "      <th>user_name_lower</th>\n",
       "      <th>joined.1</th>\n",
       "      <th>location.1</th>\n",
       "      <th>nbr_ratings.1</th>\n",
       "      <th>user_id.1</th>\n",
       "      <th>user_name.1</th>\n",
       "      <th>user_name_lower.1</th>\n",
       "    </tr>\n",
       "  </thead>\n",
       "  <tbody>\n",
       "    <tr>\n",
       "      <th>0</th>\n",
       "      <td>2008-09-08 10:00:00</td>\n",
       "      <td>Germany</td>\n",
       "      <td>6</td>\n",
       "      <td>6</td>\n",
       "      <td>erzengel.248045</td>\n",
       "      <td>Erzengel</td>\n",
       "      <td>erzengel</td>\n",
       "      <td>2008-10-18 10:00:00</td>\n",
       "      <td>Germany</td>\n",
       "      <td>8781</td>\n",
       "      <td>83106</td>\n",
       "      <td>Erzengel</td>\n",
       "      <td>erzengel</td>\n",
       "    </tr>\n",
       "    <tr>\n",
       "      <th>1</th>\n",
       "      <td>2012-09-23 10:00:00</td>\n",
       "      <td>United States, Virginia</td>\n",
       "      <td>1</td>\n",
       "      <td>1</td>\n",
       "      <td>gendv138.695700</td>\n",
       "      <td>GenDV138</td>\n",
       "      <td>gendv138</td>\n",
       "      <td>2013-11-29 11:00:00</td>\n",
       "      <td>United States, Virginia</td>\n",
       "      <td>6240</td>\n",
       "      <td>290599</td>\n",
       "      <td>GenDV138</td>\n",
       "      <td>gendv138</td>\n",
       "    </tr>\n",
       "  </tbody>\n",
       "</table>\n",
       "</div>"
      ],
      "text/plain": [
       "               joined                 location  nbr_ratings  nbr_reviews  \\\n",
       "0 2008-09-08 10:00:00                  Germany            6            6   \n",
       "1 2012-09-23 10:00:00  United States, Virginia            1            1   \n",
       "\n",
       "           user_id user_name user_name_lower            joined.1  \\\n",
       "0  erzengel.248045  Erzengel        erzengel 2008-10-18 10:00:00   \n",
       "1  gendv138.695700  GenDV138        gendv138 2013-11-29 11:00:00   \n",
       "\n",
       "                location.1  nbr_ratings.1  user_id.1 user_name.1  \\\n",
       "0                  Germany           8781      83106    Erzengel   \n",
       "1  United States, Virginia           6240     290599    GenDV138   \n",
       "\n",
       "  user_name_lower.1  \n",
       "0          erzengel  \n",
       "1          gendv138  "
      ]
     },
     "execution_count": 14,
     "metadata": {},
     "output_type": "execute_result"
    }
   ],
   "source": [
    "matched_users = pd.read_csv(PATH+'matched_beer_data/users.csv', header=1)\n",
    "matched_users['joined'] = pd.to_datetime(matched_users['joined'],unit = 's')\n",
    "matched_users['joined.1'] = pd.to_datetime(matched_users['joined.1'],unit = 's')\n",
    "matched_users.head(2)"
   ]
  },
  {
   "cell_type": "markdown",
   "metadata": {},
   "source": [
    "Next we extract the reviews from the different datasets. Since those are very large text files, we first converted them into the appropriate csv format and added those csv files into our data. Below we just read them:"
   ]
  },
  {
   "cell_type": "markdown",
   "metadata": {},
   "source": [
    "### Extracting BeerAdvocate reviews"
   ]
  },
  {
   "cell_type": "code",
   "execution_count": 3,
   "metadata": {},
   "outputs": [
    {
     "data": {
      "text/html": [
       "<div>\n",
       "<style scoped>\n",
       "    .dataframe tbody tr th:only-of-type {\n",
       "        vertical-align: middle;\n",
       "    }\n",
       "\n",
       "    .dataframe tbody tr th {\n",
       "        vertical-align: top;\n",
       "    }\n",
       "\n",
       "    .dataframe thead th {\n",
       "        text-align: right;\n",
       "    }\n",
       "</style>\n",
       "<table border=\"1\" class=\"dataframe\">\n",
       "  <thead>\n",
       "    <tr style=\"text-align: right;\">\n",
       "      <th></th>\n",
       "      <th>beer_name</th>\n",
       "      <th>beer_id</th>\n",
       "      <th>brewery_name</th>\n",
       "      <th>brewery_id</th>\n",
       "      <th>style</th>\n",
       "      <th>abv</th>\n",
       "      <th>date</th>\n",
       "      <th>user_name</th>\n",
       "      <th>user_id</th>\n",
       "      <th>appearance</th>\n",
       "      <th>aroma</th>\n",
       "      <th>palate</th>\n",
       "      <th>taste</th>\n",
       "      <th>overall</th>\n",
       "      <th>rating</th>\n",
       "      <th>text</th>\n",
       "      <th>brewery_location</th>\n",
       "      <th>brewery_merged_location</th>\n",
       "      <th>user_location</th>\n",
       "      <th>user_merged_location</th>\n",
       "    </tr>\n",
       "  </thead>\n",
       "  <tbody>\n",
       "    <tr>\n",
       "      <th>0</th>\n",
       "      <td>Régab</td>\n",
       "      <td>142544</td>\n",
       "      <td>Societe des Brasseries du Gabon (SOBRAGA)</td>\n",
       "      <td>37262</td>\n",
       "      <td>Euro Pale Lager</td>\n",
       "      <td>4.5</td>\n",
       "      <td>2015-08-20 10:00:00</td>\n",
       "      <td>nmann08</td>\n",
       "      <td>nmann08.184925</td>\n",
       "      <td>3.25</td>\n",
       "      <td>2.75</td>\n",
       "      <td>3.25</td>\n",
       "      <td>2.75</td>\n",
       "      <td>3.0</td>\n",
       "      <td>2.88</td>\n",
       "      <td>From a bottle, pours a piss yellow color with ...</td>\n",
       "      <td>Gabon</td>\n",
       "      <td>Gabon</td>\n",
       "      <td>United States, Washington</td>\n",
       "      <td>United States</td>\n",
       "    </tr>\n",
       "    <tr>\n",
       "      <th>1</th>\n",
       "      <td>Barelegs Brew</td>\n",
       "      <td>19590</td>\n",
       "      <td>Strangford Lough Brewing Company Ltd</td>\n",
       "      <td>10093</td>\n",
       "      <td>English Pale Ale</td>\n",
       "      <td>4.5</td>\n",
       "      <td>2009-02-20 11:00:00</td>\n",
       "      <td>StJamesGate</td>\n",
       "      <td>stjamesgate.163714</td>\n",
       "      <td>3.00</td>\n",
       "      <td>3.50</td>\n",
       "      <td>3.50</td>\n",
       "      <td>4.00</td>\n",
       "      <td>3.5</td>\n",
       "      <td>3.67</td>\n",
       "      <td>Pours pale copper with a thin head that quickl...</td>\n",
       "      <td>Northern Ireland</td>\n",
       "      <td>Northern Ireland</td>\n",
       "      <td>United States, New York</td>\n",
       "      <td>United States</td>\n",
       "    </tr>\n",
       "  </tbody>\n",
       "</table>\n",
       "</div>"
      ],
      "text/plain": [
       "       beer_name  beer_id                               brewery_name  \\\n",
       "0          Régab   142544  Societe des Brasseries du Gabon (SOBRAGA)   \n",
       "1  Barelegs Brew    19590       Strangford Lough Brewing Company Ltd   \n",
       "\n",
       "   brewery_id             style  abv                 date    user_name  \\\n",
       "0       37262   Euro Pale Lager  4.5  2015-08-20 10:00:00      nmann08   \n",
       "1       10093  English Pale Ale  4.5  2009-02-20 11:00:00  StJamesGate   \n",
       "\n",
       "              user_id  appearance  aroma  palate  taste  overall  rating  \\\n",
       "0      nmann08.184925        3.25   2.75    3.25   2.75      3.0    2.88   \n",
       "1  stjamesgate.163714        3.00   3.50    3.50   4.00      3.5    3.67   \n",
       "\n",
       "                                                text  brewery_location  \\\n",
       "0  From a bottle, pours a piss yellow color with ...             Gabon   \n",
       "1  Pours pale copper with a thin head that quickl...  Northern Ireland   \n",
       "\n",
       "  brewery_merged_location              user_location user_merged_location  \n",
       "0                   Gabon  United States, Washington        United States  \n",
       "1        Northern Ireland    United States, New York        United States  "
      ]
     },
     "execution_count": 3,
     "metadata": {},
     "output_type": "execute_result"
    }
   ],
   "source": [
    "#open the csv file\n",
    "df_BA_reviews = pd.read_csv('../BeerAdvocate/df_BA_reviews.csv')\n",
    "df_BA_reviews = pd.read_csv('../DataframeStorage/df_BA_reviews.csv')\n",
    "df_BA_reviews.head(2)"
   ]
  },
  {
   "cell_type": "markdown",
   "metadata": {},
   "source": [
    "### Extracting RateBeer reviews:"
   ]
  },
  {
   "cell_type": "code",
   "execution_count": 4,
   "metadata": {},
   "outputs": [
    {
     "data": {
      "text/html": [
       "<div>\n",
       "<style scoped>\n",
       "    .dataframe tbody tr th:only-of-type {\n",
       "        vertical-align: middle;\n",
       "    }\n",
       "\n",
       "    .dataframe tbody tr th {\n",
       "        vertical-align: top;\n",
       "    }\n",
       "\n",
       "    .dataframe thead th {\n",
       "        text-align: right;\n",
       "    }\n",
       "</style>\n",
       "<table border=\"1\" class=\"dataframe\">\n",
       "  <thead>\n",
       "    <tr style=\"text-align: right;\">\n",
       "      <th></th>\n",
       "      <th>beer_name</th>\n",
       "      <th>beer_id</th>\n",
       "      <th>brewery_name</th>\n",
       "      <th>brewery_id</th>\n",
       "      <th>style</th>\n",
       "      <th>abv</th>\n",
       "      <th>date</th>\n",
       "      <th>user_name</th>\n",
       "      <th>user_id</th>\n",
       "      <th>appearance</th>\n",
       "      <th>aroma</th>\n",
       "      <th>palate</th>\n",
       "      <th>taste</th>\n",
       "      <th>overall</th>\n",
       "      <th>rating</th>\n",
       "      <th>text</th>\n",
       "      <th>brewery_location</th>\n",
       "      <th>brewery_merged_location</th>\n",
       "      <th>user_location</th>\n",
       "      <th>user_merged_location</th>\n",
       "    </tr>\n",
       "  </thead>\n",
       "  <tbody>\n",
       "    <tr>\n",
       "      <th>0</th>\n",
       "      <td>33 Export (Gabon)</td>\n",
       "      <td>410549</td>\n",
       "      <td>Sobraga</td>\n",
       "      <td>3198</td>\n",
       "      <td>Pale Lager</td>\n",
       "      <td>5.0</td>\n",
       "      <td>2016-04-26 10:00:00</td>\n",
       "      <td>Manslow</td>\n",
       "      <td>175852</td>\n",
       "      <td>2</td>\n",
       "      <td>4</td>\n",
       "      <td>2</td>\n",
       "      <td>4</td>\n",
       "      <td>8</td>\n",
       "      <td>2.0</td>\n",
       "      <td>Puszka 0,33l dzięki Christoph . Kolor jasnozło...</td>\n",
       "      <td>Gabon</td>\n",
       "      <td>Gabon</td>\n",
       "      <td>Poland</td>\n",
       "      <td>Poland</td>\n",
       "    </tr>\n",
       "    <tr>\n",
       "      <th>1</th>\n",
       "      <td>Castel Beer (Gabon)</td>\n",
       "      <td>105273</td>\n",
       "      <td>Sobraga</td>\n",
       "      <td>3198</td>\n",
       "      <td>Pale Lager</td>\n",
       "      <td>5.2</td>\n",
       "      <td>2017-02-17 11:00:00</td>\n",
       "      <td>MAGICuenca91</td>\n",
       "      <td>442761</td>\n",
       "      <td>2</td>\n",
       "      <td>3</td>\n",
       "      <td>2</td>\n",
       "      <td>4</td>\n",
       "      <td>8</td>\n",
       "      <td>1.9</td>\n",
       "      <td>Cerveza pale lager gabonesa. MÃ¡s floja que la...</td>\n",
       "      <td>Gabon</td>\n",
       "      <td>Gabon</td>\n",
       "      <td>Spain</td>\n",
       "      <td>Spain</td>\n",
       "    </tr>\n",
       "  </tbody>\n",
       "</table>\n",
       "</div>"
      ],
      "text/plain": [
       "             beer_name  beer_id brewery_name  brewery_id       style  abv  \\\n",
       "0    33 Export (Gabon)   410549      Sobraga        3198  Pale Lager  5.0   \n",
       "1  Castel Beer (Gabon)   105273      Sobraga        3198  Pale Lager  5.2   \n",
       "\n",
       "                  date     user_name  user_id  appearance  aroma  palate  \\\n",
       "0  2016-04-26 10:00:00       Manslow   175852           2      4       2   \n",
       "1  2017-02-17 11:00:00  MAGICuenca91   442761           2      3       2   \n",
       "\n",
       "   taste  overall  rating                                               text  \\\n",
       "0      4        8     2.0  Puszka 0,33l dzięki Christoph . Kolor jasnozło...   \n",
       "1      4        8     1.9  Cerveza pale lager gabonesa. MÃ¡s floja que la...   \n",
       "\n",
       "  brewery_location brewery_merged_location user_location user_merged_location  \n",
       "0            Gabon                   Gabon        Poland               Poland  \n",
       "1            Gabon                   Gabon         Spain                Spain  "
      ]
     },
     "execution_count": 4,
     "metadata": {},
     "output_type": "execute_result"
    }
   ],
   "source": [
    "#open the csv file\n",
    "#df_RB_reviews = pd.read_csv('../RateBeer/df_RB_reviews_final.csv')\n",
    "df_RB_reviews = pd.read_csv('../DataframeStorage/df_RB_reviews.csv')\n",
    "df_RB_reviews.head(2)"
   ]
  },
  {
   "cell_type": "code",
   "execution_count": null,
   "metadata": {},
   "outputs": [],
   "source": [
    "df_reviews_all = pd.read_csv(PATH+'/DataframeStorage/df_reviews_all.csv')"
   ]
  },
  {
   "cell_type": "markdown",
   "metadata": {},
   "source": [
    "The dates in df_reviews are saved as strings. <br>\n",
    "A first step (will be important later) is to transform them to datetime. <br>\n",
    "Probably this step we will have to do everytime we load the csv file."
   ]
  },
  {
   "cell_type": "code",
   "execution_count": 5,
   "metadata": {},
   "outputs": [],
   "source": [
    "#Transform the dates of the reviews from string to datetime\n",
    "df_BA_reviews['date'] = pd.to_datetime(df_BA_reviews['date'], format=\"%Y-%m-%d %H:%M:%S\")\n",
    "df_RB_reviews['date'] = pd.to_datetime(df_RB_reviews['date'], format=\"%Y-%m-%d %H:%M:%S\")"
   ]
  },
  {
   "cell_type": "markdown",
   "metadata": {},
   "source": [
    "# Some preprocessing <br>\n",
    "## Run these cells only once, then save the dataframe. <br>\n",
    "## Afterwards you can just load the dataframes and don't loose time to run all the computations again"
   ]
  },
  {
   "cell_type": "markdown",
   "metadata": {},
   "source": [
    "To allow the merge of the brewery location with the brewery name on df_reviews, we first need to align the column names. <br>\n",
    "To do so we rename the column \"name\" of breweries to \"brewery_name\" (the name of the column in df_reviews). <br>\n",
    "\n",
    "We use the function df.merge to add the element \"location\" to the corresponding brewery in df_reviews. <br>\n",
    "By default the new columns name would be the same as in df_breweries ('location'), we rename it by \"brewery_location\" to prevent confusion. <br>\n",
    "\n",
    "After the merging we rename the column of the brewery dataframe again, to have the same name that we had initially."
   ]
  },
  {
   "cell_type": "code",
   "execution_count": 15,
   "metadata": {},
   "outputs": [],
   "source": [
    "#Rename the column name to brewery_name to allow merging with the \n",
    "BA_breweries.rename(columns = {'name':'brewery_name'}, inplace = True)\n",
    "RB_breweries.rename(columns = {'name':'brewery_name'}, inplace = True)\n",
    "\n",
    "\n",
    "#Add the location to the beer dataframe\n",
    "df_BA_reviews = (df_BA_reviews.merge(BA_breweries[['location', 'brewery_name']], on=['brewery_name'], how='left')).rename(columns = {'location':'brewery_location'})\n",
    "df_RB_reviews = (df_RB_reviews.merge(RB_breweries[['location', 'brewery_name']], on=['brewery_name'], how='left')).rename(columns = {'location':'brewery_location'})\n",
    "\n",
    "\n",
    "#Name the columns back: \n",
    "BA_breweries.rename(columns = {'brewery_name':'name'}, inplace = True)\n",
    "RB_breweries.rename(columns = {'brewery_name':'name'}, inplace = True)"
   ]
  },
  {
   "cell_type": "markdown",
   "metadata": {},
   "source": [
    "As the different states of the US are described as different locations, but sometimes we want to group the beers by nations and not by states. <br>\n",
    "To make this possible we add a new column. <br>\n",
    "This column is called \"brewery_merged_location\" and is exactly the same as the column \"brewery_location\" except for the fact, that the different states of the US all take the value \"United States\"."
   ]
  },
  {
   "cell_type": "code",
   "execution_count": 16,
   "metadata": {},
   "outputs": [],
   "source": [
    "# Add a column where all breweries from the united states get 'United States' as location\n",
    "df_RB_reviews['brewery_merged_location'] = df_RB_reviews['brewery_location'].copy()\n",
    "df_RB_reviews.loc[(df_RB_reviews['brewery_merged_location'].str.startswith('United States')), 'brewery_merged_location'] = 'United States'\n",
    "\n",
    "\n",
    "df_BA_reviews['brewery_merged_location'] = df_BA_reviews['brewery_location'].copy()\n",
    "df_BA_reviews.loc[(df_BA_reviews['brewery_merged_location'].str.startswith('United States')), 'brewery_merged_location'] = 'United States'"
   ]
  },
  {
   "cell_type": "markdown",
   "metadata": {},
   "source": [
    "The same approach as for the brewery locations is used to add the country of origin of the users. <br>\n",
    "To group them by nations we add here a column that sums up the states of the US under the value \"United States\"."
   ]
  },
  {
   "cell_type": "code",
   "execution_count": 17,
   "metadata": {},
   "outputs": [],
   "source": [
    "#Add the country of origin of the reviewer to the review\n",
    "df_RB_reviews = (df_RB_reviews.merge(RB_users[['location', 'user_name']], on=['user_name'], how='left')).rename(columns={'location':'user_location'})\n",
    "df_BA_reviews = (df_BA_reviews.merge(BA_users[['location', 'user_name']], on=['user_name'], how='left')).rename(columns={'location':'user_location'})\n",
    "\n",
    "# Add a column where all users from the united states get 'United States' as location\n",
    "df_RB_reviews['user_location'] = df_RB_reviews['user_location'].fillna('Unknown')\n",
    "df_RB_reviews['user_merged_location'] = df_RB_reviews['user_location'].copy()\n",
    "df_RB_reviews.loc[(df_RB_reviews['user_merged_location'].str.startswith('United States')), 'user_merged_location'] = 'United States'\n",
    "\n",
    "#For BA we have to replace the NaN values\n",
    "df_BA_reviews['user_location'] = df_BA_reviews['user_location'].fillna('Unknown')\n",
    "df_BA_reviews['user_merged_location'] = df_BA_reviews['user_location'].copy()\n",
    "df_BA_reviews.loc[(df_BA_reviews['user_merged_location'].str.startswith('United States')), 'user_merged_location'] = 'United States'"
   ]
  },
  {
   "cell_type": "code",
   "execution_count": 28,
   "metadata": {},
   "outputs": [],
   "source": [
    "# Add a column where all users from the united states get 'United States' as location\n",
    "df_RB_reviews['user_location'] = df_RB_reviews['user_location'].fillna('Unknown')\n",
    "\n",
    "df_RB_reviews['user_merged_location'] = df_RB_reviews['user_location'].copy()\n",
    "df_RB_reviews.loc[(df_RB_reviews['user_merged_location'].str.startswith('United States')), 'user_merged_location'] = 'United States'"
   ]
  },
  {
   "cell_type": "markdown",
   "metadata": {},
   "source": [
    "To avoid doing this computations every time we want to start coding, I suggest to save the dataframes in your data folder. <br>\n",
    "I separated the code into two cells as the computation can take several minutes."
   ]
  },
  {
   "cell_type": "code",
   "execution_count": 23,
   "metadata": {},
   "outputs": [],
   "source": [
    "#Do that only once. Stores the dataframes so that we can access them more easily next time and have to do the data preprocessing only once\n",
    "df_BA_reviews.to_csv(PATH+'/DataframeStorage/df_BA_reviews.csv', columns=['beer_name', 'beer_id', 'brewery_name', 'brewery_id', 'style', 'abv', 'date', 'user_name', 'user_id', 'appearance', 'aroma', 'palate', 'taste', 'overall', 'rating', 'text', 'brewery_location', 'brewery_merged_location', 'user_location', 'user_merged_location'], index=False)"
   ]
  },
  {
   "cell_type": "code",
   "execution_count": 29,
   "metadata": {},
   "outputs": [],
   "source": [
    "df_RB_reviews.to_csv(PATH+'/DataframeStorage/df_RB_reviews.csv', columns=['beer_name', 'beer_id', 'brewery_name', 'brewery_id', 'style', 'abv', 'date', 'user_name', 'user_id', 'appearance', 'aroma', 'palate', 'taste', 'overall', 'rating', 'text', 'brewery_location', 'brewery_merged_location', 'user_location', 'user_merged_location'], index=False)"
   ]
  },
  {
   "cell_type": "code",
   "execution_count": 5,
   "metadata": {},
   "outputs": [],
   "source": [
    "df_reviews_all = pd.concat([df_BA_reviews, df_RB_reviews], axis=0)\n",
    "\n",
    "df_reviews_all.to_csv(PATH+'/DataframeStorage/df_reviews_all.csv', columns=['beer_name', 'beer_id', 'brewery_name', 'brewery_id', 'style', 'abv', 'date', 'user_name', 'user_id', 'appearance', 'aroma', 'palate', 'taste', 'overall', 'rating', 'text', 'brewery_location', 'brewery_merged_location', 'user_location', 'user_merged_location'], index=False)"
   ]
  },
  {
   "cell_type": "markdown",
   "metadata": {},
   "source": [
    "### Extracting matched data ratings"
   ]
  },
  {
   "cell_type": "code",
   "execution_count": 38,
   "metadata": {},
   "outputs": [
    {
     "data": {
      "text/html": [
       "<div>\n",
       "<style scoped>\n",
       "    .dataframe tbody tr th:only-of-type {\n",
       "        vertical-align: middle;\n",
       "    }\n",
       "\n",
       "    .dataframe tbody tr th {\n",
       "        vertical-align: top;\n",
       "    }\n",
       "\n",
       "    .dataframe thead th {\n",
       "        text-align: right;\n",
       "    }\n",
       "</style>\n",
       "<table border=\"1\" class=\"dataframe\">\n",
       "  <thead>\n",
       "    <tr style=\"text-align: right;\">\n",
       "      <th></th>\n",
       "      <th>abv</th>\n",
       "      <th>appearance</th>\n",
       "      <th>aroma</th>\n",
       "      <th>beer_id</th>\n",
       "      <th>beer_name</th>\n",
       "      <th>brewery_id</th>\n",
       "      <th>brewery_name</th>\n",
       "      <th>date</th>\n",
       "      <th>overall</th>\n",
       "      <th>palate</th>\n",
       "      <th>...</th>\n",
       "      <th>brewery_name.1</th>\n",
       "      <th>date.1</th>\n",
       "      <th>overall.1</th>\n",
       "      <th>palate.1</th>\n",
       "      <th>rating.1</th>\n",
       "      <th>style.1</th>\n",
       "      <th>taste.1</th>\n",
       "      <th>text.1</th>\n",
       "      <th>user_id.1</th>\n",
       "      <th>user_name.1</th>\n",
       "    </tr>\n",
       "  </thead>\n",
       "  <tbody>\n",
       "    <tr>\n",
       "      <th>0</th>\n",
       "      <td>11.3</td>\n",
       "      <td>4.5</td>\n",
       "      <td>4.5</td>\n",
       "      <td>645</td>\n",
       "      <td>Trappistes Rochefort 10</td>\n",
       "      <td>207</td>\n",
       "      <td>Brasserie de Rochefort</td>\n",
       "      <td>1324810800</td>\n",
       "      <td>5.0</td>\n",
       "      <td>4.5</td>\n",
       "      <td>...</td>\n",
       "      <td>Brasserie Rochefort</td>\n",
       "      <td>1387710000</td>\n",
       "      <td>19.0</td>\n",
       "      <td>4.0</td>\n",
       "      <td>4.6</td>\n",
       "      <td>Abt/Quadrupel</td>\n",
       "      <td>9.0</td>\n",
       "      <td>a)  Geruch malzig-schwer-sÃ¼Ã. Riecht schon ...</td>\n",
       "      <td>83106</td>\n",
       "      <td>Erzengel</td>\n",
       "    </tr>\n",
       "    <tr>\n",
       "      <th>1</th>\n",
       "      <td>5.0</td>\n",
       "      <td>NaN</td>\n",
       "      <td>NaN</td>\n",
       "      <td>28191</td>\n",
       "      <td>Myanmar Lager Beer</td>\n",
       "      <td>9369</td>\n",
       "      <td>Myanmar Brewery and Distillery</td>\n",
       "      <td>1322650800</td>\n",
       "      <td>NaN</td>\n",
       "      <td>NaN</td>\n",
       "      <td>...</td>\n",
       "      <td>Myanmar Brewery and Distillery</td>\n",
       "      <td>1322564400</td>\n",
       "      <td>6.0</td>\n",
       "      <td>2.0</td>\n",
       "      <td>1.7</td>\n",
       "      <td>Pale Lager</td>\n",
       "      <td>4.0</td>\n",
       "      <td>Can. Weak and watery, not the best beer of the...</td>\n",
       "      <td>91324</td>\n",
       "      <td>visionthing</td>\n",
       "    </tr>\n",
       "  </tbody>\n",
       "</table>\n",
       "<p>2 rows × 33 columns</p>\n",
       "</div>"
      ],
      "text/plain": [
       "    abv  appearance  aroma  beer_id                beer_name  brewery_id  \\\n",
       "0  11.3         4.5    4.5      645  Trappistes Rochefort 10         207   \n",
       "1   5.0         NaN    NaN    28191       Myanmar Lager Beer        9369   \n",
       "\n",
       "                     brewery_name        date  overall  palate  ...  \\\n",
       "0          Brasserie de Rochefort  1324810800      5.0     4.5  ...   \n",
       "1  Myanmar Brewery and Distillery  1322650800      NaN     NaN  ...   \n",
       "\n",
       "                   brewery_name.1      date.1 overall.1  palate.1 rating.1  \\\n",
       "0             Brasserie Rochefort  1387710000      19.0       4.0      4.6   \n",
       "1  Myanmar Brewery and Distillery  1322564400       6.0       2.0      1.7   \n",
       "\n",
       "         style.1 taste.1                                             text.1  \\\n",
       "0  Abt/Quadrupel     9.0   a)  Geruch malzig-schwer-sÃ¼Ã. Riecht schon ...   \n",
       "1     Pale Lager     4.0  Can. Weak and watery, not the best beer of the...   \n",
       "\n",
       "   user_id.1  user_name.1  \n",
       "0      83106     Erzengel  \n",
       "1      91324  visionthing  \n",
       "\n",
       "[2 rows x 33 columns]"
      ]
     },
     "execution_count": 38,
     "metadata": {},
     "output_type": "execute_result"
    }
   ],
   "source": [
    "MD_ratings = pd.read_csv(PATH+'matched_beer_data/ratings.csv', header = 1)\n",
    "MD_ratings.head(2)"
   ]
  },
  {
   "cell_type": "markdown",
   "metadata": {},
   "source": [
    "## Exploring the feasability of the following idea : Is a good beer a good beer everywhere? In other words, do people tend to like beers that are produced locally or are they more inclined to drink a good beer no matter where it is produced?"
   ]
  },
  {
   "cell_type": "markdown",
   "metadata": {},
   "source": [
    "### Choosing the 20 best beers in the world"
   ]
  },
  {
   "cell_type": "markdown",
   "metadata": {},
   "source": [
    "The aim of this idea is to choose the top 20 beers in the world and compare locations of users and the brewery locations for the beers in order to see if there is a bias towards local beers.\n",
    "In order to choose the best beers, we have decided on a certain number of criteria:\n",
    "1) Beers that have receieved at least x (to be determined below based on statistical information) number of reviews\n",
    "2) Reviewers that have reviewed more than x (to be determined below based on statistical information) amount of times (if someone rated a beer once only it's maybe not enough), also we have to keep in mind that a lot of people mindlessly rate beers without reviewing them. Hence here we focus on the number of reviews because it means the person took the time and effort to write a review, making the overall rating more legitimate.\n",
    "3) Extract the top 20 beers according to the average rating across the two websites.\n",
    "\n",
    "For those ideas, we use the matched data and the average rating between the two websties for the 3)."
   ]
  },
  {
   "cell_type": "markdown",
   "metadata": {},
   "source": [
    "### 1) Beers that have recieved a significant number of reviews"
   ]
  },
  {
   "cell_type": "markdown",
   "metadata": {},
   "source": [
    "First, let's take a look at the distribution of the number of reviews per beer to get a sense of how the x minimal number of reviews a beer should've received in order to select it."
   ]
  },
  {
   "cell_type": "code",
   "execution_count": 14,
   "metadata": {},
   "outputs": [
    {
     "data": {
      "image/png": "[encoded data removed]",
      "text/plain": [
       "<Figure size 640x480 with 1 Axes>"
      ]
     },
     "metadata": {},
     "output_type": "display_data"
    }
   ],
   "source": [
    "array_100=plt.hist(matched_beers['nbr_reviews'], bins=100,log=True,histtype='step')\n",
    "plt.title('Distribution of number of reviews beers receive')\n",
    "plt.show()"
   ]
  },
  {
   "cell_type": "code",
   "execution_count": 15,
   "metadata": {},
   "outputs": [
    {
     "data": {
      "text/plain": [
       "count    45640.000000\n",
       "mean         5.977826\n",
       "std         40.955440\n",
       "min          0.000000\n",
       "25%          0.000000\n",
       "50%          1.000000\n",
       "75%          2.000000\n",
       "max       2875.000000\n",
       "Name: nbr_reviews, dtype: float64"
      ]
     },
     "execution_count": 15,
     "metadata": {},
     "output_type": "execute_result"
    }
   ],
   "source": [
    "matched_beers['nbr_reviews'].describe()"
   ]
  },
  {
   "cell_type": "markdown",
   "metadata": {},
   "source": [
    "From the statistical description above, we can see that the quantiles are not very interesting for the choice of our treshold since this is a heavy tailed distribution and 75% of the beers have at most 2 reviews. So we choose to take the beers that have received at least 50 reviews which represents around 2% of the data "
   ]
  },
  {
   "cell_type": "code",
   "execution_count": 34,
   "metadata": {},
   "outputs": [
    {
     "name": "stdout",
     "output_type": "stream",
     "text": [
      "Percentage of beer data with more than 50 reviews : 1.95%\n",
      "Number of beers with more than 50 reviews : 890\n"
     ]
    }
   ],
   "source": [
    "print(f'{\"Percentage of beer data with more than 50 reviews :\"} { round(len(matched_beers[matched_beers[\"nbr_reviews\"]>50])/len(matched_beers[\"nbr_reviews\"])*100,2) }{\"%\"}')\n",
    "print(f'{\"Number of beers with more than 50 reviews :\"} { len(matched_beers[matched_beers[\"nbr_reviews\"]>50]) }')"
   ]
  },
  {
   "cell_type": "code",
   "execution_count": 37,
   "metadata": {},
   "outputs": [],
   "source": [
    "# Extracting beers which have received more than 50 reviews\n",
    "top_beers = matched_beers[matched_beers['nbr_reviews']>50]"
   ]
  },
  {
   "cell_type": "code",
   "execution_count": 39,
   "metadata": {},
   "outputs": [],
   "source": [
    "#We extract the corresponding ratings/reviews from matched data \n",
    "top_beers_ratings = MD_ratings[MD_ratings['beer_id'].isin(top_beers['beer_id']) | MD_ratings['beer_id.1'].isin(top_beers['beer_id.1'])]"
   ]
  },
  {
   "cell_type": "markdown",
   "metadata": {},
   "source": [
    "### 2) Reviewers that have reviewed more than x amount of times "
   ]
  },
  {
   "cell_type": "markdown",
   "metadata": {},
   "source": [
    "Now that we've constructed the dataframe *top_beers_ratings* with the ratings for the beers that are heavily reviewed, we want to look into the reviewers and start by extracting the revieweres who reviewed those beers."
   ]
  },
  {
   "cell_type": "code",
   "execution_count": 72,
   "metadata": {},
   "outputs": [],
   "source": [
    "#we extract the users that reviewed the beers that have received more than 50 reviews.\n",
    "top_beers_reviewers = matched_users[matched_users['user_id'].isin(top_beers_ratings['user_id']) | matched_users['user_id.1'].isin(top_beers_ratings['user_id.1'])]"
   ]
  },
  {
   "cell_type": "markdown",
   "metadata": {},
   "source": [
    "Let's take a look at the number of ratings per reviewer for the reviewers of the highly reviewed beers: "
   ]
  },
  {
   "cell_type": "code",
   "execution_count": 76,
   "metadata": {},
   "outputs": [
    {
     "data": {
      "image/png": "[encoded data removed]",
      "text/plain": [
       "<Figure size 640x480 with 1 Axes>"
      ]
     },
     "metadata": {},
     "output_type": "display_data"
    }
   ],
   "source": [
    "array_100=plt.hist(top_beers_reviewers['nbr_reviews'], bins=100,log=True,histtype='step')\n",
    "plt.title('Distribution of the number of reviews reviewers give for highly reviewed beers')\n",
    "plt.show()"
   ]
  },
  {
   "cell_type": "code",
   "execution_count": 74,
   "metadata": {},
   "outputs": [
    {
     "data": {
      "text/html": [
       "<div>\n",
       "<style scoped>\n",
       "    .dataframe tbody tr th:only-of-type {\n",
       "        vertical-align: middle;\n",
       "    }\n",
       "\n",
       "    .dataframe tbody tr th {\n",
       "        vertical-align: top;\n",
       "    }\n",
       "\n",
       "    .dataframe thead th {\n",
       "        text-align: right;\n",
       "    }\n",
       "</style>\n",
       "<table border=\"1\" class=\"dataframe\">\n",
       "  <thead>\n",
       "    <tr style=\"text-align: right;\">\n",
       "      <th></th>\n",
       "      <th>nbr_reviews</th>\n",
       "    </tr>\n",
       "  </thead>\n",
       "  <tbody>\n",
       "    <tr>\n",
       "      <th>count</th>\n",
       "      <td>711.000000</td>\n",
       "    </tr>\n",
       "    <tr>\n",
       "      <th>mean</th>\n",
       "      <td>365.544304</td>\n",
       "    </tr>\n",
       "    <tr>\n",
       "      <th>std</th>\n",
       "      <td>804.331349</td>\n",
       "    </tr>\n",
       "    <tr>\n",
       "      <th>min</th>\n",
       "      <td>0.000000</td>\n",
       "    </tr>\n",
       "    <tr>\n",
       "      <th>25%</th>\n",
       "      <td>7.000000</td>\n",
       "    </tr>\n",
       "    <tr>\n",
       "      <th>50%</th>\n",
       "      <td>54.000000</td>\n",
       "    </tr>\n",
       "    <tr>\n",
       "      <th>75%</th>\n",
       "      <td>327.000000</td>\n",
       "    </tr>\n",
       "    <tr>\n",
       "      <th>max</th>\n",
       "      <td>7593.000000</td>\n",
       "    </tr>\n",
       "  </tbody>\n",
       "</table>\n",
       "</div>"
      ],
      "text/plain": [
       "       nbr_reviews\n",
       "count   711.000000\n",
       "mean    365.544304\n",
       "std     804.331349\n",
       "min       0.000000\n",
       "25%       7.000000\n",
       "50%      54.000000\n",
       "75%     327.000000\n",
       "max    7593.000000"
      ]
     },
     "execution_count": 74,
     "metadata": {},
     "output_type": "execute_result"
    }
   ],
   "source": [
    "top_beers_reviewers[['nbr_reviews']].describe()"
   ]
  },
  {
   "cell_type": "markdown",
   "metadata": {},
   "source": [
    "Since the mean is close to the median, this is not a heavy tailed distribution (it may be an exponential distribution). Since here the 3rd percentile already represents a significant number of reviews, we choose to select reviewers who have written more than that amount of reviews (327)."
   ]
  },
  {
   "cell_type": "code",
   "execution_count": 77,
   "metadata": {},
   "outputs": [],
   "source": [
    "#We decide to filter by the reviewers that have put a number of reviews (not ratings) higher than the third percentile\n",
    "top_beers_reviewers = top_beers_reviewers.loc[top_beers_reviewers['nbr_reviews']>327]"
   ]
  },
  {
   "cell_type": "markdown",
   "metadata": {},
   "source": [
    "Now we go back to the beers we've extracted earlier and subset them by the reviewers exctracted above"
   ]
  },
  {
   "cell_type": "code",
   "execution_count": 78,
   "metadata": {},
   "outputs": [],
   "source": [
    "#filtering the beer ratings by the top beer reviewers\n",
    "top_beers_ratings = top_beers_ratings[top_beers_ratings['user_id'].isin(top_beers_reviewers['user_id']) & top_beers_ratings['user_id.1'].isin(top_beers_reviewers['user_id.1']) ]"
   ]
  },
  {
   "cell_type": "markdown",
   "metadata": {},
   "source": [
    "### 3) Extract top 20 beers according to the avg rating over the two websites"
   ]
  },
  {
   "cell_type": "markdown",
   "metadata": {},
   "source": [
    "Now we really want to extract the top 20 beers after all that filtering. We do so by using the beer ratings. Since each website has an average rating the beers, we start by taking the average of these average ratings. Then we select the 20 beers with the highest ratings."
   ]
  },
  {
   "cell_type": "code",
   "execution_count": 89,
   "metadata": {},
   "outputs": [
    {
     "name": "stderr",
     "output_type": "stream",
     "text": [
      "/var/folders/vs/4l5nyqs52cj8k63yp80d5cfh0000gn/T/ipykernel_22894/1016610164.py:2: SettingWithCopyWarning: \n",
      "A value is trying to be set on a copy of a slice from a DataFrame.\n",
      "Try using .loc[row_indexer,col_indexer] = value instead\n",
      "\n",
      "See the caveats in the documentation: https://pandas.pydata.org/pandas-docs/stable/user_guide/indexing.html#returning-a-view-versus-a-copy\n",
      "  top_beers['average_avg'] = top_beers[['avg', 'avg.1']].mean(axis=1)\n"
     ]
    }
   ],
   "source": [
    "#adding an average of averages column to get the average rating across both websites\n",
    "top_beers['average_avg'] = top_beers[['avg', 'avg.1']].mean(axis=1)\n",
    "top_20_beers = top_beers.nlargest(20, 'average_avg', keep='all')"
   ]
  },
  {
   "cell_type": "markdown",
   "metadata": {},
   "source": [
    "We subset the review dataframe with those specific beers:"
   ]
  },
  {
   "cell_type": "code",
   "execution_count": 90,
   "metadata": {},
   "outputs": [],
   "source": [
    "#We extract the ratings for those top20 beers for the top reviewers\n",
    "top_20_beers_ratings = top_beers_ratings[top_beers_ratings['beer_id'].isin(top_20_beers['beer_id']) & top_beers_ratings['beer_id.1'].isin(top_20_beers['beer_id.1'])]"
   ]
  },
  {
   "cell_type": "code",
   "execution_count": 91,
   "metadata": {},
   "outputs": [
    {
     "data": {
      "text/plain": [
       "beer_id      20\n",
       "beer_id.1    20\n",
       "dtype: int64"
      ]
     },
     "execution_count": 91,
     "metadata": {},
     "output_type": "execute_result"
    }
   ],
   "source": [
    "#Sanity check to make sure that we do have 20 beers\n",
    "top_20_beers_ratings[['beer_id','beer_id.1']].nunique()"
   ]
  },
  {
   "cell_type": "code",
   "execution_count": 92,
   "metadata": {},
   "outputs": [],
   "source": [
    "# Group by beer id's, since we'll have the same beers several times and both id's should correspond to the same beers. \n",
    "top_20_beers_ratings = top_20_beers_ratings.set_index(['beer_id','beer_id.1'])"
   ]
  },
  {
   "cell_type": "code",
   "execution_count": 100,
   "metadata": {},
   "outputs": [
    {
     "data": {
      "text/plain": [
       "Index(['abv', 'appearance', 'aroma', 'beer_name', 'brewery_id', 'brewery_name',\n",
       "       'date', 'overall', 'palate', 'rating', 'review', 'style', 'taste',\n",
       "       'text', 'user_id', 'user_name', 'abv.1', 'appearance.1', 'aroma.1',\n",
       "       'beer_name.1', 'brewery_id.1', 'brewery_name.1', 'date.1', 'overall.1',\n",
       "       'palate.1', 'rating.1', 'style.1', 'taste.1', 'text.1', 'user_id.1',\n",
       "       'user_name.1'],\n",
       "      dtype='object')"
      ]
     },
     "execution_count": 100,
     "metadata": {},
     "output_type": "execute_result"
    }
   ],
   "source": [
    "top_20_beers_ratings.head(2)"
   ]
  },
  {
   "cell_type": "markdown",
   "metadata": {},
   "source": [
    "Since in the above top_20_beers_ratings dataframe we encounter the same beers several times, we want the unique beer id's for these 20 beers. We do so by running the following cell which drops duplicated of the indices:"
   ]
  },
  {
   "cell_type": "code",
   "execution_count": null,
   "metadata": {},
   "outputs": [],
   "source": [
    "top_20_beers_ids = top_20_beers_ratings[~top_20_beers_ratings.index.duplicated(keep='first')].index\n",
    "top_20_beers_ids = pd.MultiIndex.to_frame(top_20_beers_ids, index= False)"
   ]
  },
  {
   "cell_type": "markdown",
   "metadata": {},
   "source": [
    "Finally we want to compare the location of the users compared to the location of the breweries. For this purpose we'll do it for both websites dataframes : *df_ratings_BA* and *df_ratings_RB*. <br>\n",
    "First, we select from both datasets the locations of breweries and users for the top 20 beers:"
   ]
  },
  {
   "cell_type": "code",
   "execution_count": null,
   "metadata": {},
   "outputs": [],
   "source": [
    "top_20_beers_BA = df_BA_reviews[df_BA_reviews['beer_id'].isin(top_20_beers_ids['beer_id'])][['beer_name','beer_id','brewery_location','user_location']]"
   ]
  },
  {
   "cell_type": "code",
   "execution_count": null,
   "metadata": {},
   "outputs": [],
   "source": [
    "top_20_beers_RB = df_RB_reviews[df_RB_reviews['beer_id'].isin(top_20_beers_ids['beer_id.1'])][['beer_name','beer_id','brewery_location','user_location']]"
   ]
  },
  {
   "cell_type": "markdown",
   "metadata": {},
   "source": [
    "To get an idea of how frequent it is that people drink locally made beers we calculate the percentage of entries for which the brewery location and user location are the same:"
   ]
  },
  {
   "cell_type": "code",
   "execution_count": null,
   "metadata": {},
   "outputs": [],
   "source": [
    "print(f'{\"Percentage of users on the BeerAdvocate website that drink local beers for the top 20 most liked beers across both websites:\"} { round(np.count_nonzero(top_20_beers_BA[\"brewery_location\"] == top_20_beers_BA[\"user_location\"])/len(top_20_beers_BA)*100,2) }{\"%\"}')\n",
    "print(f'{\"Percentage of users on the RateBeer website that drink local beers for the top 20 most liked beers across both websites:\"} { round(np.count_nonzero(top_20_beers_RB[\"brewery_location\"] == top_20_beers_RB[\"user_location\"])/len(top_20_beers_RB)*100,2) }{\"%\"}')"
   ]
  },
  {
   "cell_type": "markdown",
   "metadata": {},
   "source": [
    "It's interesting to observe that in both websites the percentage of people who drink local beers when it comes the the most liked beers ever is very close"
   ]
  },
  {
   "cell_type": "markdown",
   "metadata": {},
   "source": [
    "Since we could obtain a dataframe comparing locations of users and breweries, this idea is quite feasible and we can explore other ideas and visualizations with this information.\n",
    "For the continuation of this part in milestone P3, we can perhaps explore other ideas such as : <br>\n",
    "- The distance between beer drinkers and their respective breweries\n",
    "- The location of the best breweries \n",
    "- Perhaps the reason behind the success of certain breweries compared to others"
   ]
  },
  {
   "cell_type": "markdown",
   "metadata": {},
   "source": [
    "# Flos code:"
   ]
  },
  {
   "cell_type": "markdown",
   "metadata": {},
   "source": [
    "## Chinas beers correlate with how US citizens view China:"
   ]
  },
  {
   "cell_type": "code",
   "execution_count": 17,
   "metadata": {},
   "outputs": [
    {
     "name": "stdout",
     "output_type": "stream",
     "text": [
      "188\n",
      "66\n"
     ]
    }
   ],
   "source": [
    "print(len(RB_breweries[RB_breweries['location']=='China']))\n",
    "print(len(BA_breweries[BA_breweries['location']=='China']))"
   ]
  },
  {
   "cell_type": "code",
   "execution_count": 23,
   "metadata": {},
   "outputs": [],
   "source": [
    "chinese_breweries_RB = RB_breweries[RB_breweries['location']=='China']\n",
    "chinese_breweries_BA = BA_breweries[BA_breweries['location']=='China']"
   ]
  },
  {
   "cell_type": "code",
   "execution_count": 21,
   "metadata": {},
   "outputs": [
    {
     "data": {
      "text/plain": [
       "id\n",
       "29441    申爱 Shanghai Love Brewing Co.\n",
       "Name: name, dtype: object"
      ]
     },
     "execution_count": 21,
     "metadata": {},
     "output_type": "execute_result"
    }
   ],
   "source": [
    "#As the same breweries have not exactly the same wording, we concatenate the two dataframes.\n",
    "chinese_breweries = pd.concat([chinese_breweries_RB['name'], (chinese_breweries_BA['name'])], axis=0)"
   ]
  },
  {
   "cell_type": "code",
   "execution_count": 25,
   "metadata": {},
   "outputs": [
    {
     "data": {
      "text/plain": [
       "0"
      ]
     },
     "execution_count": 25,
     "metadata": {},
     "output_type": "execute_result"
    }
   ],
   "source": [
    "len(df_BA_reviews[df_BA_reviews['brewery_name'].isin([chinese_breweries])])"
   ]
  },
  {
   "cell_type": "code",
   "execution_count": 26,
   "metadata": {},
   "outputs": [
    {
     "data": {
      "text/plain": [
       "0"
      ]
     },
     "execution_count": 26,
     "metadata": {},
     "output_type": "execute_result"
    }
   ],
   "source": [
    "len(df_RB_reviews[df_RB_reviews['brewery_name'].isin([chinese_breweries])])"
   ]
  },
  {
   "cell_type": "markdown",
   "metadata": {},
   "source": [
    "There are no ratings about chinese beers neither in BA nor in RB."
   ]
  },
  {
   "cell_type": "markdown",
   "metadata": {},
   "source": [
    "## Influence of Brexit on british reviews in the US:"
   ]
  },
  {
   "cell_type": "markdown",
   "metadata": {},
   "source": [
    "First we check out from when to when we have data. The brexit referendum was in June 2016, to find any influence of the Brexit result on US beer ratings of british beer we need reviews before and after the votation."
   ]
  },
  {
   "cell_type": "code",
   "execution_count": 29,
   "metadata": {},
   "outputs": [
    {
     "name": "stdout",
     "output_type": "stream",
     "text": [
      "2017-08-01 10:00:00\n",
      "1996-08-22 10:00:00\n"
     ]
    }
   ],
   "source": [
    "print(df_BA_reviews.date.max())\n",
    "print(df_BA_reviews.date.min())"
   ]
  },
  {
   "cell_type": "code",
   "execution_count": 30,
   "metadata": {},
   "outputs": [
    {
     "name": "stdout",
     "output_type": "stream",
     "text": [
      "2017-07-31 10:00:00\n",
      "2000-04-12 10:00:00\n"
     ]
    }
   ],
   "source": [
    "print(df_RB_reviews.date.max())\n",
    "print(df_RB_reviews.date.min())"
   ]
  },
  {
   "cell_type": "markdown",
   "metadata": {},
   "source": [
    "### Get Reviews about british beer:"
   ]
  },
  {
   "cell_type": "code",
   "execution_count": 43,
   "metadata": {},
   "outputs": [],
   "source": [
    "df_british_beers_RB = pd.read_csv(PATH+'/DataframeStorage/df_british_beers_RB.csv')\n",
    "df_british_beers_BA = pd.read_csv(PATH+'/DataframeStorage/df_british_beers_RB.csv')\n",
    "\n",
    "#Transform the column with the dates from string to datetime\n",
    "df_british_beers_RB['date'] = pd.to_datetime(df_british_beers_RB['date'], format=\"%Y-%m-%d %H:%M:%S\")\n",
    "df_british_beers_BA['date'] = pd.to_datetime(df_british_beers_BA['date'], format=\"%Y-%m-%d %H:%M:%S\")"
   ]
  },
  {
   "cell_type": "code",
   "execution_count": 44,
   "metadata": {},
   "outputs": [],
   "source": [
    "df_british_beers_all = pd.concat([df_british_beers_BA, df_british_beers_RB], axis=0)"
   ]
  },
  {
   "cell_type": "code",
   "execution_count": 32,
   "metadata": {},
   "outputs": [],
   "source": [
    "'''\n",
    "df_british_beers_RB = df_RB_reviews[(df_RB_reviews['brewery_location']=='Northern Ireland') |\n",
    "                                (df_RB_reviews['brewery_location']=='Wales')  |\n",
    "                                (df_RB_reviews['brewery_location']=='Scotland') |\n",
    "                                (df_RB_reviews['brewery_location']=='England')]\n",
    "\n",
    "df_british_beers_BA = df_BA_reviews[(df_BA_reviews['brewery_location']=='Northern Ireland') |\n",
    "                                (df_BA_reviews['brewery_location']=='Wales')  |\n",
    "                                (df_BA_reviews['brewery_location']=='Scotland') |\n",
    "                                (df_BA_reviews['brewery_location']=='England')]\n",
    "\n",
    "\n",
    "df_british_beers_RB.to_csv(PATH+'/DataframeStorage/df_british_beers_RB.csv', columns=['beer_name', 'beer_id', 'brewery_name', 'brewery_id', 'style', 'abv', 'date', 'user_name', 'user_id', 'appearance', 'aroma', 'palate', 'taste', 'overall', 'rating', 'text', 'brewery_location', 'brewery_merged_location', 'user_location', 'user_merged_location'], index=False)\n",
    "df_british_beers_BA.to_csv(PATH+'/DataframeStorage/df_british_beers_BA.csv', columns=['beer_name', 'beer_id', 'brewery_name', 'brewery_id', 'style', 'abv', 'date', 'user_name', 'user_id', 'appearance', 'aroma', 'palate', 'taste', 'overall', 'rating', 'text', 'brewery_location', 'brewery_merged_location', 'user_location', 'user_merged_location'], index=False)\n",
    "'''"
   ]
  },
  {
   "cell_type": "code",
   "execution_count": 45,
   "metadata": {},
   "outputs": [
    {
     "name": "stdout",
     "output_type": "stream",
     "text": [
      "in RB we have: 774523 reviews about british beer.\n",
      "in BA we have: 774523 reviews about british beer.\n",
      "Which makes a total of: 1549046 reviews about british beer.\n"
     ]
    }
   ],
   "source": [
    "#count the number of reviews we can work with.\n",
    "print('in RB we have: ' + str(len(df_british_beers_RB)) + ' reviews about british beer.')\n",
    "print('in BA we have: ' + str(len(df_british_beers_BA)) + ' reviews about british beer.')\n",
    "print('Which makes a total of: ' + str(len(df_british_beers_all)) + ' reviews about british beer.')"
   ]
  },
  {
   "cell_type": "markdown",
   "metadata": {},
   "source": [
    "As we are interested in the influence of the brexit on the reviews of US users on british beer, we will only look at the reviews from US users."
   ]
  },
  {
   "cell_type": "code",
   "execution_count": 47,
   "metadata": {},
   "outputs": [],
   "source": [
    "df_british_beers_US_users = df_british_beers_all[df_british_beers_all['user_merged_location'] == 'United States']"
   ]
  },
  {
   "cell_type": "code",
   "execution_count": 48,
   "metadata": {},
   "outputs": [
    {
     "name": "stdout",
     "output_type": "stream",
     "text": [
      "Out of the 1549046 reviews, 210658 are from users from the US\n"
     ]
    }
   ],
   "source": [
    "print('Out of the ' + str(len(df_british_beers_all)) + ' reviews, ' + str(len(df_british_beers_US_users)) + ' are from users from the US')"
   ]
  },
  {
   "cell_type": "markdown",
   "metadata": {},
   "source": [
    "We can see that unfortunately only a fraction of the reviews about the british beer is from the US."
   ]
  },
  {
   "cell_type": "code",
   "execution_count": 98,
   "metadata": {},
   "outputs": [
    {
     "data": {
      "text/plain": [
       "<matplotlib.legend.Legend at 0x1bd153d13a0>"
      ]
     },
     "execution_count": 98,
     "metadata": {},
     "output_type": "execute_result"
    },
    {
     "data": {
      "image/png": "[encoded data removed]",
      "text/plain": [
       "<Figure size 640x480 with 1 Axes>"
      ]
     },
     "metadata": {},
     "output_type": "display_data"
    }
   ],
   "source": [
    "counts_reviews_british_beer = df_british_beers_all.groupby('user_merged_location').count().reset_index()\n",
    "counts_reviews_british_beer = counts_reviews_british_beer.sort_values('user_name', ascending=False)\n",
    "\n",
    "\n",
    "axes = counts_reviews_british_beer[:10].plot.bar(x = 'user_merged_location', y='beer_name')\n",
    "axes.set_ylabel('count')\n",
    "axes.set_xlabel('country')\n",
    "axes.legend(['country of origin of the users rating british beer'])\n"
   ]
  },
  {
   "cell_type": "markdown",
   "metadata": {},
   "source": [
    "The figure above shows that a big part of the reviews about british beer are from british (England, Scotland) users and from other european countries or canada. "
   ]
  },
  {
   "cell_type": "code",
   "execution_count": 72,
   "metadata": {},
   "outputs": [
    {
     "name": "stdout",
     "output_type": "stream",
     "text": [
      "From the 210658 US ratings of british beer,\n",
      "204404 were from before Brexit and only \n",
      "6254 are from after the referendum. \n"
     ]
    }
   ],
   "source": [
    "brexit_date = datetime.datetime(2016, 6, 23, 0, 0, 0)\n",
    "\n",
    "print('From the '+ str(len(df_british_beers_US_users)) +' US ratings of british beer,')\n",
    "print(str(len(df_british_beers_US_users[df_british_beers_US_users['date'] < brexit_date])) +' were from before Brexit and only ')\n",
    "print(str(len(df_british_beers_US_users[df_british_beers_US_users['date'] > brexit_date])) +' are from after the referendum. ')"
   ]
  },
  {
   "cell_type": "markdown",
   "metadata": {},
   "source": [
    "We only have 6254 US ratings of british beers after the Brexit. <br>\n",
    "We will try to work with that, but there is the possibility that the data size will not be sufficient. <br>\n",
    "Especially if we want to investigate the effect in different federal states"
   ]
  },
  {
   "cell_type": "code",
   "execution_count": 97,
   "metadata": {},
   "outputs": [
    {
     "data": {
      "text/plain": [
       "<matplotlib.legend.Legend at 0x1bd157b3100>"
      ]
     },
     "execution_count": 97,
     "metadata": {},
     "output_type": "execute_result"
    },
    {
     "data": {
      "image/png": "[encoded data removed]",
      "text/plain": [
       "<Figure size 1500x500 with 1 Axes>"
      ]
     },
     "metadata": {},
     "output_type": "display_data"
    }
   ],
   "source": [
    "counts_US_reviews_british_beer = df_british_beers_US_users.groupby('user_location').count().reset_index()\n",
    "counts_US_reviews_british_beer = counts_US_reviews_british_beer.sort_values('user_name', ascending=False)\n",
    "\n",
    "axes = counts_US_reviews_british_beer.plot.bar(x = 'user_location', y='beer_name', figsize=(15,5))\n",
    "axes.set_ylabel('count')\n",
    "axes.set_xlabel('States')\n",
    "axes.legend(['Reviews on british beers by users of the different US states'])"
   ]
  },
  {
   "cell_type": "code",
   "execution_count": 81,
   "metadata": {},
   "outputs": [
    {
     "data": {
      "text/plain": [
       "count       50.000000\n",
       "mean      4213.160000\n",
       "std       4535.050689\n",
       "min        138.000000\n",
       "25%        744.000000\n",
       "50%       2507.000000\n",
       "75%       6238.000000\n",
       "max      23858.000000\n",
       "Name: beer_name, dtype: float64"
      ]
     },
     "execution_count": 81,
     "metadata": {},
     "output_type": "execute_result"
    }
   ],
   "source": [
    "counts_US_reviews_british_beer['beer_name'].describe()"
   ]
  },
  {
   "cell_type": "markdown",
   "metadata": {},
   "source": [
    "We can see that there are many ratings on british beer in California and fewer ratings in other states. <br>\n",
    "The lowest number of ratings we find in South Dakota with 138. <br>\n",
    "One fourth of the states have 744 or less ratings, which can be tough to work with."
   ]
  },
  {
   "cell_type": "code",
   "execution_count": 99,
   "metadata": {},
   "outputs": [
    {
     "data": {
      "text/plain": [
       "<matplotlib.legend.Legend at 0x1bd129158b0>"
      ]
     },
     "execution_count": 99,
     "metadata": {},
     "output_type": "execute_result"
    },
    {
     "data": {
      "image/png": "[encoded data removed]",
      "text/plain": [
       "<Figure size 1500x500 with 1 Axes>"
      ]
     },
     "metadata": {},
     "output_type": "display_data"
    }
   ],
   "source": [
    "counts_US_reviews_british_beer_postBrexit = df_british_beers_US_users[df_british_beers_US_users['date'] > brexit_date].groupby('user_location').count().reset_index()\n",
    "counts_US_reviews_british_beer_postBrexit = counts_US_reviews_british_beer_postBrexit.sort_values('user_name', ascending=False)\n",
    "\n",
    "axes = counts_US_reviews_british_beer_postBrexit.plot.bar(x = 'user_location', y='beer_name', figsize=(15,5))\n",
    "axes.set_ylabel('count')\n",
    "axes.set_xlabel('State')\n",
    "axes.legend(['Post-Brexit reviews on british beers by users of the different US states'])"
   ]
  },
  {
   "cell_type": "code",
   "execution_count": 88,
   "metadata": {},
   "outputs": [
    {
     "data": {
      "text/plain": [
       "count     48.000000\n",
       "mean     130.291667\n",
       "std      128.431447\n",
       "min        2.000000\n",
       "25%       24.500000\n",
       "50%       97.000000\n",
       "75%      190.000000\n",
       "max      486.000000\n",
       "Name: beer_name, dtype: float64"
      ]
     },
     "execution_count": 88,
     "metadata": {},
     "output_type": "execute_result"
    }
   ],
   "source": [
    "counts_US_reviews_british_beer_postBrexit['beer_name'].describe()"
   ]
  },
  {
   "cell_type": "markdown",
   "metadata": {},
   "source": [
    "When plotting the data about the reviews we got about british beer of US users after the Brexit referendum, <br>\n",
    "then the first thing that catches the eye is that two states don't even show up (count = 48). <br>\n",
    "Meaning that for two federal states we have no review about british beer after brexit at all. <br>\n",
    "This can possibly be an effect as well. If there were ratings at some frequency before Brexit, and after Brexit this ratings disappear,\n",
    "this could also be considered as a correlation between the reviewing behavior of US population and the brexit. <br>\n",
    "Nevertheless we consider that as sign for a bad base to analyse the data in this context. <br>\n",
    "Moreover, the state with the highest amount of reviews (Washington) has a mere amount of 486 ratings. <br>\n",
    "It will be hard to get significant effects with a mean of 130 ratings. <br>\n",
    "To avoid a simpson paradoxon we should avoid differences in the sample sizes of pre and post Brexit groups. <br>\n",
    "Should one proceed this analysis I would suggest to take the amount of reviews that are present after the brexit (let's say we have X reviews), <br>\n",
    "And compare them to the X most recent reviews before Brexit."
   ]
  },
  {
   "cell_type": "markdown",
   "metadata": {},
   "source": [
    "We are interested in the influence of international relations of the US with other countries and how these relations affect the behaviour of US beer consumers on the ratings on beers of the countries in question. <br>\n",
    "As China and Great Britain were not very promising we will try to find other countries which could be more promising."
   ]
  },
  {
   "cell_type": "code",
   "execution_count": 8,
   "metadata": {},
   "outputs": [],
   "source": [
    "df_US_reviews = df_reviews_all[df_reviews_all['user_merged_location'] == 'United States']"
   ]
  },
  {
   "cell_type": "code",
   "execution_count": 100,
   "metadata": {},
   "outputs": [
    {
     "data": {
      "text/plain": [
       "<matplotlib.legend.Legend at 0x1bd0d8a8fd0>"
      ]
     },
     "execution_count": 100,
     "metadata": {},
     "output_type": "execute_result"
    },
    {
     "data": {
      "image/png": "[encoded data removed]",
      "text/plain": [
       "<Figure size 700x500 with 1 Axes>"
      ]
     },
     "metadata": {},
     "output_type": "display_data"
    }
   ],
   "source": [
    "rating_nationality_counts = df_US_reviews.groupby('brewery_merged_location').count().reset_index()\n",
    "rating_nationality_counts = rating_nationality_counts.sort_values('user_name', ascending=False)\n",
    "\n",
    "\n",
    "axes = rating_nationality_counts[:15].plot.bar(x = 'brewery_merged_location', y='beer_name', logy=True, figsize=(7,5))\n",
    "axes.set_ylabel('count')\n",
    "axes.set_xlabel('country')\n",
    "axes.legend(['Brewery - Country of origin of beers rated by us users'])"
   ]
  },
  {
   "cell_type": "markdown",
   "metadata": {},
   "source": [
    "Note that the y-axis is logarithmic. <br>\n",
    "We see that the big majority of reviews of US users are done on US beers. <br>\n",
    "So, to find effects of politics on beer reviews, international relations are not the ideal approach given the distribution of the data. <br>\n",
    "\n",
    "In the next paragraph we will focus on scandals in the context of th Anheuser-Busch brewery (which is a US brewery) and investigate whether there is sufficient data to conduct an analyis."
   ]
  },
  {
   "cell_type": "markdown",
   "metadata": {},
   "source": [
    "## Budweiser Anheuser-Busch case"
   ]
  },
  {
   "cell_type": "markdown",
   "metadata": {},
   "source": [
    "In 2013 Anheuser-Busch was accused of watering down their beer. The suit was filed by Pennsylvania, California and other States. The suits were later thrown out. <br>\n",
    "There are many more scandals that can be investigated together with their influence on the ratings of the beers."
   ]
  },
  {
   "cell_type": "code",
   "execution_count": 30,
   "metadata": {},
   "outputs": [],
   "source": [
    "all_breweries = pd.concat([BA_breweries, RB_breweries], axis = 0)\n",
    "US_breweries = all_breweries[all_breweries['merged_location'] == 'United States']"
   ]
  },
  {
   "cell_type": "code",
   "execution_count": 33,
   "metadata": {},
   "outputs": [
    {
     "data": {
      "text/plain": [
       "14352"
      ]
     },
     "execution_count": 33,
     "metadata": {},
     "output_type": "execute_result"
    }
   ],
   "source": [
    "len(US_breweries)"
   ]
  },
  {
   "cell_type": "code",
   "execution_count": 37,
   "metadata": {},
   "outputs": [
    {
     "data": {
      "text/html": [
       "<div>\n",
       "<style scoped>\n",
       "    .dataframe tbody tr th:only-of-type {\n",
       "        vertical-align: middle;\n",
       "    }\n",
       "\n",
       "    .dataframe tbody tr th {\n",
       "        vertical-align: top;\n",
       "    }\n",
       "\n",
       "    .dataframe thead th {\n",
       "        text-align: right;\n",
       "    }\n",
       "</style>\n",
       "<table border=\"1\" class=\"dataframe\">\n",
       "  <thead>\n",
       "    <tr style=\"text-align: right;\">\n",
       "      <th></th>\n",
       "      <th>location</th>\n",
       "      <th>name</th>\n",
       "      <th>nbr_beers</th>\n",
       "      <th>merged_location</th>\n",
       "    </tr>\n",
       "    <tr>\n",
       "      <th>id</th>\n",
       "      <th></th>\n",
       "      <th></th>\n",
       "      <th></th>\n",
       "      <th></th>\n",
       "    </tr>\n",
       "  </thead>\n",
       "  <tbody>\n",
       "    <tr>\n",
       "      <th>36293</th>\n",
       "      <td>United States, Colorado</td>\n",
       "      <td>Anheuser-Busch</td>\n",
       "      <td>185</td>\n",
       "      <td>United States</td>\n",
       "    </tr>\n",
       "    <tr>\n",
       "      <th>29</th>\n",
       "      <td>United States, Missouri</td>\n",
       "      <td>Anheuser-Busch</td>\n",
       "      <td>185</td>\n",
       "      <td>United States</td>\n",
       "    </tr>\n",
       "    <tr>\n",
       "      <th>84</th>\n",
       "      <td>United States, Missouri</td>\n",
       "      <td>Anheuser-Busch InBev</td>\n",
       "      <td>216</td>\n",
       "      <td>United States</td>\n",
       "    </tr>\n",
       "  </tbody>\n",
       "</table>\n",
       "</div>"
      ],
      "text/plain": [
       "                      location                  name  nbr_beers  \\\n",
       "id                                                                \n",
       "36293  United States, Colorado        Anheuser-Busch        185   \n",
       "29     United States, Missouri        Anheuser-Busch        185   \n",
       "84     United States, Missouri  Anheuser-Busch InBev        216   \n",
       "\n",
       "      merged_location  \n",
       "id                     \n",
       "36293   United States  \n",
       "29      United States  \n",
       "84      United States  "
      ]
     },
     "execution_count": 37,
     "metadata": {},
     "output_type": "execute_result"
    }
   ],
   "source": [
    "US_breweries[US_breweries['name'].str.startswith('Anheuser-Busch')].head()"
   ]
  },
  {
   "cell_type": "code",
   "execution_count": 39,
   "metadata": {},
   "outputs": [],
   "source": [
    "df_Budweiser_reviews = df_US_reviews[df_US_reviews['brewery_name'].str.startswith('Anheuser')]"
   ]
  },
  {
   "cell_type": "code",
   "execution_count": 41,
   "metadata": {},
   "outputs": [
    {
     "data": {
      "text/plain": [
       "73971"
      ]
     },
     "execution_count": 41,
     "metadata": {},
     "output_type": "execute_result"
    }
   ],
   "source": [
    "len(df_Budweiser_reviews[df_Budweiser_reviews['brewery_merged_location'] == 'United States'])"
   ]
  },
  {
   "cell_type": "markdown",
   "metadata": {},
   "source": [
    "We have 73971 reviews of US users about beers from the Anheuser-Busch brewery."
   ]
  },
  {
   "cell_type": "markdown",
   "metadata": {},
   "source": [
    "# Visualize where most ratings were from:"
   ]
  },
  {
   "cell_type": "markdown",
   "metadata": {},
   "source": [
    "# Code for Zeina:"
   ]
  },
  {
   "cell_type": "markdown",
   "metadata": {},
   "source": [
    "This is the code I used to extract the indices of the rows containing words related to can or bottle in their texts. <br>\n",
    "I added the lists as pickles to the drive. <br>\n",
    "You can see in the code below how to unpack a pickle into a list again. <br>\n",
    "\n",
    "Should you need to investigate for other words, you can use the architecture of the code below. <br>\n",
    "There is a high probability that this is not the most efficient way of doing it, so if you have ideas of improvement I am open :)"
   ]
  },
  {
   "cell_type": "code",
   "execution_count": 110,
   "metadata": {},
   "outputs": [],
   "source": [
    "words_to_select_can = ['can', 'canned']\n",
    "words_to_select_bottle = ['bottle', 'bottled']"
   ]
  },
  {
   "cell_type": "code",
   "execution_count": 112,
   "metadata": {},
   "outputs": [],
   "source": [
    "index_can_R = []\n",
    "index_bottle_R = []\n",
    "index_can_B = []\n",
    "index_bottle_B = []\n",
    "added_words = []\n",
    "added_texts = []\n",
    "\n",
    "k = \"abcdefghijklmnopqrstuvwxyzABCDEFGHIJKLMNOPQRSTUVWXYZ\""
   ]
  },
  {
   "cell_type": "code",
   "execution_count": 113,
   "metadata": {},
   "outputs": [],
   "source": [
    "for index, row in df_RB_reviews.iterrows():\n",
    "    #extract the text\n",
    "    text = row['text']\n",
    "    #split the text into words\n",
    "    words = text.split(' ')\n",
    "    #remove all characters that arent letters\n",
    "    for i, word in enumerate(words):\n",
    "        words[i] = \"\".join(list(filter(lambda x: x in k, word)))\n",
    "    #Check whether a word related to \"can\" is in the text\n",
    "    if (len([x for x in words if x in words_to_select_can]) > 0):\n",
    "        index_can_R.append(index)\n",
    "    #Check whether a word related to \"bottle\" is in the text\n",
    "    if (len([x for x in words if x in words_to_select_bottle]) > 0):\n",
    "        index_bottle_R.append(index)"
   ]
  },
  {
   "cell_type": "code",
   "execution_count": 129,
   "metadata": {},
   "outputs": [],
   "source": [
    "with open(\"../dataframes_Flo/index_bottle_R.bin\", \"wb\") as output:\n",
    "    pickle.dump(index_bottle_R, output)\n",
    "\n",
    "with open(\"../dataframes_Flo/index_can_R.bin\", \"wb\") as output:\n",
    "    pickle.dump(index_can_R, output)"
   ]
  },
  {
   "cell_type": "code",
   "execution_count": 128,
   "metadata": {},
   "outputs": [],
   "source": [
    "for index, row in df_BA_reviews.iterrows():\n",
    "    #extract the text\n",
    "    text = str(row['text'])\n",
    "    #split the text into words\n",
    "    words = text.split(' ')\n",
    "    #remove all characters that arent letters\n",
    "    for i, word in enumerate(words):\n",
    "        words[i] = \"\".join(list(filter(lambda x: x in k, word)))\n",
    "    #Check whether a word related to \"can\" is in the text\n",
    "    if (len([x for x in words if x in words_to_select_can]) > 0):\n",
    "        index_can_B.append(index)\n",
    "    #Check whether a word related to \"bottle\" is in the text\n",
    "    if (len([x for x in words if x in words_to_select_bottle]) > 0):\n",
    "        index_bottle_B.append(index)"
   ]
  },
  {
   "cell_type": "code",
   "execution_count": 130,
   "metadata": {},
   "outputs": [],
   "source": [
    "with open(\"../dataframes_Flo/index_bottle_B.bin\", \"wb\") as output:\n",
    "    pickle.dump(index_bottle_B, output)\n",
    "\n",
    "with open(\"../dataframes_Flo/index_can_B.bin\", \"wb\") as output:\n",
    "    pickle.dump(index_can_B, output)"
   ]
  },
  {
   "cell_type": "code",
   "execution_count": 133,
   "metadata": {},
   "outputs": [
    {
     "name": "stdout",
     "output_type": "stream",
     "text": [
      "In RB, out of 7129580 reviews, we have 1041161 reviews mentioning \"bottle\" and 261858 reviews mentioning \"cans\"\n",
      "In BA, out of 2962158 reviews, we have 1058080 reviews mentioning \"bottle\" and 540167 reviews mentioning \"cans\"\n"
     ]
    }
   ],
   "source": [
    "print('In RB, out of ' + str(len(df_RB_reviews)) + ' reviews, we have ' + str(len(index_bottle_R)) + ' reviews mentioning \"bottle\" and ' + str(len(index_can_R)) + ' reviews mentioning \"cans\"')\n",
    "print('In BA, out of ' + str(len(df_BA_reviews)) + ' reviews, we have ' + str(len(index_bottle_B)) + ' reviews mentioning \"bottle\" and ' + str(len(index_can_B)) + ' reviews mentioning \"cans\"')\n"
   ]
  }
 ],
 "metadata": {
  "kernelspec": {
   "display_name": "Python 3.9.13 ('ada')",
   "language": "python",
   "name": "python3"
  },
  "language_info": {
   "codemirror_mode": {
    "name": "ipython",
    "version": 3
   },
   "file_extension": ".py",
   "mimetype": "text/x-python",
   "name": "python",
   "nbconvert_exporter": "python",
   "pygments_lexer": "ipython3",
   "version": "3.9.13"
  },
  "vscode": {
   "interpreter": {
    "hash": "faf7d6ed75ed7c5983c8b8c663c43d66c206a8e5fc8fdda408f4c308fc80edef"
   }
  }
 },
 "nbformat": 4,
 "nbformat_minor": 4
}
