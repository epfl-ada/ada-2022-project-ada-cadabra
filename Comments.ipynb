{
 "cells": [
  {
   "cell_type": "code",
   "execution_count": 22,
   "id": "70246aa8",
   "metadata": {},
   "outputs": [
    {
     "data": {
      "text/plain": [
       "'\\nFile name: Comments.ipynb\\nAuthor: Lolo\\nDate created: 12/11/2022\\nDate last modified: 14/11/2022\\nPython Version: 3.9.12\\n'"
      ]
     },
     "execution_count": 22,
     "metadata": {},
     "output_type": "execute_result"
    }
   ],
   "source": [
    "'''\n",
    "File name: Comments.ipynb\n",
    "Author: Lolo\n",
    "Date created: 12/11/2022\n",
    "Date last modified: 14/11/2022\n",
    "Python Version: 3.9.12\n",
    "'''"
   ]
  },
  {
   "cell_type": "code",
   "execution_count": 23,
   "id": "8fbf7507",
   "metadata": {},
   "outputs": [],
   "source": [
    "#import the required libraries\n",
    "import numpy as np\n",
    "import pandas as pd\n",
    "import matplotlib.pyplot as plt\n",
    "from scipy import stats\n",
    "\n",
    "#set the seed\n",
    "np.random.seed(4)\n",
    "\n",
    "DATA_PATH = './data/'\n",
    "DEFAULT_ENCODING = 'UTF8'\n",
    "DEFAULT_COMPRESSION = 'gzip'"
   ]
  },
  {
   "cell_type": "markdown",
   "id": "ceebeef1",
   "metadata": {},
   "source": [
    "## Taking csv tranformed file from Flo"
   ]
  },
  {
   "cell_type": "code",
   "execution_count": 2,
   "id": "5339ccfe",
   "metadata": {},
   "outputs": [],
   "source": [
    "df_BA_reviews = pd.read_csv(DATA_PATH + 'df_BA_reviews.csv')"
   ]
  },
  {
   "cell_type": "code",
   "execution_count": 3,
   "id": "8ae1e74a",
   "metadata": {},
   "outputs": [
    {
     "data": {
      "text/html": [
       "<div>\n",
       "<style scoped>\n",
       "    .dataframe tbody tr th:only-of-type {\n",
       "        vertical-align: middle;\n",
       "    }\n",
       "\n",
       "    .dataframe tbody tr th {\n",
       "        vertical-align: top;\n",
       "    }\n",
       "\n",
       "    .dataframe thead th {\n",
       "        text-align: right;\n",
       "    }\n",
       "</style>\n",
       "<table border=\"1\" class=\"dataframe\">\n",
       "  <thead>\n",
       "    <tr style=\"text-align: right;\">\n",
       "      <th></th>\n",
       "      <th>beer_name</th>\n",
       "      <th>beer_id</th>\n",
       "      <th>brewery_name</th>\n",
       "      <th>brewery_id</th>\n",
       "      <th>style</th>\n",
       "      <th>abv</th>\n",
       "      <th>date</th>\n",
       "      <th>user_name</th>\n",
       "      <th>user_id</th>\n",
       "      <th>appearance</th>\n",
       "      <th>aroma</th>\n",
       "      <th>palate</th>\n",
       "      <th>taste</th>\n",
       "      <th>overall</th>\n",
       "      <th>rating</th>\n",
       "      <th>text</th>\n",
       "    </tr>\n",
       "  </thead>\n",
       "  <tbody>\n",
       "    <tr>\n",
       "      <th>0</th>\n",
       "      <td>Régab</td>\n",
       "      <td>142544</td>\n",
       "      <td>Societe des Brasseries du Gabon (SOBRAGA)</td>\n",
       "      <td>37262</td>\n",
       "      <td>Euro Pale Lager</td>\n",
       "      <td>4.5</td>\n",
       "      <td>2015-08-20 10:00:00</td>\n",
       "      <td>nmann08</td>\n",
       "      <td>nmann08.184925</td>\n",
       "      <td>3.25</td>\n",
       "      <td>2.75</td>\n",
       "      <td>3.25</td>\n",
       "      <td>2.75</td>\n",
       "      <td>3.0</td>\n",
       "      <td>2.88</td>\n",
       "      <td>From a bottle, pours a piss yellow color with ...</td>\n",
       "    </tr>\n",
       "    <tr>\n",
       "      <th>1</th>\n",
       "      <td>Barelegs Brew</td>\n",
       "      <td>19590</td>\n",
       "      <td>Strangford Lough Brewing Company Ltd</td>\n",
       "      <td>10093</td>\n",
       "      <td>English Pale Ale</td>\n",
       "      <td>4.5</td>\n",
       "      <td>2009-02-20 11:00:00</td>\n",
       "      <td>StJamesGate</td>\n",
       "      <td>stjamesgate.163714</td>\n",
       "      <td>3.00</td>\n",
       "      <td>3.50</td>\n",
       "      <td>3.50</td>\n",
       "      <td>4.00</td>\n",
       "      <td>3.5</td>\n",
       "      <td>3.67</td>\n",
       "      <td>Pours pale copper with a thin head that quickl...</td>\n",
       "    </tr>\n",
       "    <tr>\n",
       "      <th>2</th>\n",
       "      <td>Barelegs Brew</td>\n",
       "      <td>19590</td>\n",
       "      <td>Strangford Lough Brewing Company Ltd</td>\n",
       "      <td>10093</td>\n",
       "      <td>English Pale Ale</td>\n",
       "      <td>4.5</td>\n",
       "      <td>2006-03-13 11:00:00</td>\n",
       "      <td>mdagnew</td>\n",
       "      <td>mdagnew.19527</td>\n",
       "      <td>4.00</td>\n",
       "      <td>3.50</td>\n",
       "      <td>3.50</td>\n",
       "      <td>4.00</td>\n",
       "      <td>3.5</td>\n",
       "      <td>3.73</td>\n",
       "      <td>500ml Bottle bought from The Vintage, Antrim.....</td>\n",
       "    </tr>\n",
       "    <tr>\n",
       "      <th>3</th>\n",
       "      <td>Barelegs Brew</td>\n",
       "      <td>19590</td>\n",
       "      <td>Strangford Lough Brewing Company Ltd</td>\n",
       "      <td>10093</td>\n",
       "      <td>English Pale Ale</td>\n",
       "      <td>4.5</td>\n",
       "      <td>2004-12-01 11:00:00</td>\n",
       "      <td>helloloser12345</td>\n",
       "      <td>helloloser12345.10867</td>\n",
       "      <td>4.00</td>\n",
       "      <td>3.50</td>\n",
       "      <td>4.00</td>\n",
       "      <td>4.00</td>\n",
       "      <td>4.5</td>\n",
       "      <td>3.98</td>\n",
       "      <td>Serving: 500ml brown bottlePour: Good head wit...</td>\n",
       "    </tr>\n",
       "    <tr>\n",
       "      <th>4</th>\n",
       "      <td>Barelegs Brew</td>\n",
       "      <td>19590</td>\n",
       "      <td>Strangford Lough Brewing Company Ltd</td>\n",
       "      <td>10093</td>\n",
       "      <td>English Pale Ale</td>\n",
       "      <td>4.5</td>\n",
       "      <td>2004-08-30 10:00:00</td>\n",
       "      <td>cypressbob</td>\n",
       "      <td>cypressbob.3708</td>\n",
       "      <td>4.00</td>\n",
       "      <td>4.00</td>\n",
       "      <td>4.00</td>\n",
       "      <td>4.00</td>\n",
       "      <td>4.0</td>\n",
       "      <td>4.00</td>\n",
       "      <td>500ml bottlePours with a light, slightly hazy ...</td>\n",
       "    </tr>\n",
       "  </tbody>\n",
       "</table>\n",
       "</div>"
      ],
      "text/plain": [
       "       beer_name  beer_id                               brewery_name  \\\n",
       "0          Régab   142544  Societe des Brasseries du Gabon (SOBRAGA)   \n",
       "1  Barelegs Brew    19590       Strangford Lough Brewing Company Ltd   \n",
       "2  Barelegs Brew    19590       Strangford Lough Brewing Company Ltd   \n",
       "3  Barelegs Brew    19590       Strangford Lough Brewing Company Ltd   \n",
       "4  Barelegs Brew    19590       Strangford Lough Brewing Company Ltd   \n",
       "\n",
       "   brewery_id             style  abv                 date        user_name  \\\n",
       "0       37262   Euro Pale Lager  4.5  2015-08-20 10:00:00          nmann08   \n",
       "1       10093  English Pale Ale  4.5  2009-02-20 11:00:00      StJamesGate   \n",
       "2       10093  English Pale Ale  4.5  2006-03-13 11:00:00          mdagnew   \n",
       "3       10093  English Pale Ale  4.5  2004-12-01 11:00:00  helloloser12345   \n",
       "4       10093  English Pale Ale  4.5  2004-08-30 10:00:00       cypressbob   \n",
       "\n",
       "                 user_id  appearance  aroma  palate  taste  overall  rating  \\\n",
       "0         nmann08.184925        3.25   2.75    3.25   2.75      3.0    2.88   \n",
       "1     stjamesgate.163714        3.00   3.50    3.50   4.00      3.5    3.67   \n",
       "2          mdagnew.19527        4.00   3.50    3.50   4.00      3.5    3.73   \n",
       "3  helloloser12345.10867        4.00   3.50    4.00   4.00      4.5    3.98   \n",
       "4        cypressbob.3708        4.00   4.00    4.00   4.00      4.0    4.00   \n",
       "\n",
       "                                                text  \n",
       "0  From a bottle, pours a piss yellow color with ...  \n",
       "1  Pours pale copper with a thin head that quickl...  \n",
       "2  500ml Bottle bought from The Vintage, Antrim.....  \n",
       "3  Serving: 500ml brown bottlePour: Good head wit...  \n",
       "4  500ml bottlePours with a light, slightly hazy ...  "
      ]
     },
     "execution_count": 3,
     "metadata": {},
     "output_type": "execute_result"
    }
   ],
   "source": [
    "df_BA_reviews.head()"
   ]
  },
  {
   "cell_type": "markdown",
   "id": "0eb978a6",
   "metadata": {},
   "source": [
    "### Visualizations:  length of the comments"
   ]
  },
  {
   "cell_type": "markdown",
   "id": "e3b73dc5",
   "metadata": {},
   "source": [
    "#### with subset of the data"
   ]
  },
  {
   "cell_type": "code",
   "execution_count": 4,
   "id": "0272f141",
   "metadata": {},
   "outputs": [],
   "source": [
    "df_BA_subset = df_BA_reviews.loc[0:999]"
   ]
  },
  {
   "cell_type": "code",
   "execution_count": 5,
   "id": "dae2763b",
   "metadata": {},
   "outputs": [],
   "source": [
    "nbr_words_per_comment_subset = list(map(len,df_BA_subset['text']))"
   ]
  },
  {
   "cell_type": "code",
   "execution_count": 6,
   "id": "84d895c6",
   "metadata": {
    "scrolled": true
   },
   "outputs": [
    {
     "data": {
      "image/png": "[encoded data removed]",
      "text/plain": [
       "<Figure size 432x288 with 1 Axes>"
      ]
     },
     "metadata": {
      "needs_background": "light"
     },
     "output_type": "display_data"
    }
   ],
   "source": [
    "plt.hist(nbr_words_per_comment_subset, bins=20,histtype='step')\n",
    "plt.title('Distribution of length of reviews')\n",
    "plt.show()\n"
   ]
  },
  {
   "cell_type": "markdown",
   "id": "963104c2",
   "metadata": {},
   "source": [
    "#### with whole data"
   ]
  },
  {
   "cell_type": "code",
   "execution_count": 26,
   "id": "495751d4",
   "metadata": {},
   "outputs": [],
   "source": [
    "BA_texts = df_BA_reviews['text'].copy() # So we don't mess with the actual dataframe"
   ]
  },
  {
   "cell_type": "code",
   "execution_count": 27,
   "id": "b5e2ca87",
   "metadata": {
    "scrolled": true
   },
   "outputs": [
    {
     "ename": "TypeError",
     "evalue": "object of type 'float' has no len()",
     "output_type": "error",
     "traceback": [
      "\u001b[0;31m---------------------------------------------------------------------------\u001b[0m",
      "\u001b[0;31mTypeError\u001b[0m                                 Traceback (most recent call last)",
      "Input \u001b[0;32mIn [27]\u001b[0m, in \u001b[0;36m<cell line: 1>\u001b[0;34m()\u001b[0m\n\u001b[0;32m----> 1\u001b[0m nbr_words_per_comment \u001b[38;5;241m=\u001b[39m \u001b[38;5;28;43mlist\u001b[39;49m\u001b[43m(\u001b[49m\u001b[38;5;28;43mmap\u001b[39;49m\u001b[43m(\u001b[49m\u001b[38;5;28;43mlen\u001b[39;49m\u001b[43m,\u001b[49m\u001b[43mBA_texts\u001b[49m\u001b[43m)\u001b[49m\u001b[43m)\u001b[49m\n",
      "\u001b[0;31mTypeError\u001b[0m: object of type 'float' has no len()"
     ]
    }
   ],
   "source": [
    "nbr_words_per_comment = list(map(len,BA_texts))"
   ]
  },
  {
   "cell_type": "markdown",
   "id": "fb63df99",
   "metadata": {},
   "source": [
    "We get an **error** since some comments are *float* instead of *string*."
   ]
  },
  {
   "cell_type": "code",
   "execution_count": 28,
   "id": "c11eab33",
   "metadata": {},
   "outputs": [
    {
     "name": "stdout",
     "output_type": "stream",
     "text": [
      "Number of comment that are float: 2\n"
     ]
    }
   ],
   "source": [
    "list_types = list(map(type,BA_texts)) # get the a list of the type for each row\n",
    "print(f'Number of comment that are float: {list_types.count(float)}')"
   ]
  },
  {
   "cell_type": "code",
   "execution_count": 29,
   "id": "6933862b",
   "metadata": {},
   "outputs": [
    {
     "name": "stdout",
     "output_type": "stream",
     "text": [
      "Number of comment that are float: 0\n"
     ]
    }
   ],
   "source": [
    "# getting rid of the 2 float comments\n",
    "\n",
    "for i in range(list_types.count(float)):\n",
    "    index_to_transform_to_string = list_types.index(float)\n",
    "    BA_texts[index_to_transform_to_string] = str(BA_texts[index_to_transform_to_string]) #transform the float to a str\n",
    "\n",
    "    list_types = list(map(type,BA_texts))# update list of types\n",
    "\n",
    "\n",
    "#making sure there is no float anymore\n",
    "print(f'Number of comment that are float: {list_types.count(float)}')\n",
    "\n"
   ]
  },
  {
   "cell_type": "code",
   "execution_count": 30,
   "id": "eaf79217",
   "metadata": {
    "scrolled": true
   },
   "outputs": [],
   "source": [
    "nbr_words_per_comment = list(map(len,BA_texts))"
   ]
  },
  {
   "cell_type": "code",
   "execution_count": 36,
   "id": "999188b0",
   "metadata": {
    "scrolled": true
   },
   "outputs": [
    {
     "data": {
      "image/png": "[encoded data removed]",
      "text/plain": [
       "<Figure size 432x288 with 1 Axes>"
      ]
     },
     "metadata": {
      "needs_background": "light"
     },
     "output_type": "display_data"
    }
   ],
   "source": [
    "plt.hist(nbr_words_per_comment, bins=100,log=False,histtype='step')\n",
    "plt.title('Distribution of length of reviews')\n",
    "plt.xlabel('characters')\n",
    "plt.show()\n"
   ]
  }
 ],
 "metadata": {
  "kernelspec": {
   "display_name": "Python 3 (ipykernel)",
   "language": "python",
   "name": "python3"
  },
  "language_info": {
   "codemirror_mode": {
    "name": "ipython",
    "version": 3
   },
   "file_extension": ".py",
   "mimetype": "text/x-python",
   "name": "python",
   "nbconvert_exporter": "python",
   "pygments_lexer": "ipython3",
   "version": "3.9.12"
  }
 },
 "nbformat": 4,
 "nbformat_minor": 5
}
