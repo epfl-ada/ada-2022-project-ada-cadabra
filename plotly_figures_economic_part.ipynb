{
 "cells": [
  {
   "attachments": {},
   "cell_type": "markdown",
   "metadata": {},
   "source": [
    "# Plotly Figures for the Website:"
   ]
  },
  {
   "attachments": {},
   "cell_type": "markdown",
   "metadata": {},
   "source": [
    "This document contains the plotly figures used for the part of the project that investigates the influence of economic factors on the rating of beers. <br>\n",
    "We did not comment the code extensively, as the graphs contain the same information as the ones in the notebook. <br>\n",
    "It is just for completeness."
   ]
  },
  {
   "cell_type": "code",
   "execution_count": 3,
   "metadata": {},
   "outputs": [],
   "source": [
    "import pandas as pd\n",
    "import matplotlib.pyplot as plt\n",
    "%matplotlib inline\n",
    "import pickle\n",
    "import numpy as np\n",
    "import plotly.express as px\n",
    "import plotly.graph_objects as go\n",
    "import datetime"
   ]
  },
  {
   "cell_type": "code",
   "execution_count": 2,
   "metadata": {},
   "outputs": [],
   "source": [
    "df_US_reviews_dates = pd.read_csv('../DataframeStorage/df_US_reviews.csv', usecols = ['beer_name','text','date','user_location', 'month_year', 'year'])\n"
   ]
  },
  {
   "cell_type": "code",
   "execution_count": 122,
   "metadata": {},
   "outputs": [],
   "source": [
    "with open(\"../DataframeStorage/index_price.bin\", \"rb\") as data:\n",
    "    index_price = pickle.load(data)"
   ]
  },
  {
   "cell_type": "code",
   "execution_count": 169,
   "metadata": {},
   "outputs": [],
   "source": [
    "df_price_related = df_US_reviews_dates.loc[index_price]\n",
    "df_price_related = df_price_related.sort_values('date', ascending=True)\n",
    "\n",
    "monthly_counts_price_reviews = df_price_related.groupby('month_year').count().reset_index()\n",
    "\n",
    "#Total number of reviews of US users\n",
    "#We remove all month that have lower counts than 50 \n",
    "monthly_counts_US_reviews = df_US_reviews_dates.groupby('month_year').count().reset_index()\n",
    "monthly_counts_US_reviews = monthly_counts_US_reviews[monthly_counts_US_reviews['beer_name']>50]\n",
    "\n",
    "#Define a dataframe that contains the percentage of reviews mentionning price per month:\n",
    "#First we extract the data of the monthly counts and the corresponding month/years.\n",
    "price_count = monthly_counts_price_reviews[['month_year', 'beer_name']]\n",
    "review_count = monthly_counts_US_reviews[['month_year', 'beer_name']]\n",
    "\n",
    "#The two counts are merged over the dates and the columns are renamed. Subsequently the ratio is calculated and stored in a new column.\n",
    "df_ratio = price_count.merge(review_count, on='month_year')\n",
    "df_ratio.rename(columns = {'beer_name_x':'price_related', 'beer_name_y':'all_reviews'}, inplace = True)\n",
    "df_ratio['ratio'] = (df_ratio['price_related']/df_ratio['all_reviews']*100).round(2)\n",
    "\n",
    "#Define ticks:\n",
    "major_ticks = np.linspace(9,201,17).astype(int)\n",
    "minor_ticks = np.asarray(range(208))\n",
    "minor_ticks = [i for i in minor_ticks if i not in major_ticks]"
   ]
  },
  {
   "attachments": {},
   "cell_type": "markdown",
   "metadata": {},
   "source": [
    "--------------------------------------------------------------"
   ]
  },
  {
   "attachments": {},
   "cell_type": "markdown",
   "metadata": {},
   "source": [
    "# Figure 1"
   ]
  },
  {
   "cell_type": "code",
   "execution_count": 376,
   "metadata": {},
   "outputs": [],
   "source": [
    "monthly_counts_price_reviews['date'] = pd.to_datetime(monthly_counts_price_reviews['month_year'], format=\"%Y-%m\")\n",
    "monthly_counts_US_reviews['date'] = pd.to_datetime(monthly_counts_US_reviews['month_year'], format=\"%Y-%m\")\n",
    "cutoff = datetime.datetime(2000,4,1)\n",
    "monthly_counts_price_reviews = monthly_counts_price_reviews[monthly_counts_price_reviews['date']>cutoff]\n",
    "monthly_counts_US_reviews = monthly_counts_US_reviews[monthly_counts_US_reviews['date']>cutoff]"
   ]
  },
  {
   "cell_type": "code",
   "execution_count": 379,
   "metadata": {},
   "outputs": [
    {
     "data": {
      "application/vnd.plotly.v1+json": {
       "config": {
        "plotlyServerURL": "https://plot.ly"
       },
       "data": [
        {
         "alignmentgroup": "True",
         "hovertemplate": "month_year=%{x}<br>beer_name=%{y}<extra></extra>",
         "legendgroup": "",
         "marker": {
          "color": "green",
          "pattern": {
           "shape": ""
          }
         },
         "name": "",
         "offsetgroup": "",
         "orientation": "v",
         "showlegend": false,
         "textposition": "auto",
         "type": "bar",
         "x": [
          "2000-05",
          "2000-06",
          "2000-07",
          "2000-08",
          "2000-09",
          "2000-10",
          "2000-11",
          "2000-12",
          "2001-01",
          "2001-02",
          "2001-03",
          "2001-04",
          "2001-05",
          "2001-06",
          "2001-07",
          "2001-08",
          "2001-09",
          "2001-10",
          "2001-11",
          "2001-12",
          "2002-01",
          "2002-02",
          "2002-03",
          "2002-04",
          "2002-05",
          "2002-06",
          "2002-07",
          "2002-08",
          "2002-09",
          "2002-10",
          "2002-11",
          "2002-12",
          "2003-01",
          "2003-02",
          "2003-03",
          "2003-04",
          "2003-05",
          "2003-06",
          "2003-07",
          "2003-08",
          "2003-09",
          "2003-10",
          "2003-11",
          "2003-12",
          "2004-01",
          "2004-02",
          "2004-03",
          "2004-04",
          "2004-05",
          "2004-06",
          "2004-07",
          "2004-08",
          "2004-09",
          "2004-10",
          "2004-11",
          "2004-12",
          "2005-01",
          "2005-02",
          "2005-03",
          "2005-04",
          "2005-05",
          "2005-06",
          "2005-07",
          "2005-08",
          "2005-09",
          "2005-10",
          "2005-11",
          "2005-12",
          "2006-01",
          "2006-02",
          "2006-03",
          "2006-04",
          "2006-05",
          "2006-06",
          "2006-07",
          "2006-08",
          "2006-09",
          "2006-10",
          "2006-11",
          "2006-12",
          "2007-01",
          "2007-02",
          "2007-03",
          "2007-04",
          "2007-05",
          "2007-06",
          "2007-07",
          "2007-08",
          "2007-09",
          "2007-10",
          "2007-11",
          "2007-12",
          "2008-01",
          "2008-02",
          "2008-03",
          "2008-04",
          "2008-05",
          "2008-06",
          "2008-07",
          "2008-08",
          "2008-09",
          "2008-10",
          "2008-11",
          "2008-12",
          "2009-01",
          "2009-02",
          "2009-03",
          "2009-04",
          "2009-05",
          "2009-06",
          "2009-07",
          "2009-08",
          "2009-09",
          "2009-10",
          "2009-11",
          "2009-12",
          "2010-01",
          "2010-02",
          "2010-03",
          "2010-04",
          "2010-05",
          "2010-06",
          "2010-07",
          "2010-08",
          "2010-09",
          "2010-10",
          "2010-11",
          "2010-12",
          "2011-01",
          "2011-02",
          "2011-03",
          "2011-04",
          "2011-05",
          "2011-06",
          "2011-07",
          "2011-08",
          "2011-09",
          "2011-10",
          "2011-11",
          "2011-12",
          "2012-01",
          "2012-02",
          "2012-03",
          "2012-04",
          "2012-05",
          "2012-06",
          "2012-07",
          "2012-08",
          "2012-09",
          "2012-10",
          "2012-11",
          "2012-12",
          "2013-01",
          "2013-02",
          "2013-03",
          "2013-04",
          "2013-05",
          "2013-06",
          "2013-07",
          "2013-08",
          "2013-09",
          "2013-10",
          "2013-11",
          "2013-12",
          "2014-01",
          "2014-02",
          "2014-03",
          "2014-04",
          "2014-05",
          "2014-06",
          "2014-07",
          "2014-08",
          "2014-09",
          "2014-10",
          "2014-11",
          "2014-12",
          "2015-01",
          "2015-02",
          "2015-03",
          "2015-04",
          "2015-05",
          "2015-06",
          "2015-07",
          "2015-08",
          "2015-09",
          "2015-10",
          "2015-11",
          "2015-12",
          "2016-01",
          "2016-02",
          "2016-03",
          "2016-04",
          "2016-05",
          "2016-06",
          "2016-07",
          "2016-08",
          "2016-09",
          "2016-10",
          "2016-11",
          "2016-12",
          "2017-01",
          "2017-02",
          "2017-03",
          "2017-04",
          "2017-05",
          "2017-06",
          "2017-07"
         ],
         "xaxis": "x",
         "y": [
          7,
          6,
          2,
          5,
          7,
          9,
          20,
          18,
          16,
          16,
          28,
          34,
          34,
          53,
          45,
          80,
          74,
          122,
          155,
          113,
          121,
          234,
          279,
          229,
          202,
          274,
          283,
          258,
          289,
          290,
          312,
          396,
          404,
          427,
          359,
          312,
          389,
          383,
          489,
          477,
          397,
          435,
          496,
          551,
          654,
          662,
          609,
          632,
          558,
          529,
          561,
          615,
          572,
          666,
          637,
          647,
          766,
          691,
          768,
          693,
          708,
          664,
          763,
          773,
          843,
          867,
          919,
          1032,
          1064,
          1014,
          1037,
          1053,
          997,
          1001,
          1048,
          1160,
          1017,
          899,
          1084,
          984,
          1117,
          1143,
          1137,
          1125,
          1097,
          1159,
          1169,
          1179,
          1236,
          1347,
          1217,
          1588,
          1638,
          1488,
          1574,
          1514,
          1675,
          1436,
          1407,
          1636,
          1344,
          1577,
          1427,
          1787,
          2013,
          1840,
          1975,
          1837,
          1860,
          1534,
          1714,
          1774,
          1523,
          1525,
          1642,
          1885,
          1998,
          1727,
          1887,
          1779,
          1873,
          1720,
          1979,
          1857,
          1879,
          2205,
          2014,
          2336,
          2639,
          2354,
          2407,
          2231,
          2447,
          2201,
          2276,
          2212,
          2188,
          2067,
          2149,
          2460,
          2546,
          2149,
          2016,
          1711,
          1692,
          1538,
          1627,
          1589,
          1517,
          1550,
          1708,
          1938,
          1885,
          1771,
          1914,
          1722,
          1673,
          1643,
          1632,
          1667,
          1468,
          1592,
          1546,
          1693,
          1766,
          1630,
          1736,
          1451,
          1472,
          1517,
          1394,
          1344,
          1337,
          1344,
          1298,
          1341,
          1405,
          1231,
          1430,
          1342,
          1267,
          1239,
          1345,
          1413,
          1150,
          1371,
          1218,
          1448,
          1353,
          1247,
          1188,
          1292,
          1135,
          1293,
          1065,
          1040,
          834,
          895,
          761,
          978,
          1064,
          930,
          900,
          935,
          795,
          890,
          689
         ],
         "yaxis": "y"
        },
        {
         "alignmentgroup": "True",
         "hovertemplate": "month_year=%{x}<br>beer_name=%{y}<extra></extra>",
         "legendgroup": "",
         "marker": {
          "color": "red",
          "pattern": {
           "shape": ""
          }
         },
         "name": "",
         "offsetgroup": "",
         "orientation": "v",
         "showlegend": false,
         "textposition": "auto",
         "type": "bar",
         "x": [
          "2000-05",
          "2000-06",
          "2000-07",
          "2000-08",
          "2000-09",
          "2000-10",
          "2000-11",
          "2000-12",
          "2001-01",
          "2001-02",
          "2001-03",
          "2001-04",
          "2001-05",
          "2001-06",
          "2001-07",
          "2001-08",
          "2001-09",
          "2001-10",
          "2001-11",
          "2001-12",
          "2002-01",
          "2002-02",
          "2002-03",
          "2002-04",
          "2002-05",
          "2002-06",
          "2002-07",
          "2002-08",
          "2002-09",
          "2002-10",
          "2002-11",
          "2002-12",
          "2003-01",
          "2003-02",
          "2003-03",
          "2003-04",
          "2003-05",
          "2003-06",
          "2003-07",
          "2003-08",
          "2003-09",
          "2003-10",
          "2003-11",
          "2003-12",
          "2004-01",
          "2004-02",
          "2004-03",
          "2004-04",
          "2004-05",
          "2004-06",
          "2004-07",
          "2004-08",
          "2004-09",
          "2004-10",
          "2004-11",
          "2004-12",
          "2005-01",
          "2005-02",
          "2005-03",
          "2005-04",
          "2005-05",
          "2005-06",
          "2005-07",
          "2005-08",
          "2005-09",
          "2005-10",
          "2005-11",
          "2005-12",
          "2006-01",
          "2006-02",
          "2006-03",
          "2006-04",
          "2006-05",
          "2006-06",
          "2006-07",
          "2006-08",
          "2006-09",
          "2006-10",
          "2006-11",
          "2006-12",
          "2007-01",
          "2007-02",
          "2007-03",
          "2007-04",
          "2007-05",
          "2007-06",
          "2007-07",
          "2007-08",
          "2007-09",
          "2007-10",
          "2007-11",
          "2007-12",
          "2008-01",
          "2008-02",
          "2008-03",
          "2008-04",
          "2008-05",
          "2008-06",
          "2008-07",
          "2008-08",
          "2008-09",
          "2008-10",
          "2008-11",
          "2008-12",
          "2009-01",
          "2009-02",
          "2009-03",
          "2009-04",
          "2009-05",
          "2009-06",
          "2009-07",
          "2009-08",
          "2009-09",
          "2009-10",
          "2009-11",
          "2009-12",
          "2010-01",
          "2010-02",
          "2010-03",
          "2010-04",
          "2010-05",
          "2010-06",
          "2010-07",
          "2010-08",
          "2010-09",
          "2010-10",
          "2010-11",
          "2010-12",
          "2011-01",
          "2011-02",
          "2011-03",
          "2011-04",
          "2011-05",
          "2011-06",
          "2011-07",
          "2011-08",
          "2011-09",
          "2011-10",
          "2011-11",
          "2011-12",
          "2012-01",
          "2012-02",
          "2012-03",
          "2012-04",
          "2012-05",
          "2012-06",
          "2012-07",
          "2012-08",
          "2012-09",
          "2012-10",
          "2012-11",
          "2012-12",
          "2013-01",
          "2013-02",
          "2013-03",
          "2013-04",
          "2013-05",
          "2013-06",
          "2013-07",
          "2013-08",
          "2013-09",
          "2013-10",
          "2013-11",
          "2013-12",
          "2014-01",
          "2014-02",
          "2014-03",
          "2014-04",
          "2014-05",
          "2014-06",
          "2014-07",
          "2014-08",
          "2014-09",
          "2014-10",
          "2014-11",
          "2014-12",
          "2015-01",
          "2015-02",
          "2015-03",
          "2015-04",
          "2015-05",
          "2015-06",
          "2015-07",
          "2015-08",
          "2015-09",
          "2015-10",
          "2015-11",
          "2015-12",
          "2016-01",
          "2016-02",
          "2016-03",
          "2016-04",
          "2016-05",
          "2016-06",
          "2016-07",
          "2016-08",
          "2016-09",
          "2016-10",
          "2016-11",
          "2016-12",
          "2017-01",
          "2017-02",
          "2017-03",
          "2017-04",
          "2017-05",
          "2017-06",
          "2017-07"
         ],
         "xaxis": "x",
         "y": [
          164,
          178,
          99,
          246,
          289,
          315,
          395,
          440,
          310,
          260,
          498,
          664,
          677,
          898,
          1047,
          1639,
          1903,
          1995,
          2232,
          2163,
          2377,
          4097,
          4710,
          5076,
          5452,
          5739,
          7270,
          7430,
          7270,
          8270,
          8330,
          9990,
          10806,
          9304,
          10797,
          8099,
          9358,
          10192,
          11918,
          11757,
          11217,
          11818,
          12605,
          14099,
          15059,
          13754,
          14411,
          13807,
          13628,
          14130,
          14828,
          14528,
          13919,
          15026,
          15298,
          15383,
          15722,
          14146,
          18067,
          15945,
          16456,
          17017,
          19278,
          18957,
          16967,
          19047,
          18014,
          21125,
          22977,
          19728,
          22796,
          20778,
          22526,
          21555,
          23386,
          24674,
          21669,
          23772,
          24097,
          24995,
          26525,
          25119,
          26797,
          26115,
          27482,
          26810,
          29001,
          28602,
          32530,
          32020,
          29590,
          34892,
          37257,
          35253,
          39025,
          36866,
          39315,
          36496,
          36414,
          40171,
          34742,
          36847,
          30723,
          41456,
          44599,
          38435,
          43792,
          40495,
          40466,
          36680,
          39267,
          40692,
          37351,
          35854,
          37299,
          39501,
          42008,
          37840,
          40788,
          37967,
          40336,
          37020,
          40117,
          41364,
          39075,
          41584,
          41234,
          46931,
          47821,
          44546,
          47411,
          42936,
          44766,
          42711,
          44021,
          46398,
          43790,
          43917,
          44638,
          46105,
          46150,
          43080,
          41894,
          38749,
          37789,
          37460,
          39308,
          39565,
          36040,
          36729,
          35569,
          40077,
          40635,
          37449,
          41372,
          37869,
          40136,
          42292,
          41970,
          43336,
          38481,
          41116,
          39596,
          40549,
          39163,
          36982,
          39565,
          36686,
          38841,
          40029,
          37684,
          40765,
          36924,
          36737,
          35779,
          36973,
          38077,
          36216,
          40930,
          37722,
          39138,
          39091,
          41387,
          45422,
          38035,
          39097,
          37793,
          41111,
          39912,
          35741,
          37519,
          37697,
          37636,
          35872,
          36968,
          32603,
          30119,
          31403,
          28656,
          31029,
          32408,
          28231,
          30633,
          31266,
          32399,
          33908,
          27215
         ],
         "yaxis": "y"
        }
       ],
       "layout": {
        "paper_bgcolor": "rgba(0,0,0,0)",
        "template": {
         "data": {
          "bar": [
           {
            "error_x": {
             "color": "#2a3f5f"
            },
            "error_y": {
             "color": "#2a3f5f"
            },
            "marker": {
             "line": {
              "color": "#E5ECF6",
              "width": 0.5
             },
             "pattern": {
              "fillmode": "overlay",
              "size": 10,
              "solidity": 0.2
             }
            },
            "type": "bar"
           }
          ],
          "barpolar": [
           {
            "marker": {
             "line": {
              "color": "#E5ECF6",
              "width": 0.5
             },
             "pattern": {
              "fillmode": "overlay",
              "size": 10,
              "solidity": 0.2
             }
            },
            "type": "barpolar"
           }
          ],
          "carpet": [
           {
            "aaxis": {
             "endlinecolor": "#2a3f5f",
             "gridcolor": "white",
             "linecolor": "white",
             "minorgridcolor": "white",
             "startlinecolor": "#2a3f5f"
            },
            "baxis": {
             "endlinecolor": "#2a3f5f",
             "gridcolor": "white",
             "linecolor": "white",
             "minorgridcolor": "white",
             "startlinecolor": "#2a3f5f"
            },
            "type": "carpet"
           }
          ],
          "choropleth": [
           {
            "colorbar": {
             "outlinewidth": 0,
             "ticks": ""
            },
            "type": "choropleth"
           }
          ],
          "contour": [
           {
            "colorbar": {
             "outlinewidth": 0,
             "ticks": ""
            },
            "colorscale": [
             [
              0,
              "#0d0887"
             ],
             [
              0.1111111111111111,
              "#46039f"
             ],
             [
              0.2222222222222222,
              "#7201a8"
             ],
             [
              0.3333333333333333,
              "#9c179e"
             ],
             [
              0.4444444444444444,
              "#bd3786"
             ],
             [
              0.5555555555555556,
              "#d8576b"
             ],
             [
              0.6666666666666666,
              "#ed7953"
             ],
             [
              0.7777777777777778,
              "#fb9f3a"
             ],
             [
              0.8888888888888888,
              "#fdca26"
             ],
             [
              1,
              "#f0f921"
             ]
            ],
            "type": "contour"
           }
          ],
          "contourcarpet": [
           {
            "colorbar": {
             "outlinewidth": 0,
             "ticks": ""
            },
            "type": "contourcarpet"
           }
          ],
          "heatmap": [
           {
            "colorbar": {
             "outlinewidth": 0,
             "ticks": ""
            },
            "colorscale": [
             [
              0,
              "#0d0887"
             ],
             [
              0.1111111111111111,
              "#46039f"
             ],
             [
              0.2222222222222222,
              "#7201a8"
             ],
             [
              0.3333333333333333,
              "#9c179e"
             ],
             [
              0.4444444444444444,
              "#bd3786"
             ],
             [
              0.5555555555555556,
              "#d8576b"
             ],
             [
              0.6666666666666666,
              "#ed7953"
             ],
             [
              0.7777777777777778,
              "#fb9f3a"
             ],
             [
              0.8888888888888888,
              "#fdca26"
             ],
             [
              1,
              "#f0f921"
             ]
            ],
            "type": "heatmap"
           }
          ],
          "heatmapgl": [
           {
            "colorbar": {
             "outlinewidth": 0,
             "ticks": ""
            },
            "colorscale": [
             [
              0,
              "#0d0887"
             ],
             [
              0.1111111111111111,
              "#46039f"
             ],
             [
              0.2222222222222222,
              "#7201a8"
             ],
             [
              0.3333333333333333,
              "#9c179e"
             ],
             [
              0.4444444444444444,
              "#bd3786"
             ],
             [
              0.5555555555555556,
              "#d8576b"
             ],
             [
              0.6666666666666666,
              "#ed7953"
             ],
             [
              0.7777777777777778,
              "#fb9f3a"
             ],
             [
              0.8888888888888888,
              "#fdca26"
             ],
             [
              1,
              "#f0f921"
             ]
            ],
            "type": "heatmapgl"
           }
          ],
          "histogram": [
           {
            "marker": {
             "pattern": {
              "fillmode": "overlay",
              "size": 10,
              "solidity": 0.2
             }
            },
            "type": "histogram"
           }
          ],
          "histogram2d": [
           {
            "colorbar": {
             "outlinewidth": 0,
             "ticks": ""
            },
            "colorscale": [
             [
              0,
              "#0d0887"
             ],
             [
              0.1111111111111111,
              "#46039f"
             ],
             [
              0.2222222222222222,
              "#7201a8"
             ],
             [
              0.3333333333333333,
              "#9c179e"
             ],
             [
              0.4444444444444444,
              "#bd3786"
             ],
             [
              0.5555555555555556,
              "#d8576b"
             ],
             [
              0.6666666666666666,
              "#ed7953"
             ],
             [
              0.7777777777777778,
              "#fb9f3a"
             ],
             [
              0.8888888888888888,
              "#fdca26"
             ],
             [
              1,
              "#f0f921"
             ]
            ],
            "type": "histogram2d"
           }
          ],
          "histogram2dcontour": [
           {
            "colorbar": {
             "outlinewidth": 0,
             "ticks": ""
            },
            "colorscale": [
             [
              0,
              "#0d0887"
             ],
             [
              0.1111111111111111,
              "#46039f"
             ],
             [
              0.2222222222222222,
              "#7201a8"
             ],
             [
              0.3333333333333333,
              "#9c179e"
             ],
             [
              0.4444444444444444,
              "#bd3786"
             ],
             [
              0.5555555555555556,
              "#d8576b"
             ],
             [
              0.6666666666666666,
              "#ed7953"
             ],
             [
              0.7777777777777778,
              "#fb9f3a"
             ],
             [
              0.8888888888888888,
              "#fdca26"
             ],
             [
              1,
              "#f0f921"
             ]
            ],
            "type": "histogram2dcontour"
           }
          ],
          "mesh3d": [
           {
            "colorbar": {
             "outlinewidth": 0,
             "ticks": ""
            },
            "type": "mesh3d"
           }
          ],
          "parcoords": [
           {
            "line": {
             "colorbar": {
              "outlinewidth": 0,
              "ticks": ""
             }
            },
            "type": "parcoords"
           }
          ],
          "pie": [
           {
            "automargin": true,
            "type": "pie"
           }
          ],
          "scatter": [
           {
            "fillpattern": {
             "fillmode": "overlay",
             "size": 10,
             "solidity": 0.2
            },
            "type": "scatter"
           }
          ],
          "scatter3d": [
           {
            "line": {
             "colorbar": {
              "outlinewidth": 0,
              "ticks": ""
             }
            },
            "marker": {
             "colorbar": {
              "outlinewidth": 0,
              "ticks": ""
             }
            },
            "type": "scatter3d"
           }
          ],
          "scattercarpet": [
           {
            "marker": {
             "colorbar": {
              "outlinewidth": 0,
              "ticks": ""
             }
            },
            "type": "scattercarpet"
           }
          ],
          "scattergeo": [
           {
            "marker": {
             "colorbar": {
              "outlinewidth": 0,
              "ticks": ""
             }
            },
            "type": "scattergeo"
           }
          ],
          "scattergl": [
           {
            "marker": {
             "colorbar": {
              "outlinewidth": 0,
              "ticks": ""
             }
            },
            "type": "scattergl"
           }
          ],
          "scattermapbox": [
           {
            "marker": {
             "colorbar": {
              "outlinewidth": 0,
              "ticks": ""
             }
            },
            "type": "scattermapbox"
           }
          ],
          "scatterpolar": [
           {
            "marker": {
             "colorbar": {
              "outlinewidth": 0,
              "ticks": ""
             }
            },
            "type": "scatterpolar"
           }
          ],
          "scatterpolargl": [
           {
            "marker": {
             "colorbar": {
              "outlinewidth": 0,
              "ticks": ""
             }
            },
            "type": "scatterpolargl"
           }
          ],
          "scatterternary": [
           {
            "marker": {
             "colorbar": {
              "outlinewidth": 0,
              "ticks": ""
             }
            },
            "type": "scatterternary"
           }
          ],
          "surface": [
           {
            "colorbar": {
             "outlinewidth": 0,
             "ticks": ""
            },
            "colorscale": [
             [
              0,
              "#0d0887"
             ],
             [
              0.1111111111111111,
              "#46039f"
             ],
             [
              0.2222222222222222,
              "#7201a8"
             ],
             [
              0.3333333333333333,
              "#9c179e"
             ],
             [
              0.4444444444444444,
              "#bd3786"
             ],
             [
              0.5555555555555556,
              "#d8576b"
             ],
             [
              0.6666666666666666,
              "#ed7953"
             ],
             [
              0.7777777777777778,
              "#fb9f3a"
             ],
             [
              0.8888888888888888,
              "#fdca26"
             ],
             [
              1,
              "#f0f921"
             ]
            ],
            "type": "surface"
           }
          ],
          "table": [
           {
            "cells": {
             "fill": {
              "color": "#EBF0F8"
             },
             "line": {
              "color": "white"
             }
            },
            "header": {
             "fill": {
              "color": "#C8D4E3"
             },
             "line": {
              "color": "white"
             }
            },
            "type": "table"
           }
          ]
         },
         "layout": {
          "annotationdefaults": {
           "arrowcolor": "#2a3f5f",
           "arrowhead": 0,
           "arrowwidth": 1
          },
          "autotypenumbers": "strict",
          "coloraxis": {
           "colorbar": {
            "outlinewidth": 0,
            "ticks": ""
           }
          },
          "colorscale": {
           "diverging": [
            [
             0,
             "#8e0152"
            ],
            [
             0.1,
             "#c51b7d"
            ],
            [
             0.2,
             "#de77ae"
            ],
            [
             0.3,
             "#f1b6da"
            ],
            [
             0.4,
             "#fde0ef"
            ],
            [
             0.5,
             "#f7f7f7"
            ],
            [
             0.6,
             "#e6f5d0"
            ],
            [
             0.7,
             "#b8e186"
            ],
            [
             0.8,
             "#7fbc41"
            ],
            [
             0.9,
             "#4d9221"
            ],
            [
             1,
             "#276419"
            ]
           ],
           "sequential": [
            [
             0,
             "#0d0887"
            ],
            [
             0.1111111111111111,
             "#46039f"
            ],
            [
             0.2222222222222222,
             "#7201a8"
            ],
            [
             0.3333333333333333,
             "#9c179e"
            ],
            [
             0.4444444444444444,
             "#bd3786"
            ],
            [
             0.5555555555555556,
             "#d8576b"
            ],
            [
             0.6666666666666666,
             "#ed7953"
            ],
            [
             0.7777777777777778,
             "#fb9f3a"
            ],
            [
             0.8888888888888888,
             "#fdca26"
            ],
            [
             1,
             "#f0f921"
            ]
           ],
           "sequentialminus": [
            [
             0,
             "#0d0887"
            ],
            [
             0.1111111111111111,
             "#46039f"
            ],
            [
             0.2222222222222222,
             "#7201a8"
            ],
            [
             0.3333333333333333,
             "#9c179e"
            ],
            [
             0.4444444444444444,
             "#bd3786"
            ],
            [
             0.5555555555555556,
             "#d8576b"
            ],
            [
             0.6666666666666666,
             "#ed7953"
            ],
            [
             0.7777777777777778,
             "#fb9f3a"
            ],
            [
             0.8888888888888888,
             "#fdca26"
            ],
            [
             1,
             "#f0f921"
            ]
           ]
          },
          "colorway": [
           "#636efa",
           "#EF553B",
           "#00cc96",
           "#ab63fa",
           "#FFA15A",
           "#19d3f3",
           "#FF6692",
           "#B6E880",
           "#FF97FF",
           "#FECB52"
          ],
          "font": {
           "color": "#2a3f5f"
          },
          "geo": {
           "bgcolor": "white",
           "lakecolor": "white",
           "landcolor": "#E5ECF6",
           "showlakes": true,
           "showland": true,
           "subunitcolor": "white"
          },
          "hoverlabel": {
           "align": "left"
          },
          "hovermode": "closest",
          "mapbox": {
           "style": "light"
          },
          "paper_bgcolor": "white",
          "plot_bgcolor": "#E5ECF6",
          "polar": {
           "angularaxis": {
            "gridcolor": "white",
            "linecolor": "white",
            "ticks": ""
           },
           "bgcolor": "#E5ECF6",
           "radialaxis": {
            "gridcolor": "white",
            "linecolor": "white",
            "ticks": ""
           }
          },
          "scene": {
           "xaxis": {
            "backgroundcolor": "#E5ECF6",
            "gridcolor": "white",
            "gridwidth": 2,
            "linecolor": "white",
            "showbackground": true,
            "ticks": "",
            "zerolinecolor": "white"
           },
           "yaxis": {
            "backgroundcolor": "#E5ECF6",
            "gridcolor": "white",
            "gridwidth": 2,
            "linecolor": "white",
            "showbackground": true,
            "ticks": "",
            "zerolinecolor": "white"
           },
           "zaxis": {
            "backgroundcolor": "#E5ECF6",
            "gridcolor": "white",
            "gridwidth": 2,
            "linecolor": "white",
            "showbackground": true,
            "ticks": "",
            "zerolinecolor": "white"
           }
          },
          "shapedefaults": {
           "line": {
            "color": "#2a3f5f"
           }
          },
          "ternary": {
           "aaxis": {
            "gridcolor": "white",
            "linecolor": "white",
            "ticks": ""
           },
           "baxis": {
            "gridcolor": "white",
            "linecolor": "white",
            "ticks": ""
           },
           "bgcolor": "#E5ECF6",
           "caxis": {
            "gridcolor": "white",
            "linecolor": "white",
            "ticks": ""
           }
          },
          "title": {
           "x": 0.05
          },
          "xaxis": {
           "automargin": true,
           "gridcolor": "white",
           "linecolor": "white",
           "ticks": "",
           "title": {
            "standoff": 15
           },
           "zerolinecolor": "white",
           "zerolinewidth": 2
          },
          "yaxis": {
           "automargin": true,
           "gridcolor": "white",
           "linecolor": "white",
           "ticks": "",
           "title": {
            "standoff": 15
           },
           "zerolinecolor": "white",
           "zerolinewidth": 2
          }
         }
        },
        "title": {
         "text": "Number of reviews mentioning price compared to total count of ratings",
         "x": 0.5
        },
        "updatemenus": [
         {
          "buttons": [
           {
            "args": [
             {
              "visible": [
               true,
               false
              ]
             },
             {
              "title": "Number of reviews mentioning price related words"
             }
            ],
            "label": "Price-mentioning",
            "method": "update"
           },
           {
            "args": [
             {
              "visible": [
               false,
               true
              ]
             },
             {
              "title": "Total number of reviews"
             }
            ],
            "label": "Total",
            "method": "update"
           },
           {
            "args": [
             {
              "visible": [
               true,
               true
              ]
             },
             {
              "title": "Number of reviews mentioning price compared to total count of ratings"
             }
            ],
            "label": "Both",
            "method": "update"
           }
          ],
          "direction": "down",
          "type": "buttons",
          "x": -0.08,
          "y": 1.12
         }
        ],
        "xaxis": {
         "ticks": "outside",
         "title": {
          "text": "Date"
         }
        },
        "yaxis": {
         "dtick": 2,
         "title": {
          "text": "Count"
         },
         "type": "log"
        }
       }
      }
     },
     "metadata": {},
     "output_type": "display_data"
    }
   ],
   "source": [
    "#Plot how many price mentioning results we have:\n",
    "fig_1 = px.bar(monthly_counts_price_reviews, x='month_year', y='beer_name', log_y=True)\n",
    "fig_1.update_traces(marker_color='green')\n",
    "\n",
    "#Plot the total number of reviews\n",
    "fig_2 = px.bar(monthly_counts_US_reviews, x='month_year', y='beer_name', log_y=True)\n",
    "fig_2.update_traces(marker_color='red')\n",
    "\n",
    "#Put them into the same figure\n",
    "fig2 = go.Figure(data = fig_1.data + fig_2.data)\n",
    "#For better visualization a logarithmic axis is used.\n",
    "fig2.update_yaxes(\n",
    "    type=\"log\",\n",
    "    dtick=2)\n",
    "fig2.update_xaxes(ticks=\"outside\",)\n",
    "fig2.update_layout(\n",
    "    xaxis_title=\"Date\", yaxis_title=\"Count\",\n",
    "    title= \"Number of reviews mentioning price compared to total count of ratings\",\n",
    "    #position title in the center\n",
    "    title_x=0.5,\n",
    ")\n",
    "\n",
    "\n",
    "'''\n",
    "fig2.update_layout(\n",
    "    updatemenus=[\n",
    "        dict(\n",
    "            type=\"buttons\",\n",
    "            #If buttons are arranged on top or beside\n",
    "            direction=\"down\",\n",
    "            #set positions\n",
    "            x=-0.08,\n",
    "            y= 1.12,\n",
    "            buttons=list([\n",
    "                dict(\n",
    "                    label=\"Reviews mentioning <br> price\",\n",
    "                    method=\"restyle\",\n",
    "                    visible=True,\n",
    "                    args=[{\"visible\": False},{\"title\": \"Reviews mentioning price\",}, [0]], \n",
    "                    args2=[{\"visible\": True}, {\"title\": \"Reviews mentioning price\",}, [0]],      \n",
    "                    ),\n",
    "                dict(\n",
    "                    label=\"Total reviews\",\n",
    "                    method=\"restyle\",\n",
    "                    visible=True,\n",
    "                    args=[{\"visible\": False}, [1]],\n",
    "                    args2=[{\"visible\": True}, {\"title\": \"Total number of reviews\",}, [1]],       \n",
    "                    ),\n",
    "\n",
    "                dict(\n",
    "                    label=\"Both\",\n",
    "                    method=\"restyle\",\n",
    "                    visible=True,\n",
    "                    args=[{\"visible\": False}, [0,1]], \n",
    "                    args2=[{\"visible\": True}, {\"title\": \"Number of reviews mentioning price compared to total count of ratings\",}, [0,1]],\n",
    "                    ),\n",
    "            ]),\n",
    "        )\n",
    "    ])\n",
    "'''\"plots for html\"\n",
    "fig2.update_layout(\n",
    "    updatemenus=[\n",
    "        dict(\n",
    "            type=\"buttons\",\n",
    "            #If buttons are arranged on top or beside\n",
    "            direction=\"down\",\n",
    "            #set positions\n",
    "            x=-0.08,\n",
    "            y= 1.12,\n",
    "            buttons=list([\n",
    "                dict(\n",
    "                    label=\"Price-mentioning\",\n",
    "                    method=\"update\",\n",
    "                    args=[{\"visible\": [True, False]},\n",
    "                            {\"title\": \"Number of reviews mentioning price related words\"}]),\n",
    "                dict(label=\"Total\",\n",
    "                    method=\"update\",\n",
    "                    args=[{\"visible\": [False, True]},\n",
    "                            {\"title\": \"Total number of reviews\",\n",
    "                            }]),\n",
    "                dict(label=\"Both\",\n",
    "                    method=\"update\",\n",
    "                    args=[{\"visible\": [True, True]},\n",
    "                            {\"title\": \"Number of reviews mentioning price compared to total count of ratings\",\n",
    "                            }]),\n",
    "            ]),\n",
    "        )\n",
    "    ])\n",
    "\n",
    "fig2.update_layout(\n",
    "    paper_bgcolor='rgba(0,0,0,0)',\n",
    ")\n",
    "fig2.show()"
   ]
  },
  {
   "cell_type": "code",
   "execution_count": 380,
   "metadata": {},
   "outputs": [],
   "source": [
    "fig2.write_html(\"./plots for html/figure1.html\")"
   ]
  },
  {
   "attachments": {},
   "cell_type": "markdown",
   "metadata": {},
   "source": [
    "# Figure 2:"
   ]
  },
  {
   "cell_type": "code",
   "execution_count": 381,
   "metadata": {},
   "outputs": [
    {
     "data": {
      "application/vnd.plotly.v1+json": {
       "config": {
        "plotlyServerURL": "https://plot.ly"
       },
       "data": [
        {
         "alignmentgroup": "True",
         "hovertemplate": "month_year=%{x}<br>ratio=%{y}<extra></extra>",
         "legendgroup": "",
         "marker": {
          "color": "blue",
          "pattern": {
           "shape": ""
          }
         },
         "name": "",
         "offsetgroup": "",
         "orientation": "v",
         "showlegend": false,
         "textposition": "auto",
         "type": "bar",
         "x": [
          "2000-04",
          "2000-05",
          "2000-06",
          "2000-07",
          "2000-08",
          "2000-09",
          "2000-10",
          "2000-11",
          "2000-12",
          "2001-01",
          "2001-02",
          "2001-03",
          "2001-04",
          "2001-05",
          "2001-06",
          "2001-07",
          "2001-08",
          "2001-09",
          "2001-10",
          "2001-11",
          "2001-12",
          "2002-01",
          "2002-02",
          "2002-03",
          "2002-04",
          "2002-05",
          "2002-06",
          "2002-07",
          "2002-08",
          "2002-09",
          "2002-10",
          "2002-11",
          "2002-12",
          "2003-01",
          "2003-02",
          "2003-03",
          "2003-04",
          "2003-05",
          "2003-06",
          "2003-07",
          "2003-08",
          "2003-09",
          "2003-10",
          "2003-11",
          "2003-12",
          "2004-01",
          "2004-02",
          "2004-03",
          "2004-04",
          "2004-05",
          "2004-06",
          "2004-07",
          "2004-08",
          "2004-09",
          "2004-10",
          "2004-11",
          "2004-12",
          "2005-01",
          "2005-02",
          "2005-03",
          "2005-04",
          "2005-05",
          "2005-06",
          "2005-07",
          "2005-08",
          "2005-09",
          "2005-10",
          "2005-11",
          "2005-12",
          "2006-01",
          "2006-02",
          "2006-03",
          "2006-04",
          "2006-05",
          "2006-06",
          "2006-07",
          "2006-08",
          "2006-09",
          "2006-10",
          "2006-11",
          "2006-12",
          "2007-01",
          "2007-02",
          "2007-03",
          "2007-04",
          "2007-05",
          "2007-06",
          "2007-07",
          "2007-08",
          "2007-09",
          "2007-10",
          "2007-11",
          "2007-12",
          "2008-01",
          "2008-02",
          "2008-03",
          "2008-04",
          "2008-05",
          "2008-06",
          "2008-07",
          "2008-08",
          "2008-09",
          "2008-10",
          "2008-11",
          "2008-12",
          "2009-01",
          "2009-02",
          "2009-03",
          "2009-04",
          "2009-05",
          "2009-06",
          "2009-07",
          "2009-08",
          "2009-09",
          "2009-10",
          "2009-11",
          "2009-12",
          "2010-01",
          "2010-02",
          "2010-03",
          "2010-04",
          "2010-05",
          "2010-06",
          "2010-07",
          "2010-08",
          "2010-09",
          "2010-10",
          "2010-11",
          "2010-12",
          "2011-01",
          "2011-02",
          "2011-03",
          "2011-04",
          "2011-05",
          "2011-06",
          "2011-07",
          "2011-08",
          "2011-09",
          "2011-10",
          "2011-11",
          "2011-12",
          "2012-01",
          "2012-02",
          "2012-03",
          "2012-04",
          "2012-05",
          "2012-06",
          "2012-07",
          "2012-08",
          "2012-09",
          "2012-10",
          "2012-11",
          "2012-12",
          "2013-01",
          "2013-02",
          "2013-03",
          "2013-04",
          "2013-05",
          "2013-06",
          "2013-07",
          "2013-08",
          "2013-09",
          "2013-10",
          "2013-11",
          "2013-12",
          "2014-01",
          "2014-02",
          "2014-03",
          "2014-04",
          "2014-05",
          "2014-06",
          "2014-07",
          "2014-08",
          "2014-09",
          "2014-10",
          "2014-11",
          "2014-12",
          "2015-01",
          "2015-02",
          "2015-03",
          "2015-04",
          "2015-05",
          "2015-06",
          "2015-07",
          "2015-08",
          "2015-09",
          "2015-10",
          "2015-11",
          "2015-12",
          "2016-01",
          "2016-02",
          "2016-03",
          "2016-04",
          "2016-05",
          "2016-06",
          "2016-07",
          "2016-08",
          "2016-09",
          "2016-10",
          "2016-11",
          "2016-12",
          "2017-01",
          "2017-02",
          "2017-03",
          "2017-04",
          "2017-05",
          "2017-06",
          "2017-07"
         ],
         "xaxis": "x",
         "y": [
          5.66,
          4.27,
          3.37,
          2.02,
          2.03,
          2.42,
          2.86,
          5.06,
          4.09,
          5.16,
          6.15,
          5.62,
          5.12,
          5.02,
          5.9,
          4.3,
          4.88,
          3.89,
          6.12,
          6.94,
          5.22,
          5.09,
          5.71,
          5.92,
          4.51,
          3.71,
          4.77,
          3.89,
          3.47,
          3.98,
          3.51,
          3.75,
          3.96,
          3.74,
          4.59,
          3.32,
          3.85,
          4.16,
          3.76,
          4.1,
          4.06,
          3.54,
          3.68,
          3.93,
          3.91,
          4.34,
          4.81,
          4.23,
          4.58,
          4.09,
          3.74,
          3.78,
          4.23,
          4.11,
          4.43,
          4.16,
          4.21,
          4.87,
          4.88,
          4.25,
          4.35,
          4.3,
          3.9,
          3.96,
          4.08,
          4.97,
          4.55,
          5.1,
          4.89,
          4.63,
          5.14,
          4.55,
          5.07,
          4.43,
          4.64,
          4.48,
          4.7,
          4.69,
          3.78,
          4.5,
          3.94,
          4.21,
          4.55,
          4.24,
          4.31,
          3.99,
          4.32,
          4.03,
          4.12,
          3.8,
          4.21,
          4.11,
          4.55,
          4.4,
          4.22,
          4.03,
          4.11,
          4.26,
          3.93,
          3.86,
          4.07,
          3.87,
          4.28,
          4.64,
          4.31,
          4.51,
          4.79,
          4.51,
          4.54,
          4.6,
          4.18,
          4.36,
          4.36,
          4.08,
          4.25,
          4.4,
          4.77,
          4.76,
          4.56,
          4.63,
          4.69,
          4.64,
          4.65,
          4.93,
          4.49,
          4.81,
          5.3,
          4.88,
          4.98,
          5.52,
          5.28,
          5.08,
          5.2,
          5.47,
          5.15,
          5.17,
          4.77,
          5,
          4.71,
          4.81,
          5.34,
          5.52,
          4.99,
          4.81,
          4.42,
          4.48,
          4.11,
          4.14,
          4.02,
          4.21,
          4.22,
          4.8,
          4.84,
          4.64,
          4.73,
          4.63,
          4.55,
          4.17,
          3.88,
          3.89,
          3.85,
          3.81,
          3.87,
          3.9,
          4.18,
          4.51,
          4.41,
          4.39,
          3.96,
          3.79,
          3.79,
          3.7,
          3.3,
          3.62,
          3.66,
          3.63,
          3.63,
          3.69,
          3.4,
          3.49,
          3.56,
          3.24,
          3.17,
          3.25,
          3.11,
          3.02,
          3.51,
          3.22,
          3.52,
          3.39,
          3.49,
          3.17,
          3.43,
          3.02,
          3.6,
          2.88,
          3.19,
          2.77,
          2.85,
          2.66,
          3.15,
          3.28,
          3.29,
          2.94,
          2.99,
          2.45,
          2.62,
          2.53
         ],
         "yaxis": "y"
        },
        {
         "line": {
          "color": "#f6111c"
         },
         "name": "Graph connecting <br> the bars",
         "type": "scatter",
         "x": [
          "2000-04",
          "2000-05",
          "2000-06",
          "2000-07",
          "2000-08",
          "2000-09",
          "2000-10",
          "2000-11",
          "2000-12",
          "2001-01",
          "2001-02",
          "2001-03",
          "2001-04",
          "2001-05",
          "2001-06",
          "2001-07",
          "2001-08",
          "2001-09",
          "2001-10",
          "2001-11",
          "2001-12",
          "2002-01",
          "2002-02",
          "2002-03",
          "2002-04",
          "2002-05",
          "2002-06",
          "2002-07",
          "2002-08",
          "2002-09",
          "2002-10",
          "2002-11",
          "2002-12",
          "2003-01",
          "2003-02",
          "2003-03",
          "2003-04",
          "2003-05",
          "2003-06",
          "2003-07",
          "2003-08",
          "2003-09",
          "2003-10",
          "2003-11",
          "2003-12",
          "2004-01",
          "2004-02",
          "2004-03",
          "2004-04",
          "2004-05",
          "2004-06",
          "2004-07",
          "2004-08",
          "2004-09",
          "2004-10",
          "2004-11",
          "2004-12",
          "2005-01",
          "2005-02",
          "2005-03",
          "2005-04",
          "2005-05",
          "2005-06",
          "2005-07",
          "2005-08",
          "2005-09",
          "2005-10",
          "2005-11",
          "2005-12",
          "2006-01",
          "2006-02",
          "2006-03",
          "2006-04",
          "2006-05",
          "2006-06",
          "2006-07",
          "2006-08",
          "2006-09",
          "2006-10",
          "2006-11",
          "2006-12",
          "2007-01",
          "2007-02",
          "2007-03",
          "2007-04",
          "2007-05",
          "2007-06",
          "2007-07",
          "2007-08",
          "2007-09",
          "2007-10",
          "2007-11",
          "2007-12",
          "2008-01",
          "2008-02",
          "2008-03",
          "2008-04",
          "2008-05",
          "2008-06",
          "2008-07",
          "2008-08",
          "2008-09",
          "2008-10",
          "2008-11",
          "2008-12",
          "2009-01",
          "2009-02",
          "2009-03",
          "2009-04",
          "2009-05",
          "2009-06",
          "2009-07",
          "2009-08",
          "2009-09",
          "2009-10",
          "2009-11",
          "2009-12",
          "2010-01",
          "2010-02",
          "2010-03",
          "2010-04",
          "2010-05",
          "2010-06",
          "2010-07",
          "2010-08",
          "2010-09",
          "2010-10",
          "2010-11",
          "2010-12",
          "2011-01",
          "2011-02",
          "2011-03",
          "2011-04",
          "2011-05",
          "2011-06",
          "2011-07",
          "2011-08",
          "2011-09",
          "2011-10",
          "2011-11",
          "2011-12",
          "2012-01",
          "2012-02",
          "2012-03",
          "2012-04",
          "2012-05",
          "2012-06",
          "2012-07",
          "2012-08",
          "2012-09",
          "2012-10",
          "2012-11",
          "2012-12",
          "2013-01",
          "2013-02",
          "2013-03",
          "2013-04",
          "2013-05",
          "2013-06",
          "2013-07",
          "2013-08",
          "2013-09",
          "2013-10",
          "2013-11",
          "2013-12",
          "2014-01",
          "2014-02",
          "2014-03",
          "2014-04",
          "2014-05",
          "2014-06",
          "2014-07",
          "2014-08",
          "2014-09",
          "2014-10",
          "2014-11",
          "2014-12",
          "2015-01",
          "2015-02",
          "2015-03",
          "2015-04",
          "2015-05",
          "2015-06",
          "2015-07",
          "2015-08",
          "2015-09",
          "2015-10",
          "2015-11",
          "2015-12",
          "2016-01",
          "2016-02",
          "2016-03",
          "2016-04",
          "2016-05",
          "2016-06",
          "2016-07",
          "2016-08",
          "2016-09",
          "2016-10",
          "2016-11",
          "2016-12",
          "2017-01",
          "2017-02",
          "2017-03",
          "2017-04",
          "2017-05",
          "2017-06",
          "2017-07"
         ],
         "y": [
          5.66,
          4.27,
          3.37,
          2.02,
          2.03,
          2.42,
          2.86,
          5.06,
          4.09,
          5.16,
          6.15,
          5.62,
          5.12,
          5.02,
          5.9,
          4.3,
          4.88,
          3.89,
          6.12,
          6.94,
          5.22,
          5.09,
          5.71,
          5.92,
          4.51,
          3.71,
          4.77,
          3.89,
          3.47,
          3.98,
          3.51,
          3.75,
          3.96,
          3.74,
          4.59,
          3.32,
          3.85,
          4.16,
          3.76,
          4.1,
          4.06,
          3.54,
          3.68,
          3.93,
          3.91,
          4.34,
          4.81,
          4.23,
          4.58,
          4.09,
          3.74,
          3.78,
          4.23,
          4.11,
          4.43,
          4.16,
          4.21,
          4.87,
          4.88,
          4.25,
          4.35,
          4.3,
          3.9,
          3.96,
          4.08,
          4.97,
          4.55,
          5.1,
          4.89,
          4.63,
          5.14,
          4.55,
          5.07,
          4.43,
          4.64,
          4.48,
          4.7,
          4.69,
          3.78,
          4.5,
          3.94,
          4.21,
          4.55,
          4.24,
          4.31,
          3.99,
          4.32,
          4.03,
          4.12,
          3.8,
          4.21,
          4.11,
          4.55,
          4.4,
          4.22,
          4.03,
          4.11,
          4.26,
          3.93,
          3.86,
          4.07,
          3.87,
          4.28,
          4.64,
          4.31,
          4.51,
          4.79,
          4.51,
          4.54,
          4.6,
          4.18,
          4.36,
          4.36,
          4.08,
          4.25,
          4.4,
          4.77,
          4.76,
          4.56,
          4.63,
          4.69,
          4.64,
          4.65,
          4.93,
          4.49,
          4.81,
          5.3,
          4.88,
          4.98,
          5.52,
          5.28,
          5.08,
          5.2,
          5.47,
          5.15,
          5.17,
          4.77,
          5,
          4.71,
          4.81,
          5.34,
          5.52,
          4.99,
          4.81,
          4.42,
          4.48,
          4.11,
          4.14,
          4.02,
          4.21,
          4.22,
          4.8,
          4.84,
          4.64,
          4.73,
          4.63,
          4.55,
          4.17,
          3.88,
          3.89,
          3.85,
          3.81,
          3.87,
          3.9,
          4.18,
          4.51,
          4.41,
          4.39,
          3.96,
          3.79,
          3.79,
          3.7,
          3.3,
          3.62,
          3.66,
          3.63,
          3.63,
          3.69,
          3.4,
          3.49,
          3.56,
          3.24,
          3.17,
          3.25,
          3.11,
          3.02,
          3.51,
          3.22,
          3.52,
          3.39,
          3.49,
          3.17,
          3.43,
          3.02,
          3.6,
          2.88,
          3.19,
          2.77,
          2.85,
          2.66,
          3.15,
          3.28,
          3.29,
          2.94,
          2.99,
          2.45,
          2.62,
          2.53
         ]
        }
       ],
       "layout": {
        "barmode": "relative",
        "legend": {
         "tracegroupgap": 0
        },
        "margin": {
         "l": 30,
         "r": 190,
         "t": 60
        },
        "paper_bgcolor": "rgba(0,0,0,0)",
        "template": {
         "data": {
          "bar": [
           {
            "error_x": {
             "color": "#2a3f5f"
            },
            "error_y": {
             "color": "#2a3f5f"
            },
            "marker": {
             "line": {
              "color": "#E5ECF6",
              "width": 0.5
             },
             "pattern": {
              "fillmode": "overlay",
              "size": 10,
              "solidity": 0.2
             }
            },
            "type": "bar"
           }
          ],
          "barpolar": [
           {
            "marker": {
             "line": {
              "color": "#E5ECF6",
              "width": 0.5
             },
             "pattern": {
              "fillmode": "overlay",
              "size": 10,
              "solidity": 0.2
             }
            },
            "type": "barpolar"
           }
          ],
          "carpet": [
           {
            "aaxis": {
             "endlinecolor": "#2a3f5f",
             "gridcolor": "white",
             "linecolor": "white",
             "minorgridcolor": "white",
             "startlinecolor": "#2a3f5f"
            },
            "baxis": {
             "endlinecolor": "#2a3f5f",
             "gridcolor": "white",
             "linecolor": "white",
             "minorgridcolor": "white",
             "startlinecolor": "#2a3f5f"
            },
            "type": "carpet"
           }
          ],
          "choropleth": [
           {
            "colorbar": {
             "outlinewidth": 0,
             "ticks": ""
            },
            "type": "choropleth"
           }
          ],
          "contour": [
           {
            "colorbar": {
             "outlinewidth": 0,
             "ticks": ""
            },
            "colorscale": [
             [
              0,
              "#0d0887"
             ],
             [
              0.1111111111111111,
              "#46039f"
             ],
             [
              0.2222222222222222,
              "#7201a8"
             ],
             [
              0.3333333333333333,
              "#9c179e"
             ],
             [
              0.4444444444444444,
              "#bd3786"
             ],
             [
              0.5555555555555556,
              "#d8576b"
             ],
             [
              0.6666666666666666,
              "#ed7953"
             ],
             [
              0.7777777777777778,
              "#fb9f3a"
             ],
             [
              0.8888888888888888,
              "#fdca26"
             ],
             [
              1,
              "#f0f921"
             ]
            ],
            "type": "contour"
           }
          ],
          "contourcarpet": [
           {
            "colorbar": {
             "outlinewidth": 0,
             "ticks": ""
            },
            "type": "contourcarpet"
           }
          ],
          "heatmap": [
           {
            "colorbar": {
             "outlinewidth": 0,
             "ticks": ""
            },
            "colorscale": [
             [
              0,
              "#0d0887"
             ],
             [
              0.1111111111111111,
              "#46039f"
             ],
             [
              0.2222222222222222,
              "#7201a8"
             ],
             [
              0.3333333333333333,
              "#9c179e"
             ],
             [
              0.4444444444444444,
              "#bd3786"
             ],
             [
              0.5555555555555556,
              "#d8576b"
             ],
             [
              0.6666666666666666,
              "#ed7953"
             ],
             [
              0.7777777777777778,
              "#fb9f3a"
             ],
             [
              0.8888888888888888,
              "#fdca26"
             ],
             [
              1,
              "#f0f921"
             ]
            ],
            "type": "heatmap"
           }
          ],
          "heatmapgl": [
           {
            "colorbar": {
             "outlinewidth": 0,
             "ticks": ""
            },
            "colorscale": [
             [
              0,
              "#0d0887"
             ],
             [
              0.1111111111111111,
              "#46039f"
             ],
             [
              0.2222222222222222,
              "#7201a8"
             ],
             [
              0.3333333333333333,
              "#9c179e"
             ],
             [
              0.4444444444444444,
              "#bd3786"
             ],
             [
              0.5555555555555556,
              "#d8576b"
             ],
             [
              0.6666666666666666,
              "#ed7953"
             ],
             [
              0.7777777777777778,
              "#fb9f3a"
             ],
             [
              0.8888888888888888,
              "#fdca26"
             ],
             [
              1,
              "#f0f921"
             ]
            ],
            "type": "heatmapgl"
           }
          ],
          "histogram": [
           {
            "marker": {
             "pattern": {
              "fillmode": "overlay",
              "size": 10,
              "solidity": 0.2
             }
            },
            "type": "histogram"
           }
          ],
          "histogram2d": [
           {
            "colorbar": {
             "outlinewidth": 0,
             "ticks": ""
            },
            "colorscale": [
             [
              0,
              "#0d0887"
             ],
             [
              0.1111111111111111,
              "#46039f"
             ],
             [
              0.2222222222222222,
              "#7201a8"
             ],
             [
              0.3333333333333333,
              "#9c179e"
             ],
             [
              0.4444444444444444,
              "#bd3786"
             ],
             [
              0.5555555555555556,
              "#d8576b"
             ],
             [
              0.6666666666666666,
              "#ed7953"
             ],
             [
              0.7777777777777778,
              "#fb9f3a"
             ],
             [
              0.8888888888888888,
              "#fdca26"
             ],
             [
              1,
              "#f0f921"
             ]
            ],
            "type": "histogram2d"
           }
          ],
          "histogram2dcontour": [
           {
            "colorbar": {
             "outlinewidth": 0,
             "ticks": ""
            },
            "colorscale": [
             [
              0,
              "#0d0887"
             ],
             [
              0.1111111111111111,
              "#46039f"
             ],
             [
              0.2222222222222222,
              "#7201a8"
             ],
             [
              0.3333333333333333,
              "#9c179e"
             ],
             [
              0.4444444444444444,
              "#bd3786"
             ],
             [
              0.5555555555555556,
              "#d8576b"
             ],
             [
              0.6666666666666666,
              "#ed7953"
             ],
             [
              0.7777777777777778,
              "#fb9f3a"
             ],
             [
              0.8888888888888888,
              "#fdca26"
             ],
             [
              1,
              "#f0f921"
             ]
            ],
            "type": "histogram2dcontour"
           }
          ],
          "mesh3d": [
           {
            "colorbar": {
             "outlinewidth": 0,
             "ticks": ""
            },
            "type": "mesh3d"
           }
          ],
          "parcoords": [
           {
            "line": {
             "colorbar": {
              "outlinewidth": 0,
              "ticks": ""
             }
            },
            "type": "parcoords"
           }
          ],
          "pie": [
           {
            "automargin": true,
            "type": "pie"
           }
          ],
          "scatter": [
           {
            "fillpattern": {
             "fillmode": "overlay",
             "size": 10,
             "solidity": 0.2
            },
            "type": "scatter"
           }
          ],
          "scatter3d": [
           {
            "line": {
             "colorbar": {
              "outlinewidth": 0,
              "ticks": ""
             }
            },
            "marker": {
             "colorbar": {
              "outlinewidth": 0,
              "ticks": ""
             }
            },
            "type": "scatter3d"
           }
          ],
          "scattercarpet": [
           {
            "marker": {
             "colorbar": {
              "outlinewidth": 0,
              "ticks": ""
             }
            },
            "type": "scattercarpet"
           }
          ],
          "scattergeo": [
           {
            "marker": {
             "colorbar": {
              "outlinewidth": 0,
              "ticks": ""
             }
            },
            "type": "scattergeo"
           }
          ],
          "scattergl": [
           {
            "marker": {
             "colorbar": {
              "outlinewidth": 0,
              "ticks": ""
             }
            },
            "type": "scattergl"
           }
          ],
          "scattermapbox": [
           {
            "marker": {
             "colorbar": {
              "outlinewidth": 0,
              "ticks": ""
             }
            },
            "type": "scattermapbox"
           }
          ],
          "scatterpolar": [
           {
            "marker": {
             "colorbar": {
              "outlinewidth": 0,
              "ticks": ""
             }
            },
            "type": "scatterpolar"
           }
          ],
          "scatterpolargl": [
           {
            "marker": {
             "colorbar": {
              "outlinewidth": 0,
              "ticks": ""
             }
            },
            "type": "scatterpolargl"
           }
          ],
          "scatterternary": [
           {
            "marker": {
             "colorbar": {
              "outlinewidth": 0,
              "ticks": ""
             }
            },
            "type": "scatterternary"
           }
          ],
          "surface": [
           {
            "colorbar": {
             "outlinewidth": 0,
             "ticks": ""
            },
            "colorscale": [
             [
              0,
              "#0d0887"
             ],
             [
              0.1111111111111111,
              "#46039f"
             ],
             [
              0.2222222222222222,
              "#7201a8"
             ],
             [
              0.3333333333333333,
              "#9c179e"
             ],
             [
              0.4444444444444444,
              "#bd3786"
             ],
             [
              0.5555555555555556,
              "#d8576b"
             ],
             [
              0.6666666666666666,
              "#ed7953"
             ],
             [
              0.7777777777777778,
              "#fb9f3a"
             ],
             [
              0.8888888888888888,
              "#fdca26"
             ],
             [
              1,
              "#f0f921"
             ]
            ],
            "type": "surface"
           }
          ],
          "table": [
           {
            "cells": {
             "fill": {
              "color": "#EBF0F8"
             },
             "line": {
              "color": "white"
             }
            },
            "header": {
             "fill": {
              "color": "#C8D4E3"
             },
             "line": {
              "color": "white"
             }
            },
            "type": "table"
           }
          ]
         },
         "layout": {
          "annotationdefaults": {
           "arrowcolor": "#2a3f5f",
           "arrowhead": 0,
           "arrowwidth": 1
          },
          "autotypenumbers": "strict",
          "coloraxis": {
           "colorbar": {
            "outlinewidth": 0,
            "ticks": ""
           }
          },
          "colorscale": {
           "diverging": [
            [
             0,
             "#8e0152"
            ],
            [
             0.1,
             "#c51b7d"
            ],
            [
             0.2,
             "#de77ae"
            ],
            [
             0.3,
             "#f1b6da"
            ],
            [
             0.4,
             "#fde0ef"
            ],
            [
             0.5,
             "#f7f7f7"
            ],
            [
             0.6,
             "#e6f5d0"
            ],
            [
             0.7,
             "#b8e186"
            ],
            [
             0.8,
             "#7fbc41"
            ],
            [
             0.9,
             "#4d9221"
            ],
            [
             1,
             "#276419"
            ]
           ],
           "sequential": [
            [
             0,
             "#0d0887"
            ],
            [
             0.1111111111111111,
             "#46039f"
            ],
            [
             0.2222222222222222,
             "#7201a8"
            ],
            [
             0.3333333333333333,
             "#9c179e"
            ],
            [
             0.4444444444444444,
             "#bd3786"
            ],
            [
             0.5555555555555556,
             "#d8576b"
            ],
            [
             0.6666666666666666,
             "#ed7953"
            ],
            [
             0.7777777777777778,
             "#fb9f3a"
            ],
            [
             0.8888888888888888,
             "#fdca26"
            ],
            [
             1,
             "#f0f921"
            ]
           ],
           "sequentialminus": [
            [
             0,
             "#0d0887"
            ],
            [
             0.1111111111111111,
             "#46039f"
            ],
            [
             0.2222222222222222,
             "#7201a8"
            ],
            [
             0.3333333333333333,
             "#9c179e"
            ],
            [
             0.4444444444444444,
             "#bd3786"
            ],
            [
             0.5555555555555556,
             "#d8576b"
            ],
            [
             0.6666666666666666,
             "#ed7953"
            ],
            [
             0.7777777777777778,
             "#fb9f3a"
            ],
            [
             0.8888888888888888,
             "#fdca26"
            ],
            [
             1,
             "#f0f921"
            ]
           ]
          },
          "colorway": [
           "#636efa",
           "#EF553B",
           "#00cc96",
           "#ab63fa",
           "#FFA15A",
           "#19d3f3",
           "#FF6692",
           "#B6E880",
           "#FF97FF",
           "#FECB52"
          ],
          "font": {
           "color": "#2a3f5f"
          },
          "geo": {
           "bgcolor": "white",
           "lakecolor": "white",
           "landcolor": "#E5ECF6",
           "showlakes": true,
           "showland": true,
           "subunitcolor": "white"
          },
          "hoverlabel": {
           "align": "left"
          },
          "hovermode": "closest",
          "mapbox": {
           "style": "light"
          },
          "paper_bgcolor": "white",
          "plot_bgcolor": "#E5ECF6",
          "polar": {
           "angularaxis": {
            "gridcolor": "white",
            "linecolor": "white",
            "ticks": ""
           },
           "bgcolor": "#E5ECF6",
           "radialaxis": {
            "gridcolor": "white",
            "linecolor": "white",
            "ticks": ""
           }
          },
          "scene": {
           "xaxis": {
            "backgroundcolor": "#E5ECF6",
            "gridcolor": "white",
            "gridwidth": 2,
            "linecolor": "white",
            "showbackground": true,
            "ticks": "",
            "zerolinecolor": "white"
           },
           "yaxis": {
            "backgroundcolor": "#E5ECF6",
            "gridcolor": "white",
            "gridwidth": 2,
            "linecolor": "white",
            "showbackground": true,
            "ticks": "",
            "zerolinecolor": "white"
           },
           "zaxis": {
            "backgroundcolor": "#E5ECF6",
            "gridcolor": "white",
            "gridwidth": 2,
            "linecolor": "white",
            "showbackground": true,
            "ticks": "",
            "zerolinecolor": "white"
           }
          },
          "shapedefaults": {
           "line": {
            "color": "#2a3f5f"
           }
          },
          "ternary": {
           "aaxis": {
            "gridcolor": "white",
            "linecolor": "white",
            "ticks": ""
           },
           "baxis": {
            "gridcolor": "white",
            "linecolor": "white",
            "ticks": ""
           },
           "bgcolor": "#E5ECF6",
           "caxis": {
            "gridcolor": "white",
            "linecolor": "white",
            "ticks": ""
           }
          },
          "title": {
           "x": 0.05
          },
          "xaxis": {
           "automargin": true,
           "gridcolor": "white",
           "linecolor": "white",
           "ticks": "",
           "title": {
            "standoff": 15
           },
           "zerolinecolor": "white",
           "zerolinewidth": 2
          },
          "yaxis": {
           "automargin": true,
           "gridcolor": "white",
           "linecolor": "white",
           "ticks": "",
           "title": {
            "standoff": 15
           },
           "zerolinecolor": "white",
           "zerolinewidth": 2
          }
         }
        },
        "title": {
         "text": "Ratio of reviews that mention at least one price related word:",
         "x": 0.5
        },
        "updatemenus": [
         {
          "buttons": [
           {
            "args": [
             {
              "visible": [
               true,
               true
              ]
             }
            ],
            "label": "Graph",
            "method": "update"
           },
           {
            "args": [
             {
              "visible": [
               true,
               false
              ]
             }
            ],
            "label": "Hide <br> Graph",
            "method": "update"
           }
          ],
          "direction": "down",
          "type": "buttons",
          "x": -0.08,
          "y": 1.03
         }
        ],
        "xaxis": {
         "anchor": "y",
         "domain": [
          0,
          1
         ],
         "ticks": "outside",
         "title": {
          "text": "Date"
         }
        },
        "yaxis": {
         "anchor": "x",
         "domain": [
          0,
          1
         ],
         "title": {
          "text": "Percent of reviews mentionning price"
         }
        }
       }
      }
     },
     "metadata": {},
     "output_type": "display_data"
    }
   ],
   "source": [
    "fig = px.bar(df_ratio, x='month_year', y='ratio')\n",
    "fig.update_traces(marker_color='blue')\n",
    "\n",
    "fig.update_layout(\n",
    "    #set title for x and y axis\n",
    "    title = \"Ratio of reviews that mention at least one price related word:\",\n",
    "    xaxis_title=\"Date\", \n",
    "    yaxis_title=\"Percent of reviews mentionning price\",\n",
    "    #set margins\n",
    "    margin=dict(l=30, r=190),\n",
    "    #position title in the center\n",
    "    title_x=0.5\n",
    ")\n",
    "\n",
    "fig.update_xaxes(\n",
    "    #show x ticks\n",
    "    ticks=\"outside\",\n",
    ")\n",
    "\n",
    "#add the graph connecting the bars\n",
    "fig.add_trace(go.Scatter(\n",
    "    x=df_ratio['month_year'],\n",
    "    y=df_ratio['ratio'],\n",
    "    name=\"Graph connecting <br> the bars\",\n",
    "    line=dict(color=\"#f6111c\"),\n",
    "))\n",
    "\n",
    "#Add the buttons to chose whether you want to see the graph\n",
    "fig.update_layout(\n",
    "    updatemenus=[\n",
    "        dict(\n",
    "            type=\"buttons\",\n",
    "            #If buttons are arranged on top or beside\n",
    "            direction=\"down\",\n",
    "            #set positions\n",
    "            x=-0.08,\n",
    "            y= 1.03,\n",
    "            buttons=list([\n",
    "                dict(\n",
    "                    label=\"Graph\",\n",
    "                    method=\"update\",\n",
    "                    args=[{\"visible\": [True, True]}]),\n",
    "                dict(label=\"Hide <br> Graph\",\n",
    "                    method=\"update\",\n",
    "                    args=[{\"visible\": [True, False]}]),\n",
    "            ]),\n",
    "        )\n",
    "    ])\n",
    "\n",
    "fig.update_layout(\n",
    "    paper_bgcolor='rgba(0,0,0,0)',\n",
    ")\n",
    "\n",
    "fig.show()"
   ]
  },
  {
   "cell_type": "code",
   "execution_count": 382,
   "metadata": {},
   "outputs": [],
   "source": [
    "fig.write_html(\"./plots for html/figure2.html\")"
   ]
  },
  {
   "cell_type": "code",
   "execution_count": 187,
   "metadata": {},
   "outputs": [
    {
     "data": {
      "text/plain": [
       "\"#Change xticks \\ndatelist = df_ratio['month_year'][0::12]\\nfig.update_xaxes(tickangle=30,\\n                 tickmode = 'array',\\n                 tickvals = df_ratio['month_year'][0::24],\\n                 ticktext= datelist)\\n\\n#change size and margins\\nfig.update_layout(\\n    autosize=False,\\n    width=900,\\n    height=500,\\n    margin=dict(l=60, r=20, t=40, b=20))\\n\\nfig.show()\""
      ]
     },
     "execution_count": 187,
     "metadata": {},
     "output_type": "execute_result"
    }
   ],
   "source": [
    "'''#Change xticks \n",
    "datelist = df_ratio['month_year'][0::12]\n",
    "fig.update_xaxes(tickangle=30,\n",
    "                 tickmode = 'array',\n",
    "                 tickvals = df_ratio['month_year'][0::24],\n",
    "                 ticktext= datelist)\n",
    "\n",
    "#change size and margins\n",
    "fig.update_layout(\n",
    "    autosize=False,\n",
    "    width=900,\n",
    "    height=500,\n",
    "    margin=dict(l=60, r=20, t=40, b=20))\n",
    "\n",
    "fig.show()'''"
   ]
  },
  {
   "attachments": {},
   "cell_type": "markdown",
   "metadata": {},
   "source": [
    "## Add interpolation"
   ]
  },
  {
   "cell_type": "code",
   "execution_count": 383,
   "metadata": {},
   "outputs": [],
   "source": [
    "fig_1a = go.Figure(fig)"
   ]
  },
  {
   "cell_type": "code",
   "execution_count": 230,
   "metadata": {},
   "outputs": [],
   "source": [
    "poly = np.polyfit(df_ratio.index,df_ratio['ratio'],14)\n",
    "poly_y = np.poly1d(poly)(df_ratio.index)\n",
    "poly_y_series = pd.Series(poly_y)\n",
    "df_ratio['interpolate'] = poly_y_series"
   ]
  },
  {
   "cell_type": "code",
   "execution_count": 384,
   "metadata": {},
   "outputs": [
    {
     "data": {
      "application/vnd.plotly.v1+json": {
       "config": {
        "plotlyServerURL": "https://plot.ly"
       },
       "data": [
        {
         "alignmentgroup": "True",
         "hovertemplate": "month_year=%{x}<br>ratio=%{y}<extra></extra>",
         "legendgroup": "",
         "marker": {
          "color": "blue",
          "pattern": {
           "shape": ""
          }
         },
         "name": "",
         "offsetgroup": "",
         "orientation": "v",
         "showlegend": false,
         "textposition": "auto",
         "type": "bar",
         "x": [
          "2000-04",
          "2000-05",
          "2000-06",
          "2000-07",
          "2000-08",
          "2000-09",
          "2000-10",
          "2000-11",
          "2000-12",
          "2001-01",
          "2001-02",
          "2001-03",
          "2001-04",
          "2001-05",
          "2001-06",
          "2001-07",
          "2001-08",
          "2001-09",
          "2001-10",
          "2001-11",
          "2001-12",
          "2002-01",
          "2002-02",
          "2002-03",
          "2002-04",
          "2002-05",
          "2002-06",
          "2002-07",
          "2002-08",
          "2002-09",
          "2002-10",
          "2002-11",
          "2002-12",
          "2003-01",
          "2003-02",
          "2003-03",
          "2003-04",
          "2003-05",
          "2003-06",
          "2003-07",
          "2003-08",
          "2003-09",
          "2003-10",
          "2003-11",
          "2003-12",
          "2004-01",
          "2004-02",
          "2004-03",
          "2004-04",
          "2004-05",
          "2004-06",
          "2004-07",
          "2004-08",
          "2004-09",
          "2004-10",
          "2004-11",
          "2004-12",
          "2005-01",
          "2005-02",
          "2005-03",
          "2005-04",
          "2005-05",
          "2005-06",
          "2005-07",
          "2005-08",
          "2005-09",
          "2005-10",
          "2005-11",
          "2005-12",
          "2006-01",
          "2006-02",
          "2006-03",
          "2006-04",
          "2006-05",
          "2006-06",
          "2006-07",
          "2006-08",
          "2006-09",
          "2006-10",
          "2006-11",
          "2006-12",
          "2007-01",
          "2007-02",
          "2007-03",
          "2007-04",
          "2007-05",
          "2007-06",
          "2007-07",
          "2007-08",
          "2007-09",
          "2007-10",
          "2007-11",
          "2007-12",
          "2008-01",
          "2008-02",
          "2008-03",
          "2008-04",
          "2008-05",
          "2008-06",
          "2008-07",
          "2008-08",
          "2008-09",
          "2008-10",
          "2008-11",
          "2008-12",
          "2009-01",
          "2009-02",
          "2009-03",
          "2009-04",
          "2009-05",
          "2009-06",
          "2009-07",
          "2009-08",
          "2009-09",
          "2009-10",
          "2009-11",
          "2009-12",
          "2010-01",
          "2010-02",
          "2010-03",
          "2010-04",
          "2010-05",
          "2010-06",
          "2010-07",
          "2010-08",
          "2010-09",
          "2010-10",
          "2010-11",
          "2010-12",
          "2011-01",
          "2011-02",
          "2011-03",
          "2011-04",
          "2011-05",
          "2011-06",
          "2011-07",
          "2011-08",
          "2011-09",
          "2011-10",
          "2011-11",
          "2011-12",
          "2012-01",
          "2012-02",
          "2012-03",
          "2012-04",
          "2012-05",
          "2012-06",
          "2012-07",
          "2012-08",
          "2012-09",
          "2012-10",
          "2012-11",
          "2012-12",
          "2013-01",
          "2013-02",
          "2013-03",
          "2013-04",
          "2013-05",
          "2013-06",
          "2013-07",
          "2013-08",
          "2013-09",
          "2013-10",
          "2013-11",
          "2013-12",
          "2014-01",
          "2014-02",
          "2014-03",
          "2014-04",
          "2014-05",
          "2014-06",
          "2014-07",
          "2014-08",
          "2014-09",
          "2014-10",
          "2014-11",
          "2014-12",
          "2015-01",
          "2015-02",
          "2015-03",
          "2015-04",
          "2015-05",
          "2015-06",
          "2015-07",
          "2015-08",
          "2015-09",
          "2015-10",
          "2015-11",
          "2015-12",
          "2016-01",
          "2016-02",
          "2016-03",
          "2016-04",
          "2016-05",
          "2016-06",
          "2016-07",
          "2016-08",
          "2016-09",
          "2016-10",
          "2016-11",
          "2016-12",
          "2017-01",
          "2017-02",
          "2017-03",
          "2017-04",
          "2017-05",
          "2017-06",
          "2017-07"
         ],
         "xaxis": "x",
         "y": [
          5.66,
          4.27,
          3.37,
          2.02,
          2.03,
          2.42,
          2.86,
          5.06,
          4.09,
          5.16,
          6.15,
          5.62,
          5.12,
          5.02,
          5.9,
          4.3,
          4.88,
          3.89,
          6.12,
          6.94,
          5.22,
          5.09,
          5.71,
          5.92,
          4.51,
          3.71,
          4.77,
          3.89,
          3.47,
          3.98,
          3.51,
          3.75,
          3.96,
          3.74,
          4.59,
          3.32,
          3.85,
          4.16,
          3.76,
          4.1,
          4.06,
          3.54,
          3.68,
          3.93,
          3.91,
          4.34,
          4.81,
          4.23,
          4.58,
          4.09,
          3.74,
          3.78,
          4.23,
          4.11,
          4.43,
          4.16,
          4.21,
          4.87,
          4.88,
          4.25,
          4.35,
          4.3,
          3.9,
          3.96,
          4.08,
          4.97,
          4.55,
          5.1,
          4.89,
          4.63,
          5.14,
          4.55,
          5.07,
          4.43,
          4.64,
          4.48,
          4.7,
          4.69,
          3.78,
          4.5,
          3.94,
          4.21,
          4.55,
          4.24,
          4.31,
          3.99,
          4.32,
          4.03,
          4.12,
          3.8,
          4.21,
          4.11,
          4.55,
          4.4,
          4.22,
          4.03,
          4.11,
          4.26,
          3.93,
          3.86,
          4.07,
          3.87,
          4.28,
          4.64,
          4.31,
          4.51,
          4.79,
          4.51,
          4.54,
          4.6,
          4.18,
          4.36,
          4.36,
          4.08,
          4.25,
          4.4,
          4.77,
          4.76,
          4.56,
          4.63,
          4.69,
          4.64,
          4.65,
          4.93,
          4.49,
          4.81,
          5.3,
          4.88,
          4.98,
          5.52,
          5.28,
          5.08,
          5.2,
          5.47,
          5.15,
          5.17,
          4.77,
          5,
          4.71,
          4.81,
          5.34,
          5.52,
          4.99,
          4.81,
          4.42,
          4.48,
          4.11,
          4.14,
          4.02,
          4.21,
          4.22,
          4.8,
          4.84,
          4.64,
          4.73,
          4.63,
          4.55,
          4.17,
          3.88,
          3.89,
          3.85,
          3.81,
          3.87,
          3.9,
          4.18,
          4.51,
          4.41,
          4.39,
          3.96,
          3.79,
          3.79,
          3.7,
          3.3,
          3.62,
          3.66,
          3.63,
          3.63,
          3.69,
          3.4,
          3.49,
          3.56,
          3.24,
          3.17,
          3.25,
          3.11,
          3.02,
          3.51,
          3.22,
          3.52,
          3.39,
          3.49,
          3.17,
          3.43,
          3.02,
          3.6,
          2.88,
          3.19,
          2.77,
          2.85,
          2.66,
          3.15,
          3.28,
          3.29,
          2.94,
          2.99,
          2.45,
          2.62,
          2.53
         ],
         "yaxis": "y"
        },
        {
         "line": {
          "color": "#f6111c"
         },
         "name": "Graph connecting <br> the bars",
         "type": "scatter",
         "x": [
          "2000-04",
          "2000-05",
          "2000-06",
          "2000-07",
          "2000-08",
          "2000-09",
          "2000-10",
          "2000-11",
          "2000-12",
          "2001-01",
          "2001-02",
          "2001-03",
          "2001-04",
          "2001-05",
          "2001-06",
          "2001-07",
          "2001-08",
          "2001-09",
          "2001-10",
          "2001-11",
          "2001-12",
          "2002-01",
          "2002-02",
          "2002-03",
          "2002-04",
          "2002-05",
          "2002-06",
          "2002-07",
          "2002-08",
          "2002-09",
          "2002-10",
          "2002-11",
          "2002-12",
          "2003-01",
          "2003-02",
          "2003-03",
          "2003-04",
          "2003-05",
          "2003-06",
          "2003-07",
          "2003-08",
          "2003-09",
          "2003-10",
          "2003-11",
          "2003-12",
          "2004-01",
          "2004-02",
          "2004-03",
          "2004-04",
          "2004-05",
          "2004-06",
          "2004-07",
          "2004-08",
          "2004-09",
          "2004-10",
          "2004-11",
          "2004-12",
          "2005-01",
          "2005-02",
          "2005-03",
          "2005-04",
          "2005-05",
          "2005-06",
          "2005-07",
          "2005-08",
          "2005-09",
          "2005-10",
          "2005-11",
          "2005-12",
          "2006-01",
          "2006-02",
          "2006-03",
          "2006-04",
          "2006-05",
          "2006-06",
          "2006-07",
          "2006-08",
          "2006-09",
          "2006-10",
          "2006-11",
          "2006-12",
          "2007-01",
          "2007-02",
          "2007-03",
          "2007-04",
          "2007-05",
          "2007-06",
          "2007-07",
          "2007-08",
          "2007-09",
          "2007-10",
          "2007-11",
          "2007-12",
          "2008-01",
          "2008-02",
          "2008-03",
          "2008-04",
          "2008-05",
          "2008-06",
          "2008-07",
          "2008-08",
          "2008-09",
          "2008-10",
          "2008-11",
          "2008-12",
          "2009-01",
          "2009-02",
          "2009-03",
          "2009-04",
          "2009-05",
          "2009-06",
          "2009-07",
          "2009-08",
          "2009-09",
          "2009-10",
          "2009-11",
          "2009-12",
          "2010-01",
          "2010-02",
          "2010-03",
          "2010-04",
          "2010-05",
          "2010-06",
          "2010-07",
          "2010-08",
          "2010-09",
          "2010-10",
          "2010-11",
          "2010-12",
          "2011-01",
          "2011-02",
          "2011-03",
          "2011-04",
          "2011-05",
          "2011-06",
          "2011-07",
          "2011-08",
          "2011-09",
          "2011-10",
          "2011-11",
          "2011-12",
          "2012-01",
          "2012-02",
          "2012-03",
          "2012-04",
          "2012-05",
          "2012-06",
          "2012-07",
          "2012-08",
          "2012-09",
          "2012-10",
          "2012-11",
          "2012-12",
          "2013-01",
          "2013-02",
          "2013-03",
          "2013-04",
          "2013-05",
          "2013-06",
          "2013-07",
          "2013-08",
          "2013-09",
          "2013-10",
          "2013-11",
          "2013-12",
          "2014-01",
          "2014-02",
          "2014-03",
          "2014-04",
          "2014-05",
          "2014-06",
          "2014-07",
          "2014-08",
          "2014-09",
          "2014-10",
          "2014-11",
          "2014-12",
          "2015-01",
          "2015-02",
          "2015-03",
          "2015-04",
          "2015-05",
          "2015-06",
          "2015-07",
          "2015-08",
          "2015-09",
          "2015-10",
          "2015-11",
          "2015-12",
          "2016-01",
          "2016-02",
          "2016-03",
          "2016-04",
          "2016-05",
          "2016-06",
          "2016-07",
          "2016-08",
          "2016-09",
          "2016-10",
          "2016-11",
          "2016-12",
          "2017-01",
          "2017-02",
          "2017-03",
          "2017-04",
          "2017-05",
          "2017-06",
          "2017-07"
         ],
         "y": [
          5.66,
          4.27,
          3.37,
          2.02,
          2.03,
          2.42,
          2.86,
          5.06,
          4.09,
          5.16,
          6.15,
          5.62,
          5.12,
          5.02,
          5.9,
          4.3,
          4.88,
          3.89,
          6.12,
          6.94,
          5.22,
          5.09,
          5.71,
          5.92,
          4.51,
          3.71,
          4.77,
          3.89,
          3.47,
          3.98,
          3.51,
          3.75,
          3.96,
          3.74,
          4.59,
          3.32,
          3.85,
          4.16,
          3.76,
          4.1,
          4.06,
          3.54,
          3.68,
          3.93,
          3.91,
          4.34,
          4.81,
          4.23,
          4.58,
          4.09,
          3.74,
          3.78,
          4.23,
          4.11,
          4.43,
          4.16,
          4.21,
          4.87,
          4.88,
          4.25,
          4.35,
          4.3,
          3.9,
          3.96,
          4.08,
          4.97,
          4.55,
          5.1,
          4.89,
          4.63,
          5.14,
          4.55,
          5.07,
          4.43,
          4.64,
          4.48,
          4.7,
          4.69,
          3.78,
          4.5,
          3.94,
          4.21,
          4.55,
          4.24,
          4.31,
          3.99,
          4.32,
          4.03,
          4.12,
          3.8,
          4.21,
          4.11,
          4.55,
          4.4,
          4.22,
          4.03,
          4.11,
          4.26,
          3.93,
          3.86,
          4.07,
          3.87,
          4.28,
          4.64,
          4.31,
          4.51,
          4.79,
          4.51,
          4.54,
          4.6,
          4.18,
          4.36,
          4.36,
          4.08,
          4.25,
          4.4,
          4.77,
          4.76,
          4.56,
          4.63,
          4.69,
          4.64,
          4.65,
          4.93,
          4.49,
          4.81,
          5.3,
          4.88,
          4.98,
          5.52,
          5.28,
          5.08,
          5.2,
          5.47,
          5.15,
          5.17,
          4.77,
          5,
          4.71,
          4.81,
          5.34,
          5.52,
          4.99,
          4.81,
          4.42,
          4.48,
          4.11,
          4.14,
          4.02,
          4.21,
          4.22,
          4.8,
          4.84,
          4.64,
          4.73,
          4.63,
          4.55,
          4.17,
          3.88,
          3.89,
          3.85,
          3.81,
          3.87,
          3.9,
          4.18,
          4.51,
          4.41,
          4.39,
          3.96,
          3.79,
          3.79,
          3.7,
          3.3,
          3.62,
          3.66,
          3.63,
          3.63,
          3.69,
          3.4,
          3.49,
          3.56,
          3.24,
          3.17,
          3.25,
          3.11,
          3.02,
          3.51,
          3.22,
          3.52,
          3.39,
          3.49,
          3.17,
          3.43,
          3.02,
          3.6,
          2.88,
          3.19,
          2.77,
          2.85,
          2.66,
          3.15,
          3.28,
          3.29,
          2.94,
          2.99,
          2.45,
          2.62,
          2.53
         ]
        },
        {
         "line": {
          "color": "#05e80d"
         },
         "name": "Interpolation <br> degree 14",
         "type": "scatter",
         "x": [
          "2000-04",
          "2000-05",
          "2000-06",
          "2000-07",
          "2000-08",
          "2000-09",
          "2000-10",
          "2000-11",
          "2000-12",
          "2001-01",
          "2001-02",
          "2001-03",
          "2001-04",
          "2001-05",
          "2001-06",
          "2001-07",
          "2001-08",
          "2001-09",
          "2001-10",
          "2001-11",
          "2001-12",
          "2002-01",
          "2002-02",
          "2002-03",
          "2002-04",
          "2002-05",
          "2002-06",
          "2002-07",
          "2002-08",
          "2002-09",
          "2002-10",
          "2002-11",
          "2002-12",
          "2003-01",
          "2003-02",
          "2003-03",
          "2003-04",
          "2003-05",
          "2003-06",
          "2003-07",
          "2003-08",
          "2003-09",
          "2003-10",
          "2003-11",
          "2003-12",
          "2004-01",
          "2004-02",
          "2004-03",
          "2004-04",
          "2004-05",
          "2004-06",
          "2004-07",
          "2004-08",
          "2004-09",
          "2004-10",
          "2004-11",
          "2004-12",
          "2005-01",
          "2005-02",
          "2005-03",
          "2005-04",
          "2005-05",
          "2005-06",
          "2005-07",
          "2005-08",
          "2005-09",
          "2005-10",
          "2005-11",
          "2005-12",
          "2006-01",
          "2006-02",
          "2006-03",
          "2006-04",
          "2006-05",
          "2006-06",
          "2006-07",
          "2006-08",
          "2006-09",
          "2006-10",
          "2006-11",
          "2006-12",
          "2007-01",
          "2007-02",
          "2007-03",
          "2007-04",
          "2007-05",
          "2007-06",
          "2007-07",
          "2007-08",
          "2007-09",
          "2007-10",
          "2007-11",
          "2007-12",
          "2008-01",
          "2008-02",
          "2008-03",
          "2008-04",
          "2008-05",
          "2008-06",
          "2008-07",
          "2008-08",
          "2008-09",
          "2008-10",
          "2008-11",
          "2008-12",
          "2009-01",
          "2009-02",
          "2009-03",
          "2009-04",
          "2009-05",
          "2009-06",
          "2009-07",
          "2009-08",
          "2009-09",
          "2009-10",
          "2009-11",
          "2009-12",
          "2010-01",
          "2010-02",
          "2010-03",
          "2010-04",
          "2010-05",
          "2010-06",
          "2010-07",
          "2010-08",
          "2010-09",
          "2010-10",
          "2010-11",
          "2010-12",
          "2011-01",
          "2011-02",
          "2011-03",
          "2011-04",
          "2011-05",
          "2011-06",
          "2011-07",
          "2011-08",
          "2011-09",
          "2011-10",
          "2011-11",
          "2011-12",
          "2012-01",
          "2012-02",
          "2012-03",
          "2012-04",
          "2012-05",
          "2012-06",
          "2012-07",
          "2012-08",
          "2012-09",
          "2012-10",
          "2012-11",
          "2012-12",
          "2013-01",
          "2013-02",
          "2013-03",
          "2013-04",
          "2013-05",
          "2013-06",
          "2013-07",
          "2013-08",
          "2013-09",
          "2013-10",
          "2013-11",
          "2013-12",
          "2014-01",
          "2014-02",
          "2014-03",
          "2014-04",
          "2014-05",
          "2014-06",
          "2014-07",
          "2014-08",
          "2014-09",
          "2014-10",
          "2014-11",
          "2014-12",
          "2015-01",
          "2015-02",
          "2015-03",
          "2015-04",
          "2015-05",
          "2015-06",
          "2015-07",
          "2015-08",
          "2015-09",
          "2015-10",
          "2015-11",
          "2015-12",
          "2016-01",
          "2016-02",
          "2016-03",
          "2016-04",
          "2016-05",
          "2016-06",
          "2016-07",
          "2016-08",
          "2016-09",
          "2016-10",
          "2016-11",
          "2016-12",
          "2017-01",
          "2017-02",
          "2017-03",
          "2017-04",
          "2017-05",
          "2017-06",
          "2017-07"
         ],
         "y": [
          5.500170334100408,
          3.9816300046703765,
          3.1331176410410473,
          2.7706465384812327,
          2.7474927040709156,
          2.9482363282273165,
          3.283578168322588,
          3.685848008581644,
          4.105129630283037,
          4.505933477846025,
          4.864354469069359,
          5.165658199708138,
          5.402244160609586,
          5.571939545450832,
          5.676581803243904,
          5.720852305583209,
          5.711327376408538,
          5.655716493092685,
          5.562260732171019,
          5.439267520265956,
          5.294760479027703,
          5.1362256396125066,
          4.970437563861226,
          4.803350961590498,
          4.64004525111869,
          4.484711187370228,
          4.340670191946954,
          4.21041837499188,
          4.09568845137447,
          3.9975238348960036,
          3.9163601544054965,
          3.8521102848618156,
          3.8042497338126156,
          3.7718998782704505,
          3.753907116739783,
          3.7489164939434976,
          3.755438778740092,
          3.7719103356320627,
          3.796745433304915,
          3.8283808857560686,
          3.8653131280785695,
          3.9061279950049212,
          3.949523600415538,
          3.9943268146079065,
          4.039503907036734,
          4.0841659692213454,
          4.127569758832308,
          4.169114614688543,
          4.20833608635363,
          4.244896903589676,
          4.278575882595049,
          4.309255329600776,
          4.336907459924833,
          4.361580303676415,
          4.383383519439266,
          4.402474485500155,
          4.4190449859196415,
          4.433308757013322,
          4.445490108876516,
          4.455813787833371,
          4.464496199530748,
          4.471738068661967,
          4.477718571544919,
          4.48259094113995,
          4.4864795115207174,
          4.48947813987181,
          4.491649919665229,
          4.493028077522544,
          4.493617929548957,
          4.493399759899087,
          4.492332475052617,
          4.490357880846853,
          4.487405427520817,
          4.483397267729503,
          4.478253476135542,
          4.471897284591265,
          4.464260195437959,
          4.4552868451845224,
          4.444939501410298,
          4.433202091394439,
          4.420083672170397,
          4.405621268567847,
          4.389882020135497,
          4.372964595068504,
          4.354999843410689,
          4.336150679042036,
          4.316611193295084,
          4.296605019611824,
          4.276382981530422,
          4.256220069296442,
          4.236411800411706,
          4.217270034054857,
          4.199118313987963,
          4.182286823533409,
          4.167107046695809,
          4.153906223853079,
          4.143001707801919,
          4.1346953125510595,
          4.1292677587252715,
          4.126973312927685,
          4.128034714394946,
          4.13263847704769,
          4.14093066108574,
          4.15301317569504,
          4.168940697327746,
          4.188718253231972,
          4.212299525516835,
          4.239585909179753,
          4.270426361269241,
          4.304618041508538,
          4.341907762999176,
          4.381994236398734,
          4.42453108356347,
          4.4691305964878865,
          4.5153681832522565,
          4.562787460175384,
          4.610905911650683,
          4.659221043472765,
          4.707216939703427,
          4.754371157992057,
          4.800161813756774,
          4.844074787492042,
          4.885610942858115,
          4.92429322903461,
          4.959673562163017,
          4.991339383586224,
          5.018919772756437,
          5.042091031335115,
          5.060581605804264,
          5.074176307353301,
          5.082719682555306,
          5.086118538747256,
          5.084343491207618,
          5.0774295426423866,
          5.065475623179678,
          5.048643103888242,
          5.0271532579895295,
          5.001283698380037,
          4.9713638308925905,
          4.937769355152825,
          4.900915905432164,
          4.861251891063678,
          4.819250656808631,
          4.775402079070509,
          4.730203737570581,
          4.6841517579334,
          4.637731610880295,
          4.591408851659773,
          4.54562016201129,
          4.500764699974999,
          4.457196165740463,
          4.415215481861173,
          4.375064531857778,
          4.33692093167039,
          4.300894211970463,
          4.267023218911928,
          4.235275290416347,
          4.205546930407589,
          4.1776662469570605,
          4.1513972535800105,
          4.126445843646114,
          4.10246761967523,
          4.079077479424386,
          4.055860527324272,
          4.032384737089299,
          4.008214660192479,
          3.9829260513758484,
          3.956121417628934,
          3.927445355865669,
          3.8966004406311616,
          3.8633619197368034,
          3.8275917490655207,
          3.7892509131390444,
          3.748409486039083,
          3.705254187223604,
          3.6600924115934856,
          3.6133526597024614,
          3.565580067227362,
          3.517427688618268,
          3.469641886359116,
          3.4230422363894313,
          3.378495666101991,
          3.336884566570803,
          3.2990691820355726,
          3.265845018581321,
          3.237895105495644,
          3.2157393270488264,
          3.1996813986122925,
          3.1897563697888396,
          3.1856800644138135,
          3.1868048152783617,
          3.192085329390098,
          3.2000580925250164,
          3.2088419766580687,
          3.2161663076407345,
          3.219433160555429,
          3.215825871898277,
          3.2024713938246103,
          3.1766722957433577,
          3.1362210976515934,
          3.0798132594521137,
          3.0075780917661747,
          2.9217502686635326,
          2.827501588784141,
          2.73396559160759,
          2.6554811031722787,
          2.613089148093703,
          2.6363222459238345
         ]
        }
       ],
       "layout": {
        "barmode": "relative",
        "legend": {
         "tracegroupgap": 0
        },
        "margin": {
         "l": 30,
         "r": 190,
         "t": 60
        },
        "paper_bgcolor": "rgba(0,0,0,0)",
        "template": {
         "data": {
          "bar": [
           {
            "error_x": {
             "color": "#2a3f5f"
            },
            "error_y": {
             "color": "#2a3f5f"
            },
            "marker": {
             "line": {
              "color": "#E5ECF6",
              "width": 0.5
             },
             "pattern": {
              "fillmode": "overlay",
              "size": 10,
              "solidity": 0.2
             }
            },
            "type": "bar"
           }
          ],
          "barpolar": [
           {
            "marker": {
             "line": {
              "color": "#E5ECF6",
              "width": 0.5
             },
             "pattern": {
              "fillmode": "overlay",
              "size": 10,
              "solidity": 0.2
             }
            },
            "type": "barpolar"
           }
          ],
          "carpet": [
           {
            "aaxis": {
             "endlinecolor": "#2a3f5f",
             "gridcolor": "white",
             "linecolor": "white",
             "minorgridcolor": "white",
             "startlinecolor": "#2a3f5f"
            },
            "baxis": {
             "endlinecolor": "#2a3f5f",
             "gridcolor": "white",
             "linecolor": "white",
             "minorgridcolor": "white",
             "startlinecolor": "#2a3f5f"
            },
            "type": "carpet"
           }
          ],
          "choropleth": [
           {
            "colorbar": {
             "outlinewidth": 0,
             "ticks": ""
            },
            "type": "choropleth"
           }
          ],
          "contour": [
           {
            "colorbar": {
             "outlinewidth": 0,
             "ticks": ""
            },
            "colorscale": [
             [
              0,
              "#0d0887"
             ],
             [
              0.1111111111111111,
              "#46039f"
             ],
             [
              0.2222222222222222,
              "#7201a8"
             ],
             [
              0.3333333333333333,
              "#9c179e"
             ],
             [
              0.4444444444444444,
              "#bd3786"
             ],
             [
              0.5555555555555556,
              "#d8576b"
             ],
             [
              0.6666666666666666,
              "#ed7953"
             ],
             [
              0.7777777777777778,
              "#fb9f3a"
             ],
             [
              0.8888888888888888,
              "#fdca26"
             ],
             [
              1,
              "#f0f921"
             ]
            ],
            "type": "contour"
           }
          ],
          "contourcarpet": [
           {
            "colorbar": {
             "outlinewidth": 0,
             "ticks": ""
            },
            "type": "contourcarpet"
           }
          ],
          "heatmap": [
           {
            "colorbar": {
             "outlinewidth": 0,
             "ticks": ""
            },
            "colorscale": [
             [
              0,
              "#0d0887"
             ],
             [
              0.1111111111111111,
              "#46039f"
             ],
             [
              0.2222222222222222,
              "#7201a8"
             ],
             [
              0.3333333333333333,
              "#9c179e"
             ],
             [
              0.4444444444444444,
              "#bd3786"
             ],
             [
              0.5555555555555556,
              "#d8576b"
             ],
             [
              0.6666666666666666,
              "#ed7953"
             ],
             [
              0.7777777777777778,
              "#fb9f3a"
             ],
             [
              0.8888888888888888,
              "#fdca26"
             ],
             [
              1,
              "#f0f921"
             ]
            ],
            "type": "heatmap"
           }
          ],
          "heatmapgl": [
           {
            "colorbar": {
             "outlinewidth": 0,
             "ticks": ""
            },
            "colorscale": [
             [
              0,
              "#0d0887"
             ],
             [
              0.1111111111111111,
              "#46039f"
             ],
             [
              0.2222222222222222,
              "#7201a8"
             ],
             [
              0.3333333333333333,
              "#9c179e"
             ],
             [
              0.4444444444444444,
              "#bd3786"
             ],
             [
              0.5555555555555556,
              "#d8576b"
             ],
             [
              0.6666666666666666,
              "#ed7953"
             ],
             [
              0.7777777777777778,
              "#fb9f3a"
             ],
             [
              0.8888888888888888,
              "#fdca26"
             ],
             [
              1,
              "#f0f921"
             ]
            ],
            "type": "heatmapgl"
           }
          ],
          "histogram": [
           {
            "marker": {
             "pattern": {
              "fillmode": "overlay",
              "size": 10,
              "solidity": 0.2
             }
            },
            "type": "histogram"
           }
          ],
          "histogram2d": [
           {
            "colorbar": {
             "outlinewidth": 0,
             "ticks": ""
            },
            "colorscale": [
             [
              0,
              "#0d0887"
             ],
             [
              0.1111111111111111,
              "#46039f"
             ],
             [
              0.2222222222222222,
              "#7201a8"
             ],
             [
              0.3333333333333333,
              "#9c179e"
             ],
             [
              0.4444444444444444,
              "#bd3786"
             ],
             [
              0.5555555555555556,
              "#d8576b"
             ],
             [
              0.6666666666666666,
              "#ed7953"
             ],
             [
              0.7777777777777778,
              "#fb9f3a"
             ],
             [
              0.8888888888888888,
              "#fdca26"
             ],
             [
              1,
              "#f0f921"
             ]
            ],
            "type": "histogram2d"
           }
          ],
          "histogram2dcontour": [
           {
            "colorbar": {
             "outlinewidth": 0,
             "ticks": ""
            },
            "colorscale": [
             [
              0,
              "#0d0887"
             ],
             [
              0.1111111111111111,
              "#46039f"
             ],
             [
              0.2222222222222222,
              "#7201a8"
             ],
             [
              0.3333333333333333,
              "#9c179e"
             ],
             [
              0.4444444444444444,
              "#bd3786"
             ],
             [
              0.5555555555555556,
              "#d8576b"
             ],
             [
              0.6666666666666666,
              "#ed7953"
             ],
             [
              0.7777777777777778,
              "#fb9f3a"
             ],
             [
              0.8888888888888888,
              "#fdca26"
             ],
             [
              1,
              "#f0f921"
             ]
            ],
            "type": "histogram2dcontour"
           }
          ],
          "mesh3d": [
           {
            "colorbar": {
             "outlinewidth": 0,
             "ticks": ""
            },
            "type": "mesh3d"
           }
          ],
          "parcoords": [
           {
            "line": {
             "colorbar": {
              "outlinewidth": 0,
              "ticks": ""
             }
            },
            "type": "parcoords"
           }
          ],
          "pie": [
           {
            "automargin": true,
            "type": "pie"
           }
          ],
          "scatter": [
           {
            "fillpattern": {
             "fillmode": "overlay",
             "size": 10,
             "solidity": 0.2
            },
            "type": "scatter"
           }
          ],
          "scatter3d": [
           {
            "line": {
             "colorbar": {
              "outlinewidth": 0,
              "ticks": ""
             }
            },
            "marker": {
             "colorbar": {
              "outlinewidth": 0,
              "ticks": ""
             }
            },
            "type": "scatter3d"
           }
          ],
          "scattercarpet": [
           {
            "marker": {
             "colorbar": {
              "outlinewidth": 0,
              "ticks": ""
             }
            },
            "type": "scattercarpet"
           }
          ],
          "scattergeo": [
           {
            "marker": {
             "colorbar": {
              "outlinewidth": 0,
              "ticks": ""
             }
            },
            "type": "scattergeo"
           }
          ],
          "scattergl": [
           {
            "marker": {
             "colorbar": {
              "outlinewidth": 0,
              "ticks": ""
             }
            },
            "type": "scattergl"
           }
          ],
          "scattermapbox": [
           {
            "marker": {
             "colorbar": {
              "outlinewidth": 0,
              "ticks": ""
             }
            },
            "type": "scattermapbox"
           }
          ],
          "scatterpolar": [
           {
            "marker": {
             "colorbar": {
              "outlinewidth": 0,
              "ticks": ""
             }
            },
            "type": "scatterpolar"
           }
          ],
          "scatterpolargl": [
           {
            "marker": {
             "colorbar": {
              "outlinewidth": 0,
              "ticks": ""
             }
            },
            "type": "scatterpolargl"
           }
          ],
          "scatterternary": [
           {
            "marker": {
             "colorbar": {
              "outlinewidth": 0,
              "ticks": ""
             }
            },
            "type": "scatterternary"
           }
          ],
          "surface": [
           {
            "colorbar": {
             "outlinewidth": 0,
             "ticks": ""
            },
            "colorscale": [
             [
              0,
              "#0d0887"
             ],
             [
              0.1111111111111111,
              "#46039f"
             ],
             [
              0.2222222222222222,
              "#7201a8"
             ],
             [
              0.3333333333333333,
              "#9c179e"
             ],
             [
              0.4444444444444444,
              "#bd3786"
             ],
             [
              0.5555555555555556,
              "#d8576b"
             ],
             [
              0.6666666666666666,
              "#ed7953"
             ],
             [
              0.7777777777777778,
              "#fb9f3a"
             ],
             [
              0.8888888888888888,
              "#fdca26"
             ],
             [
              1,
              "#f0f921"
             ]
            ],
            "type": "surface"
           }
          ],
          "table": [
           {
            "cells": {
             "fill": {
              "color": "#EBF0F8"
             },
             "line": {
              "color": "white"
             }
            },
            "header": {
             "fill": {
              "color": "#C8D4E3"
             },
             "line": {
              "color": "white"
             }
            },
            "type": "table"
           }
          ]
         },
         "layout": {
          "annotationdefaults": {
           "arrowcolor": "#2a3f5f",
           "arrowhead": 0,
           "arrowwidth": 1
          },
          "autotypenumbers": "strict",
          "coloraxis": {
           "colorbar": {
            "outlinewidth": 0,
            "ticks": ""
           }
          },
          "colorscale": {
           "diverging": [
            [
             0,
             "#8e0152"
            ],
            [
             0.1,
             "#c51b7d"
            ],
            [
             0.2,
             "#de77ae"
            ],
            [
             0.3,
             "#f1b6da"
            ],
            [
             0.4,
             "#fde0ef"
            ],
            [
             0.5,
             "#f7f7f7"
            ],
            [
             0.6,
             "#e6f5d0"
            ],
            [
             0.7,
             "#b8e186"
            ],
            [
             0.8,
             "#7fbc41"
            ],
            [
             0.9,
             "#4d9221"
            ],
            [
             1,
             "#276419"
            ]
           ],
           "sequential": [
            [
             0,
             "#0d0887"
            ],
            [
             0.1111111111111111,
             "#46039f"
            ],
            [
             0.2222222222222222,
             "#7201a8"
            ],
            [
             0.3333333333333333,
             "#9c179e"
            ],
            [
             0.4444444444444444,
             "#bd3786"
            ],
            [
             0.5555555555555556,
             "#d8576b"
            ],
            [
             0.6666666666666666,
             "#ed7953"
            ],
            [
             0.7777777777777778,
             "#fb9f3a"
            ],
            [
             0.8888888888888888,
             "#fdca26"
            ],
            [
             1,
             "#f0f921"
            ]
           ],
           "sequentialminus": [
            [
             0,
             "#0d0887"
            ],
            [
             0.1111111111111111,
             "#46039f"
            ],
            [
             0.2222222222222222,
             "#7201a8"
            ],
            [
             0.3333333333333333,
             "#9c179e"
            ],
            [
             0.4444444444444444,
             "#bd3786"
            ],
            [
             0.5555555555555556,
             "#d8576b"
            ],
            [
             0.6666666666666666,
             "#ed7953"
            ],
            [
             0.7777777777777778,
             "#fb9f3a"
            ],
            [
             0.8888888888888888,
             "#fdca26"
            ],
            [
             1,
             "#f0f921"
            ]
           ]
          },
          "colorway": [
           "#636efa",
           "#EF553B",
           "#00cc96",
           "#ab63fa",
           "#FFA15A",
           "#19d3f3",
           "#FF6692",
           "#B6E880",
           "#FF97FF",
           "#FECB52"
          ],
          "font": {
           "color": "#2a3f5f"
          },
          "geo": {
           "bgcolor": "white",
           "lakecolor": "white",
           "landcolor": "#E5ECF6",
           "showlakes": true,
           "showland": true,
           "subunitcolor": "white"
          },
          "hoverlabel": {
           "align": "left"
          },
          "hovermode": "closest",
          "mapbox": {
           "style": "light"
          },
          "paper_bgcolor": "white",
          "plot_bgcolor": "#E5ECF6",
          "polar": {
           "angularaxis": {
            "gridcolor": "white",
            "linecolor": "white",
            "ticks": ""
           },
           "bgcolor": "#E5ECF6",
           "radialaxis": {
            "gridcolor": "white",
            "linecolor": "white",
            "ticks": ""
           }
          },
          "scene": {
           "xaxis": {
            "backgroundcolor": "#E5ECF6",
            "gridcolor": "white",
            "gridwidth": 2,
            "linecolor": "white",
            "showbackground": true,
            "ticks": "",
            "zerolinecolor": "white"
           },
           "yaxis": {
            "backgroundcolor": "#E5ECF6",
            "gridcolor": "white",
            "gridwidth": 2,
            "linecolor": "white",
            "showbackground": true,
            "ticks": "",
            "zerolinecolor": "white"
           },
           "zaxis": {
            "backgroundcolor": "#E5ECF6",
            "gridcolor": "white",
            "gridwidth": 2,
            "linecolor": "white",
            "showbackground": true,
            "ticks": "",
            "zerolinecolor": "white"
           }
          },
          "shapedefaults": {
           "line": {
            "color": "#2a3f5f"
           }
          },
          "ternary": {
           "aaxis": {
            "gridcolor": "white",
            "linecolor": "white",
            "ticks": ""
           },
           "baxis": {
            "gridcolor": "white",
            "linecolor": "white",
            "ticks": ""
           },
           "bgcolor": "#E5ECF6",
           "caxis": {
            "gridcolor": "white",
            "linecolor": "white",
            "ticks": ""
           }
          },
          "title": {
           "x": 0.05
          },
          "xaxis": {
           "automargin": true,
           "gridcolor": "white",
           "linecolor": "white",
           "ticks": "",
           "title": {
            "standoff": 15
           },
           "zerolinecolor": "white",
           "zerolinewidth": 2
          },
          "yaxis": {
           "automargin": true,
           "gridcolor": "white",
           "linecolor": "white",
           "ticks": "",
           "title": {
            "standoff": 15
           },
           "zerolinecolor": "white",
           "zerolinewidth": 2
          }
         }
        },
        "title": {
         "text": "Ratio of reviews that mention at least one price related word:",
         "x": 0.5
        },
        "updatemenus": [
         {
          "buttons": [
           {
            "args": [
             {
              "visible": [
               true,
               true
              ]
             }
            ],
            "label": "Graph",
            "method": "update"
           },
           {
            "args": [
             {
              "visible": [
               true,
               false
              ]
             }
            ],
            "label": "Hide <br> Graph",
            "method": "update"
           }
          ],
          "direction": "down",
          "type": "buttons",
          "x": -0.08,
          "y": 1.03
         }
        ],
        "xaxis": {
         "anchor": "y",
         "domain": [
          0,
          1
         ],
         "ticks": "outside",
         "title": {
          "text": "Date"
         }
        },
        "yaxis": {
         "anchor": "x",
         "domain": [
          0,
          1
         ],
         "title": {
          "text": "Percent of reviews mentionning price"
         }
        }
       }
      }
     },
     "metadata": {},
     "output_type": "display_data"
    }
   ],
   "source": [
    "#add the graph connecting the bars\n",
    "fig_1a.add_trace(go.Scatter(\n",
    "    x=df_ratio['month_year'],\n",
    "    y=df_ratio['interpolate'],\n",
    "    name=\"Interpolation <br> degree 14\",\n",
    "    line=dict(color=\"#05e80d\"),\n",
    "))\n",
    "\n",
    "fig_1a.show()"
   ]
  },
  {
   "cell_type": "code",
   "execution_count": 385,
   "metadata": {},
   "outputs": [
    {
     "data": {
      "application/vnd.plotly.v1+json": {
       "config": {
        "plotlyServerURL": "https://plot.ly"
       },
       "data": [
        {
         "alignmentgroup": "True",
         "hovertemplate": "month_year=%{x}<br>ratio=%{y}<extra></extra>",
         "legendgroup": "",
         "marker": {
          "color": "blue",
          "pattern": {
           "shape": ""
          }
         },
         "name": "",
         "offsetgroup": "",
         "orientation": "v",
         "showlegend": false,
         "textposition": "auto",
         "type": "bar",
         "x": [
          "2000-04",
          "2000-05",
          "2000-06",
          "2000-07",
          "2000-08",
          "2000-09",
          "2000-10",
          "2000-11",
          "2000-12",
          "2001-01",
          "2001-02",
          "2001-03",
          "2001-04",
          "2001-05",
          "2001-06",
          "2001-07",
          "2001-08",
          "2001-09",
          "2001-10",
          "2001-11",
          "2001-12",
          "2002-01",
          "2002-02",
          "2002-03",
          "2002-04",
          "2002-05",
          "2002-06",
          "2002-07",
          "2002-08",
          "2002-09",
          "2002-10",
          "2002-11",
          "2002-12",
          "2003-01",
          "2003-02",
          "2003-03",
          "2003-04",
          "2003-05",
          "2003-06",
          "2003-07",
          "2003-08",
          "2003-09",
          "2003-10",
          "2003-11",
          "2003-12",
          "2004-01",
          "2004-02",
          "2004-03",
          "2004-04",
          "2004-05",
          "2004-06",
          "2004-07",
          "2004-08",
          "2004-09",
          "2004-10",
          "2004-11",
          "2004-12",
          "2005-01",
          "2005-02",
          "2005-03",
          "2005-04",
          "2005-05",
          "2005-06",
          "2005-07",
          "2005-08",
          "2005-09",
          "2005-10",
          "2005-11",
          "2005-12",
          "2006-01",
          "2006-02",
          "2006-03",
          "2006-04",
          "2006-05",
          "2006-06",
          "2006-07",
          "2006-08",
          "2006-09",
          "2006-10",
          "2006-11",
          "2006-12",
          "2007-01",
          "2007-02",
          "2007-03",
          "2007-04",
          "2007-05",
          "2007-06",
          "2007-07",
          "2007-08",
          "2007-09",
          "2007-10",
          "2007-11",
          "2007-12",
          "2008-01",
          "2008-02",
          "2008-03",
          "2008-04",
          "2008-05",
          "2008-06",
          "2008-07",
          "2008-08",
          "2008-09",
          "2008-10",
          "2008-11",
          "2008-12",
          "2009-01",
          "2009-02",
          "2009-03",
          "2009-04",
          "2009-05",
          "2009-06",
          "2009-07",
          "2009-08",
          "2009-09",
          "2009-10",
          "2009-11",
          "2009-12",
          "2010-01",
          "2010-02",
          "2010-03",
          "2010-04",
          "2010-05",
          "2010-06",
          "2010-07",
          "2010-08",
          "2010-09",
          "2010-10",
          "2010-11",
          "2010-12",
          "2011-01",
          "2011-02",
          "2011-03",
          "2011-04",
          "2011-05",
          "2011-06",
          "2011-07",
          "2011-08",
          "2011-09",
          "2011-10",
          "2011-11",
          "2011-12",
          "2012-01",
          "2012-02",
          "2012-03",
          "2012-04",
          "2012-05",
          "2012-06",
          "2012-07",
          "2012-08",
          "2012-09",
          "2012-10",
          "2012-11",
          "2012-12",
          "2013-01",
          "2013-02",
          "2013-03",
          "2013-04",
          "2013-05",
          "2013-06",
          "2013-07",
          "2013-08",
          "2013-09",
          "2013-10",
          "2013-11",
          "2013-12",
          "2014-01",
          "2014-02",
          "2014-03",
          "2014-04",
          "2014-05",
          "2014-06",
          "2014-07",
          "2014-08",
          "2014-09",
          "2014-10",
          "2014-11",
          "2014-12",
          "2015-01",
          "2015-02",
          "2015-03",
          "2015-04",
          "2015-05",
          "2015-06",
          "2015-07",
          "2015-08",
          "2015-09",
          "2015-10",
          "2015-11",
          "2015-12",
          "2016-01",
          "2016-02",
          "2016-03",
          "2016-04",
          "2016-05",
          "2016-06",
          "2016-07",
          "2016-08",
          "2016-09",
          "2016-10",
          "2016-11",
          "2016-12",
          "2017-01",
          "2017-02",
          "2017-03",
          "2017-04",
          "2017-05",
          "2017-06",
          "2017-07"
         ],
         "xaxis": "x",
         "y": [
          5.66,
          4.27,
          3.37,
          2.02,
          2.03,
          2.42,
          2.86,
          5.06,
          4.09,
          5.16,
          6.15,
          5.62,
          5.12,
          5.02,
          5.9,
          4.3,
          4.88,
          3.89,
          6.12,
          6.94,
          5.22,
          5.09,
          5.71,
          5.92,
          4.51,
          3.71,
          4.77,
          3.89,
          3.47,
          3.98,
          3.51,
          3.75,
          3.96,
          3.74,
          4.59,
          3.32,
          3.85,
          4.16,
          3.76,
          4.1,
          4.06,
          3.54,
          3.68,
          3.93,
          3.91,
          4.34,
          4.81,
          4.23,
          4.58,
          4.09,
          3.74,
          3.78,
          4.23,
          4.11,
          4.43,
          4.16,
          4.21,
          4.87,
          4.88,
          4.25,
          4.35,
          4.3,
          3.9,
          3.96,
          4.08,
          4.97,
          4.55,
          5.1,
          4.89,
          4.63,
          5.14,
          4.55,
          5.07,
          4.43,
          4.64,
          4.48,
          4.7,
          4.69,
          3.78,
          4.5,
          3.94,
          4.21,
          4.55,
          4.24,
          4.31,
          3.99,
          4.32,
          4.03,
          4.12,
          3.8,
          4.21,
          4.11,
          4.55,
          4.4,
          4.22,
          4.03,
          4.11,
          4.26,
          3.93,
          3.86,
          4.07,
          3.87,
          4.28,
          4.64,
          4.31,
          4.51,
          4.79,
          4.51,
          4.54,
          4.6,
          4.18,
          4.36,
          4.36,
          4.08,
          4.25,
          4.4,
          4.77,
          4.76,
          4.56,
          4.63,
          4.69,
          4.64,
          4.65,
          4.93,
          4.49,
          4.81,
          5.3,
          4.88,
          4.98,
          5.52,
          5.28,
          5.08,
          5.2,
          5.47,
          5.15,
          5.17,
          4.77,
          5,
          4.71,
          4.81,
          5.34,
          5.52,
          4.99,
          4.81,
          4.42,
          4.48,
          4.11,
          4.14,
          4.02,
          4.21,
          4.22,
          4.8,
          4.84,
          4.64,
          4.73,
          4.63,
          4.55,
          4.17,
          3.88,
          3.89,
          3.85,
          3.81,
          3.87,
          3.9,
          4.18,
          4.51,
          4.41,
          4.39,
          3.96,
          3.79,
          3.79,
          3.7,
          3.3,
          3.62,
          3.66,
          3.63,
          3.63,
          3.69,
          3.4,
          3.49,
          3.56,
          3.24,
          3.17,
          3.25,
          3.11,
          3.02,
          3.51,
          3.22,
          3.52,
          3.39,
          3.49,
          3.17,
          3.43,
          3.02,
          3.6,
          2.88,
          3.19,
          2.77,
          2.85,
          2.66,
          3.15,
          3.28,
          3.29,
          2.94,
          2.99,
          2.45,
          2.62,
          2.53
         ],
         "yaxis": "y"
        },
        {
         "line": {
          "color": "#f6111c"
         },
         "name": "Graph connecting <br> the bars",
         "type": "scatter",
         "x": [
          "2000-04",
          "2000-05",
          "2000-06",
          "2000-07",
          "2000-08",
          "2000-09",
          "2000-10",
          "2000-11",
          "2000-12",
          "2001-01",
          "2001-02",
          "2001-03",
          "2001-04",
          "2001-05",
          "2001-06",
          "2001-07",
          "2001-08",
          "2001-09",
          "2001-10",
          "2001-11",
          "2001-12",
          "2002-01",
          "2002-02",
          "2002-03",
          "2002-04",
          "2002-05",
          "2002-06",
          "2002-07",
          "2002-08",
          "2002-09",
          "2002-10",
          "2002-11",
          "2002-12",
          "2003-01",
          "2003-02",
          "2003-03",
          "2003-04",
          "2003-05",
          "2003-06",
          "2003-07",
          "2003-08",
          "2003-09",
          "2003-10",
          "2003-11",
          "2003-12",
          "2004-01",
          "2004-02",
          "2004-03",
          "2004-04",
          "2004-05",
          "2004-06",
          "2004-07",
          "2004-08",
          "2004-09",
          "2004-10",
          "2004-11",
          "2004-12",
          "2005-01",
          "2005-02",
          "2005-03",
          "2005-04",
          "2005-05",
          "2005-06",
          "2005-07",
          "2005-08",
          "2005-09",
          "2005-10",
          "2005-11",
          "2005-12",
          "2006-01",
          "2006-02",
          "2006-03",
          "2006-04",
          "2006-05",
          "2006-06",
          "2006-07",
          "2006-08",
          "2006-09",
          "2006-10",
          "2006-11",
          "2006-12",
          "2007-01",
          "2007-02",
          "2007-03",
          "2007-04",
          "2007-05",
          "2007-06",
          "2007-07",
          "2007-08",
          "2007-09",
          "2007-10",
          "2007-11",
          "2007-12",
          "2008-01",
          "2008-02",
          "2008-03",
          "2008-04",
          "2008-05",
          "2008-06",
          "2008-07",
          "2008-08",
          "2008-09",
          "2008-10",
          "2008-11",
          "2008-12",
          "2009-01",
          "2009-02",
          "2009-03",
          "2009-04",
          "2009-05",
          "2009-06",
          "2009-07",
          "2009-08",
          "2009-09",
          "2009-10",
          "2009-11",
          "2009-12",
          "2010-01",
          "2010-02",
          "2010-03",
          "2010-04",
          "2010-05",
          "2010-06",
          "2010-07",
          "2010-08",
          "2010-09",
          "2010-10",
          "2010-11",
          "2010-12",
          "2011-01",
          "2011-02",
          "2011-03",
          "2011-04",
          "2011-05",
          "2011-06",
          "2011-07",
          "2011-08",
          "2011-09",
          "2011-10",
          "2011-11",
          "2011-12",
          "2012-01",
          "2012-02",
          "2012-03",
          "2012-04",
          "2012-05",
          "2012-06",
          "2012-07",
          "2012-08",
          "2012-09",
          "2012-10",
          "2012-11",
          "2012-12",
          "2013-01",
          "2013-02",
          "2013-03",
          "2013-04",
          "2013-05",
          "2013-06",
          "2013-07",
          "2013-08",
          "2013-09",
          "2013-10",
          "2013-11",
          "2013-12",
          "2014-01",
          "2014-02",
          "2014-03",
          "2014-04",
          "2014-05",
          "2014-06",
          "2014-07",
          "2014-08",
          "2014-09",
          "2014-10",
          "2014-11",
          "2014-12",
          "2015-01",
          "2015-02",
          "2015-03",
          "2015-04",
          "2015-05",
          "2015-06",
          "2015-07",
          "2015-08",
          "2015-09",
          "2015-10",
          "2015-11",
          "2015-12",
          "2016-01",
          "2016-02",
          "2016-03",
          "2016-04",
          "2016-05",
          "2016-06",
          "2016-07",
          "2016-08",
          "2016-09",
          "2016-10",
          "2016-11",
          "2016-12",
          "2017-01",
          "2017-02",
          "2017-03",
          "2017-04",
          "2017-05",
          "2017-06",
          "2017-07"
         ],
         "y": [
          5.66,
          4.27,
          3.37,
          2.02,
          2.03,
          2.42,
          2.86,
          5.06,
          4.09,
          5.16,
          6.15,
          5.62,
          5.12,
          5.02,
          5.9,
          4.3,
          4.88,
          3.89,
          6.12,
          6.94,
          5.22,
          5.09,
          5.71,
          5.92,
          4.51,
          3.71,
          4.77,
          3.89,
          3.47,
          3.98,
          3.51,
          3.75,
          3.96,
          3.74,
          4.59,
          3.32,
          3.85,
          4.16,
          3.76,
          4.1,
          4.06,
          3.54,
          3.68,
          3.93,
          3.91,
          4.34,
          4.81,
          4.23,
          4.58,
          4.09,
          3.74,
          3.78,
          4.23,
          4.11,
          4.43,
          4.16,
          4.21,
          4.87,
          4.88,
          4.25,
          4.35,
          4.3,
          3.9,
          3.96,
          4.08,
          4.97,
          4.55,
          5.1,
          4.89,
          4.63,
          5.14,
          4.55,
          5.07,
          4.43,
          4.64,
          4.48,
          4.7,
          4.69,
          3.78,
          4.5,
          3.94,
          4.21,
          4.55,
          4.24,
          4.31,
          3.99,
          4.32,
          4.03,
          4.12,
          3.8,
          4.21,
          4.11,
          4.55,
          4.4,
          4.22,
          4.03,
          4.11,
          4.26,
          3.93,
          3.86,
          4.07,
          3.87,
          4.28,
          4.64,
          4.31,
          4.51,
          4.79,
          4.51,
          4.54,
          4.6,
          4.18,
          4.36,
          4.36,
          4.08,
          4.25,
          4.4,
          4.77,
          4.76,
          4.56,
          4.63,
          4.69,
          4.64,
          4.65,
          4.93,
          4.49,
          4.81,
          5.3,
          4.88,
          4.98,
          5.52,
          5.28,
          5.08,
          5.2,
          5.47,
          5.15,
          5.17,
          4.77,
          5,
          4.71,
          4.81,
          5.34,
          5.52,
          4.99,
          4.81,
          4.42,
          4.48,
          4.11,
          4.14,
          4.02,
          4.21,
          4.22,
          4.8,
          4.84,
          4.64,
          4.73,
          4.63,
          4.55,
          4.17,
          3.88,
          3.89,
          3.85,
          3.81,
          3.87,
          3.9,
          4.18,
          4.51,
          4.41,
          4.39,
          3.96,
          3.79,
          3.79,
          3.7,
          3.3,
          3.62,
          3.66,
          3.63,
          3.63,
          3.69,
          3.4,
          3.49,
          3.56,
          3.24,
          3.17,
          3.25,
          3.11,
          3.02,
          3.51,
          3.22,
          3.52,
          3.39,
          3.49,
          3.17,
          3.43,
          3.02,
          3.6,
          2.88,
          3.19,
          2.77,
          2.85,
          2.66,
          3.15,
          3.28,
          3.29,
          2.94,
          2.99,
          2.45,
          2.62,
          2.53
         ]
        },
        {
         "line": {
          "color": "#05e80d"
         },
         "name": "Interpolation <br> degree 14",
         "type": "scatter",
         "x": [
          "2000-04",
          "2000-05",
          "2000-06",
          "2000-07",
          "2000-08",
          "2000-09",
          "2000-10",
          "2000-11",
          "2000-12",
          "2001-01",
          "2001-02",
          "2001-03",
          "2001-04",
          "2001-05",
          "2001-06",
          "2001-07",
          "2001-08",
          "2001-09",
          "2001-10",
          "2001-11",
          "2001-12",
          "2002-01",
          "2002-02",
          "2002-03",
          "2002-04",
          "2002-05",
          "2002-06",
          "2002-07",
          "2002-08",
          "2002-09",
          "2002-10",
          "2002-11",
          "2002-12",
          "2003-01",
          "2003-02",
          "2003-03",
          "2003-04",
          "2003-05",
          "2003-06",
          "2003-07",
          "2003-08",
          "2003-09",
          "2003-10",
          "2003-11",
          "2003-12",
          "2004-01",
          "2004-02",
          "2004-03",
          "2004-04",
          "2004-05",
          "2004-06",
          "2004-07",
          "2004-08",
          "2004-09",
          "2004-10",
          "2004-11",
          "2004-12",
          "2005-01",
          "2005-02",
          "2005-03",
          "2005-04",
          "2005-05",
          "2005-06",
          "2005-07",
          "2005-08",
          "2005-09",
          "2005-10",
          "2005-11",
          "2005-12",
          "2006-01",
          "2006-02",
          "2006-03",
          "2006-04",
          "2006-05",
          "2006-06",
          "2006-07",
          "2006-08",
          "2006-09",
          "2006-10",
          "2006-11",
          "2006-12",
          "2007-01",
          "2007-02",
          "2007-03",
          "2007-04",
          "2007-05",
          "2007-06",
          "2007-07",
          "2007-08",
          "2007-09",
          "2007-10",
          "2007-11",
          "2007-12",
          "2008-01",
          "2008-02",
          "2008-03",
          "2008-04",
          "2008-05",
          "2008-06",
          "2008-07",
          "2008-08",
          "2008-09",
          "2008-10",
          "2008-11",
          "2008-12",
          "2009-01",
          "2009-02",
          "2009-03",
          "2009-04",
          "2009-05",
          "2009-06",
          "2009-07",
          "2009-08",
          "2009-09",
          "2009-10",
          "2009-11",
          "2009-12",
          "2010-01",
          "2010-02",
          "2010-03",
          "2010-04",
          "2010-05",
          "2010-06",
          "2010-07",
          "2010-08",
          "2010-09",
          "2010-10",
          "2010-11",
          "2010-12",
          "2011-01",
          "2011-02",
          "2011-03",
          "2011-04",
          "2011-05",
          "2011-06",
          "2011-07",
          "2011-08",
          "2011-09",
          "2011-10",
          "2011-11",
          "2011-12",
          "2012-01",
          "2012-02",
          "2012-03",
          "2012-04",
          "2012-05",
          "2012-06",
          "2012-07",
          "2012-08",
          "2012-09",
          "2012-10",
          "2012-11",
          "2012-12",
          "2013-01",
          "2013-02",
          "2013-03",
          "2013-04",
          "2013-05",
          "2013-06",
          "2013-07",
          "2013-08",
          "2013-09",
          "2013-10",
          "2013-11",
          "2013-12",
          "2014-01",
          "2014-02",
          "2014-03",
          "2014-04",
          "2014-05",
          "2014-06",
          "2014-07",
          "2014-08",
          "2014-09",
          "2014-10",
          "2014-11",
          "2014-12",
          "2015-01",
          "2015-02",
          "2015-03",
          "2015-04",
          "2015-05",
          "2015-06",
          "2015-07",
          "2015-08",
          "2015-09",
          "2015-10",
          "2015-11",
          "2015-12",
          "2016-01",
          "2016-02",
          "2016-03",
          "2016-04",
          "2016-05",
          "2016-06",
          "2016-07",
          "2016-08",
          "2016-09",
          "2016-10",
          "2016-11",
          "2016-12",
          "2017-01",
          "2017-02",
          "2017-03",
          "2017-04",
          "2017-05",
          "2017-06",
          "2017-07"
         ],
         "y": [
          5.500170334100408,
          3.9816300046703765,
          3.1331176410410473,
          2.7706465384812327,
          2.7474927040709156,
          2.9482363282273165,
          3.283578168322588,
          3.685848008581644,
          4.105129630283037,
          4.505933477846025,
          4.864354469069359,
          5.165658199708138,
          5.402244160609586,
          5.571939545450832,
          5.676581803243904,
          5.720852305583209,
          5.711327376408538,
          5.655716493092685,
          5.562260732171019,
          5.439267520265956,
          5.294760479027703,
          5.1362256396125066,
          4.970437563861226,
          4.803350961590498,
          4.64004525111869,
          4.484711187370228,
          4.340670191946954,
          4.21041837499188,
          4.09568845137447,
          3.9975238348960036,
          3.9163601544054965,
          3.8521102848618156,
          3.8042497338126156,
          3.7718998782704505,
          3.753907116739783,
          3.7489164939434976,
          3.755438778740092,
          3.7719103356320627,
          3.796745433304915,
          3.8283808857560686,
          3.8653131280785695,
          3.9061279950049212,
          3.949523600415538,
          3.9943268146079065,
          4.039503907036734,
          4.0841659692213454,
          4.127569758832308,
          4.169114614688543,
          4.20833608635363,
          4.244896903589676,
          4.278575882595049,
          4.309255329600776,
          4.336907459924833,
          4.361580303676415,
          4.383383519439266,
          4.402474485500155,
          4.4190449859196415,
          4.433308757013322,
          4.445490108876516,
          4.455813787833371,
          4.464496199530748,
          4.471738068661967,
          4.477718571544919,
          4.48259094113995,
          4.4864795115207174,
          4.48947813987181,
          4.491649919665229,
          4.493028077522544,
          4.493617929548957,
          4.493399759899087,
          4.492332475052617,
          4.490357880846853,
          4.487405427520817,
          4.483397267729503,
          4.478253476135542,
          4.471897284591265,
          4.464260195437959,
          4.4552868451845224,
          4.444939501410298,
          4.433202091394439,
          4.420083672170397,
          4.405621268567847,
          4.389882020135497,
          4.372964595068504,
          4.354999843410689,
          4.336150679042036,
          4.316611193295084,
          4.296605019611824,
          4.276382981530422,
          4.256220069296442,
          4.236411800411706,
          4.217270034054857,
          4.199118313987963,
          4.182286823533409,
          4.167107046695809,
          4.153906223853079,
          4.143001707801919,
          4.1346953125510595,
          4.1292677587252715,
          4.126973312927685,
          4.128034714394946,
          4.13263847704769,
          4.14093066108574,
          4.15301317569504,
          4.168940697327746,
          4.188718253231972,
          4.212299525516835,
          4.239585909179753,
          4.270426361269241,
          4.304618041508538,
          4.341907762999176,
          4.381994236398734,
          4.42453108356347,
          4.4691305964878865,
          4.5153681832522565,
          4.562787460175384,
          4.610905911650683,
          4.659221043472765,
          4.707216939703427,
          4.754371157992057,
          4.800161813756774,
          4.844074787492042,
          4.885610942858115,
          4.92429322903461,
          4.959673562163017,
          4.991339383586224,
          5.018919772756437,
          5.042091031335115,
          5.060581605804264,
          5.074176307353301,
          5.082719682555306,
          5.086118538747256,
          5.084343491207618,
          5.0774295426423866,
          5.065475623179678,
          5.048643103888242,
          5.0271532579895295,
          5.001283698380037,
          4.9713638308925905,
          4.937769355152825,
          4.900915905432164,
          4.861251891063678,
          4.819250656808631,
          4.775402079070509,
          4.730203737570581,
          4.6841517579334,
          4.637731610880295,
          4.591408851659773,
          4.54562016201129,
          4.500764699974999,
          4.457196165740463,
          4.415215481861173,
          4.375064531857778,
          4.33692093167039,
          4.300894211970463,
          4.267023218911928,
          4.235275290416347,
          4.205546930407589,
          4.1776662469570605,
          4.1513972535800105,
          4.126445843646114,
          4.10246761967523,
          4.079077479424386,
          4.055860527324272,
          4.032384737089299,
          4.008214660192479,
          3.9829260513758484,
          3.956121417628934,
          3.927445355865669,
          3.8966004406311616,
          3.8633619197368034,
          3.8275917490655207,
          3.7892509131390444,
          3.748409486039083,
          3.705254187223604,
          3.6600924115934856,
          3.6133526597024614,
          3.565580067227362,
          3.517427688618268,
          3.469641886359116,
          3.4230422363894313,
          3.378495666101991,
          3.336884566570803,
          3.2990691820355726,
          3.265845018581321,
          3.237895105495644,
          3.2157393270488264,
          3.1996813986122925,
          3.1897563697888396,
          3.1856800644138135,
          3.1868048152783617,
          3.192085329390098,
          3.2000580925250164,
          3.2088419766580687,
          3.2161663076407345,
          3.219433160555429,
          3.215825871898277,
          3.2024713938246103,
          3.1766722957433577,
          3.1362210976515934,
          3.0798132594521137,
          3.0075780917661747,
          2.9217502686635326,
          2.827501588784141,
          2.73396559160759,
          2.6554811031722787,
          2.613089148093703,
          2.6363222459238345
         ]
        }
       ],
       "layout": {
        "barmode": "relative",
        "legend": {
         "tracegroupgap": 0
        },
        "margin": {
         "l": 30,
         "r": 190,
         "t": 60
        },
        "paper_bgcolor": "rgba(0,0,0,0)",
        "template": {
         "data": {
          "bar": [
           {
            "error_x": {
             "color": "#2a3f5f"
            },
            "error_y": {
             "color": "#2a3f5f"
            },
            "marker": {
             "line": {
              "color": "#E5ECF6",
              "width": 0.5
             },
             "pattern": {
              "fillmode": "overlay",
              "size": 10,
              "solidity": 0.2
             }
            },
            "type": "bar"
           }
          ],
          "barpolar": [
           {
            "marker": {
             "line": {
              "color": "#E5ECF6",
              "width": 0.5
             },
             "pattern": {
              "fillmode": "overlay",
              "size": 10,
              "solidity": 0.2
             }
            },
            "type": "barpolar"
           }
          ],
          "carpet": [
           {
            "aaxis": {
             "endlinecolor": "#2a3f5f",
             "gridcolor": "white",
             "linecolor": "white",
             "minorgridcolor": "white",
             "startlinecolor": "#2a3f5f"
            },
            "baxis": {
             "endlinecolor": "#2a3f5f",
             "gridcolor": "white",
             "linecolor": "white",
             "minorgridcolor": "white",
             "startlinecolor": "#2a3f5f"
            },
            "type": "carpet"
           }
          ],
          "choropleth": [
           {
            "colorbar": {
             "outlinewidth": 0,
             "ticks": ""
            },
            "type": "choropleth"
           }
          ],
          "contour": [
           {
            "colorbar": {
             "outlinewidth": 0,
             "ticks": ""
            },
            "colorscale": [
             [
              0,
              "#0d0887"
             ],
             [
              0.1111111111111111,
              "#46039f"
             ],
             [
              0.2222222222222222,
              "#7201a8"
             ],
             [
              0.3333333333333333,
              "#9c179e"
             ],
             [
              0.4444444444444444,
              "#bd3786"
             ],
             [
              0.5555555555555556,
              "#d8576b"
             ],
             [
              0.6666666666666666,
              "#ed7953"
             ],
             [
              0.7777777777777778,
              "#fb9f3a"
             ],
             [
              0.8888888888888888,
              "#fdca26"
             ],
             [
              1,
              "#f0f921"
             ]
            ],
            "type": "contour"
           }
          ],
          "contourcarpet": [
           {
            "colorbar": {
             "outlinewidth": 0,
             "ticks": ""
            },
            "type": "contourcarpet"
           }
          ],
          "heatmap": [
           {
            "colorbar": {
             "outlinewidth": 0,
             "ticks": ""
            },
            "colorscale": [
             [
              0,
              "#0d0887"
             ],
             [
              0.1111111111111111,
              "#46039f"
             ],
             [
              0.2222222222222222,
              "#7201a8"
             ],
             [
              0.3333333333333333,
              "#9c179e"
             ],
             [
              0.4444444444444444,
              "#bd3786"
             ],
             [
              0.5555555555555556,
              "#d8576b"
             ],
             [
              0.6666666666666666,
              "#ed7953"
             ],
             [
              0.7777777777777778,
              "#fb9f3a"
             ],
             [
              0.8888888888888888,
              "#fdca26"
             ],
             [
              1,
              "#f0f921"
             ]
            ],
            "type": "heatmap"
           }
          ],
          "heatmapgl": [
           {
            "colorbar": {
             "outlinewidth": 0,
             "ticks": ""
            },
            "colorscale": [
             [
              0,
              "#0d0887"
             ],
             [
              0.1111111111111111,
              "#46039f"
             ],
             [
              0.2222222222222222,
              "#7201a8"
             ],
             [
              0.3333333333333333,
              "#9c179e"
             ],
             [
              0.4444444444444444,
              "#bd3786"
             ],
             [
              0.5555555555555556,
              "#d8576b"
             ],
             [
              0.6666666666666666,
              "#ed7953"
             ],
             [
              0.7777777777777778,
              "#fb9f3a"
             ],
             [
              0.8888888888888888,
              "#fdca26"
             ],
             [
              1,
              "#f0f921"
             ]
            ],
            "type": "heatmapgl"
           }
          ],
          "histogram": [
           {
            "marker": {
             "pattern": {
              "fillmode": "overlay",
              "size": 10,
              "solidity": 0.2
             }
            },
            "type": "histogram"
           }
          ],
          "histogram2d": [
           {
            "colorbar": {
             "outlinewidth": 0,
             "ticks": ""
            },
            "colorscale": [
             [
              0,
              "#0d0887"
             ],
             [
              0.1111111111111111,
              "#46039f"
             ],
             [
              0.2222222222222222,
              "#7201a8"
             ],
             [
              0.3333333333333333,
              "#9c179e"
             ],
             [
              0.4444444444444444,
              "#bd3786"
             ],
             [
              0.5555555555555556,
              "#d8576b"
             ],
             [
              0.6666666666666666,
              "#ed7953"
             ],
             [
              0.7777777777777778,
              "#fb9f3a"
             ],
             [
              0.8888888888888888,
              "#fdca26"
             ],
             [
              1,
              "#f0f921"
             ]
            ],
            "type": "histogram2d"
           }
          ],
          "histogram2dcontour": [
           {
            "colorbar": {
             "outlinewidth": 0,
             "ticks": ""
            },
            "colorscale": [
             [
              0,
              "#0d0887"
             ],
             [
              0.1111111111111111,
              "#46039f"
             ],
             [
              0.2222222222222222,
              "#7201a8"
             ],
             [
              0.3333333333333333,
              "#9c179e"
             ],
             [
              0.4444444444444444,
              "#bd3786"
             ],
             [
              0.5555555555555556,
              "#d8576b"
             ],
             [
              0.6666666666666666,
              "#ed7953"
             ],
             [
              0.7777777777777778,
              "#fb9f3a"
             ],
             [
              0.8888888888888888,
              "#fdca26"
             ],
             [
              1,
              "#f0f921"
             ]
            ],
            "type": "histogram2dcontour"
           }
          ],
          "mesh3d": [
           {
            "colorbar": {
             "outlinewidth": 0,
             "ticks": ""
            },
            "type": "mesh3d"
           }
          ],
          "parcoords": [
           {
            "line": {
             "colorbar": {
              "outlinewidth": 0,
              "ticks": ""
             }
            },
            "type": "parcoords"
           }
          ],
          "pie": [
           {
            "automargin": true,
            "type": "pie"
           }
          ],
          "scatter": [
           {
            "fillpattern": {
             "fillmode": "overlay",
             "size": 10,
             "solidity": 0.2
            },
            "type": "scatter"
           }
          ],
          "scatter3d": [
           {
            "line": {
             "colorbar": {
              "outlinewidth": 0,
              "ticks": ""
             }
            },
            "marker": {
             "colorbar": {
              "outlinewidth": 0,
              "ticks": ""
             }
            },
            "type": "scatter3d"
           }
          ],
          "scattercarpet": [
           {
            "marker": {
             "colorbar": {
              "outlinewidth": 0,
              "ticks": ""
             }
            },
            "type": "scattercarpet"
           }
          ],
          "scattergeo": [
           {
            "marker": {
             "colorbar": {
              "outlinewidth": 0,
              "ticks": ""
             }
            },
            "type": "scattergeo"
           }
          ],
          "scattergl": [
           {
            "marker": {
             "colorbar": {
              "outlinewidth": 0,
              "ticks": ""
             }
            },
            "type": "scattergl"
           }
          ],
          "scattermapbox": [
           {
            "marker": {
             "colorbar": {
              "outlinewidth": 0,
              "ticks": ""
             }
            },
            "type": "scattermapbox"
           }
          ],
          "scatterpolar": [
           {
            "marker": {
             "colorbar": {
              "outlinewidth": 0,
              "ticks": ""
             }
            },
            "type": "scatterpolar"
           }
          ],
          "scatterpolargl": [
           {
            "marker": {
             "colorbar": {
              "outlinewidth": 0,
              "ticks": ""
             }
            },
            "type": "scatterpolargl"
           }
          ],
          "scatterternary": [
           {
            "marker": {
             "colorbar": {
              "outlinewidth": 0,
              "ticks": ""
             }
            },
            "type": "scatterternary"
           }
          ],
          "surface": [
           {
            "colorbar": {
             "outlinewidth": 0,
             "ticks": ""
            },
            "colorscale": [
             [
              0,
              "#0d0887"
             ],
             [
              0.1111111111111111,
              "#46039f"
             ],
             [
              0.2222222222222222,
              "#7201a8"
             ],
             [
              0.3333333333333333,
              "#9c179e"
             ],
             [
              0.4444444444444444,
              "#bd3786"
             ],
             [
              0.5555555555555556,
              "#d8576b"
             ],
             [
              0.6666666666666666,
              "#ed7953"
             ],
             [
              0.7777777777777778,
              "#fb9f3a"
             ],
             [
              0.8888888888888888,
              "#fdca26"
             ],
             [
              1,
              "#f0f921"
             ]
            ],
            "type": "surface"
           }
          ],
          "table": [
           {
            "cells": {
             "fill": {
              "color": "#EBF0F8"
             },
             "line": {
              "color": "white"
             }
            },
            "header": {
             "fill": {
              "color": "#C8D4E3"
             },
             "line": {
              "color": "white"
             }
            },
            "type": "table"
           }
          ]
         },
         "layout": {
          "annotationdefaults": {
           "arrowcolor": "#2a3f5f",
           "arrowhead": 0,
           "arrowwidth": 1
          },
          "autotypenumbers": "strict",
          "coloraxis": {
           "colorbar": {
            "outlinewidth": 0,
            "ticks": ""
           }
          },
          "colorscale": {
           "diverging": [
            [
             0,
             "#8e0152"
            ],
            [
             0.1,
             "#c51b7d"
            ],
            [
             0.2,
             "#de77ae"
            ],
            [
             0.3,
             "#f1b6da"
            ],
            [
             0.4,
             "#fde0ef"
            ],
            [
             0.5,
             "#f7f7f7"
            ],
            [
             0.6,
             "#e6f5d0"
            ],
            [
             0.7,
             "#b8e186"
            ],
            [
             0.8,
             "#7fbc41"
            ],
            [
             0.9,
             "#4d9221"
            ],
            [
             1,
             "#276419"
            ]
           ],
           "sequential": [
            [
             0,
             "#0d0887"
            ],
            [
             0.1111111111111111,
             "#46039f"
            ],
            [
             0.2222222222222222,
             "#7201a8"
            ],
            [
             0.3333333333333333,
             "#9c179e"
            ],
            [
             0.4444444444444444,
             "#bd3786"
            ],
            [
             0.5555555555555556,
             "#d8576b"
            ],
            [
             0.6666666666666666,
             "#ed7953"
            ],
            [
             0.7777777777777778,
             "#fb9f3a"
            ],
            [
             0.8888888888888888,
             "#fdca26"
            ],
            [
             1,
             "#f0f921"
            ]
           ],
           "sequentialminus": [
            [
             0,
             "#0d0887"
            ],
            [
             0.1111111111111111,
             "#46039f"
            ],
            [
             0.2222222222222222,
             "#7201a8"
            ],
            [
             0.3333333333333333,
             "#9c179e"
            ],
            [
             0.4444444444444444,
             "#bd3786"
            ],
            [
             0.5555555555555556,
             "#d8576b"
            ],
            [
             0.6666666666666666,
             "#ed7953"
            ],
            [
             0.7777777777777778,
             "#fb9f3a"
            ],
            [
             0.8888888888888888,
             "#fdca26"
            ],
            [
             1,
             "#f0f921"
            ]
           ]
          },
          "colorway": [
           "#636efa",
           "#EF553B",
           "#00cc96",
           "#ab63fa",
           "#FFA15A",
           "#19d3f3",
           "#FF6692",
           "#B6E880",
           "#FF97FF",
           "#FECB52"
          ],
          "font": {
           "color": "#2a3f5f"
          },
          "geo": {
           "bgcolor": "white",
           "lakecolor": "white",
           "landcolor": "#E5ECF6",
           "showlakes": true,
           "showland": true,
           "subunitcolor": "white"
          },
          "hoverlabel": {
           "align": "left"
          },
          "hovermode": "closest",
          "mapbox": {
           "style": "light"
          },
          "paper_bgcolor": "white",
          "plot_bgcolor": "#E5ECF6",
          "polar": {
           "angularaxis": {
            "gridcolor": "white",
            "linecolor": "white",
            "ticks": ""
           },
           "bgcolor": "#E5ECF6",
           "radialaxis": {
            "gridcolor": "white",
            "linecolor": "white",
            "ticks": ""
           }
          },
          "scene": {
           "xaxis": {
            "backgroundcolor": "#E5ECF6",
            "gridcolor": "white",
            "gridwidth": 2,
            "linecolor": "white",
            "showbackground": true,
            "ticks": "",
            "zerolinecolor": "white"
           },
           "yaxis": {
            "backgroundcolor": "#E5ECF6",
            "gridcolor": "white",
            "gridwidth": 2,
            "linecolor": "white",
            "showbackground": true,
            "ticks": "",
            "zerolinecolor": "white"
           },
           "zaxis": {
            "backgroundcolor": "#E5ECF6",
            "gridcolor": "white",
            "gridwidth": 2,
            "linecolor": "white",
            "showbackground": true,
            "ticks": "",
            "zerolinecolor": "white"
           }
          },
          "shapedefaults": {
           "line": {
            "color": "#2a3f5f"
           }
          },
          "ternary": {
           "aaxis": {
            "gridcolor": "white",
            "linecolor": "white",
            "ticks": ""
           },
           "baxis": {
            "gridcolor": "white",
            "linecolor": "white",
            "ticks": ""
           },
           "bgcolor": "#E5ECF6",
           "caxis": {
            "gridcolor": "white",
            "linecolor": "white",
            "ticks": ""
           }
          },
          "title": {
           "x": 0.05
          },
          "xaxis": {
           "automargin": true,
           "gridcolor": "white",
           "linecolor": "white",
           "ticks": "",
           "title": {
            "standoff": 15
           },
           "zerolinecolor": "white",
           "zerolinewidth": 2
          },
          "yaxis": {
           "automargin": true,
           "gridcolor": "white",
           "linecolor": "white",
           "ticks": "",
           "title": {
            "standoff": 15
           },
           "zerolinecolor": "white",
           "zerolinewidth": 2
          }
         }
        },
        "title": {
         "text": "Ratio of reviews that mention at least one price related word:",
         "x": 0.5
        },
        "updatemenus": [
         {
          "buttons": [
           {
            "args": [
             {
              "visible": false
             },
             [
              0
             ]
            ],
            "args2": [
             {
              "visible": true
             },
             [
              0
             ]
            ],
            "label": "Bar Plot",
            "method": "restyle",
            "visible": true
           },
           {
            "args": [
             {
              "visible": false
             },
             [
              1
             ]
            ],
            "args2": [
             {
              "visible": true
             },
             [
              1
             ]
            ],
            "label": "Graph <br>connecting bars",
            "method": "restyle",
            "visible": true
           },
           {
            "args": [
             {
              "visible": false
             },
             [
              2
             ]
            ],
            "args2": [
             {
              "visible": true
             },
             [
              2
             ]
            ],
            "label": "Interpolation",
            "method": "restyle",
            "visible": true
           }
          ],
          "direction": "down",
          "type": "buttons",
          "x": -0.08,
          "y": 1.03
         }
        ],
        "xaxis": {
         "anchor": "y",
         "domain": [
          0,
          1
         ],
         "ticks": "outside",
         "title": {
          "text": "Date"
         }
        },
        "yaxis": {
         "anchor": "x",
         "domain": [
          0,
          1
         ],
         "range": [
          0,
          7
         ],
         "title": {
          "text": "Percent of reviews mentionning price"
         }
        }
       }
      }
     },
     "metadata": {},
     "output_type": "display_data"
    }
   ],
   "source": [
    "#Add the buttons to chose whether you want to see the graph\n",
    "fig_1a.update_layout(\n",
    "    updatemenus=[\n",
    "        dict(\n",
    "            type=\"buttons\",\n",
    "            #If buttons are arranged on top or beside\n",
    "            direction=\"down\",\n",
    "            #set positions\n",
    "            x=-0.08,\n",
    "            y= 1.03,\n",
    "            buttons=list([\n",
    "                dict(\n",
    "                    label=\"Bar Plot\",\n",
    "                    method=\"restyle\",\n",
    "                    visible=True,\n",
    "                    args=[{'visible':False}, [0]],\n",
    "                    args2=[{\"visible\": True}, [0]],\n",
    "                ),\n",
    "                    \n",
    "                dict(label=\"Graph <br>connecting bars\",\n",
    "                    method=\"restyle\",\n",
    "                    visible=True,\n",
    "                    args=[{\"visible\": False}, [1]],\n",
    "                    args2=[{\"visible\": True}, [1]],\n",
    "                ),\n",
    "                dict(label=\"Interpolation\",\n",
    "                    method=\"restyle\",\n",
    "                    visible=True,\n",
    "                    args=[{\"visible\": False}, [2]],\n",
    "                    args2=[{\"visible\": True}, [2]],\n",
    "                ),\n",
    "            ]),\n",
    "        )\n",
    "    ])\n",
    "fig_1a.update_layout(\n",
    "    updatemenus=[\n",
    "        dict(\n",
    "            type=\"buttons\",\n",
    "            #If buttons are arranged on top or beside\n",
    "            direction=\"down\",\n",
    "            #set positions\n",
    "            x=-0.08,\n",
    "            y= 1.03,\n",
    "            buttons=list([\n",
    "                dict(\n",
    "                    label=\"Bar Plot\",\n",
    "                    method=\"restyle\",\n",
    "                    visible=True,\n",
    "                    args=[{'visible':False}, [0]],\n",
    "                    args2=[{\"visible\": True}, [0]],\n",
    "                ),\n",
    "                    \n",
    "                dict(label=\"Graph <br>connecting bars\",\n",
    "                    method=\"restyle\",\n",
    "                    visible=True,\n",
    "                    args=[{\"visible\": False}, [1]],\n",
    "                    args2=[{\"visible\": True}, [1]],\n",
    "                ),\n",
    "                dict(label=\"Interpolation\",\n",
    "                    method=\"restyle\",\n",
    "                    visible=True,\n",
    "                    args=[{\"visible\": False}, [2]],\n",
    "                    args2=[{\"visible\": True}, [2]],\n",
    "                ),\n",
    "            ]),\n",
    "        )\n",
    "    ])\n",
    "fig_1a.update_yaxes(\n",
    "    range =[0,7],\n",
    ")"
   ]
  },
  {
   "cell_type": "code",
   "execution_count": 386,
   "metadata": {},
   "outputs": [],
   "source": [
    "fig_1a.write_html(\"./plots for html/figure3.html\")"
   ]
  },
  {
   "attachments": {},
   "cell_type": "markdown",
   "metadata": {},
   "source": [
    "## Derivative of interpolation:"
   ]
  },
  {
   "cell_type": "code",
   "execution_count": 387,
   "metadata": {},
   "outputs": [],
   "source": [
    "fig_1b = go.Figure(fig_1a)"
   ]
  },
  {
   "cell_type": "code",
   "execution_count": 192,
   "metadata": {},
   "outputs": [],
   "source": [
    "def derivative(f):\n",
    "    length = len(f) - 1\n",
    "    d_f = []\n",
    "    for index, a in enumerate(f[:-1]):\n",
    "        power = length - index\n",
    "        d_f.append(power * a) \n",
    "    return np.asarray(d_f)"
   ]
  },
  {
   "cell_type": "code",
   "execution_count": 193,
   "metadata": {},
   "outputs": [],
   "source": [
    "d_f = derivative(poly)\n",
    "d_f_poly_y = np.poly1d(d_f)(df_ratio.index)\n",
    "d_f_poly_y_series = pd.Series(d_f_poly_y)\n",
    "df_ratio['derivative'] = d_f_poly_y_series"
   ]
  },
  {
   "cell_type": "code",
   "execution_count": 204,
   "metadata": {},
   "outputs": [],
   "source": [
    "derivative_ = df_ratio['derivative']\n",
    "changes_in_sign_positions = []\n",
    "sign = 0\n",
    "\n",
    "for index, value in enumerate(derivative_):\n",
    "    if (sign == 0):\n",
    "        changes_in_sign_positions.append(index)\n",
    "        if(value < 0):\n",
    "            sign = -1\n",
    "        if(value > 0):\n",
    "            sign = 1\n",
    "    if ((sign != -1) & (value < 0)):\n",
    "        sign = -1\n",
    "        changes_in_sign_positions.append(index-1)\n",
    "    if ((sign != 1) & (value > 0)):\n",
    "        sign = 1\n",
    "        changes_in_sign_positions.append(index-1)\n",
    "        \n",
    "changes_in_sign_positions.append(len(derivative_)-1)"
   ]
  },
  {
   "cell_type": "code",
   "execution_count": 300,
   "metadata": {},
   "outputs": [
    {
     "data": {
      "text/plain": [
       "0     2000-04\n",
       "1     2000-07\n",
       "2     2001-07\n",
       "3     2003-02\n",
       "4     2005-12\n",
       "5     2008-07\n",
       "6     2011-03\n",
       "7     2016-01\n",
       "8     2016-07\n",
       "9     2017-06\n",
       "10    2017-07\n",
       "Name: month_year, dtype: object"
      ]
     },
     "execution_count": 300,
     "metadata": {},
     "output_type": "execute_result"
    }
   ],
   "source": [
    "x_positions = df_ratio.iloc[changes_in_sign_positions]['month_year']\n",
    "x_positions.reset_index(inplace=True, drop=True)\n",
    "x_positions"
   ]
  },
  {
   "cell_type": "code",
   "execution_count": 388,
   "metadata": {},
   "outputs": [
    {
     "data": {
      "application/vnd.plotly.v1+json": {
       "config": {
        "plotlyServerURL": "https://plot.ly"
       },
       "data": [
        {
         "alignmentgroup": "True",
         "hovertemplate": "month_year=%{x}<br>ratio=%{y}<extra></extra>",
         "legendgroup": "",
         "marker": {
          "color": "blue",
          "pattern": {
           "shape": ""
          }
         },
         "name": "",
         "offsetgroup": "",
         "orientation": "v",
         "showlegend": false,
         "textposition": "auto",
         "type": "bar",
         "x": [
          "2000-04",
          "2000-05",
          "2000-06",
          "2000-07",
          "2000-08",
          "2000-09",
          "2000-10",
          "2000-11",
          "2000-12",
          "2001-01",
          "2001-02",
          "2001-03",
          "2001-04",
          "2001-05",
          "2001-06",
          "2001-07",
          "2001-08",
          "2001-09",
          "2001-10",
          "2001-11",
          "2001-12",
          "2002-01",
          "2002-02",
          "2002-03",
          "2002-04",
          "2002-05",
          "2002-06",
          "2002-07",
          "2002-08",
          "2002-09",
          "2002-10",
          "2002-11",
          "2002-12",
          "2003-01",
          "2003-02",
          "2003-03",
          "2003-04",
          "2003-05",
          "2003-06",
          "2003-07",
          "2003-08",
          "2003-09",
          "2003-10",
          "2003-11",
          "2003-12",
          "2004-01",
          "2004-02",
          "2004-03",
          "2004-04",
          "2004-05",
          "2004-06",
          "2004-07",
          "2004-08",
          "2004-09",
          "2004-10",
          "2004-11",
          "2004-12",
          "2005-01",
          "2005-02",
          "2005-03",
          "2005-04",
          "2005-05",
          "2005-06",
          "2005-07",
          "2005-08",
          "2005-09",
          "2005-10",
          "2005-11",
          "2005-12",
          "2006-01",
          "2006-02",
          "2006-03",
          "2006-04",
          "2006-05",
          "2006-06",
          "2006-07",
          "2006-08",
          "2006-09",
          "2006-10",
          "2006-11",
          "2006-12",
          "2007-01",
          "2007-02",
          "2007-03",
          "2007-04",
          "2007-05",
          "2007-06",
          "2007-07",
          "2007-08",
          "2007-09",
          "2007-10",
          "2007-11",
          "2007-12",
          "2008-01",
          "2008-02",
          "2008-03",
          "2008-04",
          "2008-05",
          "2008-06",
          "2008-07",
          "2008-08",
          "2008-09",
          "2008-10",
          "2008-11",
          "2008-12",
          "2009-01",
          "2009-02",
          "2009-03",
          "2009-04",
          "2009-05",
          "2009-06",
          "2009-07",
          "2009-08",
          "2009-09",
          "2009-10",
          "2009-11",
          "2009-12",
          "2010-01",
          "2010-02",
          "2010-03",
          "2010-04",
          "2010-05",
          "2010-06",
          "2010-07",
          "2010-08",
          "2010-09",
          "2010-10",
          "2010-11",
          "2010-12",
          "2011-01",
          "2011-02",
          "2011-03",
          "2011-04",
          "2011-05",
          "2011-06",
          "2011-07",
          "2011-08",
          "2011-09",
          "2011-10",
          "2011-11",
          "2011-12",
          "2012-01",
          "2012-02",
          "2012-03",
          "2012-04",
          "2012-05",
          "2012-06",
          "2012-07",
          "2012-08",
          "2012-09",
          "2012-10",
          "2012-11",
          "2012-12",
          "2013-01",
          "2013-02",
          "2013-03",
          "2013-04",
          "2013-05",
          "2013-06",
          "2013-07",
          "2013-08",
          "2013-09",
          "2013-10",
          "2013-11",
          "2013-12",
          "2014-01",
          "2014-02",
          "2014-03",
          "2014-04",
          "2014-05",
          "2014-06",
          "2014-07",
          "2014-08",
          "2014-09",
          "2014-10",
          "2014-11",
          "2014-12",
          "2015-01",
          "2015-02",
          "2015-03",
          "2015-04",
          "2015-05",
          "2015-06",
          "2015-07",
          "2015-08",
          "2015-09",
          "2015-10",
          "2015-11",
          "2015-12",
          "2016-01",
          "2016-02",
          "2016-03",
          "2016-04",
          "2016-05",
          "2016-06",
          "2016-07",
          "2016-08",
          "2016-09",
          "2016-10",
          "2016-11",
          "2016-12",
          "2017-01",
          "2017-02",
          "2017-03",
          "2017-04",
          "2017-05",
          "2017-06",
          "2017-07"
         ],
         "xaxis": "x",
         "y": [
          5.66,
          4.27,
          3.37,
          2.02,
          2.03,
          2.42,
          2.86,
          5.06,
          4.09,
          5.16,
          6.15,
          5.62,
          5.12,
          5.02,
          5.9,
          4.3,
          4.88,
          3.89,
          6.12,
          6.94,
          5.22,
          5.09,
          5.71,
          5.92,
          4.51,
          3.71,
          4.77,
          3.89,
          3.47,
          3.98,
          3.51,
          3.75,
          3.96,
          3.74,
          4.59,
          3.32,
          3.85,
          4.16,
          3.76,
          4.1,
          4.06,
          3.54,
          3.68,
          3.93,
          3.91,
          4.34,
          4.81,
          4.23,
          4.58,
          4.09,
          3.74,
          3.78,
          4.23,
          4.11,
          4.43,
          4.16,
          4.21,
          4.87,
          4.88,
          4.25,
          4.35,
          4.3,
          3.9,
          3.96,
          4.08,
          4.97,
          4.55,
          5.1,
          4.89,
          4.63,
          5.14,
          4.55,
          5.07,
          4.43,
          4.64,
          4.48,
          4.7,
          4.69,
          3.78,
          4.5,
          3.94,
          4.21,
          4.55,
          4.24,
          4.31,
          3.99,
          4.32,
          4.03,
          4.12,
          3.8,
          4.21,
          4.11,
          4.55,
          4.4,
          4.22,
          4.03,
          4.11,
          4.26,
          3.93,
          3.86,
          4.07,
          3.87,
          4.28,
          4.64,
          4.31,
          4.51,
          4.79,
          4.51,
          4.54,
          4.6,
          4.18,
          4.36,
          4.36,
          4.08,
          4.25,
          4.4,
          4.77,
          4.76,
          4.56,
          4.63,
          4.69,
          4.64,
          4.65,
          4.93,
          4.49,
          4.81,
          5.3,
          4.88,
          4.98,
          5.52,
          5.28,
          5.08,
          5.2,
          5.47,
          5.15,
          5.17,
          4.77,
          5,
          4.71,
          4.81,
          5.34,
          5.52,
          4.99,
          4.81,
          4.42,
          4.48,
          4.11,
          4.14,
          4.02,
          4.21,
          4.22,
          4.8,
          4.84,
          4.64,
          4.73,
          4.63,
          4.55,
          4.17,
          3.88,
          3.89,
          3.85,
          3.81,
          3.87,
          3.9,
          4.18,
          4.51,
          4.41,
          4.39,
          3.96,
          3.79,
          3.79,
          3.7,
          3.3,
          3.62,
          3.66,
          3.63,
          3.63,
          3.69,
          3.4,
          3.49,
          3.56,
          3.24,
          3.17,
          3.25,
          3.11,
          3.02,
          3.51,
          3.22,
          3.52,
          3.39,
          3.49,
          3.17,
          3.43,
          3.02,
          3.6,
          2.88,
          3.19,
          2.77,
          2.85,
          2.66,
          3.15,
          3.28,
          3.29,
          2.94,
          2.99,
          2.45,
          2.62,
          2.53
         ],
         "yaxis": "y"
        },
        {
         "line": {
          "color": "#f6111c"
         },
         "name": "Graph connecting <br> the bars",
         "type": "scatter",
         "x": [
          "2000-04",
          "2000-05",
          "2000-06",
          "2000-07",
          "2000-08",
          "2000-09",
          "2000-10",
          "2000-11",
          "2000-12",
          "2001-01",
          "2001-02",
          "2001-03",
          "2001-04",
          "2001-05",
          "2001-06",
          "2001-07",
          "2001-08",
          "2001-09",
          "2001-10",
          "2001-11",
          "2001-12",
          "2002-01",
          "2002-02",
          "2002-03",
          "2002-04",
          "2002-05",
          "2002-06",
          "2002-07",
          "2002-08",
          "2002-09",
          "2002-10",
          "2002-11",
          "2002-12",
          "2003-01",
          "2003-02",
          "2003-03",
          "2003-04",
          "2003-05",
          "2003-06",
          "2003-07",
          "2003-08",
          "2003-09",
          "2003-10",
          "2003-11",
          "2003-12",
          "2004-01",
          "2004-02",
          "2004-03",
          "2004-04",
          "2004-05",
          "2004-06",
          "2004-07",
          "2004-08",
          "2004-09",
          "2004-10",
          "2004-11",
          "2004-12",
          "2005-01",
          "2005-02",
          "2005-03",
          "2005-04",
          "2005-05",
          "2005-06",
          "2005-07",
          "2005-08",
          "2005-09",
          "2005-10",
          "2005-11",
          "2005-12",
          "2006-01",
          "2006-02",
          "2006-03",
          "2006-04",
          "2006-05",
          "2006-06",
          "2006-07",
          "2006-08",
          "2006-09",
          "2006-10",
          "2006-11",
          "2006-12",
          "2007-01",
          "2007-02",
          "2007-03",
          "2007-04",
          "2007-05",
          "2007-06",
          "2007-07",
          "2007-08",
          "2007-09",
          "2007-10",
          "2007-11",
          "2007-12",
          "2008-01",
          "2008-02",
          "2008-03",
          "2008-04",
          "2008-05",
          "2008-06",
          "2008-07",
          "2008-08",
          "2008-09",
          "2008-10",
          "2008-11",
          "2008-12",
          "2009-01",
          "2009-02",
          "2009-03",
          "2009-04",
          "2009-05",
          "2009-06",
          "2009-07",
          "2009-08",
          "2009-09",
          "2009-10",
          "2009-11",
          "2009-12",
          "2010-01",
          "2010-02",
          "2010-03",
          "2010-04",
          "2010-05",
          "2010-06",
          "2010-07",
          "2010-08",
          "2010-09",
          "2010-10",
          "2010-11",
          "2010-12",
          "2011-01",
          "2011-02",
          "2011-03",
          "2011-04",
          "2011-05",
          "2011-06",
          "2011-07",
          "2011-08",
          "2011-09",
          "2011-10",
          "2011-11",
          "2011-12",
          "2012-01",
          "2012-02",
          "2012-03",
          "2012-04",
          "2012-05",
          "2012-06",
          "2012-07",
          "2012-08",
          "2012-09",
          "2012-10",
          "2012-11",
          "2012-12",
          "2013-01",
          "2013-02",
          "2013-03",
          "2013-04",
          "2013-05",
          "2013-06",
          "2013-07",
          "2013-08",
          "2013-09",
          "2013-10",
          "2013-11",
          "2013-12",
          "2014-01",
          "2014-02",
          "2014-03",
          "2014-04",
          "2014-05",
          "2014-06",
          "2014-07",
          "2014-08",
          "2014-09",
          "2014-10",
          "2014-11",
          "2014-12",
          "2015-01",
          "2015-02",
          "2015-03",
          "2015-04",
          "2015-05",
          "2015-06",
          "2015-07",
          "2015-08",
          "2015-09",
          "2015-10",
          "2015-11",
          "2015-12",
          "2016-01",
          "2016-02",
          "2016-03",
          "2016-04",
          "2016-05",
          "2016-06",
          "2016-07",
          "2016-08",
          "2016-09",
          "2016-10",
          "2016-11",
          "2016-12",
          "2017-01",
          "2017-02",
          "2017-03",
          "2017-04",
          "2017-05",
          "2017-06",
          "2017-07"
         ],
         "y": [
          5.66,
          4.27,
          3.37,
          2.02,
          2.03,
          2.42,
          2.86,
          5.06,
          4.09,
          5.16,
          6.15,
          5.62,
          5.12,
          5.02,
          5.9,
          4.3,
          4.88,
          3.89,
          6.12,
          6.94,
          5.22,
          5.09,
          5.71,
          5.92,
          4.51,
          3.71,
          4.77,
          3.89,
          3.47,
          3.98,
          3.51,
          3.75,
          3.96,
          3.74,
          4.59,
          3.32,
          3.85,
          4.16,
          3.76,
          4.1,
          4.06,
          3.54,
          3.68,
          3.93,
          3.91,
          4.34,
          4.81,
          4.23,
          4.58,
          4.09,
          3.74,
          3.78,
          4.23,
          4.11,
          4.43,
          4.16,
          4.21,
          4.87,
          4.88,
          4.25,
          4.35,
          4.3,
          3.9,
          3.96,
          4.08,
          4.97,
          4.55,
          5.1,
          4.89,
          4.63,
          5.14,
          4.55,
          5.07,
          4.43,
          4.64,
          4.48,
          4.7,
          4.69,
          3.78,
          4.5,
          3.94,
          4.21,
          4.55,
          4.24,
          4.31,
          3.99,
          4.32,
          4.03,
          4.12,
          3.8,
          4.21,
          4.11,
          4.55,
          4.4,
          4.22,
          4.03,
          4.11,
          4.26,
          3.93,
          3.86,
          4.07,
          3.87,
          4.28,
          4.64,
          4.31,
          4.51,
          4.79,
          4.51,
          4.54,
          4.6,
          4.18,
          4.36,
          4.36,
          4.08,
          4.25,
          4.4,
          4.77,
          4.76,
          4.56,
          4.63,
          4.69,
          4.64,
          4.65,
          4.93,
          4.49,
          4.81,
          5.3,
          4.88,
          4.98,
          5.52,
          5.28,
          5.08,
          5.2,
          5.47,
          5.15,
          5.17,
          4.77,
          5,
          4.71,
          4.81,
          5.34,
          5.52,
          4.99,
          4.81,
          4.42,
          4.48,
          4.11,
          4.14,
          4.02,
          4.21,
          4.22,
          4.8,
          4.84,
          4.64,
          4.73,
          4.63,
          4.55,
          4.17,
          3.88,
          3.89,
          3.85,
          3.81,
          3.87,
          3.9,
          4.18,
          4.51,
          4.41,
          4.39,
          3.96,
          3.79,
          3.79,
          3.7,
          3.3,
          3.62,
          3.66,
          3.63,
          3.63,
          3.69,
          3.4,
          3.49,
          3.56,
          3.24,
          3.17,
          3.25,
          3.11,
          3.02,
          3.51,
          3.22,
          3.52,
          3.39,
          3.49,
          3.17,
          3.43,
          3.02,
          3.6,
          2.88,
          3.19,
          2.77,
          2.85,
          2.66,
          3.15,
          3.28,
          3.29,
          2.94,
          2.99,
          2.45,
          2.62,
          2.53
         ]
        },
        {
         "line": {
          "color": "#05e80d"
         },
         "name": "Interpolation <br> degree 14",
         "type": "scatter",
         "x": [
          "2000-04",
          "2000-05",
          "2000-06",
          "2000-07",
          "2000-08",
          "2000-09",
          "2000-10",
          "2000-11",
          "2000-12",
          "2001-01",
          "2001-02",
          "2001-03",
          "2001-04",
          "2001-05",
          "2001-06",
          "2001-07",
          "2001-08",
          "2001-09",
          "2001-10",
          "2001-11",
          "2001-12",
          "2002-01",
          "2002-02",
          "2002-03",
          "2002-04",
          "2002-05",
          "2002-06",
          "2002-07",
          "2002-08",
          "2002-09",
          "2002-10",
          "2002-11",
          "2002-12",
          "2003-01",
          "2003-02",
          "2003-03",
          "2003-04",
          "2003-05",
          "2003-06",
          "2003-07",
          "2003-08",
          "2003-09",
          "2003-10",
          "2003-11",
          "2003-12",
          "2004-01",
          "2004-02",
          "2004-03",
          "2004-04",
          "2004-05",
          "2004-06",
          "2004-07",
          "2004-08",
          "2004-09",
          "2004-10",
          "2004-11",
          "2004-12",
          "2005-01",
          "2005-02",
          "2005-03",
          "2005-04",
          "2005-05",
          "2005-06",
          "2005-07",
          "2005-08",
          "2005-09",
          "2005-10",
          "2005-11",
          "2005-12",
          "2006-01",
          "2006-02",
          "2006-03",
          "2006-04",
          "2006-05",
          "2006-06",
          "2006-07",
          "2006-08",
          "2006-09",
          "2006-10",
          "2006-11",
          "2006-12",
          "2007-01",
          "2007-02",
          "2007-03",
          "2007-04",
          "2007-05",
          "2007-06",
          "2007-07",
          "2007-08",
          "2007-09",
          "2007-10",
          "2007-11",
          "2007-12",
          "2008-01",
          "2008-02",
          "2008-03",
          "2008-04",
          "2008-05",
          "2008-06",
          "2008-07",
          "2008-08",
          "2008-09",
          "2008-10",
          "2008-11",
          "2008-12",
          "2009-01",
          "2009-02",
          "2009-03",
          "2009-04",
          "2009-05",
          "2009-06",
          "2009-07",
          "2009-08",
          "2009-09",
          "2009-10",
          "2009-11",
          "2009-12",
          "2010-01",
          "2010-02",
          "2010-03",
          "2010-04",
          "2010-05",
          "2010-06",
          "2010-07",
          "2010-08",
          "2010-09",
          "2010-10",
          "2010-11",
          "2010-12",
          "2011-01",
          "2011-02",
          "2011-03",
          "2011-04",
          "2011-05",
          "2011-06",
          "2011-07",
          "2011-08",
          "2011-09",
          "2011-10",
          "2011-11",
          "2011-12",
          "2012-01",
          "2012-02",
          "2012-03",
          "2012-04",
          "2012-05",
          "2012-06",
          "2012-07",
          "2012-08",
          "2012-09",
          "2012-10",
          "2012-11",
          "2012-12",
          "2013-01",
          "2013-02",
          "2013-03",
          "2013-04",
          "2013-05",
          "2013-06",
          "2013-07",
          "2013-08",
          "2013-09",
          "2013-10",
          "2013-11",
          "2013-12",
          "2014-01",
          "2014-02",
          "2014-03",
          "2014-04",
          "2014-05",
          "2014-06",
          "2014-07",
          "2014-08",
          "2014-09",
          "2014-10",
          "2014-11",
          "2014-12",
          "2015-01",
          "2015-02",
          "2015-03",
          "2015-04",
          "2015-05",
          "2015-06",
          "2015-07",
          "2015-08",
          "2015-09",
          "2015-10",
          "2015-11",
          "2015-12",
          "2016-01",
          "2016-02",
          "2016-03",
          "2016-04",
          "2016-05",
          "2016-06",
          "2016-07",
          "2016-08",
          "2016-09",
          "2016-10",
          "2016-11",
          "2016-12",
          "2017-01",
          "2017-02",
          "2017-03",
          "2017-04",
          "2017-05",
          "2017-06",
          "2017-07"
         ],
         "y": [
          5.500170334100408,
          3.9816300046703765,
          3.1331176410410473,
          2.7706465384812327,
          2.7474927040709156,
          2.9482363282273165,
          3.283578168322588,
          3.685848008581644,
          4.105129630283037,
          4.505933477846025,
          4.864354469069359,
          5.165658199708138,
          5.402244160609586,
          5.571939545450832,
          5.676581803243904,
          5.720852305583209,
          5.711327376408538,
          5.655716493092685,
          5.562260732171019,
          5.439267520265956,
          5.294760479027703,
          5.1362256396125066,
          4.970437563861226,
          4.803350961590498,
          4.64004525111869,
          4.484711187370228,
          4.340670191946954,
          4.21041837499188,
          4.09568845137447,
          3.9975238348960036,
          3.9163601544054965,
          3.8521102848618156,
          3.8042497338126156,
          3.7718998782704505,
          3.753907116739783,
          3.7489164939434976,
          3.755438778740092,
          3.7719103356320627,
          3.796745433304915,
          3.8283808857560686,
          3.8653131280785695,
          3.9061279950049212,
          3.949523600415538,
          3.9943268146079065,
          4.039503907036734,
          4.0841659692213454,
          4.127569758832308,
          4.169114614688543,
          4.20833608635363,
          4.244896903589676,
          4.278575882595049,
          4.309255329600776,
          4.336907459924833,
          4.361580303676415,
          4.383383519439266,
          4.402474485500155,
          4.4190449859196415,
          4.433308757013322,
          4.445490108876516,
          4.455813787833371,
          4.464496199530748,
          4.471738068661967,
          4.477718571544919,
          4.48259094113995,
          4.4864795115207174,
          4.48947813987181,
          4.491649919665229,
          4.493028077522544,
          4.493617929548957,
          4.493399759899087,
          4.492332475052617,
          4.490357880846853,
          4.487405427520817,
          4.483397267729503,
          4.478253476135542,
          4.471897284591265,
          4.464260195437959,
          4.4552868451845224,
          4.444939501410298,
          4.433202091394439,
          4.420083672170397,
          4.405621268567847,
          4.389882020135497,
          4.372964595068504,
          4.354999843410689,
          4.336150679042036,
          4.316611193295084,
          4.296605019611824,
          4.276382981530422,
          4.256220069296442,
          4.236411800411706,
          4.217270034054857,
          4.199118313987963,
          4.182286823533409,
          4.167107046695809,
          4.153906223853079,
          4.143001707801919,
          4.1346953125510595,
          4.1292677587252715,
          4.126973312927685,
          4.128034714394946,
          4.13263847704769,
          4.14093066108574,
          4.15301317569504,
          4.168940697327746,
          4.188718253231972,
          4.212299525516835,
          4.239585909179753,
          4.270426361269241,
          4.304618041508538,
          4.341907762999176,
          4.381994236398734,
          4.42453108356347,
          4.4691305964878865,
          4.5153681832522565,
          4.562787460175384,
          4.610905911650683,
          4.659221043472765,
          4.707216939703427,
          4.754371157992057,
          4.800161813756774,
          4.844074787492042,
          4.885610942858115,
          4.92429322903461,
          4.959673562163017,
          4.991339383586224,
          5.018919772756437,
          5.042091031335115,
          5.060581605804264,
          5.074176307353301,
          5.082719682555306,
          5.086118538747256,
          5.084343491207618,
          5.0774295426423866,
          5.065475623179678,
          5.048643103888242,
          5.0271532579895295,
          5.001283698380037,
          4.9713638308925905,
          4.937769355152825,
          4.900915905432164,
          4.861251891063678,
          4.819250656808631,
          4.775402079070509,
          4.730203737570581,
          4.6841517579334,
          4.637731610880295,
          4.591408851659773,
          4.54562016201129,
          4.500764699974999,
          4.457196165740463,
          4.415215481861173,
          4.375064531857778,
          4.33692093167039,
          4.300894211970463,
          4.267023218911928,
          4.235275290416347,
          4.205546930407589,
          4.1776662469570605,
          4.1513972535800105,
          4.126445843646114,
          4.10246761967523,
          4.079077479424386,
          4.055860527324272,
          4.032384737089299,
          4.008214660192479,
          3.9829260513758484,
          3.956121417628934,
          3.927445355865669,
          3.8966004406311616,
          3.8633619197368034,
          3.8275917490655207,
          3.7892509131390444,
          3.748409486039083,
          3.705254187223604,
          3.6600924115934856,
          3.6133526597024614,
          3.565580067227362,
          3.517427688618268,
          3.469641886359116,
          3.4230422363894313,
          3.378495666101991,
          3.336884566570803,
          3.2990691820355726,
          3.265845018581321,
          3.237895105495644,
          3.2157393270488264,
          3.1996813986122925,
          3.1897563697888396,
          3.1856800644138135,
          3.1868048152783617,
          3.192085329390098,
          3.2000580925250164,
          3.2088419766580687,
          3.2161663076407345,
          3.219433160555429,
          3.215825871898277,
          3.2024713938246103,
          3.1766722957433577,
          3.1362210976515934,
          3.0798132594521137,
          3.0075780917661747,
          2.9217502686635326,
          2.827501588784141,
          2.73396559160759,
          2.6554811031722787,
          2.613089148093703,
          2.6363222459238345
         ]
        }
       ],
       "layout": {
        "annotations": [
         {
          "showarrow": false,
          "text": "",
          "x": "2000-07",
          "xanchor": "right",
          "xref": "x",
          "y": 1,
          "yanchor": "top",
          "yref": "y domain"
         },
         {
          "showarrow": false,
          "text": "",
          "x": "2001-07",
          "xanchor": "right",
          "xref": "x",
          "y": 1,
          "yanchor": "top",
          "yref": "y domain"
         },
         {
          "showarrow": false,
          "text": "decline",
          "x": "2003-02",
          "xanchor": "right",
          "xref": "x",
          "y": 1,
          "yanchor": "top",
          "yref": "y domain"
         },
         {
          "showarrow": false,
          "text": "increase",
          "x": "2005-12",
          "xanchor": "right",
          "xref": "x",
          "y": 1,
          "yanchor": "top",
          "yref": "y domain"
         },
         {
          "showarrow": false,
          "text": "",
          "x": "2008-07",
          "xanchor": "right",
          "xref": "x",
          "y": 1,
          "yanchor": "top",
          "yref": "y domain"
         },
         {
          "showarrow": false,
          "text": "",
          "x": "2011-03",
          "xanchor": "right",
          "xref": "x",
          "y": 1,
          "yanchor": "top",
          "yref": "y domain"
         },
         {
          "showarrow": false,
          "text": "",
          "x": "2016-01",
          "xanchor": "right",
          "xref": "x",
          "y": 1,
          "yanchor": "top",
          "yref": "y domain"
         },
         {
          "showarrow": false,
          "text": "",
          "x": "2016-07",
          "xanchor": "right",
          "xref": "x",
          "y": 1,
          "yanchor": "top",
          "yref": "y domain"
         },
         {
          "showarrow": false,
          "text": "",
          "x": "2017-06",
          "xanchor": "right",
          "xref": "x",
          "y": 1,
          "yanchor": "top",
          "yref": "y domain"
         },
         {
          "showarrow": false,
          "text": "",
          "x": "2017-07",
          "xanchor": "right",
          "xref": "x",
          "y": 1,
          "yanchor": "top",
          "yref": "y domain"
         }
        ],
        "barmode": "relative",
        "legend": {
         "tracegroupgap": 0
        },
        "margin": {
         "l": 30,
         "r": 190,
         "t": 60
        },
        "paper_bgcolor": "rgba(0,0,0,0)",
        "shapes": [
         {
          "fillcolor": "red",
          "line": {
           "width": 0
          },
          "opacity": 0.25,
          "type": "rect",
          "x0": "2000-04",
          "x1": "2000-07",
          "xref": "x",
          "y0": 0,
          "y1": 1,
          "yref": "y domain"
         },
         {
          "fillcolor": "green",
          "line": {
           "width": 0
          },
          "opacity": 0.25,
          "type": "rect",
          "x0": "2000-07",
          "x1": "2001-07",
          "xref": "x",
          "y0": 0,
          "y1": 1,
          "yref": "y domain"
         },
         {
          "fillcolor": "red",
          "line": {
           "width": 0
          },
          "opacity": 0.25,
          "type": "rect",
          "x0": "2001-07",
          "x1": "2003-02",
          "xref": "x",
          "y0": 0,
          "y1": 1,
          "yref": "y domain"
         },
         {
          "fillcolor": "green",
          "line": {
           "width": 0
          },
          "opacity": 0.25,
          "type": "rect",
          "x0": "2003-02",
          "x1": "2005-12",
          "xref": "x",
          "y0": 0,
          "y1": 1,
          "yref": "y domain"
         },
         {
          "fillcolor": "red",
          "line": {
           "width": 0
          },
          "opacity": 0.25,
          "type": "rect",
          "x0": "2005-12",
          "x1": "2008-07",
          "xref": "x",
          "y0": 0,
          "y1": 1,
          "yref": "y domain"
         },
         {
          "fillcolor": "green",
          "line": {
           "width": 0
          },
          "opacity": 0.25,
          "type": "rect",
          "x0": "2008-07",
          "x1": "2011-03",
          "xref": "x",
          "y0": 0,
          "y1": 1,
          "yref": "y domain"
         },
         {
          "fillcolor": "red",
          "line": {
           "width": 0
          },
          "opacity": 0.25,
          "type": "rect",
          "x0": "2011-03",
          "x1": "2016-01",
          "xref": "x",
          "y0": 0,
          "y1": 1,
          "yref": "y domain"
         },
         {
          "fillcolor": "green",
          "line": {
           "width": 0
          },
          "opacity": 0.25,
          "type": "rect",
          "x0": "2016-01",
          "x1": "2016-07",
          "xref": "x",
          "y0": 0,
          "y1": 1,
          "yref": "y domain"
         },
         {
          "fillcolor": "red",
          "line": {
           "width": 0
          },
          "opacity": 0.25,
          "type": "rect",
          "x0": "2016-07",
          "x1": "2017-06",
          "xref": "x",
          "y0": 0,
          "y1": 1,
          "yref": "y domain"
         },
         {
          "fillcolor": "green",
          "line": {
           "width": 0
          },
          "opacity": 0.25,
          "type": "rect",
          "x0": "2017-06",
          "x1": "2017-07",
          "xref": "x",
          "y0": 0,
          "y1": 1,
          "yref": "y domain"
         }
        ],
        "template": {
         "data": {
          "bar": [
           {
            "error_x": {
             "color": "#2a3f5f"
            },
            "error_y": {
             "color": "#2a3f5f"
            },
            "marker": {
             "line": {
              "color": "#E5ECF6",
              "width": 0.5
             },
             "pattern": {
              "fillmode": "overlay",
              "size": 10,
              "solidity": 0.2
             }
            },
            "type": "bar"
           }
          ],
          "barpolar": [
           {
            "marker": {
             "line": {
              "color": "#E5ECF6",
              "width": 0.5
             },
             "pattern": {
              "fillmode": "overlay",
              "size": 10,
              "solidity": 0.2
             }
            },
            "type": "barpolar"
           }
          ],
          "carpet": [
           {
            "aaxis": {
             "endlinecolor": "#2a3f5f",
             "gridcolor": "white",
             "linecolor": "white",
             "minorgridcolor": "white",
             "startlinecolor": "#2a3f5f"
            },
            "baxis": {
             "endlinecolor": "#2a3f5f",
             "gridcolor": "white",
             "linecolor": "white",
             "minorgridcolor": "white",
             "startlinecolor": "#2a3f5f"
            },
            "type": "carpet"
           }
          ],
          "choropleth": [
           {
            "colorbar": {
             "outlinewidth": 0,
             "ticks": ""
            },
            "type": "choropleth"
           }
          ],
          "contour": [
           {
            "colorbar": {
             "outlinewidth": 0,
             "ticks": ""
            },
            "colorscale": [
             [
              0,
              "#0d0887"
             ],
             [
              0.1111111111111111,
              "#46039f"
             ],
             [
              0.2222222222222222,
              "#7201a8"
             ],
             [
              0.3333333333333333,
              "#9c179e"
             ],
             [
              0.4444444444444444,
              "#bd3786"
             ],
             [
              0.5555555555555556,
              "#d8576b"
             ],
             [
              0.6666666666666666,
              "#ed7953"
             ],
             [
              0.7777777777777778,
              "#fb9f3a"
             ],
             [
              0.8888888888888888,
              "#fdca26"
             ],
             [
              1,
              "#f0f921"
             ]
            ],
            "type": "contour"
           }
          ],
          "contourcarpet": [
           {
            "colorbar": {
             "outlinewidth": 0,
             "ticks": ""
            },
            "type": "contourcarpet"
           }
          ],
          "heatmap": [
           {
            "colorbar": {
             "outlinewidth": 0,
             "ticks": ""
            },
            "colorscale": [
             [
              0,
              "#0d0887"
             ],
             [
              0.1111111111111111,
              "#46039f"
             ],
             [
              0.2222222222222222,
              "#7201a8"
             ],
             [
              0.3333333333333333,
              "#9c179e"
             ],
             [
              0.4444444444444444,
              "#bd3786"
             ],
             [
              0.5555555555555556,
              "#d8576b"
             ],
             [
              0.6666666666666666,
              "#ed7953"
             ],
             [
              0.7777777777777778,
              "#fb9f3a"
             ],
             [
              0.8888888888888888,
              "#fdca26"
             ],
             [
              1,
              "#f0f921"
             ]
            ],
            "type": "heatmap"
           }
          ],
          "heatmapgl": [
           {
            "colorbar": {
             "outlinewidth": 0,
             "ticks": ""
            },
            "colorscale": [
             [
              0,
              "#0d0887"
             ],
             [
              0.1111111111111111,
              "#46039f"
             ],
             [
              0.2222222222222222,
              "#7201a8"
             ],
             [
              0.3333333333333333,
              "#9c179e"
             ],
             [
              0.4444444444444444,
              "#bd3786"
             ],
             [
              0.5555555555555556,
              "#d8576b"
             ],
             [
              0.6666666666666666,
              "#ed7953"
             ],
             [
              0.7777777777777778,
              "#fb9f3a"
             ],
             [
              0.8888888888888888,
              "#fdca26"
             ],
             [
              1,
              "#f0f921"
             ]
            ],
            "type": "heatmapgl"
           }
          ],
          "histogram": [
           {
            "marker": {
             "pattern": {
              "fillmode": "overlay",
              "size": 10,
              "solidity": 0.2
             }
            },
            "type": "histogram"
           }
          ],
          "histogram2d": [
           {
            "colorbar": {
             "outlinewidth": 0,
             "ticks": ""
            },
            "colorscale": [
             [
              0,
              "#0d0887"
             ],
             [
              0.1111111111111111,
              "#46039f"
             ],
             [
              0.2222222222222222,
              "#7201a8"
             ],
             [
              0.3333333333333333,
              "#9c179e"
             ],
             [
              0.4444444444444444,
              "#bd3786"
             ],
             [
              0.5555555555555556,
              "#d8576b"
             ],
             [
              0.6666666666666666,
              "#ed7953"
             ],
             [
              0.7777777777777778,
              "#fb9f3a"
             ],
             [
              0.8888888888888888,
              "#fdca26"
             ],
             [
              1,
              "#f0f921"
             ]
            ],
            "type": "histogram2d"
           }
          ],
          "histogram2dcontour": [
           {
            "colorbar": {
             "outlinewidth": 0,
             "ticks": ""
            },
            "colorscale": [
             [
              0,
              "#0d0887"
             ],
             [
              0.1111111111111111,
              "#46039f"
             ],
             [
              0.2222222222222222,
              "#7201a8"
             ],
             [
              0.3333333333333333,
              "#9c179e"
             ],
             [
              0.4444444444444444,
              "#bd3786"
             ],
             [
              0.5555555555555556,
              "#d8576b"
             ],
             [
              0.6666666666666666,
              "#ed7953"
             ],
             [
              0.7777777777777778,
              "#fb9f3a"
             ],
             [
              0.8888888888888888,
              "#fdca26"
             ],
             [
              1,
              "#f0f921"
             ]
            ],
            "type": "histogram2dcontour"
           }
          ],
          "mesh3d": [
           {
            "colorbar": {
             "outlinewidth": 0,
             "ticks": ""
            },
            "type": "mesh3d"
           }
          ],
          "parcoords": [
           {
            "line": {
             "colorbar": {
              "outlinewidth": 0,
              "ticks": ""
             }
            },
            "type": "parcoords"
           }
          ],
          "pie": [
           {
            "automargin": true,
            "type": "pie"
           }
          ],
          "scatter": [
           {
            "fillpattern": {
             "fillmode": "overlay",
             "size": 10,
             "solidity": 0.2
            },
            "type": "scatter"
           }
          ],
          "scatter3d": [
           {
            "line": {
             "colorbar": {
              "outlinewidth": 0,
              "ticks": ""
             }
            },
            "marker": {
             "colorbar": {
              "outlinewidth": 0,
              "ticks": ""
             }
            },
            "type": "scatter3d"
           }
          ],
          "scattercarpet": [
           {
            "marker": {
             "colorbar": {
              "outlinewidth": 0,
              "ticks": ""
             }
            },
            "type": "scattercarpet"
           }
          ],
          "scattergeo": [
           {
            "marker": {
             "colorbar": {
              "outlinewidth": 0,
              "ticks": ""
             }
            },
            "type": "scattergeo"
           }
          ],
          "scattergl": [
           {
            "marker": {
             "colorbar": {
              "outlinewidth": 0,
              "ticks": ""
             }
            },
            "type": "scattergl"
           }
          ],
          "scattermapbox": [
           {
            "marker": {
             "colorbar": {
              "outlinewidth": 0,
              "ticks": ""
             }
            },
            "type": "scattermapbox"
           }
          ],
          "scatterpolar": [
           {
            "marker": {
             "colorbar": {
              "outlinewidth": 0,
              "ticks": ""
             }
            },
            "type": "scatterpolar"
           }
          ],
          "scatterpolargl": [
           {
            "marker": {
             "colorbar": {
              "outlinewidth": 0,
              "ticks": ""
             }
            },
            "type": "scatterpolargl"
           }
          ],
          "scatterternary": [
           {
            "marker": {
             "colorbar": {
              "outlinewidth": 0,
              "ticks": ""
             }
            },
            "type": "scatterternary"
           }
          ],
          "surface": [
           {
            "colorbar": {
             "outlinewidth": 0,
             "ticks": ""
            },
            "colorscale": [
             [
              0,
              "#0d0887"
             ],
             [
              0.1111111111111111,
              "#46039f"
             ],
             [
              0.2222222222222222,
              "#7201a8"
             ],
             [
              0.3333333333333333,
              "#9c179e"
             ],
             [
              0.4444444444444444,
              "#bd3786"
             ],
             [
              0.5555555555555556,
              "#d8576b"
             ],
             [
              0.6666666666666666,
              "#ed7953"
             ],
             [
              0.7777777777777778,
              "#fb9f3a"
             ],
             [
              0.8888888888888888,
              "#fdca26"
             ],
             [
              1,
              "#f0f921"
             ]
            ],
            "type": "surface"
           }
          ],
          "table": [
           {
            "cells": {
             "fill": {
              "color": "#EBF0F8"
             },
             "line": {
              "color": "white"
             }
            },
            "header": {
             "fill": {
              "color": "#C8D4E3"
             },
             "line": {
              "color": "white"
             }
            },
            "type": "table"
           }
          ]
         },
         "layout": {
          "annotationdefaults": {
           "arrowcolor": "#2a3f5f",
           "arrowhead": 0,
           "arrowwidth": 1
          },
          "autotypenumbers": "strict",
          "coloraxis": {
           "colorbar": {
            "outlinewidth": 0,
            "ticks": ""
           }
          },
          "colorscale": {
           "diverging": [
            [
             0,
             "#8e0152"
            ],
            [
             0.1,
             "#c51b7d"
            ],
            [
             0.2,
             "#de77ae"
            ],
            [
             0.3,
             "#f1b6da"
            ],
            [
             0.4,
             "#fde0ef"
            ],
            [
             0.5,
             "#f7f7f7"
            ],
            [
             0.6,
             "#e6f5d0"
            ],
            [
             0.7,
             "#b8e186"
            ],
            [
             0.8,
             "#7fbc41"
            ],
            [
             0.9,
             "#4d9221"
            ],
            [
             1,
             "#276419"
            ]
           ],
           "sequential": [
            [
             0,
             "#0d0887"
            ],
            [
             0.1111111111111111,
             "#46039f"
            ],
            [
             0.2222222222222222,
             "#7201a8"
            ],
            [
             0.3333333333333333,
             "#9c179e"
            ],
            [
             0.4444444444444444,
             "#bd3786"
            ],
            [
             0.5555555555555556,
             "#d8576b"
            ],
            [
             0.6666666666666666,
             "#ed7953"
            ],
            [
             0.7777777777777778,
             "#fb9f3a"
            ],
            [
             0.8888888888888888,
             "#fdca26"
            ],
            [
             1,
             "#f0f921"
            ]
           ],
           "sequentialminus": [
            [
             0,
             "#0d0887"
            ],
            [
             0.1111111111111111,
             "#46039f"
            ],
            [
             0.2222222222222222,
             "#7201a8"
            ],
            [
             0.3333333333333333,
             "#9c179e"
            ],
            [
             0.4444444444444444,
             "#bd3786"
            ],
            [
             0.5555555555555556,
             "#d8576b"
            ],
            [
             0.6666666666666666,
             "#ed7953"
            ],
            [
             0.7777777777777778,
             "#fb9f3a"
            ],
            [
             0.8888888888888888,
             "#fdca26"
            ],
            [
             1,
             "#f0f921"
            ]
           ]
          },
          "colorway": [
           "#636efa",
           "#EF553B",
           "#00cc96",
           "#ab63fa",
           "#FFA15A",
           "#19d3f3",
           "#FF6692",
           "#B6E880",
           "#FF97FF",
           "#FECB52"
          ],
          "font": {
           "color": "#2a3f5f"
          },
          "geo": {
           "bgcolor": "white",
           "lakecolor": "white",
           "landcolor": "#E5ECF6",
           "showlakes": true,
           "showland": true,
           "subunitcolor": "white"
          },
          "hoverlabel": {
           "align": "left"
          },
          "hovermode": "closest",
          "mapbox": {
           "style": "light"
          },
          "paper_bgcolor": "white",
          "plot_bgcolor": "#E5ECF6",
          "polar": {
           "angularaxis": {
            "gridcolor": "white",
            "linecolor": "white",
            "ticks": ""
           },
           "bgcolor": "#E5ECF6",
           "radialaxis": {
            "gridcolor": "white",
            "linecolor": "white",
            "ticks": ""
           }
          },
          "scene": {
           "xaxis": {
            "backgroundcolor": "#E5ECF6",
            "gridcolor": "white",
            "gridwidth": 2,
            "linecolor": "white",
            "showbackground": true,
            "ticks": "",
            "zerolinecolor": "white"
           },
           "yaxis": {
            "backgroundcolor": "#E5ECF6",
            "gridcolor": "white",
            "gridwidth": 2,
            "linecolor": "white",
            "showbackground": true,
            "ticks": "",
            "zerolinecolor": "white"
           },
           "zaxis": {
            "backgroundcolor": "#E5ECF6",
            "gridcolor": "white",
            "gridwidth": 2,
            "linecolor": "white",
            "showbackground": true,
            "ticks": "",
            "zerolinecolor": "white"
           }
          },
          "shapedefaults": {
           "line": {
            "color": "#2a3f5f"
           }
          },
          "ternary": {
           "aaxis": {
            "gridcolor": "white",
            "linecolor": "white",
            "ticks": ""
           },
           "baxis": {
            "gridcolor": "white",
            "linecolor": "white",
            "ticks": ""
           },
           "bgcolor": "#E5ECF6",
           "caxis": {
            "gridcolor": "white",
            "linecolor": "white",
            "ticks": ""
           }
          },
          "title": {
           "x": 0.05
          },
          "xaxis": {
           "automargin": true,
           "gridcolor": "white",
           "linecolor": "white",
           "ticks": "",
           "title": {
            "standoff": 15
           },
           "zerolinecolor": "white",
           "zerolinewidth": 2
          },
          "yaxis": {
           "automargin": true,
           "gridcolor": "white",
           "linecolor": "white",
           "ticks": "",
           "title": {
            "standoff": 15
           },
           "zerolinecolor": "white",
           "zerolinewidth": 2
          }
         }
        },
        "title": {
         "text": "Ratio of reviews that mention at least one price related word:",
         "x": 0.5
        },
        "updatemenus": [
         {
          "buttons": [
           {
            "args": [
             {
              "visible": false
             },
             [
              0
             ]
            ],
            "args2": [
             {
              "visible": true
             },
             [
              0
             ]
            ],
            "label": "Bar Plot",
            "method": "restyle",
            "visible": true
           },
           {
            "args": [
             {
              "visible": false
             },
             [
              1
             ]
            ],
            "args2": [
             {
              "visible": true
             },
             [
              1
             ]
            ],
            "label": "Graph <br>connecting bars",
            "method": "restyle",
            "visible": true
           },
           {
            "args": [
             {
              "visible": false
             },
             [
              2
             ]
            ],
            "args2": [
             {
              "visible": true
             },
             [
              2
             ]
            ],
            "label": "Interpolation",
            "method": "restyle",
            "visible": true
           }
          ],
          "direction": "down",
          "type": "buttons",
          "x": -0.08,
          "y": 1.03
         }
        ],
        "xaxis": {
         "anchor": "y",
         "domain": [
          0,
          1
         ],
         "ticks": "outside",
         "title": {
          "text": "Date"
         }
        },
        "yaxis": {
         "anchor": "x",
         "domain": [
          0,
          1
         ],
         "range": [
          0,
          7
         ],
         "title": {
          "text": "Percent of reviews mentionning price"
         }
        }
       }
      }
     },
     "metadata": {},
     "output_type": "display_data"
    }
   ],
   "source": [
    "colors=['red','green']\n",
    "annotations=['','','decline', 'increase']\n",
    "annotation_positions = [\"top right\", \"top right\"]\n",
    "for i in range(len(x_positions)-1):\n",
    "    fig_1b.add_vrect(x0=str(x_positions[i]), x1=str(x_positions[i+1]),\n",
    "              annotation_text=annotations[i%4], annotation_position=annotation_positions[0],\n",
    "              fillcolor=colors[i%2], opacity=0.25, line_width=0)\n",
    "    annotations[i%4] = ''\n",
    "\n",
    "fig_1b.show()"
   ]
  },
  {
   "cell_type": "code",
   "execution_count": 389,
   "metadata": {},
   "outputs": [],
   "source": [
    "fig_1b.write_html(\"./plots for html/figure4.html\")"
   ]
  },
  {
   "attachments": {},
   "cell_type": "markdown",
   "metadata": {},
   "source": [
    "## Add the p-values"
   ]
  },
  {
   "cell_type": "code",
   "execution_count": 390,
   "metadata": {},
   "outputs": [],
   "source": [
    "fig_1c = go.Figure(fig_1a)"
   ]
  },
  {
   "cell_type": "code",
   "execution_count": 270,
   "metadata": {},
   "outputs": [],
   "source": [
    "p_values = pd.read_csv(\"../DataframeStorage/p_values_chi_squares.csv\")"
   ]
  },
  {
   "cell_type": "code",
   "execution_count": 325,
   "metadata": {},
   "outputs": [
    {
     "data": {
      "text/plain": [
       "0"
      ]
     },
     "execution_count": 325,
     "metadata": {},
     "output_type": "execute_result"
    }
   ],
   "source": [
    "p_values_series = p_values['p_value']\n",
    "changes_in_significance_positions = []\n",
    "sign = 0\n",
    "\n",
    "#store all the positions where the significance level changes:\n",
    "for index, value in enumerate(p_values_series):\n",
    "    if (sign == 0):\n",
    "        changes_in_significance_positions.append(index)\n",
    "        if(value < 0.05):\n",
    "            sign = 1\n",
    "        if(value > 0.05):\n",
    "            sign = -1\n",
    "    if ((sign != -1) & (value > 0.05)):\n",
    "        sign = -1\n",
    "        changes_in_significance_positions.append(index-1)\n",
    "    if ((sign != 1) & (value < 0.05)):\n",
    "        sign = 1\n",
    "        changes_in_significance_positions.append(index-1)\n",
    "\n",
    "\n",
    "#add the last index to be able to color the last part too\n",
    "changes_in_significance_positions.append(len(p_values_series+1)-1)\n",
    "changes_in_significance_positions.pop(0)\n",
    "\n",
    "changes_in_significance_positions = [i * 6 for i in changes_in_significance_positions]\n",
    "\n",
    "x_positions_2 = df_ratio.iloc[changes_in_significance_positions]['month_year']\n",
    "x_positions_2.reset_index(inplace=True, drop=True)"
   ]
  },
  {
   "cell_type": "code",
   "execution_count": 391,
   "metadata": {},
   "outputs": [
    {
     "data": {
      "application/vnd.plotly.v1+json": {
       "config": {
        "plotlyServerURL": "https://plot.ly"
       },
       "data": [
        {
         "alignmentgroup": "True",
         "hovertemplate": "month_year=%{x}<br>ratio=%{y}<extra></extra>",
         "legendgroup": "",
         "marker": {
          "color": "blue",
          "pattern": {
           "shape": ""
          }
         },
         "name": "",
         "offsetgroup": "",
         "orientation": "v",
         "showlegend": false,
         "textposition": "auto",
         "type": "bar",
         "x": [
          "2000-04",
          "2000-05",
          "2000-06",
          "2000-07",
          "2000-08",
          "2000-09",
          "2000-10",
          "2000-11",
          "2000-12",
          "2001-01",
          "2001-02",
          "2001-03",
          "2001-04",
          "2001-05",
          "2001-06",
          "2001-07",
          "2001-08",
          "2001-09",
          "2001-10",
          "2001-11",
          "2001-12",
          "2002-01",
          "2002-02",
          "2002-03",
          "2002-04",
          "2002-05",
          "2002-06",
          "2002-07",
          "2002-08",
          "2002-09",
          "2002-10",
          "2002-11",
          "2002-12",
          "2003-01",
          "2003-02",
          "2003-03",
          "2003-04",
          "2003-05",
          "2003-06",
          "2003-07",
          "2003-08",
          "2003-09",
          "2003-10",
          "2003-11",
          "2003-12",
          "2004-01",
          "2004-02",
          "2004-03",
          "2004-04",
          "2004-05",
          "2004-06",
          "2004-07",
          "2004-08",
          "2004-09",
          "2004-10",
          "2004-11",
          "2004-12",
          "2005-01",
          "2005-02",
          "2005-03",
          "2005-04",
          "2005-05",
          "2005-06",
          "2005-07",
          "2005-08",
          "2005-09",
          "2005-10",
          "2005-11",
          "2005-12",
          "2006-01",
          "2006-02",
          "2006-03",
          "2006-04",
          "2006-05",
          "2006-06",
          "2006-07",
          "2006-08",
          "2006-09",
          "2006-10",
          "2006-11",
          "2006-12",
          "2007-01",
          "2007-02",
          "2007-03",
          "2007-04",
          "2007-05",
          "2007-06",
          "2007-07",
          "2007-08",
          "2007-09",
          "2007-10",
          "2007-11",
          "2007-12",
          "2008-01",
          "2008-02",
          "2008-03",
          "2008-04",
          "2008-05",
          "2008-06",
          "2008-07",
          "2008-08",
          "2008-09",
          "2008-10",
          "2008-11",
          "2008-12",
          "2009-01",
          "2009-02",
          "2009-03",
          "2009-04",
          "2009-05",
          "2009-06",
          "2009-07",
          "2009-08",
          "2009-09",
          "2009-10",
          "2009-11",
          "2009-12",
          "2010-01",
          "2010-02",
          "2010-03",
          "2010-04",
          "2010-05",
          "2010-06",
          "2010-07",
          "2010-08",
          "2010-09",
          "2010-10",
          "2010-11",
          "2010-12",
          "2011-01",
          "2011-02",
          "2011-03",
          "2011-04",
          "2011-05",
          "2011-06",
          "2011-07",
          "2011-08",
          "2011-09",
          "2011-10",
          "2011-11",
          "2011-12",
          "2012-01",
          "2012-02",
          "2012-03",
          "2012-04",
          "2012-05",
          "2012-06",
          "2012-07",
          "2012-08",
          "2012-09",
          "2012-10",
          "2012-11",
          "2012-12",
          "2013-01",
          "2013-02",
          "2013-03",
          "2013-04",
          "2013-05",
          "2013-06",
          "2013-07",
          "2013-08",
          "2013-09",
          "2013-10",
          "2013-11",
          "2013-12",
          "2014-01",
          "2014-02",
          "2014-03",
          "2014-04",
          "2014-05",
          "2014-06",
          "2014-07",
          "2014-08",
          "2014-09",
          "2014-10",
          "2014-11",
          "2014-12",
          "2015-01",
          "2015-02",
          "2015-03",
          "2015-04",
          "2015-05",
          "2015-06",
          "2015-07",
          "2015-08",
          "2015-09",
          "2015-10",
          "2015-11",
          "2015-12",
          "2016-01",
          "2016-02",
          "2016-03",
          "2016-04",
          "2016-05",
          "2016-06",
          "2016-07",
          "2016-08",
          "2016-09",
          "2016-10",
          "2016-11",
          "2016-12",
          "2017-01",
          "2017-02",
          "2017-03",
          "2017-04",
          "2017-05",
          "2017-06",
          "2017-07"
         ],
         "xaxis": "x",
         "y": [
          5.66,
          4.27,
          3.37,
          2.02,
          2.03,
          2.42,
          2.86,
          5.06,
          4.09,
          5.16,
          6.15,
          5.62,
          5.12,
          5.02,
          5.9,
          4.3,
          4.88,
          3.89,
          6.12,
          6.94,
          5.22,
          5.09,
          5.71,
          5.92,
          4.51,
          3.71,
          4.77,
          3.89,
          3.47,
          3.98,
          3.51,
          3.75,
          3.96,
          3.74,
          4.59,
          3.32,
          3.85,
          4.16,
          3.76,
          4.1,
          4.06,
          3.54,
          3.68,
          3.93,
          3.91,
          4.34,
          4.81,
          4.23,
          4.58,
          4.09,
          3.74,
          3.78,
          4.23,
          4.11,
          4.43,
          4.16,
          4.21,
          4.87,
          4.88,
          4.25,
          4.35,
          4.3,
          3.9,
          3.96,
          4.08,
          4.97,
          4.55,
          5.1,
          4.89,
          4.63,
          5.14,
          4.55,
          5.07,
          4.43,
          4.64,
          4.48,
          4.7,
          4.69,
          3.78,
          4.5,
          3.94,
          4.21,
          4.55,
          4.24,
          4.31,
          3.99,
          4.32,
          4.03,
          4.12,
          3.8,
          4.21,
          4.11,
          4.55,
          4.4,
          4.22,
          4.03,
          4.11,
          4.26,
          3.93,
          3.86,
          4.07,
          3.87,
          4.28,
          4.64,
          4.31,
          4.51,
          4.79,
          4.51,
          4.54,
          4.6,
          4.18,
          4.36,
          4.36,
          4.08,
          4.25,
          4.4,
          4.77,
          4.76,
          4.56,
          4.63,
          4.69,
          4.64,
          4.65,
          4.93,
          4.49,
          4.81,
          5.3,
          4.88,
          4.98,
          5.52,
          5.28,
          5.08,
          5.2,
          5.47,
          5.15,
          5.17,
          4.77,
          5,
          4.71,
          4.81,
          5.34,
          5.52,
          4.99,
          4.81,
          4.42,
          4.48,
          4.11,
          4.14,
          4.02,
          4.21,
          4.22,
          4.8,
          4.84,
          4.64,
          4.73,
          4.63,
          4.55,
          4.17,
          3.88,
          3.89,
          3.85,
          3.81,
          3.87,
          3.9,
          4.18,
          4.51,
          4.41,
          4.39,
          3.96,
          3.79,
          3.79,
          3.7,
          3.3,
          3.62,
          3.66,
          3.63,
          3.63,
          3.69,
          3.4,
          3.49,
          3.56,
          3.24,
          3.17,
          3.25,
          3.11,
          3.02,
          3.51,
          3.22,
          3.52,
          3.39,
          3.49,
          3.17,
          3.43,
          3.02,
          3.6,
          2.88,
          3.19,
          2.77,
          2.85,
          2.66,
          3.15,
          3.28,
          3.29,
          2.94,
          2.99,
          2.45,
          2.62,
          2.53
         ],
         "yaxis": "y"
        },
        {
         "line": {
          "color": "#f6111c"
         },
         "name": "Graph connecting <br> the bars",
         "type": "scatter",
         "x": [
          "2000-04",
          "2000-05",
          "2000-06",
          "2000-07",
          "2000-08",
          "2000-09",
          "2000-10",
          "2000-11",
          "2000-12",
          "2001-01",
          "2001-02",
          "2001-03",
          "2001-04",
          "2001-05",
          "2001-06",
          "2001-07",
          "2001-08",
          "2001-09",
          "2001-10",
          "2001-11",
          "2001-12",
          "2002-01",
          "2002-02",
          "2002-03",
          "2002-04",
          "2002-05",
          "2002-06",
          "2002-07",
          "2002-08",
          "2002-09",
          "2002-10",
          "2002-11",
          "2002-12",
          "2003-01",
          "2003-02",
          "2003-03",
          "2003-04",
          "2003-05",
          "2003-06",
          "2003-07",
          "2003-08",
          "2003-09",
          "2003-10",
          "2003-11",
          "2003-12",
          "2004-01",
          "2004-02",
          "2004-03",
          "2004-04",
          "2004-05",
          "2004-06",
          "2004-07",
          "2004-08",
          "2004-09",
          "2004-10",
          "2004-11",
          "2004-12",
          "2005-01",
          "2005-02",
          "2005-03",
          "2005-04",
          "2005-05",
          "2005-06",
          "2005-07",
          "2005-08",
          "2005-09",
          "2005-10",
          "2005-11",
          "2005-12",
          "2006-01",
          "2006-02",
          "2006-03",
          "2006-04",
          "2006-05",
          "2006-06",
          "2006-07",
          "2006-08",
          "2006-09",
          "2006-10",
          "2006-11",
          "2006-12",
          "2007-01",
          "2007-02",
          "2007-03",
          "2007-04",
          "2007-05",
          "2007-06",
          "2007-07",
          "2007-08",
          "2007-09",
          "2007-10",
          "2007-11",
          "2007-12",
          "2008-01",
          "2008-02",
          "2008-03",
          "2008-04",
          "2008-05",
          "2008-06",
          "2008-07",
          "2008-08",
          "2008-09",
          "2008-10",
          "2008-11",
          "2008-12",
          "2009-01",
          "2009-02",
          "2009-03",
          "2009-04",
          "2009-05",
          "2009-06",
          "2009-07",
          "2009-08",
          "2009-09",
          "2009-10",
          "2009-11",
          "2009-12",
          "2010-01",
          "2010-02",
          "2010-03",
          "2010-04",
          "2010-05",
          "2010-06",
          "2010-07",
          "2010-08",
          "2010-09",
          "2010-10",
          "2010-11",
          "2010-12",
          "2011-01",
          "2011-02",
          "2011-03",
          "2011-04",
          "2011-05",
          "2011-06",
          "2011-07",
          "2011-08",
          "2011-09",
          "2011-10",
          "2011-11",
          "2011-12",
          "2012-01",
          "2012-02",
          "2012-03",
          "2012-04",
          "2012-05",
          "2012-06",
          "2012-07",
          "2012-08",
          "2012-09",
          "2012-10",
          "2012-11",
          "2012-12",
          "2013-01",
          "2013-02",
          "2013-03",
          "2013-04",
          "2013-05",
          "2013-06",
          "2013-07",
          "2013-08",
          "2013-09",
          "2013-10",
          "2013-11",
          "2013-12",
          "2014-01",
          "2014-02",
          "2014-03",
          "2014-04",
          "2014-05",
          "2014-06",
          "2014-07",
          "2014-08",
          "2014-09",
          "2014-10",
          "2014-11",
          "2014-12",
          "2015-01",
          "2015-02",
          "2015-03",
          "2015-04",
          "2015-05",
          "2015-06",
          "2015-07",
          "2015-08",
          "2015-09",
          "2015-10",
          "2015-11",
          "2015-12",
          "2016-01",
          "2016-02",
          "2016-03",
          "2016-04",
          "2016-05",
          "2016-06",
          "2016-07",
          "2016-08",
          "2016-09",
          "2016-10",
          "2016-11",
          "2016-12",
          "2017-01",
          "2017-02",
          "2017-03",
          "2017-04",
          "2017-05",
          "2017-06",
          "2017-07"
         ],
         "y": [
          5.66,
          4.27,
          3.37,
          2.02,
          2.03,
          2.42,
          2.86,
          5.06,
          4.09,
          5.16,
          6.15,
          5.62,
          5.12,
          5.02,
          5.9,
          4.3,
          4.88,
          3.89,
          6.12,
          6.94,
          5.22,
          5.09,
          5.71,
          5.92,
          4.51,
          3.71,
          4.77,
          3.89,
          3.47,
          3.98,
          3.51,
          3.75,
          3.96,
          3.74,
          4.59,
          3.32,
          3.85,
          4.16,
          3.76,
          4.1,
          4.06,
          3.54,
          3.68,
          3.93,
          3.91,
          4.34,
          4.81,
          4.23,
          4.58,
          4.09,
          3.74,
          3.78,
          4.23,
          4.11,
          4.43,
          4.16,
          4.21,
          4.87,
          4.88,
          4.25,
          4.35,
          4.3,
          3.9,
          3.96,
          4.08,
          4.97,
          4.55,
          5.1,
          4.89,
          4.63,
          5.14,
          4.55,
          5.07,
          4.43,
          4.64,
          4.48,
          4.7,
          4.69,
          3.78,
          4.5,
          3.94,
          4.21,
          4.55,
          4.24,
          4.31,
          3.99,
          4.32,
          4.03,
          4.12,
          3.8,
          4.21,
          4.11,
          4.55,
          4.4,
          4.22,
          4.03,
          4.11,
          4.26,
          3.93,
          3.86,
          4.07,
          3.87,
          4.28,
          4.64,
          4.31,
          4.51,
          4.79,
          4.51,
          4.54,
          4.6,
          4.18,
          4.36,
          4.36,
          4.08,
          4.25,
          4.4,
          4.77,
          4.76,
          4.56,
          4.63,
          4.69,
          4.64,
          4.65,
          4.93,
          4.49,
          4.81,
          5.3,
          4.88,
          4.98,
          5.52,
          5.28,
          5.08,
          5.2,
          5.47,
          5.15,
          5.17,
          4.77,
          5,
          4.71,
          4.81,
          5.34,
          5.52,
          4.99,
          4.81,
          4.42,
          4.48,
          4.11,
          4.14,
          4.02,
          4.21,
          4.22,
          4.8,
          4.84,
          4.64,
          4.73,
          4.63,
          4.55,
          4.17,
          3.88,
          3.89,
          3.85,
          3.81,
          3.87,
          3.9,
          4.18,
          4.51,
          4.41,
          4.39,
          3.96,
          3.79,
          3.79,
          3.7,
          3.3,
          3.62,
          3.66,
          3.63,
          3.63,
          3.69,
          3.4,
          3.49,
          3.56,
          3.24,
          3.17,
          3.25,
          3.11,
          3.02,
          3.51,
          3.22,
          3.52,
          3.39,
          3.49,
          3.17,
          3.43,
          3.02,
          3.6,
          2.88,
          3.19,
          2.77,
          2.85,
          2.66,
          3.15,
          3.28,
          3.29,
          2.94,
          2.99,
          2.45,
          2.62,
          2.53
         ]
        },
        {
         "line": {
          "color": "#05e80d"
         },
         "name": "Interpolation <br> degree 14",
         "type": "scatter",
         "x": [
          "2000-04",
          "2000-05",
          "2000-06",
          "2000-07",
          "2000-08",
          "2000-09",
          "2000-10",
          "2000-11",
          "2000-12",
          "2001-01",
          "2001-02",
          "2001-03",
          "2001-04",
          "2001-05",
          "2001-06",
          "2001-07",
          "2001-08",
          "2001-09",
          "2001-10",
          "2001-11",
          "2001-12",
          "2002-01",
          "2002-02",
          "2002-03",
          "2002-04",
          "2002-05",
          "2002-06",
          "2002-07",
          "2002-08",
          "2002-09",
          "2002-10",
          "2002-11",
          "2002-12",
          "2003-01",
          "2003-02",
          "2003-03",
          "2003-04",
          "2003-05",
          "2003-06",
          "2003-07",
          "2003-08",
          "2003-09",
          "2003-10",
          "2003-11",
          "2003-12",
          "2004-01",
          "2004-02",
          "2004-03",
          "2004-04",
          "2004-05",
          "2004-06",
          "2004-07",
          "2004-08",
          "2004-09",
          "2004-10",
          "2004-11",
          "2004-12",
          "2005-01",
          "2005-02",
          "2005-03",
          "2005-04",
          "2005-05",
          "2005-06",
          "2005-07",
          "2005-08",
          "2005-09",
          "2005-10",
          "2005-11",
          "2005-12",
          "2006-01",
          "2006-02",
          "2006-03",
          "2006-04",
          "2006-05",
          "2006-06",
          "2006-07",
          "2006-08",
          "2006-09",
          "2006-10",
          "2006-11",
          "2006-12",
          "2007-01",
          "2007-02",
          "2007-03",
          "2007-04",
          "2007-05",
          "2007-06",
          "2007-07",
          "2007-08",
          "2007-09",
          "2007-10",
          "2007-11",
          "2007-12",
          "2008-01",
          "2008-02",
          "2008-03",
          "2008-04",
          "2008-05",
          "2008-06",
          "2008-07",
          "2008-08",
          "2008-09",
          "2008-10",
          "2008-11",
          "2008-12",
          "2009-01",
          "2009-02",
          "2009-03",
          "2009-04",
          "2009-05",
          "2009-06",
          "2009-07",
          "2009-08",
          "2009-09",
          "2009-10",
          "2009-11",
          "2009-12",
          "2010-01",
          "2010-02",
          "2010-03",
          "2010-04",
          "2010-05",
          "2010-06",
          "2010-07",
          "2010-08",
          "2010-09",
          "2010-10",
          "2010-11",
          "2010-12",
          "2011-01",
          "2011-02",
          "2011-03",
          "2011-04",
          "2011-05",
          "2011-06",
          "2011-07",
          "2011-08",
          "2011-09",
          "2011-10",
          "2011-11",
          "2011-12",
          "2012-01",
          "2012-02",
          "2012-03",
          "2012-04",
          "2012-05",
          "2012-06",
          "2012-07",
          "2012-08",
          "2012-09",
          "2012-10",
          "2012-11",
          "2012-12",
          "2013-01",
          "2013-02",
          "2013-03",
          "2013-04",
          "2013-05",
          "2013-06",
          "2013-07",
          "2013-08",
          "2013-09",
          "2013-10",
          "2013-11",
          "2013-12",
          "2014-01",
          "2014-02",
          "2014-03",
          "2014-04",
          "2014-05",
          "2014-06",
          "2014-07",
          "2014-08",
          "2014-09",
          "2014-10",
          "2014-11",
          "2014-12",
          "2015-01",
          "2015-02",
          "2015-03",
          "2015-04",
          "2015-05",
          "2015-06",
          "2015-07",
          "2015-08",
          "2015-09",
          "2015-10",
          "2015-11",
          "2015-12",
          "2016-01",
          "2016-02",
          "2016-03",
          "2016-04",
          "2016-05",
          "2016-06",
          "2016-07",
          "2016-08",
          "2016-09",
          "2016-10",
          "2016-11",
          "2016-12",
          "2017-01",
          "2017-02",
          "2017-03",
          "2017-04",
          "2017-05",
          "2017-06",
          "2017-07"
         ],
         "y": [
          5.500170334100408,
          3.9816300046703765,
          3.1331176410410473,
          2.7706465384812327,
          2.7474927040709156,
          2.9482363282273165,
          3.283578168322588,
          3.685848008581644,
          4.105129630283037,
          4.505933477846025,
          4.864354469069359,
          5.165658199708138,
          5.402244160609586,
          5.571939545450832,
          5.676581803243904,
          5.720852305583209,
          5.711327376408538,
          5.655716493092685,
          5.562260732171019,
          5.439267520265956,
          5.294760479027703,
          5.1362256396125066,
          4.970437563861226,
          4.803350961590498,
          4.64004525111869,
          4.484711187370228,
          4.340670191946954,
          4.21041837499188,
          4.09568845137447,
          3.9975238348960036,
          3.9163601544054965,
          3.8521102848618156,
          3.8042497338126156,
          3.7718998782704505,
          3.753907116739783,
          3.7489164939434976,
          3.755438778740092,
          3.7719103356320627,
          3.796745433304915,
          3.8283808857560686,
          3.8653131280785695,
          3.9061279950049212,
          3.949523600415538,
          3.9943268146079065,
          4.039503907036734,
          4.0841659692213454,
          4.127569758832308,
          4.169114614688543,
          4.20833608635363,
          4.244896903589676,
          4.278575882595049,
          4.309255329600776,
          4.336907459924833,
          4.361580303676415,
          4.383383519439266,
          4.402474485500155,
          4.4190449859196415,
          4.433308757013322,
          4.445490108876516,
          4.455813787833371,
          4.464496199530748,
          4.471738068661967,
          4.477718571544919,
          4.48259094113995,
          4.4864795115207174,
          4.48947813987181,
          4.491649919665229,
          4.493028077522544,
          4.493617929548957,
          4.493399759899087,
          4.492332475052617,
          4.490357880846853,
          4.487405427520817,
          4.483397267729503,
          4.478253476135542,
          4.471897284591265,
          4.464260195437959,
          4.4552868451845224,
          4.444939501410298,
          4.433202091394439,
          4.420083672170397,
          4.405621268567847,
          4.389882020135497,
          4.372964595068504,
          4.354999843410689,
          4.336150679042036,
          4.316611193295084,
          4.296605019611824,
          4.276382981530422,
          4.256220069296442,
          4.236411800411706,
          4.217270034054857,
          4.199118313987963,
          4.182286823533409,
          4.167107046695809,
          4.153906223853079,
          4.143001707801919,
          4.1346953125510595,
          4.1292677587252715,
          4.126973312927685,
          4.128034714394946,
          4.13263847704769,
          4.14093066108574,
          4.15301317569504,
          4.168940697327746,
          4.188718253231972,
          4.212299525516835,
          4.239585909179753,
          4.270426361269241,
          4.304618041508538,
          4.341907762999176,
          4.381994236398734,
          4.42453108356347,
          4.4691305964878865,
          4.5153681832522565,
          4.562787460175384,
          4.610905911650683,
          4.659221043472765,
          4.707216939703427,
          4.754371157992057,
          4.800161813756774,
          4.844074787492042,
          4.885610942858115,
          4.92429322903461,
          4.959673562163017,
          4.991339383586224,
          5.018919772756437,
          5.042091031335115,
          5.060581605804264,
          5.074176307353301,
          5.082719682555306,
          5.086118538747256,
          5.084343491207618,
          5.0774295426423866,
          5.065475623179678,
          5.048643103888242,
          5.0271532579895295,
          5.001283698380037,
          4.9713638308925905,
          4.937769355152825,
          4.900915905432164,
          4.861251891063678,
          4.819250656808631,
          4.775402079070509,
          4.730203737570581,
          4.6841517579334,
          4.637731610880295,
          4.591408851659773,
          4.54562016201129,
          4.500764699974999,
          4.457196165740463,
          4.415215481861173,
          4.375064531857778,
          4.33692093167039,
          4.300894211970463,
          4.267023218911928,
          4.235275290416347,
          4.205546930407589,
          4.1776662469570605,
          4.1513972535800105,
          4.126445843646114,
          4.10246761967523,
          4.079077479424386,
          4.055860527324272,
          4.032384737089299,
          4.008214660192479,
          3.9829260513758484,
          3.956121417628934,
          3.927445355865669,
          3.8966004406311616,
          3.8633619197368034,
          3.8275917490655207,
          3.7892509131390444,
          3.748409486039083,
          3.705254187223604,
          3.6600924115934856,
          3.6133526597024614,
          3.565580067227362,
          3.517427688618268,
          3.469641886359116,
          3.4230422363894313,
          3.378495666101991,
          3.336884566570803,
          3.2990691820355726,
          3.265845018581321,
          3.237895105495644,
          3.2157393270488264,
          3.1996813986122925,
          3.1897563697888396,
          3.1856800644138135,
          3.1868048152783617,
          3.192085329390098,
          3.2000580925250164,
          3.2088419766580687,
          3.2161663076407345,
          3.219433160555429,
          3.215825871898277,
          3.2024713938246103,
          3.1766722957433577,
          3.1362210976515934,
          3.0798132594521137,
          3.0075780917661747,
          2.9217502686635326,
          2.827501588784141,
          2.73396559160759,
          2.6554811031722787,
          2.613089148093703,
          2.6363222459238345
         ]
        }
       ],
       "layout": {
        "annotations": [
         {
          "showarrow": false,
          "text": "",
          "x": "2000-10",
          "xanchor": "right",
          "xref": "x",
          "y": 1,
          "yanchor": "top",
          "yref": "y domain"
         },
         {
          "showarrow": false,
          "text": "",
          "x": "2001-10",
          "xanchor": "right",
          "xref": "x",
          "y": 1,
          "yanchor": "top",
          "yref": "y domain"
         },
         {
          "showarrow": false,
          "text": "",
          "x": "2002-04",
          "xanchor": "right",
          "xref": "x",
          "y": 1,
          "yanchor": "top",
          "yref": "y domain"
         },
         {
          "showarrow": false,
          "text": "",
          "x": "2003-04",
          "xanchor": "right",
          "xref": "x",
          "y": 1,
          "yanchor": "top",
          "yref": "y domain"
         },
         {
          "showarrow": false,
          "text": "",
          "x": "2003-10",
          "xanchor": "right",
          "xref": "x",
          "y": 1,
          "yanchor": "top",
          "yref": "y domain"
         },
         {
          "showarrow": false,
          "text": "",
          "x": "2004-04",
          "xanchor": "right",
          "xref": "x",
          "y": 1,
          "yanchor": "top",
          "yref": "y domain"
         },
         {
          "showarrow": false,
          "text": "",
          "x": "2004-10",
          "xanchor": "right",
          "xref": "x",
          "y": 1,
          "yanchor": "top",
          "yref": "y domain"
         },
         {
          "showarrow": false,
          "text": "",
          "x": "2005-10",
          "xanchor": "right",
          "xref": "x",
          "y": 1,
          "yanchor": "top",
          "yref": "y domain"
         },
         {
          "showarrow": false,
          "text": "",
          "x": "2006-04",
          "xanchor": "right",
          "xref": "x",
          "y": 1,
          "yanchor": "top",
          "yref": "y domain"
         },
         {
          "showarrow": false,
          "text": "",
          "x": "2008-04",
          "xanchor": "right",
          "xref": "x",
          "y": 1,
          "yanchor": "top",
          "yref": "y domain"
         },
         {
          "showarrow": false,
          "text": "significant",
          "x": "2012-04",
          "xanchor": "right",
          "xref": "x",
          "y": 1,
          "yanchor": "top",
          "yref": "y domain"
         },
         {
          "showarrow": false,
          "text": "",
          "x": "2012-10",
          "xanchor": "right",
          "xref": "x",
          "y": 1,
          "yanchor": "top",
          "yref": "y domain"
         },
         {
          "showarrow": false,
          "text": "",
          "x": "2015-04",
          "xanchor": "right",
          "xref": "x",
          "y": 1,
          "yanchor": "top",
          "yref": "y domain"
         },
         {
          "showarrow": false,
          "text": "",
          "x": "2015-10",
          "xanchor": "right",
          "xref": "x",
          "y": 1,
          "yanchor": "top",
          "yref": "y domain"
         },
         {
          "showarrow": false,
          "text": "",
          "x": "2016-04",
          "xanchor": "right",
          "xref": "x",
          "y": 1,
          "yanchor": "top",
          "yref": "y domain"
         },
         {
          "showarrow": false,
          "text": "",
          "x": "2016-10",
          "xanchor": "right",
          "xref": "x",
          "y": 1,
          "yanchor": "top",
          "yref": "y domain"
         },
         {
          "showarrow": false,
          "text": "",
          "x": "2017-04",
          "xanchor": "right",
          "xref": "x",
          "y": 1,
          "yanchor": "top",
          "yref": "y domain"
         }
        ],
        "barmode": "relative",
        "legend": {
         "tracegroupgap": 0
        },
        "margin": {
         "l": 30,
         "r": 190,
         "t": 60
        },
        "paper_bgcolor": "rgba(0,0,0,0)",
        "shapes": [
         {
          "fillcolor": "green",
          "line": {
           "width": 0
          },
          "opacity": 0.25,
          "type": "rect",
          "x0": "2000-04",
          "x1": "2000-10",
          "xref": "x",
          "y0": 0,
          "y1": 1,
          "yref": "y domain"
         },
         {
          "fillcolor": "red",
          "line": {
           "width": 0
          },
          "opacity": 0,
          "type": "rect",
          "x0": "2000-10",
          "x1": "2001-10",
          "xref": "x",
          "y0": 0,
          "y1": 1,
          "yref": "y domain"
         },
         {
          "fillcolor": "green",
          "line": {
           "width": 0
          },
          "opacity": 0.25,
          "type": "rect",
          "x0": "2001-10",
          "x1": "2002-04",
          "xref": "x",
          "y0": 0,
          "y1": 1,
          "yref": "y domain"
         },
         {
          "fillcolor": "red",
          "line": {
           "width": 0
          },
          "opacity": 0,
          "type": "rect",
          "x0": "2002-04",
          "x1": "2003-04",
          "xref": "x",
          "y0": 0,
          "y1": 1,
          "yref": "y domain"
         },
         {
          "fillcolor": "green",
          "line": {
           "width": 0
          },
          "opacity": 0.25,
          "type": "rect",
          "x0": "2003-04",
          "x1": "2003-10",
          "xref": "x",
          "y0": 0,
          "y1": 1,
          "yref": "y domain"
         },
         {
          "fillcolor": "red",
          "line": {
           "width": 0
          },
          "opacity": 0,
          "type": "rect",
          "x0": "2003-10",
          "x1": "2004-04",
          "xref": "x",
          "y0": 0,
          "y1": 1,
          "yref": "y domain"
         },
         {
          "fillcolor": "green",
          "line": {
           "width": 0
          },
          "opacity": 0.25,
          "type": "rect",
          "x0": "2004-04",
          "x1": "2004-10",
          "xref": "x",
          "y0": 0,
          "y1": 1,
          "yref": "y domain"
         },
         {
          "fillcolor": "red",
          "line": {
           "width": 0
          },
          "opacity": 0,
          "type": "rect",
          "x0": "2004-10",
          "x1": "2005-10",
          "xref": "x",
          "y0": 0,
          "y1": 1,
          "yref": "y domain"
         },
         {
          "fillcolor": "green",
          "line": {
           "width": 0
          },
          "opacity": 0.25,
          "type": "rect",
          "x0": "2005-10",
          "x1": "2006-04",
          "xref": "x",
          "y0": 0,
          "y1": 1,
          "yref": "y domain"
         },
         {
          "fillcolor": "red",
          "line": {
           "width": 0
          },
          "opacity": 0,
          "type": "rect",
          "x0": "2006-04",
          "x1": "2008-04",
          "xref": "x",
          "y0": 0,
          "y1": 1,
          "yref": "y domain"
         },
         {
          "fillcolor": "green",
          "line": {
           "width": 0
          },
          "opacity": 0.25,
          "type": "rect",
          "x0": "2008-04",
          "x1": "2012-04",
          "xref": "x",
          "y0": 0,
          "y1": 1,
          "yref": "y domain"
         },
         {
          "fillcolor": "red",
          "line": {
           "width": 0
          },
          "opacity": 0,
          "type": "rect",
          "x0": "2012-04",
          "x1": "2012-10",
          "xref": "x",
          "y0": 0,
          "y1": 1,
          "yref": "y domain"
         },
         {
          "fillcolor": "green",
          "line": {
           "width": 0
          },
          "opacity": 0.25,
          "type": "rect",
          "x0": "2012-10",
          "x1": "2015-04",
          "xref": "x",
          "y0": 0,
          "y1": 1,
          "yref": "y domain"
         },
         {
          "fillcolor": "red",
          "line": {
           "width": 0
          },
          "opacity": 0,
          "type": "rect",
          "x0": "2015-04",
          "x1": "2015-10",
          "xref": "x",
          "y0": 0,
          "y1": 1,
          "yref": "y domain"
         },
         {
          "fillcolor": "green",
          "line": {
           "width": 0
          },
          "opacity": 0.25,
          "type": "rect",
          "x0": "2015-10",
          "x1": "2016-04",
          "xref": "x",
          "y0": 0,
          "y1": 1,
          "yref": "y domain"
         },
         {
          "fillcolor": "red",
          "line": {
           "width": 0
          },
          "opacity": 0,
          "type": "rect",
          "x0": "2016-04",
          "x1": "2016-10",
          "xref": "x",
          "y0": 0,
          "y1": 1,
          "yref": "y domain"
         },
         {
          "fillcolor": "green",
          "line": {
           "width": 0
          },
          "opacity": 0.25,
          "type": "rect",
          "x0": "2016-10",
          "x1": "2017-04",
          "xref": "x",
          "y0": 0,
          "y1": 1,
          "yref": "y domain"
         }
        ],
        "template": {
         "data": {
          "bar": [
           {
            "error_x": {
             "color": "#2a3f5f"
            },
            "error_y": {
             "color": "#2a3f5f"
            },
            "marker": {
             "line": {
              "color": "#E5ECF6",
              "width": 0.5
             },
             "pattern": {
              "fillmode": "overlay",
              "size": 10,
              "solidity": 0.2
             }
            },
            "type": "bar"
           }
          ],
          "barpolar": [
           {
            "marker": {
             "line": {
              "color": "#E5ECF6",
              "width": 0.5
             },
             "pattern": {
              "fillmode": "overlay",
              "size": 10,
              "solidity": 0.2
             }
            },
            "type": "barpolar"
           }
          ],
          "carpet": [
           {
            "aaxis": {
             "endlinecolor": "#2a3f5f",
             "gridcolor": "white",
             "linecolor": "white",
             "minorgridcolor": "white",
             "startlinecolor": "#2a3f5f"
            },
            "baxis": {
             "endlinecolor": "#2a3f5f",
             "gridcolor": "white",
             "linecolor": "white",
             "minorgridcolor": "white",
             "startlinecolor": "#2a3f5f"
            },
            "type": "carpet"
           }
          ],
          "choropleth": [
           {
            "colorbar": {
             "outlinewidth": 0,
             "ticks": ""
            },
            "type": "choropleth"
           }
          ],
          "contour": [
           {
            "colorbar": {
             "outlinewidth": 0,
             "ticks": ""
            },
            "colorscale": [
             [
              0,
              "#0d0887"
             ],
             [
              0.1111111111111111,
              "#46039f"
             ],
             [
              0.2222222222222222,
              "#7201a8"
             ],
             [
              0.3333333333333333,
              "#9c179e"
             ],
             [
              0.4444444444444444,
              "#bd3786"
             ],
             [
              0.5555555555555556,
              "#d8576b"
             ],
             [
              0.6666666666666666,
              "#ed7953"
             ],
             [
              0.7777777777777778,
              "#fb9f3a"
             ],
             [
              0.8888888888888888,
              "#fdca26"
             ],
             [
              1,
              "#f0f921"
             ]
            ],
            "type": "contour"
           }
          ],
          "contourcarpet": [
           {
            "colorbar": {
             "outlinewidth": 0,
             "ticks": ""
            },
            "type": "contourcarpet"
           }
          ],
          "heatmap": [
           {
            "colorbar": {
             "outlinewidth": 0,
             "ticks": ""
            },
            "colorscale": [
             [
              0,
              "#0d0887"
             ],
             [
              0.1111111111111111,
              "#46039f"
             ],
             [
              0.2222222222222222,
              "#7201a8"
             ],
             [
              0.3333333333333333,
              "#9c179e"
             ],
             [
              0.4444444444444444,
              "#bd3786"
             ],
             [
              0.5555555555555556,
              "#d8576b"
             ],
             [
              0.6666666666666666,
              "#ed7953"
             ],
             [
              0.7777777777777778,
              "#fb9f3a"
             ],
             [
              0.8888888888888888,
              "#fdca26"
             ],
             [
              1,
              "#f0f921"
             ]
            ],
            "type": "heatmap"
           }
          ],
          "heatmapgl": [
           {
            "colorbar": {
             "outlinewidth": 0,
             "ticks": ""
            },
            "colorscale": [
             [
              0,
              "#0d0887"
             ],
             [
              0.1111111111111111,
              "#46039f"
             ],
             [
              0.2222222222222222,
              "#7201a8"
             ],
             [
              0.3333333333333333,
              "#9c179e"
             ],
             [
              0.4444444444444444,
              "#bd3786"
             ],
             [
              0.5555555555555556,
              "#d8576b"
             ],
             [
              0.6666666666666666,
              "#ed7953"
             ],
             [
              0.7777777777777778,
              "#fb9f3a"
             ],
             [
              0.8888888888888888,
              "#fdca26"
             ],
             [
              1,
              "#f0f921"
             ]
            ],
            "type": "heatmapgl"
           }
          ],
          "histogram": [
           {
            "marker": {
             "pattern": {
              "fillmode": "overlay",
              "size": 10,
              "solidity": 0.2
             }
            },
            "type": "histogram"
           }
          ],
          "histogram2d": [
           {
            "colorbar": {
             "outlinewidth": 0,
             "ticks": ""
            },
            "colorscale": [
             [
              0,
              "#0d0887"
             ],
             [
              0.1111111111111111,
              "#46039f"
             ],
             [
              0.2222222222222222,
              "#7201a8"
             ],
             [
              0.3333333333333333,
              "#9c179e"
             ],
             [
              0.4444444444444444,
              "#bd3786"
             ],
             [
              0.5555555555555556,
              "#d8576b"
             ],
             [
              0.6666666666666666,
              "#ed7953"
             ],
             [
              0.7777777777777778,
              "#fb9f3a"
             ],
             [
              0.8888888888888888,
              "#fdca26"
             ],
             [
              1,
              "#f0f921"
             ]
            ],
            "type": "histogram2d"
           }
          ],
          "histogram2dcontour": [
           {
            "colorbar": {
             "outlinewidth": 0,
             "ticks": ""
            },
            "colorscale": [
             [
              0,
              "#0d0887"
             ],
             [
              0.1111111111111111,
              "#46039f"
             ],
             [
              0.2222222222222222,
              "#7201a8"
             ],
             [
              0.3333333333333333,
              "#9c179e"
             ],
             [
              0.4444444444444444,
              "#bd3786"
             ],
             [
              0.5555555555555556,
              "#d8576b"
             ],
             [
              0.6666666666666666,
              "#ed7953"
             ],
             [
              0.7777777777777778,
              "#fb9f3a"
             ],
             [
              0.8888888888888888,
              "#fdca26"
             ],
             [
              1,
              "#f0f921"
             ]
            ],
            "type": "histogram2dcontour"
           }
          ],
          "mesh3d": [
           {
            "colorbar": {
             "outlinewidth": 0,
             "ticks": ""
            },
            "type": "mesh3d"
           }
          ],
          "parcoords": [
           {
            "line": {
             "colorbar": {
              "outlinewidth": 0,
              "ticks": ""
             }
            },
            "type": "parcoords"
           }
          ],
          "pie": [
           {
            "automargin": true,
            "type": "pie"
           }
          ],
          "scatter": [
           {
            "fillpattern": {
             "fillmode": "overlay",
             "size": 10,
             "solidity": 0.2
            },
            "type": "scatter"
           }
          ],
          "scatter3d": [
           {
            "line": {
             "colorbar": {
              "outlinewidth": 0,
              "ticks": ""
             }
            },
            "marker": {
             "colorbar": {
              "outlinewidth": 0,
              "ticks": ""
             }
            },
            "type": "scatter3d"
           }
          ],
          "scattercarpet": [
           {
            "marker": {
             "colorbar": {
              "outlinewidth": 0,
              "ticks": ""
             }
            },
            "type": "scattercarpet"
           }
          ],
          "scattergeo": [
           {
            "marker": {
             "colorbar": {
              "outlinewidth": 0,
              "ticks": ""
             }
            },
            "type": "scattergeo"
           }
          ],
          "scattergl": [
           {
            "marker": {
             "colorbar": {
              "outlinewidth": 0,
              "ticks": ""
             }
            },
            "type": "scattergl"
           }
          ],
          "scattermapbox": [
           {
            "marker": {
             "colorbar": {
              "outlinewidth": 0,
              "ticks": ""
             }
            },
            "type": "scattermapbox"
           }
          ],
          "scatterpolar": [
           {
            "marker": {
             "colorbar": {
              "outlinewidth": 0,
              "ticks": ""
             }
            },
            "type": "scatterpolar"
           }
          ],
          "scatterpolargl": [
           {
            "marker": {
             "colorbar": {
              "outlinewidth": 0,
              "ticks": ""
             }
            },
            "type": "scatterpolargl"
           }
          ],
          "scatterternary": [
           {
            "marker": {
             "colorbar": {
              "outlinewidth": 0,
              "ticks": ""
             }
            },
            "type": "scatterternary"
           }
          ],
          "surface": [
           {
            "colorbar": {
             "outlinewidth": 0,
             "ticks": ""
            },
            "colorscale": [
             [
              0,
              "#0d0887"
             ],
             [
              0.1111111111111111,
              "#46039f"
             ],
             [
              0.2222222222222222,
              "#7201a8"
             ],
             [
              0.3333333333333333,
              "#9c179e"
             ],
             [
              0.4444444444444444,
              "#bd3786"
             ],
             [
              0.5555555555555556,
              "#d8576b"
             ],
             [
              0.6666666666666666,
              "#ed7953"
             ],
             [
              0.7777777777777778,
              "#fb9f3a"
             ],
             [
              0.8888888888888888,
              "#fdca26"
             ],
             [
              1,
              "#f0f921"
             ]
            ],
            "type": "surface"
           }
          ],
          "table": [
           {
            "cells": {
             "fill": {
              "color": "#EBF0F8"
             },
             "line": {
              "color": "white"
             }
            },
            "header": {
             "fill": {
              "color": "#C8D4E3"
             },
             "line": {
              "color": "white"
             }
            },
            "type": "table"
           }
          ]
         },
         "layout": {
          "annotationdefaults": {
           "arrowcolor": "#2a3f5f",
           "arrowhead": 0,
           "arrowwidth": 1
          },
          "autotypenumbers": "strict",
          "coloraxis": {
           "colorbar": {
            "outlinewidth": 0,
            "ticks": ""
           }
          },
          "colorscale": {
           "diverging": [
            [
             0,
             "#8e0152"
            ],
            [
             0.1,
             "#c51b7d"
            ],
            [
             0.2,
             "#de77ae"
            ],
            [
             0.3,
             "#f1b6da"
            ],
            [
             0.4,
             "#fde0ef"
            ],
            [
             0.5,
             "#f7f7f7"
            ],
            [
             0.6,
             "#e6f5d0"
            ],
            [
             0.7,
             "#b8e186"
            ],
            [
             0.8,
             "#7fbc41"
            ],
            [
             0.9,
             "#4d9221"
            ],
            [
             1,
             "#276419"
            ]
           ],
           "sequential": [
            [
             0,
             "#0d0887"
            ],
            [
             0.1111111111111111,
             "#46039f"
            ],
            [
             0.2222222222222222,
             "#7201a8"
            ],
            [
             0.3333333333333333,
             "#9c179e"
            ],
            [
             0.4444444444444444,
             "#bd3786"
            ],
            [
             0.5555555555555556,
             "#d8576b"
            ],
            [
             0.6666666666666666,
             "#ed7953"
            ],
            [
             0.7777777777777778,
             "#fb9f3a"
            ],
            [
             0.8888888888888888,
             "#fdca26"
            ],
            [
             1,
             "#f0f921"
            ]
           ],
           "sequentialminus": [
            [
             0,
             "#0d0887"
            ],
            [
             0.1111111111111111,
             "#46039f"
            ],
            [
             0.2222222222222222,
             "#7201a8"
            ],
            [
             0.3333333333333333,
             "#9c179e"
            ],
            [
             0.4444444444444444,
             "#bd3786"
            ],
            [
             0.5555555555555556,
             "#d8576b"
            ],
            [
             0.6666666666666666,
             "#ed7953"
            ],
            [
             0.7777777777777778,
             "#fb9f3a"
            ],
            [
             0.8888888888888888,
             "#fdca26"
            ],
            [
             1,
             "#f0f921"
            ]
           ]
          },
          "colorway": [
           "#636efa",
           "#EF553B",
           "#00cc96",
           "#ab63fa",
           "#FFA15A",
           "#19d3f3",
           "#FF6692",
           "#B6E880",
           "#FF97FF",
           "#FECB52"
          ],
          "font": {
           "color": "#2a3f5f"
          },
          "geo": {
           "bgcolor": "white",
           "lakecolor": "white",
           "landcolor": "#E5ECF6",
           "showlakes": true,
           "showland": true,
           "subunitcolor": "white"
          },
          "hoverlabel": {
           "align": "left"
          },
          "hovermode": "closest",
          "mapbox": {
           "style": "light"
          },
          "paper_bgcolor": "white",
          "plot_bgcolor": "#E5ECF6",
          "polar": {
           "angularaxis": {
            "gridcolor": "white",
            "linecolor": "white",
            "ticks": ""
           },
           "bgcolor": "#E5ECF6",
           "radialaxis": {
            "gridcolor": "white",
            "linecolor": "white",
            "ticks": ""
           }
          },
          "scene": {
           "xaxis": {
            "backgroundcolor": "#E5ECF6",
            "gridcolor": "white",
            "gridwidth": 2,
            "linecolor": "white",
            "showbackground": true,
            "ticks": "",
            "zerolinecolor": "white"
           },
           "yaxis": {
            "backgroundcolor": "#E5ECF6",
            "gridcolor": "white",
            "gridwidth": 2,
            "linecolor": "white",
            "showbackground": true,
            "ticks": "",
            "zerolinecolor": "white"
           },
           "zaxis": {
            "backgroundcolor": "#E5ECF6",
            "gridcolor": "white",
            "gridwidth": 2,
            "linecolor": "white",
            "showbackground": true,
            "ticks": "",
            "zerolinecolor": "white"
           }
          },
          "shapedefaults": {
           "line": {
            "color": "#2a3f5f"
           }
          },
          "ternary": {
           "aaxis": {
            "gridcolor": "white",
            "linecolor": "white",
            "ticks": ""
           },
           "baxis": {
            "gridcolor": "white",
            "linecolor": "white",
            "ticks": ""
           },
           "bgcolor": "#E5ECF6",
           "caxis": {
            "gridcolor": "white",
            "linecolor": "white",
            "ticks": ""
           }
          },
          "title": {
           "x": 0.05
          },
          "xaxis": {
           "automargin": true,
           "gridcolor": "white",
           "linecolor": "white",
           "ticks": "",
           "title": {
            "standoff": 15
           },
           "zerolinecolor": "white",
           "zerolinewidth": 2
          },
          "yaxis": {
           "automargin": true,
           "gridcolor": "white",
           "linecolor": "white",
           "ticks": "",
           "title": {
            "standoff": 15
           },
           "zerolinecolor": "white",
           "zerolinewidth": 2
          }
         }
        },
        "title": {
         "text": "Ratio of reviews that mention at least one price related word:",
         "x": 0.5
        },
        "updatemenus": [
         {
          "buttons": [
           {
            "args": [
             {
              "visible": false
             },
             [
              0
             ]
            ],
            "args2": [
             {
              "visible": true
             },
             [
              0
             ]
            ],
            "label": "Bar Plot",
            "method": "restyle",
            "visible": true
           },
           {
            "args": [
             {
              "visible": false
             },
             [
              1
             ]
            ],
            "args2": [
             {
              "visible": true
             },
             [
              1
             ]
            ],
            "label": "Graph <br>connecting bars",
            "method": "restyle",
            "visible": true
           },
           {
            "args": [
             {
              "visible": false
             },
             [
              2
             ]
            ],
            "args2": [
             {
              "visible": true
             },
             [
              2
             ]
            ],
            "label": "Interpolation",
            "method": "restyle",
            "visible": true
           }
          ],
          "direction": "down",
          "type": "buttons",
          "x": -0.08,
          "y": 1.03
         }
        ],
        "xaxis": {
         "anchor": "y",
         "domain": [
          0,
          1
         ],
         "ticks": "outside",
         "title": {
          "text": "Date"
         }
        },
        "yaxis": {
         "anchor": "x",
         "domain": [
          0,
          1
         ],
         "range": [
          0,
          7
         ],
         "title": {
          "text": "Percent of reviews mentionning price"
         }
        }
       }
      }
     },
     "metadata": {},
     "output_type": "display_data"
    }
   ],
   "source": [
    "colors=['green','red']\n",
    "annotations=['','','','','','','','','','','significant']\n",
    "annotation_positions = [\"top right\", \"top right\"]\n",
    "opacities = [0.25, 0]\n",
    "for i in range(len(x_positions_2)-1):\n",
    "    fig_1c.add_vrect(x0=str(x_positions_2[i]), x1=str(x_positions_2[i+1]),\n",
    "              annotation_text=annotations[i%11], annotation_position=annotation_positions[0],\n",
    "              fillcolor=colors[i%2], opacity=opacities[i%2], line_width=0)\n",
    "    annotations[i%4] = ''\n",
    "\n",
    "fig_1c.show()"
   ]
  },
  {
   "cell_type": "code",
   "execution_count": 392,
   "metadata": {},
   "outputs": [],
   "source": [
    "fig_1c.write_html(\"./plots for html/figure5.html\")"
   ]
  },
  {
   "attachments": {},
   "cell_type": "markdown",
   "metadata": {},
   "source": [
    "## Add unemployment rate:"
   ]
  },
  {
   "cell_type": "code",
   "execution_count": 393,
   "metadata": {},
   "outputs": [],
   "source": [
    "fig_1d = go.Figure(fig_1a)"
   ]
  },
  {
   "cell_type": "code",
   "execution_count": 340,
   "metadata": {},
   "outputs": [],
   "source": [
    "df_ratio_MS = pd.read_csv(\"../DataframeStorage/df_ratio.csv\")"
   ]
  },
  {
   "cell_type": "code",
   "execution_count": 342,
   "metadata": {},
   "outputs": [],
   "source": [
    "derivative_unemp = df_ratio_MS['derivative_unemployment']\n",
    "changes_in_sign_positions_unemp = []\n",
    "sign = 0\n",
    "\n",
    "#store all the positions at which the sign of the derivative changes.\n",
    "for index, value in enumerate(derivative_unemp):\n",
    "    if (sign == 0):\n",
    "        changes_in_sign_positions_unemp.append(index)\n",
    "        if(value < 0):\n",
    "            sign = -1\n",
    "        if(value > 0):\n",
    "            sign = 1\n",
    "    if ((sign != -1) & (value < 0)):\n",
    "        sign = -1\n",
    "        changes_in_sign_positions_unemp.append(index-1)\n",
    "    if ((sign != 1) & (value > 0)):\n",
    "        sign = 1\n",
    "        changes_in_sign_positions_unemp.append(index-1)\n",
    "\n",
    "\n",
    "#add the last index to be able to color the last part too\n",
    "changes_in_sign_positions_unemp.append(len(derivative_unemp))"
   ]
  },
  {
   "cell_type": "code",
   "execution_count": 394,
   "metadata": {},
   "outputs": [
    {
     "data": {
      "application/vnd.plotly.v1+json": {
       "config": {
        "plotlyServerURL": "https://plot.ly"
       },
       "data": [
        {
         "alignmentgroup": "True",
         "hovertemplate": "month_year=%{x}<br>ratio=%{y}<extra></extra>",
         "legendgroup": "",
         "marker": {
          "color": "blue",
          "pattern": {
           "shape": ""
          }
         },
         "name": "",
         "offsetgroup": "",
         "orientation": "v",
         "showlegend": false,
         "textposition": "auto",
         "type": "bar",
         "x": [
          "2000-04",
          "2000-05",
          "2000-06",
          "2000-07",
          "2000-08",
          "2000-09",
          "2000-10",
          "2000-11",
          "2000-12",
          "2001-01",
          "2001-02",
          "2001-03",
          "2001-04",
          "2001-05",
          "2001-06",
          "2001-07",
          "2001-08",
          "2001-09",
          "2001-10",
          "2001-11",
          "2001-12",
          "2002-01",
          "2002-02",
          "2002-03",
          "2002-04",
          "2002-05",
          "2002-06",
          "2002-07",
          "2002-08",
          "2002-09",
          "2002-10",
          "2002-11",
          "2002-12",
          "2003-01",
          "2003-02",
          "2003-03",
          "2003-04",
          "2003-05",
          "2003-06",
          "2003-07",
          "2003-08",
          "2003-09",
          "2003-10",
          "2003-11",
          "2003-12",
          "2004-01",
          "2004-02",
          "2004-03",
          "2004-04",
          "2004-05",
          "2004-06",
          "2004-07",
          "2004-08",
          "2004-09",
          "2004-10",
          "2004-11",
          "2004-12",
          "2005-01",
          "2005-02",
          "2005-03",
          "2005-04",
          "2005-05",
          "2005-06",
          "2005-07",
          "2005-08",
          "2005-09",
          "2005-10",
          "2005-11",
          "2005-12",
          "2006-01",
          "2006-02",
          "2006-03",
          "2006-04",
          "2006-05",
          "2006-06",
          "2006-07",
          "2006-08",
          "2006-09",
          "2006-10",
          "2006-11",
          "2006-12",
          "2007-01",
          "2007-02",
          "2007-03",
          "2007-04",
          "2007-05",
          "2007-06",
          "2007-07",
          "2007-08",
          "2007-09",
          "2007-10",
          "2007-11",
          "2007-12",
          "2008-01",
          "2008-02",
          "2008-03",
          "2008-04",
          "2008-05",
          "2008-06",
          "2008-07",
          "2008-08",
          "2008-09",
          "2008-10",
          "2008-11",
          "2008-12",
          "2009-01",
          "2009-02",
          "2009-03",
          "2009-04",
          "2009-05",
          "2009-06",
          "2009-07",
          "2009-08",
          "2009-09",
          "2009-10",
          "2009-11",
          "2009-12",
          "2010-01",
          "2010-02",
          "2010-03",
          "2010-04",
          "2010-05",
          "2010-06",
          "2010-07",
          "2010-08",
          "2010-09",
          "2010-10",
          "2010-11",
          "2010-12",
          "2011-01",
          "2011-02",
          "2011-03",
          "2011-04",
          "2011-05",
          "2011-06",
          "2011-07",
          "2011-08",
          "2011-09",
          "2011-10",
          "2011-11",
          "2011-12",
          "2012-01",
          "2012-02",
          "2012-03",
          "2012-04",
          "2012-05",
          "2012-06",
          "2012-07",
          "2012-08",
          "2012-09",
          "2012-10",
          "2012-11",
          "2012-12",
          "2013-01",
          "2013-02",
          "2013-03",
          "2013-04",
          "2013-05",
          "2013-06",
          "2013-07",
          "2013-08",
          "2013-09",
          "2013-10",
          "2013-11",
          "2013-12",
          "2014-01",
          "2014-02",
          "2014-03",
          "2014-04",
          "2014-05",
          "2014-06",
          "2014-07",
          "2014-08",
          "2014-09",
          "2014-10",
          "2014-11",
          "2014-12",
          "2015-01",
          "2015-02",
          "2015-03",
          "2015-04",
          "2015-05",
          "2015-06",
          "2015-07",
          "2015-08",
          "2015-09",
          "2015-10",
          "2015-11",
          "2015-12",
          "2016-01",
          "2016-02",
          "2016-03",
          "2016-04",
          "2016-05",
          "2016-06",
          "2016-07",
          "2016-08",
          "2016-09",
          "2016-10",
          "2016-11",
          "2016-12",
          "2017-01",
          "2017-02",
          "2017-03",
          "2017-04",
          "2017-05",
          "2017-06",
          "2017-07"
         ],
         "xaxis": "x",
         "y": [
          5.66,
          4.27,
          3.37,
          2.02,
          2.03,
          2.42,
          2.86,
          5.06,
          4.09,
          5.16,
          6.15,
          5.62,
          5.12,
          5.02,
          5.9,
          4.3,
          4.88,
          3.89,
          6.12,
          6.94,
          5.22,
          5.09,
          5.71,
          5.92,
          4.51,
          3.71,
          4.77,
          3.89,
          3.47,
          3.98,
          3.51,
          3.75,
          3.96,
          3.74,
          4.59,
          3.32,
          3.85,
          4.16,
          3.76,
          4.1,
          4.06,
          3.54,
          3.68,
          3.93,
          3.91,
          4.34,
          4.81,
          4.23,
          4.58,
          4.09,
          3.74,
          3.78,
          4.23,
          4.11,
          4.43,
          4.16,
          4.21,
          4.87,
          4.88,
          4.25,
          4.35,
          4.3,
          3.9,
          3.96,
          4.08,
          4.97,
          4.55,
          5.1,
          4.89,
          4.63,
          5.14,
          4.55,
          5.07,
          4.43,
          4.64,
          4.48,
          4.7,
          4.69,
          3.78,
          4.5,
          3.94,
          4.21,
          4.55,
          4.24,
          4.31,
          3.99,
          4.32,
          4.03,
          4.12,
          3.8,
          4.21,
          4.11,
          4.55,
          4.4,
          4.22,
          4.03,
          4.11,
          4.26,
          3.93,
          3.86,
          4.07,
          3.87,
          4.28,
          4.64,
          4.31,
          4.51,
          4.79,
          4.51,
          4.54,
          4.6,
          4.18,
          4.36,
          4.36,
          4.08,
          4.25,
          4.4,
          4.77,
          4.76,
          4.56,
          4.63,
          4.69,
          4.64,
          4.65,
          4.93,
          4.49,
          4.81,
          5.3,
          4.88,
          4.98,
          5.52,
          5.28,
          5.08,
          5.2,
          5.47,
          5.15,
          5.17,
          4.77,
          5,
          4.71,
          4.81,
          5.34,
          5.52,
          4.99,
          4.81,
          4.42,
          4.48,
          4.11,
          4.14,
          4.02,
          4.21,
          4.22,
          4.8,
          4.84,
          4.64,
          4.73,
          4.63,
          4.55,
          4.17,
          3.88,
          3.89,
          3.85,
          3.81,
          3.87,
          3.9,
          4.18,
          4.51,
          4.41,
          4.39,
          3.96,
          3.79,
          3.79,
          3.7,
          3.3,
          3.62,
          3.66,
          3.63,
          3.63,
          3.69,
          3.4,
          3.49,
          3.56,
          3.24,
          3.17,
          3.25,
          3.11,
          3.02,
          3.51,
          3.22,
          3.52,
          3.39,
          3.49,
          3.17,
          3.43,
          3.02,
          3.6,
          2.88,
          3.19,
          2.77,
          2.85,
          2.66,
          3.15,
          3.28,
          3.29,
          2.94,
          2.99,
          2.45,
          2.62,
          2.53
         ],
         "yaxis": "y"
        },
        {
         "line": {
          "color": "#f6111c"
         },
         "name": "Graph connecting <br> the bars",
         "type": "scatter",
         "x": [
          "2000-04",
          "2000-05",
          "2000-06",
          "2000-07",
          "2000-08",
          "2000-09",
          "2000-10",
          "2000-11",
          "2000-12",
          "2001-01",
          "2001-02",
          "2001-03",
          "2001-04",
          "2001-05",
          "2001-06",
          "2001-07",
          "2001-08",
          "2001-09",
          "2001-10",
          "2001-11",
          "2001-12",
          "2002-01",
          "2002-02",
          "2002-03",
          "2002-04",
          "2002-05",
          "2002-06",
          "2002-07",
          "2002-08",
          "2002-09",
          "2002-10",
          "2002-11",
          "2002-12",
          "2003-01",
          "2003-02",
          "2003-03",
          "2003-04",
          "2003-05",
          "2003-06",
          "2003-07",
          "2003-08",
          "2003-09",
          "2003-10",
          "2003-11",
          "2003-12",
          "2004-01",
          "2004-02",
          "2004-03",
          "2004-04",
          "2004-05",
          "2004-06",
          "2004-07",
          "2004-08",
          "2004-09",
          "2004-10",
          "2004-11",
          "2004-12",
          "2005-01",
          "2005-02",
          "2005-03",
          "2005-04",
          "2005-05",
          "2005-06",
          "2005-07",
          "2005-08",
          "2005-09",
          "2005-10",
          "2005-11",
          "2005-12",
          "2006-01",
          "2006-02",
          "2006-03",
          "2006-04",
          "2006-05",
          "2006-06",
          "2006-07",
          "2006-08",
          "2006-09",
          "2006-10",
          "2006-11",
          "2006-12",
          "2007-01",
          "2007-02",
          "2007-03",
          "2007-04",
          "2007-05",
          "2007-06",
          "2007-07",
          "2007-08",
          "2007-09",
          "2007-10",
          "2007-11",
          "2007-12",
          "2008-01",
          "2008-02",
          "2008-03",
          "2008-04",
          "2008-05",
          "2008-06",
          "2008-07",
          "2008-08",
          "2008-09",
          "2008-10",
          "2008-11",
          "2008-12",
          "2009-01",
          "2009-02",
          "2009-03",
          "2009-04",
          "2009-05",
          "2009-06",
          "2009-07",
          "2009-08",
          "2009-09",
          "2009-10",
          "2009-11",
          "2009-12",
          "2010-01",
          "2010-02",
          "2010-03",
          "2010-04",
          "2010-05",
          "2010-06",
          "2010-07",
          "2010-08",
          "2010-09",
          "2010-10",
          "2010-11",
          "2010-12",
          "2011-01",
          "2011-02",
          "2011-03",
          "2011-04",
          "2011-05",
          "2011-06",
          "2011-07",
          "2011-08",
          "2011-09",
          "2011-10",
          "2011-11",
          "2011-12",
          "2012-01",
          "2012-02",
          "2012-03",
          "2012-04",
          "2012-05",
          "2012-06",
          "2012-07",
          "2012-08",
          "2012-09",
          "2012-10",
          "2012-11",
          "2012-12",
          "2013-01",
          "2013-02",
          "2013-03",
          "2013-04",
          "2013-05",
          "2013-06",
          "2013-07",
          "2013-08",
          "2013-09",
          "2013-10",
          "2013-11",
          "2013-12",
          "2014-01",
          "2014-02",
          "2014-03",
          "2014-04",
          "2014-05",
          "2014-06",
          "2014-07",
          "2014-08",
          "2014-09",
          "2014-10",
          "2014-11",
          "2014-12",
          "2015-01",
          "2015-02",
          "2015-03",
          "2015-04",
          "2015-05",
          "2015-06",
          "2015-07",
          "2015-08",
          "2015-09",
          "2015-10",
          "2015-11",
          "2015-12",
          "2016-01",
          "2016-02",
          "2016-03",
          "2016-04",
          "2016-05",
          "2016-06",
          "2016-07",
          "2016-08",
          "2016-09",
          "2016-10",
          "2016-11",
          "2016-12",
          "2017-01",
          "2017-02",
          "2017-03",
          "2017-04",
          "2017-05",
          "2017-06",
          "2017-07"
         ],
         "y": [
          5.66,
          4.27,
          3.37,
          2.02,
          2.03,
          2.42,
          2.86,
          5.06,
          4.09,
          5.16,
          6.15,
          5.62,
          5.12,
          5.02,
          5.9,
          4.3,
          4.88,
          3.89,
          6.12,
          6.94,
          5.22,
          5.09,
          5.71,
          5.92,
          4.51,
          3.71,
          4.77,
          3.89,
          3.47,
          3.98,
          3.51,
          3.75,
          3.96,
          3.74,
          4.59,
          3.32,
          3.85,
          4.16,
          3.76,
          4.1,
          4.06,
          3.54,
          3.68,
          3.93,
          3.91,
          4.34,
          4.81,
          4.23,
          4.58,
          4.09,
          3.74,
          3.78,
          4.23,
          4.11,
          4.43,
          4.16,
          4.21,
          4.87,
          4.88,
          4.25,
          4.35,
          4.3,
          3.9,
          3.96,
          4.08,
          4.97,
          4.55,
          5.1,
          4.89,
          4.63,
          5.14,
          4.55,
          5.07,
          4.43,
          4.64,
          4.48,
          4.7,
          4.69,
          3.78,
          4.5,
          3.94,
          4.21,
          4.55,
          4.24,
          4.31,
          3.99,
          4.32,
          4.03,
          4.12,
          3.8,
          4.21,
          4.11,
          4.55,
          4.4,
          4.22,
          4.03,
          4.11,
          4.26,
          3.93,
          3.86,
          4.07,
          3.87,
          4.28,
          4.64,
          4.31,
          4.51,
          4.79,
          4.51,
          4.54,
          4.6,
          4.18,
          4.36,
          4.36,
          4.08,
          4.25,
          4.4,
          4.77,
          4.76,
          4.56,
          4.63,
          4.69,
          4.64,
          4.65,
          4.93,
          4.49,
          4.81,
          5.3,
          4.88,
          4.98,
          5.52,
          5.28,
          5.08,
          5.2,
          5.47,
          5.15,
          5.17,
          4.77,
          5,
          4.71,
          4.81,
          5.34,
          5.52,
          4.99,
          4.81,
          4.42,
          4.48,
          4.11,
          4.14,
          4.02,
          4.21,
          4.22,
          4.8,
          4.84,
          4.64,
          4.73,
          4.63,
          4.55,
          4.17,
          3.88,
          3.89,
          3.85,
          3.81,
          3.87,
          3.9,
          4.18,
          4.51,
          4.41,
          4.39,
          3.96,
          3.79,
          3.79,
          3.7,
          3.3,
          3.62,
          3.66,
          3.63,
          3.63,
          3.69,
          3.4,
          3.49,
          3.56,
          3.24,
          3.17,
          3.25,
          3.11,
          3.02,
          3.51,
          3.22,
          3.52,
          3.39,
          3.49,
          3.17,
          3.43,
          3.02,
          3.6,
          2.88,
          3.19,
          2.77,
          2.85,
          2.66,
          3.15,
          3.28,
          3.29,
          2.94,
          2.99,
          2.45,
          2.62,
          2.53
         ]
        },
        {
         "line": {
          "color": "#05e80d"
         },
         "name": "Interpolation <br> degree 14",
         "type": "scatter",
         "x": [
          "2000-04",
          "2000-05",
          "2000-06",
          "2000-07",
          "2000-08",
          "2000-09",
          "2000-10",
          "2000-11",
          "2000-12",
          "2001-01",
          "2001-02",
          "2001-03",
          "2001-04",
          "2001-05",
          "2001-06",
          "2001-07",
          "2001-08",
          "2001-09",
          "2001-10",
          "2001-11",
          "2001-12",
          "2002-01",
          "2002-02",
          "2002-03",
          "2002-04",
          "2002-05",
          "2002-06",
          "2002-07",
          "2002-08",
          "2002-09",
          "2002-10",
          "2002-11",
          "2002-12",
          "2003-01",
          "2003-02",
          "2003-03",
          "2003-04",
          "2003-05",
          "2003-06",
          "2003-07",
          "2003-08",
          "2003-09",
          "2003-10",
          "2003-11",
          "2003-12",
          "2004-01",
          "2004-02",
          "2004-03",
          "2004-04",
          "2004-05",
          "2004-06",
          "2004-07",
          "2004-08",
          "2004-09",
          "2004-10",
          "2004-11",
          "2004-12",
          "2005-01",
          "2005-02",
          "2005-03",
          "2005-04",
          "2005-05",
          "2005-06",
          "2005-07",
          "2005-08",
          "2005-09",
          "2005-10",
          "2005-11",
          "2005-12",
          "2006-01",
          "2006-02",
          "2006-03",
          "2006-04",
          "2006-05",
          "2006-06",
          "2006-07",
          "2006-08",
          "2006-09",
          "2006-10",
          "2006-11",
          "2006-12",
          "2007-01",
          "2007-02",
          "2007-03",
          "2007-04",
          "2007-05",
          "2007-06",
          "2007-07",
          "2007-08",
          "2007-09",
          "2007-10",
          "2007-11",
          "2007-12",
          "2008-01",
          "2008-02",
          "2008-03",
          "2008-04",
          "2008-05",
          "2008-06",
          "2008-07",
          "2008-08",
          "2008-09",
          "2008-10",
          "2008-11",
          "2008-12",
          "2009-01",
          "2009-02",
          "2009-03",
          "2009-04",
          "2009-05",
          "2009-06",
          "2009-07",
          "2009-08",
          "2009-09",
          "2009-10",
          "2009-11",
          "2009-12",
          "2010-01",
          "2010-02",
          "2010-03",
          "2010-04",
          "2010-05",
          "2010-06",
          "2010-07",
          "2010-08",
          "2010-09",
          "2010-10",
          "2010-11",
          "2010-12",
          "2011-01",
          "2011-02",
          "2011-03",
          "2011-04",
          "2011-05",
          "2011-06",
          "2011-07",
          "2011-08",
          "2011-09",
          "2011-10",
          "2011-11",
          "2011-12",
          "2012-01",
          "2012-02",
          "2012-03",
          "2012-04",
          "2012-05",
          "2012-06",
          "2012-07",
          "2012-08",
          "2012-09",
          "2012-10",
          "2012-11",
          "2012-12",
          "2013-01",
          "2013-02",
          "2013-03",
          "2013-04",
          "2013-05",
          "2013-06",
          "2013-07",
          "2013-08",
          "2013-09",
          "2013-10",
          "2013-11",
          "2013-12",
          "2014-01",
          "2014-02",
          "2014-03",
          "2014-04",
          "2014-05",
          "2014-06",
          "2014-07",
          "2014-08",
          "2014-09",
          "2014-10",
          "2014-11",
          "2014-12",
          "2015-01",
          "2015-02",
          "2015-03",
          "2015-04",
          "2015-05",
          "2015-06",
          "2015-07",
          "2015-08",
          "2015-09",
          "2015-10",
          "2015-11",
          "2015-12",
          "2016-01",
          "2016-02",
          "2016-03",
          "2016-04",
          "2016-05",
          "2016-06",
          "2016-07",
          "2016-08",
          "2016-09",
          "2016-10",
          "2016-11",
          "2016-12",
          "2017-01",
          "2017-02",
          "2017-03",
          "2017-04",
          "2017-05",
          "2017-06",
          "2017-07"
         ],
         "y": [
          5.500170334100408,
          3.9816300046703765,
          3.1331176410410473,
          2.7706465384812327,
          2.7474927040709156,
          2.9482363282273165,
          3.283578168322588,
          3.685848008581644,
          4.105129630283037,
          4.505933477846025,
          4.864354469069359,
          5.165658199708138,
          5.402244160609586,
          5.571939545450832,
          5.676581803243904,
          5.720852305583209,
          5.711327376408538,
          5.655716493092685,
          5.562260732171019,
          5.439267520265956,
          5.294760479027703,
          5.1362256396125066,
          4.970437563861226,
          4.803350961590498,
          4.64004525111869,
          4.484711187370228,
          4.340670191946954,
          4.21041837499188,
          4.09568845137447,
          3.9975238348960036,
          3.9163601544054965,
          3.8521102848618156,
          3.8042497338126156,
          3.7718998782704505,
          3.753907116739783,
          3.7489164939434976,
          3.755438778740092,
          3.7719103356320627,
          3.796745433304915,
          3.8283808857560686,
          3.8653131280785695,
          3.9061279950049212,
          3.949523600415538,
          3.9943268146079065,
          4.039503907036734,
          4.0841659692213454,
          4.127569758832308,
          4.169114614688543,
          4.20833608635363,
          4.244896903589676,
          4.278575882595049,
          4.309255329600776,
          4.336907459924833,
          4.361580303676415,
          4.383383519439266,
          4.402474485500155,
          4.4190449859196415,
          4.433308757013322,
          4.445490108876516,
          4.455813787833371,
          4.464496199530748,
          4.471738068661967,
          4.477718571544919,
          4.48259094113995,
          4.4864795115207174,
          4.48947813987181,
          4.491649919665229,
          4.493028077522544,
          4.493617929548957,
          4.493399759899087,
          4.492332475052617,
          4.490357880846853,
          4.487405427520817,
          4.483397267729503,
          4.478253476135542,
          4.471897284591265,
          4.464260195437959,
          4.4552868451845224,
          4.444939501410298,
          4.433202091394439,
          4.420083672170397,
          4.405621268567847,
          4.389882020135497,
          4.372964595068504,
          4.354999843410689,
          4.336150679042036,
          4.316611193295084,
          4.296605019611824,
          4.276382981530422,
          4.256220069296442,
          4.236411800411706,
          4.217270034054857,
          4.199118313987963,
          4.182286823533409,
          4.167107046695809,
          4.153906223853079,
          4.143001707801919,
          4.1346953125510595,
          4.1292677587252715,
          4.126973312927685,
          4.128034714394946,
          4.13263847704769,
          4.14093066108574,
          4.15301317569504,
          4.168940697327746,
          4.188718253231972,
          4.212299525516835,
          4.239585909179753,
          4.270426361269241,
          4.304618041508538,
          4.341907762999176,
          4.381994236398734,
          4.42453108356347,
          4.4691305964878865,
          4.5153681832522565,
          4.562787460175384,
          4.610905911650683,
          4.659221043472765,
          4.707216939703427,
          4.754371157992057,
          4.800161813756774,
          4.844074787492042,
          4.885610942858115,
          4.92429322903461,
          4.959673562163017,
          4.991339383586224,
          5.018919772756437,
          5.042091031335115,
          5.060581605804264,
          5.074176307353301,
          5.082719682555306,
          5.086118538747256,
          5.084343491207618,
          5.0774295426423866,
          5.065475623179678,
          5.048643103888242,
          5.0271532579895295,
          5.001283698380037,
          4.9713638308925905,
          4.937769355152825,
          4.900915905432164,
          4.861251891063678,
          4.819250656808631,
          4.775402079070509,
          4.730203737570581,
          4.6841517579334,
          4.637731610880295,
          4.591408851659773,
          4.54562016201129,
          4.500764699974999,
          4.457196165740463,
          4.415215481861173,
          4.375064531857778,
          4.33692093167039,
          4.300894211970463,
          4.267023218911928,
          4.235275290416347,
          4.205546930407589,
          4.1776662469570605,
          4.1513972535800105,
          4.126445843646114,
          4.10246761967523,
          4.079077479424386,
          4.055860527324272,
          4.032384737089299,
          4.008214660192479,
          3.9829260513758484,
          3.956121417628934,
          3.927445355865669,
          3.8966004406311616,
          3.8633619197368034,
          3.8275917490655207,
          3.7892509131390444,
          3.748409486039083,
          3.705254187223604,
          3.6600924115934856,
          3.6133526597024614,
          3.565580067227362,
          3.517427688618268,
          3.469641886359116,
          3.4230422363894313,
          3.378495666101991,
          3.336884566570803,
          3.2990691820355726,
          3.265845018581321,
          3.237895105495644,
          3.2157393270488264,
          3.1996813986122925,
          3.1897563697888396,
          3.1856800644138135,
          3.1868048152783617,
          3.192085329390098,
          3.2000580925250164,
          3.2088419766580687,
          3.2161663076407345,
          3.219433160555429,
          3.215825871898277,
          3.2024713938246103,
          3.1766722957433577,
          3.1362210976515934,
          3.0798132594521137,
          3.0075780917661747,
          2.9217502686635326,
          2.827501588784141,
          2.73396559160759,
          2.6554811031722787,
          2.613089148093703,
          2.6363222459238345
         ]
        },
        {
         "line": {
          "color": "#101211"
         },
         "name": "unemployment <br> rate",
         "type": "scatter",
         "x": [
          "2000-04",
          "2000-05",
          "2000-06",
          "2000-07",
          "2000-08",
          "2000-09",
          "2000-10",
          "2000-11",
          "2000-12",
          "2001-01",
          "2001-02",
          "2001-03",
          "2001-04",
          "2001-05",
          "2001-06",
          "2001-07",
          "2001-08",
          "2001-09",
          "2001-10",
          "2001-11",
          "2001-12",
          "2002-01",
          "2002-02",
          "2002-03",
          "2002-04",
          "2002-05",
          "2002-06",
          "2002-07",
          "2002-08",
          "2002-09",
          "2002-10",
          "2002-11",
          "2002-12",
          "2003-01",
          "2003-02",
          "2003-03",
          "2003-04",
          "2003-05",
          "2003-06",
          "2003-07",
          "2003-08",
          "2003-09",
          "2003-10",
          "2003-11",
          "2003-12",
          "2004-01",
          "2004-02",
          "2004-03",
          "2004-04",
          "2004-05",
          "2004-06",
          "2004-07",
          "2004-08",
          "2004-09",
          "2004-10",
          "2004-11",
          "2004-12",
          "2005-01",
          "2005-02",
          "2005-03",
          "2005-04",
          "2005-05",
          "2005-06",
          "2005-07",
          "2005-08",
          "2005-09",
          "2005-10",
          "2005-11",
          "2005-12",
          "2006-01",
          "2006-02",
          "2006-03",
          "2006-04",
          "2006-05",
          "2006-06",
          "2006-07",
          "2006-08",
          "2006-09",
          "2006-10",
          "2006-11",
          "2006-12",
          "2007-01",
          "2007-02",
          "2007-03",
          "2007-04",
          "2007-05",
          "2007-06",
          "2007-07",
          "2007-08",
          "2007-09",
          "2007-10",
          "2007-11",
          "2007-12",
          "2008-01",
          "2008-02",
          "2008-03",
          "2008-04",
          "2008-05",
          "2008-06",
          "2008-07",
          "2008-08",
          "2008-09",
          "2008-10",
          "2008-11",
          "2008-12",
          "2009-01",
          "2009-02",
          "2009-03",
          "2009-04",
          "2009-05",
          "2009-06",
          "2009-07",
          "2009-08",
          "2009-09",
          "2009-10",
          "2009-11",
          "2009-12",
          "2010-01",
          "2010-02",
          "2010-03",
          "2010-04",
          "2010-05",
          "2010-06",
          "2010-07",
          "2010-08",
          "2010-09",
          "2010-10",
          "2010-11",
          "2010-12",
          "2011-01",
          "2011-02",
          "2011-03",
          "2011-04",
          "2011-05",
          "2011-06",
          "2011-07",
          "2011-08",
          "2011-09",
          "2011-10",
          "2011-11",
          "2011-12",
          "2012-01",
          "2012-02",
          "2012-03",
          "2012-04",
          "2012-05",
          "2012-06",
          "2012-07",
          "2012-08",
          "2012-09",
          "2012-10",
          "2012-11",
          "2012-12",
          "2013-01",
          "2013-02",
          "2013-03",
          "2013-04",
          "2013-05",
          "2013-06",
          "2013-07",
          "2013-08",
          "2013-09",
          "2013-10",
          "2013-11",
          "2013-12",
          "2014-01",
          "2014-02",
          "2014-03",
          "2014-04",
          "2014-05",
          "2014-06",
          "2014-07",
          "2014-08",
          "2014-09",
          "2014-10",
          "2014-11",
          "2014-12",
          "2015-01",
          "2015-02",
          "2015-03",
          "2015-04",
          "2015-05",
          "2015-06",
          "2015-07",
          "2015-08",
          "2015-09",
          "2015-10",
          "2015-11",
          "2015-12",
          "2016-01",
          "2016-02",
          "2016-03",
          "2016-04",
          "2016-05",
          "2016-06",
          "2016-07",
          "2016-08",
          "2016-09",
          "2016-10",
          "2016-11",
          "2016-12",
          "2017-01",
          "2017-02",
          "2017-03",
          "2017-04",
          "2017-05",
          "2017-06",
          "2017-07"
         ],
         "y": [
          3.5313375488007908,
          4.029855259470834,
          4.161253021082858,
          4.110934325377262,
          3.9970795322758503,
          3.889695397452656,
          3.825280680814012,
          3.817941879761727,
          3.8676608746150856,
          3.9663015365097865,
          4.101843196907622,
          4.261243555422688,
          4.43226051519822,
          4.604500139717858,
          4.769905118228415,
          4.922853633864122,
          5.060001292310373,
          5.1799678412909484,
          5.282944943865334,
          5.370280504342779,
          5.44407831089492,
          5.50683845619465,
          5.561153598505809,
          5.609468165531919,
          5.653901674075714,
          5.696133083969059,
          5.737340215241269,
          5.778186465510903,
          5.818846140187402,
          5.859059455011023,
          5.898208522468469,
          5.93540625114146,
          5.969590954053102,
          5.999620483262014,
          6.024360806268627,
          6.042765053991699,
          6.053940152554423,
          6.057199166239576,
          6.052098400929072,
          6.038459129199067,
          6.016374489574359,
          5.986202679420707,
          5.948548004027403,
          5.904231667640743,
          5.854254403607948,
          5.799753148698622,
          5.741953983382414,
          5.682123496001804,
          5.621520598350342,
          5.561350633602128,
          5.502723389680416,
          5.446616372259142,
          5.393844411925393,
          5.345036393134949,
          5.300619603477078,
          5.260811922122002,
          5.225621801117095,
          5.194855748602705,
          5.16813280636271,
          5.144905321804011,
          5.124485161692398,
          5.106074387076494,
          5.088799323246668,
          5.07174690093491,
          5.05400212112775,
          5.034685511021031,
          5.012989466799102,
          4.988212451953849,
          4.959790107444389,
          4.927322425203664,
          4.890596281967871,
          4.849602745937876,
          4.804548730974341,
          4.755862712130774,
          4.704194375239793,
          4.650408226970644,
          4.5955713305840415,
          4.540935463928461,
          4.487914163772144,
          4.438055158864375,
          4.393008890574235,
          4.354493799622492,
          4.324259234340815,
          4.304046747985283,
          4.2955507478644215,
          4.300379292430331,
          4.320015949235917,
          4.355783571717334,
          4.408810730038569,
          4.480001594893309,
          4.5700099388256845,
          4.679217734228143,
          4.8077189505375895,
          4.955308845353512,
          5.1214789939338,
          5.305418238794965,
          5.506019528811178,
          5.721892622183712,
          5.951382288126702,
          6.192591855695975,
          6.443411530664207,
          6.701551038302499,
          6.964575901477019,
          7.229946686067238,
          7.495060582174984,
          7.757294252172983,
          8.014047414456355,
          8.262786192331298,
          8.501085256391852,
          8.726668190485626,
          8.93744521185874,
          9.13154741639442,
          9.307356823298845,
          9.463532062090495,
          9.599028413327384,
          9.713112822403868,
          9.80537247845756,
          9.875717687277586,
          9.924378274279697,
          9.951894591220444,
          9.959101707238364,
          9.94710868379973,
          9.917272277944182,
          9.871166334190404,
          9.81054719936207,
          9.737314824704953,
          9.653472983687244,
          9.561086080434752,
          9.46223697639479,
          9.358982831845609,
          9.253314116637124,
          9.14711362339568,
          9.042119897575846,
          8.939893307116025,
          8.841787392309866,
          8.74892386713393,
          8.66217478164024,
          8.582150240037748,
          8.509192518649646,
          8.443377088879762,
          8.384518056332523,
          8.332185172853615,
          8.285720643253686,
          8.244267413789558,
          8.206798009499236,
          8.172150306703543,
          8.139067607394637,
          8.106237912231403,
          8.072337966946336,
          8.036073964285173,
          7.996226700346783,
          7.951689359366226,
          7.9015040249389745,
          7.84489186236322,
          7.781283322127757,
          7.710337954482798,
          7.631949218478926,
          7.546259532321303,
          7.453648707692027,
          7.354727957257008,
          7.250313077910446,
          7.141404737069284,
          7.02913957311988,
          6.914767446872343,
          6.799587761965528,
          6.684910380063137,
          6.5719982172246425,
          6.4620194128,
          6.356004633737593,
          6.254795714048827,
          6.159009151733343,
          6.06901976628791,
          5.984934089206291,
          5.906594937334046,
          5.833595227354147,
          5.765289672965899,
          5.700858666755719,
          5.639334992517805,
          5.579723170752011,
          5.521008459712029,
          5.462309457492331,
          5.402907934675519,
          5.342386327229849,
          5.280653366297116,
          5.218046077518325,
          5.155312385533847,
          5.09363756811017,
          5.03459271265635,
          4.980060554219161,
          4.932029069927827,
          4.8924560952923,
          4.862979510400496,
          4.844619589396784,
          4.837478499323105,
          4.840353787315639,
          4.850507896692282,
          4.863491878110441,
          4.873024958902617,
          4.871347831087185,
          4.849955543861061,
          4.800672221496489,
          4.717922829787274,
          4.601755929538059,
          4.462404064437658,
          4.326682775799245,
          4.2466864642121855,
          4.311157740852933,
          4.660965363746424
         ]
        }
       ],
       "layout": {
        "autosize": false,
        "barmode": "relative",
        "height": 600,
        "legend": {
         "tracegroupgap": 0
        },
        "margin": {
         "l": 30,
         "r": 190,
         "t": 60
        },
        "paper_bgcolor": "rgba(0,0,0,0)",
        "template": {
         "data": {
          "bar": [
           {
            "error_x": {
             "color": "#2a3f5f"
            },
            "error_y": {
             "color": "#2a3f5f"
            },
            "marker": {
             "line": {
              "color": "#E5ECF6",
              "width": 0.5
             },
             "pattern": {
              "fillmode": "overlay",
              "size": 10,
              "solidity": 0.2
             }
            },
            "type": "bar"
           }
          ],
          "barpolar": [
           {
            "marker": {
             "line": {
              "color": "#E5ECF6",
              "width": 0.5
             },
             "pattern": {
              "fillmode": "overlay",
              "size": 10,
              "solidity": 0.2
             }
            },
            "type": "barpolar"
           }
          ],
          "carpet": [
           {
            "aaxis": {
             "endlinecolor": "#2a3f5f",
             "gridcolor": "white",
             "linecolor": "white",
             "minorgridcolor": "white",
             "startlinecolor": "#2a3f5f"
            },
            "baxis": {
             "endlinecolor": "#2a3f5f",
             "gridcolor": "white",
             "linecolor": "white",
             "minorgridcolor": "white",
             "startlinecolor": "#2a3f5f"
            },
            "type": "carpet"
           }
          ],
          "choropleth": [
           {
            "colorbar": {
             "outlinewidth": 0,
             "ticks": ""
            },
            "type": "choropleth"
           }
          ],
          "contour": [
           {
            "colorbar": {
             "outlinewidth": 0,
             "ticks": ""
            },
            "colorscale": [
             [
              0,
              "#0d0887"
             ],
             [
              0.1111111111111111,
              "#46039f"
             ],
             [
              0.2222222222222222,
              "#7201a8"
             ],
             [
              0.3333333333333333,
              "#9c179e"
             ],
             [
              0.4444444444444444,
              "#bd3786"
             ],
             [
              0.5555555555555556,
              "#d8576b"
             ],
             [
              0.6666666666666666,
              "#ed7953"
             ],
             [
              0.7777777777777778,
              "#fb9f3a"
             ],
             [
              0.8888888888888888,
              "#fdca26"
             ],
             [
              1,
              "#f0f921"
             ]
            ],
            "type": "contour"
           }
          ],
          "contourcarpet": [
           {
            "colorbar": {
             "outlinewidth": 0,
             "ticks": ""
            },
            "type": "contourcarpet"
           }
          ],
          "heatmap": [
           {
            "colorbar": {
             "outlinewidth": 0,
             "ticks": ""
            },
            "colorscale": [
             [
              0,
              "#0d0887"
             ],
             [
              0.1111111111111111,
              "#46039f"
             ],
             [
              0.2222222222222222,
              "#7201a8"
             ],
             [
              0.3333333333333333,
              "#9c179e"
             ],
             [
              0.4444444444444444,
              "#bd3786"
             ],
             [
              0.5555555555555556,
              "#d8576b"
             ],
             [
              0.6666666666666666,
              "#ed7953"
             ],
             [
              0.7777777777777778,
              "#fb9f3a"
             ],
             [
              0.8888888888888888,
              "#fdca26"
             ],
             [
              1,
              "#f0f921"
             ]
            ],
            "type": "heatmap"
           }
          ],
          "heatmapgl": [
           {
            "colorbar": {
             "outlinewidth": 0,
             "ticks": ""
            },
            "colorscale": [
             [
              0,
              "#0d0887"
             ],
             [
              0.1111111111111111,
              "#46039f"
             ],
             [
              0.2222222222222222,
              "#7201a8"
             ],
             [
              0.3333333333333333,
              "#9c179e"
             ],
             [
              0.4444444444444444,
              "#bd3786"
             ],
             [
              0.5555555555555556,
              "#d8576b"
             ],
             [
              0.6666666666666666,
              "#ed7953"
             ],
             [
              0.7777777777777778,
              "#fb9f3a"
             ],
             [
              0.8888888888888888,
              "#fdca26"
             ],
             [
              1,
              "#f0f921"
             ]
            ],
            "type": "heatmapgl"
           }
          ],
          "histogram": [
           {
            "marker": {
             "pattern": {
              "fillmode": "overlay",
              "size": 10,
              "solidity": 0.2
             }
            },
            "type": "histogram"
           }
          ],
          "histogram2d": [
           {
            "colorbar": {
             "outlinewidth": 0,
             "ticks": ""
            },
            "colorscale": [
             [
              0,
              "#0d0887"
             ],
             [
              0.1111111111111111,
              "#46039f"
             ],
             [
              0.2222222222222222,
              "#7201a8"
             ],
             [
              0.3333333333333333,
              "#9c179e"
             ],
             [
              0.4444444444444444,
              "#bd3786"
             ],
             [
              0.5555555555555556,
              "#d8576b"
             ],
             [
              0.6666666666666666,
              "#ed7953"
             ],
             [
              0.7777777777777778,
              "#fb9f3a"
             ],
             [
              0.8888888888888888,
              "#fdca26"
             ],
             [
              1,
              "#f0f921"
             ]
            ],
            "type": "histogram2d"
           }
          ],
          "histogram2dcontour": [
           {
            "colorbar": {
             "outlinewidth": 0,
             "ticks": ""
            },
            "colorscale": [
             [
              0,
              "#0d0887"
             ],
             [
              0.1111111111111111,
              "#46039f"
             ],
             [
              0.2222222222222222,
              "#7201a8"
             ],
             [
              0.3333333333333333,
              "#9c179e"
             ],
             [
              0.4444444444444444,
              "#bd3786"
             ],
             [
              0.5555555555555556,
              "#d8576b"
             ],
             [
              0.6666666666666666,
              "#ed7953"
             ],
             [
              0.7777777777777778,
              "#fb9f3a"
             ],
             [
              0.8888888888888888,
              "#fdca26"
             ],
             [
              1,
              "#f0f921"
             ]
            ],
            "type": "histogram2dcontour"
           }
          ],
          "mesh3d": [
           {
            "colorbar": {
             "outlinewidth": 0,
             "ticks": ""
            },
            "type": "mesh3d"
           }
          ],
          "parcoords": [
           {
            "line": {
             "colorbar": {
              "outlinewidth": 0,
              "ticks": ""
             }
            },
            "type": "parcoords"
           }
          ],
          "pie": [
           {
            "automargin": true,
            "type": "pie"
           }
          ],
          "scatter": [
           {
            "fillpattern": {
             "fillmode": "overlay",
             "size": 10,
             "solidity": 0.2
            },
            "type": "scatter"
           }
          ],
          "scatter3d": [
           {
            "line": {
             "colorbar": {
              "outlinewidth": 0,
              "ticks": ""
             }
            },
            "marker": {
             "colorbar": {
              "outlinewidth": 0,
              "ticks": ""
             }
            },
            "type": "scatter3d"
           }
          ],
          "scattercarpet": [
           {
            "marker": {
             "colorbar": {
              "outlinewidth": 0,
              "ticks": ""
             }
            },
            "type": "scattercarpet"
           }
          ],
          "scattergeo": [
           {
            "marker": {
             "colorbar": {
              "outlinewidth": 0,
              "ticks": ""
             }
            },
            "type": "scattergeo"
           }
          ],
          "scattergl": [
           {
            "marker": {
             "colorbar": {
              "outlinewidth": 0,
              "ticks": ""
             }
            },
            "type": "scattergl"
           }
          ],
          "scattermapbox": [
           {
            "marker": {
             "colorbar": {
              "outlinewidth": 0,
              "ticks": ""
             }
            },
            "type": "scattermapbox"
           }
          ],
          "scatterpolar": [
           {
            "marker": {
             "colorbar": {
              "outlinewidth": 0,
              "ticks": ""
             }
            },
            "type": "scatterpolar"
           }
          ],
          "scatterpolargl": [
           {
            "marker": {
             "colorbar": {
              "outlinewidth": 0,
              "ticks": ""
             }
            },
            "type": "scatterpolargl"
           }
          ],
          "scatterternary": [
           {
            "marker": {
             "colorbar": {
              "outlinewidth": 0,
              "ticks": ""
             }
            },
            "type": "scatterternary"
           }
          ],
          "surface": [
           {
            "colorbar": {
             "outlinewidth": 0,
             "ticks": ""
            },
            "colorscale": [
             [
              0,
              "#0d0887"
             ],
             [
              0.1111111111111111,
              "#46039f"
             ],
             [
              0.2222222222222222,
              "#7201a8"
             ],
             [
              0.3333333333333333,
              "#9c179e"
             ],
             [
              0.4444444444444444,
              "#bd3786"
             ],
             [
              0.5555555555555556,
              "#d8576b"
             ],
             [
              0.6666666666666666,
              "#ed7953"
             ],
             [
              0.7777777777777778,
              "#fb9f3a"
             ],
             [
              0.8888888888888888,
              "#fdca26"
             ],
             [
              1,
              "#f0f921"
             ]
            ],
            "type": "surface"
           }
          ],
          "table": [
           {
            "cells": {
             "fill": {
              "color": "#EBF0F8"
             },
             "line": {
              "color": "white"
             }
            },
            "header": {
             "fill": {
              "color": "#C8D4E3"
             },
             "line": {
              "color": "white"
             }
            },
            "type": "table"
           }
          ]
         },
         "layout": {
          "annotationdefaults": {
           "arrowcolor": "#2a3f5f",
           "arrowhead": 0,
           "arrowwidth": 1
          },
          "autotypenumbers": "strict",
          "coloraxis": {
           "colorbar": {
            "outlinewidth": 0,
            "ticks": ""
           }
          },
          "colorscale": {
           "diverging": [
            [
             0,
             "#8e0152"
            ],
            [
             0.1,
             "#c51b7d"
            ],
            [
             0.2,
             "#de77ae"
            ],
            [
             0.3,
             "#f1b6da"
            ],
            [
             0.4,
             "#fde0ef"
            ],
            [
             0.5,
             "#f7f7f7"
            ],
            [
             0.6,
             "#e6f5d0"
            ],
            [
             0.7,
             "#b8e186"
            ],
            [
             0.8,
             "#7fbc41"
            ],
            [
             0.9,
             "#4d9221"
            ],
            [
             1,
             "#276419"
            ]
           ],
           "sequential": [
            [
             0,
             "#0d0887"
            ],
            [
             0.1111111111111111,
             "#46039f"
            ],
            [
             0.2222222222222222,
             "#7201a8"
            ],
            [
             0.3333333333333333,
             "#9c179e"
            ],
            [
             0.4444444444444444,
             "#bd3786"
            ],
            [
             0.5555555555555556,
             "#d8576b"
            ],
            [
             0.6666666666666666,
             "#ed7953"
            ],
            [
             0.7777777777777778,
             "#fb9f3a"
            ],
            [
             0.8888888888888888,
             "#fdca26"
            ],
            [
             1,
             "#f0f921"
            ]
           ],
           "sequentialminus": [
            [
             0,
             "#0d0887"
            ],
            [
             0.1111111111111111,
             "#46039f"
            ],
            [
             0.2222222222222222,
             "#7201a8"
            ],
            [
             0.3333333333333333,
             "#9c179e"
            ],
            [
             0.4444444444444444,
             "#bd3786"
            ],
            [
             0.5555555555555556,
             "#d8576b"
            ],
            [
             0.6666666666666666,
             "#ed7953"
            ],
            [
             0.7777777777777778,
             "#fb9f3a"
            ],
            [
             0.8888888888888888,
             "#fdca26"
            ],
            [
             1,
             "#f0f921"
            ]
           ]
          },
          "colorway": [
           "#636efa",
           "#EF553B",
           "#00cc96",
           "#ab63fa",
           "#FFA15A",
           "#19d3f3",
           "#FF6692",
           "#B6E880",
           "#FF97FF",
           "#FECB52"
          ],
          "font": {
           "color": "#2a3f5f"
          },
          "geo": {
           "bgcolor": "white",
           "lakecolor": "white",
           "landcolor": "#E5ECF6",
           "showlakes": true,
           "showland": true,
           "subunitcolor": "white"
          },
          "hoverlabel": {
           "align": "left"
          },
          "hovermode": "closest",
          "mapbox": {
           "style": "light"
          },
          "paper_bgcolor": "white",
          "plot_bgcolor": "#E5ECF6",
          "polar": {
           "angularaxis": {
            "gridcolor": "white",
            "linecolor": "white",
            "ticks": ""
           },
           "bgcolor": "#E5ECF6",
           "radialaxis": {
            "gridcolor": "white",
            "linecolor": "white",
            "ticks": ""
           }
          },
          "scene": {
           "xaxis": {
            "backgroundcolor": "#E5ECF6",
            "gridcolor": "white",
            "gridwidth": 2,
            "linecolor": "white",
            "showbackground": true,
            "ticks": "",
            "zerolinecolor": "white"
           },
           "yaxis": {
            "backgroundcolor": "#E5ECF6",
            "gridcolor": "white",
            "gridwidth": 2,
            "linecolor": "white",
            "showbackground": true,
            "ticks": "",
            "zerolinecolor": "white"
           },
           "zaxis": {
            "backgroundcolor": "#E5ECF6",
            "gridcolor": "white",
            "gridwidth": 2,
            "linecolor": "white",
            "showbackground": true,
            "ticks": "",
            "zerolinecolor": "white"
           }
          },
          "shapedefaults": {
           "line": {
            "color": "#2a3f5f"
           }
          },
          "ternary": {
           "aaxis": {
            "gridcolor": "white",
            "linecolor": "white",
            "ticks": ""
           },
           "baxis": {
            "gridcolor": "white",
            "linecolor": "white",
            "ticks": ""
           },
           "bgcolor": "#E5ECF6",
           "caxis": {
            "gridcolor": "white",
            "linecolor": "white",
            "ticks": ""
           }
          },
          "title": {
           "x": 0.05
          },
          "xaxis": {
           "automargin": true,
           "gridcolor": "white",
           "linecolor": "white",
           "ticks": "",
           "title": {
            "standoff": 15
           },
           "zerolinecolor": "white",
           "zerolinewidth": 2
          },
          "yaxis": {
           "automargin": true,
           "gridcolor": "white",
           "linecolor": "white",
           "ticks": "",
           "title": {
            "standoff": 15
           },
           "zerolinecolor": "white",
           "zerolinewidth": 2
          }
         }
        },
        "title": {
         "text": "Ratio of reviews that mention at least one price related word:",
         "x": 0.5
        },
        "updatemenus": [
         {
          "buttons": [
           {
            "args": [
             {
              "visible": false
             },
             [
              0
             ]
            ],
            "args2": [
             {
              "visible": true
             },
             [
              0
             ]
            ],
            "label": "Bar Plot",
            "method": "restyle",
            "visible": true
           },
           {
            "args": [
             {
              "visible": false
             },
             [
              1
             ]
            ],
            "args2": [
             {
              "visible": true
             },
             [
              1
             ]
            ],
            "label": "Graph <br>connecting bars",
            "method": "restyle",
            "visible": true
           },
           {
            "args": [
             {
              "visible": false
             },
             [
              2
             ]
            ],
            "args2": [
             {
              "visible": true
             },
             [
              2
             ]
            ],
            "label": "Interpolation",
            "method": "restyle",
            "visible": true
           },
           {
            "args": [
             {
              "visible": false
             },
             [
              3
             ]
            ],
            "args2": [
             {
              "visible": true
             },
             [
              3
             ]
            ],
            "label": "Unemployment",
            "method": "restyle",
            "visible": true
           }
          ],
          "direction": "down",
          "type": "buttons",
          "x": -0.08,
          "y": 1.03
         }
        ],
        "width": 1000,
        "xaxis": {
         "anchor": "y",
         "domain": [
          0,
          1
         ],
         "ticks": "outside",
         "title": {
          "text": "Date"
         }
        },
        "yaxis": {
         "anchor": "x",
         "domain": [
          0,
          1
         ],
         "range": [
          0,
          10
         ],
         "title": {
          "text": "Percent of reviews mentionning price"
         }
        }
       }
      }
     },
     "metadata": {},
     "output_type": "display_data"
    }
   ],
   "source": [
    "fig_1d = go.Figure(fig_1a)\n",
    "fig_1d.add_trace(go.Scatter(\n",
    "    x=df_ratio_MS['month_year'],\n",
    "    y=df_ratio_MS['interpolate_unemployment'],\n",
    "    name=\"unemployment <br> rate\",\n",
    "    line=dict(color=\"#101211\"),\n",
    "))\n",
    "fig_1d.update_layout(\n",
    "    autosize=False,\n",
    "    width=1000,\n",
    "    height=600,)\n",
    "fig_1d.update_yaxes(\n",
    "    range =[0,10],\n",
    ")\n",
    "\n",
    "fig_1d.update_layout(\n",
    "    updatemenus=[\n",
    "        dict(\n",
    "            type=\"buttons\",\n",
    "            #If buttons are arranged on top or beside\n",
    "            direction=\"down\",\n",
    "            #set positions\n",
    "            x=-0.08,\n",
    "            y= 1.03,\n",
    "            buttons=list([\n",
    "                dict(\n",
    "                    label=\"Bar Plot\",\n",
    "                    method=\"restyle\",\n",
    "                    visible=True,\n",
    "                    args=[{'visible':False}, [0]],\n",
    "                    args2=[{\"visible\": True}, [0]],\n",
    "                ),\n",
    "                    \n",
    "                dict(label=\"Graph <br>connecting bars\",\n",
    "                    method=\"restyle\",\n",
    "                    visible=True,\n",
    "                    args=[{\"visible\": False}, [1]],\n",
    "                    args2=[{\"visible\": True}, [1]],\n",
    "                ),\n",
    "                dict(label=\"Interpolation\",\n",
    "                    method=\"restyle\",\n",
    "                    visible=True,\n",
    "                    args=[{\"visible\": False}, [2]],\n",
    "                    args2=[{\"visible\": True}, [2]],\n",
    "                ),\n",
    "                dict(label=\"Unemployment\",\n",
    "                    method=\"restyle\",\n",
    "                    visible=True,\n",
    "                    args=[{\"visible\": False}, [3]],\n",
    "                    args2=[{\"visible\": True}, [3]],\n",
    "                ),\n",
    "            ]),\n",
    "        )\n",
    "    ])\n",
    "\n",
    "fig_1d.show()"
   ]
  },
  {
   "cell_type": "code",
   "execution_count": 395,
   "metadata": {},
   "outputs": [
    {
     "data": {
      "application/vnd.plotly.v1+json": {
       "config": {
        "plotlyServerURL": "https://plot.ly"
       },
       "data": [
        {
         "alignmentgroup": "True",
         "hovertemplate": "month_year=%{x}<br>ratio=%{y}<extra></extra>",
         "legendgroup": "",
         "marker": {
          "color": "blue",
          "pattern": {
           "shape": ""
          }
         },
         "name": "",
         "offsetgroup": "",
         "orientation": "v",
         "showlegend": false,
         "textposition": "auto",
         "type": "bar",
         "x": [
          "2000-04",
          "2000-05",
          "2000-06",
          "2000-07",
          "2000-08",
          "2000-09",
          "2000-10",
          "2000-11",
          "2000-12",
          "2001-01",
          "2001-02",
          "2001-03",
          "2001-04",
          "2001-05",
          "2001-06",
          "2001-07",
          "2001-08",
          "2001-09",
          "2001-10",
          "2001-11",
          "2001-12",
          "2002-01",
          "2002-02",
          "2002-03",
          "2002-04",
          "2002-05",
          "2002-06",
          "2002-07",
          "2002-08",
          "2002-09",
          "2002-10",
          "2002-11",
          "2002-12",
          "2003-01",
          "2003-02",
          "2003-03",
          "2003-04",
          "2003-05",
          "2003-06",
          "2003-07",
          "2003-08",
          "2003-09",
          "2003-10",
          "2003-11",
          "2003-12",
          "2004-01",
          "2004-02",
          "2004-03",
          "2004-04",
          "2004-05",
          "2004-06",
          "2004-07",
          "2004-08",
          "2004-09",
          "2004-10",
          "2004-11",
          "2004-12",
          "2005-01",
          "2005-02",
          "2005-03",
          "2005-04",
          "2005-05",
          "2005-06",
          "2005-07",
          "2005-08",
          "2005-09",
          "2005-10",
          "2005-11",
          "2005-12",
          "2006-01",
          "2006-02",
          "2006-03",
          "2006-04",
          "2006-05",
          "2006-06",
          "2006-07",
          "2006-08",
          "2006-09",
          "2006-10",
          "2006-11",
          "2006-12",
          "2007-01",
          "2007-02",
          "2007-03",
          "2007-04",
          "2007-05",
          "2007-06",
          "2007-07",
          "2007-08",
          "2007-09",
          "2007-10",
          "2007-11",
          "2007-12",
          "2008-01",
          "2008-02",
          "2008-03",
          "2008-04",
          "2008-05",
          "2008-06",
          "2008-07",
          "2008-08",
          "2008-09",
          "2008-10",
          "2008-11",
          "2008-12",
          "2009-01",
          "2009-02",
          "2009-03",
          "2009-04",
          "2009-05",
          "2009-06",
          "2009-07",
          "2009-08",
          "2009-09",
          "2009-10",
          "2009-11",
          "2009-12",
          "2010-01",
          "2010-02",
          "2010-03",
          "2010-04",
          "2010-05",
          "2010-06",
          "2010-07",
          "2010-08",
          "2010-09",
          "2010-10",
          "2010-11",
          "2010-12",
          "2011-01",
          "2011-02",
          "2011-03",
          "2011-04",
          "2011-05",
          "2011-06",
          "2011-07",
          "2011-08",
          "2011-09",
          "2011-10",
          "2011-11",
          "2011-12",
          "2012-01",
          "2012-02",
          "2012-03",
          "2012-04",
          "2012-05",
          "2012-06",
          "2012-07",
          "2012-08",
          "2012-09",
          "2012-10",
          "2012-11",
          "2012-12",
          "2013-01",
          "2013-02",
          "2013-03",
          "2013-04",
          "2013-05",
          "2013-06",
          "2013-07",
          "2013-08",
          "2013-09",
          "2013-10",
          "2013-11",
          "2013-12",
          "2014-01",
          "2014-02",
          "2014-03",
          "2014-04",
          "2014-05",
          "2014-06",
          "2014-07",
          "2014-08",
          "2014-09",
          "2014-10",
          "2014-11",
          "2014-12",
          "2015-01",
          "2015-02",
          "2015-03",
          "2015-04",
          "2015-05",
          "2015-06",
          "2015-07",
          "2015-08",
          "2015-09",
          "2015-10",
          "2015-11",
          "2015-12",
          "2016-01",
          "2016-02",
          "2016-03",
          "2016-04",
          "2016-05",
          "2016-06",
          "2016-07",
          "2016-08",
          "2016-09",
          "2016-10",
          "2016-11",
          "2016-12",
          "2017-01",
          "2017-02",
          "2017-03",
          "2017-04",
          "2017-05",
          "2017-06",
          "2017-07"
         ],
         "xaxis": "x",
         "y": [
          5.66,
          4.27,
          3.37,
          2.02,
          2.03,
          2.42,
          2.86,
          5.06,
          4.09,
          5.16,
          6.15,
          5.62,
          5.12,
          5.02,
          5.9,
          4.3,
          4.88,
          3.89,
          6.12,
          6.94,
          5.22,
          5.09,
          5.71,
          5.92,
          4.51,
          3.71,
          4.77,
          3.89,
          3.47,
          3.98,
          3.51,
          3.75,
          3.96,
          3.74,
          4.59,
          3.32,
          3.85,
          4.16,
          3.76,
          4.1,
          4.06,
          3.54,
          3.68,
          3.93,
          3.91,
          4.34,
          4.81,
          4.23,
          4.58,
          4.09,
          3.74,
          3.78,
          4.23,
          4.11,
          4.43,
          4.16,
          4.21,
          4.87,
          4.88,
          4.25,
          4.35,
          4.3,
          3.9,
          3.96,
          4.08,
          4.97,
          4.55,
          5.1,
          4.89,
          4.63,
          5.14,
          4.55,
          5.07,
          4.43,
          4.64,
          4.48,
          4.7,
          4.69,
          3.78,
          4.5,
          3.94,
          4.21,
          4.55,
          4.24,
          4.31,
          3.99,
          4.32,
          4.03,
          4.12,
          3.8,
          4.21,
          4.11,
          4.55,
          4.4,
          4.22,
          4.03,
          4.11,
          4.26,
          3.93,
          3.86,
          4.07,
          3.87,
          4.28,
          4.64,
          4.31,
          4.51,
          4.79,
          4.51,
          4.54,
          4.6,
          4.18,
          4.36,
          4.36,
          4.08,
          4.25,
          4.4,
          4.77,
          4.76,
          4.56,
          4.63,
          4.69,
          4.64,
          4.65,
          4.93,
          4.49,
          4.81,
          5.3,
          4.88,
          4.98,
          5.52,
          5.28,
          5.08,
          5.2,
          5.47,
          5.15,
          5.17,
          4.77,
          5,
          4.71,
          4.81,
          5.34,
          5.52,
          4.99,
          4.81,
          4.42,
          4.48,
          4.11,
          4.14,
          4.02,
          4.21,
          4.22,
          4.8,
          4.84,
          4.64,
          4.73,
          4.63,
          4.55,
          4.17,
          3.88,
          3.89,
          3.85,
          3.81,
          3.87,
          3.9,
          4.18,
          4.51,
          4.41,
          4.39,
          3.96,
          3.79,
          3.79,
          3.7,
          3.3,
          3.62,
          3.66,
          3.63,
          3.63,
          3.69,
          3.4,
          3.49,
          3.56,
          3.24,
          3.17,
          3.25,
          3.11,
          3.02,
          3.51,
          3.22,
          3.52,
          3.39,
          3.49,
          3.17,
          3.43,
          3.02,
          3.6,
          2.88,
          3.19,
          2.77,
          2.85,
          2.66,
          3.15,
          3.28,
          3.29,
          2.94,
          2.99,
          2.45,
          2.62,
          2.53
         ],
         "yaxis": "y"
        },
        {
         "line": {
          "color": "#f6111c"
         },
         "name": "Graph connecting <br> the bars",
         "type": "scatter",
         "x": [
          "2000-04",
          "2000-05",
          "2000-06",
          "2000-07",
          "2000-08",
          "2000-09",
          "2000-10",
          "2000-11",
          "2000-12",
          "2001-01",
          "2001-02",
          "2001-03",
          "2001-04",
          "2001-05",
          "2001-06",
          "2001-07",
          "2001-08",
          "2001-09",
          "2001-10",
          "2001-11",
          "2001-12",
          "2002-01",
          "2002-02",
          "2002-03",
          "2002-04",
          "2002-05",
          "2002-06",
          "2002-07",
          "2002-08",
          "2002-09",
          "2002-10",
          "2002-11",
          "2002-12",
          "2003-01",
          "2003-02",
          "2003-03",
          "2003-04",
          "2003-05",
          "2003-06",
          "2003-07",
          "2003-08",
          "2003-09",
          "2003-10",
          "2003-11",
          "2003-12",
          "2004-01",
          "2004-02",
          "2004-03",
          "2004-04",
          "2004-05",
          "2004-06",
          "2004-07",
          "2004-08",
          "2004-09",
          "2004-10",
          "2004-11",
          "2004-12",
          "2005-01",
          "2005-02",
          "2005-03",
          "2005-04",
          "2005-05",
          "2005-06",
          "2005-07",
          "2005-08",
          "2005-09",
          "2005-10",
          "2005-11",
          "2005-12",
          "2006-01",
          "2006-02",
          "2006-03",
          "2006-04",
          "2006-05",
          "2006-06",
          "2006-07",
          "2006-08",
          "2006-09",
          "2006-10",
          "2006-11",
          "2006-12",
          "2007-01",
          "2007-02",
          "2007-03",
          "2007-04",
          "2007-05",
          "2007-06",
          "2007-07",
          "2007-08",
          "2007-09",
          "2007-10",
          "2007-11",
          "2007-12",
          "2008-01",
          "2008-02",
          "2008-03",
          "2008-04",
          "2008-05",
          "2008-06",
          "2008-07",
          "2008-08",
          "2008-09",
          "2008-10",
          "2008-11",
          "2008-12",
          "2009-01",
          "2009-02",
          "2009-03",
          "2009-04",
          "2009-05",
          "2009-06",
          "2009-07",
          "2009-08",
          "2009-09",
          "2009-10",
          "2009-11",
          "2009-12",
          "2010-01",
          "2010-02",
          "2010-03",
          "2010-04",
          "2010-05",
          "2010-06",
          "2010-07",
          "2010-08",
          "2010-09",
          "2010-10",
          "2010-11",
          "2010-12",
          "2011-01",
          "2011-02",
          "2011-03",
          "2011-04",
          "2011-05",
          "2011-06",
          "2011-07",
          "2011-08",
          "2011-09",
          "2011-10",
          "2011-11",
          "2011-12",
          "2012-01",
          "2012-02",
          "2012-03",
          "2012-04",
          "2012-05",
          "2012-06",
          "2012-07",
          "2012-08",
          "2012-09",
          "2012-10",
          "2012-11",
          "2012-12",
          "2013-01",
          "2013-02",
          "2013-03",
          "2013-04",
          "2013-05",
          "2013-06",
          "2013-07",
          "2013-08",
          "2013-09",
          "2013-10",
          "2013-11",
          "2013-12",
          "2014-01",
          "2014-02",
          "2014-03",
          "2014-04",
          "2014-05",
          "2014-06",
          "2014-07",
          "2014-08",
          "2014-09",
          "2014-10",
          "2014-11",
          "2014-12",
          "2015-01",
          "2015-02",
          "2015-03",
          "2015-04",
          "2015-05",
          "2015-06",
          "2015-07",
          "2015-08",
          "2015-09",
          "2015-10",
          "2015-11",
          "2015-12",
          "2016-01",
          "2016-02",
          "2016-03",
          "2016-04",
          "2016-05",
          "2016-06",
          "2016-07",
          "2016-08",
          "2016-09",
          "2016-10",
          "2016-11",
          "2016-12",
          "2017-01",
          "2017-02",
          "2017-03",
          "2017-04",
          "2017-05",
          "2017-06",
          "2017-07"
         ],
         "y": [
          5.66,
          4.27,
          3.37,
          2.02,
          2.03,
          2.42,
          2.86,
          5.06,
          4.09,
          5.16,
          6.15,
          5.62,
          5.12,
          5.02,
          5.9,
          4.3,
          4.88,
          3.89,
          6.12,
          6.94,
          5.22,
          5.09,
          5.71,
          5.92,
          4.51,
          3.71,
          4.77,
          3.89,
          3.47,
          3.98,
          3.51,
          3.75,
          3.96,
          3.74,
          4.59,
          3.32,
          3.85,
          4.16,
          3.76,
          4.1,
          4.06,
          3.54,
          3.68,
          3.93,
          3.91,
          4.34,
          4.81,
          4.23,
          4.58,
          4.09,
          3.74,
          3.78,
          4.23,
          4.11,
          4.43,
          4.16,
          4.21,
          4.87,
          4.88,
          4.25,
          4.35,
          4.3,
          3.9,
          3.96,
          4.08,
          4.97,
          4.55,
          5.1,
          4.89,
          4.63,
          5.14,
          4.55,
          5.07,
          4.43,
          4.64,
          4.48,
          4.7,
          4.69,
          3.78,
          4.5,
          3.94,
          4.21,
          4.55,
          4.24,
          4.31,
          3.99,
          4.32,
          4.03,
          4.12,
          3.8,
          4.21,
          4.11,
          4.55,
          4.4,
          4.22,
          4.03,
          4.11,
          4.26,
          3.93,
          3.86,
          4.07,
          3.87,
          4.28,
          4.64,
          4.31,
          4.51,
          4.79,
          4.51,
          4.54,
          4.6,
          4.18,
          4.36,
          4.36,
          4.08,
          4.25,
          4.4,
          4.77,
          4.76,
          4.56,
          4.63,
          4.69,
          4.64,
          4.65,
          4.93,
          4.49,
          4.81,
          5.3,
          4.88,
          4.98,
          5.52,
          5.28,
          5.08,
          5.2,
          5.47,
          5.15,
          5.17,
          4.77,
          5,
          4.71,
          4.81,
          5.34,
          5.52,
          4.99,
          4.81,
          4.42,
          4.48,
          4.11,
          4.14,
          4.02,
          4.21,
          4.22,
          4.8,
          4.84,
          4.64,
          4.73,
          4.63,
          4.55,
          4.17,
          3.88,
          3.89,
          3.85,
          3.81,
          3.87,
          3.9,
          4.18,
          4.51,
          4.41,
          4.39,
          3.96,
          3.79,
          3.79,
          3.7,
          3.3,
          3.62,
          3.66,
          3.63,
          3.63,
          3.69,
          3.4,
          3.49,
          3.56,
          3.24,
          3.17,
          3.25,
          3.11,
          3.02,
          3.51,
          3.22,
          3.52,
          3.39,
          3.49,
          3.17,
          3.43,
          3.02,
          3.6,
          2.88,
          3.19,
          2.77,
          2.85,
          2.66,
          3.15,
          3.28,
          3.29,
          2.94,
          2.99,
          2.45,
          2.62,
          2.53
         ]
        },
        {
         "line": {
          "color": "#05e80d"
         },
         "name": "Interpolation <br> degree 14",
         "type": "scatter",
         "x": [
          "2000-04",
          "2000-05",
          "2000-06",
          "2000-07",
          "2000-08",
          "2000-09",
          "2000-10",
          "2000-11",
          "2000-12",
          "2001-01",
          "2001-02",
          "2001-03",
          "2001-04",
          "2001-05",
          "2001-06",
          "2001-07",
          "2001-08",
          "2001-09",
          "2001-10",
          "2001-11",
          "2001-12",
          "2002-01",
          "2002-02",
          "2002-03",
          "2002-04",
          "2002-05",
          "2002-06",
          "2002-07",
          "2002-08",
          "2002-09",
          "2002-10",
          "2002-11",
          "2002-12",
          "2003-01",
          "2003-02",
          "2003-03",
          "2003-04",
          "2003-05",
          "2003-06",
          "2003-07",
          "2003-08",
          "2003-09",
          "2003-10",
          "2003-11",
          "2003-12",
          "2004-01",
          "2004-02",
          "2004-03",
          "2004-04",
          "2004-05",
          "2004-06",
          "2004-07",
          "2004-08",
          "2004-09",
          "2004-10",
          "2004-11",
          "2004-12",
          "2005-01",
          "2005-02",
          "2005-03",
          "2005-04",
          "2005-05",
          "2005-06",
          "2005-07",
          "2005-08",
          "2005-09",
          "2005-10",
          "2005-11",
          "2005-12",
          "2006-01",
          "2006-02",
          "2006-03",
          "2006-04",
          "2006-05",
          "2006-06",
          "2006-07",
          "2006-08",
          "2006-09",
          "2006-10",
          "2006-11",
          "2006-12",
          "2007-01",
          "2007-02",
          "2007-03",
          "2007-04",
          "2007-05",
          "2007-06",
          "2007-07",
          "2007-08",
          "2007-09",
          "2007-10",
          "2007-11",
          "2007-12",
          "2008-01",
          "2008-02",
          "2008-03",
          "2008-04",
          "2008-05",
          "2008-06",
          "2008-07",
          "2008-08",
          "2008-09",
          "2008-10",
          "2008-11",
          "2008-12",
          "2009-01",
          "2009-02",
          "2009-03",
          "2009-04",
          "2009-05",
          "2009-06",
          "2009-07",
          "2009-08",
          "2009-09",
          "2009-10",
          "2009-11",
          "2009-12",
          "2010-01",
          "2010-02",
          "2010-03",
          "2010-04",
          "2010-05",
          "2010-06",
          "2010-07",
          "2010-08",
          "2010-09",
          "2010-10",
          "2010-11",
          "2010-12",
          "2011-01",
          "2011-02",
          "2011-03",
          "2011-04",
          "2011-05",
          "2011-06",
          "2011-07",
          "2011-08",
          "2011-09",
          "2011-10",
          "2011-11",
          "2011-12",
          "2012-01",
          "2012-02",
          "2012-03",
          "2012-04",
          "2012-05",
          "2012-06",
          "2012-07",
          "2012-08",
          "2012-09",
          "2012-10",
          "2012-11",
          "2012-12",
          "2013-01",
          "2013-02",
          "2013-03",
          "2013-04",
          "2013-05",
          "2013-06",
          "2013-07",
          "2013-08",
          "2013-09",
          "2013-10",
          "2013-11",
          "2013-12",
          "2014-01",
          "2014-02",
          "2014-03",
          "2014-04",
          "2014-05",
          "2014-06",
          "2014-07",
          "2014-08",
          "2014-09",
          "2014-10",
          "2014-11",
          "2014-12",
          "2015-01",
          "2015-02",
          "2015-03",
          "2015-04",
          "2015-05",
          "2015-06",
          "2015-07",
          "2015-08",
          "2015-09",
          "2015-10",
          "2015-11",
          "2015-12",
          "2016-01",
          "2016-02",
          "2016-03",
          "2016-04",
          "2016-05",
          "2016-06",
          "2016-07",
          "2016-08",
          "2016-09",
          "2016-10",
          "2016-11",
          "2016-12",
          "2017-01",
          "2017-02",
          "2017-03",
          "2017-04",
          "2017-05",
          "2017-06",
          "2017-07"
         ],
         "y": [
          5.500170334100408,
          3.9816300046703765,
          3.1331176410410473,
          2.7706465384812327,
          2.7474927040709156,
          2.9482363282273165,
          3.283578168322588,
          3.685848008581644,
          4.105129630283037,
          4.505933477846025,
          4.864354469069359,
          5.165658199708138,
          5.402244160609586,
          5.571939545450832,
          5.676581803243904,
          5.720852305583209,
          5.711327376408538,
          5.655716493092685,
          5.562260732171019,
          5.439267520265956,
          5.294760479027703,
          5.1362256396125066,
          4.970437563861226,
          4.803350961590498,
          4.64004525111869,
          4.484711187370228,
          4.340670191946954,
          4.21041837499188,
          4.09568845137447,
          3.9975238348960036,
          3.9163601544054965,
          3.8521102848618156,
          3.8042497338126156,
          3.7718998782704505,
          3.753907116739783,
          3.7489164939434976,
          3.755438778740092,
          3.7719103356320627,
          3.796745433304915,
          3.8283808857560686,
          3.8653131280785695,
          3.9061279950049212,
          3.949523600415538,
          3.9943268146079065,
          4.039503907036734,
          4.0841659692213454,
          4.127569758832308,
          4.169114614688543,
          4.20833608635363,
          4.244896903589676,
          4.278575882595049,
          4.309255329600776,
          4.336907459924833,
          4.361580303676415,
          4.383383519439266,
          4.402474485500155,
          4.4190449859196415,
          4.433308757013322,
          4.445490108876516,
          4.455813787833371,
          4.464496199530748,
          4.471738068661967,
          4.477718571544919,
          4.48259094113995,
          4.4864795115207174,
          4.48947813987181,
          4.491649919665229,
          4.493028077522544,
          4.493617929548957,
          4.493399759899087,
          4.492332475052617,
          4.490357880846853,
          4.487405427520817,
          4.483397267729503,
          4.478253476135542,
          4.471897284591265,
          4.464260195437959,
          4.4552868451845224,
          4.444939501410298,
          4.433202091394439,
          4.420083672170397,
          4.405621268567847,
          4.389882020135497,
          4.372964595068504,
          4.354999843410689,
          4.336150679042036,
          4.316611193295084,
          4.296605019611824,
          4.276382981530422,
          4.256220069296442,
          4.236411800411706,
          4.217270034054857,
          4.199118313987963,
          4.182286823533409,
          4.167107046695809,
          4.153906223853079,
          4.143001707801919,
          4.1346953125510595,
          4.1292677587252715,
          4.126973312927685,
          4.128034714394946,
          4.13263847704769,
          4.14093066108574,
          4.15301317569504,
          4.168940697327746,
          4.188718253231972,
          4.212299525516835,
          4.239585909179753,
          4.270426361269241,
          4.304618041508538,
          4.341907762999176,
          4.381994236398734,
          4.42453108356347,
          4.4691305964878865,
          4.5153681832522565,
          4.562787460175384,
          4.610905911650683,
          4.659221043472765,
          4.707216939703427,
          4.754371157992057,
          4.800161813756774,
          4.844074787492042,
          4.885610942858115,
          4.92429322903461,
          4.959673562163017,
          4.991339383586224,
          5.018919772756437,
          5.042091031335115,
          5.060581605804264,
          5.074176307353301,
          5.082719682555306,
          5.086118538747256,
          5.084343491207618,
          5.0774295426423866,
          5.065475623179678,
          5.048643103888242,
          5.0271532579895295,
          5.001283698380037,
          4.9713638308925905,
          4.937769355152825,
          4.900915905432164,
          4.861251891063678,
          4.819250656808631,
          4.775402079070509,
          4.730203737570581,
          4.6841517579334,
          4.637731610880295,
          4.591408851659773,
          4.54562016201129,
          4.500764699974999,
          4.457196165740463,
          4.415215481861173,
          4.375064531857778,
          4.33692093167039,
          4.300894211970463,
          4.267023218911928,
          4.235275290416347,
          4.205546930407589,
          4.1776662469570605,
          4.1513972535800105,
          4.126445843646114,
          4.10246761967523,
          4.079077479424386,
          4.055860527324272,
          4.032384737089299,
          4.008214660192479,
          3.9829260513758484,
          3.956121417628934,
          3.927445355865669,
          3.8966004406311616,
          3.8633619197368034,
          3.8275917490655207,
          3.7892509131390444,
          3.748409486039083,
          3.705254187223604,
          3.6600924115934856,
          3.6133526597024614,
          3.565580067227362,
          3.517427688618268,
          3.469641886359116,
          3.4230422363894313,
          3.378495666101991,
          3.336884566570803,
          3.2990691820355726,
          3.265845018581321,
          3.237895105495644,
          3.2157393270488264,
          3.1996813986122925,
          3.1897563697888396,
          3.1856800644138135,
          3.1868048152783617,
          3.192085329390098,
          3.2000580925250164,
          3.2088419766580687,
          3.2161663076407345,
          3.219433160555429,
          3.215825871898277,
          3.2024713938246103,
          3.1766722957433577,
          3.1362210976515934,
          3.0798132594521137,
          3.0075780917661747,
          2.9217502686635326,
          2.827501588784141,
          2.73396559160759,
          2.6554811031722787,
          2.613089148093703,
          2.6363222459238345
         ]
        },
        {
         "line": {
          "color": "#101211"
         },
         "name": "unemployment <br> rate",
         "type": "scatter",
         "x": [
          "2000-04",
          "2000-05",
          "2000-06",
          "2000-07",
          "2000-08",
          "2000-09",
          "2000-10",
          "2000-11",
          "2000-12",
          "2001-01",
          "2001-02",
          "2001-03",
          "2001-04",
          "2001-05",
          "2001-06",
          "2001-07",
          "2001-08",
          "2001-09",
          "2001-10",
          "2001-11",
          "2001-12",
          "2002-01",
          "2002-02",
          "2002-03",
          "2002-04",
          "2002-05",
          "2002-06",
          "2002-07",
          "2002-08",
          "2002-09",
          "2002-10",
          "2002-11",
          "2002-12",
          "2003-01",
          "2003-02",
          "2003-03",
          "2003-04",
          "2003-05",
          "2003-06",
          "2003-07",
          "2003-08",
          "2003-09",
          "2003-10",
          "2003-11",
          "2003-12",
          "2004-01",
          "2004-02",
          "2004-03",
          "2004-04",
          "2004-05",
          "2004-06",
          "2004-07",
          "2004-08",
          "2004-09",
          "2004-10",
          "2004-11",
          "2004-12",
          "2005-01",
          "2005-02",
          "2005-03",
          "2005-04",
          "2005-05",
          "2005-06",
          "2005-07",
          "2005-08",
          "2005-09",
          "2005-10",
          "2005-11",
          "2005-12",
          "2006-01",
          "2006-02",
          "2006-03",
          "2006-04",
          "2006-05",
          "2006-06",
          "2006-07",
          "2006-08",
          "2006-09",
          "2006-10",
          "2006-11",
          "2006-12",
          "2007-01",
          "2007-02",
          "2007-03",
          "2007-04",
          "2007-05",
          "2007-06",
          "2007-07",
          "2007-08",
          "2007-09",
          "2007-10",
          "2007-11",
          "2007-12",
          "2008-01",
          "2008-02",
          "2008-03",
          "2008-04",
          "2008-05",
          "2008-06",
          "2008-07",
          "2008-08",
          "2008-09",
          "2008-10",
          "2008-11",
          "2008-12",
          "2009-01",
          "2009-02",
          "2009-03",
          "2009-04",
          "2009-05",
          "2009-06",
          "2009-07",
          "2009-08",
          "2009-09",
          "2009-10",
          "2009-11",
          "2009-12",
          "2010-01",
          "2010-02",
          "2010-03",
          "2010-04",
          "2010-05",
          "2010-06",
          "2010-07",
          "2010-08",
          "2010-09",
          "2010-10",
          "2010-11",
          "2010-12",
          "2011-01",
          "2011-02",
          "2011-03",
          "2011-04",
          "2011-05",
          "2011-06",
          "2011-07",
          "2011-08",
          "2011-09",
          "2011-10",
          "2011-11",
          "2011-12",
          "2012-01",
          "2012-02",
          "2012-03",
          "2012-04",
          "2012-05",
          "2012-06",
          "2012-07",
          "2012-08",
          "2012-09",
          "2012-10",
          "2012-11",
          "2012-12",
          "2013-01",
          "2013-02",
          "2013-03",
          "2013-04",
          "2013-05",
          "2013-06",
          "2013-07",
          "2013-08",
          "2013-09",
          "2013-10",
          "2013-11",
          "2013-12",
          "2014-01",
          "2014-02",
          "2014-03",
          "2014-04",
          "2014-05",
          "2014-06",
          "2014-07",
          "2014-08",
          "2014-09",
          "2014-10",
          "2014-11",
          "2014-12",
          "2015-01",
          "2015-02",
          "2015-03",
          "2015-04",
          "2015-05",
          "2015-06",
          "2015-07",
          "2015-08",
          "2015-09",
          "2015-10",
          "2015-11",
          "2015-12",
          "2016-01",
          "2016-02",
          "2016-03",
          "2016-04",
          "2016-05",
          "2016-06",
          "2016-07",
          "2016-08",
          "2016-09",
          "2016-10",
          "2016-11",
          "2016-12",
          "2017-01",
          "2017-02",
          "2017-03",
          "2017-04",
          "2017-05",
          "2017-06",
          "2017-07"
         ],
         "y": [
          3.5313375488007908,
          4.029855259470834,
          4.161253021082858,
          4.110934325377262,
          3.9970795322758503,
          3.889695397452656,
          3.825280680814012,
          3.817941879761727,
          3.8676608746150856,
          3.9663015365097865,
          4.101843196907622,
          4.261243555422688,
          4.43226051519822,
          4.604500139717858,
          4.769905118228415,
          4.922853633864122,
          5.060001292310373,
          5.1799678412909484,
          5.282944943865334,
          5.370280504342779,
          5.44407831089492,
          5.50683845619465,
          5.561153598505809,
          5.609468165531919,
          5.653901674075714,
          5.696133083969059,
          5.737340215241269,
          5.778186465510903,
          5.818846140187402,
          5.859059455011023,
          5.898208522468469,
          5.93540625114146,
          5.969590954053102,
          5.999620483262014,
          6.024360806268627,
          6.042765053991699,
          6.053940152554423,
          6.057199166239576,
          6.052098400929072,
          6.038459129199067,
          6.016374489574359,
          5.986202679420707,
          5.948548004027403,
          5.904231667640743,
          5.854254403607948,
          5.799753148698622,
          5.741953983382414,
          5.682123496001804,
          5.621520598350342,
          5.561350633602128,
          5.502723389680416,
          5.446616372259142,
          5.393844411925393,
          5.345036393134949,
          5.300619603477078,
          5.260811922122002,
          5.225621801117095,
          5.194855748602705,
          5.16813280636271,
          5.144905321804011,
          5.124485161692398,
          5.106074387076494,
          5.088799323246668,
          5.07174690093491,
          5.05400212112775,
          5.034685511021031,
          5.012989466799102,
          4.988212451953849,
          4.959790107444389,
          4.927322425203664,
          4.890596281967871,
          4.849602745937876,
          4.804548730974341,
          4.755862712130774,
          4.704194375239793,
          4.650408226970644,
          4.5955713305840415,
          4.540935463928461,
          4.487914163772144,
          4.438055158864375,
          4.393008890574235,
          4.354493799622492,
          4.324259234340815,
          4.304046747985283,
          4.2955507478644215,
          4.300379292430331,
          4.320015949235917,
          4.355783571717334,
          4.408810730038569,
          4.480001594893309,
          4.5700099388256845,
          4.679217734228143,
          4.8077189505375895,
          4.955308845353512,
          5.1214789939338,
          5.305418238794965,
          5.506019528811178,
          5.721892622183712,
          5.951382288126702,
          6.192591855695975,
          6.443411530664207,
          6.701551038302499,
          6.964575901477019,
          7.229946686067238,
          7.495060582174984,
          7.757294252172983,
          8.014047414456355,
          8.262786192331298,
          8.501085256391852,
          8.726668190485626,
          8.93744521185874,
          9.13154741639442,
          9.307356823298845,
          9.463532062090495,
          9.599028413327384,
          9.713112822403868,
          9.80537247845756,
          9.875717687277586,
          9.924378274279697,
          9.951894591220444,
          9.959101707238364,
          9.94710868379973,
          9.917272277944182,
          9.871166334190404,
          9.81054719936207,
          9.737314824704953,
          9.653472983687244,
          9.561086080434752,
          9.46223697639479,
          9.358982831845609,
          9.253314116637124,
          9.14711362339568,
          9.042119897575846,
          8.939893307116025,
          8.841787392309866,
          8.74892386713393,
          8.66217478164024,
          8.582150240037748,
          8.509192518649646,
          8.443377088879762,
          8.384518056332523,
          8.332185172853615,
          8.285720643253686,
          8.244267413789558,
          8.206798009499236,
          8.172150306703543,
          8.139067607394637,
          8.106237912231403,
          8.072337966946336,
          8.036073964285173,
          7.996226700346783,
          7.951689359366226,
          7.9015040249389745,
          7.84489186236322,
          7.781283322127757,
          7.710337954482798,
          7.631949218478926,
          7.546259532321303,
          7.453648707692027,
          7.354727957257008,
          7.250313077910446,
          7.141404737069284,
          7.02913957311988,
          6.914767446872343,
          6.799587761965528,
          6.684910380063137,
          6.5719982172246425,
          6.4620194128,
          6.356004633737593,
          6.254795714048827,
          6.159009151733343,
          6.06901976628791,
          5.984934089206291,
          5.906594937334046,
          5.833595227354147,
          5.765289672965899,
          5.700858666755719,
          5.639334992517805,
          5.579723170752011,
          5.521008459712029,
          5.462309457492331,
          5.402907934675519,
          5.342386327229849,
          5.280653366297116,
          5.218046077518325,
          5.155312385533847,
          5.09363756811017,
          5.03459271265635,
          4.980060554219161,
          4.932029069927827,
          4.8924560952923,
          4.862979510400496,
          4.844619589396784,
          4.837478499323105,
          4.840353787315639,
          4.850507896692282,
          4.863491878110441,
          4.873024958902617,
          4.871347831087185,
          4.849955543861061,
          4.800672221496489,
          4.717922829787274,
          4.601755929538059,
          4.462404064437658,
          4.326682775799245,
          4.2466864642121855,
          4.311157740852933,
          4.660965363746424
         ]
        }
       ],
       "layout": {
        "autosize": false,
        "barmode": "relative",
        "height": 600,
        "legend": {
         "tracegroupgap": 0
        },
        "margin": {
         "l": 30,
         "r": 190,
         "t": 60
        },
        "paper_bgcolor": "rgba(0,0,0,0)",
        "shapes": [
         {
          "fillcolor": "red",
          "line": {
           "width": 0
          },
          "opacity": 0.4,
          "type": "rect",
          "x0": "2000-04",
          "x1": "2000-07",
          "xref": "x",
          "y0": 0,
          "y1": 0.45,
          "yref": "y domain"
         },
         {
          "fillcolor": "green",
          "line": {
           "width": 0
          },
          "opacity": 0.4,
          "type": "rect",
          "x0": "2000-07",
          "x1": "2001-07",
          "xref": "x",
          "y0": 0,
          "y1": 0.45,
          "yref": "y domain"
         },
         {
          "fillcolor": "red",
          "line": {
           "width": 0
          },
          "opacity": 0.4,
          "type": "rect",
          "x0": "2001-07",
          "x1": "2003-02",
          "xref": "x",
          "y0": 0,
          "y1": 0.45,
          "yref": "y domain"
         },
         {
          "fillcolor": "green",
          "line": {
           "width": 0
          },
          "opacity": 0.4,
          "type": "rect",
          "x0": "2003-02",
          "x1": "2005-12",
          "xref": "x",
          "y0": 0,
          "y1": 0.45,
          "yref": "y domain"
         },
         {
          "fillcolor": "red",
          "line": {
           "width": 0
          },
          "opacity": 0.4,
          "type": "rect",
          "x0": "2005-12",
          "x1": "2008-07",
          "xref": "x",
          "y0": 0,
          "y1": 0.45,
          "yref": "y domain"
         },
         {
          "fillcolor": "green",
          "line": {
           "width": 0
          },
          "opacity": 0.4,
          "type": "rect",
          "x0": "2008-07",
          "x1": "2011-03",
          "xref": "x",
          "y0": 0,
          "y1": 0.45,
          "yref": "y domain"
         },
         {
          "fillcolor": "red",
          "line": {
           "width": 0
          },
          "opacity": 0.4,
          "type": "rect",
          "x0": "2011-03",
          "x1": "2016-01",
          "xref": "x",
          "y0": 0,
          "y1": 0.45,
          "yref": "y domain"
         },
         {
          "fillcolor": "green",
          "line": {
           "width": 0
          },
          "opacity": 0.4,
          "type": "rect",
          "x0": "2016-01",
          "x1": "2016-07",
          "xref": "x",
          "y0": 0,
          "y1": 0.45,
          "yref": "y domain"
         },
         {
          "fillcolor": "red",
          "line": {
           "width": 0
          },
          "opacity": 0.4,
          "type": "rect",
          "x0": "2016-07",
          "x1": "2017-06",
          "xref": "x",
          "y0": 0,
          "y1": 0.45,
          "yref": "y domain"
         },
         {
          "fillcolor": "green",
          "line": {
           "width": 0
          },
          "opacity": 0.4,
          "type": "rect",
          "x0": "2017-06",
          "x1": "2017-07",
          "xref": "x",
          "y0": 0,
          "y1": 0.45,
          "yref": "y domain"
         }
        ],
        "template": {
         "data": {
          "bar": [
           {
            "error_x": {
             "color": "#2a3f5f"
            },
            "error_y": {
             "color": "#2a3f5f"
            },
            "marker": {
             "line": {
              "color": "#E5ECF6",
              "width": 0.5
             },
             "pattern": {
              "fillmode": "overlay",
              "size": 10,
              "solidity": 0.2
             }
            },
            "type": "bar"
           }
          ],
          "barpolar": [
           {
            "marker": {
             "line": {
              "color": "#E5ECF6",
              "width": 0.5
             },
             "pattern": {
              "fillmode": "overlay",
              "size": 10,
              "solidity": 0.2
             }
            },
            "type": "barpolar"
           }
          ],
          "carpet": [
           {
            "aaxis": {
             "endlinecolor": "#2a3f5f",
             "gridcolor": "white",
             "linecolor": "white",
             "minorgridcolor": "white",
             "startlinecolor": "#2a3f5f"
            },
            "baxis": {
             "endlinecolor": "#2a3f5f",
             "gridcolor": "white",
             "linecolor": "white",
             "minorgridcolor": "white",
             "startlinecolor": "#2a3f5f"
            },
            "type": "carpet"
           }
          ],
          "choropleth": [
           {
            "colorbar": {
             "outlinewidth": 0,
             "ticks": ""
            },
            "type": "choropleth"
           }
          ],
          "contour": [
           {
            "colorbar": {
             "outlinewidth": 0,
             "ticks": ""
            },
            "colorscale": [
             [
              0,
              "#0d0887"
             ],
             [
              0.1111111111111111,
              "#46039f"
             ],
             [
              0.2222222222222222,
              "#7201a8"
             ],
             [
              0.3333333333333333,
              "#9c179e"
             ],
             [
              0.4444444444444444,
              "#bd3786"
             ],
             [
              0.5555555555555556,
              "#d8576b"
             ],
             [
              0.6666666666666666,
              "#ed7953"
             ],
             [
              0.7777777777777778,
              "#fb9f3a"
             ],
             [
              0.8888888888888888,
              "#fdca26"
             ],
             [
              1,
              "#f0f921"
             ]
            ],
            "type": "contour"
           }
          ],
          "contourcarpet": [
           {
            "colorbar": {
             "outlinewidth": 0,
             "ticks": ""
            },
            "type": "contourcarpet"
           }
          ],
          "heatmap": [
           {
            "colorbar": {
             "outlinewidth": 0,
             "ticks": ""
            },
            "colorscale": [
             [
              0,
              "#0d0887"
             ],
             [
              0.1111111111111111,
              "#46039f"
             ],
             [
              0.2222222222222222,
              "#7201a8"
             ],
             [
              0.3333333333333333,
              "#9c179e"
             ],
             [
              0.4444444444444444,
              "#bd3786"
             ],
             [
              0.5555555555555556,
              "#d8576b"
             ],
             [
              0.6666666666666666,
              "#ed7953"
             ],
             [
              0.7777777777777778,
              "#fb9f3a"
             ],
             [
              0.8888888888888888,
              "#fdca26"
             ],
             [
              1,
              "#f0f921"
             ]
            ],
            "type": "heatmap"
           }
          ],
          "heatmapgl": [
           {
            "colorbar": {
             "outlinewidth": 0,
             "ticks": ""
            },
            "colorscale": [
             [
              0,
              "#0d0887"
             ],
             [
              0.1111111111111111,
              "#46039f"
             ],
             [
              0.2222222222222222,
              "#7201a8"
             ],
             [
              0.3333333333333333,
              "#9c179e"
             ],
             [
              0.4444444444444444,
              "#bd3786"
             ],
             [
              0.5555555555555556,
              "#d8576b"
             ],
             [
              0.6666666666666666,
              "#ed7953"
             ],
             [
              0.7777777777777778,
              "#fb9f3a"
             ],
             [
              0.8888888888888888,
              "#fdca26"
             ],
             [
              1,
              "#f0f921"
             ]
            ],
            "type": "heatmapgl"
           }
          ],
          "histogram": [
           {
            "marker": {
             "pattern": {
              "fillmode": "overlay",
              "size": 10,
              "solidity": 0.2
             }
            },
            "type": "histogram"
           }
          ],
          "histogram2d": [
           {
            "colorbar": {
             "outlinewidth": 0,
             "ticks": ""
            },
            "colorscale": [
             [
              0,
              "#0d0887"
             ],
             [
              0.1111111111111111,
              "#46039f"
             ],
             [
              0.2222222222222222,
              "#7201a8"
             ],
             [
              0.3333333333333333,
              "#9c179e"
             ],
             [
              0.4444444444444444,
              "#bd3786"
             ],
             [
              0.5555555555555556,
              "#d8576b"
             ],
             [
              0.6666666666666666,
              "#ed7953"
             ],
             [
              0.7777777777777778,
              "#fb9f3a"
             ],
             [
              0.8888888888888888,
              "#fdca26"
             ],
             [
              1,
              "#f0f921"
             ]
            ],
            "type": "histogram2d"
           }
          ],
          "histogram2dcontour": [
           {
            "colorbar": {
             "outlinewidth": 0,
             "ticks": ""
            },
            "colorscale": [
             [
              0,
              "#0d0887"
             ],
             [
              0.1111111111111111,
              "#46039f"
             ],
             [
              0.2222222222222222,
              "#7201a8"
             ],
             [
              0.3333333333333333,
              "#9c179e"
             ],
             [
              0.4444444444444444,
              "#bd3786"
             ],
             [
              0.5555555555555556,
              "#d8576b"
             ],
             [
              0.6666666666666666,
              "#ed7953"
             ],
             [
              0.7777777777777778,
              "#fb9f3a"
             ],
             [
              0.8888888888888888,
              "#fdca26"
             ],
             [
              1,
              "#f0f921"
             ]
            ],
            "type": "histogram2dcontour"
           }
          ],
          "mesh3d": [
           {
            "colorbar": {
             "outlinewidth": 0,
             "ticks": ""
            },
            "type": "mesh3d"
           }
          ],
          "parcoords": [
           {
            "line": {
             "colorbar": {
              "outlinewidth": 0,
              "ticks": ""
             }
            },
            "type": "parcoords"
           }
          ],
          "pie": [
           {
            "automargin": true,
            "type": "pie"
           }
          ],
          "scatter": [
           {
            "fillpattern": {
             "fillmode": "overlay",
             "size": 10,
             "solidity": 0.2
            },
            "type": "scatter"
           }
          ],
          "scatter3d": [
           {
            "line": {
             "colorbar": {
              "outlinewidth": 0,
              "ticks": ""
             }
            },
            "marker": {
             "colorbar": {
              "outlinewidth": 0,
              "ticks": ""
             }
            },
            "type": "scatter3d"
           }
          ],
          "scattercarpet": [
           {
            "marker": {
             "colorbar": {
              "outlinewidth": 0,
              "ticks": ""
             }
            },
            "type": "scattercarpet"
           }
          ],
          "scattergeo": [
           {
            "marker": {
             "colorbar": {
              "outlinewidth": 0,
              "ticks": ""
             }
            },
            "type": "scattergeo"
           }
          ],
          "scattergl": [
           {
            "marker": {
             "colorbar": {
              "outlinewidth": 0,
              "ticks": ""
             }
            },
            "type": "scattergl"
           }
          ],
          "scattermapbox": [
           {
            "marker": {
             "colorbar": {
              "outlinewidth": 0,
              "ticks": ""
             }
            },
            "type": "scattermapbox"
           }
          ],
          "scatterpolar": [
           {
            "marker": {
             "colorbar": {
              "outlinewidth": 0,
              "ticks": ""
             }
            },
            "type": "scatterpolar"
           }
          ],
          "scatterpolargl": [
           {
            "marker": {
             "colorbar": {
              "outlinewidth": 0,
              "ticks": ""
             }
            },
            "type": "scatterpolargl"
           }
          ],
          "scatterternary": [
           {
            "marker": {
             "colorbar": {
              "outlinewidth": 0,
              "ticks": ""
             }
            },
            "type": "scatterternary"
           }
          ],
          "surface": [
           {
            "colorbar": {
             "outlinewidth": 0,
             "ticks": ""
            },
            "colorscale": [
             [
              0,
              "#0d0887"
             ],
             [
              0.1111111111111111,
              "#46039f"
             ],
             [
              0.2222222222222222,
              "#7201a8"
             ],
             [
              0.3333333333333333,
              "#9c179e"
             ],
             [
              0.4444444444444444,
              "#bd3786"
             ],
             [
              0.5555555555555556,
              "#d8576b"
             ],
             [
              0.6666666666666666,
              "#ed7953"
             ],
             [
              0.7777777777777778,
              "#fb9f3a"
             ],
             [
              0.8888888888888888,
              "#fdca26"
             ],
             [
              1,
              "#f0f921"
             ]
            ],
            "type": "surface"
           }
          ],
          "table": [
           {
            "cells": {
             "fill": {
              "color": "#EBF0F8"
             },
             "line": {
              "color": "white"
             }
            },
            "header": {
             "fill": {
              "color": "#C8D4E3"
             },
             "line": {
              "color": "white"
             }
            },
            "type": "table"
           }
          ]
         },
         "layout": {
          "annotationdefaults": {
           "arrowcolor": "#2a3f5f",
           "arrowhead": 0,
           "arrowwidth": 1
          },
          "autotypenumbers": "strict",
          "coloraxis": {
           "colorbar": {
            "outlinewidth": 0,
            "ticks": ""
           }
          },
          "colorscale": {
           "diverging": [
            [
             0,
             "#8e0152"
            ],
            [
             0.1,
             "#c51b7d"
            ],
            [
             0.2,
             "#de77ae"
            ],
            [
             0.3,
             "#f1b6da"
            ],
            [
             0.4,
             "#fde0ef"
            ],
            [
             0.5,
             "#f7f7f7"
            ],
            [
             0.6,
             "#e6f5d0"
            ],
            [
             0.7,
             "#b8e186"
            ],
            [
             0.8,
             "#7fbc41"
            ],
            [
             0.9,
             "#4d9221"
            ],
            [
             1,
             "#276419"
            ]
           ],
           "sequential": [
            [
             0,
             "#0d0887"
            ],
            [
             0.1111111111111111,
             "#46039f"
            ],
            [
             0.2222222222222222,
             "#7201a8"
            ],
            [
             0.3333333333333333,
             "#9c179e"
            ],
            [
             0.4444444444444444,
             "#bd3786"
            ],
            [
             0.5555555555555556,
             "#d8576b"
            ],
            [
             0.6666666666666666,
             "#ed7953"
            ],
            [
             0.7777777777777778,
             "#fb9f3a"
            ],
            [
             0.8888888888888888,
             "#fdca26"
            ],
            [
             1,
             "#f0f921"
            ]
           ],
           "sequentialminus": [
            [
             0,
             "#0d0887"
            ],
            [
             0.1111111111111111,
             "#46039f"
            ],
            [
             0.2222222222222222,
             "#7201a8"
            ],
            [
             0.3333333333333333,
             "#9c179e"
            ],
            [
             0.4444444444444444,
             "#bd3786"
            ],
            [
             0.5555555555555556,
             "#d8576b"
            ],
            [
             0.6666666666666666,
             "#ed7953"
            ],
            [
             0.7777777777777778,
             "#fb9f3a"
            ],
            [
             0.8888888888888888,
             "#fdca26"
            ],
            [
             1,
             "#f0f921"
            ]
           ]
          },
          "colorway": [
           "#636efa",
           "#EF553B",
           "#00cc96",
           "#ab63fa",
           "#FFA15A",
           "#19d3f3",
           "#FF6692",
           "#B6E880",
           "#FF97FF",
           "#FECB52"
          ],
          "font": {
           "color": "#2a3f5f"
          },
          "geo": {
           "bgcolor": "white",
           "lakecolor": "white",
           "landcolor": "#E5ECF6",
           "showlakes": true,
           "showland": true,
           "subunitcolor": "white"
          },
          "hoverlabel": {
           "align": "left"
          },
          "hovermode": "closest",
          "mapbox": {
           "style": "light"
          },
          "paper_bgcolor": "white",
          "plot_bgcolor": "#E5ECF6",
          "polar": {
           "angularaxis": {
            "gridcolor": "white",
            "linecolor": "white",
            "ticks": ""
           },
           "bgcolor": "#E5ECF6",
           "radialaxis": {
            "gridcolor": "white",
            "linecolor": "white",
            "ticks": ""
           }
          },
          "scene": {
           "xaxis": {
            "backgroundcolor": "#E5ECF6",
            "gridcolor": "white",
            "gridwidth": 2,
            "linecolor": "white",
            "showbackground": true,
            "ticks": "",
            "zerolinecolor": "white"
           },
           "yaxis": {
            "backgroundcolor": "#E5ECF6",
            "gridcolor": "white",
            "gridwidth": 2,
            "linecolor": "white",
            "showbackground": true,
            "ticks": "",
            "zerolinecolor": "white"
           },
           "zaxis": {
            "backgroundcolor": "#E5ECF6",
            "gridcolor": "white",
            "gridwidth": 2,
            "linecolor": "white",
            "showbackground": true,
            "ticks": "",
            "zerolinecolor": "white"
           }
          },
          "shapedefaults": {
           "line": {
            "color": "#2a3f5f"
           }
          },
          "ternary": {
           "aaxis": {
            "gridcolor": "white",
            "linecolor": "white",
            "ticks": ""
           },
           "baxis": {
            "gridcolor": "white",
            "linecolor": "white",
            "ticks": ""
           },
           "bgcolor": "#E5ECF6",
           "caxis": {
            "gridcolor": "white",
            "linecolor": "white",
            "ticks": ""
           }
          },
          "title": {
           "x": 0.05
          },
          "xaxis": {
           "automargin": true,
           "gridcolor": "white",
           "linecolor": "white",
           "ticks": "",
           "title": {
            "standoff": 15
           },
           "zerolinecolor": "white",
           "zerolinewidth": 2
          },
          "yaxis": {
           "automargin": true,
           "gridcolor": "white",
           "linecolor": "white",
           "ticks": "",
           "title": {
            "standoff": 15
           },
           "zerolinecolor": "white",
           "zerolinewidth": 2
          }
         }
        },
        "title": {
         "text": "Ratio of reviews that mention at least one price related word:",
         "x": 0.5
        },
        "updatemenus": [
         {
          "buttons": [
           {
            "args": [
             {
              "visible": false
             },
             [
              0
             ]
            ],
            "args2": [
             {
              "visible": true
             },
             [
              0
             ]
            ],
            "label": "Bar Plot",
            "method": "restyle",
            "visible": true
           },
           {
            "args": [
             {
              "visible": false
             },
             [
              1
             ]
            ],
            "args2": [
             {
              "visible": true
             },
             [
              1
             ]
            ],
            "label": "Graph <br>connecting bars",
            "method": "restyle",
            "visible": true
           },
           {
            "args": [
             {
              "visible": false
             },
             [
              2
             ]
            ],
            "args2": [
             {
              "visible": true
             },
             [
              2
             ]
            ],
            "label": "Interpolation",
            "method": "restyle",
            "visible": true
           },
           {
            "args": [
             {
              "visible": false
             },
             [
              3
             ]
            ],
            "args2": [
             {
              "visible": true
             },
             [
              3
             ]
            ],
            "label": "Unemployment",
            "method": "restyle",
            "visible": true
           }
          ],
          "direction": "down",
          "type": "buttons",
          "x": -0.08,
          "y": 1.03
         }
        ],
        "width": 1000,
        "xaxis": {
         "anchor": "y",
         "domain": [
          0,
          1
         ],
         "ticks": "outside",
         "title": {
          "text": "Date"
         }
        },
        "yaxis": {
         "anchor": "x",
         "domain": [
          0,
          1
         ],
         "range": [
          0,
          10
         ],
         "title": {
          "text": "Percent of reviews mentionning price"
         }
        }
       }
      }
     },
     "metadata": {},
     "output_type": "display_data"
    }
   ],
   "source": [
    "fig_1e = go.Figure(fig_1d)\n",
    "\n",
    "colors=['red','green']\n",
    "annotations=['','','decline', 'increase']\n",
    "for i in range(len(x_positions)-1):\n",
    "    fig_1e.add_vrect(x0=str(x_positions[i]), x1=str(x_positions[i+1]), y0=0, y1= 0.45,\n",
    "              fillcolor=colors[i%2], opacity=0.4, line_width=0)\n",
    "    annotations[i%4] = ''\n",
    "\n",
    "fig_1e.show()"
   ]
  },
  {
   "cell_type": "code",
   "execution_count": 360,
   "metadata": {},
   "outputs": [],
   "source": [
    "derivative_unemp = df_ratio_MS['derivative_unemployment']\n",
    "changes_in_sign_positions_unemp = []\n",
    "sign = 0\n",
    "\n",
    "#store all the positions at which the sign of the derivative changes.\n",
    "for index, value in enumerate(derivative_unemp):\n",
    "    if (sign == 0):\n",
    "        changes_in_sign_positions_unemp.append(index)\n",
    "        if(value < 0):\n",
    "            sign = -1\n",
    "        if(value > 0):\n",
    "            sign = 1\n",
    "    if ((sign != -1) & (value < 0)):\n",
    "        sign = -1\n",
    "        changes_in_sign_positions_unemp.append(index-1)\n",
    "    if ((sign != 1) & (value > 0)):\n",
    "        sign = 1\n",
    "        changes_in_sign_positions_unemp.append(index-1)\n",
    "\n",
    "\n",
    "#add the last index to be able to color the last part too\n",
    "changes_in_sign_positions_unemp.append(len(derivative_unemp)-1)\n",
    "\n",
    "x_positions_3 = df_ratio.iloc[changes_in_sign_positions_unemp]['month_year']\n",
    "x_positions_3.reset_index(inplace=True, drop=True)"
   ]
  },
  {
   "cell_type": "code",
   "execution_count": 396,
   "metadata": {},
   "outputs": [
    {
     "data": {
      "application/vnd.plotly.v1+json": {
       "config": {
        "plotlyServerURL": "https://plot.ly"
       },
       "data": [
        {
         "alignmentgroup": "True",
         "hovertemplate": "month_year=%{x}<br>ratio=%{y}<extra></extra>",
         "legendgroup": "",
         "marker": {
          "color": "blue",
          "pattern": {
           "shape": ""
          }
         },
         "name": "",
         "offsetgroup": "",
         "orientation": "v",
         "showlegend": false,
         "textposition": "auto",
         "type": "bar",
         "x": [
          "2000-04",
          "2000-05",
          "2000-06",
          "2000-07",
          "2000-08",
          "2000-09",
          "2000-10",
          "2000-11",
          "2000-12",
          "2001-01",
          "2001-02",
          "2001-03",
          "2001-04",
          "2001-05",
          "2001-06",
          "2001-07",
          "2001-08",
          "2001-09",
          "2001-10",
          "2001-11",
          "2001-12",
          "2002-01",
          "2002-02",
          "2002-03",
          "2002-04",
          "2002-05",
          "2002-06",
          "2002-07",
          "2002-08",
          "2002-09",
          "2002-10",
          "2002-11",
          "2002-12",
          "2003-01",
          "2003-02",
          "2003-03",
          "2003-04",
          "2003-05",
          "2003-06",
          "2003-07",
          "2003-08",
          "2003-09",
          "2003-10",
          "2003-11",
          "2003-12",
          "2004-01",
          "2004-02",
          "2004-03",
          "2004-04",
          "2004-05",
          "2004-06",
          "2004-07",
          "2004-08",
          "2004-09",
          "2004-10",
          "2004-11",
          "2004-12",
          "2005-01",
          "2005-02",
          "2005-03",
          "2005-04",
          "2005-05",
          "2005-06",
          "2005-07",
          "2005-08",
          "2005-09",
          "2005-10",
          "2005-11",
          "2005-12",
          "2006-01",
          "2006-02",
          "2006-03",
          "2006-04",
          "2006-05",
          "2006-06",
          "2006-07",
          "2006-08",
          "2006-09",
          "2006-10",
          "2006-11",
          "2006-12",
          "2007-01",
          "2007-02",
          "2007-03",
          "2007-04",
          "2007-05",
          "2007-06",
          "2007-07",
          "2007-08",
          "2007-09",
          "2007-10",
          "2007-11",
          "2007-12",
          "2008-01",
          "2008-02",
          "2008-03",
          "2008-04",
          "2008-05",
          "2008-06",
          "2008-07",
          "2008-08",
          "2008-09",
          "2008-10",
          "2008-11",
          "2008-12",
          "2009-01",
          "2009-02",
          "2009-03",
          "2009-04",
          "2009-05",
          "2009-06",
          "2009-07",
          "2009-08",
          "2009-09",
          "2009-10",
          "2009-11",
          "2009-12",
          "2010-01",
          "2010-02",
          "2010-03",
          "2010-04",
          "2010-05",
          "2010-06",
          "2010-07",
          "2010-08",
          "2010-09",
          "2010-10",
          "2010-11",
          "2010-12",
          "2011-01",
          "2011-02",
          "2011-03",
          "2011-04",
          "2011-05",
          "2011-06",
          "2011-07",
          "2011-08",
          "2011-09",
          "2011-10",
          "2011-11",
          "2011-12",
          "2012-01",
          "2012-02",
          "2012-03",
          "2012-04",
          "2012-05",
          "2012-06",
          "2012-07",
          "2012-08",
          "2012-09",
          "2012-10",
          "2012-11",
          "2012-12",
          "2013-01",
          "2013-02",
          "2013-03",
          "2013-04",
          "2013-05",
          "2013-06",
          "2013-07",
          "2013-08",
          "2013-09",
          "2013-10",
          "2013-11",
          "2013-12",
          "2014-01",
          "2014-02",
          "2014-03",
          "2014-04",
          "2014-05",
          "2014-06",
          "2014-07",
          "2014-08",
          "2014-09",
          "2014-10",
          "2014-11",
          "2014-12",
          "2015-01",
          "2015-02",
          "2015-03",
          "2015-04",
          "2015-05",
          "2015-06",
          "2015-07",
          "2015-08",
          "2015-09",
          "2015-10",
          "2015-11",
          "2015-12",
          "2016-01",
          "2016-02",
          "2016-03",
          "2016-04",
          "2016-05",
          "2016-06",
          "2016-07",
          "2016-08",
          "2016-09",
          "2016-10",
          "2016-11",
          "2016-12",
          "2017-01",
          "2017-02",
          "2017-03",
          "2017-04",
          "2017-05",
          "2017-06",
          "2017-07"
         ],
         "xaxis": "x",
         "y": [
          5.66,
          4.27,
          3.37,
          2.02,
          2.03,
          2.42,
          2.86,
          5.06,
          4.09,
          5.16,
          6.15,
          5.62,
          5.12,
          5.02,
          5.9,
          4.3,
          4.88,
          3.89,
          6.12,
          6.94,
          5.22,
          5.09,
          5.71,
          5.92,
          4.51,
          3.71,
          4.77,
          3.89,
          3.47,
          3.98,
          3.51,
          3.75,
          3.96,
          3.74,
          4.59,
          3.32,
          3.85,
          4.16,
          3.76,
          4.1,
          4.06,
          3.54,
          3.68,
          3.93,
          3.91,
          4.34,
          4.81,
          4.23,
          4.58,
          4.09,
          3.74,
          3.78,
          4.23,
          4.11,
          4.43,
          4.16,
          4.21,
          4.87,
          4.88,
          4.25,
          4.35,
          4.3,
          3.9,
          3.96,
          4.08,
          4.97,
          4.55,
          5.1,
          4.89,
          4.63,
          5.14,
          4.55,
          5.07,
          4.43,
          4.64,
          4.48,
          4.7,
          4.69,
          3.78,
          4.5,
          3.94,
          4.21,
          4.55,
          4.24,
          4.31,
          3.99,
          4.32,
          4.03,
          4.12,
          3.8,
          4.21,
          4.11,
          4.55,
          4.4,
          4.22,
          4.03,
          4.11,
          4.26,
          3.93,
          3.86,
          4.07,
          3.87,
          4.28,
          4.64,
          4.31,
          4.51,
          4.79,
          4.51,
          4.54,
          4.6,
          4.18,
          4.36,
          4.36,
          4.08,
          4.25,
          4.4,
          4.77,
          4.76,
          4.56,
          4.63,
          4.69,
          4.64,
          4.65,
          4.93,
          4.49,
          4.81,
          5.3,
          4.88,
          4.98,
          5.52,
          5.28,
          5.08,
          5.2,
          5.47,
          5.15,
          5.17,
          4.77,
          5,
          4.71,
          4.81,
          5.34,
          5.52,
          4.99,
          4.81,
          4.42,
          4.48,
          4.11,
          4.14,
          4.02,
          4.21,
          4.22,
          4.8,
          4.84,
          4.64,
          4.73,
          4.63,
          4.55,
          4.17,
          3.88,
          3.89,
          3.85,
          3.81,
          3.87,
          3.9,
          4.18,
          4.51,
          4.41,
          4.39,
          3.96,
          3.79,
          3.79,
          3.7,
          3.3,
          3.62,
          3.66,
          3.63,
          3.63,
          3.69,
          3.4,
          3.49,
          3.56,
          3.24,
          3.17,
          3.25,
          3.11,
          3.02,
          3.51,
          3.22,
          3.52,
          3.39,
          3.49,
          3.17,
          3.43,
          3.02,
          3.6,
          2.88,
          3.19,
          2.77,
          2.85,
          2.66,
          3.15,
          3.28,
          3.29,
          2.94,
          2.99,
          2.45,
          2.62,
          2.53
         ],
         "yaxis": "y"
        },
        {
         "line": {
          "color": "#f6111c"
         },
         "name": "Graph connecting <br> the bars",
         "type": "scatter",
         "x": [
          "2000-04",
          "2000-05",
          "2000-06",
          "2000-07",
          "2000-08",
          "2000-09",
          "2000-10",
          "2000-11",
          "2000-12",
          "2001-01",
          "2001-02",
          "2001-03",
          "2001-04",
          "2001-05",
          "2001-06",
          "2001-07",
          "2001-08",
          "2001-09",
          "2001-10",
          "2001-11",
          "2001-12",
          "2002-01",
          "2002-02",
          "2002-03",
          "2002-04",
          "2002-05",
          "2002-06",
          "2002-07",
          "2002-08",
          "2002-09",
          "2002-10",
          "2002-11",
          "2002-12",
          "2003-01",
          "2003-02",
          "2003-03",
          "2003-04",
          "2003-05",
          "2003-06",
          "2003-07",
          "2003-08",
          "2003-09",
          "2003-10",
          "2003-11",
          "2003-12",
          "2004-01",
          "2004-02",
          "2004-03",
          "2004-04",
          "2004-05",
          "2004-06",
          "2004-07",
          "2004-08",
          "2004-09",
          "2004-10",
          "2004-11",
          "2004-12",
          "2005-01",
          "2005-02",
          "2005-03",
          "2005-04",
          "2005-05",
          "2005-06",
          "2005-07",
          "2005-08",
          "2005-09",
          "2005-10",
          "2005-11",
          "2005-12",
          "2006-01",
          "2006-02",
          "2006-03",
          "2006-04",
          "2006-05",
          "2006-06",
          "2006-07",
          "2006-08",
          "2006-09",
          "2006-10",
          "2006-11",
          "2006-12",
          "2007-01",
          "2007-02",
          "2007-03",
          "2007-04",
          "2007-05",
          "2007-06",
          "2007-07",
          "2007-08",
          "2007-09",
          "2007-10",
          "2007-11",
          "2007-12",
          "2008-01",
          "2008-02",
          "2008-03",
          "2008-04",
          "2008-05",
          "2008-06",
          "2008-07",
          "2008-08",
          "2008-09",
          "2008-10",
          "2008-11",
          "2008-12",
          "2009-01",
          "2009-02",
          "2009-03",
          "2009-04",
          "2009-05",
          "2009-06",
          "2009-07",
          "2009-08",
          "2009-09",
          "2009-10",
          "2009-11",
          "2009-12",
          "2010-01",
          "2010-02",
          "2010-03",
          "2010-04",
          "2010-05",
          "2010-06",
          "2010-07",
          "2010-08",
          "2010-09",
          "2010-10",
          "2010-11",
          "2010-12",
          "2011-01",
          "2011-02",
          "2011-03",
          "2011-04",
          "2011-05",
          "2011-06",
          "2011-07",
          "2011-08",
          "2011-09",
          "2011-10",
          "2011-11",
          "2011-12",
          "2012-01",
          "2012-02",
          "2012-03",
          "2012-04",
          "2012-05",
          "2012-06",
          "2012-07",
          "2012-08",
          "2012-09",
          "2012-10",
          "2012-11",
          "2012-12",
          "2013-01",
          "2013-02",
          "2013-03",
          "2013-04",
          "2013-05",
          "2013-06",
          "2013-07",
          "2013-08",
          "2013-09",
          "2013-10",
          "2013-11",
          "2013-12",
          "2014-01",
          "2014-02",
          "2014-03",
          "2014-04",
          "2014-05",
          "2014-06",
          "2014-07",
          "2014-08",
          "2014-09",
          "2014-10",
          "2014-11",
          "2014-12",
          "2015-01",
          "2015-02",
          "2015-03",
          "2015-04",
          "2015-05",
          "2015-06",
          "2015-07",
          "2015-08",
          "2015-09",
          "2015-10",
          "2015-11",
          "2015-12",
          "2016-01",
          "2016-02",
          "2016-03",
          "2016-04",
          "2016-05",
          "2016-06",
          "2016-07",
          "2016-08",
          "2016-09",
          "2016-10",
          "2016-11",
          "2016-12",
          "2017-01",
          "2017-02",
          "2017-03",
          "2017-04",
          "2017-05",
          "2017-06",
          "2017-07"
         ],
         "y": [
          5.66,
          4.27,
          3.37,
          2.02,
          2.03,
          2.42,
          2.86,
          5.06,
          4.09,
          5.16,
          6.15,
          5.62,
          5.12,
          5.02,
          5.9,
          4.3,
          4.88,
          3.89,
          6.12,
          6.94,
          5.22,
          5.09,
          5.71,
          5.92,
          4.51,
          3.71,
          4.77,
          3.89,
          3.47,
          3.98,
          3.51,
          3.75,
          3.96,
          3.74,
          4.59,
          3.32,
          3.85,
          4.16,
          3.76,
          4.1,
          4.06,
          3.54,
          3.68,
          3.93,
          3.91,
          4.34,
          4.81,
          4.23,
          4.58,
          4.09,
          3.74,
          3.78,
          4.23,
          4.11,
          4.43,
          4.16,
          4.21,
          4.87,
          4.88,
          4.25,
          4.35,
          4.3,
          3.9,
          3.96,
          4.08,
          4.97,
          4.55,
          5.1,
          4.89,
          4.63,
          5.14,
          4.55,
          5.07,
          4.43,
          4.64,
          4.48,
          4.7,
          4.69,
          3.78,
          4.5,
          3.94,
          4.21,
          4.55,
          4.24,
          4.31,
          3.99,
          4.32,
          4.03,
          4.12,
          3.8,
          4.21,
          4.11,
          4.55,
          4.4,
          4.22,
          4.03,
          4.11,
          4.26,
          3.93,
          3.86,
          4.07,
          3.87,
          4.28,
          4.64,
          4.31,
          4.51,
          4.79,
          4.51,
          4.54,
          4.6,
          4.18,
          4.36,
          4.36,
          4.08,
          4.25,
          4.4,
          4.77,
          4.76,
          4.56,
          4.63,
          4.69,
          4.64,
          4.65,
          4.93,
          4.49,
          4.81,
          5.3,
          4.88,
          4.98,
          5.52,
          5.28,
          5.08,
          5.2,
          5.47,
          5.15,
          5.17,
          4.77,
          5,
          4.71,
          4.81,
          5.34,
          5.52,
          4.99,
          4.81,
          4.42,
          4.48,
          4.11,
          4.14,
          4.02,
          4.21,
          4.22,
          4.8,
          4.84,
          4.64,
          4.73,
          4.63,
          4.55,
          4.17,
          3.88,
          3.89,
          3.85,
          3.81,
          3.87,
          3.9,
          4.18,
          4.51,
          4.41,
          4.39,
          3.96,
          3.79,
          3.79,
          3.7,
          3.3,
          3.62,
          3.66,
          3.63,
          3.63,
          3.69,
          3.4,
          3.49,
          3.56,
          3.24,
          3.17,
          3.25,
          3.11,
          3.02,
          3.51,
          3.22,
          3.52,
          3.39,
          3.49,
          3.17,
          3.43,
          3.02,
          3.6,
          2.88,
          3.19,
          2.77,
          2.85,
          2.66,
          3.15,
          3.28,
          3.29,
          2.94,
          2.99,
          2.45,
          2.62,
          2.53
         ]
        },
        {
         "line": {
          "color": "#05e80d"
         },
         "name": "Interpolation <br> degree 14",
         "type": "scatter",
         "x": [
          "2000-04",
          "2000-05",
          "2000-06",
          "2000-07",
          "2000-08",
          "2000-09",
          "2000-10",
          "2000-11",
          "2000-12",
          "2001-01",
          "2001-02",
          "2001-03",
          "2001-04",
          "2001-05",
          "2001-06",
          "2001-07",
          "2001-08",
          "2001-09",
          "2001-10",
          "2001-11",
          "2001-12",
          "2002-01",
          "2002-02",
          "2002-03",
          "2002-04",
          "2002-05",
          "2002-06",
          "2002-07",
          "2002-08",
          "2002-09",
          "2002-10",
          "2002-11",
          "2002-12",
          "2003-01",
          "2003-02",
          "2003-03",
          "2003-04",
          "2003-05",
          "2003-06",
          "2003-07",
          "2003-08",
          "2003-09",
          "2003-10",
          "2003-11",
          "2003-12",
          "2004-01",
          "2004-02",
          "2004-03",
          "2004-04",
          "2004-05",
          "2004-06",
          "2004-07",
          "2004-08",
          "2004-09",
          "2004-10",
          "2004-11",
          "2004-12",
          "2005-01",
          "2005-02",
          "2005-03",
          "2005-04",
          "2005-05",
          "2005-06",
          "2005-07",
          "2005-08",
          "2005-09",
          "2005-10",
          "2005-11",
          "2005-12",
          "2006-01",
          "2006-02",
          "2006-03",
          "2006-04",
          "2006-05",
          "2006-06",
          "2006-07",
          "2006-08",
          "2006-09",
          "2006-10",
          "2006-11",
          "2006-12",
          "2007-01",
          "2007-02",
          "2007-03",
          "2007-04",
          "2007-05",
          "2007-06",
          "2007-07",
          "2007-08",
          "2007-09",
          "2007-10",
          "2007-11",
          "2007-12",
          "2008-01",
          "2008-02",
          "2008-03",
          "2008-04",
          "2008-05",
          "2008-06",
          "2008-07",
          "2008-08",
          "2008-09",
          "2008-10",
          "2008-11",
          "2008-12",
          "2009-01",
          "2009-02",
          "2009-03",
          "2009-04",
          "2009-05",
          "2009-06",
          "2009-07",
          "2009-08",
          "2009-09",
          "2009-10",
          "2009-11",
          "2009-12",
          "2010-01",
          "2010-02",
          "2010-03",
          "2010-04",
          "2010-05",
          "2010-06",
          "2010-07",
          "2010-08",
          "2010-09",
          "2010-10",
          "2010-11",
          "2010-12",
          "2011-01",
          "2011-02",
          "2011-03",
          "2011-04",
          "2011-05",
          "2011-06",
          "2011-07",
          "2011-08",
          "2011-09",
          "2011-10",
          "2011-11",
          "2011-12",
          "2012-01",
          "2012-02",
          "2012-03",
          "2012-04",
          "2012-05",
          "2012-06",
          "2012-07",
          "2012-08",
          "2012-09",
          "2012-10",
          "2012-11",
          "2012-12",
          "2013-01",
          "2013-02",
          "2013-03",
          "2013-04",
          "2013-05",
          "2013-06",
          "2013-07",
          "2013-08",
          "2013-09",
          "2013-10",
          "2013-11",
          "2013-12",
          "2014-01",
          "2014-02",
          "2014-03",
          "2014-04",
          "2014-05",
          "2014-06",
          "2014-07",
          "2014-08",
          "2014-09",
          "2014-10",
          "2014-11",
          "2014-12",
          "2015-01",
          "2015-02",
          "2015-03",
          "2015-04",
          "2015-05",
          "2015-06",
          "2015-07",
          "2015-08",
          "2015-09",
          "2015-10",
          "2015-11",
          "2015-12",
          "2016-01",
          "2016-02",
          "2016-03",
          "2016-04",
          "2016-05",
          "2016-06",
          "2016-07",
          "2016-08",
          "2016-09",
          "2016-10",
          "2016-11",
          "2016-12",
          "2017-01",
          "2017-02",
          "2017-03",
          "2017-04",
          "2017-05",
          "2017-06",
          "2017-07"
         ],
         "y": [
          5.500170334100408,
          3.9816300046703765,
          3.1331176410410473,
          2.7706465384812327,
          2.7474927040709156,
          2.9482363282273165,
          3.283578168322588,
          3.685848008581644,
          4.105129630283037,
          4.505933477846025,
          4.864354469069359,
          5.165658199708138,
          5.402244160609586,
          5.571939545450832,
          5.676581803243904,
          5.720852305583209,
          5.711327376408538,
          5.655716493092685,
          5.562260732171019,
          5.439267520265956,
          5.294760479027703,
          5.1362256396125066,
          4.970437563861226,
          4.803350961590498,
          4.64004525111869,
          4.484711187370228,
          4.340670191946954,
          4.21041837499188,
          4.09568845137447,
          3.9975238348960036,
          3.9163601544054965,
          3.8521102848618156,
          3.8042497338126156,
          3.7718998782704505,
          3.753907116739783,
          3.7489164939434976,
          3.755438778740092,
          3.7719103356320627,
          3.796745433304915,
          3.8283808857560686,
          3.8653131280785695,
          3.9061279950049212,
          3.949523600415538,
          3.9943268146079065,
          4.039503907036734,
          4.0841659692213454,
          4.127569758832308,
          4.169114614688543,
          4.20833608635363,
          4.244896903589676,
          4.278575882595049,
          4.309255329600776,
          4.336907459924833,
          4.361580303676415,
          4.383383519439266,
          4.402474485500155,
          4.4190449859196415,
          4.433308757013322,
          4.445490108876516,
          4.455813787833371,
          4.464496199530748,
          4.471738068661967,
          4.477718571544919,
          4.48259094113995,
          4.4864795115207174,
          4.48947813987181,
          4.491649919665229,
          4.493028077522544,
          4.493617929548957,
          4.493399759899087,
          4.492332475052617,
          4.490357880846853,
          4.487405427520817,
          4.483397267729503,
          4.478253476135542,
          4.471897284591265,
          4.464260195437959,
          4.4552868451845224,
          4.444939501410298,
          4.433202091394439,
          4.420083672170397,
          4.405621268567847,
          4.389882020135497,
          4.372964595068504,
          4.354999843410689,
          4.336150679042036,
          4.316611193295084,
          4.296605019611824,
          4.276382981530422,
          4.256220069296442,
          4.236411800411706,
          4.217270034054857,
          4.199118313987963,
          4.182286823533409,
          4.167107046695809,
          4.153906223853079,
          4.143001707801919,
          4.1346953125510595,
          4.1292677587252715,
          4.126973312927685,
          4.128034714394946,
          4.13263847704769,
          4.14093066108574,
          4.15301317569504,
          4.168940697327746,
          4.188718253231972,
          4.212299525516835,
          4.239585909179753,
          4.270426361269241,
          4.304618041508538,
          4.341907762999176,
          4.381994236398734,
          4.42453108356347,
          4.4691305964878865,
          4.5153681832522565,
          4.562787460175384,
          4.610905911650683,
          4.659221043472765,
          4.707216939703427,
          4.754371157992057,
          4.800161813756774,
          4.844074787492042,
          4.885610942858115,
          4.92429322903461,
          4.959673562163017,
          4.991339383586224,
          5.018919772756437,
          5.042091031335115,
          5.060581605804264,
          5.074176307353301,
          5.082719682555306,
          5.086118538747256,
          5.084343491207618,
          5.0774295426423866,
          5.065475623179678,
          5.048643103888242,
          5.0271532579895295,
          5.001283698380037,
          4.9713638308925905,
          4.937769355152825,
          4.900915905432164,
          4.861251891063678,
          4.819250656808631,
          4.775402079070509,
          4.730203737570581,
          4.6841517579334,
          4.637731610880295,
          4.591408851659773,
          4.54562016201129,
          4.500764699974999,
          4.457196165740463,
          4.415215481861173,
          4.375064531857778,
          4.33692093167039,
          4.300894211970463,
          4.267023218911928,
          4.235275290416347,
          4.205546930407589,
          4.1776662469570605,
          4.1513972535800105,
          4.126445843646114,
          4.10246761967523,
          4.079077479424386,
          4.055860527324272,
          4.032384737089299,
          4.008214660192479,
          3.9829260513758484,
          3.956121417628934,
          3.927445355865669,
          3.8966004406311616,
          3.8633619197368034,
          3.8275917490655207,
          3.7892509131390444,
          3.748409486039083,
          3.705254187223604,
          3.6600924115934856,
          3.6133526597024614,
          3.565580067227362,
          3.517427688618268,
          3.469641886359116,
          3.4230422363894313,
          3.378495666101991,
          3.336884566570803,
          3.2990691820355726,
          3.265845018581321,
          3.237895105495644,
          3.2157393270488264,
          3.1996813986122925,
          3.1897563697888396,
          3.1856800644138135,
          3.1868048152783617,
          3.192085329390098,
          3.2000580925250164,
          3.2088419766580687,
          3.2161663076407345,
          3.219433160555429,
          3.215825871898277,
          3.2024713938246103,
          3.1766722957433577,
          3.1362210976515934,
          3.0798132594521137,
          3.0075780917661747,
          2.9217502686635326,
          2.827501588784141,
          2.73396559160759,
          2.6554811031722787,
          2.613089148093703,
          2.6363222459238345
         ]
        },
        {
         "line": {
          "color": "#101211"
         },
         "name": "unemployment <br> rate",
         "type": "scatter",
         "x": [
          "2000-04",
          "2000-05",
          "2000-06",
          "2000-07",
          "2000-08",
          "2000-09",
          "2000-10",
          "2000-11",
          "2000-12",
          "2001-01",
          "2001-02",
          "2001-03",
          "2001-04",
          "2001-05",
          "2001-06",
          "2001-07",
          "2001-08",
          "2001-09",
          "2001-10",
          "2001-11",
          "2001-12",
          "2002-01",
          "2002-02",
          "2002-03",
          "2002-04",
          "2002-05",
          "2002-06",
          "2002-07",
          "2002-08",
          "2002-09",
          "2002-10",
          "2002-11",
          "2002-12",
          "2003-01",
          "2003-02",
          "2003-03",
          "2003-04",
          "2003-05",
          "2003-06",
          "2003-07",
          "2003-08",
          "2003-09",
          "2003-10",
          "2003-11",
          "2003-12",
          "2004-01",
          "2004-02",
          "2004-03",
          "2004-04",
          "2004-05",
          "2004-06",
          "2004-07",
          "2004-08",
          "2004-09",
          "2004-10",
          "2004-11",
          "2004-12",
          "2005-01",
          "2005-02",
          "2005-03",
          "2005-04",
          "2005-05",
          "2005-06",
          "2005-07",
          "2005-08",
          "2005-09",
          "2005-10",
          "2005-11",
          "2005-12",
          "2006-01",
          "2006-02",
          "2006-03",
          "2006-04",
          "2006-05",
          "2006-06",
          "2006-07",
          "2006-08",
          "2006-09",
          "2006-10",
          "2006-11",
          "2006-12",
          "2007-01",
          "2007-02",
          "2007-03",
          "2007-04",
          "2007-05",
          "2007-06",
          "2007-07",
          "2007-08",
          "2007-09",
          "2007-10",
          "2007-11",
          "2007-12",
          "2008-01",
          "2008-02",
          "2008-03",
          "2008-04",
          "2008-05",
          "2008-06",
          "2008-07",
          "2008-08",
          "2008-09",
          "2008-10",
          "2008-11",
          "2008-12",
          "2009-01",
          "2009-02",
          "2009-03",
          "2009-04",
          "2009-05",
          "2009-06",
          "2009-07",
          "2009-08",
          "2009-09",
          "2009-10",
          "2009-11",
          "2009-12",
          "2010-01",
          "2010-02",
          "2010-03",
          "2010-04",
          "2010-05",
          "2010-06",
          "2010-07",
          "2010-08",
          "2010-09",
          "2010-10",
          "2010-11",
          "2010-12",
          "2011-01",
          "2011-02",
          "2011-03",
          "2011-04",
          "2011-05",
          "2011-06",
          "2011-07",
          "2011-08",
          "2011-09",
          "2011-10",
          "2011-11",
          "2011-12",
          "2012-01",
          "2012-02",
          "2012-03",
          "2012-04",
          "2012-05",
          "2012-06",
          "2012-07",
          "2012-08",
          "2012-09",
          "2012-10",
          "2012-11",
          "2012-12",
          "2013-01",
          "2013-02",
          "2013-03",
          "2013-04",
          "2013-05",
          "2013-06",
          "2013-07",
          "2013-08",
          "2013-09",
          "2013-10",
          "2013-11",
          "2013-12",
          "2014-01",
          "2014-02",
          "2014-03",
          "2014-04",
          "2014-05",
          "2014-06",
          "2014-07",
          "2014-08",
          "2014-09",
          "2014-10",
          "2014-11",
          "2014-12",
          "2015-01",
          "2015-02",
          "2015-03",
          "2015-04",
          "2015-05",
          "2015-06",
          "2015-07",
          "2015-08",
          "2015-09",
          "2015-10",
          "2015-11",
          "2015-12",
          "2016-01",
          "2016-02",
          "2016-03",
          "2016-04",
          "2016-05",
          "2016-06",
          "2016-07",
          "2016-08",
          "2016-09",
          "2016-10",
          "2016-11",
          "2016-12",
          "2017-01",
          "2017-02",
          "2017-03",
          "2017-04",
          "2017-05",
          "2017-06",
          "2017-07"
         ],
         "y": [
          3.5313375488007908,
          4.029855259470834,
          4.161253021082858,
          4.110934325377262,
          3.9970795322758503,
          3.889695397452656,
          3.825280680814012,
          3.817941879761727,
          3.8676608746150856,
          3.9663015365097865,
          4.101843196907622,
          4.261243555422688,
          4.43226051519822,
          4.604500139717858,
          4.769905118228415,
          4.922853633864122,
          5.060001292310373,
          5.1799678412909484,
          5.282944943865334,
          5.370280504342779,
          5.44407831089492,
          5.50683845619465,
          5.561153598505809,
          5.609468165531919,
          5.653901674075714,
          5.696133083969059,
          5.737340215241269,
          5.778186465510903,
          5.818846140187402,
          5.859059455011023,
          5.898208522468469,
          5.93540625114146,
          5.969590954053102,
          5.999620483262014,
          6.024360806268627,
          6.042765053991699,
          6.053940152554423,
          6.057199166239576,
          6.052098400929072,
          6.038459129199067,
          6.016374489574359,
          5.986202679420707,
          5.948548004027403,
          5.904231667640743,
          5.854254403607948,
          5.799753148698622,
          5.741953983382414,
          5.682123496001804,
          5.621520598350342,
          5.561350633602128,
          5.502723389680416,
          5.446616372259142,
          5.393844411925393,
          5.345036393134949,
          5.300619603477078,
          5.260811922122002,
          5.225621801117095,
          5.194855748602705,
          5.16813280636271,
          5.144905321804011,
          5.124485161692398,
          5.106074387076494,
          5.088799323246668,
          5.07174690093491,
          5.05400212112775,
          5.034685511021031,
          5.012989466799102,
          4.988212451953849,
          4.959790107444389,
          4.927322425203664,
          4.890596281967871,
          4.849602745937876,
          4.804548730974341,
          4.755862712130774,
          4.704194375239793,
          4.650408226970644,
          4.5955713305840415,
          4.540935463928461,
          4.487914163772144,
          4.438055158864375,
          4.393008890574235,
          4.354493799622492,
          4.324259234340815,
          4.304046747985283,
          4.2955507478644215,
          4.300379292430331,
          4.320015949235917,
          4.355783571717334,
          4.408810730038569,
          4.480001594893309,
          4.5700099388256845,
          4.679217734228143,
          4.8077189505375895,
          4.955308845353512,
          5.1214789939338,
          5.305418238794965,
          5.506019528811178,
          5.721892622183712,
          5.951382288126702,
          6.192591855695975,
          6.443411530664207,
          6.701551038302499,
          6.964575901477019,
          7.229946686067238,
          7.495060582174984,
          7.757294252172983,
          8.014047414456355,
          8.262786192331298,
          8.501085256391852,
          8.726668190485626,
          8.93744521185874,
          9.13154741639442,
          9.307356823298845,
          9.463532062090495,
          9.599028413327384,
          9.713112822403868,
          9.80537247845756,
          9.875717687277586,
          9.924378274279697,
          9.951894591220444,
          9.959101707238364,
          9.94710868379973,
          9.917272277944182,
          9.871166334190404,
          9.81054719936207,
          9.737314824704953,
          9.653472983687244,
          9.561086080434752,
          9.46223697639479,
          9.358982831845609,
          9.253314116637124,
          9.14711362339568,
          9.042119897575846,
          8.939893307116025,
          8.841787392309866,
          8.74892386713393,
          8.66217478164024,
          8.582150240037748,
          8.509192518649646,
          8.443377088879762,
          8.384518056332523,
          8.332185172853615,
          8.285720643253686,
          8.244267413789558,
          8.206798009499236,
          8.172150306703543,
          8.139067607394637,
          8.106237912231403,
          8.072337966946336,
          8.036073964285173,
          7.996226700346783,
          7.951689359366226,
          7.9015040249389745,
          7.84489186236322,
          7.781283322127757,
          7.710337954482798,
          7.631949218478926,
          7.546259532321303,
          7.453648707692027,
          7.354727957257008,
          7.250313077910446,
          7.141404737069284,
          7.02913957311988,
          6.914767446872343,
          6.799587761965528,
          6.684910380063137,
          6.5719982172246425,
          6.4620194128,
          6.356004633737593,
          6.254795714048827,
          6.159009151733343,
          6.06901976628791,
          5.984934089206291,
          5.906594937334046,
          5.833595227354147,
          5.765289672965899,
          5.700858666755719,
          5.639334992517805,
          5.579723170752011,
          5.521008459712029,
          5.462309457492331,
          5.402907934675519,
          5.342386327229849,
          5.280653366297116,
          5.218046077518325,
          5.155312385533847,
          5.09363756811017,
          5.03459271265635,
          4.980060554219161,
          4.932029069927827,
          4.8924560952923,
          4.862979510400496,
          4.844619589396784,
          4.837478499323105,
          4.840353787315639,
          4.850507896692282,
          4.863491878110441,
          4.873024958902617,
          4.871347831087185,
          4.849955543861061,
          4.800672221496489,
          4.717922829787274,
          4.601755929538059,
          4.462404064437658,
          4.326682775799245,
          4.2466864642121855,
          4.311157740852933,
          4.660965363746424
         ]
        }
       ],
       "layout": {
        "annotations": [
         {
          "showarrow": false,
          "text": "",
          "x": "2000-06",
          "xanchor": "right",
          "xref": "x",
          "y": 1,
          "yanchor": "top",
          "yref": "y domain"
         },
         {
          "showarrow": false,
          "text": "",
          "x": "2000-10",
          "xanchor": "right",
          "xref": "x",
          "y": 1,
          "yanchor": "top",
          "yref": "y domain"
         },
         {
          "showarrow": false,
          "text": "increase",
          "x": "2003-04",
          "xanchor": "right",
          "xref": "x",
          "y": 1,
          "yanchor": "top",
          "yref": "y domain"
         },
         {
          "showarrow": false,
          "text": "decline",
          "x": "2007-04",
          "xanchor": "right",
          "xref": "x",
          "y": 1,
          "yanchor": "top",
          "yref": "y domain"
         },
         {
          "showarrow": false,
          "text": "",
          "x": "2010-03",
          "xanchor": "right",
          "xref": "x",
          "y": 1,
          "yanchor": "top",
          "yref": "y domain"
         },
         {
          "showarrow": false,
          "text": "",
          "x": "2016-05",
          "xanchor": "right",
          "xref": "x",
          "y": 1,
          "yanchor": "top",
          "yref": "y domain"
         },
         {
          "showarrow": false,
          "text": "",
          "x": "2016-09",
          "xanchor": "right",
          "xref": "x",
          "y": 1,
          "yanchor": "top",
          "yref": "y domain"
         },
         {
          "showarrow": false,
          "text": "",
          "x": "2017-05",
          "xanchor": "right",
          "xref": "x",
          "y": 1,
          "yanchor": "top",
          "yref": "y domain"
         },
         {
          "showarrow": false,
          "text": "",
          "x": "2017-07",
          "xanchor": "right",
          "xref": "x",
          "y": 1,
          "yanchor": "top",
          "yref": "y domain"
         }
        ],
        "autosize": false,
        "barmode": "relative",
        "height": 600,
        "legend": {
         "tracegroupgap": 0
        },
        "margin": {
         "l": 30,
         "r": 190,
         "t": 60
        },
        "paper_bgcolor": "rgba(0,0,0,0)",
        "shapes": [
         {
          "fillcolor": "red",
          "line": {
           "width": 0
          },
          "opacity": 0.4,
          "type": "rect",
          "x0": "2000-04",
          "x1": "2000-07",
          "xref": "x",
          "y0": 0,
          "y1": 0.45,
          "yref": "y domain"
         },
         {
          "fillcolor": "green",
          "line": {
           "width": 0
          },
          "opacity": 0.4,
          "type": "rect",
          "x0": "2000-07",
          "x1": "2001-07",
          "xref": "x",
          "y0": 0,
          "y1": 0.45,
          "yref": "y domain"
         },
         {
          "fillcolor": "red",
          "line": {
           "width": 0
          },
          "opacity": 0.4,
          "type": "rect",
          "x0": "2001-07",
          "x1": "2003-02",
          "xref": "x",
          "y0": 0,
          "y1": 0.45,
          "yref": "y domain"
         },
         {
          "fillcolor": "green",
          "line": {
           "width": 0
          },
          "opacity": 0.4,
          "type": "rect",
          "x0": "2003-02",
          "x1": "2005-12",
          "xref": "x",
          "y0": 0,
          "y1": 0.45,
          "yref": "y domain"
         },
         {
          "fillcolor": "red",
          "line": {
           "width": 0
          },
          "opacity": 0.4,
          "type": "rect",
          "x0": "2005-12",
          "x1": "2008-07",
          "xref": "x",
          "y0": 0,
          "y1": 0.45,
          "yref": "y domain"
         },
         {
          "fillcolor": "green",
          "line": {
           "width": 0
          },
          "opacity": 0.4,
          "type": "rect",
          "x0": "2008-07",
          "x1": "2011-03",
          "xref": "x",
          "y0": 0,
          "y1": 0.45,
          "yref": "y domain"
         },
         {
          "fillcolor": "red",
          "line": {
           "width": 0
          },
          "opacity": 0.4,
          "type": "rect",
          "x0": "2011-03",
          "x1": "2016-01",
          "xref": "x",
          "y0": 0,
          "y1": 0.45,
          "yref": "y domain"
         },
         {
          "fillcolor": "green",
          "line": {
           "width": 0
          },
          "opacity": 0.4,
          "type": "rect",
          "x0": "2016-01",
          "x1": "2016-07",
          "xref": "x",
          "y0": 0,
          "y1": 0.45,
          "yref": "y domain"
         },
         {
          "fillcolor": "red",
          "line": {
           "width": 0
          },
          "opacity": 0.4,
          "type": "rect",
          "x0": "2016-07",
          "x1": "2017-06",
          "xref": "x",
          "y0": 0,
          "y1": 0.45,
          "yref": "y domain"
         },
         {
          "fillcolor": "green",
          "line": {
           "width": 0
          },
          "opacity": 0.4,
          "type": "rect",
          "x0": "2017-06",
          "x1": "2017-07",
          "xref": "x",
          "y0": 0,
          "y1": 0.45,
          "yref": "y domain"
         },
         {
          "fillcolor": "green",
          "line": {
           "width": 0
          },
          "opacity": 0.25,
          "type": "rect",
          "x0": "2000-04",
          "x1": "2000-06",
          "xref": "x",
          "y0": 0.48,
          "y1": 1,
          "yref": "y domain"
         },
         {
          "fillcolor": "red",
          "line": {
           "width": 0
          },
          "opacity": 0.25,
          "type": "rect",
          "x0": "2000-06",
          "x1": "2000-10",
          "xref": "x",
          "y0": 0.48,
          "y1": 1,
          "yref": "y domain"
         },
         {
          "fillcolor": "green",
          "line": {
           "width": 0
          },
          "opacity": 0.25,
          "type": "rect",
          "x0": "2000-10",
          "x1": "2003-04",
          "xref": "x",
          "y0": 0.48,
          "y1": 1,
          "yref": "y domain"
         },
         {
          "fillcolor": "red",
          "line": {
           "width": 0
          },
          "opacity": 0.25,
          "type": "rect",
          "x0": "2003-04",
          "x1": "2007-04",
          "xref": "x",
          "y0": 0.48,
          "y1": 1,
          "yref": "y domain"
         },
         {
          "fillcolor": "green",
          "line": {
           "width": 0
          },
          "opacity": 0.25,
          "type": "rect",
          "x0": "2007-04",
          "x1": "2010-03",
          "xref": "x",
          "y0": 0.48,
          "y1": 1,
          "yref": "y domain"
         },
         {
          "fillcolor": "red",
          "line": {
           "width": 0
          },
          "opacity": 0.25,
          "type": "rect",
          "x0": "2010-03",
          "x1": "2016-05",
          "xref": "x",
          "y0": 0.48,
          "y1": 1,
          "yref": "y domain"
         },
         {
          "fillcolor": "green",
          "line": {
           "width": 0
          },
          "opacity": 0.25,
          "type": "rect",
          "x0": "2016-05",
          "x1": "2016-09",
          "xref": "x",
          "y0": 0.48,
          "y1": 1,
          "yref": "y domain"
         },
         {
          "fillcolor": "red",
          "line": {
           "width": 0
          },
          "opacity": 0.25,
          "type": "rect",
          "x0": "2016-09",
          "x1": "2017-05",
          "xref": "x",
          "y0": 0.48,
          "y1": 1,
          "yref": "y domain"
         },
         {
          "fillcolor": "green",
          "line": {
           "width": 0
          },
          "opacity": 0.25,
          "type": "rect",
          "x0": "2017-05",
          "x1": "2017-07",
          "xref": "x",
          "y0": 0.48,
          "y1": 1,
          "yref": "y domain"
         }
        ],
        "template": {
         "data": {
          "bar": [
           {
            "error_x": {
             "color": "#2a3f5f"
            },
            "error_y": {
             "color": "#2a3f5f"
            },
            "marker": {
             "line": {
              "color": "#E5ECF6",
              "width": 0.5
             },
             "pattern": {
              "fillmode": "overlay",
              "size": 10,
              "solidity": 0.2
             }
            },
            "type": "bar"
           }
          ],
          "barpolar": [
           {
            "marker": {
             "line": {
              "color": "#E5ECF6",
              "width": 0.5
             },
             "pattern": {
              "fillmode": "overlay",
              "size": 10,
              "solidity": 0.2
             }
            },
            "type": "barpolar"
           }
          ],
          "carpet": [
           {
            "aaxis": {
             "endlinecolor": "#2a3f5f",
             "gridcolor": "white",
             "linecolor": "white",
             "minorgridcolor": "white",
             "startlinecolor": "#2a3f5f"
            },
            "baxis": {
             "endlinecolor": "#2a3f5f",
             "gridcolor": "white",
             "linecolor": "white",
             "minorgridcolor": "white",
             "startlinecolor": "#2a3f5f"
            },
            "type": "carpet"
           }
          ],
          "choropleth": [
           {
            "colorbar": {
             "outlinewidth": 0,
             "ticks": ""
            },
            "type": "choropleth"
           }
          ],
          "contour": [
           {
            "colorbar": {
             "outlinewidth": 0,
             "ticks": ""
            },
            "colorscale": [
             [
              0,
              "#0d0887"
             ],
             [
              0.1111111111111111,
              "#46039f"
             ],
             [
              0.2222222222222222,
              "#7201a8"
             ],
             [
              0.3333333333333333,
              "#9c179e"
             ],
             [
              0.4444444444444444,
              "#bd3786"
             ],
             [
              0.5555555555555556,
              "#d8576b"
             ],
             [
              0.6666666666666666,
              "#ed7953"
             ],
             [
              0.7777777777777778,
              "#fb9f3a"
             ],
             [
              0.8888888888888888,
              "#fdca26"
             ],
             [
              1,
              "#f0f921"
             ]
            ],
            "type": "contour"
           }
          ],
          "contourcarpet": [
           {
            "colorbar": {
             "outlinewidth": 0,
             "ticks": ""
            },
            "type": "contourcarpet"
           }
          ],
          "heatmap": [
           {
            "colorbar": {
             "outlinewidth": 0,
             "ticks": ""
            },
            "colorscale": [
             [
              0,
              "#0d0887"
             ],
             [
              0.1111111111111111,
              "#46039f"
             ],
             [
              0.2222222222222222,
              "#7201a8"
             ],
             [
              0.3333333333333333,
              "#9c179e"
             ],
             [
              0.4444444444444444,
              "#bd3786"
             ],
             [
              0.5555555555555556,
              "#d8576b"
             ],
             [
              0.6666666666666666,
              "#ed7953"
             ],
             [
              0.7777777777777778,
              "#fb9f3a"
             ],
             [
              0.8888888888888888,
              "#fdca26"
             ],
             [
              1,
              "#f0f921"
             ]
            ],
            "type": "heatmap"
           }
          ],
          "heatmapgl": [
           {
            "colorbar": {
             "outlinewidth": 0,
             "ticks": ""
            },
            "colorscale": [
             [
              0,
              "#0d0887"
             ],
             [
              0.1111111111111111,
              "#46039f"
             ],
             [
              0.2222222222222222,
              "#7201a8"
             ],
             [
              0.3333333333333333,
              "#9c179e"
             ],
             [
              0.4444444444444444,
              "#bd3786"
             ],
             [
              0.5555555555555556,
              "#d8576b"
             ],
             [
              0.6666666666666666,
              "#ed7953"
             ],
             [
              0.7777777777777778,
              "#fb9f3a"
             ],
             [
              0.8888888888888888,
              "#fdca26"
             ],
             [
              1,
              "#f0f921"
             ]
            ],
            "type": "heatmapgl"
           }
          ],
          "histogram": [
           {
            "marker": {
             "pattern": {
              "fillmode": "overlay",
              "size": 10,
              "solidity": 0.2
             }
            },
            "type": "histogram"
           }
          ],
          "histogram2d": [
           {
            "colorbar": {
             "outlinewidth": 0,
             "ticks": ""
            },
            "colorscale": [
             [
              0,
              "#0d0887"
             ],
             [
              0.1111111111111111,
              "#46039f"
             ],
             [
              0.2222222222222222,
              "#7201a8"
             ],
             [
              0.3333333333333333,
              "#9c179e"
             ],
             [
              0.4444444444444444,
              "#bd3786"
             ],
             [
              0.5555555555555556,
              "#d8576b"
             ],
             [
              0.6666666666666666,
              "#ed7953"
             ],
             [
              0.7777777777777778,
              "#fb9f3a"
             ],
             [
              0.8888888888888888,
              "#fdca26"
             ],
             [
              1,
              "#f0f921"
             ]
            ],
            "type": "histogram2d"
           }
          ],
          "histogram2dcontour": [
           {
            "colorbar": {
             "outlinewidth": 0,
             "ticks": ""
            },
            "colorscale": [
             [
              0,
              "#0d0887"
             ],
             [
              0.1111111111111111,
              "#46039f"
             ],
             [
              0.2222222222222222,
              "#7201a8"
             ],
             [
              0.3333333333333333,
              "#9c179e"
             ],
             [
              0.4444444444444444,
              "#bd3786"
             ],
             [
              0.5555555555555556,
              "#d8576b"
             ],
             [
              0.6666666666666666,
              "#ed7953"
             ],
             [
              0.7777777777777778,
              "#fb9f3a"
             ],
             [
              0.8888888888888888,
              "#fdca26"
             ],
             [
              1,
              "#f0f921"
             ]
            ],
            "type": "histogram2dcontour"
           }
          ],
          "mesh3d": [
           {
            "colorbar": {
             "outlinewidth": 0,
             "ticks": ""
            },
            "type": "mesh3d"
           }
          ],
          "parcoords": [
           {
            "line": {
             "colorbar": {
              "outlinewidth": 0,
              "ticks": ""
             }
            },
            "type": "parcoords"
           }
          ],
          "pie": [
           {
            "automargin": true,
            "type": "pie"
           }
          ],
          "scatter": [
           {
            "fillpattern": {
             "fillmode": "overlay",
             "size": 10,
             "solidity": 0.2
            },
            "type": "scatter"
           }
          ],
          "scatter3d": [
           {
            "line": {
             "colorbar": {
              "outlinewidth": 0,
              "ticks": ""
             }
            },
            "marker": {
             "colorbar": {
              "outlinewidth": 0,
              "ticks": ""
             }
            },
            "type": "scatter3d"
           }
          ],
          "scattercarpet": [
           {
            "marker": {
             "colorbar": {
              "outlinewidth": 0,
              "ticks": ""
             }
            },
            "type": "scattercarpet"
           }
          ],
          "scattergeo": [
           {
            "marker": {
             "colorbar": {
              "outlinewidth": 0,
              "ticks": ""
             }
            },
            "type": "scattergeo"
           }
          ],
          "scattergl": [
           {
            "marker": {
             "colorbar": {
              "outlinewidth": 0,
              "ticks": ""
             }
            },
            "type": "scattergl"
           }
          ],
          "scattermapbox": [
           {
            "marker": {
             "colorbar": {
              "outlinewidth": 0,
              "ticks": ""
             }
            },
            "type": "scattermapbox"
           }
          ],
          "scatterpolar": [
           {
            "marker": {
             "colorbar": {
              "outlinewidth": 0,
              "ticks": ""
             }
            },
            "type": "scatterpolar"
           }
          ],
          "scatterpolargl": [
           {
            "marker": {
             "colorbar": {
              "outlinewidth": 0,
              "ticks": ""
             }
            },
            "type": "scatterpolargl"
           }
          ],
          "scatterternary": [
           {
            "marker": {
             "colorbar": {
              "outlinewidth": 0,
              "ticks": ""
             }
            },
            "type": "scatterternary"
           }
          ],
          "surface": [
           {
            "colorbar": {
             "outlinewidth": 0,
             "ticks": ""
            },
            "colorscale": [
             [
              0,
              "#0d0887"
             ],
             [
              0.1111111111111111,
              "#46039f"
             ],
             [
              0.2222222222222222,
              "#7201a8"
             ],
             [
              0.3333333333333333,
              "#9c179e"
             ],
             [
              0.4444444444444444,
              "#bd3786"
             ],
             [
              0.5555555555555556,
              "#d8576b"
             ],
             [
              0.6666666666666666,
              "#ed7953"
             ],
             [
              0.7777777777777778,
              "#fb9f3a"
             ],
             [
              0.8888888888888888,
              "#fdca26"
             ],
             [
              1,
              "#f0f921"
             ]
            ],
            "type": "surface"
           }
          ],
          "table": [
           {
            "cells": {
             "fill": {
              "color": "#EBF0F8"
             },
             "line": {
              "color": "white"
             }
            },
            "header": {
             "fill": {
              "color": "#C8D4E3"
             },
             "line": {
              "color": "white"
             }
            },
            "type": "table"
           }
          ]
         },
         "layout": {
          "annotationdefaults": {
           "arrowcolor": "#2a3f5f",
           "arrowhead": 0,
           "arrowwidth": 1
          },
          "autotypenumbers": "strict",
          "coloraxis": {
           "colorbar": {
            "outlinewidth": 0,
            "ticks": ""
           }
          },
          "colorscale": {
           "diverging": [
            [
             0,
             "#8e0152"
            ],
            [
             0.1,
             "#c51b7d"
            ],
            [
             0.2,
             "#de77ae"
            ],
            [
             0.3,
             "#f1b6da"
            ],
            [
             0.4,
             "#fde0ef"
            ],
            [
             0.5,
             "#f7f7f7"
            ],
            [
             0.6,
             "#e6f5d0"
            ],
            [
             0.7,
             "#b8e186"
            ],
            [
             0.8,
             "#7fbc41"
            ],
            [
             0.9,
             "#4d9221"
            ],
            [
             1,
             "#276419"
            ]
           ],
           "sequential": [
            [
             0,
             "#0d0887"
            ],
            [
             0.1111111111111111,
             "#46039f"
            ],
            [
             0.2222222222222222,
             "#7201a8"
            ],
            [
             0.3333333333333333,
             "#9c179e"
            ],
            [
             0.4444444444444444,
             "#bd3786"
            ],
            [
             0.5555555555555556,
             "#d8576b"
            ],
            [
             0.6666666666666666,
             "#ed7953"
            ],
            [
             0.7777777777777778,
             "#fb9f3a"
            ],
            [
             0.8888888888888888,
             "#fdca26"
            ],
            [
             1,
             "#f0f921"
            ]
           ],
           "sequentialminus": [
            [
             0,
             "#0d0887"
            ],
            [
             0.1111111111111111,
             "#46039f"
            ],
            [
             0.2222222222222222,
             "#7201a8"
            ],
            [
             0.3333333333333333,
             "#9c179e"
            ],
            [
             0.4444444444444444,
             "#bd3786"
            ],
            [
             0.5555555555555556,
             "#d8576b"
            ],
            [
             0.6666666666666666,
             "#ed7953"
            ],
            [
             0.7777777777777778,
             "#fb9f3a"
            ],
            [
             0.8888888888888888,
             "#fdca26"
            ],
            [
             1,
             "#f0f921"
            ]
           ]
          },
          "colorway": [
           "#636efa",
           "#EF553B",
           "#00cc96",
           "#ab63fa",
           "#FFA15A",
           "#19d3f3",
           "#FF6692",
           "#B6E880",
           "#FF97FF",
           "#FECB52"
          ],
          "font": {
           "color": "#2a3f5f"
          },
          "geo": {
           "bgcolor": "white",
           "lakecolor": "white",
           "landcolor": "#E5ECF6",
           "showlakes": true,
           "showland": true,
           "subunitcolor": "white"
          },
          "hoverlabel": {
           "align": "left"
          },
          "hovermode": "closest",
          "mapbox": {
           "style": "light"
          },
          "paper_bgcolor": "white",
          "plot_bgcolor": "#E5ECF6",
          "polar": {
           "angularaxis": {
            "gridcolor": "white",
            "linecolor": "white",
            "ticks": ""
           },
           "bgcolor": "#E5ECF6",
           "radialaxis": {
            "gridcolor": "white",
            "linecolor": "white",
            "ticks": ""
           }
          },
          "scene": {
           "xaxis": {
            "backgroundcolor": "#E5ECF6",
            "gridcolor": "white",
            "gridwidth": 2,
            "linecolor": "white",
            "showbackground": true,
            "ticks": "",
            "zerolinecolor": "white"
           },
           "yaxis": {
            "backgroundcolor": "#E5ECF6",
            "gridcolor": "white",
            "gridwidth": 2,
            "linecolor": "white",
            "showbackground": true,
            "ticks": "",
            "zerolinecolor": "white"
           },
           "zaxis": {
            "backgroundcolor": "#E5ECF6",
            "gridcolor": "white",
            "gridwidth": 2,
            "linecolor": "white",
            "showbackground": true,
            "ticks": "",
            "zerolinecolor": "white"
           }
          },
          "shapedefaults": {
           "line": {
            "color": "#2a3f5f"
           }
          },
          "ternary": {
           "aaxis": {
            "gridcolor": "white",
            "linecolor": "white",
            "ticks": ""
           },
           "baxis": {
            "gridcolor": "white",
            "linecolor": "white",
            "ticks": ""
           },
           "bgcolor": "#E5ECF6",
           "caxis": {
            "gridcolor": "white",
            "linecolor": "white",
            "ticks": ""
           }
          },
          "title": {
           "x": 0.05
          },
          "xaxis": {
           "automargin": true,
           "gridcolor": "white",
           "linecolor": "white",
           "ticks": "",
           "title": {
            "standoff": 15
           },
           "zerolinecolor": "white",
           "zerolinewidth": 2
          },
          "yaxis": {
           "automargin": true,
           "gridcolor": "white",
           "linecolor": "white",
           "ticks": "",
           "title": {
            "standoff": 15
           },
           "zerolinecolor": "white",
           "zerolinewidth": 2
          }
         }
        },
        "title": {
         "text": "Ratio of reviews that mention at least one price related word:",
         "x": 0.5
        },
        "updatemenus": [
         {
          "buttons": [
           {
            "args": [
             {
              "visible": false
             },
             [
              0
             ]
            ],
            "args2": [
             {
              "visible": true
             },
             [
              0
             ]
            ],
            "label": "Bar Plot",
            "method": "restyle",
            "visible": true
           },
           {
            "args": [
             {
              "visible": false
             },
             [
              1
             ]
            ],
            "args2": [
             {
              "visible": true
             },
             [
              1
             ]
            ],
            "label": "Graph <br>connecting bars",
            "method": "restyle",
            "visible": true
           },
           {
            "args": [
             {
              "visible": false
             },
             [
              2
             ]
            ],
            "args2": [
             {
              "visible": true
             },
             [
              2
             ]
            ],
            "label": "Interpolation",
            "method": "restyle",
            "visible": true
           },
           {
            "args": [
             {
              "visible": false
             },
             [
              3
             ]
            ],
            "args2": [
             {
              "visible": true
             },
             [
              3
             ]
            ],
            "label": "Unemployment",
            "method": "restyle",
            "visible": true
           }
          ],
          "direction": "down",
          "type": "buttons",
          "x": -0.08,
          "y": 1.03
         }
        ],
        "width": 1000,
        "xaxis": {
         "anchor": "y",
         "domain": [
          0,
          1
         ],
         "ticks": "outside",
         "title": {
          "text": "Date"
         }
        },
        "yaxis": {
         "anchor": "x",
         "domain": [
          0,
          1
         ],
         "range": [
          0,
          10
         ],
         "title": {
          "text": "Percent of reviews mentionning price"
         }
        }
       }
      }
     },
     "metadata": {},
     "output_type": "display_data"
    }
   ],
   "source": [
    "fig_1f = go.Figure(fig_1e)\n",
    "\n",
    "colors=['green','red']\n",
    "annotations=['','','increase', 'decline']\n",
    "annotation_positions = [\"top right\", \"top right\"]\n",
    "for i in range(len(x_positions_3)-1):\n",
    "    fig_1f.add_vrect(x0=str(x_positions_3[i]), x1=str(x_positions_3[i+1]), y0=0.48, y1= 1,\n",
    "              annotation_text=annotations[i%4], annotation_position=annotation_positions[0],\n",
    "              fillcolor=colors[i%2], opacity=0.25, line_width=0)\n",
    "    annotations[i%4] = ''\n",
    "\n",
    "fig_1f.show()"
   ]
  },
  {
   "cell_type": "code",
   "execution_count": 397,
   "metadata": {},
   "outputs": [],
   "source": [
    "fig_1f.write_html(\"./plots for html/figure6.html\")"
   ]
  }
 ],
 "metadata": {
  "kernelspec": {
   "display_name": "ada",
   "language": "python",
   "name": "python3"
  },
  "language_info": {
   "codemirror_mode": {
    "name": "ipython",
    "version": 3
   },
   "file_extension": ".py",
   "mimetype": "text/x-python",
   "name": "python",
   "nbconvert_exporter": "python",
   "pygments_lexer": "ipython3",
   "version": "3.9.13"
  },
  "orig_nbformat": 4,
  "vscode": {
   "interpreter": {
    "hash": "faf7d6ed75ed7c5983c8b8c663c43d66c206a8e5fc8fdda408f4c308fc80edef"
   }
  }
 },
 "nbformat": 4,
 "nbformat_minor": 2
}
