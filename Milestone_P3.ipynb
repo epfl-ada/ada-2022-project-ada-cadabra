{
 "cells": [
  {
   "cell_type": "markdown",
   "metadata": {},
   "source": [
    "# What can affect how you rate a beer?"
   ]
  },
  {
   "cell_type": "markdown",
   "metadata": {},
   "source": [
    "When we taste a beer and rate it we might think that our rating is based solely on how much we liked or disliked the beer. However what we might not realize is that we may not be completely rational when it comes to our most liked or disliked beers/breweries, and we might rate them the way we do because of underlying intrinsic and extrinsic factors that wer are not consciously aware of.\n",
    "For instance you might really like Pale Ale because it was the first beer you tried in college in the US, but maybe if you had went to college in Germany your palate would've been more accustomed to Lager and you would've rated it better than Pale Ale style beers.\n",
    "With this project we wanted to dig deeper into the ratings and reviews given by users to highlight factors that might create a conscious or subconscious bias to how you rate a beer. However the list of such biases is unlimited, so we decided to focus on main biases that could affect how you construct your opinion and explored how they do so. <br>\n",
    "So without further ado, here's a data exploration of how your senses, location and political events you country might've witnessed can shape the way you rate a beer."
   ]
  },
  {
   "attachments": {},
   "cell_type": "markdown",
   "metadata": {},
   "source": [
    "We are interested in the factors that define how much we like a beer. <br>\n",
    "The goal is to investigate how important are intrinsic and extrinsic factors. <br>\n",
    "For the intrinsic features we can make use of the ratings of different sensory aspects. <br>\n",
    "For extrinsic influences it was a bit more difficult. We decided to look at the proximity to the brewery. <br>\n",
    "Possibly a local beer could trigger a feeling of pride or affiliation, leading to a higher opinion. <br>\n",
    "\n",
    "As another external factor we try to investigate economic factors. <br>\n",
    "To do that we take a closer look at the financial crisis in 2007/2008."
   ]
  },
  {
   "attachments": {},
   "cell_type": "markdown",
   "metadata": {},
   "source": [
    "## Table of Contents\n",
    "- [Imports and paths](#imports)\n",
    "- [Data extraction](#dataextraction)\n",
    "    - [BeerAdvocate data](#beeradvocate)\n",
    "    - [RateBeer data](#ratebeer)\n",
    "    - [Matched data](#matched_data)\n",
    "- [Data description](#datadescription)\n",
    "    - [Beers](#beer_data)\n",
    "    - [Breweries](#brewery_data)\n",
    "    - [Users](#users)\n",
    "    - [Reviews](#reviews)\n",
    "- [Data pre-processing](#data_preprocessing)\n",
    "    - [Users](#users_processing)\n",
    "    - [Breweries](#breweries_processing)\n",
    "    - [Reviews](reviews_processing)\n",
    "- [Data exploration](#data_exploration)\n",
    "- [Sensorial evaluation](#sensory)\n",
    "- [Location bias](#location)\n",
    "- [Political/Economic climate effect](#political)\n",
    "- [Chapter 3](#chapter_3)\n",
    "    - [Section 3.1](#section_3_1)\n",
    "        - [Sub Section 3.1.1](#sub_section_3_1_1)\n",
    "        - [Sub Section 3.1.2](#sub_section_3_1_2)\n",
    "    - [Section 3.2](#section_3_2)\n",
    "        - [Sub Section 3.2.1](#sub_section_3_2_1)\n",
    "        - [Sub Section 3.2.2](#sub_section_3_2_2)"
   ]
  },
  {
   "cell_type": "markdown",
   "metadata": {},
   "source": [
    "## Imports and paths<a class=\"anchor\" id=\"imports\"></a>"
   ]
  },
  {
   "cell_type": "code",
   "execution_count": 1,
   "metadata": {},
   "outputs": [],
   "source": [
    "#reading data\n",
    "import gzip #to read gzip files\n",
    "\n",
    "#manipulating data \n",
    "import pandas as pd\n",
    "import numpy as np\n",
    "import datetime\n",
    "\n",
    "#plotting\n",
    "import matplotlib.pyplot as plt\n",
    "\n",
    "#serializing data\n",
    "import pickle\n",
    "\n",
    "#statistics\n",
    "from scipy.stats import linregress\n",
    "\n",
    "#for machine learning algorithms \n",
    "import torch\n",
    "\n",
    "#set the seed for reproducibility \n",
    "np.random.seed(4)"
   ]
  },
  {
   "cell_type": "code",
   "execution_count": 2,
   "metadata": {},
   "outputs": [],
   "source": [
    "PATH = '../'\n",
    "DATA_PATH = './data/' \n",
    "DEFAULT_ENCODING = 'UTF8'\n",
    "DEFAULT_COMPRESSION = 'gzip'"
   ]
  },
  {
   "cell_type": "markdown",
   "metadata": {},
   "source": [
    "## Data extraction <a class=\"anchor\" id=\"dataextraction\"></a>"
   ]
  },
  {
   "cell_type": "markdown",
   "metadata": {},
   "source": [
    "We start by extracting the data for beers, breweries and users from the two rating websites BeerAdvocate and RateBeer as well as the matched data. <br>\n",
    "We view the dataframe first few rows to get a firt glance at what the data contains before pre-processing it:"
   ]
  },
  {
   "cell_type": "markdown",
   "metadata": {},
   "source": [
    "### BeerAdvocate data <a class=\"anchor\" id=\"beeradvocate\"></a>"
   ]
  },
  {
   "cell_type": "code",
   "execution_count": 3,
   "metadata": {},
   "outputs": [
    {
     "data": {
      "text/html": [
       "<div>\n",
       "<style scoped>\n",
       "    .dataframe tbody tr th:only-of-type {\n",
       "        vertical-align: middle;\n",
       "    }\n",
       "\n",
       "    .dataframe tbody tr th {\n",
       "        vertical-align: top;\n",
       "    }\n",
       "\n",
       "    .dataframe thead th {\n",
       "        text-align: right;\n",
       "    }\n",
       "</style>\n",
       "<table border=\"1\" class=\"dataframe\">\n",
       "  <thead>\n",
       "    <tr style=\"text-align: right;\">\n",
       "      <th></th>\n",
       "      <th>beer_name</th>\n",
       "      <th>brewery_id</th>\n",
       "      <th>brewery_name</th>\n",
       "      <th>style</th>\n",
       "      <th>nbr_ratings</th>\n",
       "      <th>nbr_reviews</th>\n",
       "      <th>avg</th>\n",
       "      <th>ba_score</th>\n",
       "      <th>bros_score</th>\n",
       "      <th>abv</th>\n",
       "      <th>avg_computed</th>\n",
       "      <th>zscore</th>\n",
       "      <th>nbr_matched_valid_ratings</th>\n",
       "      <th>avg_matched_valid_ratings</th>\n",
       "    </tr>\n",
       "    <tr>\n",
       "      <th>beer_id</th>\n",
       "      <th></th>\n",
       "      <th></th>\n",
       "      <th></th>\n",
       "      <th></th>\n",
       "      <th></th>\n",
       "      <th></th>\n",
       "      <th></th>\n",
       "      <th></th>\n",
       "      <th></th>\n",
       "      <th></th>\n",
       "      <th></th>\n",
       "      <th></th>\n",
       "      <th></th>\n",
       "      <th></th>\n",
       "    </tr>\n",
       "  </thead>\n",
       "  <tbody>\n",
       "    <tr>\n",
       "      <th>166064</th>\n",
       "      <td>Nashe Moskovskoe</td>\n",
       "      <td>39912</td>\n",
       "      <td>Abdysh-Ata (Абдыш Ата)</td>\n",
       "      <td>Euro Pale Lager</td>\n",
       "      <td>0</td>\n",
       "      <td>0</td>\n",
       "      <td>NaN</td>\n",
       "      <td>NaN</td>\n",
       "      <td>NaN</td>\n",
       "      <td>4.7</td>\n",
       "      <td>NaN</td>\n",
       "      <td>NaN</td>\n",
       "      <td>0</td>\n",
       "      <td>NaN</td>\n",
       "    </tr>\n",
       "  </tbody>\n",
       "</table>\n",
       "</div>"
      ],
      "text/plain": [
       "                beer_name  brewery_id            brewery_name  \\\n",
       "beer_id                                                         \n",
       "166064   Nashe Moskovskoe       39912  Abdysh-Ata (Абдыш Ата)   \n",
       "\n",
       "                   style  nbr_ratings  nbr_reviews  avg  ba_score  bros_score  \\\n",
       "beer_id                                                                         \n",
       "166064   Euro Pale Lager            0            0  NaN       NaN         NaN   \n",
       "\n",
       "         abv  avg_computed  zscore  nbr_matched_valid_ratings  \\\n",
       "beer_id                                                         \n",
       "166064   4.7           NaN     NaN                          0   \n",
       "\n",
       "         avg_matched_valid_ratings  \n",
       "beer_id                             \n",
       "166064                         NaN  "
      ]
     },
     "execution_count": 3,
     "metadata": {},
     "output_type": "execute_result"
    }
   ],
   "source": [
    "BA_beers = pd.read_csv(PATH+'BeerAdvocate/beers.csv', index_col='beer_id')\n",
    "BA_beers.head(1)"
   ]
  },
  {
   "cell_type": "code",
   "execution_count": 4,
   "metadata": {},
   "outputs": [
    {
     "data": {
      "text/html": [
       "<div>\n",
       "<style scoped>\n",
       "    .dataframe tbody tr th:only-of-type {\n",
       "        vertical-align: middle;\n",
       "    }\n",
       "\n",
       "    .dataframe tbody tr th {\n",
       "        vertical-align: top;\n",
       "    }\n",
       "\n",
       "    .dataframe thead th {\n",
       "        text-align: right;\n",
       "    }\n",
       "</style>\n",
       "<table border=\"1\" class=\"dataframe\">\n",
       "  <thead>\n",
       "    <tr style=\"text-align: right;\">\n",
       "      <th></th>\n",
       "      <th>location</th>\n",
       "      <th>name</th>\n",
       "      <th>nbr_beers</th>\n",
       "    </tr>\n",
       "    <tr>\n",
       "      <th>id</th>\n",
       "      <th></th>\n",
       "      <th></th>\n",
       "      <th></th>\n",
       "    </tr>\n",
       "  </thead>\n",
       "  <tbody>\n",
       "    <tr>\n",
       "      <th>39912</th>\n",
       "      <td>Kyrgyzstan</td>\n",
       "      <td>Abdysh-Ata (Абдыш Ата)</td>\n",
       "      <td>5</td>\n",
       "    </tr>\n",
       "  </tbody>\n",
       "</table>\n",
       "</div>"
      ],
      "text/plain": [
       "         location                    name  nbr_beers\n",
       "id                                                  \n",
       "39912  Kyrgyzstan  Abdysh-Ata (Абдыш Ата)          5"
      ]
     },
     "execution_count": 4,
     "metadata": {},
     "output_type": "execute_result"
    }
   ],
   "source": [
    "BA_breweries = pd.read_csv(PATH+'BeerAdvocate/breweries.csv', index_col='id')\n",
    "BA_breweries.head(1)"
   ]
  },
  {
   "cell_type": "code",
   "execution_count": 5,
   "metadata": {},
   "outputs": [
    {
     "data": {
      "text/html": [
       "<div>\n",
       "<style scoped>\n",
       "    .dataframe tbody tr th:only-of-type {\n",
       "        vertical-align: middle;\n",
       "    }\n",
       "\n",
       "    .dataframe tbody tr th {\n",
       "        vertical-align: top;\n",
       "    }\n",
       "\n",
       "    .dataframe thead th {\n",
       "        text-align: right;\n",
       "    }\n",
       "</style>\n",
       "<table border=\"1\" class=\"dataframe\">\n",
       "  <thead>\n",
       "    <tr style=\"text-align: right;\">\n",
       "      <th></th>\n",
       "      <th>nbr_ratings</th>\n",
       "      <th>nbr_reviews</th>\n",
       "      <th>user_name</th>\n",
       "      <th>joined</th>\n",
       "      <th>location</th>\n",
       "    </tr>\n",
       "    <tr>\n",
       "      <th>user_id</th>\n",
       "      <th></th>\n",
       "      <th></th>\n",
       "      <th></th>\n",
       "      <th></th>\n",
       "      <th></th>\n",
       "    </tr>\n",
       "  </thead>\n",
       "  <tbody>\n",
       "    <tr>\n",
       "      <th>nmann08.184925</th>\n",
       "      <td>7820</td>\n",
       "      <td>465</td>\n",
       "      <td>nmann08</td>\n",
       "      <td>1.199704e+09</td>\n",
       "      <td>United States, Washington</td>\n",
       "    </tr>\n",
       "  </tbody>\n",
       "</table>\n",
       "</div>"
      ],
      "text/plain": [
       "                nbr_ratings  nbr_reviews user_name        joined  \\\n",
       "user_id                                                            \n",
       "nmann08.184925         7820          465   nmann08  1.199704e+09   \n",
       "\n",
       "                                 location  \n",
       "user_id                                    \n",
       "nmann08.184925  United States, Washington  "
      ]
     },
     "execution_count": 5,
     "metadata": {},
     "output_type": "execute_result"
    }
   ],
   "source": [
    "BA_users = pd.read_csv(PATH+'BeerAdvocate/users.csv', index_col= 'user_id')\n",
    "BA_users.head(1)"
   ]
  },
  {
   "cell_type": "markdown",
   "metadata": {},
   "source": [
    "As for the BeerAdvocate text reviews, the text files were in a quite special format, we extracted them in the notebook 'TransformTextfileToCsv.ipynb' ([here](TransformTextfileToCsv.ipynb)) and saved them into csv files which we load below to take a look at: "
   ]
  },
  {
   "cell_type": "code",
   "execution_count": 6,
   "metadata": {},
   "outputs": [
    {
     "ename": "KeyboardInterrupt",
     "evalue": "",
     "output_type": "error",
     "traceback": [
      "\u001b[1;31m---------------------------------------------------------------------------\u001b[0m",
      "\u001b[1;31mKeyboardInterrupt\u001b[0m                         Traceback (most recent call last)",
      "\u001b[1;32mc:\\Users\\flori\\Desktop\\Project\\ada-2022-project-ada-cadabra\\Milestone_P3.ipynb Cell 14\u001b[0m in \u001b[0;36m<cell line: 2>\u001b[1;34m()\u001b[0m\n\u001b[0;32m      <a href='vscode-notebook-cell:/c%3A/Users/flori/Desktop/Project/ada-2022-project-ada-cadabra/Milestone_P3.ipynb#X16sZmlsZQ%3D%3D?line=0'>1</a>\u001b[0m \u001b[39m#open the csv file\u001b[39;00m\n\u001b[1;32m----> <a href='vscode-notebook-cell:/c%3A/Users/flori/Desktop/Project/ada-2022-project-ada-cadabra/Milestone_P3.ipynb#X16sZmlsZQ%3D%3D?line=1'>2</a>\u001b[0m df_BA_reviews \u001b[39m=\u001b[39m pd\u001b[39m.\u001b[39;49mread_csv(\u001b[39m'\u001b[39;49m\u001b[39m../DataframeStorage/df_BA_reviews.csv\u001b[39;49m\u001b[39m'\u001b[39;49m)\n\u001b[0;32m      <a href='vscode-notebook-cell:/c%3A/Users/flori/Desktop/Project/ada-2022-project-ada-cadabra/Milestone_P3.ipynb#X16sZmlsZQ%3D%3D?line=2'>3</a>\u001b[0m df_BA_reviews\u001b[39m.\u001b[39mhead(\u001b[39m1\u001b[39m)\n",
      "File \u001b[1;32mc:\\Users\\flori\\anaconda3\\envs\\ada\\lib\\site-packages\\pandas\\util\\_decorators.py:311\u001b[0m, in \u001b[0;36mdeprecate_nonkeyword_arguments.<locals>.decorate.<locals>.wrapper\u001b[1;34m(*args, **kwargs)\u001b[0m\n\u001b[0;32m    305\u001b[0m \u001b[39mif\u001b[39;00m \u001b[39mlen\u001b[39m(args) \u001b[39m>\u001b[39m num_allow_args:\n\u001b[0;32m    306\u001b[0m     warnings\u001b[39m.\u001b[39mwarn(\n\u001b[0;32m    307\u001b[0m         msg\u001b[39m.\u001b[39mformat(arguments\u001b[39m=\u001b[39marguments),\n\u001b[0;32m    308\u001b[0m         \u001b[39mFutureWarning\u001b[39;00m,\n\u001b[0;32m    309\u001b[0m         stacklevel\u001b[39m=\u001b[39mstacklevel,\n\u001b[0;32m    310\u001b[0m     )\n\u001b[1;32m--> 311\u001b[0m \u001b[39mreturn\u001b[39;00m func(\u001b[39m*\u001b[39margs, \u001b[39m*\u001b[39m\u001b[39m*\u001b[39mkwargs)\n",
      "File \u001b[1;32mc:\\Users\\flori\\anaconda3\\envs\\ada\\lib\\site-packages\\pandas\\io\\parsers\\readers.py:678\u001b[0m, in \u001b[0;36mread_csv\u001b[1;34m(filepath_or_buffer, sep, delimiter, header, names, index_col, usecols, squeeze, prefix, mangle_dupe_cols, dtype, engine, converters, true_values, false_values, skipinitialspace, skiprows, skipfooter, nrows, na_values, keep_default_na, na_filter, verbose, skip_blank_lines, parse_dates, infer_datetime_format, keep_date_col, date_parser, dayfirst, cache_dates, iterator, chunksize, compression, thousands, decimal, lineterminator, quotechar, quoting, doublequote, escapechar, comment, encoding, encoding_errors, dialect, error_bad_lines, warn_bad_lines, on_bad_lines, delim_whitespace, low_memory, memory_map, float_precision, storage_options)\u001b[0m\n\u001b[0;32m    663\u001b[0m kwds_defaults \u001b[39m=\u001b[39m _refine_defaults_read(\n\u001b[0;32m    664\u001b[0m     dialect,\n\u001b[0;32m    665\u001b[0m     delimiter,\n\u001b[1;32m   (...)\u001b[0m\n\u001b[0;32m    674\u001b[0m     defaults\u001b[39m=\u001b[39m{\u001b[39m\"\u001b[39m\u001b[39mdelimiter\u001b[39m\u001b[39m\"\u001b[39m: \u001b[39m\"\u001b[39m\u001b[39m,\u001b[39m\u001b[39m\"\u001b[39m},\n\u001b[0;32m    675\u001b[0m )\n\u001b[0;32m    676\u001b[0m kwds\u001b[39m.\u001b[39mupdate(kwds_defaults)\n\u001b[1;32m--> 678\u001b[0m \u001b[39mreturn\u001b[39;00m _read(filepath_or_buffer, kwds)\n",
      "File \u001b[1;32mc:\\Users\\flori\\anaconda3\\envs\\ada\\lib\\site-packages\\pandas\\io\\parsers\\readers.py:581\u001b[0m, in \u001b[0;36m_read\u001b[1;34m(filepath_or_buffer, kwds)\u001b[0m\n\u001b[0;32m    578\u001b[0m     \u001b[39mreturn\u001b[39;00m parser\n\u001b[0;32m    580\u001b[0m \u001b[39mwith\u001b[39;00m parser:\n\u001b[1;32m--> 581\u001b[0m     \u001b[39mreturn\u001b[39;00m parser\u001b[39m.\u001b[39;49mread(nrows)\n",
      "File \u001b[1;32mc:\\Users\\flori\\anaconda3\\envs\\ada\\lib\\site-packages\\pandas\\io\\parsers\\readers.py:1253\u001b[0m, in \u001b[0;36mTextFileReader.read\u001b[1;34m(self, nrows)\u001b[0m\n\u001b[0;32m   1251\u001b[0m nrows \u001b[39m=\u001b[39m validate_integer(\u001b[39m\"\u001b[39m\u001b[39mnrows\u001b[39m\u001b[39m\"\u001b[39m, nrows)\n\u001b[0;32m   1252\u001b[0m \u001b[39mtry\u001b[39;00m:\n\u001b[1;32m-> 1253\u001b[0m     index, columns, col_dict \u001b[39m=\u001b[39m \u001b[39mself\u001b[39;49m\u001b[39m.\u001b[39;49m_engine\u001b[39m.\u001b[39;49mread(nrows)\n\u001b[0;32m   1254\u001b[0m \u001b[39mexcept\u001b[39;00m \u001b[39mException\u001b[39;00m:\n\u001b[0;32m   1255\u001b[0m     \u001b[39mself\u001b[39m\u001b[39m.\u001b[39mclose()\n",
      "File \u001b[1;32mc:\\Users\\flori\\anaconda3\\envs\\ada\\lib\\site-packages\\pandas\\io\\parsers\\c_parser_wrapper.py:225\u001b[0m, in \u001b[0;36mCParserWrapper.read\u001b[1;34m(self, nrows)\u001b[0m\n\u001b[0;32m    223\u001b[0m \u001b[39mtry\u001b[39;00m:\n\u001b[0;32m    224\u001b[0m     \u001b[39mif\u001b[39;00m \u001b[39mself\u001b[39m\u001b[39m.\u001b[39mlow_memory:\n\u001b[1;32m--> 225\u001b[0m         chunks \u001b[39m=\u001b[39m \u001b[39mself\u001b[39;49m\u001b[39m.\u001b[39;49m_reader\u001b[39m.\u001b[39;49mread_low_memory(nrows)\n\u001b[0;32m    226\u001b[0m         \u001b[39m# destructive to chunks\u001b[39;00m\n\u001b[0;32m    227\u001b[0m         data \u001b[39m=\u001b[39m _concatenate_chunks(chunks)\n",
      "File \u001b[1;32mc:\\Users\\flori\\anaconda3\\envs\\ada\\lib\\site-packages\\pandas\\_libs\\parsers.pyx:805\u001b[0m, in \u001b[0;36mpandas._libs.parsers.TextReader.read_low_memory\u001b[1;34m()\u001b[0m\n",
      "File \u001b[1;32mc:\\Users\\flori\\anaconda3\\envs\\ada\\lib\\site-packages\\pandas\\_libs\\parsers.pyx:883\u001b[0m, in \u001b[0;36mpandas._libs.parsers.TextReader._read_rows\u001b[1;34m()\u001b[0m\n",
      "File \u001b[1;32mc:\\Users\\flori\\anaconda3\\envs\\ada\\lib\\site-packages\\pandas\\_libs\\parsers.pyx:1038\u001b[0m, in \u001b[0;36mpandas._libs.parsers.TextReader._convert_column_data\u001b[1;34m()\u001b[0m\n",
      "File \u001b[1;32mc:\\Users\\flori\\anaconda3\\envs\\ada\\lib\\site-packages\\pandas\\core\\dtypes\\common.py:1429\u001b[0m, in \u001b[0;36mis_extension_array_dtype\u001b[1;34m(arr_or_dtype)\u001b[0m\n\u001b[0;32m   1420\u001b[0m     \u001b[39m# Note: if other EA dtypes are ever held in HybridBlock, exclude those\u001b[39;00m\n\u001b[0;32m   1421\u001b[0m     \u001b[39m#  here too.\u001b[39;00m\n\u001b[0;32m   1422\u001b[0m     \u001b[39m# NB: need to check DatetimeTZDtype and not is_datetime64tz_dtype\u001b[39;00m\n\u001b[0;32m   1423\u001b[0m     \u001b[39m#  to exclude ArrowTimestampUSDtype\u001b[39;00m\n\u001b[0;32m   1424\u001b[0m     \u001b[39mreturn\u001b[39;00m \u001b[39misinstance\u001b[39m(dtype, ExtensionDtype) \u001b[39mand\u001b[39;00m \u001b[39mnot\u001b[39;00m \u001b[39misinstance\u001b[39m(\n\u001b[0;32m   1425\u001b[0m         dtype, (DatetimeTZDtype, PeriodDtype)\n\u001b[0;32m   1426\u001b[0m     )\n\u001b[1;32m-> 1429\u001b[0m \u001b[39mdef\u001b[39;00m \u001b[39mis_extension_array_dtype\u001b[39m(arr_or_dtype) \u001b[39m-\u001b[39m\u001b[39m>\u001b[39m \u001b[39mbool\u001b[39m:\n\u001b[0;32m   1430\u001b[0m     \u001b[39m\"\"\"\u001b[39;00m\n\u001b[0;32m   1431\u001b[0m \u001b[39m    Check if an object is a pandas extension array type.\u001b[39;00m\n\u001b[0;32m   1432\u001b[0m \n\u001b[1;32m   (...)\u001b[0m\n\u001b[0;32m   1472\u001b[0m \u001b[39m    False\u001b[39;00m\n\u001b[0;32m   1473\u001b[0m \u001b[39m    \"\"\"\u001b[39;00m\n\u001b[0;32m   1474\u001b[0m     dtype \u001b[39m=\u001b[39m \u001b[39mgetattr\u001b[39m(arr_or_dtype, \u001b[39m\"\u001b[39m\u001b[39mdtype\u001b[39m\u001b[39m\"\u001b[39m, arr_or_dtype)\n",
      "\u001b[1;31mKeyboardInterrupt\u001b[0m: "
     ]
    }
   ],
   "source": [
    "#open the csv file\n",
    "df_BA_reviews = pd.read_csv('../DataframeStorage/df_BA_reviews.csv')\n",
    "df_BA_reviews.head(1)"
   ]
  },
  {
   "cell_type": "markdown",
   "metadata": {},
   "source": [
    "### RateBeer data <a class=\"anchor\" id=\"ratebeer\"></a>"
   ]
  },
  {
   "cell_type": "code",
   "execution_count": 7,
   "metadata": {},
   "outputs": [
    {
     "data": {
      "text/html": [
       "<div>\n",
       "<style scoped>\n",
       "    .dataframe tbody tr th:only-of-type {\n",
       "        vertical-align: middle;\n",
       "    }\n",
       "\n",
       "    .dataframe tbody tr th {\n",
       "        vertical-align: top;\n",
       "    }\n",
       "\n",
       "    .dataframe thead th {\n",
       "        text-align: right;\n",
       "    }\n",
       "</style>\n",
       "<table border=\"1\" class=\"dataframe\">\n",
       "  <thead>\n",
       "    <tr style=\"text-align: right;\">\n",
       "      <th></th>\n",
       "      <th>beer_name</th>\n",
       "      <th>brewery_id</th>\n",
       "      <th>brewery_name</th>\n",
       "      <th>style</th>\n",
       "      <th>nbr_ratings</th>\n",
       "      <th>overall_score</th>\n",
       "      <th>style_score</th>\n",
       "      <th>avg</th>\n",
       "      <th>abv</th>\n",
       "      <th>avg_computed</th>\n",
       "      <th>zscore</th>\n",
       "      <th>nbr_matched_valid_ratings</th>\n",
       "      <th>avg_matched_valid_ratings</th>\n",
       "    </tr>\n",
       "    <tr>\n",
       "      <th>beer_id</th>\n",
       "      <th></th>\n",
       "      <th></th>\n",
       "      <th></th>\n",
       "      <th></th>\n",
       "      <th></th>\n",
       "      <th></th>\n",
       "      <th></th>\n",
       "      <th></th>\n",
       "      <th></th>\n",
       "      <th></th>\n",
       "      <th></th>\n",
       "      <th></th>\n",
       "      <th></th>\n",
       "    </tr>\n",
       "  </thead>\n",
       "  <tbody>\n",
       "    <tr>\n",
       "      <th>410549</th>\n",
       "      <td>33 Export (Gabon)</td>\n",
       "      <td>3198</td>\n",
       "      <td>Sobraga</td>\n",
       "      <td>Pale Lager</td>\n",
       "      <td>1</td>\n",
       "      <td>NaN</td>\n",
       "      <td>NaN</td>\n",
       "      <td>2.72</td>\n",
       "      <td>5.0</td>\n",
       "      <td>2.0</td>\n",
       "      <td>NaN</td>\n",
       "      <td>0</td>\n",
       "      <td>NaN</td>\n",
       "    </tr>\n",
       "  </tbody>\n",
       "</table>\n",
       "</div>"
      ],
      "text/plain": [
       "                 beer_name  brewery_id brewery_name       style  nbr_ratings  \\\n",
       "beer_id                                                                        \n",
       "410549   33 Export (Gabon)        3198      Sobraga  Pale Lager            1   \n",
       "\n",
       "         overall_score  style_score   avg  abv  avg_computed  zscore  \\\n",
       "beer_id                                                                \n",
       "410549             NaN          NaN  2.72  5.0           2.0     NaN   \n",
       "\n",
       "         nbr_matched_valid_ratings  avg_matched_valid_ratings  \n",
       "beer_id                                                        \n",
       "410549                           0                        NaN  "
      ]
     },
     "execution_count": 7,
     "metadata": {},
     "output_type": "execute_result"
    }
   ],
   "source": [
    "RB_beers = pd.read_csv(PATH+'RateBeer/beers.csv', index_col='beer_id')\n",
    "RB_beers.head(1)"
   ]
  },
  {
   "cell_type": "code",
   "execution_count": 8,
   "metadata": {},
   "outputs": [
    {
     "data": {
      "text/html": [
       "<div>\n",
       "<style scoped>\n",
       "    .dataframe tbody tr th:only-of-type {\n",
       "        vertical-align: middle;\n",
       "    }\n",
       "\n",
       "    .dataframe tbody tr th {\n",
       "        vertical-align: top;\n",
       "    }\n",
       "\n",
       "    .dataframe thead th {\n",
       "        text-align: right;\n",
       "    }\n",
       "</style>\n",
       "<table border=\"1\" class=\"dataframe\">\n",
       "  <thead>\n",
       "    <tr style=\"text-align: right;\">\n",
       "      <th></th>\n",
       "      <th>location</th>\n",
       "      <th>name</th>\n",
       "      <th>nbr_beers</th>\n",
       "    </tr>\n",
       "    <tr>\n",
       "      <th>id</th>\n",
       "      <th></th>\n",
       "      <th></th>\n",
       "      <th></th>\n",
       "    </tr>\n",
       "  </thead>\n",
       "  <tbody>\n",
       "    <tr>\n",
       "      <th>3198</th>\n",
       "      <td>Gabon</td>\n",
       "      <td>Sobraga</td>\n",
       "      <td>3</td>\n",
       "    </tr>\n",
       "  </tbody>\n",
       "</table>\n",
       "</div>"
      ],
      "text/plain": [
       "     location     name  nbr_beers\n",
       "id                               \n",
       "3198    Gabon  Sobraga          3"
      ]
     },
     "execution_count": 8,
     "metadata": {},
     "output_type": "execute_result"
    }
   ],
   "source": [
    "RB_breweries = pd.read_csv(PATH+'RateBeer/breweries.csv', index_col= 'id')\n",
    "RB_breweries.head(1)\n"
   ]
  },
  {
   "cell_type": "code",
   "execution_count": 9,
   "metadata": {},
   "outputs": [
    {
     "data": {
      "text/html": [
       "<div>\n",
       "<style scoped>\n",
       "    .dataframe tbody tr th:only-of-type {\n",
       "        vertical-align: middle;\n",
       "    }\n",
       "\n",
       "    .dataframe tbody tr th {\n",
       "        vertical-align: top;\n",
       "    }\n",
       "\n",
       "    .dataframe thead th {\n",
       "        text-align: right;\n",
       "    }\n",
       "</style>\n",
       "<table border=\"1\" class=\"dataframe\">\n",
       "  <thead>\n",
       "    <tr style=\"text-align: right;\">\n",
       "      <th></th>\n",
       "      <th>nbr_ratings</th>\n",
       "      <th>user_name</th>\n",
       "      <th>joined</th>\n",
       "      <th>location</th>\n",
       "    </tr>\n",
       "    <tr>\n",
       "      <th>user_id</th>\n",
       "      <th></th>\n",
       "      <th></th>\n",
       "      <th></th>\n",
       "      <th></th>\n",
       "    </tr>\n",
       "  </thead>\n",
       "  <tbody>\n",
       "    <tr>\n",
       "      <th>175852</th>\n",
       "      <td>1890</td>\n",
       "      <td>Manslow</td>\n",
       "      <td>1.337508e+09</td>\n",
       "      <td>Poland</td>\n",
       "    </tr>\n",
       "  </tbody>\n",
       "</table>\n",
       "</div>"
      ],
      "text/plain": [
       "         nbr_ratings user_name        joined location\n",
       "user_id                                              \n",
       "175852          1890   Manslow  1.337508e+09   Poland"
      ]
     },
     "execution_count": 9,
     "metadata": {},
     "output_type": "execute_result"
    }
   ],
   "source": [
    "RB_users = pd.read_csv(PATH+'RateBeer/users.csv', index_col= 'user_id')\n",
    "RB_users.head(1)"
   ]
  },
  {
   "cell_type": "markdown",
   "metadata": {},
   "source": [
    "For the RateBeer text reviews, the text files were in a quite special format, we extracted them in the notebook 'TransformTextfileToCsv.ipynb' ([here](TransformTextfileToCsv.ipynb)) and saved them into csv files:"
   ]
  },
  {
   "cell_type": "code",
   "execution_count": 29,
   "metadata": {},
   "outputs": [
    {
     "data": {
      "text/html": [
       "<div>\n",
       "<style scoped>\n",
       "    .dataframe tbody tr th:only-of-type {\n",
       "        vertical-align: middle;\n",
       "    }\n",
       "\n",
       "    .dataframe tbody tr th {\n",
       "        vertical-align: top;\n",
       "    }\n",
       "\n",
       "    .dataframe thead th {\n",
       "        text-align: right;\n",
       "    }\n",
       "</style>\n",
       "<table border=\"1\" class=\"dataframe\">\n",
       "  <thead>\n",
       "    <tr style=\"text-align: right;\">\n",
       "      <th></th>\n",
       "      <th>beer_name</th>\n",
       "      <th>beer_id</th>\n",
       "      <th>brewery_name</th>\n",
       "      <th>brewery_id</th>\n",
       "      <th>style</th>\n",
       "      <th>abv</th>\n",
       "      <th>date</th>\n",
       "      <th>user_name</th>\n",
       "      <th>user_id</th>\n",
       "      <th>appearance</th>\n",
       "      <th>aroma</th>\n",
       "      <th>palate</th>\n",
       "      <th>taste</th>\n",
       "      <th>overall</th>\n",
       "      <th>rating</th>\n",
       "      <th>text</th>\n",
       "      <th>brewery_location</th>\n",
       "      <th>brewery_merged_location</th>\n",
       "      <th>user_location</th>\n",
       "      <th>user_merged_location</th>\n",
       "    </tr>\n",
       "  </thead>\n",
       "  <tbody>\n",
       "    <tr>\n",
       "      <th>0</th>\n",
       "      <td>33 Export (Gabon)</td>\n",
       "      <td>410549</td>\n",
       "      <td>Sobraga</td>\n",
       "      <td>3198</td>\n",
       "      <td>Pale Lager</td>\n",
       "      <td>5.0</td>\n",
       "      <td>2016-04-26 10:00:00</td>\n",
       "      <td>Manslow</td>\n",
       "      <td>175852</td>\n",
       "      <td>2</td>\n",
       "      <td>4</td>\n",
       "      <td>2</td>\n",
       "      <td>4</td>\n",
       "      <td>8</td>\n",
       "      <td>2.0</td>\n",
       "      <td>Puszka 0,33l dzięki Christoph . Kolor jasnozło...</td>\n",
       "      <td>Gabon</td>\n",
       "      <td>Gabon</td>\n",
       "      <td>Poland</td>\n",
       "      <td>Poland</td>\n",
       "    </tr>\n",
       "  </tbody>\n",
       "</table>\n",
       "</div>"
      ],
      "text/plain": [
       "           beer_name  beer_id brewery_name  brewery_id       style  abv  \\\n",
       "0  33 Export (Gabon)   410549      Sobraga        3198  Pale Lager  5.0   \n",
       "\n",
       "                  date user_name  user_id  appearance  aroma  palate  taste  \\\n",
       "0  2016-04-26 10:00:00   Manslow   175852           2      4       2      4   \n",
       "\n",
       "   overall  rating                                               text  \\\n",
       "0        8     2.0  Puszka 0,33l dzięki Christoph . Kolor jasnozło...   \n",
       "\n",
       "  brewery_location brewery_merged_location user_location user_merged_location  \n",
       "0            Gabon                   Gabon        Poland               Poland  "
      ]
     },
     "execution_count": 29,
     "metadata": {},
     "output_type": "execute_result"
    }
   ],
   "source": [
    "#open the csv file\n",
    "df_RB_reviews = pd.read_csv('../DataframeStorage/df_RB_reviews.csv')\n",
    "df_RB_reviews.head(1)"
   ]
  },
  {
   "cell_type": "markdown",
   "metadata": {},
   "source": [
    "### Matched data <a class=\"anchor\" id=\"matched_data\"></a>"
   ]
  },
  {
   "cell_type": "code",
   "execution_count": 23,
   "metadata": {},
   "outputs": [
    {
     "data": {
      "text/html": [
       "<div>\n",
       "<style scoped>\n",
       "    .dataframe tbody tr th:only-of-type {\n",
       "        vertical-align: middle;\n",
       "    }\n",
       "\n",
       "    .dataframe tbody tr th {\n",
       "        vertical-align: top;\n",
       "    }\n",
       "\n",
       "    .dataframe thead th {\n",
       "        text-align: right;\n",
       "    }\n",
       "</style>\n",
       "<table border=\"1\" class=\"dataframe\">\n",
       "  <thead>\n",
       "    <tr style=\"text-align: right;\">\n",
       "      <th></th>\n",
       "      <th>abv</th>\n",
       "      <th>avg</th>\n",
       "      <th>avg_computed</th>\n",
       "      <th>avg_matched_valid_ratings</th>\n",
       "      <th>ba_score</th>\n",
       "      <th>beer_id</th>\n",
       "      <th>beer_name</th>\n",
       "      <th>beer_wout_brewery_name</th>\n",
       "      <th>brewery_id</th>\n",
       "      <th>brewery_name</th>\n",
       "      <th>...</th>\n",
       "      <th>brewery_id.1</th>\n",
       "      <th>brewery_name.1</th>\n",
       "      <th>nbr_matched_valid_ratings.1</th>\n",
       "      <th>nbr_ratings.1</th>\n",
       "      <th>overall_score</th>\n",
       "      <th>style.1</th>\n",
       "      <th>style_score</th>\n",
       "      <th>zscore.1</th>\n",
       "      <th>diff</th>\n",
       "      <th>sim</th>\n",
       "    </tr>\n",
       "  </thead>\n",
       "  <tbody>\n",
       "    <tr>\n",
       "      <th>0</th>\n",
       "      <td>4.8</td>\n",
       "      <td>3.45</td>\n",
       "      <td>3.439867</td>\n",
       "      <td>3.504068</td>\n",
       "      <td>80.0</td>\n",
       "      <td>19827</td>\n",
       "      <td>Legbiter</td>\n",
       "      <td>Legbiter</td>\n",
       "      <td>10093</td>\n",
       "      <td>Strangford Lough Brewing Company Ltd</td>\n",
       "      <td>...</td>\n",
       "      <td>4959</td>\n",
       "      <td>Strangford Lough</td>\n",
       "      <td>89</td>\n",
       "      <td>89</td>\n",
       "      <td>23.0</td>\n",
       "      <td>Golden Ale/Blond Ale</td>\n",
       "      <td>27.0</td>\n",
       "      <td>-0.698304</td>\n",
       "      <td>1.0</td>\n",
       "      <td>1.0</td>\n",
       "    </tr>\n",
       "  </tbody>\n",
       "</table>\n",
       "<p>1 rows × 33 columns</p>\n",
       "</div>"
      ],
      "text/plain": [
       "   abv   avg  avg_computed  avg_matched_valid_ratings  ba_score  beer_id  \\\n",
       "0  4.8  3.45      3.439867                   3.504068      80.0    19827   \n",
       "\n",
       "  beer_name beer_wout_brewery_name  brewery_id  \\\n",
       "0  Legbiter               Legbiter       10093   \n",
       "\n",
       "                           brewery_name  ...  brewery_id.1    brewery_name.1  \\\n",
       "0  Strangford Lough Brewing Company Ltd  ...          4959  Strangford Lough   \n",
       "\n",
       "   nbr_matched_valid_ratings.1  nbr_ratings.1 overall_score  \\\n",
       "0                           89             89          23.0   \n",
       "\n",
       "                style.1  style_score  zscore.1  diff  sim  \n",
       "0  Golden Ale/Blond Ale         27.0 -0.698304   1.0  1.0  \n",
       "\n",
       "[1 rows x 33 columns]"
      ]
     },
     "execution_count": 23,
     "metadata": {},
     "output_type": "execute_result"
    }
   ],
   "source": [
    "matched_beers = pd.read_csv(PATH+'matched_beer_data/beers.csv', header=1)\n",
    "matched_beers.head(1)"
   ]
  },
  {
   "cell_type": "code",
   "execution_count": 24,
   "metadata": {},
   "outputs": [
    {
     "data": {
      "text/html": [
       "<div>\n",
       "<style scoped>\n",
       "    .dataframe tbody tr th:only-of-type {\n",
       "        vertical-align: middle;\n",
       "    }\n",
       "\n",
       "    .dataframe tbody tr th {\n",
       "        vertical-align: top;\n",
       "    }\n",
       "\n",
       "    .dataframe thead th {\n",
       "        text-align: right;\n",
       "    }\n",
       "</style>\n",
       "<table border=\"1\" class=\"dataframe\">\n",
       "  <thead>\n",
       "    <tr style=\"text-align: right;\">\n",
       "      <th></th>\n",
       "      <th>id</th>\n",
       "      <th>location</th>\n",
       "      <th>name</th>\n",
       "      <th>nbr_beers</th>\n",
       "      <th>id.1</th>\n",
       "      <th>location.1</th>\n",
       "      <th>name.1</th>\n",
       "      <th>nbr_beers.1</th>\n",
       "      <th>diff</th>\n",
       "      <th>sim</th>\n",
       "    </tr>\n",
       "  </thead>\n",
       "  <tbody>\n",
       "    <tr>\n",
       "      <th>0</th>\n",
       "      <td>10093</td>\n",
       "      <td>Northern Ireland</td>\n",
       "      <td>Strangford Lough Brewing Company Ltd</td>\n",
       "      <td>5</td>\n",
       "      <td>4959</td>\n",
       "      <td>Northern Ireland</td>\n",
       "      <td>Strangford Lough</td>\n",
       "      <td>5</td>\n",
       "      <td>0.431275</td>\n",
       "      <td>0.889062</td>\n",
       "    </tr>\n",
       "  </tbody>\n",
       "</table>\n",
       "</div>"
      ],
      "text/plain": [
       "      id          location                                  name  nbr_beers  \\\n",
       "0  10093  Northern Ireland  Strangford Lough Brewing Company Ltd          5   \n",
       "\n",
       "   id.1        location.1            name.1  nbr_beers.1      diff       sim  \n",
       "0  4959  Northern Ireland  Strangford Lough            5  0.431275  0.889062  "
      ]
     },
     "execution_count": 24,
     "metadata": {},
     "output_type": "execute_result"
    }
   ],
   "source": [
    "matched_breweries = pd.read_csv(PATH+'matched_beer_data/breweries.csv', header=1)\n",
    "matched_breweries.head(1)"
   ]
  },
  {
   "cell_type": "code",
   "execution_count": 33,
   "metadata": {},
   "outputs": [
    {
     "data": {
      "text/html": [
       "<div>\n",
       "<style scoped>\n",
       "    .dataframe tbody tr th:only-of-type {\n",
       "        vertical-align: middle;\n",
       "    }\n",
       "\n",
       "    .dataframe tbody tr th {\n",
       "        vertical-align: top;\n",
       "    }\n",
       "\n",
       "    .dataframe thead th {\n",
       "        text-align: right;\n",
       "    }\n",
       "</style>\n",
       "<table border=\"1\" class=\"dataframe\">\n",
       "  <thead>\n",
       "    <tr style=\"text-align: right;\">\n",
       "      <th></th>\n",
       "      <th>joined</th>\n",
       "      <th>location</th>\n",
       "      <th>nbr_ratings</th>\n",
       "      <th>nbr_reviews</th>\n",
       "      <th>user_id</th>\n",
       "      <th>user_name</th>\n",
       "      <th>user_name_lower</th>\n",
       "      <th>joined.1</th>\n",
       "      <th>location.1</th>\n",
       "      <th>nbr_ratings.1</th>\n",
       "      <th>user_id.1</th>\n",
       "      <th>user_name.1</th>\n",
       "      <th>user_name_lower.1</th>\n",
       "    </tr>\n",
       "  </thead>\n",
       "  <tbody>\n",
       "    <tr>\n",
       "      <th>0</th>\n",
       "      <td>1.220868e+09</td>\n",
       "      <td>Germany</td>\n",
       "      <td>6</td>\n",
       "      <td>6</td>\n",
       "      <td>erzengel.248045</td>\n",
       "      <td>Erzengel</td>\n",
       "      <td>erzengel</td>\n",
       "      <td>1.224324e+09</td>\n",
       "      <td>Germany</td>\n",
       "      <td>8781</td>\n",
       "      <td>83106</td>\n",
       "      <td>Erzengel</td>\n",
       "      <td>erzengel</td>\n",
       "    </tr>\n",
       "  </tbody>\n",
       "</table>\n",
       "</div>"
      ],
      "text/plain": [
       "         joined location  nbr_ratings  nbr_reviews          user_id user_name  \\\n",
       "0  1.220868e+09  Germany            6            6  erzengel.248045  Erzengel   \n",
       "\n",
       "  user_name_lower      joined.1 location.1  nbr_ratings.1  user_id.1  \\\n",
       "0        erzengel  1.224324e+09    Germany           8781      83106   \n",
       "\n",
       "  user_name.1 user_name_lower.1  \n",
       "0    Erzengel          erzengel  "
      ]
     },
     "execution_count": 33,
     "metadata": {},
     "output_type": "execute_result"
    }
   ],
   "source": [
    "matched_users = pd.read_csv(PATH+'matched_beer_data/users.csv', header=1)\n",
    "matched_users.head(1)"
   ]
  },
  {
   "cell_type": "code",
   "execution_count": 40,
   "metadata": {},
   "outputs": [
    {
     "data": {
      "text/html": [
       "<div>\n",
       "<style scoped>\n",
       "    .dataframe tbody tr th:only-of-type {\n",
       "        vertical-align: middle;\n",
       "    }\n",
       "\n",
       "    .dataframe tbody tr th {\n",
       "        vertical-align: top;\n",
       "    }\n",
       "\n",
       "    .dataframe thead th {\n",
       "        text-align: right;\n",
       "    }\n",
       "</style>\n",
       "<table border=\"1\" class=\"dataframe\">\n",
       "  <thead>\n",
       "    <tr style=\"text-align: right;\">\n",
       "      <th></th>\n",
       "      <th>abv</th>\n",
       "      <th>appearance</th>\n",
       "      <th>aroma</th>\n",
       "      <th>beer_id</th>\n",
       "      <th>beer_name</th>\n",
       "      <th>brewery_id</th>\n",
       "      <th>brewery_name</th>\n",
       "      <th>date</th>\n",
       "      <th>overall</th>\n",
       "      <th>palate</th>\n",
       "      <th>...</th>\n",
       "      <th>brewery_name.1</th>\n",
       "      <th>date.1</th>\n",
       "      <th>overall.1</th>\n",
       "      <th>palate.1</th>\n",
       "      <th>rating.1</th>\n",
       "      <th>style.1</th>\n",
       "      <th>taste.1</th>\n",
       "      <th>text.1</th>\n",
       "      <th>user_id.1</th>\n",
       "      <th>user_name.1</th>\n",
       "    </tr>\n",
       "  </thead>\n",
       "  <tbody>\n",
       "    <tr>\n",
       "      <th>0</th>\n",
       "      <td>11.3</td>\n",
       "      <td>4.5</td>\n",
       "      <td>4.5</td>\n",
       "      <td>645</td>\n",
       "      <td>Trappistes Rochefort 10</td>\n",
       "      <td>207</td>\n",
       "      <td>Brasserie de Rochefort</td>\n",
       "      <td>1324810800</td>\n",
       "      <td>5.0</td>\n",
       "      <td>4.5</td>\n",
       "      <td>...</td>\n",
       "      <td>Brasserie Rochefort</td>\n",
       "      <td>1387710000</td>\n",
       "      <td>19.0</td>\n",
       "      <td>4.0</td>\n",
       "      <td>4.6</td>\n",
       "      <td>Abt/Quadrupel</td>\n",
       "      <td>9.0</td>\n",
       "      <td>a)  Geruch malzig-schwer-sÃÂ¼ÃÂ. Riecht sc...</td>\n",
       "      <td>83106</td>\n",
       "      <td>Erzengel</td>\n",
       "    </tr>\n",
       "  </tbody>\n",
       "</table>\n",
       "<p>1 rows × 33 columns</p>\n",
       "</div>"
      ],
      "text/plain": [
       "    abv  appearance  aroma  beer_id                beer_name  brewery_id  \\\n",
       "0  11.3         4.5    4.5      645  Trappistes Rochefort 10         207   \n",
       "\n",
       "             brewery_name        date  overall  palate  ...  \\\n",
       "0  Brasserie de Rochefort  1324810800      5.0     4.5  ...   \n",
       "\n",
       "        brewery_name.1      date.1 overall.1  palate.1 rating.1  \\\n",
       "0  Brasserie Rochefort  1387710000      19.0       4.0      4.6   \n",
       "\n",
       "         style.1 taste.1                                             text.1  \\\n",
       "0  Abt/Quadrupel     9.0   a)  Geruch malzig-schwer-sÃÂ¼ÃÂ. Riecht sc...   \n",
       "\n",
       "   user_id.1  user_name.1  \n",
       "0      83106     Erzengel  \n",
       "\n",
       "[1 rows x 33 columns]"
      ]
     },
     "execution_count": 40,
     "metadata": {},
     "output_type": "execute_result"
    }
   ],
   "source": [
    "matched_ratings = pd.read_csv(PATH+'matched_beer_data/ratings.csv', encoding = \"ISO-8859-1\", header=1)\n",
    "matched_ratings.head(1)"
   ]
  },
  {
   "cell_type": "markdown",
   "metadata": {},
   "source": [
    "## Data description  <a class=\"anchor\" id=\"datadescription\"></a>"
   ]
  },
  {
   "cell_type": "markdown",
   "metadata": {},
   "source": [
    "### Beers  <a class=\"anchor\" id=\"beer_data\"></a>"
   ]
  },
  {
   "attachments": {},
   "cell_type": "markdown",
   "metadata": {},
   "source": [
    "Both rating websites contain similar structures for the beer datasets\n",
    "\n",
    "The variables in the BeerAdvocate beer data are:\n",
    "- *beer_id*(we set it as index) and *beer_name* : the id and name of the beer (which are also used in the reviews)\n",
    "- *brewery_id* : the id of the brewery (which is also used in the reviews)\n",
    "- *nbr_ratings* and *nbr_reviews*: the number of ratings and reviews a beer received\n",
    "- *avg* : the average rating of a beer (from 0 and 5)\n",
    "- *ba_score* : the beer's overall score based on its ranking within its style category. It's based on the beer's truncated (trimmed) mean and a custom Bayesian (weighted rank) formula that takes the beer's style into consideration. Its purpose is to provide consumers with a quick reference using a format that's familiar to the wine and liquor worlds.<br> \n",
    "The score is out of 100 with the following range: <br>\n",
    "95-100 = world-class <br>\n",
    "90-94 = outstanding <br>\n",
    "85-89 = very good <br>\n",
    "80-84 = good <br>\n",
    "70-79 = okay <br>\n",
    "60-69 = poor <br>\n",
    "< 60 = awful <br>\n",
    "- *bros_score* : the score given by the two brothers running the BeerAdvocate website\n",
    "- *abv* : is the alcohol content of the beer (%)\n",
    "- *avg_computed* : \n",
    "- *zscore* : \n",
    "- *nbr_matched_valid_ratings* : \n",
    "- *avg_matched_valid_ratings* : <br>\n",
    "reference [here](https://www.beeradvocate.com/community/threads/beeradvocate-ratings-explained.184726/)\n",
    "\n",
    "The RateBeer beer dataframe contains all the variables listed above except for the *nbr_reviews*, *ba_score* and *bros_score* (which makes sense). Instead the Ratebeer website has three different scores: <br>\n",
    "- *overall_score* : a score that reflects the rating given by RateBeer users and how this beer compares to all other beers on RateBeer. (out of 100)\n",
    "- *style_score* : a score that ranks this beer against all beers within its own style category.\n",
    "<br>\n",
    "Those two scores are calculated only from ratings that are accompanied with a written review of 75 or more characters. A rating doesn't count toward the final rating if the rater has left fewer than 10 ratings, if it is is deemed unauthentic, derogatory or abusive or if the rating was made by a brewer or brewer affiliate. <br>\n",
    "reference [here](https://www.ratebeer.com/our-scores)\n",
    "\n",
    "###DESCRIBE MATCHED DATA<br>\n",
    "We have a dataset available with matched datapoints. <br>\n",
    "This is useful if we want to look at a certain effect and compare it in both rating websites. <br>\n",
    "The matching was done in a project that investigated the herding effect. In particular how the first rating influences the final score of the beer. <br>\n",
    "The rationale behind matching is to avoid biases due to difference in the two populations. For example could individuals of one group be more wealthy, which would introduce the hidden variable \"income\". <br>\n",
    "Therefore, the propensity score was introduced. It uses the available features to predict the outcome variable y, for example via regression. <br>\n",
    "In the matched dataset we have pairs of individuals from both groups, with the most similar scores. <br>\n",
    "This minimizes the risk for hidden variables and insures that we have the same number of individuals from both groups.<br>\n",
    "The latter is important to avoid higher weighting of one group due to overrepresentation.\n",
    "\n",
    "For our project the matched dataset is not interesting, as we investigate global effects where comparison inside the group is not required."
   ]
  },
  {
   "cell_type": "markdown",
   "metadata": {},
   "source": [
    "### Breweries  <a class=\"anchor\" id=\"brewery_data\"></a>"
   ]
  },
  {
   "cell_type": "markdown",
   "metadata": {},
   "source": [
    "On both rating websites the breweries data contain the same variables: \n",
    "- *id* (set as index) : the brewery's id which corresponds ot the id *brewery_id* from the beer dataset\n",
    "- *location* : the location of the brewery\n",
    "- *name* : the name of the brewery\n",
    "- *nbr_beers* : the number of beers that brewery produces\n",
    "\n",
    "##DESCRIBE MATCHED BREWERIES"
   ]
  },
  {
   "cell_type": "markdown",
   "metadata": {},
   "source": [
    "### Users  <a class=\"anchor\" id=\"users\"></a>"
   ]
  },
  {
   "cell_type": "markdown",
   "metadata": {},
   "source": [
    "On both rating websites the user data contains the same variables (except for *nbr_reviews* which is unique to BeerAdvocate):\n",
    "- *user_id* (set as index) : the user_id \n",
    "- *nbr_ratings* : the number of ratings the reviewer has put on the website\n",
    "- *nbr_reviews* (unique to BeerAdvocate) : the number of reviews a user has given on the website\n",
    "- *user_name* : the username\n",
    "- *joined* : the date when the user joined the websites\n",
    "- *location* : the user's location\n",
    "\n",
    "#DESCRIBE MATCHED USERS"
   ]
  },
  {
   "cell_type": "markdown",
   "metadata": {},
   "source": [
    "### Reviews  <a class=\"anchor\" id=\"reviews\"></a>"
   ]
  },
  {
   "cell_type": "markdown",
   "metadata": {},
   "source": [
    "From both websites the reviews have the same structure, they contain the following elements:\n",
    "- *beer_name* and *beer_id* : the beer name abd id of the corresponding beer in the beer dataset\n",
    "- *brewery_name* and *brewery_id* : the brewery name and id of the corresponding brewery in the brewery dataset\n",
    "- *style* : corresponds to one out of 104 (BeerAdvocate) or 93 (RateBeer) different beer styles\n",
    "- *abv* : the alcohol content of the beer (%)\n",
    "- *date* : the date of the review\n",
    "- *user_name* and *user_id* : the username and the id of the reviewer (which correspond to the ones in user)\n",
    "- *text* : the text review\n",
    "\n",
    "For the rating itself both websites do similar things: the user's beer rating is comprised of five relatable attributes (represented as features in the dataframe): *appearance*, *aroma*, *palate*, *taste* and *overall* which contribute to the final *rating*. But they are slightly different:\n",
    "\n",
    "* BeerAdvocate:\n",
    "each of the five attributes is given a point value on a 1–5 point scale with 0.25 increments, and then the final user rating is calculated using BeerAvocate's weighted rating system, wherein certain attributes are applied with more importance (The weights for each of the attributes are the following: 6% for appearance, 24% for the smell, 10% for palate and 40% for the taste). reference [here](https://www.beeradvocate.com/community/threads/how-to-review-a-beer.241156/)\n",
    "\n",
    "* RateBeer:\n",
    "Appearance and Mouthfeel are each scored out of 5. Aroma and Taste are scored out of 10. While Overall is scored out of 20. These all combine to give the beer a total score out of 50, which is then divided and displayed as a score out of 5 for each rating. reference [here](https://www.ratebeer.com/our-scores)."
   ]
  },
  {
   "cell_type": "markdown",
   "metadata": {},
   "source": [
    "## Data pre-processing  <a class=\"anchor\" id=\"data_preprocessing\"></a>"
   ]
  },
  {
   "cell_type": "markdown",
   "metadata": {},
   "source": [
    "The data preprocessing done in this section allows the generation of three dataframes *df_BA_reviews* *df_RB_reviews* and *df_reviews_all* which contain the processed reviews from both websites and df_reviews_all contains both dataframes concatenated.\n",
    "We save these dataframes into a folder called DataFrameStorage as these computations are extremely long. \n",
    "This data pre-processing was thus ran once and in the following sections we just read the dataframes from the folder."
   ]
  },
  {
   "cell_type": "markdown",
   "metadata": {},
   "source": [
    "### Users  <a class=\"anchor\" id=\"users_processing\"></a>"
   ]
  },
  {
   "cell_type": "markdown",
   "metadata": {},
   "source": [
    "For both websites :\n",
    "- We convert the *joined* column from seconds into a datetime object \n",
    "- We add a column called *merged_location* where all the states of the United States are just defined as United States (this will be useful for analyses where we only care about comparing countries)"
   ]
  },
  {
   "cell_type": "code",
   "execution_count": 46,
   "metadata": {},
   "outputs": [],
   "source": [
    "BA_users['joined'] = pd.to_datetime(BA_users['joined'],unit = 's')\n",
    "\n",
    "# Add a column where all Users from the united states get 'United States' as location\n",
    "BA_users['location'] = BA_users['location'].fillna('Unknown')\n",
    "BA_users['merged_location'] = BA_users['location'].copy()\n",
    "BA_users.loc[(BA_users['merged_location'].str.startswith('United States')), 'merged_location'] = 'United States'"
   ]
  },
  {
   "cell_type": "code",
   "execution_count": 47,
   "metadata": {},
   "outputs": [],
   "source": [
    "RB_users['joined'] = pd.to_datetime(RB_users['joined'] ,unit = 's')\n",
    "\n",
    "# Add a column where all Users from the united states get 'United States' as location\n",
    "RB_users['location'] = RB_users['location'].fillna('Unknown')\n",
    "RB_users['merged_location'] = RB_users['location'].copy()\n",
    "RB_users.loc[(RB_users['merged_location'].str.startswith('United States')), 'merged_location'] = 'United States'"
   ]
  },
  {
   "cell_type": "markdown",
   "metadata": {},
   "source": [
    "For the matched data we just convert the *joined* to a datatime object as we will use primarly the two other dataframes when it comes to analyzing locations:"
   ]
  },
  {
   "cell_type": "code",
   "execution_count": 48,
   "metadata": {},
   "outputs": [],
   "source": [
    "matched_users['joined'] = pd.to_datetime(matched_users['joined'],unit = 's')\n",
    "matched_users['joined.1'] = pd.to_datetime(matched_users['joined.1'],unit = 's')"
   ]
  },
  {
   "cell_type": "markdown",
   "metadata": {},
   "source": [
    "### Breweries  <a class=\"anchor\" id=\"breweries_processing\"></a>"
   ]
  },
  {
   "cell_type": "markdown",
   "metadata": {},
   "source": [
    "We proceed similarly with the two website breweries:"
   ]
  },
  {
   "cell_type": "code",
   "execution_count": null,
   "metadata": {},
   "outputs": [],
   "source": [
    "# Add a column where all Users from the united states get 'United States' as location\n",
    "RB_breweries['merged_location'] = RB_breweries['location'].copy()\n",
    "RB_breweries.loc[(RB_breweries['merged_location'].str.startswith('United States')), 'merged_location'] = 'United States'"
   ]
  },
  {
   "cell_type": "code",
   "execution_count": null,
   "metadata": {},
   "outputs": [],
   "source": [
    "BA_breweries['merged_location'] = BA_breweries['location'].copy()\n",
    "BA_breweries.loc[(BA_breweries['merged_location'].str.startswith('United States')), 'merged_location'] = 'United States'"
   ]
  },
  {
   "cell_type": "markdown",
   "metadata": {},
   "source": [
    "### Reviews  <a class=\"anchor\" id=\"reviews_processing\"></a>"
   ]
  },
  {
   "cell_type": "markdown",
   "metadata": {},
   "source": [
    "To facilitate consequent analyses, we wanted to have both the user location and the brewery location as columns in the review data, we proceed to do the following:\n",
    "To allow the merge of the brewery location with the brewery name on df_reviews, we first need to align the column names. <br>\n",
    "To do so we rename the column \"name\" of breweries to \"brewery_name\" (the name of the column in df_reviews). <br>\n",
    "\n",
    "We use the function df.merge to add the element \"location\" to the corresponding brewery in df_reviews. <br>\n",
    "By default the new columns name would be the same as in df_breweries ('location'), we rename it by \"brewery_location\" to prevent confusion. <br>\n",
    "\n",
    "After the merging we rename the column of the brewery dataframe again, to have the same name that we had initially."
   ]
  },
  {
   "cell_type": "code",
   "execution_count": null,
   "metadata": {},
   "outputs": [],
   "source": [
    "#Rename the column name to brewery_name to allow merging with the \n",
    "BA_breweries.rename(columns = {'name':'brewery_name'}, inplace = True)\n",
    "RB_breweries.rename(columns = {'name':'brewery_name'}, inplace = True)\n",
    "\n",
    "\n",
    "#Add the location to the beer dataframe\n",
    "df_BA_reviews = (df_BA_reviews.merge(BA_breweries[['location', 'brewery_name']], on=['brewery_name'], how='left')).rename(columns = {'location':'brewery_location'})\n",
    "df_RB_reviews = (df_RB_reviews.merge(RB_breweries[['location', 'brewery_name']], on=['brewery_name'], how='left')).rename(columns = {'location':'brewery_location'})\n",
    "\n",
    "\n",
    "#Name the columns back: \n",
    "BA_breweries.rename(columns = {'brewery_name':'name'}, inplace = True)\n",
    "RB_breweries.rename(columns = {'brewery_name':'name'}, inplace = True)"
   ]
  },
  {
   "cell_type": "markdown",
   "metadata": {},
   "source": [
    "As the different states of the US are described as different locations, but sometimes we want to group the beers by nations and not by states. <br>\n",
    "To make this possible we add a new column. <br>\n",
    "This column is called \"brewery_merged_location\" and is exactly the same as the column \"brewery_location\" except for the fact, that the different states of the US all take the value \"United States\"."
   ]
  },
  {
   "cell_type": "code",
   "execution_count": null,
   "metadata": {},
   "outputs": [],
   "source": [
    "# Add a column where all breweries from the united states get 'United States' as location\n",
    "df_RB_reviews['brewery_merged_location'] = df_RB_reviews['brewery_location'].copy()\n",
    "df_RB_reviews.loc[(df_RB_reviews['brewery_merged_location'].str.startswith('United States')), 'brewery_merged_location'] = 'United States'\n",
    "\n",
    "\n",
    "df_BA_reviews['brewery_merged_location'] = df_BA_reviews['brewery_location'].copy()\n",
    "df_BA_reviews.loc[(df_BA_reviews['brewery_merged_location'].str.startswith('United States')), 'brewery_merged_location'] = 'United States'"
   ]
  },
  {
   "cell_type": "markdown",
   "metadata": {},
   "source": [
    "The same approach as for the brewery locations is used to add the country of origin of the users. <br>\n",
    "To group them by nations we add here a column that sums up the states of the US under the value \"United States\"."
   ]
  },
  {
   "cell_type": "code",
   "execution_count": null,
   "metadata": {},
   "outputs": [],
   "source": [
    "#Add the country of origin of the reviewer to the review\n",
    "df_RB_reviews = (df_RB_reviews.merge(RB_users[['location', 'user_name']], on=['user_name'], how='left')).rename(columns={'location':'user_location'})\n",
    "df_BA_reviews = (df_BA_reviews.merge(BA_users[['location', 'user_name']], on=['user_name'], how='left')).rename(columns={'location':'user_location'})\n",
    "\n",
    "# Add a column where all users from the united states get 'United States' as location\n",
    "df_RB_reviews['user_location'] = df_RB_reviews['user_location'].fillna('Unknown')\n",
    "df_RB_reviews['user_merged_location'] = df_RB_reviews['user_location'].copy()\n",
    "df_RB_reviews.loc[(df_RB_reviews['user_merged_location'].str.startswith('United States')), 'user_merged_location'] = 'United States'\n",
    "\n",
    "#For BA we have to replace the NaN values\n",
    "df_BA_reviews['user_location'] = df_BA_reviews['user_location'].fillna('Unknown')\n",
    "df_BA_reviews['user_merged_location'] = df_BA_reviews['user_location'].copy()\n",
    "df_BA_reviews.loc[(df_BA_reviews['user_merged_location'].str.startswith('United States')), 'user_merged_location'] = 'United States'"
   ]
  },
  {
   "cell_type": "code",
   "execution_count": null,
   "metadata": {},
   "outputs": [],
   "source": [
    "# Add a column where all users from the united states get 'United States' as location\n",
    "df_RB_reviews['user_location'] = df_RB_reviews['user_location'].fillna('Unknown')\n",
    "\n",
    "df_RB_reviews['user_merged_location'] = df_RB_reviews['user_location'].copy()\n",
    "df_RB_reviews.loc[(df_RB_reviews['user_merged_location'].str.startswith('United States')), 'user_merged_location'] = 'United States'"
   ]
  },
  {
   "cell_type": "code",
   "execution_count": null,
   "metadata": {},
   "outputs": [],
   "source": [
    "#Transform the dates of the reviews from string to datetime\n",
    "df_BA_reviews['date'] = pd.to_datetime(df_BA_reviews['date'], format=\"%Y-%m-%d %H:%M:%S\")\n",
    "df_RB_reviews['date'] = pd.to_datetime(df_RB_reviews['date'], format=\"%Y-%m-%d %H:%M:%S\")"
   ]
  },
  {
   "cell_type": "markdown",
   "metadata": {},
   "source": [
    "To avoid doing these heavy computations (each take a long time) several times, we saved those dataframes as mentionned earlier; <br>"
   ]
  },
  {
   "cell_type": "code",
   "execution_count": null,
   "metadata": {},
   "outputs": [],
   "source": [
    "#Do that only once. Stores the dataframes so that we can access them more easily next time and have to do the data preprocessing only once\n",
    "df_BA_reviews.to_csv(PATH+'/DataframeStorage/df_BA_reviews.csv', columns=['beer_name', 'beer_id', 'brewery_name', 'brewery_id', 'style', 'abv', 'date', 'user_name', 'user_id', 'appearance', 'aroma', 'palate', 'taste', 'overall', 'rating', 'text', 'brewery_location', 'brewery_merged_location', 'user_location', 'user_merged_location'], index=False)"
   ]
  },
  {
   "cell_type": "code",
   "execution_count": null,
   "metadata": {},
   "outputs": [],
   "source": [
    "df_RB_reviews.to_csv(PATH+'/DataframeStorage/df_RB_reviews.csv', columns=['beer_name', 'beer_id', 'brewery_name', 'brewery_id', 'style', 'abv', 'date', 'user_name', 'user_id', 'appearance', 'aroma', 'palate', 'taste', 'overall', 'rating', 'text', 'brewery_location', 'brewery_merged_location', 'user_location', 'user_merged_location'], index=False)"
   ]
  },
  {
   "cell_type": "code",
   "execution_count": 74,
   "metadata": {},
   "outputs": [],
   "source": [
    "df_reviews_all = pd.concat([df_BA_reviews, df_RB_reviews], axis=0)\n",
    "\n",
    "df_reviews_all.to_csv(PATH+'/DataframeStorage/df_reviews_all.csv', columns=['beer_name', 'beer_id', 'brewery_name', 'brewery_id', 'style', 'abv', 'date', 'user_name', 'user_id', 'appearance', 'aroma', 'palate', 'taste', 'overall', 'rating', 'text', 'brewery_location', 'brewery_merged_location', 'user_location', 'user_merged_location'], index=False)"
   ]
  },
  {
   "cell_type": "markdown",
   "metadata": {},
   "source": [
    "## Data exploration  <a class=\"anchor\" id=\"data_exploration\"></a>"
   ]
  },
  {
   "cell_type": "markdown",
   "metadata": {},
   "source": [
    "We have our review dataframes stored in DataframeStorage, so we just start by reading those below (in different cells because this is computationally expensive):"
   ]
  },
  {
   "cell_type": "code",
   "execution_count": 52,
   "metadata": {},
   "outputs": [],
   "source": [
    "df_BA_reviews = pd.read_csv('../DataframeStorage/df_BA_reviews.csv')"
   ]
  },
  {
   "cell_type": "code",
   "execution_count": 53,
   "metadata": {},
   "outputs": [],
   "source": [
    "df_RB_reviews = pd.read_csv('../DataframeStorage/df_RB_reviews.csv')"
   ]
  },
  {
   "cell_type": "code",
   "execution_count": 3,
   "metadata": {},
   "outputs": [
    {
     "name": "stderr",
     "output_type": "stream",
     "text": [
      "/var/folders/vs/4l5nyqs52cj8k63yp80d5cfh0000gn/T/ipykernel_11024/1808589098.py:1: DtypeWarning: Columns (8) have mixed types. Specify dtype option on import or set low_memory=False.\n",
      "  df_reviews_all = pd.read_csv(PATH+'/DataframeStorage/df_reviews_all.csv')\n"
     ]
    }
   ],
   "source": [
    "df_reviews_all = pd.read_csv(PATH+'/DataframeStorage/df_reviews_all.csv')"
   ]
  },
  {
   "cell_type": "markdown",
   "metadata": {},
   "source": [
    "The dates in df_reviews are saved as strings. <br>\n",
    "A first step (will be important later) is to transform them to datetime. <br>\n",
    "Probably this step we will have to do everytime we load the csv file."
   ]
  },
  {
   "cell_type": "code",
   "execution_count": 16,
   "metadata": {},
   "outputs": [],
   "source": [
    "#Transform the dates of the reviews from string to datetime\n",
    "df_BA_reviews['date'] = pd.to_datetime(df_BA_reviews['date'], format=\"%Y-%m-%d %H:%M:%S\")\n",
    "df_RB_reviews['date'] = pd.to_datetime(df_RB_reviews['date'], format=\"%Y-%m-%d %H:%M:%S\")\n",
    "df_reviews_all['date'] = pd.to_datetime(df_reviews_all['date'], format=\"%Y-%m-%d %H:%M:%S\")"
   ]
  },
  {
   "cell_type": "markdown",
   "metadata": {},
   "source": [
    "```\n",
    "HERE WE CAN INCLUDE A FEW NUMBERS AND PLOTS RELEVANT TO OUR STORY\n",
    "\n",
    "```"
   ]
  },
  {
   "cell_type": "markdown",
   "metadata": {},
   "source": [
    "## Sensorial evaluation  <a class=\"anchor\" id=\"sensory\"></a>"
   ]
  },
  {
   "cell_type": "markdown",
   "metadata": {},
   "source": [
    "## Location bias  <a class=\"anchor\" id=\"location\"></a>"
   ]
  },
  {
   "cell_type": "markdown",
   "metadata": {},
   "source": [
    "## Political/Economic climate effect  <a class=\"anchor\" id=\"political\"></a>"
   ]
  },
  {
   "attachments": {},
   "cell_type": "markdown",
   "metadata": {},
   "source": [
    "***Used DataFrames***"
   ]
  },
  {
   "cell_type": "code",
   "execution_count": 15,
   "metadata": {},
   "outputs": [],
   "source": [
    "'''\n",
    "#Stores only the reviews done by users from the US:\n",
    "df_US_reviews = df_reviews_all[df_reviews_all['user_merged_location'] == 'United States']\n",
    "df_US_reviews['date'] = pd.to_datetime(df_US_reviews['date'], format=\"%Y-%m-%d %H:%M:%S\")\n",
    "\n",
    "df_US_reviews['year'] = df_US_reviews['date'].dt.year\n",
    "df_US_reviews['month_year'] = df_US_reviews['date'].dt.to_period('M')\n",
    "\n",
    "#Important for the division later on (to obtain the ratio of reviews per month)\n",
    "df_US_reviews = df_US_reviews.sort_values('date', ascending=True)\n",
    "\n",
    "df_US_reviews.to_csv(PATH+'/DataframeStorage/df_US_reviews.csv', columns=['beer_name', 'beer_id', 'brewery_name', 'brewery_id', 'style', 'abv', 'date', 'user_name', 'user_id', 'appearance', 'aroma', 'palate', 'taste', 'overall', 'rating', 'text', 'brewery_location', 'brewery_merged_location', 'user_location', 'user_merged_location', 'year', 'month_year'], index=False)\n",
    "'''"
   ]
  },
  {
   "cell_type": "code",
   "execution_count": null,
   "metadata": {},
   "outputs": [],
   "source": [
    "df_US_reviews = pd.read_csv(PATH+'/DataframeStorage/df_US_reviews.csv')"
   ]
  },
  {
   "attachments": {},
   "cell_type": "markdown",
   "metadata": {},
   "source": [
    "### Influence of the financial crisis in 2007/2008 on the appearance of price related words in the ratings.\n"
   ]
  },
  {
   "attachments": {},
   "cell_type": "markdown",
   "metadata": {},
   "source": [
    "The general idea is to look whether the price plays a more important role during economically difficult times (which we expect to do). <br>\n",
    "The approach is to find the text reviews mentionning any price related words and see whether the frequency increased after the onset of the crisis.\n",
    "\n",
    "First we define the words that we want the text reviews to scan for. <br>"
   ]
  },
  {
   "cell_type": "code",
   "execution_count": 12,
   "metadata": {},
   "outputs": [],
   "source": [
    "price_related_words = ['price','cheap','expensive', 'inexpensive', 'cost', 'money', 'costly', 'pricey']"
   ]
  },
  {
   "attachments": {},
   "cell_type": "markdown",
   "metadata": {},
   "source": [
    "In the following cell we have the algorithm extracting the indices for the reviews where the words are mentionned. <br>\n",
    "We run the algorithm only once and save the list of indices as a pickle that we can open easily."
   ]
  },
  {
   "cell_type": "code",
   "execution_count": 13,
   "metadata": {},
   "outputs": [
    {
     "data": {
      "text/plain": [
       "'\\nindex_price = []\\nk = \"abcdefghijklmnopqrstuvwxyzABCDEFGHIJKLMNOPQRSTUVWXYZ\"\\n\\n\\nfor index, row in df_US_reviews.iterrows():\\n    #extract the text\\n    text = str(row[\\'text\\'])\\n    #split the text into words\\n    words = text.split(\\' \\')\\n    #remove all characters that arent letters\\n    for i, word in enumerate(words):\\n        words[i] = \"\".join(list(filter(lambda x: x in k, word)))\\n    #Check whether a word related to \"can\" is in the text\\n    if (len([x for x in words if x in price_related_words]) > 0):\\n        index_price.append(index)\\n\\n\\nwith open(\"../DataframeStorage/index_price.bin\", \"wb\") as output:\\n    pickle.dump(index_price, output)\\n'"
      ]
     },
     "execution_count": 13,
     "metadata": {},
     "output_type": "execute_result"
    }
   ],
   "source": [
    "'''\n",
    "index_price = []\n",
    "k = \"abcdefghijklmnopqrstuvwxyzABCDEFGHIJKLMNOPQRSTUVWXYZ\"\n",
    "\n",
    "\n",
    "for index, row in df_US_reviews.iterrows():\n",
    "    #extract the text\n",
    "    text = str(row['text'])\n",
    "    #split the text into words\n",
    "    words = text.split(' ')\n",
    "    #remove all characters that arent letters\n",
    "    for i, word in enumerate(words):\n",
    "        words[i] = \"\".join(list(filter(lambda x: x in k, word)))\n",
    "    #Check whether a word related to \"can\" is in the text\n",
    "    if (len([x for x in words if x in price_related_words]) > 0):\n",
    "        index_price.append(index)\n",
    "\n",
    "\n",
    "with open(\"../DataframeStorage/index_price.bin\", \"wb\") as output:\n",
    "    pickle.dump(index_price, output)\n",
    "'''"
   ]
  },
  {
   "attachments": {},
   "cell_type": "markdown",
   "metadata": {},
   "source": [
    "Open the pickle as a list:"
   ]
  },
  {
   "cell_type": "code",
   "execution_count": 14,
   "metadata": {},
   "outputs": [],
   "source": [
    "with open(\"../DataframeStorage/index_price.bin\", \"rb\") as data:\n",
    "    index_price = pickle.load(data)"
   ]
  },
  {
   "attachments": {},
   "cell_type": "markdown",
   "metadata": {},
   "source": [
    "First we will see how many reviews mention a price:"
   ]
  },
  {
   "cell_type": "code",
   "execution_count": 16,
   "metadata": {},
   "outputs": [
    {
     "name": "stdout",
     "output_type": "stream",
     "text": [
      "189545 of the reviews mention prices\n"
     ]
    }
   ],
   "source": [
    "print(str(len(index_price)) + ' of the reviews mention prices')"
   ]
  },
  {
   "attachments": {},
   "cell_type": "markdown",
   "metadata": {},
   "source": [
    "We have almost 190'000 american reviews mentionning price related words."
   ]
  },
  {
   "cell_type": "code",
   "execution_count": 40,
   "metadata": {},
   "outputs": [],
   "source": [
    "df_price_related = df_US_reviews.loc[index_price]\n"
   ]
  },
  {
   "cell_type": "code",
   "execution_count": 43,
   "metadata": {},
   "outputs": [
    {
     "data": {
      "text/html": [
       "<div>\n",
       "<style scoped>\n",
       "    .dataframe tbody tr th:only-of-type {\n",
       "        vertical-align: middle;\n",
       "    }\n",
       "\n",
       "    .dataframe tbody tr th {\n",
       "        vertical-align: top;\n",
       "    }\n",
       "\n",
       "    .dataframe thead th {\n",
       "        text-align: right;\n",
       "    }\n",
       "</style>\n",
       "<table border=\"1\" class=\"dataframe\">\n",
       "  <thead>\n",
       "    <tr style=\"text-align: right;\">\n",
       "      <th></th>\n",
       "      <th>beer_name</th>\n",
       "      <th>beer_id</th>\n",
       "      <th>brewery_name</th>\n",
       "      <th>brewery_id</th>\n",
       "      <th>style</th>\n",
       "      <th>abv</th>\n",
       "      <th>date</th>\n",
       "      <th>user_name</th>\n",
       "      <th>user_id</th>\n",
       "      <th>appearance</th>\n",
       "      <th>...</th>\n",
       "      <th>taste</th>\n",
       "      <th>overall</th>\n",
       "      <th>rating</th>\n",
       "      <th>text</th>\n",
       "      <th>brewery_location</th>\n",
       "      <th>brewery_merged_location</th>\n",
       "      <th>user_location</th>\n",
       "      <th>user_merged_location</th>\n",
       "      <th>year</th>\n",
       "      <th>month_year</th>\n",
       "    </tr>\n",
       "  </thead>\n",
       "  <tbody>\n",
       "    <tr>\n",
       "      <th>1320566</th>\n",
       "      <td>Ommegang (Abbey Ale)</td>\n",
       "      <td>142</td>\n",
       "      <td>Brewery Ommegang</td>\n",
       "      <td>42</td>\n",
       "      <td>Dubbel</td>\n",
       "      <td>8.2</td>\n",
       "      <td>1998-02-18 11:00:00</td>\n",
       "      <td>Todd</td>\n",
       "      <td>todd.2</td>\n",
       "      <td>4.0</td>\n",
       "      <td>...</td>\n",
       "      <td>4.5</td>\n",
       "      <td>4.5</td>\n",
       "      <td>4.3</td>\n",
       "      <td>Presentation: A beautiful 750ml. bottle with t...</td>\n",
       "      <td>United States, New York</td>\n",
       "      <td>United States</td>\n",
       "      <td>United States, California</td>\n",
       "      <td>United States</td>\n",
       "      <td>1998</td>\n",
       "      <td>1998-02</td>\n",
       "    </tr>\n",
       "    <tr>\n",
       "      <th>1320566</th>\n",
       "      <td>Ommegang (Abbey Ale)</td>\n",
       "      <td>142</td>\n",
       "      <td>Brewery Ommegang</td>\n",
       "      <td>42</td>\n",
       "      <td>Dubbel</td>\n",
       "      <td>8.2</td>\n",
       "      <td>1998-02-18 11:00:00</td>\n",
       "      <td>Todd</td>\n",
       "      <td>todd.2</td>\n",
       "      <td>4.0</td>\n",
       "      <td>...</td>\n",
       "      <td>4.5</td>\n",
       "      <td>4.5</td>\n",
       "      <td>4.3</td>\n",
       "      <td>Presentation: A beautiful 750ml. bottle with t...</td>\n",
       "      <td>United States, New York</td>\n",
       "      <td>United States</td>\n",
       "      <td>United States, California</td>\n",
       "      <td>United States</td>\n",
       "      <td>1998</td>\n",
       "      <td>1998-02</td>\n",
       "    </tr>\n",
       "  </tbody>\n",
       "</table>\n",
       "<p>2 rows × 22 columns</p>\n",
       "</div>"
      ],
      "text/plain": [
       "                    beer_name  beer_id      brewery_name  brewery_id   style  \\\n",
       "1320566  Ommegang (Abbey Ale)      142  Brewery Ommegang          42  Dubbel   \n",
       "1320566  Ommegang (Abbey Ale)      142  Brewery Ommegang          42  Dubbel   \n",
       "\n",
       "         abv                date user_name user_id  appearance  ...  taste  \\\n",
       "1320566  8.2 1998-02-18 11:00:00      Todd  todd.2         4.0  ...    4.5   \n",
       "1320566  8.2 1998-02-18 11:00:00      Todd  todd.2         4.0  ...    4.5   \n",
       "\n",
       "         overall  rating                                               text  \\\n",
       "1320566      4.5     4.3  Presentation: A beautiful 750ml. bottle with t...   \n",
       "1320566      4.5     4.3  Presentation: A beautiful 750ml. bottle with t...   \n",
       "\n",
       "                brewery_location brewery_merged_location  \\\n",
       "1320566  United States, New York           United States   \n",
       "1320566  United States, New York           United States   \n",
       "\n",
       "                     user_location user_merged_location  year month_year  \n",
       "1320566  United States, California        United States  1998    1998-02  \n",
       "1320566  United States, California        United States  1998    1998-02  \n",
       "\n",
       "[2 rows x 22 columns]"
      ]
     },
     "execution_count": 43,
     "metadata": {},
     "output_type": "execute_result"
    }
   ],
   "source": [
    "#init_dataframe\n",
    "df_price_related = df_US_reviews.loc[index_price]\n",
    "#Important for the division later on (to obtain the ratio of reviews per month)\n",
    "#Maybe the sorting is not required\n",
    "df_price_related = df_price_related.sort_values('date', ascending=True)\n",
    "\n",
    "df_price_related.head(2)"
   ]
  },
  {
   "cell_type": "code",
   "execution_count": 26,
   "metadata": {},
   "outputs": [
    {
     "data": {
      "image/png": "[encoded data removed]",
      "text/plain": [
       "<Figure size 1500x500 with 1 Axes>"
      ]
     },
     "metadata": {},
     "output_type": "display_data"
    }
   ],
   "source": [
    "counts_price_reviews = df_price_related.groupby('month_year').count().reset_index()\n",
    "\n",
    "axes = counts_price_reviews.plot.bar(x = 'month_year', y='beer_name', figsize=(15,5))\n",
    "axes.set_ylabel('count')\n",
    "axes.set_xlabel('month-year')\n",
    "axes.legend(['Numbers of reviews mentioning price per month'])\n",
    "\n",
    "for i, t in enumerate(axes.get_xticklabels()):\n",
    "    if (i % 12) != 0:\n",
    "        t.set_visible(False)"
   ]
  },
  {
   "cell_type": "code",
   "execution_count": 65,
   "metadata": {},
   "outputs": [
    {
     "data": {
      "image/png": "[encoded data removed]",
      "text/plain": [
       "<Figure size 1500x500 with 1 Axes>"
      ]
     },
     "metadata": {},
     "output_type": "display_data"
    }
   ],
   "source": [
    "counts_US_reviews = df_US_reviews.groupby('month_year').count().reset_index()\n",
    "\n",
    "counts_US_reviews = counts_US_reviews[counts_US_reviews['beer_name']>50]\n",
    "\n",
    "axes = counts_US_reviews.plot.bar(x = 'month_year', y='beer_name', figsize=(15,5))\n",
    "axes.set_ylabel('count')\n",
    "axes.set_xlabel('month-year')\n",
    "axes.legend(['Numbers of reviews per month'])\n",
    "\n",
    "for i, t in enumerate(axes.get_xticklabels()):\n",
    "    if (i % 12) != 0:\n",
    "        t.set_visible(False)"
   ]
  },
  {
   "cell_type": "code",
   "execution_count": 66,
   "metadata": {},
   "outputs": [],
   "source": [
    "df_calculation_price_related = counts_price_reviews[['month_year', 'beer_name']]\n",
    "df_calculation_US_reviews = counts_US_reviews[['month_year', 'beer_name']]"
   ]
  },
  {
   "cell_type": "code",
   "execution_count": 67,
   "metadata": {},
   "outputs": [
    {
     "data": {
      "text/html": [
       "<div>\n",
       "<style scoped>\n",
       "    .dataframe tbody tr th:only-of-type {\n",
       "        vertical-align: middle;\n",
       "    }\n",
       "\n",
       "    .dataframe tbody tr th {\n",
       "        vertical-align: top;\n",
       "    }\n",
       "\n",
       "    .dataframe thead th {\n",
       "        text-align: right;\n",
       "    }\n",
       "</style>\n",
       "<table border=\"1\" class=\"dataframe\">\n",
       "  <thead>\n",
       "    <tr style=\"text-align: right;\">\n",
       "      <th></th>\n",
       "      <th>month_year</th>\n",
       "      <th>price_related</th>\n",
       "      <th>all_reviews</th>\n",
       "      <th>ratio</th>\n",
       "    </tr>\n",
       "  </thead>\n",
       "  <tbody>\n",
       "    <tr>\n",
       "      <th>0</th>\n",
       "      <td>2000-04</td>\n",
       "      <td>2</td>\n",
       "      <td>53</td>\n",
       "      <td>3.77</td>\n",
       "    </tr>\n",
       "    <tr>\n",
       "      <th>1</th>\n",
       "      <td>2000-05</td>\n",
       "      <td>4</td>\n",
       "      <td>164</td>\n",
       "      <td>2.44</td>\n",
       "    </tr>\n",
       "    <tr>\n",
       "      <th>2</th>\n",
       "      <td>2000-06</td>\n",
       "      <td>5</td>\n",
       "      <td>178</td>\n",
       "      <td>2.81</td>\n",
       "    </tr>\n",
       "  </tbody>\n",
       "</table>\n",
       "</div>"
      ],
      "text/plain": [
       "  month_year  price_related  all_reviews  ratio\n",
       "0    2000-04              2           53   3.77\n",
       "1    2000-05              4          164   2.44\n",
       "2    2000-06              5          178   2.81"
      ]
     },
     "execution_count": 67,
     "metadata": {},
     "output_type": "execute_result"
    }
   ],
   "source": [
    "df_calculation = df_calculation_price_related.merge(df_calculation_US_reviews, on='month_year')\n",
    "df_calculation.rename(columns = {'beer_name_x':'price_related', 'beer_name_y':'all_reviews'}, inplace = True)\n",
    "df_calculation['ratio'] = (df_calculation['price_related']/df_calculation['all_reviews']*100).round(2)\n",
    "\n",
    "df_calculation.head(3)"
   ]
  },
  {
   "cell_type": "code",
   "execution_count": 68,
   "metadata": {},
   "outputs": [
    {
     "data": {
      "image/png": "[encoded data removed]",
      "text/plain": [
       "<Figure size 1500x500 with 1 Axes>"
      ]
     },
     "metadata": {},
     "output_type": "display_data"
    }
   ],
   "source": [
    "axes = df_calculation.plot.bar(x = 'month_year', y='ratio', figsize=(15,5))\n",
    "axes.set_ylabel('percent of reviews mentioning price')\n",
    "axes.set_xlabel('month-year')\n",
    "axes.legend(['percent of reviews mentioning price'])\n",
    "\n",
    "for i, t in enumerate(axes.get_xticklabels()):\n",
    "    if (i % 12) != 0:\n",
    "        t.set_visible(False)"
   ]
  },
  {
   "cell_type": "code",
   "execution_count": 59,
   "metadata": {},
   "outputs": [],
   "source": [
    "counts_US_reviews.head(37)\n",
    "test = counts_US_reviews[counts_US_reviews['beer_name']<50]"
   ]
  },
  {
   "cell_type": "code",
   "execution_count": 61,
   "metadata": {},
   "outputs": [
    {
     "data": {
      "text/plain": [
       "27"
      ]
     },
     "execution_count": 61,
     "metadata": {},
     "output_type": "execute_result"
    }
   ],
   "source": [
    "len(test)"
   ]
  },
  {
   "cell_type": "code",
   "execution_count": null,
   "metadata": {},
   "outputs": [],
   "source": []
  }
 ],
 "metadata": {
  "kernelspec": {
   "display_name": "ada",
   "language": "python",
   "name": "python3"
  },
  "language_info": {
   "codemirror_mode": {
    "name": "ipython",
    "version": 3
   },
   "file_extension": ".py",
   "mimetype": "text/x-python",
   "name": "python",
   "nbconvert_exporter": "python",
   "pygments_lexer": "ipython3",
   "version": "3.9.13"
  },
  "vscode": {
   "interpreter": {
    "hash": "faf7d6ed75ed7c5983c8b8c663c43d66c206a8e5fc8fdda408f4c308fc80edef"
   }
  }
 },
 "nbformat": 4,
 "nbformat_minor": 4
}
