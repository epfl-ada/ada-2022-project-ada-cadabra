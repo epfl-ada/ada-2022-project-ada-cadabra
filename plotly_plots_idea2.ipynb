{
 "cells": [
  {
   "cell_type": "code",
   "execution_count": 1,
   "metadata": {},
   "outputs": [],
   "source": [
    "#reading data\n",
    "import gzip \n",
    "\n",
    "#manipulating data \n",
    "import pandas as pd\n",
    "import numpy as np\n",
    "import datetime\n",
    "\n",
    "#plotting\n",
    "import matplotlib.pyplot as plt\n",
    "import seaborn as sns\n",
    "import matplotlib.cm as cm\n",
    "import matplotlib.colors as colors\n",
    "from math import pi\n",
    "\n",
    "import plotly.express as px\n",
    "import plotly.graph_objects as go\n",
    "\n",
    "import random\n",
    "\n",
    "\n",
    "#clustering\n",
    "from sklearn.cluster import KMeans\n",
    "from sklearn.preprocessing import normalize\n",
    "\n",
    "#creating a map \n",
    "import folium \n",
    "\n",
    "#pca\n",
    "from pca import pca"
   ]
  },
  {
   "cell_type": "code",
   "execution_count": 2,
   "metadata": {},
   "outputs": [
    {
     "name": "stderr",
     "output_type": "stream",
     "text": [
      "/opt/anaconda3/envs/ada/lib/python3.9/site-packages/IPython/core/interactiveshell.py:3135: DtypeWarning: Columns (9) have mixed types.Specify dtype option on import or set low_memory=False.\n",
      "  has_raised = await self.run_ast_nodes(code_ast.body, cell_name,\n"
     ]
    }
   ],
   "source": [
    "df_reviews_locations = pd.read_csv('../DataframeStorage/df_reviews_locations.csv')"
   ]
  },
  {
   "attachments": {},
   "cell_type": "markdown",
   "metadata": {},
   "source": [
    "## Map visualization for number of users"
   ]
  },
  {
   "attachments": {},
   "cell_type": "markdown",
   "metadata": {},
   "source": [
    "we start by plotting a map where we can visualize the different countries with the number of reviews per country:"
   ]
  },
  {
   "attachments": {},
   "cell_type": "markdown",
   "metadata": {},
   "source": [
    "We first define a df_country dataframe with the longitudes and latitudes of the world countries and US states in order to be able to plot maps. The data for the coordinates is taken from [here](https://www.mapsofworld.com/world-maps/world-map-with-latitude-and-longitude.html) and [here](https://www.mapsofworld.com/lat_long/usa-lat-long.html). There were some areas missing from the data we got so we added the missing locations manually using google maps coordinates."
   ]
  },
  {
   "cell_type": "code",
   "execution_count": null,
   "metadata": {},
   "outputs": [],
   "source": [
    "df_country_coordinates = pd.read_csv('../country2.csv')\n",
    "df_country_coordinates = df_country_coordinates[['name','Latitude', 'Longitude']]\n",
    "\n",
    "df_US_states_coordinates= pd.read_csv('../US_states.csv', index_col= 'name')\n",
    "df_US_states_coordinates = df_US_states_coordinates.reset_index(level=0)\n",
    "df_US_states_coordinates['name'] = df_US_states_coordinates['name'].apply(lambda x: 'United States, ' + x)\n",
    "\n",
    "frames = [df_country_coordinates, df_US_states_coordinates]\n",
    "df_coordinates = pd.concat(frames)\n",
    "df_coordinates = df_coordinates.set_index('name')"
   ]
  },
  {
   "attachments": {},
   "cell_type": "markdown",
   "metadata": {},
   "source": [
    "Next we define a dataframe that contains the count of users from each country to plot the map:"
   ]
  },
  {
   "cell_type": "code",
   "execution_count": null,
   "metadata": {},
   "outputs": [],
   "source": [
    "df_map = pd.DataFrame(df_reviews_locations['user_location'].value_counts())\n",
    "df_map.index.name='name'"
   ]
  },
  {
   "attachments": {},
   "cell_type": "markdown",
   "metadata": {},
   "source": [
    "There are few locations where the name in df_reviews_locations differs from the one in the country coordinates we have. Also there are a two countries reffered to in two different ways. So we change them accordingly:"
   ]
  },
  {
   "cell_type": "code",
   "execution_count": null,
   "metadata": {},
   "outputs": [],
   "source": [
    "df_map = df_map.rename(index={'Virgin Islands (British)': 'British Virgin Islands', 'Virgin Islands (U.S.)':'U.S. Virgin Islands'})\n",
    "df_map.loc['New Zealand']=df_map.loc['Aotearoa']['user_location']+df_map.loc['New Zealand']['user_location']\n",
    "df_map.loc['Slovakia']=df_map.loc['Slovakia']['user_location']+df_map.loc['Slovak Republic']['user_location']"
   ]
  },
  {
   "attachments": {},
   "cell_type": "markdown",
   "metadata": {},
   "source": [
    "We join the coordinate data with the user location count data:"
   ]
  },
  {
   "cell_type": "code",
   "execution_count": null,
   "metadata": {},
   "outputs": [],
   "source": [
    "df_map = df_map.join(df_coordinates)\n",
    "df_map = df_map.dropna(axis=0)"
   ]
  },
  {
   "attachments": {},
   "cell_type": "markdown",
   "metadata": {},
   "source": [
    "Next we plot the data on a map using plotly:"
   ]
  },
  {
   "cell_type": "code",
   "execution_count": null,
   "metadata": {},
   "outputs": [
    {
     "data": {
      "application/vnd.plotly.v1+json": {
       "config": {
        "plotlyServerURL": "https://plot.ly"
       },
       "data": [
        {
         "hoverinfo": "text",
         "hovertemplate": "Country: %{text}<br>Number of reviewers: %{marker.size:.0f}<extra></extra>",
         "hovertext": [
          "Canada",
          "Denmark",
          "United States, California",
          "United States, Pennsylvania",
          "England",
          "United States, Illinois",
          "United States, New York",
          "Sweden",
          "United States, Ohio",
          "United States, Texas",
          "Netherlands",
          "United States, Washington",
          "Germany",
          "United States, Florida",
          "Norway",
          "United States, New Jersey",
          "United States, Minnesota",
          "United States, Massachusetts",
          "United States, Virginia",
          "Finland",
          "United States, Colorado",
          "United States, Michigan",
          "United States, North Carolina",
          "Poland",
          "United States, Wisconsin",
          "United States, Georgia",
          "United States, Maryland",
          "Belgium",
          "Australia",
          "United States, Indiana",
          "United States, Oregon",
          "Scotland",
          "United States, Missouri",
          "United States, Arizona",
          "United States, Connecticut",
          "United States, Tennessee",
          "United States, New Hampshire",
          "United States, Kentucky",
          "United States, Iowa",
          "Spain",
          "Italy",
          "Estonia",
          "United States, Idaho",
          "United States, South Carolina",
          "France",
          "United States, Alabama",
          "Japan",
          "United States, Nevada",
          "United States, Maine",
          "United States, Vermont",
          "United States, Kansas",
          "Switzerland",
          "Croatia",
          "Israel",
          "United States, Louisiana",
          "United States, Nebraska",
          "Czech Republic",
          "New Zealand",
          "United States, Rhode Island",
          "Hungary",
          "United States, Oklahoma",
          "United States, Delaware",
          "United States, West Virginia",
          "United States, Arkansas",
          "United States, Alaska",
          "Brazil",
          "Ireland",
          "Austria",
          "United States, Utah",
          "United States, New Mexico",
          "Mexico",
          "Thailand",
          "United States, Mississippi",
          "Slovenia",
          "Greece",
          "Faroe Islands",
          "Russia",
          "Portugal",
          "Malaysia",
          "United States, Montana",
          "Romania",
          "Belarus",
          "Northern Ireland",
          "United States, Wyoming",
          "Latvia",
          "United States, Hawaii",
          "South Africa",
          "Moldova",
          "Hong Kong",
          "Serbia",
          "Turkey",
          "United States, North Dakota",
          "Ukraine",
          "Chile",
          "Luxembourg",
          "Iceland",
          "El Salvador",
          "Cyprus",
          "China",
          "United States, South Dakota",
          "Venezuela",
          "Lithuania",
          "Taiwan",
          "Cambodia",
          "Mozambique",
          "Dominican Republic",
          "Wales",
          "Singapore",
          "Bermuda",
          "India",
          "Marshall Islands",
          "Bolivia",
          "Lesotho",
          "Indonesia",
          "South Korea",
          "Argentina",
          "Philippines",
          "Panama",
          "North Korea",
          "Jersey",
          "Guam",
          "Puerto Rico",
          "Saint Helena",
          "Ecuador",
          "Bulgaria",
          "Ascension Island",
          "Colombia",
          "Peru",
          "Greenland",
          "United Arab Emirates",
          "Jordan",
          "Bosnia and Herzegovina",
          "Andorra",
          "Uruguay",
          "Costa Rica",
          "Antarctica",
          "Bahamas",
          "Svalbard and Jan Mayen Islands",
          "Slovakia",
          "Fiji Islands",
          "Isle of Man",
          "Tajikistan",
          "Guatemala",
          "Lebanon",
          "Paraguay",
          "Vietnam",
          "Saudi Arabia",
          "Macedonia",
          "Burkina Faso",
          "Norfolk Island",
          "Tanzania",
          "U.S. Virgin Islands",
          "Kazakhstan",
          "Algeria",
          "Cayman Islands",
          "Pakistan",
          "Trinidad and Tobago",
          "Afghanistan",
          "American Samoa",
          "Montenegro",
          "Honduras",
          "Laos",
          "Bouvet Island",
          "Mauritius",
          "Malta",
          "Namibia",
          "South Georgia and South Sandwich Islands",
          "Bangladesh",
          "Barbados",
          "Montserrat",
          "Kenya",
          "Nepal",
          "Azerbaijan",
          "Uganda",
          "Morocco",
          "Oman",
          "Bhutan",
          "French Guiana",
          "Botswana",
          "San Marino",
          "Nicaragua",
          "Palestine",
          "Belize",
          "Monaco",
          "Zimbabwe",
          "Albania",
          "Tunisia",
          "Nigeria",
          "Egypt",
          "Armenia",
          "Liechtenstein",
          "Guernsey",
          "Tokelau",
          "Uzbekistan",
          "Vanuatu",
          "Angola",
          "Antigua and Barbuda",
          "Ghana",
          "Iraq",
          "Northern Mariana Islands",
          "Syria",
          "Aruba",
          "Papua New Guinea",
          "Vatican City",
          "Solomon Islands",
          "Sudan",
          "Dem Rep of Congo",
          "Togo",
          "Yemen",
          "Mongolia",
          "Macau",
          "Kosovo",
          "Zambia",
          "Burundi",
          "Saint Lucia",
          "Tuvalu",
          "Kyrgyzstan",
          "Iran",
          "Ivory Coast",
          "Gibraltar",
          "Cuba",
          "Anguilla",
          "Haiti",
          "Micronesia",
          "British Indian Ocean Territory",
          "New Caledonia",
          "British Virgin Islands",
          "Jamaica",
          "Mauritania"
         ],
         "lat": [
          "56.130366",
          "56.26392",
          36.778261,
          41.203322,
          "52.3555177 ",
          40.633125,
          43.299428,
          "60.128161",
          40.417287,
          31.968599,
          "52.132633",
          47.751074,
          "51.165691",
          27.664827,
          "60.472024",
          40.058324,
          46.729553,
          42.407211,
          37.431573,
          "61.92411",
          39.550051,
          44.314844,
          35.759573,
          "51.919438",
          43.78444,
          32.157435,
          39.045755,
          "50.503887",
          "-25.274398",
          40.551217,
          43.804133,
          "56.4907",
          37.964253,
          34.048928,
          41.603221,
          35.517491,
          43.193852,
          37.839333,
          41.878003,
          "40.463667",
          "41.87194",
          "58.595272",
          44.068202,
          33.836081,
          "46.227638",
          32.318231,
          "36.204824",
          38.80261,
          45.253783,
          44.558803,
          39.011902,
          "46.818188",
          "45.1",
          "31.046051",
          31.244823,
          41.492537,
          "49.817492",
          "-40.900557",
          41.580095,
          "47.162494",
          35.007752,
          38.910832,
          38.597626,
          35.20105,
          63.588753,
          "-14.235004",
          "53.41291",
          "47.516231",
          39.32098,
          34.97273,
          "23.634501",
          "15.870032",
          32.354668,
          "46.151241",
          "39.074208",
          "61.892635",
          "61.52401",
          "39.399872",
          "4.210484",
          46.879682,
          "45.943161",
          "53.709807",
          "54.7877",
          43.075968,
          "56.879635",
          19.898682,
          "-30.559482",
          "47.411631",
          "22.396428",
          "44.016521",
          "38.963745",
          47.551493,
          "48.379433",
          "-35.675147",
          "49.815273",
          "64.963051",
          "13.794185",
          "35.126413",
          "35.86166",
          43.969515,
          "6.42375",
          "55.169438",
          "23.69781",
          "12.565679",
          "-18.665695",
          "18.735693",
          "52.1307",
          "1.352083",
          "32.321384",
          "20.593684",
          "7.131474",
          "-16.290154",
          "-29.609988",
          "-0.789275",
          "35.907757",
          "-38.416097",
          "12.879721",
          "8.537981",
          "40.339852",
          "49.214439",
          "13.444304",
          "18.220833",
          "-24.143474",
          "-1.831239",
          "42.733883",
          "7.9467",
          "4.570868",
          "-9.189967",
          "71.706936",
          "23.424076",
          "30.585164",
          "43.915886",
          "42.546245",
          "-32.522779",
          "9.748917",
          "-75.250973",
          "25.03428",
          "71.0318",
          "48.669026",
          "17.7134",
          "54.236107",
          "38.861034",
          "15.783471",
          "33.854721",
          "-23.442503",
          "14.058324",
          "23.885942",
          "41.608635",
          "12.238333",
          "-29.040835",
          "-6.369028",
          "18.335765",
          "48.019573",
          "28.033886",
          "19.513469",
          "30.375321",
          "10.691803",
          "33.93911",
          "-14.270972",
          "42.708678",
          "15.199999",
          "19.85627",
          "-54.423199",
          "-20.348404",
          "35.937496",
          "-22.95764",
          "54.4296",
          "23.684994",
          "13.193887",
          "16.742498",
          "-0.023559",
          "28.394857",
          "40.143105",
          "1.373333",
          "31.791702",
          "21.512583",
          "27.514162",
          "3.933889",
          "-22.328474",
          "43.94236",
          "12.865416",
          "31.9522",
          "17.189877",
          "43.750298",
          "-19.015438",
          "41.153332",
          "33.886917",
          "9.081999",
          "26.820553",
          "40.069099",
          "47.166",
          "49.465691",
          "-8.967363",
          "41.377491",
          "-15.376706",
          "-11.202692",
          "17.060816",
          "7.946527",
          "33.223191",
          "17.33083",
          "34.802075",
          "12.52111",
          "-6.314993",
          "41.902916",
          "-9.64571",
          "12.862807",
          "-4.038333",
          "8.619543",
          "15.552727",
          "46.862496",
          "22.198745",
          "42.602636",
          "-13.133897",
          "-3.373056",
          "13.909444",
          "-7.109535",
          "41.20438",
          "32.427908",
          "7.539989",
          "36.137741",
          "21.521757",
          "18.220554",
          "18.971187",
          "7.425554",
          "-6.343194",
          "-20.904305",
          "18.420695",
          "18.109581",
          "21.00789"
         ],
         "lon": [
          -106.346771,
          9.501785,
          -119.417932,
          -77.194525,
          -1.1743197,
          -89.398528,
          -74.217933,
          18.643501,
          -82.907123,
          -99.901813,
          5.291266,
          -120.740139,
          10.451526,
          -81.515754,
          8.468946,
          -74.405661,
          -94.6859,
          -71.382437,
          -78.656894,
          25.748151,
          -105.782067,
          -85.602364,
          -79.0193,
          19.145136,
          -88.787868,
          -82.907123,
          -76.641271,
          4.469936,
          133.775136,
          -85.602364,
          -120.554201,
          4.2026,
          -91.831833,
          -111.093731,
          -73.087749,
          -86.580447,
          -71.572395,
          -84.270018,
          -93.097702,
          -3.74922,
          12.56738,
          25.013607,
          -114.742041,
          -81.163725,
          2.213749,
          -86.902298,
          138.252924,
          -116.419389,
          -69.445469,
          -72.577841,
          -98.484246,
          8.227512,
          15.2,
          34.851612,
          -92.145024,
          -99.901813,
          15.472962,
          174.885971,
          -71.477429,
          19.503304,
          -97.092877,
          -75.52767,
          -80.454903,
          -91.831833,
          -154.493062,
          -51.92528,
          -8.24389,
          14.550072,
          -111.093731,
          -105.032363,
          -102.552784,
          100.992541,
          -89.398528,
          14.995463,
          21.824312,
          -6.911806,
          105.318756,
          -8.224454,
          101.975766,
          -110.362566,
          24.96676,
          27.953389,
          6.4923,
          -107.290284,
          24.603189,
          -155.665857,
          22.937506,
          28.369885,
          114.109497,
          21.005859,
          35.243322,
          -101.002012,
          31.16558,
          -71.542969,
          6.129583,
          -19.020835,
          -88.89653,
          33.429859,
          104.195397,
          -99.901813,
          -66.58973,
          23.881275,
          120.960515,
          104.990963,
          35.529562,
          -70.162651,
          3.7837,
          103.819836,
          -64.75737,
          78.96288,
          171.184478,
          -63.588653,
          28.233608,
          113.921327,
          127.766922,
          -63.616672,
          121.774017,
          -80.782127,
          127.510093,
          -2.13125,
          144.793731,
          -66.590149,
          -10.030696,
          -78.183406,
          25.48583,
          14.3559,
          -74.297333,
          -75.015152,
          -42.604303,
          53.847818,
          36.238414,
          17.679076,
          1.601554,
          -55.765835,
          -83.753428,
          -0.071389,
          -77.39628,
          8.292,
          19.699024,
          178.065,
          -4.548056,
          71.276093,
          -90.230759,
          35.862285,
          -58.443832,
          108.277199,
          45.079162,
          21.745275,
          -1.561593,
          167.954712,
          34.888822,
          -64.896335,
          66.923684,
          1.659626,
          -80.566956,
          69.345116,
          -61.222503,
          67.709953,
          -170.132217,
          19.37439,
          -86.241905,
          102.495496,
          3.413194,
          57.552152,
          14.375416,
          18.49041,
          36.5879,
          90.356331,
          -59.543198,
          -62.187366,
          37.906193,
          84.124008,
          47.576927,
          32.290275,
          -7.09262,
          55.923255,
          90.433601,
          -53.125782,
          24.684866,
          12.457777,
          -85.207229,
          35.2332,
          -88.49765,
          7.412841,
          29.154857,
          20.168331,
          9.537499,
          8.675277,
          30.802498,
          45.038189,
          9.555373,
          -2.585278,
          -171.855881,
          64.585262,
          166.959158,
          17.873887,
          -61.796428,
          -1.023194,
          43.679291,
          145.38469,
          38.996815,
          -69.968338,
          143.95555,
          12.453389,
          160.156194,
          30.217636,
          21.758664,
          0.824782,
          48.516388,
          103.846656,
          113.543873,
          20.902977,
          27.849332,
          29.918886,
          -60.978893,
          177.64933,
          74.766098,
          53.688046,
          -5.54708,
          -5.345374,
          -77.781167,
          -63.068615,
          -72.285215,
          150.550812,
          71.876519,
          165.618042,
          -64.639968,
          -77.297508,
          -10.940835
         ],
         "marker": {
          "size": [
           663769,
           582636,
           536188,
           472818,
           462653,
           334134,
           314469,
           293008,
           273903,
           260183,
           243711,
           235128,
           227558,
           220632,
           218029,
           217533,
           205721,
           201408,
           196953,
           192316,
           190519,
           161496,
           160903,
           155659,
           147512,
           139100,
           137958,
           128331,
           126818,
           119506,
           111740,
           103559,
           97346,
           95843,
           79499,
           73869,
           69312,
           66372,
           63172,
           60438,
           60241,
           52682,
           49280,
           45786,
           39662,
           37259,
           36057,
           36002,
           33007,
           32749,
           32691,
           32451,
           32438,
           31282,
           28381,
           26651,
           25942,
           25189,
           24542,
           24423,
           22914,
           21306,
           19338,
           15662,
           15511,
           15475,
           15241,
           15108,
           14618,
           13186,
           13087,
           12999,
           11077,
           10227,
           9821,
           9673,
           9327,
           9248,
           8337,
           8199,
           7939,
           7162,
           6972,
           6532,
           6355,
           6016,
           5539,
           5242,
           4987,
           4246,
           3969,
           3935,
           3822,
           3754,
           3343,
           3191,
           3143,
           2771,
           2741,
           2692,
           2623,
           2474,
           2208,
           2056,
           2017,
           1804,
           1557,
           1515,
           1478,
           1085,
           1031,
           936,
           877,
           860,
           748,
           744,
           641,
           617,
           590,
           473,
           473,
           466,
           447,
           437,
           425,
           395,
           354,
           342,
           309,
           204,
           184,
           174,
           171,
           168,
           147,
           144,
           143,
           121,
           29516,
           110,
           100,
           97,
           89,
           79,
           71,
           71,
           57,
           55,
           50,
           50,
           46,
           39,
           37,
           37,
           34,
           28,
           26,
           26,
           21,
           19,
           18,
           18,
           18,
           18,
           18,
           17,
           16,
           15,
           14,
           14,
           13,
           13,
           12,
           12,
           12,
           11,
           11,
           11,
           9,
           9,
           8,
           8,
           7,
           6,
           6,
           6,
           6,
           6,
           5,
           5,
           5,
           4,
           4,
           4,
           4,
           4,
           4,
           4,
           4,
           3,
           3,
           3,
           3,
           3,
           3,
           3,
           2,
           2,
           2,
           2,
           2,
           2,
           2,
           1,
           1,
           1,
           1,
           1,
           1,
           1,
           1,
           1,
           1,
           1,
           1,
           1,
           1,
           1,
           1
          ],
          "sizemin": 1,
          "sizemode": "area",
          "sizeref": 132.7538
         },
         "mode": "markers",
         "text": [
          "Canada",
          "Denmark",
          "United States, California",
          "United States, Pennsylvania",
          "England",
          "United States, Illinois",
          "United States, New York",
          "Sweden",
          "United States, Ohio",
          "United States, Texas",
          "Netherlands",
          "United States, Washington",
          "Germany",
          "United States, Florida",
          "Norway",
          "United States, New Jersey",
          "United States, Minnesota",
          "United States, Massachusetts",
          "United States, Virginia",
          "Finland",
          "United States, Colorado",
          "United States, Michigan",
          "United States, North Carolina",
          "Poland",
          "United States, Wisconsin",
          "United States, Georgia",
          "United States, Maryland",
          "Belgium",
          "Australia",
          "United States, Indiana",
          "United States, Oregon",
          "Scotland",
          "United States, Missouri",
          "United States, Arizona",
          "United States, Connecticut",
          "United States, Tennessee",
          "United States, New Hampshire",
          "United States, Kentucky",
          "United States, Iowa",
          "Spain",
          "Italy",
          "Estonia",
          "United States, Idaho",
          "United States, South Carolina",
          "France",
          "United States, Alabama",
          "Japan",
          "United States, Nevada",
          "United States, Maine",
          "United States, Vermont",
          "United States, Kansas",
          "Switzerland",
          "Croatia",
          "Israel",
          "United States, Louisiana",
          "United States, Nebraska",
          "Czech Republic",
          "New Zealand",
          "United States, Rhode Island",
          "Hungary",
          "United States, Oklahoma",
          "United States, Delaware",
          "United States, West Virginia",
          "United States, Arkansas",
          "United States, Alaska",
          "Brazil",
          "Ireland",
          "Austria",
          "United States, Utah",
          "United States, New Mexico",
          "Mexico",
          "Thailand",
          "United States, Mississippi",
          "Slovenia",
          "Greece",
          "Faroe Islands",
          "Russia",
          "Portugal",
          "Malaysia",
          "United States, Montana",
          "Romania",
          "Belarus",
          "Northern Ireland",
          "United States, Wyoming",
          "Latvia",
          "United States, Hawaii",
          "South Africa",
          "Moldova",
          "Hong Kong",
          "Serbia",
          "Turkey",
          "United States, North Dakota",
          "Ukraine",
          "Chile",
          "Luxembourg",
          "Iceland",
          "El Salvador",
          "Cyprus",
          "China",
          "United States, South Dakota",
          "Venezuela",
          "Lithuania",
          "Taiwan",
          "Cambodia",
          "Mozambique",
          "Dominican Republic",
          "Wales",
          "Singapore",
          "Bermuda",
          "India",
          "Marshall Islands",
          "Bolivia",
          "Lesotho",
          "Indonesia",
          "South Korea",
          "Argentina",
          "Philippines",
          "Panama",
          "North Korea",
          "Jersey",
          "Guam",
          "Puerto Rico",
          "Saint Helena",
          "Ecuador",
          "Bulgaria",
          "Ascension Island",
          "Colombia",
          "Peru",
          "Greenland",
          "United Arab Emirates",
          "Jordan",
          "Bosnia and Herzegovina",
          "Andorra",
          "Uruguay",
          "Costa Rica",
          "Antarctica",
          "Bahamas",
          "Svalbard and Jan Mayen Islands",
          "Slovakia",
          "Fiji Islands",
          "Isle of Man",
          "Tajikistan",
          "Guatemala",
          "Lebanon",
          "Paraguay",
          "Vietnam",
          "Saudi Arabia",
          "Macedonia",
          "Burkina Faso",
          "Norfolk Island",
          "Tanzania",
          "U.S. Virgin Islands",
          "Kazakhstan",
          "Algeria",
          "Cayman Islands",
          "Pakistan",
          "Trinidad and Tobago",
          "Afghanistan",
          "American Samoa",
          "Montenegro",
          "Honduras",
          "Laos",
          "Bouvet Island",
          "Mauritius",
          "Malta",
          "Namibia",
          "South Georgia and South Sandwich Islands",
          "Bangladesh",
          "Barbados",
          "Montserrat",
          "Kenya",
          "Nepal",
          "Azerbaijan",
          "Uganda",
          "Morocco",
          "Oman",
          "Bhutan",
          "French Guiana",
          "Botswana",
          "San Marino",
          "Nicaragua",
          "Palestine",
          "Belize",
          "Monaco",
          "Zimbabwe",
          "Albania",
          "Tunisia",
          "Nigeria",
          "Egypt",
          "Armenia",
          "Liechtenstein",
          "Guernsey",
          "Tokelau",
          "Uzbekistan",
          "Vanuatu",
          "Angola",
          "Antigua and Barbuda",
          "Ghana",
          "Iraq",
          "Northern Mariana Islands",
          "Syria",
          "Aruba",
          "Papua New Guinea",
          "Vatican City",
          "Solomon Islands",
          "Sudan",
          "Dem Rep of Congo",
          "Togo",
          "Yemen",
          "Mongolia",
          "Macau",
          "Kosovo",
          "Zambia",
          "Burundi",
          "Saint Lucia",
          "Tuvalu",
          "Kyrgyzstan",
          "Iran",
          "Ivory Coast",
          "Gibraltar",
          "Cuba",
          "Anguilla",
          "Haiti",
          "Micronesia",
          "British Indian Ocean Territory",
          "New Caledonia",
          "British Virgin Islands",
          "Jamaica",
          "Mauritania"
         ],
         "type": "scattergeo"
        }
       ],
       "layout": {
        "geo": {
         "projection": {
          "type": "natural earth2"
         },
         "showcoastlines": true,
         "showcountries": true,
         "showframe": true
        },
        "height": 900,
        "hovermode": "closest",
        "paper_bgcolor": "rgba(0,0,0,0)",
        "template": {
         "data": {
          "bar": [
           {
            "error_x": {
             "color": "#2a3f5f"
            },
            "error_y": {
             "color": "#2a3f5f"
            },
            "marker": {
             "line": {
              "color": "#E5ECF6",
              "width": 0.5
             },
             "pattern": {
              "fillmode": "overlay",
              "size": 10,
              "solidity": 0.2
             }
            },
            "type": "bar"
           }
          ],
          "barpolar": [
           {
            "marker": {
             "line": {
              "color": "#E5ECF6",
              "width": 0.5
             },
             "pattern": {
              "fillmode": "overlay",
              "size": 10,
              "solidity": 0.2
             }
            },
            "type": "barpolar"
           }
          ],
          "carpet": [
           {
            "aaxis": {
             "endlinecolor": "#2a3f5f",
             "gridcolor": "white",
             "linecolor": "white",
             "minorgridcolor": "white",
             "startlinecolor": "#2a3f5f"
            },
            "baxis": {
             "endlinecolor": "#2a3f5f",
             "gridcolor": "white",
             "linecolor": "white",
             "minorgridcolor": "white",
             "startlinecolor": "#2a3f5f"
            },
            "type": "carpet"
           }
          ],
          "choropleth": [
           {
            "colorbar": {
             "outlinewidth": 0,
             "ticks": ""
            },
            "type": "choropleth"
           }
          ],
          "contour": [
           {
            "colorbar": {
             "outlinewidth": 0,
             "ticks": ""
            },
            "colorscale": [
             [
              0,
              "#0d0887"
             ],
             [
              0.1111111111111111,
              "#46039f"
             ],
             [
              0.2222222222222222,
              "#7201a8"
             ],
             [
              0.3333333333333333,
              "#9c179e"
             ],
             [
              0.4444444444444444,
              "#bd3786"
             ],
             [
              0.5555555555555556,
              "#d8576b"
             ],
             [
              0.6666666666666666,
              "#ed7953"
             ],
             [
              0.7777777777777778,
              "#fb9f3a"
             ],
             [
              0.8888888888888888,
              "#fdca26"
             ],
             [
              1,
              "#f0f921"
             ]
            ],
            "type": "contour"
           }
          ],
          "contourcarpet": [
           {
            "colorbar": {
             "outlinewidth": 0,
             "ticks": ""
            },
            "type": "contourcarpet"
           }
          ],
          "heatmap": [
           {
            "colorbar": {
             "outlinewidth": 0,
             "ticks": ""
            },
            "colorscale": [
             [
              0,
              "#0d0887"
             ],
             [
              0.1111111111111111,
              "#46039f"
             ],
             [
              0.2222222222222222,
              "#7201a8"
             ],
             [
              0.3333333333333333,
              "#9c179e"
             ],
             [
              0.4444444444444444,
              "#bd3786"
             ],
             [
              0.5555555555555556,
              "#d8576b"
             ],
             [
              0.6666666666666666,
              "#ed7953"
             ],
             [
              0.7777777777777778,
              "#fb9f3a"
             ],
             [
              0.8888888888888888,
              "#fdca26"
             ],
             [
              1,
              "#f0f921"
             ]
            ],
            "type": "heatmap"
           }
          ],
          "heatmapgl": [
           {
            "colorbar": {
             "outlinewidth": 0,
             "ticks": ""
            },
            "colorscale": [
             [
              0,
              "#0d0887"
             ],
             [
              0.1111111111111111,
              "#46039f"
             ],
             [
              0.2222222222222222,
              "#7201a8"
             ],
             [
              0.3333333333333333,
              "#9c179e"
             ],
             [
              0.4444444444444444,
              "#bd3786"
             ],
             [
              0.5555555555555556,
              "#d8576b"
             ],
             [
              0.6666666666666666,
              "#ed7953"
             ],
             [
              0.7777777777777778,
              "#fb9f3a"
             ],
             [
              0.8888888888888888,
              "#fdca26"
             ],
             [
              1,
              "#f0f921"
             ]
            ],
            "type": "heatmapgl"
           }
          ],
          "histogram": [
           {
            "marker": {
             "pattern": {
              "fillmode": "overlay",
              "size": 10,
              "solidity": 0.2
             }
            },
            "type": "histogram"
           }
          ],
          "histogram2d": [
           {
            "colorbar": {
             "outlinewidth": 0,
             "ticks": ""
            },
            "colorscale": [
             [
              0,
              "#0d0887"
             ],
             [
              0.1111111111111111,
              "#46039f"
             ],
             [
              0.2222222222222222,
              "#7201a8"
             ],
             [
              0.3333333333333333,
              "#9c179e"
             ],
             [
              0.4444444444444444,
              "#bd3786"
             ],
             [
              0.5555555555555556,
              "#d8576b"
             ],
             [
              0.6666666666666666,
              "#ed7953"
             ],
             [
              0.7777777777777778,
              "#fb9f3a"
             ],
             [
              0.8888888888888888,
              "#fdca26"
             ],
             [
              1,
              "#f0f921"
             ]
            ],
            "type": "histogram2d"
           }
          ],
          "histogram2dcontour": [
           {
            "colorbar": {
             "outlinewidth": 0,
             "ticks": ""
            },
            "colorscale": [
             [
              0,
              "#0d0887"
             ],
             [
              0.1111111111111111,
              "#46039f"
             ],
             [
              0.2222222222222222,
              "#7201a8"
             ],
             [
              0.3333333333333333,
              "#9c179e"
             ],
             [
              0.4444444444444444,
              "#bd3786"
             ],
             [
              0.5555555555555556,
              "#d8576b"
             ],
             [
              0.6666666666666666,
              "#ed7953"
             ],
             [
              0.7777777777777778,
              "#fb9f3a"
             ],
             [
              0.8888888888888888,
              "#fdca26"
             ],
             [
              1,
              "#f0f921"
             ]
            ],
            "type": "histogram2dcontour"
           }
          ],
          "mesh3d": [
           {
            "colorbar": {
             "outlinewidth": 0,
             "ticks": ""
            },
            "type": "mesh3d"
           }
          ],
          "parcoords": [
           {
            "line": {
             "colorbar": {
              "outlinewidth": 0,
              "ticks": ""
             }
            },
            "type": "parcoords"
           }
          ],
          "pie": [
           {
            "automargin": true,
            "type": "pie"
           }
          ],
          "scatter": [
           {
            "fillpattern": {
             "fillmode": "overlay",
             "size": 10,
             "solidity": 0.2
            },
            "type": "scatter"
           }
          ],
          "scatter3d": [
           {
            "line": {
             "colorbar": {
              "outlinewidth": 0,
              "ticks": ""
             }
            },
            "marker": {
             "colorbar": {
              "outlinewidth": 0,
              "ticks": ""
             }
            },
            "type": "scatter3d"
           }
          ],
          "scattercarpet": [
           {
            "marker": {
             "colorbar": {
              "outlinewidth": 0,
              "ticks": ""
             }
            },
            "type": "scattercarpet"
           }
          ],
          "scattergeo": [
           {
            "marker": {
             "colorbar": {
              "outlinewidth": 0,
              "ticks": ""
             }
            },
            "type": "scattergeo"
           }
          ],
          "scattergl": [
           {
            "marker": {
             "colorbar": {
              "outlinewidth": 0,
              "ticks": ""
             }
            },
            "type": "scattergl"
           }
          ],
          "scattermapbox": [
           {
            "marker": {
             "colorbar": {
              "outlinewidth": 0,
              "ticks": ""
             }
            },
            "type": "scattermapbox"
           }
          ],
          "scatterpolar": [
           {
            "marker": {
             "colorbar": {
              "outlinewidth": 0,
              "ticks": ""
             }
            },
            "type": "scatterpolar"
           }
          ],
          "scatterpolargl": [
           {
            "marker": {
             "colorbar": {
              "outlinewidth": 0,
              "ticks": ""
             }
            },
            "type": "scatterpolargl"
           }
          ],
          "scatterternary": [
           {
            "marker": {
             "colorbar": {
              "outlinewidth": 0,
              "ticks": ""
             }
            },
            "type": "scatterternary"
           }
          ],
          "surface": [
           {
            "colorbar": {
             "outlinewidth": 0,
             "ticks": ""
            },
            "colorscale": [
             [
              0,
              "#0d0887"
             ],
             [
              0.1111111111111111,
              "#46039f"
             ],
             [
              0.2222222222222222,
              "#7201a8"
             ],
             [
              0.3333333333333333,
              "#9c179e"
             ],
             [
              0.4444444444444444,
              "#bd3786"
             ],
             [
              0.5555555555555556,
              "#d8576b"
             ],
             [
              0.6666666666666666,
              "#ed7953"
             ],
             [
              0.7777777777777778,
              "#fb9f3a"
             ],
             [
              0.8888888888888888,
              "#fdca26"
             ],
             [
              1,
              "#f0f921"
             ]
            ],
            "type": "surface"
           }
          ],
          "table": [
           {
            "cells": {
             "fill": {
              "color": "#EBF0F8"
             },
             "line": {
              "color": "white"
             }
            },
            "header": {
             "fill": {
              "color": "#C8D4E3"
             },
             "line": {
              "color": "white"
             }
            },
            "type": "table"
           }
          ]
         },
         "layout": {
          "annotationdefaults": {
           "arrowcolor": "#2a3f5f",
           "arrowhead": 0,
           "arrowwidth": 1
          },
          "autotypenumbers": "strict",
          "coloraxis": {
           "colorbar": {
            "outlinewidth": 0,
            "ticks": ""
           }
          },
          "colorscale": {
           "diverging": [
            [
             0,
             "#8e0152"
            ],
            [
             0.1,
             "#c51b7d"
            ],
            [
             0.2,
             "#de77ae"
            ],
            [
             0.3,
             "#f1b6da"
            ],
            [
             0.4,
             "#fde0ef"
            ],
            [
             0.5,
             "#f7f7f7"
            ],
            [
             0.6,
             "#e6f5d0"
            ],
            [
             0.7,
             "#b8e186"
            ],
            [
             0.8,
             "#7fbc41"
            ],
            [
             0.9,
             "#4d9221"
            ],
            [
             1,
             "#276419"
            ]
           ],
           "sequential": [
            [
             0,
             "#0d0887"
            ],
            [
             0.1111111111111111,
             "#46039f"
            ],
            [
             0.2222222222222222,
             "#7201a8"
            ],
            [
             0.3333333333333333,
             "#9c179e"
            ],
            [
             0.4444444444444444,
             "#bd3786"
            ],
            [
             0.5555555555555556,
             "#d8576b"
            ],
            [
             0.6666666666666666,
             "#ed7953"
            ],
            [
             0.7777777777777778,
             "#fb9f3a"
            ],
            [
             0.8888888888888888,
             "#fdca26"
            ],
            [
             1,
             "#f0f921"
            ]
           ],
           "sequentialminus": [
            [
             0,
             "#0d0887"
            ],
            [
             0.1111111111111111,
             "#46039f"
            ],
            [
             0.2222222222222222,
             "#7201a8"
            ],
            [
             0.3333333333333333,
             "#9c179e"
            ],
            [
             0.4444444444444444,
             "#bd3786"
            ],
            [
             0.5555555555555556,
             "#d8576b"
            ],
            [
             0.6666666666666666,
             "#ed7953"
            ],
            [
             0.7777777777777778,
             "#fb9f3a"
            ],
            [
             0.8888888888888888,
             "#fdca26"
            ],
            [
             1,
             "#f0f921"
            ]
           ]
          },
          "colorway": [
           "#636efa",
           "#EF553B",
           "#00cc96",
           "#ab63fa",
           "#FFA15A",
           "#19d3f3",
           "#FF6692",
           "#B6E880",
           "#FF97FF",
           "#FECB52"
          ],
          "font": {
           "color": "#2a3f5f"
          },
          "geo": {
           "bgcolor": "white",
           "lakecolor": "white",
           "landcolor": "#E5ECF6",
           "showlakes": true,
           "showland": true,
           "subunitcolor": "white"
          },
          "hoverlabel": {
           "align": "left"
          },
          "hovermode": "closest",
          "mapbox": {
           "style": "light"
          },
          "paper_bgcolor": "white",
          "plot_bgcolor": "#E5ECF6",
          "polar": {
           "angularaxis": {
            "gridcolor": "white",
            "linecolor": "white",
            "ticks": ""
           },
           "bgcolor": "#E5ECF6",
           "radialaxis": {
            "gridcolor": "white",
            "linecolor": "white",
            "ticks": ""
           }
          },
          "scene": {
           "xaxis": {
            "backgroundcolor": "#E5ECF6",
            "gridcolor": "white",
            "gridwidth": 2,
            "linecolor": "white",
            "showbackground": true,
            "ticks": "",
            "zerolinecolor": "white"
           },
           "yaxis": {
            "backgroundcolor": "#E5ECF6",
            "gridcolor": "white",
            "gridwidth": 2,
            "linecolor": "white",
            "showbackground": true,
            "ticks": "",
            "zerolinecolor": "white"
           },
           "zaxis": {
            "backgroundcolor": "#E5ECF6",
            "gridcolor": "white",
            "gridwidth": 2,
            "linecolor": "white",
            "showbackground": true,
            "ticks": "",
            "zerolinecolor": "white"
           }
          },
          "shapedefaults": {
           "line": {
            "color": "#2a3f5f"
           }
          },
          "ternary": {
           "aaxis": {
            "gridcolor": "white",
            "linecolor": "white",
            "ticks": ""
           },
           "baxis": {
            "gridcolor": "white",
            "linecolor": "white",
            "ticks": ""
           },
           "bgcolor": "#E5ECF6",
           "caxis": {
            "gridcolor": "white",
            "linecolor": "white",
            "ticks": ""
           }
          },
          "title": {
           "x": 0.05
          },
          "xaxis": {
           "automargin": true,
           "gridcolor": "white",
           "linecolor": "white",
           "ticks": "",
           "title": {
            "standoff": 15
           },
           "zerolinecolor": "white",
           "zerolinewidth": 2
          },
          "yaxis": {
           "automargin": true,
           "gridcolor": "white",
           "linecolor": "white",
           "ticks": "",
           "title": {
            "standoff": 15
           },
           "zerolinecolor": "white",
           "zerolinewidth": 2
          }
         }
        },
        "title": {
         "text": "World Map with number of users per country"
        },
        "width": 1200
       }
      }
     },
     "metadata": {},
     "output_type": "display_data"
    }
   ],
   "source": [
    "# Create the figure and plot\n",
    "fig = go.Figure()\n",
    "\n",
    "fig.add_trace(go.Scattergeo(\n",
    "    lon=df_map['Longitude'],\n",
    "    lat=df_map['Latitude'],\n",
    "    text=df_map.index,\n",
    "    marker=go.scattergeo.Marker(\n",
    "        size=df_map['user_location'],\n",
    "        sizemode='area',\n",
    "        sizeref=2*max(df_map['user_location'])/(100**2),\n",
    "        sizemin=1,\n",
    "    ),\n",
    "\n",
    "    hovertext=df_map.index,\n",
    "    hoverinfo='text',\n",
    "    hovertemplate='Country: %{text}<br>Number of reviewers: %{marker.size:.0f}<extra></extra>',\n",
    "    mode='markers'\n",
    "))\n",
    "\n",
    "\n",
    "# Customize the layout and show the plot\n",
    "fig.update_layout(\n",
    "    geo=go.layout.Geo(\n",
    "        showframe=True,\n",
    "        showcoastlines=True,\n",
    "        projection_type='natural earth2',\n",
    "        showcountries= True\n",
    "    ),\n",
    "    hovermode='closest',\n",
    "    width=1200,\n",
    "    height=900,\n",
    "    title='World Map with number of users per country',\n",
    "    paper_bgcolor= 'rgba(0,0,0,0)',\n",
    ")\n",
    "\n",
    "fig.show()\n",
    "fig.write_html('../plots_html/map.html')"
   ]
  },
  {
   "attachments": {},
   "cell_type": "markdown",
   "metadata": {},
   "source": [
    "## Barplots :"
   ]
  },
  {
   "cell_type": "code",
   "execution_count": 3,
   "metadata": {},
   "outputs": [],
   "source": [
    "good_beers_user_location_counts = pd.DataFrame(df_reviews_locations.loc[df_reviews_locations['rating']>4]['user_merged_location'].value_counts())\n",
    "good_beers_user_location_counts = good_beers_user_location_counts.rename(columns={\"user_merged_location\": \"Number of users\"})"
   ]
  },
  {
   "cell_type": "code",
   "execution_count": 5,
   "metadata": {},
   "outputs": [],
   "source": [
    "good_beers_user_location_counts_1000 = good_beers_user_location_counts.loc[good_beers_user_location_counts['Number of users']>1000]"
   ]
  },
  {
   "cell_type": "code",
   "execution_count": 6,
   "metadata": {},
   "outputs": [],
   "source": [
    "df_country_barplot = pd.DataFrame (columns = ['Local brewery','Out of country/state brewery'],\n",
    "                                  index = good_beers_user_location_counts_1000.index)"
   ]
  },
  {
   "cell_type": "code",
   "execution_count": 7,
   "metadata": {},
   "outputs": [],
   "source": [
    "for country in good_beers_user_location_counts_1000.index:\n",
    "    location_users_data = df_reviews_locations[df_reviews_locations['user_merged_location'] == country]\n",
    "    dummy_location = (location_users_data['brewery_merged_location']== country).astype(int)\n",
    "    proportions = dummy_location.value_counts(normalize= True)\n",
    "    df_country_barplot.loc[country]['Local brewery']=proportions[1]\n",
    "    df_country_barplot.loc[country]['Out of country/state brewery']=proportions[0]"
   ]
  },
  {
   "cell_type": "code",
   "execution_count": null,
   "metadata": {},
   "outputs": [],
   "source": [
    "df_country_barplot.reset_index(inplace=True)\n",
    "df_country_barplot = df_country_barplot.rename(columns = {'index':'Countries'})"
   ]
  },
  {
   "cell_type": "code",
   "execution_count": null,
   "metadata": {},
   "outputs": [],
   "source": [
    "# Set the data for the plot\n",
    "x = df_country_barplot['Countries']\n",
    "y1 = df_country_barplot['Out of country/state brewery']\n",
    "y2 = df_country_barplot['Local brewery']\n",
    "\n",
    "# Create the figure and plot\n",
    "fig = go.Figure()\n",
    "fig.add_trace(go.Bar(x=x, y=y2, name='Local brewery', base=0))\n",
    "fig.add_trace(go.Bar(x=x, y=y1, name='Out of country brewery', base=y2))\n",
    "\n",
    "\n",
    "# Customize the layout and show the plot\n",
    "fig.update_layout(barmode='stack', yaxis=dict(title='Frequency'), title='Proportions of users for very well rated beers (rating>4)', title_x= 0.5, paper_bgcolor= 'rgba(0,0,0,0)')\n",
    "fig.show()\n",
    "\n",
    "fig.write_html('../plots_html/barplot_countries_final.html')"
   ]
  },
  {
   "attachments": {},
   "cell_type": "markdown",
   "metadata": {},
   "source": [
    "### By state"
   ]
  },
  {
   "cell_type": "code",
   "execution_count": null,
   "metadata": {},
   "outputs": [],
   "source": [
    "#We start by observing where the users who rate beers more than 4 out of 5 come from:\n",
    "good_beers_user_location_US = df_reviews_locations.loc[df_reviews_locations['user_location'].str.startswith('United States')]\n",
    "good_beers_user_location_US_counts = pd.DataFrame(good_beers_user_location_US.loc[good_beers_user_location_US['rating']>4]['user_location'].value_counts())\n",
    "good_beers_user_location_US_counts = good_beers_user_location_US_counts.rename(columns={\"user_merged_location\": \"Number of users\"})"
   ]
  },
  {
   "cell_type": "code",
   "execution_count": null,
   "metadata": {},
   "outputs": [],
   "source": [
    "df_states_barplot = pd.DataFrame (columns = ['Local brewery','Out of country/state brewery'],\n",
    "                                  index = good_beers_user_location_US_counts.index)"
   ]
  },
  {
   "cell_type": "code",
   "execution_count": null,
   "metadata": {},
   "outputs": [],
   "source": [
    "for state in good_beers_user_location_US_counts.index:\n",
    "    location_users_data = df_reviews_locations[df_reviews_locations['user_location'] == state]\n",
    "    dummy_location = (location_users_data['brewery_location']== state).astype(int)\n",
    "    proportions = dummy_location.value_counts(normalize= True)\n",
    "    df_states_barplot.loc[state]['Local brewery']=proportions[1]\n",
    "    df_states_barplot.loc[state]['Out of country/state brewery']=proportions[0]\n",
    "\n",
    "df_states_barplot.reset_index(inplace=True)"
   ]
  },
  {
   "cell_type": "code",
   "execution_count": null,
   "metadata": {},
   "outputs": [],
   "source": [
    "df_states_barplot = df_states_barplot.rename(columns = {'index':'States'})"
   ]
  },
  {
   "cell_type": "code",
   "execution_count": null,
   "metadata": {},
   "outputs": [
    {
     "data": {
      "application/vnd.plotly.v1+json": {
       "config": {
        "plotlyServerURL": "https://plot.ly"
       },
       "data": [
        {
         "base": 0,
         "name": "Local brewery",
         "type": "bar",
         "x": [
          "United States, California",
          "United States, Pennsylvania",
          "United States, New York",
          "United States, Illinois",
          "United States, Massachusetts",
          "United States, Ohio",
          "United States, Texas",
          "United States, Minnesota",
          "United States, New Jersey",
          "United States, Washington",
          "United States, Florida",
          "United States, Virginia",
          "United States, Michigan",
          "United States, Colorado",
          "United States, North Carolina",
          "United States, Georgia",
          "United States, Wisconsin",
          "United States, Maryland",
          "United States, Oregon",
          "United States, Indiana",
          "United States, Connecticut",
          "United States, Arizona",
          "United States, Missouri",
          "United States, New Hampshire",
          "United States, Kentucky",
          "United States, Iowa",
          "United States, South Carolina",
          "United States, Tennessee",
          "United States, Maine",
          "United States, Vermont",
          "United States, Rhode Island",
          "United States, Alabama",
          "United States, Louisiana",
          "United States, Nevada",
          "United States, Nebraska",
          "United States, Idaho",
          "United States, Oklahoma",
          "United States, Kansas",
          "United States, Delaware",
          "United States, West Virginia",
          "United States, Arkansas",
          "United States, New Mexico",
          "United States, Alaska",
          "United States, Mississippi",
          "United States, Utah",
          "United States, Wyoming",
          "United States, Montana",
          "United States, Hawaii",
          "United States, South Dakota",
          "United States, North Dakota"
         ],
         "y": [
          0.3845703372697636,
          0.20630982746003748,
          0.19092501963627576,
          0.16352720764723136,
          0.18790216873212584,
          0.17555850063708686,
          0.17755964071442024,
          0.18372455899008852,
          0.07394280408030046,
          0.1525084209451873,
          0.10707422314079554,
          0.12701507466248294,
          0.28136300589488283,
          0.2972931833570405,
          0.14234041627564434,
          0.12281811646297627,
          0.26325993817452137,
          0.10090752257933575,
          0.2648648648648649,
          0.16083711278094823,
          0.08518346142718776,
          0.1010715440877268,
          0.18389045261233128,
          0.12957352262234534,
          0.07210872054480805,
          0.07265877287405813,
          0.06183112741886166,
          0.07996588555415668,
          0.20722876965492168,
          0.20345659409447617,
          0.05170727732051177,
          0.05126278214659545,
          0.07818611042598922,
          0.06346869618354536,
          0.09245431691118532,
          0.1385551948051948,
          0.09876058304966397,
          0.06628735737664801,
          0.0689477142588942,
          0.038938876822835866,
          0.03799003958625974,
          0.10344304565448202,
          0.1759396557281929,
          0.048027444253859346,
          0.17813654398686551,
          0.07639314145744029,
          0.13184534699353578,
          0.051695478723404256,
          0.03231797919762259,
          0.014485387547649302
         ]
        },
        {
         "base": [
          0.3845703372697636,
          0.20630982746003748,
          0.19092501963627576,
          0.16352720764723136,
          0.18790216873212584,
          0.17555850063708686,
          0.17755964071442024,
          0.18372455899008852,
          0.07394280408030046,
          0.1525084209451873,
          0.10707422314079554,
          0.12701507466248294,
          0.28136300589488283,
          0.2972931833570405,
          0.14234041627564434,
          0.12281811646297627,
          0.26325993817452137,
          0.10090752257933575,
          0.2648648648648649,
          0.16083711278094823,
          0.08518346142718776,
          0.1010715440877268,
          0.18389045261233128,
          0.12957352262234534,
          0.07210872054480805,
          0.07265877287405813,
          0.06183112741886166,
          0.07996588555415668,
          0.20722876965492168,
          0.20345659409447617,
          0.05170727732051177,
          0.05126278214659545,
          0.07818611042598922,
          0.06346869618354536,
          0.09245431691118532,
          0.1385551948051948,
          0.09876058304966397,
          0.06628735737664801,
          0.0689477142588942,
          0.038938876822835866,
          0.03799003958625974,
          0.10344304565448202,
          0.1759396557281929,
          0.048027444253859346,
          0.17813654398686551,
          0.07639314145744029,
          0.13184534699353578,
          0.051695478723404256,
          0.03231797919762259,
          0.014485387547649302
         ],
         "name": "Out of country brewery",
         "type": "bar",
         "x": [
          "United States, California",
          "United States, Pennsylvania",
          "United States, New York",
          "United States, Illinois",
          "United States, Massachusetts",
          "United States, Ohio",
          "United States, Texas",
          "United States, Minnesota",
          "United States, New Jersey",
          "United States, Washington",
          "United States, Florida",
          "United States, Virginia",
          "United States, Michigan",
          "United States, Colorado",
          "United States, North Carolina",
          "United States, Georgia",
          "United States, Wisconsin",
          "United States, Maryland",
          "United States, Oregon",
          "United States, Indiana",
          "United States, Connecticut",
          "United States, Arizona",
          "United States, Missouri",
          "United States, New Hampshire",
          "United States, Kentucky",
          "United States, Iowa",
          "United States, South Carolina",
          "United States, Tennessee",
          "United States, Maine",
          "United States, Vermont",
          "United States, Rhode Island",
          "United States, Alabama",
          "United States, Louisiana",
          "United States, Nevada",
          "United States, Nebraska",
          "United States, Idaho",
          "United States, Oklahoma",
          "United States, Kansas",
          "United States, Delaware",
          "United States, West Virginia",
          "United States, Arkansas",
          "United States, New Mexico",
          "United States, Alaska",
          "United States, Mississippi",
          "United States, Utah",
          "United States, Wyoming",
          "United States, Montana",
          "United States, Hawaii",
          "United States, South Dakota",
          "United States, North Dakota"
         ],
         "y": [
          0.6154296627302364,
          0.7936901725399625,
          0.8090749803637243,
          0.8364727923527686,
          0.8120978312678742,
          0.8244414993629131,
          0.8224403592855798,
          0.8162754410099115,
          0.9260571959196996,
          0.8474915790548126,
          0.8929257768592045,
          0.872984925337517,
          0.7186369941051172,
          0.7027068166429595,
          0.8576595837243557,
          0.8771818835370238,
          0.7367400618254786,
          0.8990924774206642,
          0.7351351351351352,
          0.8391628872190517,
          0.9148165385728122,
          0.8989284559122732,
          0.8161095473876687,
          0.8704264773776547,
          0.9278912794551919,
          0.9273412271259419,
          0.9381688725811383,
          0.9200341144458433,
          0.7927712303450783,
          0.7965434059055239,
          0.9482927226794883,
          0.9487372178534046,
          0.9218138895740108,
          0.9365313038164547,
          0.9075456830888147,
          0.8614448051948052,
          0.901239416950336,
          0.933712642623352,
          0.9310522857411058,
          0.9610611231771641,
          0.9620099604137403,
          0.896556954345518,
          0.8240603442718071,
          0.9519725557461407,
          0.8218634560131345,
          0.9236068585425597,
          0.8681546530064642,
          0.9483045212765957,
          0.9676820208023774,
          0.9855146124523507
         ]
        }
       ],
       "layout": {
        "barmode": "stack",
        "paper_bgcolor": "rgba(0,0,0,0)",
        "template": {
         "data": {
          "bar": [
           {
            "error_x": {
             "color": "#2a3f5f"
            },
            "error_y": {
             "color": "#2a3f5f"
            },
            "marker": {
             "line": {
              "color": "#E5ECF6",
              "width": 0.5
             },
             "pattern": {
              "fillmode": "overlay",
              "size": 10,
              "solidity": 0.2
             }
            },
            "type": "bar"
           }
          ],
          "barpolar": [
           {
            "marker": {
             "line": {
              "color": "#E5ECF6",
              "width": 0.5
             },
             "pattern": {
              "fillmode": "overlay",
              "size": 10,
              "solidity": 0.2
             }
            },
            "type": "barpolar"
           }
          ],
          "carpet": [
           {
            "aaxis": {
             "endlinecolor": "#2a3f5f",
             "gridcolor": "white",
             "linecolor": "white",
             "minorgridcolor": "white",
             "startlinecolor": "#2a3f5f"
            },
            "baxis": {
             "endlinecolor": "#2a3f5f",
             "gridcolor": "white",
             "linecolor": "white",
             "minorgridcolor": "white",
             "startlinecolor": "#2a3f5f"
            },
            "type": "carpet"
           }
          ],
          "choropleth": [
           {
            "colorbar": {
             "outlinewidth": 0,
             "ticks": ""
            },
            "type": "choropleth"
           }
          ],
          "contour": [
           {
            "colorbar": {
             "outlinewidth": 0,
             "ticks": ""
            },
            "colorscale": [
             [
              0,
              "#0d0887"
             ],
             [
              0.1111111111111111,
              "#46039f"
             ],
             [
              0.2222222222222222,
              "#7201a8"
             ],
             [
              0.3333333333333333,
              "#9c179e"
             ],
             [
              0.4444444444444444,
              "#bd3786"
             ],
             [
              0.5555555555555556,
              "#d8576b"
             ],
             [
              0.6666666666666666,
              "#ed7953"
             ],
             [
              0.7777777777777778,
              "#fb9f3a"
             ],
             [
              0.8888888888888888,
              "#fdca26"
             ],
             [
              1,
              "#f0f921"
             ]
            ],
            "type": "contour"
           }
          ],
          "contourcarpet": [
           {
            "colorbar": {
             "outlinewidth": 0,
             "ticks": ""
            },
            "type": "contourcarpet"
           }
          ],
          "heatmap": [
           {
            "colorbar": {
             "outlinewidth": 0,
             "ticks": ""
            },
            "colorscale": [
             [
              0,
              "#0d0887"
             ],
             [
              0.1111111111111111,
              "#46039f"
             ],
             [
              0.2222222222222222,
              "#7201a8"
             ],
             [
              0.3333333333333333,
              "#9c179e"
             ],
             [
              0.4444444444444444,
              "#bd3786"
             ],
             [
              0.5555555555555556,
              "#d8576b"
             ],
             [
              0.6666666666666666,
              "#ed7953"
             ],
             [
              0.7777777777777778,
              "#fb9f3a"
             ],
             [
              0.8888888888888888,
              "#fdca26"
             ],
             [
              1,
              "#f0f921"
             ]
            ],
            "type": "heatmap"
           }
          ],
          "heatmapgl": [
           {
            "colorbar": {
             "outlinewidth": 0,
             "ticks": ""
            },
            "colorscale": [
             [
              0,
              "#0d0887"
             ],
             [
              0.1111111111111111,
              "#46039f"
             ],
             [
              0.2222222222222222,
              "#7201a8"
             ],
             [
              0.3333333333333333,
              "#9c179e"
             ],
             [
              0.4444444444444444,
              "#bd3786"
             ],
             [
              0.5555555555555556,
              "#d8576b"
             ],
             [
              0.6666666666666666,
              "#ed7953"
             ],
             [
              0.7777777777777778,
              "#fb9f3a"
             ],
             [
              0.8888888888888888,
              "#fdca26"
             ],
             [
              1,
              "#f0f921"
             ]
            ],
            "type": "heatmapgl"
           }
          ],
          "histogram": [
           {
            "marker": {
             "pattern": {
              "fillmode": "overlay",
              "size": 10,
              "solidity": 0.2
             }
            },
            "type": "histogram"
           }
          ],
          "histogram2d": [
           {
            "colorbar": {
             "outlinewidth": 0,
             "ticks": ""
            },
            "colorscale": [
             [
              0,
              "#0d0887"
             ],
             [
              0.1111111111111111,
              "#46039f"
             ],
             [
              0.2222222222222222,
              "#7201a8"
             ],
             [
              0.3333333333333333,
              "#9c179e"
             ],
             [
              0.4444444444444444,
              "#bd3786"
             ],
             [
              0.5555555555555556,
              "#d8576b"
             ],
             [
              0.6666666666666666,
              "#ed7953"
             ],
             [
              0.7777777777777778,
              "#fb9f3a"
             ],
             [
              0.8888888888888888,
              "#fdca26"
             ],
             [
              1,
              "#f0f921"
             ]
            ],
            "type": "histogram2d"
           }
          ],
          "histogram2dcontour": [
           {
            "colorbar": {
             "outlinewidth": 0,
             "ticks": ""
            },
            "colorscale": [
             [
              0,
              "#0d0887"
             ],
             [
              0.1111111111111111,
              "#46039f"
             ],
             [
              0.2222222222222222,
              "#7201a8"
             ],
             [
              0.3333333333333333,
              "#9c179e"
             ],
             [
              0.4444444444444444,
              "#bd3786"
             ],
             [
              0.5555555555555556,
              "#d8576b"
             ],
             [
              0.6666666666666666,
              "#ed7953"
             ],
             [
              0.7777777777777778,
              "#fb9f3a"
             ],
             [
              0.8888888888888888,
              "#fdca26"
             ],
             [
              1,
              "#f0f921"
             ]
            ],
            "type": "histogram2dcontour"
           }
          ],
          "mesh3d": [
           {
            "colorbar": {
             "outlinewidth": 0,
             "ticks": ""
            },
            "type": "mesh3d"
           }
          ],
          "parcoords": [
           {
            "line": {
             "colorbar": {
              "outlinewidth": 0,
              "ticks": ""
             }
            },
            "type": "parcoords"
           }
          ],
          "pie": [
           {
            "automargin": true,
            "type": "pie"
           }
          ],
          "scatter": [
           {
            "fillpattern": {
             "fillmode": "overlay",
             "size": 10,
             "solidity": 0.2
            },
            "type": "scatter"
           }
          ],
          "scatter3d": [
           {
            "line": {
             "colorbar": {
              "outlinewidth": 0,
              "ticks": ""
             }
            },
            "marker": {
             "colorbar": {
              "outlinewidth": 0,
              "ticks": ""
             }
            },
            "type": "scatter3d"
           }
          ],
          "scattercarpet": [
           {
            "marker": {
             "colorbar": {
              "outlinewidth": 0,
              "ticks": ""
             }
            },
            "type": "scattercarpet"
           }
          ],
          "scattergeo": [
           {
            "marker": {
             "colorbar": {
              "outlinewidth": 0,
              "ticks": ""
             }
            },
            "type": "scattergeo"
           }
          ],
          "scattergl": [
           {
            "marker": {
             "colorbar": {
              "outlinewidth": 0,
              "ticks": ""
             }
            },
            "type": "scattergl"
           }
          ],
          "scattermapbox": [
           {
            "marker": {
             "colorbar": {
              "outlinewidth": 0,
              "ticks": ""
             }
            },
            "type": "scattermapbox"
           }
          ],
          "scatterpolar": [
           {
            "marker": {
             "colorbar": {
              "outlinewidth": 0,
              "ticks": ""
             }
            },
            "type": "scatterpolar"
           }
          ],
          "scatterpolargl": [
           {
            "marker": {
             "colorbar": {
              "outlinewidth": 0,
              "ticks": ""
             }
            },
            "type": "scatterpolargl"
           }
          ],
          "scatterternary": [
           {
            "marker": {
             "colorbar": {
              "outlinewidth": 0,
              "ticks": ""
             }
            },
            "type": "scatterternary"
           }
          ],
          "surface": [
           {
            "colorbar": {
             "outlinewidth": 0,
             "ticks": ""
            },
            "colorscale": [
             [
              0,
              "#0d0887"
             ],
             [
              0.1111111111111111,
              "#46039f"
             ],
             [
              0.2222222222222222,
              "#7201a8"
             ],
             [
              0.3333333333333333,
              "#9c179e"
             ],
             [
              0.4444444444444444,
              "#bd3786"
             ],
             [
              0.5555555555555556,
              "#d8576b"
             ],
             [
              0.6666666666666666,
              "#ed7953"
             ],
             [
              0.7777777777777778,
              "#fb9f3a"
             ],
             [
              0.8888888888888888,
              "#fdca26"
             ],
             [
              1,
              "#f0f921"
             ]
            ],
            "type": "surface"
           }
          ],
          "table": [
           {
            "cells": {
             "fill": {
              "color": "#EBF0F8"
             },
             "line": {
              "color": "white"
             }
            },
            "header": {
             "fill": {
              "color": "#C8D4E3"
             },
             "line": {
              "color": "white"
             }
            },
            "type": "table"
           }
          ]
         },
         "layout": {
          "annotationdefaults": {
           "arrowcolor": "#2a3f5f",
           "arrowhead": 0,
           "arrowwidth": 1
          },
          "autotypenumbers": "strict",
          "coloraxis": {
           "colorbar": {
            "outlinewidth": 0,
            "ticks": ""
           }
          },
          "colorscale": {
           "diverging": [
            [
             0,
             "#8e0152"
            ],
            [
             0.1,
             "#c51b7d"
            ],
            [
             0.2,
             "#de77ae"
            ],
            [
             0.3,
             "#f1b6da"
            ],
            [
             0.4,
             "#fde0ef"
            ],
            [
             0.5,
             "#f7f7f7"
            ],
            [
             0.6,
             "#e6f5d0"
            ],
            [
             0.7,
             "#b8e186"
            ],
            [
             0.8,
             "#7fbc41"
            ],
            [
             0.9,
             "#4d9221"
            ],
            [
             1,
             "#276419"
            ]
           ],
           "sequential": [
            [
             0,
             "#0d0887"
            ],
            [
             0.1111111111111111,
             "#46039f"
            ],
            [
             0.2222222222222222,
             "#7201a8"
            ],
            [
             0.3333333333333333,
             "#9c179e"
            ],
            [
             0.4444444444444444,
             "#bd3786"
            ],
            [
             0.5555555555555556,
             "#d8576b"
            ],
            [
             0.6666666666666666,
             "#ed7953"
            ],
            [
             0.7777777777777778,
             "#fb9f3a"
            ],
            [
             0.8888888888888888,
             "#fdca26"
            ],
            [
             1,
             "#f0f921"
            ]
           ],
           "sequentialminus": [
            [
             0,
             "#0d0887"
            ],
            [
             0.1111111111111111,
             "#46039f"
            ],
            [
             0.2222222222222222,
             "#7201a8"
            ],
            [
             0.3333333333333333,
             "#9c179e"
            ],
            [
             0.4444444444444444,
             "#bd3786"
            ],
            [
             0.5555555555555556,
             "#d8576b"
            ],
            [
             0.6666666666666666,
             "#ed7953"
            ],
            [
             0.7777777777777778,
             "#fb9f3a"
            ],
            [
             0.8888888888888888,
             "#fdca26"
            ],
            [
             1,
             "#f0f921"
            ]
           ]
          },
          "colorway": [
           "#636efa",
           "#EF553B",
           "#00cc96",
           "#ab63fa",
           "#FFA15A",
           "#19d3f3",
           "#FF6692",
           "#B6E880",
           "#FF97FF",
           "#FECB52"
          ],
          "font": {
           "color": "#2a3f5f"
          },
          "geo": {
           "bgcolor": "white",
           "lakecolor": "white",
           "landcolor": "#E5ECF6",
           "showlakes": true,
           "showland": true,
           "subunitcolor": "white"
          },
          "hoverlabel": {
           "align": "left"
          },
          "hovermode": "closest",
          "mapbox": {
           "style": "light"
          },
          "paper_bgcolor": "white",
          "plot_bgcolor": "#E5ECF6",
          "polar": {
           "angularaxis": {
            "gridcolor": "white",
            "linecolor": "white",
            "ticks": ""
           },
           "bgcolor": "#E5ECF6",
           "radialaxis": {
            "gridcolor": "white",
            "linecolor": "white",
            "ticks": ""
           }
          },
          "scene": {
           "xaxis": {
            "backgroundcolor": "#E5ECF6",
            "gridcolor": "white",
            "gridwidth": 2,
            "linecolor": "white",
            "showbackground": true,
            "ticks": "",
            "zerolinecolor": "white"
           },
           "yaxis": {
            "backgroundcolor": "#E5ECF6",
            "gridcolor": "white",
            "gridwidth": 2,
            "linecolor": "white",
            "showbackground": true,
            "ticks": "",
            "zerolinecolor": "white"
           },
           "zaxis": {
            "backgroundcolor": "#E5ECF6",
            "gridcolor": "white",
            "gridwidth": 2,
            "linecolor": "white",
            "showbackground": true,
            "ticks": "",
            "zerolinecolor": "white"
           }
          },
          "shapedefaults": {
           "line": {
            "color": "#2a3f5f"
           }
          },
          "ternary": {
           "aaxis": {
            "gridcolor": "white",
            "linecolor": "white",
            "ticks": ""
           },
           "baxis": {
            "gridcolor": "white",
            "linecolor": "white",
            "ticks": ""
           },
           "bgcolor": "#E5ECF6",
           "caxis": {
            "gridcolor": "white",
            "linecolor": "white",
            "ticks": ""
           }
          },
          "title": {
           "x": 0.05
          },
          "xaxis": {
           "automargin": true,
           "gridcolor": "white",
           "linecolor": "white",
           "ticks": "",
           "title": {
            "standoff": 15
           },
           "zerolinecolor": "white",
           "zerolinewidth": 2
          },
          "yaxis": {
           "automargin": true,
           "gridcolor": "white",
           "linecolor": "white",
           "ticks": "",
           "title": {
            "standoff": 15
           },
           "zerolinecolor": "white",
           "zerolinewidth": 2
          }
         }
        },
        "title": {
         "text": "Proportions of users for very well rated beers (rating>4) in the United States",
         "x": 0.5
        },
        "yaxis": {
         "title": {
          "text": "Frequency"
         }
        }
       }
      }
     },
     "metadata": {},
     "output_type": "display_data"
    }
   ],
   "source": [
    "# Set the data for the plot\n",
    "x = df_states_barplot['States']\n",
    "y1 = df_states_barplot['Out of country/state brewery']\n",
    "y2 = df_states_barplot['Local brewery']\n",
    "\n",
    "# Create the figure and plot\n",
    "fig = go.Figure()\n",
    "fig.add_trace(go.Bar(x=x, y=y2, name='Local brewery', base=0))\n",
    "fig.add_trace(go.Bar(x=x, y=y1, name='Out of country brewery', base=y2))\n",
    "\n",
    "# Customize the layout and show the plot\n",
    "fig.update_layout(barmode='stack', yaxis=dict(title='Frequency'), title='Proportions of users for very well rated beers (rating>4) in the United States', title_x= 0.5, paper_bgcolor= 'rgba(0,0,0,0)')\n",
    "fig.show()\n",
    "\n",
    "fig.write_html('../plots_html/barplot_states.html')"
   ]
  },
  {
   "attachments": {},
   "cell_type": "markdown",
   "metadata": {},
   "source": [
    "## Maps"
   ]
  },
  {
   "attachments": {},
   "cell_type": "markdown",
   "metadata": {},
   "source": [
    "## PLEASE NOTE: the maps and radar plot below are not the exact same as the ones on the website because everytime the k-means clustering is run the cluster names are different but the clusters are similar "
   ]
  },
  {
   "attachments": {},
   "cell_type": "markdown",
   "metadata": {},
   "source": [
    "### Reviews with rating>4"
   ]
  },
  {
   "cell_type": "code",
   "execution_count": null,
   "metadata": {},
   "outputs": [],
   "source": [
    "df_reviews_all_good_beers = df_reviews_locations.loc[df_reviews_locations['rating']>4]"
   ]
  },
  {
   "attachments": {},
   "cell_type": "markdown",
   "metadata": {},
   "source": [
    "Next we define df_beer_style_score which contains a vector per country containing the normalized percentages of the number of reviews that review a certain style of beer (for ratings higher than 4):"
   ]
  },
  {
   "cell_type": "code",
   "execution_count": null,
   "metadata": {},
   "outputs": [],
   "source": [
    "countries = df_reviews_all_good_beers['user_location'].unique() #a vector containing the list of unique countries\n",
    "df_beer_style_score_good = pd.DataFrame(index=df_reviews_all_good_beers['style'].unique()) #define a DataFrame where the indices are all the beer styles\n",
    "\n",
    "for country in countries:\n",
    "    df_country = pd.DataFrame(df_reviews_all_good_beers.loc[df_reviews_all_good_beers['user_location']==country]['style'].value_counts(normalize= True).reindex(df_reviews_all_good_beers['style'].unique(), fill_value=0)) #puts 0's for the values where the count was 0\n",
    "    df_country = df_country.rename(columns={ \"style\": country})\n",
    "    df_beer_style_score_good = df_beer_style_score_good.join(df_country)\n",
    "\n",
    "df_beer_style_score_good = df_beer_style_score_good.T"
   ]
  },
  {
   "cell_type": "code",
   "execution_count": null,
   "metadata": {},
   "outputs": [
    {
     "name": "stdout",
     "output_type": "stream",
     "text": [
      "[pca] >Processing dataframe..\n",
      "[pca] >The PCA reduction is performed to capture [95.0%] explained variance using the [178] columns of the input data.\n",
      "[pca] >Fit using PCA.\n",
      "[pca] >Compute loadings and PCs.\n",
      "[pca] >Compute explained variance.\n",
      "[pca] >Number of components is [42] that covers the [95.00%] explained variance.\n",
      "[pca] >The PCA reduction is performed on the [178] columns of the input dataframe.\n",
      "[pca] >Fit using PCA.\n",
      "[pca] >Compute loadings and PCs.\n",
      "[pca] >Outlier detection using Hotelling T2 test with alpha=[0.05] and n_components=[42]\n",
      "[pca] >Outlier detection using SPE/DmodX with n_std=[2]\n",
      "       PC                       feature   loading  type\n",
      "0     PC1                    Pale Lager  0.980292  best\n",
      "1     PC2                Imperial Stout  0.696139  best\n",
      "2     PC3                   Malt Liquor  0.918376  best\n",
      "3     PC4                     Brown Ale  0.964629  best\n",
      "4     PC5            Belgian Strong Ale  0.532003  best\n",
      "..    ...                           ...       ...   ...\n",
      "177  PC38                  Saké - Ginjo -0.000004  weak\n",
      "178  PC38  Sahti/Gotlandsdricke/Koduõlu -0.000830  weak\n",
      "179   PC2                 Saké - Genshu  0.000014  weak\n",
      "180   PC2                 Saké - Junmai  0.000010  weak\n",
      "181  PC42           Lambic Style - Faro -0.005295  weak\n",
      "\n",
      "[182 rows x 4 columns]\n"
     ]
    }
   ],
   "source": [
    "# Initialize\n",
    "model = pca()\n",
    "# Fit transform\n",
    "out = model.fit_transform(df_beer_style_score_good)\n",
    "\n",
    "# Print the top features. The results show that f1 is best, followed by f2 etc\n",
    "print(out['topfeat'])\n",
    "\n",
    "#     PC      feature\n",
    "# 0  PC1      f1\n",
    "# 1  PC2      f2\n",
    "# 2  PC3      f3\n",
    "# 3  PC4      f4\n",
    "# 4  PC5      f5\n",
    "# 5  PC6      f6\n",
    "# 6  PC7      f7\n",
    "# 7  PC8      f8\n",
    "# 8  PC9      f9"
   ]
  },
  {
   "attachments": {},
   "cell_type": "markdown",
   "metadata": {},
   "source": [
    "So we select the 42 features corresponding to the those top features:"
   ]
  },
  {
   "cell_type": "code",
   "execution_count": null,
   "metadata": {},
   "outputs": [],
   "source": [
    "top_features = out['topfeat'].head(42).feature\n",
    "df_beer_style_score_good = df_beer_style_score_good[top_features]"
   ]
  },
  {
   "attachments": {},
   "cell_type": "markdown",
   "metadata": {},
   "source": [
    "Next we perform K-means clutering. In order to select the optimal number of clusters, we run k-means over a range of values of K (number of clusters) and for each value we calculate the average distances to the centroid across all data points, we plot the result to find the point where the average distance from the centroid falls suddenly (the elbow of the curve):"
   ]
  },
  {
   "cell_type": "code",
   "execution_count": null,
   "metadata": {},
   "outputs": [
    {
     "data": {
      "image/png": "[encoded data removed]",
      "text/plain": [
       "<Figure size 640x480 with 1 Axes>"
      ]
     },
     "metadata": {},
     "output_type": "display_data"
    }
   ],
   "source": [
    "Sum_of_squared_distances = []\n",
    "K = range(1,150)\n",
    "\n",
    "for num_clusters in K :\n",
    " kmeans = KMeans(n_clusters=num_clusters)\n",
    " kmeans.fit(df_beer_style_score_good)\n",
    " Sum_of_squared_distances.append(kmeans.inertia_)\n",
    "\n",
    "plt.plot(K,Sum_of_squared_distances,'bx-')\n",
    "plt.xlabel('Values of K') \n",
    "plt.ylabel('Sum of squared distances/Inertia') \n",
    "plt.title('Elbow Method For Optimal k')\n",
    "plt.show()"
   ]
  },
  {
   "attachments": {},
   "cell_type": "markdown",
   "metadata": {},
   "source": [
    "It looks like the elbow is around the value of K=35"
   ]
  },
  {
   "cell_type": "code",
   "execution_count": null,
   "metadata": {},
   "outputs": [],
   "source": [
    "#running k-means with the found optimal k\n",
    "kmeans = KMeans(35)\n",
    "kmeans.fit(df_beer_style_score_good)\n",
    "clusters=kmeans.fit_predict(df_beer_style_score_good)"
   ]
  },
  {
   "cell_type": "code",
   "execution_count": null,
   "metadata": {},
   "outputs": [],
   "source": [
    "clusters_data=df_beer_style_score_good.copy()\n",
    "#assigning the clusters to the data \n",
    "clusters_data['Cluster']=clusters"
   ]
  },
  {
   "attachments": {},
   "cell_type": "markdown",
   "metadata": {},
   "source": [
    "Next we want to plot the clusters on a map, so we use data with the longitutde and latitudes of each country and each state in the United States: "
   ]
  },
  {
   "cell_type": "code",
   "execution_count": null,
   "metadata": {},
   "outputs": [],
   "source": [
    "plotting_data = clusters_data.join(df_coordinates)\n",
    "plotting_data = plotting_data.dropna(axis=0)"
   ]
  },
  {
   "attachments": {},
   "cell_type": "markdown",
   "metadata": {},
   "source": [
    "Finally, let's visualize the map with  Plotly:"
   ]
  },
  {
   "cell_type": "code",
   "execution_count": null,
   "metadata": {},
   "outputs": [
    {
     "data": {
      "application/vnd.plotly.v1+json": {
       "config": {
        "plotlyServerURL": "https://plot.ly"
       },
       "data": [
        {
         "hoverinfo": "text",
         "hovertemplate": "%{text}<br>Cluster: %{marker.color}<extra></extra>",
         "hovertext": [
          "United States, Georgia",
          "United States, New Jersey",
          "United States, Alaska",
          "Northern Ireland",
          "United States, North Carolina",
          "United States, Illinois",
          "United States, Massachusetts",
          "Canada",
          "United States, Montana",
          "United States, Hawaii",
          "United States, Michigan",
          "England",
          "Cyprus",
          "United States, Connecticut",
          "Denmark",
          "United States, New York",
          "Scotland",
          "Ireland",
          "Thailand",
          "Russia",
          "Sweden",
          "United States, Washington",
          "United States, New Hampshire",
          "Australia",
          "United States, Pennsylvania",
          "United States, Wisconsin",
          "United States, Oregon",
          "United States, California",
          "United States, Indiana",
          "Jersey",
          "Romania",
          "Spain",
          "Greece",
          "France",
          "Germany",
          "United States, Virginia",
          "United States, Florida",
          "Netherlands",
          "United States, Missouri",
          "United States, Kentucky",
          "United States, Ohio",
          "United States, Texas",
          "United States, Arizona",
          "United States, Alabama",
          "United States, Maryland",
          "United States, South Carolina",
          "United States, Minnesota",
          "United States, Idaho",
          "United States, Vermont",
          "United States, Louisiana",
          "Norway",
          "United States, Rhode Island",
          "Japan",
          "United States, Colorado",
          "Brazil",
          "United States, Maine",
          "United States, Iowa",
          "United States, North Dakota",
          "United States, Arkansas",
          "United States, West Virginia",
          "United States, Wyoming",
          "United States, Tennessee",
          "United States, New Mexico",
          "United States, Mississippi",
          "South Africa",
          "United States, Oklahoma",
          "Taiwan",
          "Poland",
          "United States, Kansas",
          "Switzerland",
          "Ukraine",
          "United States, Nevada",
          "United States, Delaware",
          "United States, Nebraska",
          "Mexico",
          "Luxembourg",
          "Wales",
          "Finland",
          "Hong Kong",
          "Svalbard and Jan Mayen Islands",
          "United States, Utah",
          "United States, South Dakota",
          "Croatia",
          "Portugal",
          "Italy",
          "Lesotho",
          "China",
          "Malta",
          "Austria",
          "Slovenia",
          "Turkey",
          "Serbia",
          "Belgium",
          "Singapore",
          "Panama",
          "Puerto Rico",
          "India",
          "Barbados",
          "Bahamas",
          "Bermuda",
          "Bulgaria",
          "Jordan",
          "United Arab Emirates",
          "Antarctica",
          "Hungary",
          "Uganda",
          "Costa Rica",
          "Israel",
          "Lithuania",
          "Fiji Islands",
          "Argentina",
          "Chile",
          "Belarus",
          "Iceland",
          "Isle of Man",
          "Peru",
          "Cambodia",
          "Trinidad and Tobago",
          "American Samoa",
          "Gibraltar",
          "Kenya",
          "Cayman Islands",
          "Nicaragua",
          "Tajikistan",
          "Czech Republic",
          "Burkina Faso",
          "Guernsey",
          "Lebanon",
          "Malaysia",
          "Tanzania",
          "Vietnam",
          "Moldova",
          "Macedonia",
          "Philippines",
          "South Georgia and South Sandwich Islands",
          "Estonia",
          "Bolivia",
          "Uruguay",
          "Ecuador",
          "Bosnia and Herzegovina",
          "Paraguay",
          "Colombia",
          "Latvia",
          "Angola",
          "Bhutan",
          "Afghanistan",
          "Bouvet Island",
          "Guam",
          "Solomon Islands",
          "Vanuatu",
          "Dominican Republic",
          "El Salvador",
          "Honduras",
          "Andorra",
          "Tokelau",
          "Northern Mariana Islands",
          "Indonesia",
          "Mauritania",
          "Antigua and Barbuda",
          "Uzbekistan",
          "Marshall Islands",
          "Aruba",
          "British Indian Ocean Territory",
          "New Zealand",
          "Nigeria",
          "South Korea",
          "Montenegro",
          "Guatemala",
          "Laos",
          "Monaco",
          "Venezuela",
          "Faroe Islands",
          "Ascension Island",
          "Mozambique",
          "Pakistan",
          "Saudi Arabia",
          "Slovakia",
          "Burundi",
          "Ivory Coast",
          "San Marino",
          "North Korea",
          "Norfolk Island",
          "French Guiana",
          "Botswana",
          "Papua New Guinea",
          "Montserrat",
          "Saint Helena",
          "Algeria",
          "Kosovo",
          "Palestine",
          "Sudan",
          "Egypt",
          "Zimbabwe",
          "Syria",
          "Namibia",
          "Bangladesh",
          "Azerbaijan",
          "Tunisia",
          "Armenia",
          "Morocco",
          "Zambia",
          "Iraq",
          "Mauritius",
          "Ghana",
          "Greenland",
          "Liechtenstein",
          "Vatican City",
          "Haiti",
          "Albania",
          "Belize"
         ],
         "lat": [
          32.157435,
          40.058324,
          63.588753,
          "54.7877",
          35.759573,
          40.633125,
          42.407211,
          "56.130366",
          46.879682,
          19.898682,
          44.314844,
          "52.3555177 ",
          "35.126413",
          41.603221,
          "56.26392",
          43.299428,
          "56.4907",
          "53.41291",
          "15.870032",
          "61.52401",
          "60.128161",
          47.751074,
          43.193852,
          "-25.274398",
          41.203322,
          43.78444,
          43.804133,
          36.778261,
          40.551217,
          "49.214439",
          "45.943161",
          "40.463667",
          "39.074208",
          "46.227638",
          "51.165691",
          37.431573,
          27.664827,
          "52.132633",
          37.964253,
          37.839333,
          40.417287,
          31.968599,
          34.048928,
          32.318231,
          39.045755,
          33.836081,
          46.729553,
          44.068202,
          44.558803,
          31.244823,
          "60.472024",
          41.580095,
          "36.204824",
          39.550051,
          "-14.235004",
          45.253783,
          41.878003,
          47.551493,
          35.20105,
          38.597626,
          43.075968,
          35.517491,
          34.97273,
          32.354668,
          "-30.559482",
          35.007752,
          "23.69781",
          "51.919438",
          39.011902,
          "46.818188",
          "48.379433",
          38.80261,
          38.910832,
          41.492537,
          "23.634501",
          "49.815273",
          "52.1307",
          "61.92411",
          "22.396428",
          "71.0318",
          39.32098,
          43.969515,
          "45.1",
          "39.399872",
          "41.87194",
          "-29.609988",
          "35.86166",
          "35.937496",
          "47.516231",
          "46.151241",
          "38.963745",
          "44.016521",
          "50.503887",
          "1.352083",
          "8.537981",
          "18.220833",
          "20.593684",
          "13.193887",
          "25.03428",
          "32.321384",
          "42.733883",
          "30.585164",
          "23.424076",
          "-75.250973",
          "47.162494",
          "1.373333",
          "9.748917",
          "31.046051",
          "55.169438",
          "17.7134",
          "-38.416097",
          "-35.675147",
          "53.709807",
          "64.963051",
          "54.236107",
          "-9.189967",
          "12.565679",
          "10.691803",
          "-14.270972",
          "36.137741",
          "-0.023559",
          "19.513469",
          "12.865416",
          "38.861034",
          "49.817492",
          "12.238333",
          "49.465691",
          "33.854721",
          "4.210484",
          "-6.369028",
          "14.058324",
          "47.411631",
          "41.608635",
          "12.879721",
          "54.4296",
          "58.595272",
          "-16.290154",
          "-32.522779",
          "-1.831239",
          "43.915886",
          "-23.442503",
          "4.570868",
          "56.879635",
          "-11.202692",
          "27.514162",
          "33.93911",
          "-54.423199",
          "13.444304",
          "-9.64571",
          "-15.376706",
          "18.735693",
          "13.794185",
          "15.199999",
          "42.546245",
          "-8.967363",
          "17.33083",
          "-0.789275",
          "21.00789",
          "17.060816",
          "41.377491",
          "7.131474",
          "12.52111",
          "-6.343194",
          "-40.900557",
          "9.081999",
          "35.907757",
          "42.708678",
          "15.783471",
          "19.85627",
          "43.750298",
          "6.42375",
          "61.892635",
          "7.9467",
          "-18.665695",
          "30.375321",
          "23.885942",
          "48.669026",
          "-3.373056",
          "7.539989",
          "43.94236",
          "40.339852",
          "-29.040835",
          "3.933889",
          "-22.328474",
          "-6.314993",
          "16.742498",
          "-24.143474",
          "28.033886",
          "42.602636",
          "31.9522",
          "12.862807",
          "26.820553",
          "-19.015438",
          "34.802075",
          "-22.95764",
          "23.684994",
          "40.143105",
          "33.886917",
          "40.069099",
          "31.791702",
          "-13.133897",
          "33.223191",
          "-20.348404",
          "7.946527",
          "71.706936",
          "47.166",
          "41.902916",
          "18.971187",
          "41.153332",
          "17.189877"
         ],
         "lon": [
          -82.907123,
          -74.405661,
          -154.493062,
          6.4923,
          -79.0193,
          -89.398528,
          -71.382437,
          -106.346771,
          -110.362566,
          -155.665857,
          -85.602364,
          -1.1743197,
          33.429859,
          -73.087749,
          9.501785,
          -74.217933,
          4.2026,
          -8.24389,
          100.992541,
          105.318756,
          18.643501,
          -120.740139,
          -71.572395,
          133.775136,
          -77.194525,
          -88.787868,
          -120.554201,
          -119.417932,
          -85.602364,
          -2.13125,
          24.96676,
          -3.74922,
          21.824312,
          2.213749,
          10.451526,
          -78.656894,
          -81.515754,
          5.291266,
          -91.831833,
          -84.270018,
          -82.907123,
          -99.901813,
          -111.093731,
          -86.902298,
          -76.641271,
          -81.163725,
          -94.6859,
          -114.742041,
          -72.577841,
          -92.145024,
          8.468946,
          -71.477429,
          138.252924,
          -105.782067,
          -51.92528,
          -69.445469,
          -93.097702,
          -101.002012,
          -91.831833,
          -80.454903,
          -107.290284,
          -86.580447,
          -105.032363,
          -89.398528,
          22.937506,
          -97.092877,
          120.960515,
          19.145136,
          -98.484246,
          8.227512,
          31.16558,
          -116.419389,
          -75.52767,
          -99.901813,
          -102.552784,
          6.129583,
          3.7837,
          25.748151,
          114.109497,
          8.292,
          -111.093731,
          -99.901813,
          15.2,
          -8.224454,
          12.56738,
          28.233608,
          104.195397,
          14.375416,
          14.550072,
          14.995463,
          35.243322,
          21.005859,
          4.469936,
          103.819836,
          -80.782127,
          -66.590149,
          78.96288,
          -59.543198,
          -77.39628,
          -64.75737,
          25.48583,
          36.238414,
          53.847818,
          -0.071389,
          19.503304,
          32.290275,
          -83.753428,
          34.851612,
          23.881275,
          178.065,
          -63.616672,
          -71.542969,
          27.953389,
          -19.020835,
          -4.548056,
          -75.015152,
          104.990963,
          -61.222503,
          -170.132217,
          -5.345374,
          37.906193,
          -80.566956,
          -85.207229,
          71.276093,
          15.472962,
          -1.561593,
          -2.585278,
          35.862285,
          101.975766,
          34.888822,
          108.277199,
          28.369885,
          21.745275,
          121.774017,
          36.5879,
          25.013607,
          -63.588653,
          -55.765835,
          -78.183406,
          17.679076,
          -58.443832,
          -74.297333,
          24.603189,
          17.873887,
          90.433601,
          67.709953,
          3.413194,
          144.793731,
          160.156194,
          166.959158,
          -70.162651,
          -88.89653,
          -86.241905,
          1.601554,
          -171.855881,
          145.38469,
          113.921327,
          -10.940835,
          -61.796428,
          64.585262,
          171.184478,
          -69.968338,
          71.876519,
          174.885971,
          8.675277,
          127.766922,
          19.37439,
          -90.230759,
          102.495496,
          7.412841,
          -66.58973,
          -6.911806,
          14.3559,
          35.529562,
          69.345116,
          45.079162,
          19.699024,
          29.918886,
          -5.54708,
          12.457777,
          127.510093,
          167.954712,
          -53.125782,
          24.684866,
          143.95555,
          -62.187366,
          -10.030696,
          1.659626,
          20.902977,
          35.2332,
          30.217636,
          30.802498,
          29.154857,
          38.996815,
          18.49041,
          90.356331,
          47.576927,
          9.537499,
          45.038189,
          -7.09262,
          27.849332,
          43.679291,
          57.552152,
          -1.023194,
          -42.604303,
          9.555373,
          12.453389,
          -72.285215,
          20.168331,
          -88.49765
         ],
         "marker": {
          "color": [
           1,
           1,
           1,
           1,
           1,
           1,
           1,
           1,
           1,
           1,
           1,
           8,
           8,
           1,
           24,
           1,
           8,
           8,
           1,
           1,
           8,
           1,
           1,
           1,
           1,
           1,
           1,
           1,
           1,
           1,
           1,
           8,
           8,
           8,
           8,
           1,
           1,
           8,
           1,
           1,
           1,
           1,
           1,
           1,
           1,
           1,
           1,
           1,
           1,
           1,
           8,
           1,
           8,
           1,
           8,
           1,
           1,
           1,
           1,
           1,
           1,
           1,
           1,
           1,
           1,
           1,
           1,
           8,
           1,
           8,
           1,
           1,
           1,
           1,
           1,
           8,
           1,
           8,
           8,
           1,
           1,
           1,
           8,
           8,
           8,
           1,
           1,
           12,
           8,
           8,
           8,
           8,
           8,
           1,
           1,
           1,
           1,
           34,
           1,
           24,
           8,
           1,
           1,
           1,
           8,
           34,
           1,
           8,
           8,
           1,
           1,
           8,
           8,
           8,
           8,
           8,
           8,
           1,
           1,
           5,
           17,
           27,
           27,
           1,
           8,
           1,
           1,
           1,
           24,
           34,
           34,
           8,
           34,
           8,
           1,
           8,
           1,
           1,
           8,
           34,
           8,
           34,
           8,
           15,
           10,
           26,
           1,
           1,
           6,
           27,
           8,
           8,
           19,
           1,
           18,
           33,
           8,
           10,
           27,
           30,
           1,
           21,
           14,
           8,
           0,
           8,
           27,
           34,
           12,
           28,
           8,
           24,
           8,
           24,
           24,
           30,
           1,
           4,
           1,
           8,
           8,
           26,
           8,
           27,
           2,
           8,
           26,
           31,
           22,
           34,
           29,
           0,
           7,
           20,
           2,
           26,
           27,
           2,
           9,
           30,
           2,
           29,
           2,
           24,
           32,
           16,
           27,
           25,
           13,
           3
          ]
         },
         "mode": "markers",
         "text": [
          "United States, Georgia",
          "United States, New Jersey",
          "United States, Alaska",
          "Northern Ireland",
          "United States, North Carolina",
          "United States, Illinois",
          "United States, Massachusetts",
          "Canada",
          "United States, Montana",
          "United States, Hawaii",
          "United States, Michigan",
          "England",
          "Cyprus",
          "United States, Connecticut",
          "Denmark",
          "United States, New York",
          "Scotland",
          "Ireland",
          "Thailand",
          "Russia",
          "Sweden",
          "United States, Washington",
          "United States, New Hampshire",
          "Australia",
          "United States, Pennsylvania",
          "United States, Wisconsin",
          "United States, Oregon",
          "United States, California",
          "United States, Indiana",
          "Jersey",
          "Romania",
          "Spain",
          "Greece",
          "France",
          "Germany",
          "United States, Virginia",
          "United States, Florida",
          "Netherlands",
          "United States, Missouri",
          "United States, Kentucky",
          "United States, Ohio",
          "United States, Texas",
          "United States, Arizona",
          "United States, Alabama",
          "United States, Maryland",
          "United States, South Carolina",
          "United States, Minnesota",
          "United States, Idaho",
          "United States, Vermont",
          "United States, Louisiana",
          "Norway",
          "United States, Rhode Island",
          "Japan",
          "United States, Colorado",
          "Brazil",
          "United States, Maine",
          "United States, Iowa",
          "United States, North Dakota",
          "United States, Arkansas",
          "United States, West Virginia",
          "United States, Wyoming",
          "United States, Tennessee",
          "United States, New Mexico",
          "United States, Mississippi",
          "South Africa",
          "United States, Oklahoma",
          "Taiwan",
          "Poland",
          "United States, Kansas",
          "Switzerland",
          "Ukraine",
          "United States, Nevada",
          "United States, Delaware",
          "United States, Nebraska",
          "Mexico",
          "Luxembourg",
          "Wales",
          "Finland",
          "Hong Kong",
          "Svalbard and Jan Mayen Islands",
          "United States, Utah",
          "United States, South Dakota",
          "Croatia",
          "Portugal",
          "Italy",
          "Lesotho",
          "China",
          "Malta",
          "Austria",
          "Slovenia",
          "Turkey",
          "Serbia",
          "Belgium",
          "Singapore",
          "Panama",
          "Puerto Rico",
          "India",
          "Barbados",
          "Bahamas",
          "Bermuda",
          "Bulgaria",
          "Jordan",
          "United Arab Emirates",
          "Antarctica",
          "Hungary",
          "Uganda",
          "Costa Rica",
          "Israel",
          "Lithuania",
          "Fiji Islands",
          "Argentina",
          "Chile",
          "Belarus",
          "Iceland",
          "Isle of Man",
          "Peru",
          "Cambodia",
          "Trinidad and Tobago",
          "American Samoa",
          "Gibraltar",
          "Kenya",
          "Cayman Islands",
          "Nicaragua",
          "Tajikistan",
          "Czech Republic",
          "Burkina Faso",
          "Guernsey",
          "Lebanon",
          "Malaysia",
          "Tanzania",
          "Vietnam",
          "Moldova",
          "Macedonia",
          "Philippines",
          "South Georgia and South Sandwich Islands",
          "Estonia",
          "Bolivia",
          "Uruguay",
          "Ecuador",
          "Bosnia and Herzegovina",
          "Paraguay",
          "Colombia",
          "Latvia",
          "Angola",
          "Bhutan",
          "Afghanistan",
          "Bouvet Island",
          "Guam",
          "Solomon Islands",
          "Vanuatu",
          "Dominican Republic",
          "El Salvador",
          "Honduras",
          "Andorra",
          "Tokelau",
          "Northern Mariana Islands",
          "Indonesia",
          "Mauritania",
          "Antigua and Barbuda",
          "Uzbekistan",
          "Marshall Islands",
          "Aruba",
          "British Indian Ocean Territory",
          "New Zealand",
          "Nigeria",
          "South Korea",
          "Montenegro",
          "Guatemala",
          "Laos",
          "Monaco",
          "Venezuela",
          "Faroe Islands",
          "Ascension Island",
          "Mozambique",
          "Pakistan",
          "Saudi Arabia",
          "Slovakia",
          "Burundi",
          "Ivory Coast",
          "San Marino",
          "North Korea",
          "Norfolk Island",
          "French Guiana",
          "Botswana",
          "Papua New Guinea",
          "Montserrat",
          "Saint Helena",
          "Algeria",
          "Kosovo",
          "Palestine",
          "Sudan",
          "Egypt",
          "Zimbabwe",
          "Syria",
          "Namibia",
          "Bangladesh",
          "Azerbaijan",
          "Tunisia",
          "Armenia",
          "Morocco",
          "Zambia",
          "Iraq",
          "Mauritius",
          "Ghana",
          "Greenland",
          "Liechtenstein",
          "Vatican City",
          "Haiti",
          "Albania",
          "Belize"
         ],
         "type": "scattergeo"
        }
       ],
       "layout": {
        "geo": {
         "projection": {
          "type": "natural earth2"
         },
         "showcoastlines": true,
         "showcountries": true,
         "showframe": true
        },
        "height": 900,
        "hovermode": "closest",
        "paper_bgcolor": "rgba(0,0,0,0)",
        "template": {
         "data": {
          "bar": [
           {
            "error_x": {
             "color": "#2a3f5f"
            },
            "error_y": {
             "color": "#2a3f5f"
            },
            "marker": {
             "line": {
              "color": "#E5ECF6",
              "width": 0.5
             },
             "pattern": {
              "fillmode": "overlay",
              "size": 10,
              "solidity": 0.2
             }
            },
            "type": "bar"
           }
          ],
          "barpolar": [
           {
            "marker": {
             "line": {
              "color": "#E5ECF6",
              "width": 0.5
             },
             "pattern": {
              "fillmode": "overlay",
              "size": 10,
              "solidity": 0.2
             }
            },
            "type": "barpolar"
           }
          ],
          "carpet": [
           {
            "aaxis": {
             "endlinecolor": "#2a3f5f",
             "gridcolor": "white",
             "linecolor": "white",
             "minorgridcolor": "white",
             "startlinecolor": "#2a3f5f"
            },
            "baxis": {
             "endlinecolor": "#2a3f5f",
             "gridcolor": "white",
             "linecolor": "white",
             "minorgridcolor": "white",
             "startlinecolor": "#2a3f5f"
            },
            "type": "carpet"
           }
          ],
          "choropleth": [
           {
            "colorbar": {
             "outlinewidth": 0,
             "ticks": ""
            },
            "type": "choropleth"
           }
          ],
          "contour": [
           {
            "colorbar": {
             "outlinewidth": 0,
             "ticks": ""
            },
            "colorscale": [
             [
              0,
              "#0d0887"
             ],
             [
              0.1111111111111111,
              "#46039f"
             ],
             [
              0.2222222222222222,
              "#7201a8"
             ],
             [
              0.3333333333333333,
              "#9c179e"
             ],
             [
              0.4444444444444444,
              "#bd3786"
             ],
             [
              0.5555555555555556,
              "#d8576b"
             ],
             [
              0.6666666666666666,
              "#ed7953"
             ],
             [
              0.7777777777777778,
              "#fb9f3a"
             ],
             [
              0.8888888888888888,
              "#fdca26"
             ],
             [
              1,
              "#f0f921"
             ]
            ],
            "type": "contour"
           }
          ],
          "contourcarpet": [
           {
            "colorbar": {
             "outlinewidth": 0,
             "ticks": ""
            },
            "type": "contourcarpet"
           }
          ],
          "heatmap": [
           {
            "colorbar": {
             "outlinewidth": 0,
             "ticks": ""
            },
            "colorscale": [
             [
              0,
              "#0d0887"
             ],
             [
              0.1111111111111111,
              "#46039f"
             ],
             [
              0.2222222222222222,
              "#7201a8"
             ],
             [
              0.3333333333333333,
              "#9c179e"
             ],
             [
              0.4444444444444444,
              "#bd3786"
             ],
             [
              0.5555555555555556,
              "#d8576b"
             ],
             [
              0.6666666666666666,
              "#ed7953"
             ],
             [
              0.7777777777777778,
              "#fb9f3a"
             ],
             [
              0.8888888888888888,
              "#fdca26"
             ],
             [
              1,
              "#f0f921"
             ]
            ],
            "type": "heatmap"
           }
          ],
          "heatmapgl": [
           {
            "colorbar": {
             "outlinewidth": 0,
             "ticks": ""
            },
            "colorscale": [
             [
              0,
              "#0d0887"
             ],
             [
              0.1111111111111111,
              "#46039f"
             ],
             [
              0.2222222222222222,
              "#7201a8"
             ],
             [
              0.3333333333333333,
              "#9c179e"
             ],
             [
              0.4444444444444444,
              "#bd3786"
             ],
             [
              0.5555555555555556,
              "#d8576b"
             ],
             [
              0.6666666666666666,
              "#ed7953"
             ],
             [
              0.7777777777777778,
              "#fb9f3a"
             ],
             [
              0.8888888888888888,
              "#fdca26"
             ],
             [
              1,
              "#f0f921"
             ]
            ],
            "type": "heatmapgl"
           }
          ],
          "histogram": [
           {
            "marker": {
             "pattern": {
              "fillmode": "overlay",
              "size": 10,
              "solidity": 0.2
             }
            },
            "type": "histogram"
           }
          ],
          "histogram2d": [
           {
            "colorbar": {
             "outlinewidth": 0,
             "ticks": ""
            },
            "colorscale": [
             [
              0,
              "#0d0887"
             ],
             [
              0.1111111111111111,
              "#46039f"
             ],
             [
              0.2222222222222222,
              "#7201a8"
             ],
             [
              0.3333333333333333,
              "#9c179e"
             ],
             [
              0.4444444444444444,
              "#bd3786"
             ],
             [
              0.5555555555555556,
              "#d8576b"
             ],
             [
              0.6666666666666666,
              "#ed7953"
             ],
             [
              0.7777777777777778,
              "#fb9f3a"
             ],
             [
              0.8888888888888888,
              "#fdca26"
             ],
             [
              1,
              "#f0f921"
             ]
            ],
            "type": "histogram2d"
           }
          ],
          "histogram2dcontour": [
           {
            "colorbar": {
             "outlinewidth": 0,
             "ticks": ""
            },
            "colorscale": [
             [
              0,
              "#0d0887"
             ],
             [
              0.1111111111111111,
              "#46039f"
             ],
             [
              0.2222222222222222,
              "#7201a8"
             ],
             [
              0.3333333333333333,
              "#9c179e"
             ],
             [
              0.4444444444444444,
              "#bd3786"
             ],
             [
              0.5555555555555556,
              "#d8576b"
             ],
             [
              0.6666666666666666,
              "#ed7953"
             ],
             [
              0.7777777777777778,
              "#fb9f3a"
             ],
             [
              0.8888888888888888,
              "#fdca26"
             ],
             [
              1,
              "#f0f921"
             ]
            ],
            "type": "histogram2dcontour"
           }
          ],
          "mesh3d": [
           {
            "colorbar": {
             "outlinewidth": 0,
             "ticks": ""
            },
            "type": "mesh3d"
           }
          ],
          "parcoords": [
           {
            "line": {
             "colorbar": {
              "outlinewidth": 0,
              "ticks": ""
             }
            },
            "type": "parcoords"
           }
          ],
          "pie": [
           {
            "automargin": true,
            "type": "pie"
           }
          ],
          "scatter": [
           {
            "fillpattern": {
             "fillmode": "overlay",
             "size": 10,
             "solidity": 0.2
            },
            "type": "scatter"
           }
          ],
          "scatter3d": [
           {
            "line": {
             "colorbar": {
              "outlinewidth": 0,
              "ticks": ""
             }
            },
            "marker": {
             "colorbar": {
              "outlinewidth": 0,
              "ticks": ""
             }
            },
            "type": "scatter3d"
           }
          ],
          "scattercarpet": [
           {
            "marker": {
             "colorbar": {
              "outlinewidth": 0,
              "ticks": ""
             }
            },
            "type": "scattercarpet"
           }
          ],
          "scattergeo": [
           {
            "marker": {
             "colorbar": {
              "outlinewidth": 0,
              "ticks": ""
             }
            },
            "type": "scattergeo"
           }
          ],
          "scattergl": [
           {
            "marker": {
             "colorbar": {
              "outlinewidth": 0,
              "ticks": ""
             }
            },
            "type": "scattergl"
           }
          ],
          "scattermapbox": [
           {
            "marker": {
             "colorbar": {
              "outlinewidth": 0,
              "ticks": ""
             }
            },
            "type": "scattermapbox"
           }
          ],
          "scatterpolar": [
           {
            "marker": {
             "colorbar": {
              "outlinewidth": 0,
              "ticks": ""
             }
            },
            "type": "scatterpolar"
           }
          ],
          "scatterpolargl": [
           {
            "marker": {
             "colorbar": {
              "outlinewidth": 0,
              "ticks": ""
             }
            },
            "type": "scatterpolargl"
           }
          ],
          "scatterternary": [
           {
            "marker": {
             "colorbar": {
              "outlinewidth": 0,
              "ticks": ""
             }
            },
            "type": "scatterternary"
           }
          ],
          "surface": [
           {
            "colorbar": {
             "outlinewidth": 0,
             "ticks": ""
            },
            "colorscale": [
             [
              0,
              "#0d0887"
             ],
             [
              0.1111111111111111,
              "#46039f"
             ],
             [
              0.2222222222222222,
              "#7201a8"
             ],
             [
              0.3333333333333333,
              "#9c179e"
             ],
             [
              0.4444444444444444,
              "#bd3786"
             ],
             [
              0.5555555555555556,
              "#d8576b"
             ],
             [
              0.6666666666666666,
              "#ed7953"
             ],
             [
              0.7777777777777778,
              "#fb9f3a"
             ],
             [
              0.8888888888888888,
              "#fdca26"
             ],
             [
              1,
              "#f0f921"
             ]
            ],
            "type": "surface"
           }
          ],
          "table": [
           {
            "cells": {
             "fill": {
              "color": "#EBF0F8"
             },
             "line": {
              "color": "white"
             }
            },
            "header": {
             "fill": {
              "color": "#C8D4E3"
             },
             "line": {
              "color": "white"
             }
            },
            "type": "table"
           }
          ]
         },
         "layout": {
          "annotationdefaults": {
           "arrowcolor": "#2a3f5f",
           "arrowhead": 0,
           "arrowwidth": 1
          },
          "autotypenumbers": "strict",
          "coloraxis": {
           "colorbar": {
            "outlinewidth": 0,
            "ticks": ""
           }
          },
          "colorscale": {
           "diverging": [
            [
             0,
             "#8e0152"
            ],
            [
             0.1,
             "#c51b7d"
            ],
            [
             0.2,
             "#de77ae"
            ],
            [
             0.3,
             "#f1b6da"
            ],
            [
             0.4,
             "#fde0ef"
            ],
            [
             0.5,
             "#f7f7f7"
            ],
            [
             0.6,
             "#e6f5d0"
            ],
            [
             0.7,
             "#b8e186"
            ],
            [
             0.8,
             "#7fbc41"
            ],
            [
             0.9,
             "#4d9221"
            ],
            [
             1,
             "#276419"
            ]
           ],
           "sequential": [
            [
             0,
             "#0d0887"
            ],
            [
             0.1111111111111111,
             "#46039f"
            ],
            [
             0.2222222222222222,
             "#7201a8"
            ],
            [
             0.3333333333333333,
             "#9c179e"
            ],
            [
             0.4444444444444444,
             "#bd3786"
            ],
            [
             0.5555555555555556,
             "#d8576b"
            ],
            [
             0.6666666666666666,
             "#ed7953"
            ],
            [
             0.7777777777777778,
             "#fb9f3a"
            ],
            [
             0.8888888888888888,
             "#fdca26"
            ],
            [
             1,
             "#f0f921"
            ]
           ],
           "sequentialminus": [
            [
             0,
             "#0d0887"
            ],
            [
             0.1111111111111111,
             "#46039f"
            ],
            [
             0.2222222222222222,
             "#7201a8"
            ],
            [
             0.3333333333333333,
             "#9c179e"
            ],
            [
             0.4444444444444444,
             "#bd3786"
            ],
            [
             0.5555555555555556,
             "#d8576b"
            ],
            [
             0.6666666666666666,
             "#ed7953"
            ],
            [
             0.7777777777777778,
             "#fb9f3a"
            ],
            [
             0.8888888888888888,
             "#fdca26"
            ],
            [
             1,
             "#f0f921"
            ]
           ]
          },
          "colorway": [
           "#636efa",
           "#EF553B",
           "#00cc96",
           "#ab63fa",
           "#FFA15A",
           "#19d3f3",
           "#FF6692",
           "#B6E880",
           "#FF97FF",
           "#FECB52"
          ],
          "font": {
           "color": "#2a3f5f"
          },
          "geo": {
           "bgcolor": "white",
           "lakecolor": "white",
           "landcolor": "#E5ECF6",
           "showlakes": true,
           "showland": true,
           "subunitcolor": "white"
          },
          "hoverlabel": {
           "align": "left"
          },
          "hovermode": "closest",
          "mapbox": {
           "style": "light"
          },
          "paper_bgcolor": "white",
          "plot_bgcolor": "#E5ECF6",
          "polar": {
           "angularaxis": {
            "gridcolor": "white",
            "linecolor": "white",
            "ticks": ""
           },
           "bgcolor": "#E5ECF6",
           "radialaxis": {
            "gridcolor": "white",
            "linecolor": "white",
            "ticks": ""
           }
          },
          "scene": {
           "xaxis": {
            "backgroundcolor": "#E5ECF6",
            "gridcolor": "white",
            "gridwidth": 2,
            "linecolor": "white",
            "showbackground": true,
            "ticks": "",
            "zerolinecolor": "white"
           },
           "yaxis": {
            "backgroundcolor": "#E5ECF6",
            "gridcolor": "white",
            "gridwidth": 2,
            "linecolor": "white",
            "showbackground": true,
            "ticks": "",
            "zerolinecolor": "white"
           },
           "zaxis": {
            "backgroundcolor": "#E5ECF6",
            "gridcolor": "white",
            "gridwidth": 2,
            "linecolor": "white",
            "showbackground": true,
            "ticks": "",
            "zerolinecolor": "white"
           }
          },
          "shapedefaults": {
           "line": {
            "color": "#2a3f5f"
           }
          },
          "ternary": {
           "aaxis": {
            "gridcolor": "white",
            "linecolor": "white",
            "ticks": ""
           },
           "baxis": {
            "gridcolor": "white",
            "linecolor": "white",
            "ticks": ""
           },
           "bgcolor": "#E5ECF6",
           "caxis": {
            "gridcolor": "white",
            "linecolor": "white",
            "ticks": ""
           }
          },
          "title": {
           "x": 0.05
          },
          "xaxis": {
           "automargin": true,
           "gridcolor": "white",
           "linecolor": "white",
           "ticks": "",
           "title": {
            "standoff": 15
           },
           "zerolinecolor": "white",
           "zerolinewidth": 2
          },
          "yaxis": {
           "automargin": true,
           "gridcolor": "white",
           "linecolor": "white",
           "ticks": "",
           "title": {
            "standoff": 15
           },
           "zerolinecolor": "white",
           "zerolinewidth": 2
          }
         }
        },
        "title": {
         "text": "World Map with style clusters"
        },
        "width": 1200
       }
      }
     },
     "metadata": {},
     "output_type": "display_data"
    }
   ],
   "source": [
    "fig = go.Figure(data=go.Scattergeo(\n",
    "        lon = plotting_data['Longitude'],\n",
    "        lat = plotting_data['Latitude'],\n",
    "        text = plotting_data.index,\n",
    "        hovertext=plotting_data.index,\n",
    "        hoverinfo='text',\n",
    "        mode = 'markers',\n",
    "        marker_color = plotting_data['Cluster'],\n",
    "        hovertemplate='%{text}<br>Cluster: %{marker.color}<extra></extra>'\n",
    "        ))\n",
    "\n",
    "# Customize the layout and show the plot\n",
    "fig.update_layout(\n",
    "    geo=go.layout.Geo(\n",
    "        showframe=True,\n",
    "        showcoastlines=True,\n",
    "        projection_type='natural earth2',\n",
    "        showcountries= True\n",
    "    ),\n",
    "    hovermode='closest',\n",
    "    paper_bgcolor = 'rgba(0,0,0,0)',\n",
    "    width=1200,\n",
    "    height=900,\n",
    "    title='World Map with style clusters'\n",
    ")\n",
    "fig.show()\n",
    "\n",
    "fig.write_html('../plots_html/map1.html')\n"
   ]
  },
  {
   "attachments": {},
   "cell_type": "markdown",
   "metadata": {},
   "source": [
    "### Taking all ratings into account:"
   ]
  },
  {
   "cell_type": "code",
   "execution_count": null,
   "metadata": {},
   "outputs": [],
   "source": [
    "#loading that dataframe\n",
    "df_beer_style_score = pd.read_csv('../DataframeStorage/style_scores.csv' , index_col='Unnamed: 0')"
   ]
  },
  {
   "cell_type": "code",
   "execution_count": null,
   "metadata": {},
   "outputs": [
    {
     "data": {
      "text/html": [
       "<div>\n",
       "<style scoped>\n",
       "    .dataframe tbody tr th:only-of-type {\n",
       "        vertical-align: middle;\n",
       "    }\n",
       "\n",
       "    .dataframe tbody tr th {\n",
       "        vertical-align: top;\n",
       "    }\n",
       "\n",
       "    .dataframe thead th {\n",
       "        text-align: right;\n",
       "    }\n",
       "</style>\n",
       "<table border=\"1\" class=\"dataframe\">\n",
       "  <thead>\n",
       "    <tr style=\"text-align: right;\">\n",
       "      <th></th>\n",
       "      <th>Pale Lager</th>\n",
       "      <th>American IPA</th>\n",
       "      <th>India Pale Ale (IPA)</th>\n",
       "      <th>Imperial Stout</th>\n",
       "      <th>Golden Ale/Blond Ale</th>\n",
       "      <th>Euro Pale Lager</th>\n",
       "      <th>Amber Lager/Vienna</th>\n",
       "      <th>Pilsener</th>\n",
       "      <th>Malt Liquor</th>\n",
       "      <th>Porter</th>\n",
       "      <th>...</th>\n",
       "      <th>Baltic Porter</th>\n",
       "      <th>Amber Ale</th>\n",
       "      <th>Fruit Beer</th>\n",
       "      <th>Spice/Herb/Vegetable</th>\n",
       "      <th>Barley Wine</th>\n",
       "      <th>English Porter</th>\n",
       "      <th>Zwickel/Keller/Landbier</th>\n",
       "      <th>Cluster</th>\n",
       "      <th>Latitude</th>\n",
       "      <th>Longitude</th>\n",
       "    </tr>\n",
       "  </thead>\n",
       "  <tbody>\n",
       "    <tr>\n",
       "      <th>United States, Washington</th>\n",
       "      <td>0.084424</td>\n",
       "      <td>0.357018</td>\n",
       "      <td>0.462548</td>\n",
       "      <td>0.25401</td>\n",
       "      <td>0.055105</td>\n",
       "      <td>0.012461</td>\n",
       "      <td>0.032079</td>\n",
       "      <td>0.061046</td>\n",
       "      <td>0.010246</td>\n",
       "      <td>0.147742</td>\n",
       "      <td>...</td>\n",
       "      <td>0.050027</td>\n",
       "      <td>0.116571</td>\n",
       "      <td>0.075734</td>\n",
       "      <td>0.108029</td>\n",
       "      <td>0.14113</td>\n",
       "      <td>0.014529</td>\n",
       "      <td>0.010019</td>\n",
       "      <td>4</td>\n",
       "      <td>47.751074</td>\n",
       "      <td>-120.740139</td>\n",
       "    </tr>\n",
       "  </tbody>\n",
       "</table>\n",
       "<p>1 rows × 44 columns</p>\n",
       "</div>"
      ],
      "text/plain": [
       "                           Pale Lager  American IPA  India Pale Ale (IPA)  \\\n",
       "United States, Washington    0.084424      0.357018              0.462548   \n",
       "\n",
       "                           Imperial Stout  Golden Ale/Blond Ale  \\\n",
       "United States, Washington         0.25401              0.055105   \n",
       "\n",
       "                           Euro Pale Lager  Amber Lager/Vienna  Pilsener  \\\n",
       "United States, Washington         0.012461            0.032079  0.061046   \n",
       "\n",
       "                           Malt Liquor    Porter  ...  Baltic Porter  \\\n",
       "United States, Washington     0.010246  0.147742  ...       0.050027   \n",
       "\n",
       "                           Amber Ale  Fruit Beer  Spice/Herb/Vegetable  \\\n",
       "United States, Washington   0.116571    0.075734              0.108029   \n",
       "\n",
       "                           Barley Wine  English Porter  \\\n",
       "United States, Washington      0.14113        0.014529   \n",
       "\n",
       "                           Zwickel/Keller/Landbier  Cluster   Latitude  \\\n",
       "United States, Washington                 0.010019        4  47.751074   \n",
       "\n",
       "                            Longitude  \n",
       "United States, Washington -120.740139  \n",
       "\n",
       "[1 rows x 44 columns]"
      ]
     },
     "metadata": {},
     "output_type": "display_data"
    }
   ],
   "source": [
    "df_beer_style_score.head(1)"
   ]
  },
  {
   "cell_type": "code",
   "execution_count": null,
   "metadata": {},
   "outputs": [],
   "source": [
    "df_beer_style_score.drop([\"Cluster\", \"Latitude\",'Longitude'], axis = 1, inplace=True)"
   ]
  },
  {
   "cell_type": "code",
   "execution_count": null,
   "metadata": {},
   "outputs": [
    {
     "data": {
      "image/png": "[encoded data removed]",
      "text/plain": [
       "<Figure size 640x480 with 1 Axes>"
      ]
     },
     "metadata": {},
     "output_type": "display_data"
    }
   ],
   "source": [
    "Sum_of_squared_distances = []\n",
    "\n",
    "K = range(1,150)\n",
    "\n",
    "for num_clusters in K :\n",
    " kmeans = KMeans(n_clusters=num_clusters)\n",
    " kmeans.fit(df_beer_style_score)\n",
    " Sum_of_squared_distances.append(kmeans.inertia_)\n",
    "\n",
    "plt.plot(K,Sum_of_squared_distances,'bx-')\n",
    "plt.xlabel('Values of K') \n",
    "plt.ylabel('Sum of squared distances/Inertia') \n",
    "plt.title('Elbow Method For Optimal k')\n",
    "plt.show()"
   ]
  },
  {
   "cell_type": "code",
   "execution_count": null,
   "metadata": {},
   "outputs": [],
   "source": [
    "kmeans = KMeans(25)\n",
    "kmeans.fit(df_beer_style_score)\n",
    "clusters=kmeans.fit_predict(df_beer_style_score)"
   ]
  },
  {
   "cell_type": "code",
   "execution_count": null,
   "metadata": {},
   "outputs": [],
   "source": [
    "clusters_data = df_beer_style_score.copy()\n",
    "clusters_data['Cluster']=clusters\n",
    "\n",
    "plotting_data = clusters_data.join(df_coordinates)\n",
    "plotting_data = plotting_data.dropna(axis=0)"
   ]
  },
  {
   "cell_type": "code",
   "execution_count": null,
   "metadata": {},
   "outputs": [
    {
     "data": {
      "image/png": "[encoded data removed]",
      "text/plain": [
       "<Figure size 800x800 with 1 Axes>"
      ]
     },
     "metadata": {},
     "output_type": "display_data"
    }
   ],
   "source": [
    "plt.figure(figsize=(8,8))\n",
    "plt.scatter(plotting_data['Longitude'],plotting_data[\"Latitude\"],c=plotting_data['Cluster'],cmap='rainbow')\n",
    "plt.xlabel('Longitude')\n",
    "plt.ylabel('Latitude')\n",
    "plt.title(\"Data with 25 clusters\") \n",
    "plt.xlim(-180,180)\n",
    "plt.ylim(-90, 90)\n",
    "plt.show()"
   ]
  },
  {
   "cell_type": "code",
   "execution_count": null,
   "metadata": {},
   "outputs": [
    {
     "data": {
      "application/vnd.plotly.v1+json": {
       "config": {
        "plotlyServerURL": "https://plot.ly"
       },
       "data": [
        {
         "hoverinfo": "text",
         "hovertemplate": "%{text}<br>Cluster: %{marker.color}<extra></extra>",
         "hovertext": [
          "United States, Washington",
          "United States, New York",
          "Northern Ireland",
          "United States, North Carolina",
          "United States, Illinois",
          "United States, Massachusetts",
          "United States, Virginia",
          "United States, South Carolina",
          "United States, Georgia",
          "United States, West Virginia",
          "United States, Pennsylvania",
          "United States, Alabama",
          "United States, New Hampshire",
          "United States, Louisiana",
          "United States, Indiana",
          "United States, Rhode Island",
          "United States, Missouri",
          "United States, Arkansas",
          "United States, Ohio",
          "United States, Connecticut",
          "United States, Florida",
          "United States, Minnesota",
          "United States, New Jersey",
          "United States, Maryland",
          "United States, Alaska",
          "United States, Mississippi",
          "United States, Oregon",
          "United States, Kentucky",
          "United States, Oklahoma",
          "England",
          "United States, California",
          "Ireland",
          "Australia",
          "United States, Arizona",
          "United States, Texas",
          "Canada",
          "United States, Montana",
          "United States, Hawaii",
          "Austria",
          "Cyprus",
          "United States, Michigan",
          "United States, Delaware",
          "Switzerland",
          "Slovenia",
          "Sweden",
          "United States, Tennessee",
          "Germany",
          "France",
          "South Africa",
          "Scotland",
          "Denmark",
          "Romania",
          "Hong Kong",
          "Italy",
          "Russia",
          "Spain",
          "Thailand",
          "United States, Colorado",
          "United States, Idaho",
          "Jersey",
          "Portugal",
          "Wales",
          "United States, Wisconsin",
          "Netherlands",
          "United States, Iowa",
          "Greece",
          "United States, Vermont",
          "United States, New Mexico",
          "Belgium",
          "United States, Maine",
          "United States, Nevada",
          "United States, Nebraska",
          "United States, Kansas",
          "Brazil",
          "United States, Wyoming",
          "China",
          "Norway",
          "Japan",
          "United States, North Dakota",
          "Malaysia",
          "Taiwan",
          "Poland",
          "Ukraine",
          "Mexico",
          "Luxembourg",
          "United Arab Emirates",
          "Bahamas",
          "Panama",
          "Finland",
          "United States, Utah",
          "Croatia",
          "Antarctica",
          "Hungary",
          "Serbia",
          "Malta",
          "Trinidad and Tobago",
          "Guernsey",
          "Svalbard and Jan Mayen Islands",
          "United States, South Dakota",
          "Lesotho",
          "Jordan",
          "Singapore",
          "Turkey",
          "Puerto Rico",
          "Czech Republic",
          "American Samoa",
          "Philippines",
          "Costa Rica",
          "India",
          "Barbados",
          "Bermuda",
          "Tokelau",
          "Fiji Islands",
          "Bulgaria",
          "Anguilla",
          "Cambodia",
          "Uganda",
          "Argentina",
          "Israel",
          "Lithuania",
          "Lebanon",
          "Belarus",
          "Chile",
          "Iceland",
          "Papua New Guinea",
          "Bhutan",
          "Isle of Man",
          "Tajikistan",
          "Peru",
          "Gibraltar",
          "Tanzania",
          "Uruguay",
          "Vietnam",
          "Honduras",
          "Nigeria",
          "Bolivia",
          "Bosnia and Herzegovina",
          "Kenya",
          "Cayman Islands",
          "Nicaragua",
          "Guam",
          "Indonesia",
          "Burkina Faso",
          "Bouvet Island",
          "South Georgia and South Sandwich Islands",
          "Moldova",
          "Macedonia",
          "El Salvador",
          "Estonia",
          "Guatemala",
          "Dominican Republic",
          "Solomon Islands",
          "Ecuador",
          "Colombia",
          "Venezuela",
          "Paraguay",
          "Latvia",
          "Angola",
          "Afghanistan",
          "Vanuatu",
          "New Caledonia",
          "Andorra",
          "Faroe Islands",
          "Northern Mariana Islands",
          "Mauritania",
          "Antigua and Barbuda",
          "Aruba",
          "Uzbekistan",
          "Belize",
          "Marshall Islands",
          "British Indian Ocean Territory",
          "New Zealand",
          "Mozambique",
          "Ascension Island",
          "Nepal",
          "North Korea",
          "South Korea",
          "Greenland",
          "Algeria",
          "Namibia",
          "Laos",
          "Armenia",
          "Kazakhstan",
          "Montenegro",
          "Bangladesh",
          "Azerbaijan",
          "Togo",
          "Monaco",
          "Saudi Arabia",
          "Pakistan",
          "Mauritius",
          "Slovakia",
          "Saint Helena",
          "Burundi",
          "Dem Rep of Congo",
          "Ivory Coast",
          "San Marino",
          "Cuba",
          "Norfolk Island",
          "French Guiana",
          "Botswana",
          "Mongolia",
          "Montserrat",
          "Syria",
          "Morocco",
          "Albania",
          "Sudan",
          "Kosovo",
          "Palestine",
          "Oman",
          "Liechtenstein",
          "Zimbabwe",
          "Egypt",
          "Tunisia",
          "Kyrgyzstan",
          "Iraq",
          "Zambia",
          "Ghana",
          "Tuvalu",
          "Vatican City",
          "Macau",
          "Iran",
          "Jamaica",
          "Haiti",
          "Saint Lucia",
          "Micronesia",
          "Yemen"
         ],
         "lat": [
          47.751074,
          43.299428,
          "54.7877",
          35.759573,
          40.633125,
          42.407211,
          37.431573,
          33.836081,
          32.157435,
          38.597626,
          41.203322,
          32.318231,
          43.193852,
          31.244823,
          40.551217,
          41.580095,
          37.964253,
          35.20105,
          40.417287,
          41.603221,
          27.664827,
          46.729553,
          40.058324,
          39.045755,
          63.588753,
          32.354668,
          43.804133,
          37.839333,
          35.007752,
          "52.3555177 ",
          36.778261,
          "53.41291",
          "-25.274398",
          34.048928,
          31.968599,
          "56.130366",
          46.879682,
          19.898682,
          "47.516231",
          "35.126413",
          44.314844,
          38.910832,
          "46.818188",
          "46.151241",
          "60.128161",
          35.517491,
          "51.165691",
          "46.227638",
          "-30.559482",
          "56.4907",
          "56.26392",
          "45.943161",
          "22.396428",
          "41.87194",
          "61.52401",
          "40.463667",
          "15.870032",
          39.550051,
          44.068202,
          "49.214439",
          "39.399872",
          "52.1307",
          43.78444,
          "52.132633",
          41.878003,
          "39.074208",
          44.558803,
          34.97273,
          "50.503887",
          45.253783,
          38.80261,
          41.492537,
          39.011902,
          "-14.235004",
          43.075968,
          "35.86166",
          "60.472024",
          "36.204824",
          47.551493,
          "4.210484",
          "23.69781",
          "51.919438",
          "48.379433",
          "23.634501",
          "49.815273",
          "23.424076",
          "25.03428",
          "8.537981",
          "61.92411",
          39.32098,
          "45.1",
          "-75.250973",
          "47.162494",
          "44.016521",
          "35.937496",
          "10.691803",
          "49.465691",
          "71.0318",
          43.969515,
          "-29.609988",
          "30.585164",
          "1.352083",
          "38.963745",
          "18.220833",
          "49.817492",
          "-14.270972",
          "12.879721",
          "9.748917",
          "20.593684",
          "13.193887",
          "32.321384",
          "-8.967363",
          "17.7134",
          "42.733883",
          "18.220554",
          "12.565679",
          "1.373333",
          "-38.416097",
          "31.046051",
          "55.169438",
          "33.854721",
          "53.709807",
          "-35.675147",
          "64.963051",
          "-6.314993",
          "27.514162",
          "54.236107",
          "38.861034",
          "-9.189967",
          "36.137741",
          "-6.369028",
          "-32.522779",
          "14.058324",
          "15.199999",
          "9.081999",
          "-16.290154",
          "43.915886",
          "-0.023559",
          "19.513469",
          "12.865416",
          "13.444304",
          "-0.789275",
          "12.238333",
          "-54.423199",
          "54.4296",
          "47.411631",
          "41.608635",
          "13.794185",
          "58.595272",
          "15.783471",
          "18.735693",
          "-9.64571",
          "-1.831239",
          "4.570868",
          "6.42375",
          "-23.442503",
          "56.879635",
          "-11.202692",
          "33.93911",
          "-15.376706",
          "-20.904305",
          "42.546245",
          "61.892635",
          "17.33083",
          "21.00789",
          "17.060816",
          "12.52111",
          "41.377491",
          "17.189877",
          "7.131474",
          "-6.343194",
          "-40.900557",
          "-18.665695",
          "7.9467",
          "28.394857",
          "40.339852",
          "35.907757",
          "71.706936",
          "28.033886",
          "-22.95764",
          "19.85627",
          "40.069099",
          "48.019573",
          "42.708678",
          "23.684994",
          "40.143105",
          "8.619543",
          "43.750298",
          "23.885942",
          "30.375321",
          "-20.348404",
          "48.669026",
          "-24.143474",
          "-3.373056",
          "-4.038333",
          "7.539989",
          "43.94236",
          "21.521757",
          "-29.040835",
          "3.933889",
          "-22.328474",
          "46.862496",
          "16.742498",
          "34.802075",
          "31.791702",
          "41.153332",
          "12.862807",
          "42.602636",
          "31.9522",
          "21.512583",
          "47.166",
          "-19.015438",
          "26.820553",
          "33.886917",
          "41.20438",
          "33.223191",
          "-13.133897",
          "7.946527",
          "-7.109535",
          "41.902916",
          "22.198745",
          "32.427908",
          "18.109581",
          "18.971187",
          "13.909444",
          "7.425554",
          "15.552727"
         ],
         "lon": [
          -120.740139,
          -74.217933,
          6.4923,
          -79.0193,
          -89.398528,
          -71.382437,
          -78.656894,
          -81.163725,
          -82.907123,
          -80.454903,
          -77.194525,
          -86.902298,
          -71.572395,
          -92.145024,
          -85.602364,
          -71.477429,
          -91.831833,
          -91.831833,
          -82.907123,
          -73.087749,
          -81.515754,
          -94.6859,
          -74.405661,
          -76.641271,
          -154.493062,
          -89.398528,
          -120.554201,
          -84.270018,
          -97.092877,
          -1.1743197,
          -119.417932,
          -8.24389,
          133.775136,
          -111.093731,
          -99.901813,
          -106.346771,
          -110.362566,
          -155.665857,
          14.550072,
          33.429859,
          -85.602364,
          -75.52767,
          8.227512,
          14.995463,
          18.643501,
          -86.580447,
          10.451526,
          2.213749,
          22.937506,
          4.2026,
          9.501785,
          24.96676,
          114.109497,
          12.56738,
          105.318756,
          -3.74922,
          100.992541,
          -105.782067,
          -114.742041,
          -2.13125,
          -8.224454,
          3.7837,
          -88.787868,
          5.291266,
          -93.097702,
          21.824312,
          -72.577841,
          -105.032363,
          4.469936,
          -69.445469,
          -116.419389,
          -99.901813,
          -98.484246,
          -51.92528,
          -107.290284,
          104.195397,
          8.468946,
          138.252924,
          -101.002012,
          101.975766,
          120.960515,
          19.145136,
          31.16558,
          -102.552784,
          6.129583,
          53.847818,
          -77.39628,
          -80.782127,
          25.748151,
          -111.093731,
          15.2,
          -0.071389,
          19.503304,
          21.005859,
          14.375416,
          -61.222503,
          -2.585278,
          8.292,
          -99.901813,
          28.233608,
          36.238414,
          103.819836,
          35.243322,
          -66.590149,
          15.472962,
          -170.132217,
          121.774017,
          -83.753428,
          78.96288,
          -59.543198,
          -64.75737,
          -171.855881,
          178.065,
          25.48583,
          -63.068615,
          104.990963,
          32.290275,
          -63.616672,
          34.851612,
          23.881275,
          35.862285,
          27.953389,
          -71.542969,
          -19.020835,
          143.95555,
          90.433601,
          -4.548056,
          71.276093,
          -75.015152,
          -5.345374,
          34.888822,
          -55.765835,
          108.277199,
          -86.241905,
          8.675277,
          -63.588653,
          17.679076,
          37.906193,
          -80.566956,
          -85.207229,
          144.793731,
          113.921327,
          -1.561593,
          3.413194,
          36.5879,
          28.369885,
          21.745275,
          -88.89653,
          25.013607,
          -90.230759,
          -70.162651,
          160.156194,
          -78.183406,
          -74.297333,
          -66.58973,
          -58.443832,
          24.603189,
          17.873887,
          67.709953,
          166.959158,
          165.618042,
          1.601554,
          -6.911806,
          145.38469,
          -10.940835,
          -61.796428,
          -69.968338,
          64.585262,
          -88.49765,
          171.184478,
          71.876519,
          174.885971,
          35.529562,
          14.3559,
          84.124008,
          127.510093,
          127.766922,
          -42.604303,
          1.659626,
          18.49041,
          102.495496,
          45.038189,
          66.923684,
          19.37439,
          90.356331,
          47.576927,
          0.824782,
          7.412841,
          45.079162,
          69.345116,
          57.552152,
          19.699024,
          -10.030696,
          29.918886,
          21.758664,
          -5.54708,
          12.457777,
          -77.781167,
          167.954712,
          -53.125782,
          24.684866,
          103.846656,
          -62.187366,
          38.996815,
          -7.09262,
          20.168331,
          30.217636,
          20.902977,
          35.2332,
          55.923255,
          9.555373,
          29.154857,
          30.802498,
          9.537499,
          74.766098,
          43.679291,
          27.849332,
          -1.023194,
          177.64933,
          12.453389,
          113.543873,
          53.688046,
          -77.297508,
          -72.285215,
          -60.978893,
          150.550812,
          48.516388
         ],
         "marker": {
          "color": [
           0,
           4,
           16,
           0,
           0,
           4,
           0,
           4,
           0,
           4,
           0,
           0,
           0,
           4,
           0,
           4,
           0,
           4,
           0,
           4,
           0,
           0,
           0,
           0,
           0,
           4,
           0,
           0,
           0,
           16,
           0,
           16,
           9,
           0,
           0,
           9,
           0,
           4,
           9,
           9,
           0,
           0,
           9,
           2,
           9,
           0,
           9,
           9,
           2,
           16,
           9,
           0,
           9,
           9,
           2,
           9,
           9,
           0,
           0,
           4,
           9,
           16,
           0,
           6,
           0,
           6,
           4,
           4,
           6,
           4,
           0,
           0,
           0,
           2,
           4,
           23,
           9,
           9,
           9,
           16,
           23,
           9,
           2,
           23,
           16,
           4,
           4,
           23,
           9,
           9,
           2,
           3,
           9,
           9,
           5,
           3,
           14,
           4,
           23,
           4,
           3,
           9,
           9,
           23,
           9,
           3,
           9,
           4,
           23,
           4,
           6,
           3,
           4,
           2,
           13,
           9,
           7,
           2,
           9,
           2,
           14,
           9,
           23,
           9,
           5,
           11,
           6,
           4,
           2,
           21,
           5,
           1,
           5,
           1,
           5,
           2,
           2,
           10,
           5,
           5,
           9,
           9,
           3,
           3,
           22,
           2,
           2,
           2,
           9,
           5,
           3,
           17,
           2,
           5,
           9,
           5,
           9,
           4,
           6,
           5,
           3,
           3,
           2,
           18,
           11,
           5,
           22,
           3,
           1,
           1,
           3,
           9,
           16,
           16,
           5,
           6,
           9,
           2,
           6,
           5,
           5,
           10,
           5,
           5,
           6,
           5,
           5,
           24,
           23,
           6,
           5,
           12,
           9,
           10,
           5,
           19,
           6,
           5,
           8,
           6,
           5,
           5,
           6,
           12,
           6,
           5,
           3,
           3,
           1,
           3,
           5,
           10,
           5,
           5,
           3,
           8,
           5,
           5,
           8,
           7,
           6,
           3,
           3,
           15,
           7,
           3,
           20
          ]
         },
         "mode": "markers",
         "text": [
          "United States, Washington",
          "United States, New York",
          "Northern Ireland",
          "United States, North Carolina",
          "United States, Illinois",
          "United States, Massachusetts",
          "United States, Virginia",
          "United States, South Carolina",
          "United States, Georgia",
          "United States, West Virginia",
          "United States, Pennsylvania",
          "United States, Alabama",
          "United States, New Hampshire",
          "United States, Louisiana",
          "United States, Indiana",
          "United States, Rhode Island",
          "United States, Missouri",
          "United States, Arkansas",
          "United States, Ohio",
          "United States, Connecticut",
          "United States, Florida",
          "United States, Minnesota",
          "United States, New Jersey",
          "United States, Maryland",
          "United States, Alaska",
          "United States, Mississippi",
          "United States, Oregon",
          "United States, Kentucky",
          "United States, Oklahoma",
          "England",
          "United States, California",
          "Ireland",
          "Australia",
          "United States, Arizona",
          "United States, Texas",
          "Canada",
          "United States, Montana",
          "United States, Hawaii",
          "Austria",
          "Cyprus",
          "United States, Michigan",
          "United States, Delaware",
          "Switzerland",
          "Slovenia",
          "Sweden",
          "United States, Tennessee",
          "Germany",
          "France",
          "South Africa",
          "Scotland",
          "Denmark",
          "Romania",
          "Hong Kong",
          "Italy",
          "Russia",
          "Spain",
          "Thailand",
          "United States, Colorado",
          "United States, Idaho",
          "Jersey",
          "Portugal",
          "Wales",
          "United States, Wisconsin",
          "Netherlands",
          "United States, Iowa",
          "Greece",
          "United States, Vermont",
          "United States, New Mexico",
          "Belgium",
          "United States, Maine",
          "United States, Nevada",
          "United States, Nebraska",
          "United States, Kansas",
          "Brazil",
          "United States, Wyoming",
          "China",
          "Norway",
          "Japan",
          "United States, North Dakota",
          "Malaysia",
          "Taiwan",
          "Poland",
          "Ukraine",
          "Mexico",
          "Luxembourg",
          "United Arab Emirates",
          "Bahamas",
          "Panama",
          "Finland",
          "United States, Utah",
          "Croatia",
          "Antarctica",
          "Hungary",
          "Serbia",
          "Malta",
          "Trinidad and Tobago",
          "Guernsey",
          "Svalbard and Jan Mayen Islands",
          "United States, South Dakota",
          "Lesotho",
          "Jordan",
          "Singapore",
          "Turkey",
          "Puerto Rico",
          "Czech Republic",
          "American Samoa",
          "Philippines",
          "Costa Rica",
          "India",
          "Barbados",
          "Bermuda",
          "Tokelau",
          "Fiji Islands",
          "Bulgaria",
          "Anguilla",
          "Cambodia",
          "Uganda",
          "Argentina",
          "Israel",
          "Lithuania",
          "Lebanon",
          "Belarus",
          "Chile",
          "Iceland",
          "Papua New Guinea",
          "Bhutan",
          "Isle of Man",
          "Tajikistan",
          "Peru",
          "Gibraltar",
          "Tanzania",
          "Uruguay",
          "Vietnam",
          "Honduras",
          "Nigeria",
          "Bolivia",
          "Bosnia and Herzegovina",
          "Kenya",
          "Cayman Islands",
          "Nicaragua",
          "Guam",
          "Indonesia",
          "Burkina Faso",
          "Bouvet Island",
          "South Georgia and South Sandwich Islands",
          "Moldova",
          "Macedonia",
          "El Salvador",
          "Estonia",
          "Guatemala",
          "Dominican Republic",
          "Solomon Islands",
          "Ecuador",
          "Colombia",
          "Venezuela",
          "Paraguay",
          "Latvia",
          "Angola",
          "Afghanistan",
          "Vanuatu",
          "New Caledonia",
          "Andorra",
          "Faroe Islands",
          "Northern Mariana Islands",
          "Mauritania",
          "Antigua and Barbuda",
          "Aruba",
          "Uzbekistan",
          "Belize",
          "Marshall Islands",
          "British Indian Ocean Territory",
          "New Zealand",
          "Mozambique",
          "Ascension Island",
          "Nepal",
          "North Korea",
          "South Korea",
          "Greenland",
          "Algeria",
          "Namibia",
          "Laos",
          "Armenia",
          "Kazakhstan",
          "Montenegro",
          "Bangladesh",
          "Azerbaijan",
          "Togo",
          "Monaco",
          "Saudi Arabia",
          "Pakistan",
          "Mauritius",
          "Slovakia",
          "Saint Helena",
          "Burundi",
          "Dem Rep of Congo",
          "Ivory Coast",
          "San Marino",
          "Cuba",
          "Norfolk Island",
          "French Guiana",
          "Botswana",
          "Mongolia",
          "Montserrat",
          "Syria",
          "Morocco",
          "Albania",
          "Sudan",
          "Kosovo",
          "Palestine",
          "Oman",
          "Liechtenstein",
          "Zimbabwe",
          "Egypt",
          "Tunisia",
          "Kyrgyzstan",
          "Iraq",
          "Zambia",
          "Ghana",
          "Tuvalu",
          "Vatican City",
          "Macau",
          "Iran",
          "Jamaica",
          "Haiti",
          "Saint Lucia",
          "Micronesia",
          "Yemen"
         ],
         "type": "scattergeo"
        }
       ],
       "layout": {
        "geo": {
         "projection": {
          "type": "natural earth2"
         },
         "showcoastlines": true,
         "showcountries": true,
         "showframe": true
        },
        "height": 900,
        "hovermode": "closest",
        "paper_bgcolor": "rgba(0,0,0,0)",
        "template": {
         "data": {
          "bar": [
           {
            "error_x": {
             "color": "#2a3f5f"
            },
            "error_y": {
             "color": "#2a3f5f"
            },
            "marker": {
             "line": {
              "color": "#E5ECF6",
              "width": 0.5
             },
             "pattern": {
              "fillmode": "overlay",
              "size": 10,
              "solidity": 0.2
             }
            },
            "type": "bar"
           }
          ],
          "barpolar": [
           {
            "marker": {
             "line": {
              "color": "#E5ECF6",
              "width": 0.5
             },
             "pattern": {
              "fillmode": "overlay",
              "size": 10,
              "solidity": 0.2
             }
            },
            "type": "barpolar"
           }
          ],
          "carpet": [
           {
            "aaxis": {
             "endlinecolor": "#2a3f5f",
             "gridcolor": "white",
             "linecolor": "white",
             "minorgridcolor": "white",
             "startlinecolor": "#2a3f5f"
            },
            "baxis": {
             "endlinecolor": "#2a3f5f",
             "gridcolor": "white",
             "linecolor": "white",
             "minorgridcolor": "white",
             "startlinecolor": "#2a3f5f"
            },
            "type": "carpet"
           }
          ],
          "choropleth": [
           {
            "colorbar": {
             "outlinewidth": 0,
             "ticks": ""
            },
            "type": "choropleth"
           }
          ],
          "contour": [
           {
            "colorbar": {
             "outlinewidth": 0,
             "ticks": ""
            },
            "colorscale": [
             [
              0,
              "#0d0887"
             ],
             [
              0.1111111111111111,
              "#46039f"
             ],
             [
              0.2222222222222222,
              "#7201a8"
             ],
             [
              0.3333333333333333,
              "#9c179e"
             ],
             [
              0.4444444444444444,
              "#bd3786"
             ],
             [
              0.5555555555555556,
              "#d8576b"
             ],
             [
              0.6666666666666666,
              "#ed7953"
             ],
             [
              0.7777777777777778,
              "#fb9f3a"
             ],
             [
              0.8888888888888888,
              "#fdca26"
             ],
             [
              1,
              "#f0f921"
             ]
            ],
            "type": "contour"
           }
          ],
          "contourcarpet": [
           {
            "colorbar": {
             "outlinewidth": 0,
             "ticks": ""
            },
            "type": "contourcarpet"
           }
          ],
          "heatmap": [
           {
            "colorbar": {
             "outlinewidth": 0,
             "ticks": ""
            },
            "colorscale": [
             [
              0,
              "#0d0887"
             ],
             [
              0.1111111111111111,
              "#46039f"
             ],
             [
              0.2222222222222222,
              "#7201a8"
             ],
             [
              0.3333333333333333,
              "#9c179e"
             ],
             [
              0.4444444444444444,
              "#bd3786"
             ],
             [
              0.5555555555555556,
              "#d8576b"
             ],
             [
              0.6666666666666666,
              "#ed7953"
             ],
             [
              0.7777777777777778,
              "#fb9f3a"
             ],
             [
              0.8888888888888888,
              "#fdca26"
             ],
             [
              1,
              "#f0f921"
             ]
            ],
            "type": "heatmap"
           }
          ],
          "heatmapgl": [
           {
            "colorbar": {
             "outlinewidth": 0,
             "ticks": ""
            },
            "colorscale": [
             [
              0,
              "#0d0887"
             ],
             [
              0.1111111111111111,
              "#46039f"
             ],
             [
              0.2222222222222222,
              "#7201a8"
             ],
             [
              0.3333333333333333,
              "#9c179e"
             ],
             [
              0.4444444444444444,
              "#bd3786"
             ],
             [
              0.5555555555555556,
              "#d8576b"
             ],
             [
              0.6666666666666666,
              "#ed7953"
             ],
             [
              0.7777777777777778,
              "#fb9f3a"
             ],
             [
              0.8888888888888888,
              "#fdca26"
             ],
             [
              1,
              "#f0f921"
             ]
            ],
            "type": "heatmapgl"
           }
          ],
          "histogram": [
           {
            "marker": {
             "pattern": {
              "fillmode": "overlay",
              "size": 10,
              "solidity": 0.2
             }
            },
            "type": "histogram"
           }
          ],
          "histogram2d": [
           {
            "colorbar": {
             "outlinewidth": 0,
             "ticks": ""
            },
            "colorscale": [
             [
              0,
              "#0d0887"
             ],
             [
              0.1111111111111111,
              "#46039f"
             ],
             [
              0.2222222222222222,
              "#7201a8"
             ],
             [
              0.3333333333333333,
              "#9c179e"
             ],
             [
              0.4444444444444444,
              "#bd3786"
             ],
             [
              0.5555555555555556,
              "#d8576b"
             ],
             [
              0.6666666666666666,
              "#ed7953"
             ],
             [
              0.7777777777777778,
              "#fb9f3a"
             ],
             [
              0.8888888888888888,
              "#fdca26"
             ],
             [
              1,
              "#f0f921"
             ]
            ],
            "type": "histogram2d"
           }
          ],
          "histogram2dcontour": [
           {
            "colorbar": {
             "outlinewidth": 0,
             "ticks": ""
            },
            "colorscale": [
             [
              0,
              "#0d0887"
             ],
             [
              0.1111111111111111,
              "#46039f"
             ],
             [
              0.2222222222222222,
              "#7201a8"
             ],
             [
              0.3333333333333333,
              "#9c179e"
             ],
             [
              0.4444444444444444,
              "#bd3786"
             ],
             [
              0.5555555555555556,
              "#d8576b"
             ],
             [
              0.6666666666666666,
              "#ed7953"
             ],
             [
              0.7777777777777778,
              "#fb9f3a"
             ],
             [
              0.8888888888888888,
              "#fdca26"
             ],
             [
              1,
              "#f0f921"
             ]
            ],
            "type": "histogram2dcontour"
           }
          ],
          "mesh3d": [
           {
            "colorbar": {
             "outlinewidth": 0,
             "ticks": ""
            },
            "type": "mesh3d"
           }
          ],
          "parcoords": [
           {
            "line": {
             "colorbar": {
              "outlinewidth": 0,
              "ticks": ""
             }
            },
            "type": "parcoords"
           }
          ],
          "pie": [
           {
            "automargin": true,
            "type": "pie"
           }
          ],
          "scatter": [
           {
            "fillpattern": {
             "fillmode": "overlay",
             "size": 10,
             "solidity": 0.2
            },
            "type": "scatter"
           }
          ],
          "scatter3d": [
           {
            "line": {
             "colorbar": {
              "outlinewidth": 0,
              "ticks": ""
             }
            },
            "marker": {
             "colorbar": {
              "outlinewidth": 0,
              "ticks": ""
             }
            },
            "type": "scatter3d"
           }
          ],
          "scattercarpet": [
           {
            "marker": {
             "colorbar": {
              "outlinewidth": 0,
              "ticks": ""
             }
            },
            "type": "scattercarpet"
           }
          ],
          "scattergeo": [
           {
            "marker": {
             "colorbar": {
              "outlinewidth": 0,
              "ticks": ""
             }
            },
            "type": "scattergeo"
           }
          ],
          "scattergl": [
           {
            "marker": {
             "colorbar": {
              "outlinewidth": 0,
              "ticks": ""
             }
            },
            "type": "scattergl"
           }
          ],
          "scattermapbox": [
           {
            "marker": {
             "colorbar": {
              "outlinewidth": 0,
              "ticks": ""
             }
            },
            "type": "scattermapbox"
           }
          ],
          "scatterpolar": [
           {
            "marker": {
             "colorbar": {
              "outlinewidth": 0,
              "ticks": ""
             }
            },
            "type": "scatterpolar"
           }
          ],
          "scatterpolargl": [
           {
            "marker": {
             "colorbar": {
              "outlinewidth": 0,
              "ticks": ""
             }
            },
            "type": "scatterpolargl"
           }
          ],
          "scatterternary": [
           {
            "marker": {
             "colorbar": {
              "outlinewidth": 0,
              "ticks": ""
             }
            },
            "type": "scatterternary"
           }
          ],
          "surface": [
           {
            "colorbar": {
             "outlinewidth": 0,
             "ticks": ""
            },
            "colorscale": [
             [
              0,
              "#0d0887"
             ],
             [
              0.1111111111111111,
              "#46039f"
             ],
             [
              0.2222222222222222,
              "#7201a8"
             ],
             [
              0.3333333333333333,
              "#9c179e"
             ],
             [
              0.4444444444444444,
              "#bd3786"
             ],
             [
              0.5555555555555556,
              "#d8576b"
             ],
             [
              0.6666666666666666,
              "#ed7953"
             ],
             [
              0.7777777777777778,
              "#fb9f3a"
             ],
             [
              0.8888888888888888,
              "#fdca26"
             ],
             [
              1,
              "#f0f921"
             ]
            ],
            "type": "surface"
           }
          ],
          "table": [
           {
            "cells": {
             "fill": {
              "color": "#EBF0F8"
             },
             "line": {
              "color": "white"
             }
            },
            "header": {
             "fill": {
              "color": "#C8D4E3"
             },
             "line": {
              "color": "white"
             }
            },
            "type": "table"
           }
          ]
         },
         "layout": {
          "annotationdefaults": {
           "arrowcolor": "#2a3f5f",
           "arrowhead": 0,
           "arrowwidth": 1
          },
          "autotypenumbers": "strict",
          "coloraxis": {
           "colorbar": {
            "outlinewidth": 0,
            "ticks": ""
           }
          },
          "colorscale": {
           "diverging": [
            [
             0,
             "#8e0152"
            ],
            [
             0.1,
             "#c51b7d"
            ],
            [
             0.2,
             "#de77ae"
            ],
            [
             0.3,
             "#f1b6da"
            ],
            [
             0.4,
             "#fde0ef"
            ],
            [
             0.5,
             "#f7f7f7"
            ],
            [
             0.6,
             "#e6f5d0"
            ],
            [
             0.7,
             "#b8e186"
            ],
            [
             0.8,
             "#7fbc41"
            ],
            [
             0.9,
             "#4d9221"
            ],
            [
             1,
             "#276419"
            ]
           ],
           "sequential": [
            [
             0,
             "#0d0887"
            ],
            [
             0.1111111111111111,
             "#46039f"
            ],
            [
             0.2222222222222222,
             "#7201a8"
            ],
            [
             0.3333333333333333,
             "#9c179e"
            ],
            [
             0.4444444444444444,
             "#bd3786"
            ],
            [
             0.5555555555555556,
             "#d8576b"
            ],
            [
             0.6666666666666666,
             "#ed7953"
            ],
            [
             0.7777777777777778,
             "#fb9f3a"
            ],
            [
             0.8888888888888888,
             "#fdca26"
            ],
            [
             1,
             "#f0f921"
            ]
           ],
           "sequentialminus": [
            [
             0,
             "#0d0887"
            ],
            [
             0.1111111111111111,
             "#46039f"
            ],
            [
             0.2222222222222222,
             "#7201a8"
            ],
            [
             0.3333333333333333,
             "#9c179e"
            ],
            [
             0.4444444444444444,
             "#bd3786"
            ],
            [
             0.5555555555555556,
             "#d8576b"
            ],
            [
             0.6666666666666666,
             "#ed7953"
            ],
            [
             0.7777777777777778,
             "#fb9f3a"
            ],
            [
             0.8888888888888888,
             "#fdca26"
            ],
            [
             1,
             "#f0f921"
            ]
           ]
          },
          "colorway": [
           "#636efa",
           "#EF553B",
           "#00cc96",
           "#ab63fa",
           "#FFA15A",
           "#19d3f3",
           "#FF6692",
           "#B6E880",
           "#FF97FF",
           "#FECB52"
          ],
          "font": {
           "color": "#2a3f5f"
          },
          "geo": {
           "bgcolor": "white",
           "lakecolor": "white",
           "landcolor": "#E5ECF6",
           "showlakes": true,
           "showland": true,
           "subunitcolor": "white"
          },
          "hoverlabel": {
           "align": "left"
          },
          "hovermode": "closest",
          "mapbox": {
           "style": "light"
          },
          "paper_bgcolor": "white",
          "plot_bgcolor": "#E5ECF6",
          "polar": {
           "angularaxis": {
            "gridcolor": "white",
            "linecolor": "white",
            "ticks": ""
           },
           "bgcolor": "#E5ECF6",
           "radialaxis": {
            "gridcolor": "white",
            "linecolor": "white",
            "ticks": ""
           }
          },
          "scene": {
           "xaxis": {
            "backgroundcolor": "#E5ECF6",
            "gridcolor": "white",
            "gridwidth": 2,
            "linecolor": "white",
            "showbackground": true,
            "ticks": "",
            "zerolinecolor": "white"
           },
           "yaxis": {
            "backgroundcolor": "#E5ECF6",
            "gridcolor": "white",
            "gridwidth": 2,
            "linecolor": "white",
            "showbackground": true,
            "ticks": "",
            "zerolinecolor": "white"
           },
           "zaxis": {
            "backgroundcolor": "#E5ECF6",
            "gridcolor": "white",
            "gridwidth": 2,
            "linecolor": "white",
            "showbackground": true,
            "ticks": "",
            "zerolinecolor": "white"
           }
          },
          "shapedefaults": {
           "line": {
            "color": "#2a3f5f"
           }
          },
          "ternary": {
           "aaxis": {
            "gridcolor": "white",
            "linecolor": "white",
            "ticks": ""
           },
           "baxis": {
            "gridcolor": "white",
            "linecolor": "white",
            "ticks": ""
           },
           "bgcolor": "#E5ECF6",
           "caxis": {
            "gridcolor": "white",
            "linecolor": "white",
            "ticks": ""
           }
          },
          "title": {
           "x": 0.05
          },
          "xaxis": {
           "automargin": true,
           "gridcolor": "white",
           "linecolor": "white",
           "ticks": "",
           "title": {
            "standoff": 15
           },
           "zerolinecolor": "white",
           "zerolinewidth": 2
          },
          "yaxis": {
           "automargin": true,
           "gridcolor": "white",
           "linecolor": "white",
           "ticks": "",
           "title": {
            "standoff": 15
           },
           "zerolinecolor": "white",
           "zerolinewidth": 2
          }
         }
        },
        "title": {
         "text": "World Map with style preference clusters"
        },
        "width": 1200
       }
      }
     },
     "metadata": {},
     "output_type": "display_data"
    }
   ],
   "source": [
    "fig = go.Figure(data=go.Scattergeo(\n",
    "        lon = plotting_data['Longitude'],\n",
    "        lat = plotting_data['Latitude'],\n",
    "        text = plotting_data.index,\n",
    "        hovertext=plotting_data.index,\n",
    "        hoverinfo='text',\n",
    "        mode = 'markers',\n",
    "        marker_color = plotting_data['Cluster'],\n",
    "        hovertemplate='%{text}<br>Cluster: %{marker.color}<extra></extra>',\n",
    "        ))\n",
    "\n",
    "# Customize the layout and show the plot\n",
    "fig.update_layout(\n",
    "    geo=go.layout.Geo(\n",
    "        showframe=True,\n",
    "        showcoastlines=True,\n",
    "        projection_type='natural earth2',\n",
    "        showcountries= True\n",
    "    ),\n",
    "    hovermode='closest',\n",
    "    width=1200,\n",
    "    height=900,\n",
    "    title='World Map with style preference clusters',\n",
    "    paper_bgcolor = 'rgba(0,0,0,0)'\n",
    ")\n",
    "\n",
    "fig.show()\n",
    "\n",
    "fig.write_html('../plots_html/map2.html')"
   ]
  },
  {
   "attachments": {},
   "cell_type": "markdown",
   "metadata": {},
   "source": [
    "We definitely see major region clusters on this map, the largest 10 clusters are represented below:"
   ]
  },
  {
   "cell_type": "code",
   "execution_count": null,
   "metadata": {},
   "outputs": [
    {
     "name": "stdout",
     "output_type": "stream",
     "text": [
      "The largest clusters of countries are:\n"
     ]
    },
    {
     "data": {
      "text/plain": [
       "9     38\n",
       "0     34\n",
       "5     30\n",
       "4     24\n",
       "3     19\n",
       "2     18\n",
       "6     15\n",
       "16     9\n",
       "23     9\n",
       "1      5\n",
       "Name: Cluster, dtype: int64"
      ]
     },
     "metadata": {},
     "output_type": "display_data"
    }
   ],
   "source": [
    "print('The largest clusters of countries are:')\n",
    "clusters_data['Cluster'].value_counts().head(10)"
   ]
  },
  {
   "attachments": {},
   "cell_type": "markdown",
   "metadata": {},
   "source": [
    "We consider some of the clusters and want to identify which styles they like and how they do so:\n",
    "\n",
    "- Cluster 9 corresponds to mostly European countries (including Germany, Denmark, France, Switzerland etc.) and other countries around the world that do not cluster in a specific way\n",
    "- Cluster 0 contains most states from the United States\n",
    "- Cluster 2 contains a lot of south american countries\n",
    "- Cluster 4 contains states from the east coast of the United States\n",
    "\n",
    "The other large clusters had countries spread out in the world without any particular geographical/regional clustering so we omit them for the following analysis:"
   ]
  },
  {
   "cell_type": "code",
   "execution_count": null,
   "metadata": {},
   "outputs": [],
   "source": [
    "cluster_vectors = clusters_data.groupby('Cluster').mean()\n",
    "indices_clusters = [ 9,  0,  2, 4]\n",
    "radar_plot_data = cluster_vectors.iloc[indices_clusters]"
   ]
  },
  {
   "cell_type": "code",
   "execution_count": null,
   "metadata": {},
   "outputs": [
    {
     "data": {
      "text/html": [
       "<div>\n",
       "<style scoped>\n",
       "    .dataframe tbody tr th:only-of-type {\n",
       "        vertical-align: middle;\n",
       "    }\n",
       "\n",
       "    .dataframe tbody tr th {\n",
       "        vertical-align: top;\n",
       "    }\n",
       "\n",
       "    .dataframe thead th {\n",
       "        text-align: right;\n",
       "    }\n",
       "</style>\n",
       "<table border=\"1\" class=\"dataframe\">\n",
       "  <thead>\n",
       "    <tr style=\"text-align: right;\">\n",
       "      <th></th>\n",
       "      <th>Pale Lager</th>\n",
       "      <th>American IPA</th>\n",
       "      <th>India Pale Ale (IPA)</th>\n",
       "      <th>Imperial Stout</th>\n",
       "      <th>Golden Ale/Blond Ale</th>\n",
       "      <th>Euro Pale Lager</th>\n",
       "      <th>Amber Lager/Vienna</th>\n",
       "      <th>Pilsener</th>\n",
       "      <th>Malt Liquor</th>\n",
       "      <th>Porter</th>\n",
       "      <th>...</th>\n",
       "      <th>Irish Ale</th>\n",
       "      <th>Dry Stout</th>\n",
       "      <th>English Pale Ale</th>\n",
       "      <th>Baltic Porter</th>\n",
       "      <th>Amber Ale</th>\n",
       "      <th>Fruit Beer</th>\n",
       "      <th>Spice/Herb/Vegetable</th>\n",
       "      <th>Barley Wine</th>\n",
       "      <th>English Porter</th>\n",
       "      <th>Zwickel/Keller/Landbier</th>\n",
       "    </tr>\n",
       "    <tr>\n",
       "      <th>Cluster</th>\n",
       "      <th></th>\n",
       "      <th></th>\n",
       "      <th></th>\n",
       "      <th></th>\n",
       "      <th></th>\n",
       "      <th></th>\n",
       "      <th></th>\n",
       "      <th></th>\n",
       "      <th></th>\n",
       "      <th></th>\n",
       "      <th></th>\n",
       "      <th></th>\n",
       "      <th></th>\n",
       "      <th></th>\n",
       "      <th></th>\n",
       "      <th></th>\n",
       "      <th></th>\n",
       "      <th></th>\n",
       "      <th></th>\n",
       "      <th></th>\n",
       "      <th></th>\n",
       "    </tr>\n",
       "  </thead>\n",
       "  <tbody>\n",
       "    <tr>\n",
       "      <th>9</th>\n",
       "      <td>0.208863</td>\n",
       "      <td>0.034842</td>\n",
       "      <td>0.528619</td>\n",
       "      <td>0.277967</td>\n",
       "      <td>0.107594</td>\n",
       "      <td>0.012639</td>\n",
       "      <td>0.053776</td>\n",
       "      <td>0.130324</td>\n",
       "      <td>0.008728</td>\n",
       "      <td>0.140967</td>\n",
       "      <td>...</td>\n",
       "      <td>0.022142</td>\n",
       "      <td>0.035551</td>\n",
       "      <td>0.042233</td>\n",
       "      <td>0.046922</td>\n",
       "      <td>0.107899</td>\n",
       "      <td>0.080505</td>\n",
       "      <td>0.118617</td>\n",
       "      <td>0.080839</td>\n",
       "      <td>0.004621</td>\n",
       "      <td>0.045779</td>\n",
       "    </tr>\n",
       "    <tr>\n",
       "      <th>0</th>\n",
       "      <td>0.104459</td>\n",
       "      <td>0.353194</td>\n",
       "      <td>0.388949</td>\n",
       "      <td>0.278268</td>\n",
       "      <td>0.052707</td>\n",
       "      <td>0.017886</td>\n",
       "      <td>0.045462</td>\n",
       "      <td>0.059668</td>\n",
       "      <td>0.009883</td>\n",
       "      <td>0.141269</td>\n",
       "      <td>...</td>\n",
       "      <td>0.020341</td>\n",
       "      <td>0.034156</td>\n",
       "      <td>0.054005</td>\n",
       "      <td>0.052022</td>\n",
       "      <td>0.093887</td>\n",
       "      <td>0.087616</td>\n",
       "      <td>0.107632</td>\n",
       "      <td>0.118438</td>\n",
       "      <td>0.022835</td>\n",
       "      <td>0.011157</td>\n",
       "    </tr>\n",
       "    <tr>\n",
       "      <th>2</th>\n",
       "      <td>0.472086</td>\n",
       "      <td>0.023198</td>\n",
       "      <td>0.399137</td>\n",
       "      <td>0.123523</td>\n",
       "      <td>0.098583</td>\n",
       "      <td>0.040391</td>\n",
       "      <td>0.087561</td>\n",
       "      <td>0.171018</td>\n",
       "      <td>0.012796</td>\n",
       "      <td>0.142507</td>\n",
       "      <td>...</td>\n",
       "      <td>0.027665</td>\n",
       "      <td>0.058443</td>\n",
       "      <td>0.039242</td>\n",
       "      <td>0.086690</td>\n",
       "      <td>0.091950</td>\n",
       "      <td>0.091237</td>\n",
       "      <td>0.108367</td>\n",
       "      <td>0.055718</td>\n",
       "      <td>0.004661</td>\n",
       "      <td>0.037189</td>\n",
       "    </tr>\n",
       "    <tr>\n",
       "      <th>4</th>\n",
       "      <td>0.078445</td>\n",
       "      <td>0.504354</td>\n",
       "      <td>0.119154</td>\n",
       "      <td>0.071638</td>\n",
       "      <td>0.043164</td>\n",
       "      <td>0.053616</td>\n",
       "      <td>0.019142</td>\n",
       "      <td>0.020850</td>\n",
       "      <td>0.003946</td>\n",
       "      <td>0.049213</td>\n",
       "      <td>...</td>\n",
       "      <td>0.014500</td>\n",
       "      <td>0.014919</td>\n",
       "      <td>0.079634</td>\n",
       "      <td>0.041458</td>\n",
       "      <td>0.035088</td>\n",
       "      <td>0.030459</td>\n",
       "      <td>0.031484</td>\n",
       "      <td>0.029657</td>\n",
       "      <td>0.052681</td>\n",
       "      <td>0.002625</td>\n",
       "    </tr>\n",
       "  </tbody>\n",
       "</table>\n",
       "<p>4 rows × 41 columns</p>\n",
       "</div>"
      ],
      "text/plain": [
       "         Pale Lager  American IPA  India Pale Ale (IPA)  Imperial Stout  \\\n",
       "Cluster                                                                   \n",
       "9          0.208863      0.034842              0.528619        0.277967   \n",
       "0          0.104459      0.353194              0.388949        0.278268   \n",
       "2          0.472086      0.023198              0.399137        0.123523   \n",
       "4          0.078445      0.504354              0.119154        0.071638   \n",
       "\n",
       "         Golden Ale/Blond Ale  Euro Pale Lager  Amber Lager/Vienna  Pilsener  \\\n",
       "Cluster                                                                        \n",
       "9                    0.107594         0.012639            0.053776  0.130324   \n",
       "0                    0.052707         0.017886            0.045462  0.059668   \n",
       "2                    0.098583         0.040391            0.087561  0.171018   \n",
       "4                    0.043164         0.053616            0.019142  0.020850   \n",
       "\n",
       "         Malt Liquor    Porter  ...  Irish Ale  Dry Stout  English Pale Ale  \\\n",
       "Cluster                         ...                                           \n",
       "9           0.008728  0.140967  ...   0.022142   0.035551          0.042233   \n",
       "0           0.009883  0.141269  ...   0.020341   0.034156          0.054005   \n",
       "2           0.012796  0.142507  ...   0.027665   0.058443          0.039242   \n",
       "4           0.003946  0.049213  ...   0.014500   0.014919          0.079634   \n",
       "\n",
       "         Baltic Porter  Amber Ale  Fruit Beer  Spice/Herb/Vegetable  \\\n",
       "Cluster                                                               \n",
       "9             0.046922   0.107899    0.080505              0.118617   \n",
       "0             0.052022   0.093887    0.087616              0.107632   \n",
       "2             0.086690   0.091950    0.091237              0.108367   \n",
       "4             0.041458   0.035088    0.030459              0.031484   \n",
       "\n",
       "         Barley Wine  English Porter  Zwickel/Keller/Landbier  \n",
       "Cluster                                                        \n",
       "9           0.080839        0.004621                 0.045779  \n",
       "0           0.118438        0.022835                 0.011157  \n",
       "2           0.055718        0.004661                 0.037189  \n",
       "4           0.029657        0.052681                 0.002625  \n",
       "\n",
       "[4 rows x 41 columns]"
      ]
     },
     "metadata": {},
     "output_type": "display_data"
    }
   ],
   "source": [
    "radar_plot_data"
   ]
  },
  {
   "attachments": {},
   "cell_type": "markdown",
   "metadata": {},
   "source": [
    "We want to plot a radar plot with the most interesting categories of beer according to the clusters, since there are 41 styles of beers we extract the ones with the highest absolute value for loadings on PC1 :"
   ]
  },
  {
   "cell_type": "code",
   "execution_count": null,
   "metadata": {},
   "outputs": [],
   "source": [
    "most_present_styles = abs(out['loadings'].loc['PC1']).sort_values(ascending= False).head(30).index"
   ]
  },
  {
   "cell_type": "code",
   "execution_count": null,
   "metadata": {},
   "outputs": [],
   "source": [
    "radar_plot_df =  radar_plot_data.loc[:, radar_plot_data.columns.isin(most_present_styles)]"
   ]
  },
  {
   "attachments": {},
   "cell_type": "markdown",
   "metadata": {},
   "source": [
    "We want the radar plot to have the categories spread out and not in a particular order so we generate a df_radar_shuffled which contains the same data as above but with the columns shuffled:"
   ]
  },
  {
   "cell_type": "code",
   "execution_count": null,
   "metadata": {},
   "outputs": [
    {
     "data": {
      "text/html": [
       "<div>\n",
       "<style scoped>\n",
       "    .dataframe tbody tr th:only-of-type {\n",
       "        vertical-align: middle;\n",
       "    }\n",
       "\n",
       "    .dataframe tbody tr th {\n",
       "        vertical-align: top;\n",
       "    }\n",
       "\n",
       "    .dataframe thead th {\n",
       "        text-align: right;\n",
       "    }\n",
       "</style>\n",
       "<table border=\"1\" class=\"dataframe\">\n",
       "  <thead>\n",
       "    <tr style=\"text-align: right;\">\n",
       "      <th></th>\n",
       "      <th>Cluster</th>\n",
       "      <th>Spice/Herb/Vegetable</th>\n",
       "      <th>English Stout</th>\n",
       "      <th>Barley Wine</th>\n",
       "      <th>Dunkel/Tmavý</th>\n",
       "      <th>Belgian Strong Pale Ale</th>\n",
       "      <th>Milk / Sweet Stout</th>\n",
       "      <th>Bitter</th>\n",
       "      <th>Brown Ale</th>\n",
       "      <th>Fruit Beer</th>\n",
       "      <th>...</th>\n",
       "      <th>Cream Ale</th>\n",
       "      <th>Euro Pale Lager</th>\n",
       "      <th>American IPA</th>\n",
       "      <th>Pale Lager</th>\n",
       "      <th>Pilsener</th>\n",
       "      <th>Baltic Porter</th>\n",
       "      <th>Porter</th>\n",
       "      <th>English Porter</th>\n",
       "      <th>Premium Bitter/ESB</th>\n",
       "      <th>Russian Imperial Stout</th>\n",
       "    </tr>\n",
       "  </thead>\n",
       "  <tbody>\n",
       "    <tr>\n",
       "      <th>0</th>\n",
       "      <td>9</td>\n",
       "      <td>0.118617</td>\n",
       "      <td>0.002019</td>\n",
       "      <td>0.080839</td>\n",
       "      <td>0.077308</td>\n",
       "      <td>0.010485</td>\n",
       "      <td>0.004419</td>\n",
       "      <td>0.069230</td>\n",
       "      <td>0.081176</td>\n",
       "      <td>0.080505</td>\n",
       "      <td>...</td>\n",
       "      <td>0.009569</td>\n",
       "      <td>0.012639</td>\n",
       "      <td>0.034842</td>\n",
       "      <td>0.208863</td>\n",
       "      <td>0.130324</td>\n",
       "      <td>0.046922</td>\n",
       "      <td>0.140967</td>\n",
       "      <td>0.004621</td>\n",
       "      <td>0.069758</td>\n",
       "      <td>0.011456</td>\n",
       "    </tr>\n",
       "    <tr>\n",
       "      <th>1</th>\n",
       "      <td>0</td>\n",
       "      <td>0.107632</td>\n",
       "      <td>0.006342</td>\n",
       "      <td>0.118438</td>\n",
       "      <td>0.027496</td>\n",
       "      <td>0.054429</td>\n",
       "      <td>0.045286</td>\n",
       "      <td>0.023534</td>\n",
       "      <td>0.097665</td>\n",
       "      <td>0.087616</td>\n",
       "      <td>...</td>\n",
       "      <td>0.024331</td>\n",
       "      <td>0.017886</td>\n",
       "      <td>0.353194</td>\n",
       "      <td>0.104459</td>\n",
       "      <td>0.059668</td>\n",
       "      <td>0.052022</td>\n",
       "      <td>0.141269</td>\n",
       "      <td>0.022835</td>\n",
       "      <td>0.056109</td>\n",
       "      <td>0.128991</td>\n",
       "    </tr>\n",
       "    <tr>\n",
       "      <th>2</th>\n",
       "      <td>2</td>\n",
       "      <td>0.108367</td>\n",
       "      <td>0.002703</td>\n",
       "      <td>0.055718</td>\n",
       "      <td>0.125115</td>\n",
       "      <td>0.016437</td>\n",
       "      <td>0.003009</td>\n",
       "      <td>0.053451</td>\n",
       "      <td>0.066143</td>\n",
       "      <td>0.091237</td>\n",
       "      <td>...</td>\n",
       "      <td>0.004001</td>\n",
       "      <td>0.040391</td>\n",
       "      <td>0.023198</td>\n",
       "      <td>0.472086</td>\n",
       "      <td>0.171018</td>\n",
       "      <td>0.086690</td>\n",
       "      <td>0.142507</td>\n",
       "      <td>0.004661</td>\n",
       "      <td>0.085735</td>\n",
       "      <td>0.015679</td>\n",
       "    </tr>\n",
       "    <tr>\n",
       "      <th>3</th>\n",
       "      <td>4</td>\n",
       "      <td>0.031484</td>\n",
       "      <td>0.008851</td>\n",
       "      <td>0.029657</td>\n",
       "      <td>0.008698</td>\n",
       "      <td>0.063882</td>\n",
       "      <td>0.058073</td>\n",
       "      <td>0.019102</td>\n",
       "      <td>0.035297</td>\n",
       "      <td>0.030459</td>\n",
       "      <td>...</td>\n",
       "      <td>0.017187</td>\n",
       "      <td>0.053616</td>\n",
       "      <td>0.504354</td>\n",
       "      <td>0.078445</td>\n",
       "      <td>0.020850</td>\n",
       "      <td>0.041458</td>\n",
       "      <td>0.049213</td>\n",
       "      <td>0.052681</td>\n",
       "      <td>0.024439</td>\n",
       "      <td>0.153335</td>\n",
       "    </tr>\n",
       "  </tbody>\n",
       "</table>\n",
       "<p>4 rows × 28 columns</p>\n",
       "</div>"
      ],
      "text/plain": [
       "   Cluster  Spice/Herb/Vegetable  English Stout  Barley Wine  Dunkel/Tmavý  \\\n",
       "0        9              0.118617       0.002019     0.080839      0.077308   \n",
       "1        0              0.107632       0.006342     0.118438      0.027496   \n",
       "2        2              0.108367       0.002703     0.055718      0.125115   \n",
       "3        4              0.031484       0.008851     0.029657      0.008698   \n",
       "\n",
       "   Belgian Strong Pale Ale  Milk / Sweet Stout    Bitter  Brown Ale  \\\n",
       "0                 0.010485            0.004419  0.069230   0.081176   \n",
       "1                 0.054429            0.045286  0.023534   0.097665   \n",
       "2                 0.016437            0.003009  0.053451   0.066143   \n",
       "3                 0.063882            0.058073  0.019102   0.035297   \n",
       "\n",
       "   Fruit Beer  ...  Cream Ale  Euro Pale Lager  American IPA  Pale Lager  \\\n",
       "0    0.080505  ...   0.009569         0.012639      0.034842    0.208863   \n",
       "1    0.087616  ...   0.024331         0.017886      0.353194    0.104459   \n",
       "2    0.091237  ...   0.004001         0.040391      0.023198    0.472086   \n",
       "3    0.030459  ...   0.017187         0.053616      0.504354    0.078445   \n",
       "\n",
       "   Pilsener  Baltic Porter    Porter  English Porter  Premium Bitter/ESB  \\\n",
       "0  0.130324       0.046922  0.140967        0.004621            0.069758   \n",
       "1  0.059668       0.052022  0.141269        0.022835            0.056109   \n",
       "2  0.171018       0.086690  0.142507        0.004661            0.085735   \n",
       "3  0.020850       0.041458  0.049213        0.052681            0.024439   \n",
       "\n",
       "   Russian Imperial Stout  \n",
       "0                0.011456  \n",
       "1                0.128991  \n",
       "2                0.015679  \n",
       "3                0.153335  \n",
       "\n",
       "[4 rows x 28 columns]"
      ]
     },
     "metadata": {},
     "output_type": "display_data"
    }
   ],
   "source": [
    "# Generate a random permutation of the column indices\n",
    "perm = np.random.permutation(radar_plot_df.shape[1])\n",
    "\n",
    "# Shuffle the column order of the dataframe\n",
    "df_radar_shuffled = radar_plot_df.iloc[:, perm]\n",
    "df_radar_shuffled.reset_index(inplace=True)\n",
    "df_radar_shuffled = df_radar_shuffled.rename(columns = {'index':'Cluster'})\n",
    "\n",
    "df_radar_shuffled"
   ]
  },
  {
   "cell_type": "code",
   "execution_count": null,
   "metadata": {},
   "outputs": [
    {
     "data": {
      "application/vnd.plotly.v1+json": {
       "config": {
        "plotlyServerURL": "https://plot.ly"
       },
       "data": [
        {
         "fill": "toself",
         "name": "Cluster 7",
         "r": [
          0.11861684323852383,
          0.002019165294030888,
          0.0808393189183979,
          0.07730849591284998,
          0.010485469164640885,
          0.004419139831975514,
          0.06922967583277197,
          0.08117590435520916,
          0.08050454786644222,
          0.277967481277789,
          0.042233267122077735,
          0.0572644369601356,
          0.04577945903016831,
          0.01892974202421737,
          0.0018565906198923414,
          0.05476219056414706,
          0.12844378951106966,
          0.009568792738164425,
          0.012639045019099055,
          0.03484182577568278,
          0.20886289905186933,
          0.13032440099346798,
          0.04692219493689248,
          0.14096736622919345,
          0.004621058331530086,
          0.0697578162700282,
          0.011456340441518659
         ],
         "theta": [
          "Spice/Herb/Vegetable",
          "English Stout",
          "Barley Wine",
          "Dunkel/Tmavý",
          "Belgian Strong Pale Ale",
          "Milk / Sweet Stout",
          "Bitter",
          "Brown Ale",
          "Fruit Beer",
          "Imperial Stout",
          "English Pale Ale",
          "Abt/Quadrupel",
          "Zwickel/Keller/Landbier",
          "American Pale Ale (APA)",
          "Maibock / Helles Bock",
          "English Strong Ale",
          "Stout",
          "Cream Ale",
          "Euro Pale Lager",
          "American IPA",
          "Pale Lager",
          "Pilsener",
          "Baltic Porter",
          "Porter",
          "English Porter",
          "Premium Bitter/ESB",
          "Russian Imperial Stout"
         ],
         "type": "scatterpolar"
        },
        {
         "fill": "toself",
         "name": "Cluster 4",
         "r": [
          0.10763180446088116,
          0.006342307892448272,
          0.11843771635952809,
          0.02749596136635282,
          0.054429494744285635,
          0.045285731347739555,
          0.023534055604585356,
          0.09766505894119831,
          0.08761615892812426,
          0.2782680768538425,
          0.05400510832521788,
          0.05167329089028281,
          0.011156799008525906,
          0.1471623465298824,
          0.021720370657744646,
          0.047684053856387104,
          0.0940834930273038,
          0.02433104953073876,
          0.017885830556994716,
          0.3531944297190987,
          0.10445936577746441,
          0.05966764622110943,
          0.052021706176851826,
          0.14126924505372218,
          0.0228346703878759,
          0.05610932128294427,
          0.12899121784032772
         ],
         "theta": [
          "Spice/Herb/Vegetable",
          "English Stout",
          "Barley Wine",
          "Dunkel/Tmavý",
          "Belgian Strong Pale Ale",
          "Milk / Sweet Stout",
          "Bitter",
          "Brown Ale",
          "Fruit Beer",
          "Imperial Stout",
          "English Pale Ale",
          "Abt/Quadrupel",
          "Zwickel/Keller/Landbier",
          "American Pale Ale (APA)",
          "Maibock / Helles Bock",
          "English Strong Ale",
          "Stout",
          "Cream Ale",
          "Euro Pale Lager",
          "American IPA",
          "Pale Lager",
          "Pilsener",
          "Baltic Porter",
          "Porter",
          "English Porter",
          "Premium Bitter/ESB",
          "Russian Imperial Stout"
         ],
         "type": "scatterpolar"
        },
        {
         "fill": "toself",
         "name": "Cluster 10",
         "r": [
          0.10836662649829311,
          0.002702833131938461,
          0.05571848016898399,
          0.12511547115678986,
          0.016437193891690093,
          0.003008812873670195,
          0.053450816013124944,
          0.0661429131050729,
          0.09123696788748614,
          0.12352292759723832,
          0.03924242473338374,
          0.0564012896860482,
          0.03718886975678626,
          0.008831311878773672,
          0.0010342547154897942,
          0.071351027180913,
          0.13344829596739305,
          0.00400118802045395,
          0.040390698800127564,
          0.02319793231765017,
          0.47208632980259224,
          0.1710183641253438,
          0.08668991197068329,
          0.14250664535540553,
          0.004661179529954039,
          0.08573546933140512,
          0.01567875205953169
         ],
         "theta": [
          "Spice/Herb/Vegetable",
          "English Stout",
          "Barley Wine",
          "Dunkel/Tmavý",
          "Belgian Strong Pale Ale",
          "Milk / Sweet Stout",
          "Bitter",
          "Brown Ale",
          "Fruit Beer",
          "Imperial Stout",
          "English Pale Ale",
          "Abt/Quadrupel",
          "Zwickel/Keller/Landbier",
          "American Pale Ale (APA)",
          "Maibock / Helles Bock",
          "English Strong Ale",
          "Stout",
          "Cream Ale",
          "Euro Pale Lager",
          "American IPA",
          "Pale Lager",
          "Pilsener",
          "Baltic Porter",
          "Porter",
          "English Porter",
          "Premium Bitter/ESB",
          "Russian Imperial Stout"
         ],
         "type": "scatterpolar"
        },
        {
         "fill": "toself",
         "name": "Cluster 6",
         "r": [
          0.03148386692789473,
          0.008850913283982983,
          0.029656840999202034,
          0.008697968958698071,
          0.06388186703768882,
          0.05807276920912662,
          0.01910198772300221,
          0.03529657025925023,
          0.03045893679675458,
          0.0716383714553961,
          0.07963392865188128,
          0.018334179183269423,
          0.002625123422968808,
          0.19504988718003366,
          0.05652161495496422,
          0.0331459038659676,
          0.0317958062526589,
          0.017187042945586213,
          0.053615668420692895,
          0.5043543895285462,
          0.07844455416072761,
          0.020849670141028176,
          0.04145763610951401,
          0.04921318424217727,
          0.052681065955576624,
          0.024439434797103147,
          0.1533348203443418
         ],
         "theta": [
          "Spice/Herb/Vegetable",
          "English Stout",
          "Barley Wine",
          "Dunkel/Tmavý",
          "Belgian Strong Pale Ale",
          "Milk / Sweet Stout",
          "Bitter",
          "Brown Ale",
          "Fruit Beer",
          "Imperial Stout",
          "English Pale Ale",
          "Abt/Quadrupel",
          "Zwickel/Keller/Landbier",
          "American Pale Ale (APA)",
          "Maibock / Helles Bock",
          "English Strong Ale",
          "Stout",
          "Cream Ale",
          "Euro Pale Lager",
          "American IPA",
          "Pale Lager",
          "Pilsener",
          "Baltic Porter",
          "Porter",
          "English Porter",
          "Premium Bitter/ESB",
          "Russian Imperial Stout"
         ],
         "type": "scatterpolar"
        }
       ],
       "layout": {
        "height": 600,
        "paper_bgcolor": "rgba(0,0,0,0)",
        "polar": {
         "radialaxis": {
          "range": [
           0,
           0.6
          ],
          "visible": true
         }
        },
        "showlegend": true,
        "template": {
         "data": {
          "bar": [
           {
            "error_x": {
             "color": "#2a3f5f"
            },
            "error_y": {
             "color": "#2a3f5f"
            },
            "marker": {
             "line": {
              "color": "#E5ECF6",
              "width": 0.5
             },
             "pattern": {
              "fillmode": "overlay",
              "size": 10,
              "solidity": 0.2
             }
            },
            "type": "bar"
           }
          ],
          "barpolar": [
           {
            "marker": {
             "line": {
              "color": "#E5ECF6",
              "width": 0.5
             },
             "pattern": {
              "fillmode": "overlay",
              "size": 10,
              "solidity": 0.2
             }
            },
            "type": "barpolar"
           }
          ],
          "carpet": [
           {
            "aaxis": {
             "endlinecolor": "#2a3f5f",
             "gridcolor": "white",
             "linecolor": "white",
             "minorgridcolor": "white",
             "startlinecolor": "#2a3f5f"
            },
            "baxis": {
             "endlinecolor": "#2a3f5f",
             "gridcolor": "white",
             "linecolor": "white",
             "minorgridcolor": "white",
             "startlinecolor": "#2a3f5f"
            },
            "type": "carpet"
           }
          ],
          "choropleth": [
           {
            "colorbar": {
             "outlinewidth": 0,
             "ticks": ""
            },
            "type": "choropleth"
           }
          ],
          "contour": [
           {
            "colorbar": {
             "outlinewidth": 0,
             "ticks": ""
            },
            "colorscale": [
             [
              0,
              "#0d0887"
             ],
             [
              0.1111111111111111,
              "#46039f"
             ],
             [
              0.2222222222222222,
              "#7201a8"
             ],
             [
              0.3333333333333333,
              "#9c179e"
             ],
             [
              0.4444444444444444,
              "#bd3786"
             ],
             [
              0.5555555555555556,
              "#d8576b"
             ],
             [
              0.6666666666666666,
              "#ed7953"
             ],
             [
              0.7777777777777778,
              "#fb9f3a"
             ],
             [
              0.8888888888888888,
              "#fdca26"
             ],
             [
              1,
              "#f0f921"
             ]
            ],
            "type": "contour"
           }
          ],
          "contourcarpet": [
           {
            "colorbar": {
             "outlinewidth": 0,
             "ticks": ""
            },
            "type": "contourcarpet"
           }
          ],
          "heatmap": [
           {
            "colorbar": {
             "outlinewidth": 0,
             "ticks": ""
            },
            "colorscale": [
             [
              0,
              "#0d0887"
             ],
             [
              0.1111111111111111,
              "#46039f"
             ],
             [
              0.2222222222222222,
              "#7201a8"
             ],
             [
              0.3333333333333333,
              "#9c179e"
             ],
             [
              0.4444444444444444,
              "#bd3786"
             ],
             [
              0.5555555555555556,
              "#d8576b"
             ],
             [
              0.6666666666666666,
              "#ed7953"
             ],
             [
              0.7777777777777778,
              "#fb9f3a"
             ],
             [
              0.8888888888888888,
              "#fdca26"
             ],
             [
              1,
              "#f0f921"
             ]
            ],
            "type": "heatmap"
           }
          ],
          "heatmapgl": [
           {
            "colorbar": {
             "outlinewidth": 0,
             "ticks": ""
            },
            "colorscale": [
             [
              0,
              "#0d0887"
             ],
             [
              0.1111111111111111,
              "#46039f"
             ],
             [
              0.2222222222222222,
              "#7201a8"
             ],
             [
              0.3333333333333333,
              "#9c179e"
             ],
             [
              0.4444444444444444,
              "#bd3786"
             ],
             [
              0.5555555555555556,
              "#d8576b"
             ],
             [
              0.6666666666666666,
              "#ed7953"
             ],
             [
              0.7777777777777778,
              "#fb9f3a"
             ],
             [
              0.8888888888888888,
              "#fdca26"
             ],
             [
              1,
              "#f0f921"
             ]
            ],
            "type": "heatmapgl"
           }
          ],
          "histogram": [
           {
            "marker": {
             "pattern": {
              "fillmode": "overlay",
              "size": 10,
              "solidity": 0.2
             }
            },
            "type": "histogram"
           }
          ],
          "histogram2d": [
           {
            "colorbar": {
             "outlinewidth": 0,
             "ticks": ""
            },
            "colorscale": [
             [
              0,
              "#0d0887"
             ],
             [
              0.1111111111111111,
              "#46039f"
             ],
             [
              0.2222222222222222,
              "#7201a8"
             ],
             [
              0.3333333333333333,
              "#9c179e"
             ],
             [
              0.4444444444444444,
              "#bd3786"
             ],
             [
              0.5555555555555556,
              "#d8576b"
             ],
             [
              0.6666666666666666,
              "#ed7953"
             ],
             [
              0.7777777777777778,
              "#fb9f3a"
             ],
             [
              0.8888888888888888,
              "#fdca26"
             ],
             [
              1,
              "#f0f921"
             ]
            ],
            "type": "histogram2d"
           }
          ],
          "histogram2dcontour": [
           {
            "colorbar": {
             "outlinewidth": 0,
             "ticks": ""
            },
            "colorscale": [
             [
              0,
              "#0d0887"
             ],
             [
              0.1111111111111111,
              "#46039f"
             ],
             [
              0.2222222222222222,
              "#7201a8"
             ],
             [
              0.3333333333333333,
              "#9c179e"
             ],
             [
              0.4444444444444444,
              "#bd3786"
             ],
             [
              0.5555555555555556,
              "#d8576b"
             ],
             [
              0.6666666666666666,
              "#ed7953"
             ],
             [
              0.7777777777777778,
              "#fb9f3a"
             ],
             [
              0.8888888888888888,
              "#fdca26"
             ],
             [
              1,
              "#f0f921"
             ]
            ],
            "type": "histogram2dcontour"
           }
          ],
          "mesh3d": [
           {
            "colorbar": {
             "outlinewidth": 0,
             "ticks": ""
            },
            "type": "mesh3d"
           }
          ],
          "parcoords": [
           {
            "line": {
             "colorbar": {
              "outlinewidth": 0,
              "ticks": ""
             }
            },
            "type": "parcoords"
           }
          ],
          "pie": [
           {
            "automargin": true,
            "type": "pie"
           }
          ],
          "scatter": [
           {
            "fillpattern": {
             "fillmode": "overlay",
             "size": 10,
             "solidity": 0.2
            },
            "type": "scatter"
           }
          ],
          "scatter3d": [
           {
            "line": {
             "colorbar": {
              "outlinewidth": 0,
              "ticks": ""
             }
            },
            "marker": {
             "colorbar": {
              "outlinewidth": 0,
              "ticks": ""
             }
            },
            "type": "scatter3d"
           }
          ],
          "scattercarpet": [
           {
            "marker": {
             "colorbar": {
              "outlinewidth": 0,
              "ticks": ""
             }
            },
            "type": "scattercarpet"
           }
          ],
          "scattergeo": [
           {
            "marker": {
             "colorbar": {
              "outlinewidth": 0,
              "ticks": ""
             }
            },
            "type": "scattergeo"
           }
          ],
          "scattergl": [
           {
            "marker": {
             "colorbar": {
              "outlinewidth": 0,
              "ticks": ""
             }
            },
            "type": "scattergl"
           }
          ],
          "scattermapbox": [
           {
            "marker": {
             "colorbar": {
              "outlinewidth": 0,
              "ticks": ""
             }
            },
            "type": "scattermapbox"
           }
          ],
          "scatterpolar": [
           {
            "marker": {
             "colorbar": {
              "outlinewidth": 0,
              "ticks": ""
             }
            },
            "type": "scatterpolar"
           }
          ],
          "scatterpolargl": [
           {
            "marker": {
             "colorbar": {
              "outlinewidth": 0,
              "ticks": ""
             }
            },
            "type": "scatterpolargl"
           }
          ],
          "scatterternary": [
           {
            "marker": {
             "colorbar": {
              "outlinewidth": 0,
              "ticks": ""
             }
            },
            "type": "scatterternary"
           }
          ],
          "surface": [
           {
            "colorbar": {
             "outlinewidth": 0,
             "ticks": ""
            },
            "colorscale": [
             [
              0,
              "#0d0887"
             ],
             [
              0.1111111111111111,
              "#46039f"
             ],
             [
              0.2222222222222222,
              "#7201a8"
             ],
             [
              0.3333333333333333,
              "#9c179e"
             ],
             [
              0.4444444444444444,
              "#bd3786"
             ],
             [
              0.5555555555555556,
              "#d8576b"
             ],
             [
              0.6666666666666666,
              "#ed7953"
             ],
             [
              0.7777777777777778,
              "#fb9f3a"
             ],
             [
              0.8888888888888888,
              "#fdca26"
             ],
             [
              1,
              "#f0f921"
             ]
            ],
            "type": "surface"
           }
          ],
          "table": [
           {
            "cells": {
             "fill": {
              "color": "#EBF0F8"
             },
             "line": {
              "color": "white"
             }
            },
            "header": {
             "fill": {
              "color": "#C8D4E3"
             },
             "line": {
              "color": "white"
             }
            },
            "type": "table"
           }
          ]
         },
         "layout": {
          "annotationdefaults": {
           "arrowcolor": "#2a3f5f",
           "arrowhead": 0,
           "arrowwidth": 1
          },
          "autotypenumbers": "strict",
          "coloraxis": {
           "colorbar": {
            "outlinewidth": 0,
            "ticks": ""
           }
          },
          "colorscale": {
           "diverging": [
            [
             0,
             "#8e0152"
            ],
            [
             0.1,
             "#c51b7d"
            ],
            [
             0.2,
             "#de77ae"
            ],
            [
             0.3,
             "#f1b6da"
            ],
            [
             0.4,
             "#fde0ef"
            ],
            [
             0.5,
             "#f7f7f7"
            ],
            [
             0.6,
             "#e6f5d0"
            ],
            [
             0.7,
             "#b8e186"
            ],
            [
             0.8,
             "#7fbc41"
            ],
            [
             0.9,
             "#4d9221"
            ],
            [
             1,
             "#276419"
            ]
           ],
           "sequential": [
            [
             0,
             "#0d0887"
            ],
            [
             0.1111111111111111,
             "#46039f"
            ],
            [
             0.2222222222222222,
             "#7201a8"
            ],
            [
             0.3333333333333333,
             "#9c179e"
            ],
            [
             0.4444444444444444,
             "#bd3786"
            ],
            [
             0.5555555555555556,
             "#d8576b"
            ],
            [
             0.6666666666666666,
             "#ed7953"
            ],
            [
             0.7777777777777778,
             "#fb9f3a"
            ],
            [
             0.8888888888888888,
             "#fdca26"
            ],
            [
             1,
             "#f0f921"
            ]
           ],
           "sequentialminus": [
            [
             0,
             "#0d0887"
            ],
            [
             0.1111111111111111,
             "#46039f"
            ],
            [
             0.2222222222222222,
             "#7201a8"
            ],
            [
             0.3333333333333333,
             "#9c179e"
            ],
            [
             0.4444444444444444,
             "#bd3786"
            ],
            [
             0.5555555555555556,
             "#d8576b"
            ],
            [
             0.6666666666666666,
             "#ed7953"
            ],
            [
             0.7777777777777778,
             "#fb9f3a"
            ],
            [
             0.8888888888888888,
             "#fdca26"
            ],
            [
             1,
             "#f0f921"
            ]
           ]
          },
          "colorway": [
           "#636efa",
           "#EF553B",
           "#00cc96",
           "#ab63fa",
           "#FFA15A",
           "#19d3f3",
           "#FF6692",
           "#B6E880",
           "#FF97FF",
           "#FECB52"
          ],
          "font": {
           "color": "#2a3f5f"
          },
          "geo": {
           "bgcolor": "white",
           "lakecolor": "white",
           "landcolor": "#E5ECF6",
           "showlakes": true,
           "showland": true,
           "subunitcolor": "white"
          },
          "hoverlabel": {
           "align": "left"
          },
          "hovermode": "closest",
          "mapbox": {
           "style": "light"
          },
          "paper_bgcolor": "white",
          "plot_bgcolor": "#E5ECF6",
          "polar": {
           "angularaxis": {
            "gridcolor": "white",
            "linecolor": "white",
            "ticks": ""
           },
           "bgcolor": "#E5ECF6",
           "radialaxis": {
            "gridcolor": "white",
            "linecolor": "white",
            "ticks": ""
           }
          },
          "scene": {
           "xaxis": {
            "backgroundcolor": "#E5ECF6",
            "gridcolor": "white",
            "gridwidth": 2,
            "linecolor": "white",
            "showbackground": true,
            "ticks": "",
            "zerolinecolor": "white"
           },
           "yaxis": {
            "backgroundcolor": "#E5ECF6",
            "gridcolor": "white",
            "gridwidth": 2,
            "linecolor": "white",
            "showbackground": true,
            "ticks": "",
            "zerolinecolor": "white"
           },
           "zaxis": {
            "backgroundcolor": "#E5ECF6",
            "gridcolor": "white",
            "gridwidth": 2,
            "linecolor": "white",
            "showbackground": true,
            "ticks": "",
            "zerolinecolor": "white"
           }
          },
          "shapedefaults": {
           "line": {
            "color": "#2a3f5f"
           }
          },
          "ternary": {
           "aaxis": {
            "gridcolor": "white",
            "linecolor": "white",
            "ticks": ""
           },
           "baxis": {
            "gridcolor": "white",
            "linecolor": "white",
            "ticks": ""
           },
           "bgcolor": "#E5ECF6",
           "caxis": {
            "gridcolor": "white",
            "linecolor": "white",
            "ticks": ""
           }
          },
          "title": {
           "x": 0.05
          },
          "xaxis": {
           "automargin": true,
           "gridcolor": "white",
           "linecolor": "white",
           "ticks": "",
           "title": {
            "standoff": 15
           },
           "zerolinecolor": "white",
           "zerolinewidth": 2
          },
          "yaxis": {
           "automargin": true,
           "gridcolor": "white",
           "linecolor": "white",
           "ticks": "",
           "title": {
            "standoff": 15
           },
           "zerolinecolor": "white",
           "zerolinewidth": 2
          }
         }
        },
        "title": {
         "text": "Radar Plot for the different styles of beer per cluster"
        },
        "width": 800
       }
      }
     },
     "metadata": {},
     "output_type": "display_data"
    }
   ],
   "source": [
    "#radar plot\n",
    "# number of variable\n",
    "categories=(list(df_radar_shuffled)[1:])\n",
    "\n",
    "data1 = df_radar_shuffled.loc[0].drop('Cluster').values.flatten().tolist()\n",
    "data2 = df_radar_shuffled.loc[1].drop('Cluster').values.flatten().tolist()\n",
    "data3 = df_radar_shuffled.loc[2].drop('Cluster').values.flatten().tolist()\n",
    "data4 = df_radar_shuffled.loc[3].drop('Cluster').values.flatten().tolist()\n",
    "\n",
    "\n",
    "# Create the figure and plot\n",
    "fig = go.Figure()\n",
    "fig.add_trace(go.Scatterpolar(r=data1, theta=categories, fill='toself', name='Cluster 7'))\n",
    "fig.add_trace(go.Scatterpolar(r=data2, theta=categories, fill='toself', name='Cluster 4'))\n",
    "fig.add_trace(go.Scatterpolar(r=data3, theta=categories, fill='toself', name='Cluster 10'))\n",
    "fig.add_trace(go.Scatterpolar(r=data4, theta=categories, fill='toself', name='Cluster 6'))\n",
    "\n",
    "# Customize the layout and show the plot\n",
    "fig.update_layout(\n",
    "    polar=go.layout.Polar(\n",
    "        radialaxis=go.layout.polar.RadialAxis(\n",
    "            visible=True,\n",
    "            range=[0, 0.6]\n",
    "        )\n",
    "    ),\n",
    "    showlegend=True,\n",
    "    width=800,\n",
    "    height=600,\n",
    "    title='Radar Plot for the different styles of beer per cluster',\n",
    "    paper_bgcolor = 'rgba(0,0,0,0)'\n",
    ")\n",
    "\n",
    "fig.write_html('../plots_html/radar_plot.html')\n",
    "fig.show()"
   ]
  }
 ],
 "metadata": {
  "kernelspec": {
   "display_name": "ada",
   "language": "python",
   "name": "python3"
  },
  "language_info": {
   "codemirror_mode": {
    "name": "ipython",
    "version": 3
   },
   "file_extension": ".py",
   "mimetype": "text/x-python",
   "name": "python",
   "nbconvert_exporter": "python",
   "pygments_lexer": "ipython3",
   "version": "3.9.13"
  },
  "orig_nbformat": 4,
  "vscode": {
   "interpreter": {
    "hash": "2ddbd0b842a978e03471eb3a4ae18fdd24eb8ad76bdab23b363108c4c8f6a59c"
   }
  }
 },
 "nbformat": 4,
 "nbformat_minor": 2
}
